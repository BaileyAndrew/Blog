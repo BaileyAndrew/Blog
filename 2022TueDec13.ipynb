{
 "cells": [
  {
   "cell_type": "markdown",
   "id": "4055fb8c-0d36-4c3f-8c5d-e6e4272c2080",
   "metadata": {},
   "source": [
    "Making a blog, inspired by Sam\n",
    "\n",
    "He showed me the Jekyll template, but I might want to see if I can manage it using JupyterLab as I do most of my work in that environment.\n",
    "\n",
    "I started searching for a JupyterLab method and found this post https://www.fast.ai/posts/2020-01-20-nb2md.html.  The blog points out that interactive widgets won't show up in the blog if done through Jupyter, which is unfortunate because I might like to make them.\n",
    "\n",
    "I had seen nbdev mentioned before, which is why I looked into it instead of the other suggestion fast_template.  I first created the conda environment for nbdev-able JupyterLab.  I keep my JupyterLab installations in their own environment separate from the kernel environments as I find that to be the most organized way of working with them.  My current JupyterLab environments are just a standard JupyterLab, an SOS Notebook (story for another time, but I recommend it if you work in multiple languages frequently), and now this.\n",
    "\n",
    "```bash\n",
    "conda create -n Jupyter-nbdev\n",
    "conda activate Jupyter-nbdev\n",
    "```\n",
    "\n",
    "Before installing packages I like to find out what are available.\n",
    "\n",
    "```bash\n",
    "conda search conda-forge::nbdev\n",
    "# Name                       Version           Build  Channel             \n",
    "nbdev                         2.2.10    pyhd8ed1ab_0  conda-forge  \n",
    "```\n",
    "\n",
    "Surprisingly there is only one version; typically there are more.  The official nbdev directions recommend installing from the fastai channel (`conda search fastai::nbdev`), which has multiple versions to choose from going up to 2.3.9.  I'm reluctant to use the fastai channel because I've had issues in the past with mixing channels - but, since I'm so early in the process I'll go for it.  Worst case scenario I'll kill this environment and start from scratch.\n",
    "\n",
    "I'll install it along with Python 3.9 - I chose 3.9 because in the past not every library I've wanted has been compatible with 3.10, but I haven't encountered any conflicts with 3.9 yet.  I don't really need its features so I could be more conservative if needed.\n",
    "\n",
    "```bash\n",
    "conda install conda-forge::python=3.9 fastai::nbdev=2.3.9\n",
    "```\n",
    "\n",
    "I've heard that installing packages together in one line is better; I've never really bothered before but I'll give it a try here.  I don't think I'll notice a difference with the limited installs we'll be doing today.\n",
    "\n",
    "I then remember I still need to install JupyterLab - so much for a one-liner.  I `conda search` it to determine the most recent version, and then install.  I like being explicit with my versioning, so that `conda env export --from-history` is more consistent across time.\n",
    "\n",
    "```bash\n",
    "conda install conda-forge::jupyterlab=3.5.1\n",
    "```\n",
    "\n",
    "Since I keep my JupyterLab and kernel environments separate, I create a new environment, exactly the same but without Jupyterlab.  According to the docs, nbdev needs to be installed in both.\n",
    "\n",
    "```bash\n",
    "# Inside (base) environment\n",
    "conda create -n Blog-nbdev\n",
    "conda activate Blog-nbdev\n",
    "conda install conda-forge::python=3.9 fastai::nbdev=2.3.9\n",
    "```\n",
    "\n",
    "I want to make Blog-nbdev findable as a kernel by Jupyter-nbdev.  I've done this before, and remember that it goes something like this (backed up by StackOverflow https://stackoverflow.com/questions/39604271/conda-environments-not-showing-up-in-jupyter-notebook):\n",
    "\n",
    "```bash\n",
    "# (Jupyter-nbdev)\n",
    "conda search conda-forge::nb_conda_kernels\n",
    "conda install conda-forge::nb_conda_kernels=2.3.1\n",
    "\n",
    "# (Blog-nbdev)\n",
    "conda search conda-forge::ipykernel\n",
    "conda install conda-forge::ipykernel=6.19.2\n",
    "```\n",
    "\n",
    "\n",
    "After that, I launch JupyterLab and get to work on a test example.\n",
    "\n",
    "```bash\n",
    "# (Jupyter-nbdev)\n",
    "jupyter lab\n",
    "```\n",
    "\n",
    "I make sure to set the kernel to `Python [conda env:Blog-nbdev]`, and then I paste these notes in it.\n"
   ]
  },
  {
   "cell_type": "markdown",
   "id": "e29b0dde-5c61-4865-bc98-fbb539911ea7",
   "metadata": {},
   "source": [
    "I continue on to read about how to use nbdev with GitHub: https://nbdev.fast.ai/tutorials/tutorial.html#first-steps.  While doing this, I found out how to customize terminal setup (will change, just showing it off b/c I never knew you could have tabs and rename them.)  It's convenient because I can have different tabs for each of the different threads of this project.\n",
    "\n",
    "<br>\n",
    "\n",
    "![](CustomizedTerminal.png)"
   ]
  },
  {
   "cell_type": "markdown",
   "id": "4aa3440c-f305-4faa-b6a6-984b08a512ed",
   "metadata": {},
   "source": [
    "I followed their instructions for setting up a GitHub repo,\n",
    "and then set up nbdev as follows:\n",
    "\n",
    "```bash\n",
    "# In the directory of my cloned github repo.\n",
    "conda activate Blog-nbdev\n",
    "nbdev_new\n",
    "```"
   ]
  }
 ],
 "metadata": {
  "kernelspec": {
   "display_name": "Python [conda env:Blog-nbdev]",
   "language": "python",
   "name": "conda-env-Blog-nbdev-py"
  },
  "language_info": {
   "codemirror_mode": {
    "name": "ipython",
    "version": 3
   },
   "file_extension": ".py",
   "mimetype": "text/x-python",
   "name": "python",
   "nbconvert_exporter": "python",
   "pygments_lexer": "ipython3",
   "version": "3.9.15"
  }
 },
 "nbformat": 4,
 "nbformat_minor": 5
}
