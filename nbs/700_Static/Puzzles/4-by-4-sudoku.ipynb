{
 "cells": [
  {
   "cell_type": "raw",
   "id": "9c8af367-860f-4b19-896e-8cb9bfa2d25b",
   "metadata": {},
   "source": [
    "---\n",
    "title: \"All the 4x4 Sudoku Puzzles\"\n",
    "description: \"Quite fun\"\n",
    "author: \"Bailey Andrew\"\n",
    "date: \"Apr 9 2023\"\n",
    "draft: false\n",
    "categories: [Fun]\n",
    "format:\n",
    "  html:\n",
    "    css:\n",
    "      - ../../html_scripts/collapse.css\n",
    "      - ../../html_scripts/pretty_shortcuts.css\n",
    "    include-after-body: \n",
    "      - ../../html_scripts/collapse.html\n",
    "      - ../../html_scripts/comments.html\n",
    "      - ../../html_scripts/make_header_sensible.html\n",
    "---"
   ]
  },
  {
   "cell_type": "markdown",
   "id": "0ba743dd-7397-425e-9de5-10ea8cdd01c1",
   "metadata": {},
   "source": [
    "# What is a sudoku?\n",
    "\n",
    "We can split a sudoku puzzle into three parts:\n",
    "\n",
    "1) The solution\n",
    "2) The clues\n",
    "3) The grid\n",
    "\n",
    "A solution to a 4x4 might look like:\n",
    "\n",
    "```\n",
    "12 34\n",
    "23 41\n",
    "\n",
    "34 12\n",
    "41 23\n",
    "```\n",
    "\n",
    "The clues are the subset of the solution that we are allowed to see.\n",
    "\n",
    "Finally, the grid is typically just a subdivision into 4 boxes covering 4 cells each.\n",
    "\n",
    "![The grid here is made up of two L and two Z shaped boxes.](./images/minimal-4x4-example.png)"
   ]
  },
  {
   "cell_type": "markdown",
   "id": "07c31681-eb39-4c49-9ad3-82a5c1a4bd3b",
   "metadata": {},
   "source": [
    "# How many 4x4 sudokus are there?"
   ]
  },
  {
   "cell_type": "markdown",
   "id": "08bdd547-e546-498d-a9ac-bb0b95b82e5c",
   "metadata": {},
   "source": [
    "## How many solutions are there?\n",
    "\n",
    "It's not difficult, but hella annoying, to work out that there are 12.  This corresponds to the following [OEIS sequence](https://oeis.org/A264603).  Ignoring the grid restrictions sudoku is just a \"Latin Square\" puzzle; fit the numbers 1 to n in an nxn square without having the same number twice in a column/row.  There are many possible 4x4 latin squares (576, to be precise).\n",
    "\n",
    "However, it doesn't really feel like rotating a latin square by 90° should produce a new latin square - the two squares are still essentially the same.  More precisely, we want to account for symmetry.  There are 4 types of symmetries that a latin square can have:\n",
    "\n",
    "1) <b style=\"color:#EB1960\">Rotational</b> (4 different types)\n",
    "2) <b style=\"color:#EB1960\">Reflectional</b> (2 different types)\n",
    "   *  It might feel like there are more, depending on your axis of reflection - but we can account for this using the rotations, so we really only need one axis of reflection\n",
    "3) <b style=\"color:#EB1960\">Permutational</b> (24 different types)\n",
    "   *  We could easily swap every occurance of 1 with 2 and vice versa, but the square is still \"the same\".  This is permutational symmetry, in which we change which numbers are which but not where they are.\n",
    "   *  (24 = 4!)\n",
    "4) <b style=\"color:#EB1960\">Row-permutational</b> (24 different types)\n",
    "   *  We can change the order of the rows without changing the latin square\n",
    "   *  Column permutations can be done using a rotation first\n",
    "   \n",
    "The first three symmetries all still apply when we add a grid, but the fourth one could destroy our grid by splitting one of our boxes into two disconnected components.  Typically we don't allow this, so I'm treating puzzles that are row-permutationally equivalent to be different.\n",
    "\n",
    "It turns out that there are only 4 different latin squares, accounting for all 4 symmetries - but when we ignore row-permutational symmetries, there are 12 different latin squares.  To my knowledge, these are not enumerated anywhere on the internet.\n",
    "\n",
    "![The 12 Sudokus](./images/12-sudoku.JPEG)\n",
    "\n",
    "In the above image, I wrote the solutions in a number-agnostic way to emphasize the permutation symmetry."
   ]
  },
  {
   "cell_type": "markdown",
   "id": "dc53f9e6-b65a-4a48-b0ae-73b8ec3bd7dd",
   "metadata": {},
   "source": [
    "## How many grids are there?"
   ]
  },
  {
   "cell_type": "markdown",
   "id": "c63f1758-c7a6-4f10-bd94-eaaeb4c8f6c1",
   "metadata": {},
   "source": [
    "A connected box made of 4 cells is called a \"tetromino\" (tetra=4, omino as in domino for the 2-cell case).  These are exactly the pieces that you use in tetris!  The question of how many grids there are can be rephrased as \"how many ways can a 4x4 square be decomposed into tetrominos\"?  For this, I refer the reader to [the mayhematics site](https://www.mayhematics.com/d/d4.htm) which has a nice writeup.  These are the grids:\n",
    "\n",
    "![The Grids](./images/4X4-grids.jpeg)\n",
    "\n",
    "Unlike the solutions, we do need to take into account symmetric versions of the grids - this is because we want to combine solutions and grids, so we need to combine them in all orientations.  We could have instead done this with the solutions, and only considered the 22 fundamental grids.  Instead we have 117 grids, although I won't write them all out."
   ]
  },
  {
   "cell_type": "markdown",
   "id": "1bb1b149-890e-49b4-a339-a2fe3e3e8d9b",
   "metadata": {},
   "source": [
    "## How many solution-grid pairs are there?"
   ]
  },
  {
   "cell_type": "markdown",
   "id": "b8ef0d81-890a-4766-bfeb-b2b97284eef8",
   "metadata": {},
   "source": [
    "This gives us 12 * 117 = 1404 possible pairs...  except that not every grid is compatible with every solution.  The first solution I gave is incompatible with the first grid, for example.  \n",
    "\n",
    "TO BE CONTINUED"
   ]
  },
  {
   "cell_type": "markdown",
   "id": "db798e92-9f3f-4e11-b95a-72d8a46cb188",
   "metadata": {},
   "source": [
    "# What is the minimal amount of clues for each solution/grid pair?"
   ]
  },
  {
   "cell_type": "markdown",
   "id": "6c073901-9322-4853-97ab-3b2dcfa85614",
   "metadata": {},
   "source": [
    "This problem has a few related problems:\n",
    "\n",
    "* For a given solution, what is the minimal amount of clues needed among **all** possible grids\n",
    "  *  Likewise, what is the minimal amount of clues needed for **some** grid with that solution\n",
    "* For a given grid, what is the minimal amount of clues needed among **all** possible solutions\n",
    "  *  Likewise, what is the minimal amount of clues needed for **some** solution on that grid\n",
    "  \n",
    "For the standard grid, it is known that there exists a solution where 4 clues is minimal.  It is not too hard to construct a grid such that there exists a solution where 3 clues is minimal:\n",
    "\n",
    "![Ignore the red square - I forgot to move my cursor when screenshotting 🤷‍♂️ ](./images/minimal-4x4-example.png)\n",
    "\n",
    "[Penpa Link](https://tinyurl.com/29v7eko9)\n",
    "\n",
    "In fact no puzzle could ever require less than three clues, due to permutation symmetry (if two of the numbers are unspecified, for example 1 and 2, then there is nothing in the clues that fixes which one is which - you could swap them and still have a valid solution to the clues on the grid).\n",
    "\n",
    "<details>\n",
    "    <summary><b style=\"color:#A6A440\">Generalizing to nxn</b></summary>\n",
    "    \n",
    "In general, for an nxn sudoku with n symbols to place, there is never a puzzle (with a unique solution) that gives only n-2 clues.  Less trivially, but still not too hard to see, is that there is always a puzzle that requires only n-1 clues.\n",
    "    \n",
    "![The pattern to generalize with should be obvious](./images/minimal-generalized.png)\n",
    "    \n",
    "[Penpa Link](https://tinyurl.com/286yqwnz)\n",
    "    \n",
    "</details>"
   ]
  }
 ],
 "metadata": {
  "citation-manager": {
   "items": {}
  },
  "kernelspec": {
   "display_name": "Python [conda env:Blog-nbdev]",
   "language": "python",
   "name": "conda-env-Blog-nbdev-py"
  },
  "language_info": {
   "codemirror_mode": {
    "name": "ipython",
    "version": 3
   },
   "file_extension": ".py",
   "mimetype": "text/x-python",
   "name": "python",
   "nbconvert_exporter": "python",
   "pygments_lexer": "ipython3",
   "version": "3.9.15"
  }
 },
 "nbformat": 4,
 "nbformat_minor": 5
}
