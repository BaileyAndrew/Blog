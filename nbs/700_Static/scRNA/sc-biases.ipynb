{
 "cells": [
  {
   "cell_type": "raw",
   "id": "7dc04647-b4e7-473c-b131-b4c40653265f",
   "metadata": {},
   "source": [
    "---\n",
    "title: \"An Eventually Comprehensive Guide to Single-Cell Biases\"\n",
    "description: \"Eternally in progress.\"\n",
    "author: \"Bailey Andrew\"\n",
    "date: \"Jan 21 2023\"\n",
    "draft: false\n",
    "categories: [Work, Omics, Useful, In Progress]\n",
    "format:\n",
    "  html:\n",
    "    css:\n",
    "      - ../../html_scripts/collapse.css\n",
    "      - ../../html_scripts/pretty_shortcuts.css\n",
    "    include-after-body: \n",
    "      - ../../html_scripts/collapse.html\n",
    "      - ../../html_scripts/comments.html\n",
    "      - ../../html_scripts/make_header_sensible.html\n",
    "---"
   ]
  },
  {
   "cell_type": "markdown",
   "id": "f3ce343a-1b90-4f1e-83c6-75d589d63229",
   "metadata": {},
   "source": [
    "This guide is in progress but will hopefully end up being a fully comprehensive guide to all the biases encountered by the different protocols of scRNA-seq data (with perhaps room to increase scope to all sc-omics data).\n",
    "\n",
    "But that's in the future - for now, this is empty!"
   ]
  }
 ],
 "metadata": {
  "kernelspec": {
   "display_name": "Python [conda env:Blog-nbdev]",
   "language": "python",
   "name": "conda-env-Blog-nbdev-py"
  }
 },
 "nbformat": 4,
 "nbformat_minor": 5
}
