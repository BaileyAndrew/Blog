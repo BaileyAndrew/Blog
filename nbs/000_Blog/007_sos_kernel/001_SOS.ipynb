{
 "cells": [
  {
   "cell_type": "raw",
   "id": "ca571e4d-2460-4cea-902c-bed9549a6561",
   "metadata": {},
   "source": [
    "---\n",
    "title: \"Setting up an SOS Kernel with Quarto\"\n",
    "description: \"To run multiple languages in the same notebook\"\n",
    "author: \"Bailey Andrew\"\n",
    "date: \"Jan 9 2023\"\n",
    "draft: true\n",
    "categories: [Work, Useful, In Progress]\n",
    "format:\n",
    "  html:\n",
    "    css:\n",
    "      - ../../html_scripts/collapse.css\n",
    "      - ../../html_scripts/pretty_shortcuts.css\n",
    "    include-after-body: \n",
    "      - ../../html_scripts/collapse.html\n",
    "      - ../../html_scripts/comments.html\n",
    "---"
   ]
  },
  {
   "cell_type": "markdown",
   "id": "43383633-2677-4439-bce6-d2cb18914ad7",
   "metadata": {},
   "source": [
    "```\n",
    "# Create environment to host the kernel\n",
    "conda create -n nbdev-SOS\n",
    "conda activate\n",
    "\n",
    "# Install SOS-related packages\n",
    "conda install conda-forge::sos=0.23.4\n",
    "conda install conda-forge::sos-notebook=0.23.4\n",
    "\n",
    "# Make sure Jupyter can handle them,\n",
    "# the second one specifically is to silence an error about\n",
    "# it being missing.\n",
    "conda install conda-forge::jupyterlab=3.5.2\n",
    "conda install conda-forge::jupyter_contrib_core=0.4.0\n",
    "\n",
    "# Install the kernel\n",
    "python -m sos_notebook.install\n",
    "```"
   ]
  },
  {
   "cell_type": "code",
   "execution_count": null,
   "id": "08e672d7-0b0f-4b65-bb4c-8c650b994603",
   "metadata": {},
   "outputs": [
    {
     "ename": "ERROR",
     "evalue": "Error in parse(text = x, srcfile = src): <text>:2:1: unexpected input\n1: #%use 'R 4.2.1 - JupyterWithR' --language R\n2: %use 'SOS [conda env:nbdev-SOS]'\n   ^\n",
     "output_type": "error",
     "traceback": [
      "Error in parse(text = x, srcfile = src): <text>:2:1: unexpected input\n1: #%use 'R 4.2.1 - JupyterWithR' --language R\n2: %use 'SOS [conda env:nbdev-SOS]'\n   ^\nTraceback:\n"
     ]
    }
   ],
   "source": [
    "#%use 'R 4.2.1 - JupyterWithR' --language R\n",
    "%use 'SOS [conda env:nbdev-SOS]'\n",
    "print(\"Hi\")"
   ]
  },
  {
   "cell_type": "code",
   "execution_count": null,
   "id": "dfd807ff-1378-428c-854f-db63f37f059a",
   "metadata": {},
   "outputs": [],
   "source": [
    "%load_ext rpy2.ipython"
   ]
  },
  {
   "cell_type": "code",
   "execution_count": null,
   "id": "0c7ce996-59c5-4f6f-ab5e-1948adb236db",
   "metadata": {},
   "outputs": [
    {
     "name": "stdout",
     "output_type": "stream",
     "text": [
      "[1] 1 2\n"
     ]
    }
   ],
   "source": [
    "%%R\n",
    "print(c(1, 2))"
   ]
  }
 ],
 "metadata": {
  "kernelspec": {
   "display_name": "Python [conda env:Blog-nbdev]",
   "language": "python",
   "name": "conda-env-Blog-nbdev-py"
  }
 },
 "nbformat": 4,
 "nbformat_minor": 5
}
