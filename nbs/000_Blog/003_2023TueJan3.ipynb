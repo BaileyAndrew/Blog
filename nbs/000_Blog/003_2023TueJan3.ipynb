{
 "cells": [
  {
   "cell_type": "raw",
   "id": "fe4f01f6-db2c-4f13-b7e7-d442d09e75a7",
   "metadata": {},
   "source": [
    "---\n",
    "title: \"Conferences\"\n",
    "description: \"Which are coming up?\"\n",
    "author: \"Bailey Andrew\"\n",
    "date: \"Jan 3 2023\"\n",
    "draft: false\n",
    "---"
   ]
  },
  {
   "cell_type": "markdown",
   "id": "b75697ad-fe53-4015-997c-bf130439e7ca",
   "metadata": {},
   "source": [
    "# Conferences"
   ]
  },
  {
   "cell_type": "markdown",
   "id": "5899611a-b57c-493a-b183-b8ce27ffa534",
   "metadata": {},
   "source": [
    "I recently had to do some research for conferences in my field (thesis title \"Zero Inflation in scRNA-seq Data\").  Here are the results."
   ]
  },
  {
   "cell_type": "markdown",
   "id": "b8a313d6-7983-40d8-a793-7ca00de5838c",
   "metadata": {},
   "source": [
    "My first search method was to blindly google for conferences.  It gave some results, listed as follows."
   ]
  },
  {
   "cell_type": "markdown",
   "id": "9993b4f2-4968-4360-9491-bd63b2008d6e",
   "metadata": {},
   "source": [
    "## General AI Conferences\n",
    "\n",
    "Could maybe sprint for ICML with its Jan 26 deadline, otherwise the deadlines have either already passed or are extremely imminent."
   ]
  },
  {
   "cell_type": "markdown",
   "id": "bf54b931-fd94-4fcd-9d6d-b8dbdbb1ee57",
   "metadata": {},
   "source": [
    "### NeurIPS\n",
    "\n",
    "*  Should occur sometime late 2023 (last year was late November & early December)\n",
    "*  Deadlines not released, but last year was in May I think for the main conference\n",
    "*  <strong style=\"color:#EB1960\">Has proceedings</strong>"
   ]
  },
  {
   "cell_type": "markdown",
   "id": "41b725c8-1312-4123-8575-7acd88bfeadb",
   "metadata": {},
   "source": [
    "### ICML\n",
    "\n",
    "*  Jan 26 deadline for papers\n",
    "*  Workshops won't be decided until Mar 16.\n",
    "*  First day of conference is Jul 23 in Honolulu\n",
    "*  <strong style=\"color: #EB1960\">Has proceedings</strong> (PMLR)\n",
    "*  Topics of conference (bold highlights are directly relevant to my work) \n",
    "   *  General Machine Learning (active learning, clustering, online learning, ranking, reinforcement learning, supervised, semi- and self-supervised learning, time series analysis, etc.)\n",
    "   *  Deep Learning (architectures, generative models, deep reinforcement learning, etc.)\n",
    "   *  Learning Theory (bandits, game theory, statistical learning theory, etc.)\n",
    "   *  Optimization (convex and non-convex optimization, matrix/tensor methods, stochastic, online, non-smooth, composite, etc.)\n",
    "   *  Probabilistic Inference (Bayesian methods, <strong style=\"color: #EB1960;\">graphical models</strong>}, Monte Carlo methods, etc.)\n",
    "   *  Trustworthy Machine Learning (accountability, causality, fairness, privacy, robustness, etc.)\n",
    "   *  Applications (<strong style=\"color: #EB1960\">computational biology</strong>, crowdsourcing, <strong style=\"color: #EB1960\">healthcare</strong>, neuroscience, social good, climate science, etc.)\n",
    "   "
   ]
  },
  {
   "cell_type": "markdown",
   "id": "1924a48f-409a-4a3c-85c6-691d163da884",
   "metadata": {},
   "source": [
    "### AAAI\n",
    "\n",
    "*  Deadline was Aug 8\n",
    "*  Workshops are released, below are ones relevant to me\n",
    "   *  W18: Graphs and More Complex Structures for Learning and Reasoning (GCLR)\n",
    "      *  Deadline was Oct 28\n",
    "   *  W19: Health Intelligence (W3PHIAI-23)\n",
    "      *  Deadline was Nov 15\n",
    "*  First day on Feb 7 in Washington DC\n",
    "*  <strong style=\"color: #EB1960\">Has proceedings</strong> (AAAI Digital Library)"
   ]
  },
  {
   "cell_type": "markdown",
   "id": "89b3934e-82fd-4fe2-97cc-8dfae434c9f3",
   "metadata": {},
   "source": [
    "### ICLR\n",
    "\n",
    "*  Deadline was Sep 28\n",
    "*  Has workshops\n",
    "   *  AI for Public Health\n",
    "      *  <strong style=\"color: #EB1960\">Deadline Mar 3</strong>\n",
    "*  First day on May 1 in Kigali (I really want to go 😢 )\n",
    "*  Relevant topics (does not seem relevant to me at the moment)\n",
    "   *  unsupervised, semi-supervised, and supervised representation learning\n",
    "   *  representation learning for planning and reinforcement learning\n",
    "   *  representation learning for computer vision and natural language processing\n",
    "   *  metric learning and kernel learning\n",
    "   *  sparse coding and dimensionality expansion\n",
    "   *  hierarchical models\n",
    "   *  optimization for representation learning\n",
    "   *  learning representations of outputs or states\n",
    "   *  optimal transport\n",
    "   *  theoretical issues in deep learning\n",
    "   *  societal considerations of representation learning including fairness, safety, privacy, and interpretability, and explainability\n",
    "   *  visualization or interpretation of learned representations\n",
    "   *  implementation issues, parallelization, software platforms, hardware\n",
    "   *  climate, sustainability\n",
    "   *  applications in audio, speech, robotics, neuroscience,  biology, or any other field\n",
    "*  <strong style=\"color: #EB1960\">Has proceedings</strong> (OpenReview)"
   ]
  },
  {
   "cell_type": "markdown",
   "id": "c7f4053b-ac3d-4a00-adeb-e48cd53c8693",
   "metadata": {},
   "source": [
    "### IJCAI (International Joint Conferences on Artificial Intelligence)\n",
    "\n",
    "*  Deadline is Jan 16\n",
    "*  Workshops not decided till Mar 6\n",
    "*  First day on Aug 19 in Cape Town\n",
    "*  Relevant topics\n",
    "   *  Submissions to IJCAI 2023 should report on significant, original, and previously unpublished results on <strong style=\"color:#EB1960\">any aspect of artificial intelligence</strong>.\n",
    "*  <strong style=\"color:#EB1960\">Has proceedings</strong>"
   ]
  },
  {
   "cell_type": "markdown",
   "id": "b63ce8a0-7584-4d77-91eb-f774b9349680",
   "metadata": {},
   "source": [
    "## Specialized AI Conferences"
   ]
  },
  {
   "cell_type": "markdown",
   "id": "9763d170-db82-4655-83b2-262c74aa2d4f",
   "metadata": {},
   "source": [
    "### International Conference on Probabilistic Graphical Models\n",
    "\n",
    "*  Website not updated for this year, but last year the deadline was June 3 and the conference started on Oct 5.\n",
    "*  Apparently doesn't take place until 2024!"
   ]
  },
  {
   "cell_type": "markdown",
   "id": "3ac25ad4-3e9a-4f74-a3ea-fbfce7b80d4c",
   "metadata": {},
   "source": [
    "## Bioinformatics Conferences"
   ]
  },
  {
   "cell_type": "markdown",
   "id": "94ba32e2-2d7a-419f-9f35-0fae2b0cb1ce",
   "metadata": {},
   "source": [
    "### World Academy of Science, Engineering, and Technology\n",
    "\n",
    "This is a <strong style=\"color:#EB1960\">predatory publisher</strong>."
   ]
  },
  {
   "cell_type": "markdown",
   "id": "5eacf637-3d68-4567-bc3d-c3a2bc01c689",
   "metadata": {},
   "source": [
    "#### International Conference on Gene Networks and Bioinformatics\n",
    "*  <strong style=\"color:#EB1960\">Proceedings exist but are not guaranteed</strong>\n",
    "*  Jan 23rd in London\n",
    "*  Deadline was Dec 21\n",
    "*  <strong style=\"color:#EB1960\">This conference is really weird.</strong>  I can read a list of selected papers, and none of them are about bioinformatics.  In fact, 3/15 are about \"Fighter Aircraft Selection\" and a fourth is about \"Military Attack Helicopter Selection\" and they're all by the same person????\n",
    "*  [Link to page](https://waset.org/gene-networks-and-bioinformatics-conference-in-january-2023-in-london)"
   ]
  },
  {
   "cell_type": "markdown",
   "id": "23c55c65-6979-41c8-848f-c1727fa6393f",
   "metadata": {},
   "source": [
    "In general, [the World Academy of Science, Engineering, and Technology](https://conferenceindex.org/conferences/bioinformatics/united-kingdom) lists lots of them.  Their deadlines are all mid-month the month before the conference, except for the ones in April whose deadlines passed in December for some reason...\n",
    "\n",
    "Many of them happen multiple times per year.  Would not be to hard to fit in with basically all the topics.\n",
    "\n",
    "<strong style=\"color:#EB1960\">They all have proceedings.</strong>"
   ]
  },
  {
   "cell_type": "markdown",
   "id": "fff3fffc-6e84-4b40-b1f2-9dac8b1961b5",
   "metadata": {},
   "source": [
    "### IEEE BIBM (Bioinformatics and Biomedicine)\n",
    "\n",
    "*  Deadline was Aug, conference was Dec\n",
    "*  Might not be active this year?  Doesn't occur every year, doesn't seem to have a regular pattern, is frequent so there is a good chance though.\n",
    "*  <strong style=\"color:#EB1960\">Conference has proceedings</strong>"
   ]
  },
  {
   "cell_type": "markdown",
   "id": "a97851ea-7c16-4ef7-bd25-c32b80e483e3",
   "metadata": {},
   "source": [
    "### IEEE ICHI (International Conference on Healthcare Informatics)\n",
    "\n",
    "*  Deadline was in Jan with conference in June, but it doesn't seem to be active this year."
   ]
  },
  {
   "cell_type": "markdown",
   "id": "100847b2-2b6e-4561-8ccf-3d4d3d2cd652",
   "metadata": {},
   "source": [
    "### IEEE ICBCB (International Conference on Bioinformatics and Computational Biology)\n",
    "\n",
    "*  Jan 20 deadline\n",
    "*  Starts on Apr 21\n",
    "*  In Hangzhou\n",
    "*  <strong style=\"color:#EB1960\">There are proceedings</strong>\n",
    "*  Topics of interest:\n",
    "   *  <strong style=\"color:#EB1960\">Bioinformatics</strong>\n",
    "   *  Computational Biology\n",
    "   *  Big Data Analytics in Bioinformatics\n",
    "   *  Robustness and Reproducibility in Bioinformatics\n",
    "   *  Bio-Ontology & Data Mining\n",
    "   *  <strong style=\"color:#EB1960\">Genes and their Regulation</strong>\n",
    "   *  Big Data Analytics in <strong style=\"color:#EB1960\">Healthcare</strong>"
   ]
  },
  {
   "cell_type": "markdown",
   "id": "5e92b670-7c3a-4494-b75d-9ce3091707a6",
   "metadata": {},
   "source": [
    "# Second Search Strategy - WikiCFP"
   ]
  },
  {
   "cell_type": "markdown",
   "id": "b2dcde13-32ef-4726-b4b2-17e372fe4495",
   "metadata": {},
   "source": [
    "I found a useful website, [Wiki Call for Papers](http://www.wikicfp.com/cfp/home).  It is a very thorough database of a large amount of conferences, and you can create an account with it to get automatic notifications of new call for papers (cfps)."
   ]
  }
 ],
 "metadata": {
  "kernelspec": {
   "display_name": "Python [conda env:Blog-nbdev]",
   "language": "python",
   "name": "conda-env-Blog-nbdev-py"
  }
 },
 "nbformat": 4,
 "nbformat_minor": 5
}
