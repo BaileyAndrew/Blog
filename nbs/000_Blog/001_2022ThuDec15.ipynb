{
 "cells": [
  {
   "cell_type": "markdown",
   "id": "649e0c56-f609-4bb7-9ef0-98a8d8eff27f",
   "metadata": {},
   "source": [
    "---\n",
    "title: \"How to add comments to your blog\"\n",
    "description: \"P\"\n",
    "author: \"Bailey Andrew\"\n",
    "date: \"Dec 15 2022\"\n",
    "draft: false\n",
    "---"
   ]
  },
  {
   "cell_type": "markdown",
   "id": "80e00158-be4f-471c-b014-d7d6a6fa7a46",
   "metadata": {},
   "source": [
    "# How to add comments to your blog"
   ]
  },
  {
   "cell_type": "markdown",
   "id": "44cf3483-40de-4f81-affa-cf90616476ce",
   "metadata": {},
   "source": [
    "Use [giscus](https://giscus.app).  When you try to add it to your blog following the instructions in the link, you should immediately get the following error:\n",
    "\n",
    "![The Error](../images/giscus.png)"
   ]
  },
  {
   "cell_type": "markdown",
   "id": "ab97385b-d2f2-42df-a50d-d337c11e6ac1",
   "metadata": {},
   "source": [
    "The first issue is that you probably don't have `giscus` installed.  [Install it.](https://github.com/apps/giscus)\n",
    "\n",
    "![Install it.](../images/giscus-thang.png)"
   ]
  },
  {
   "cell_type": "markdown",
   "id": "3c16bc47-bdad-40a2-a273-5b18d04ff9b7",
   "metadata": {},
   "source": [
    "The second issue is that your repo probably doesn't have discussions enabled.  Go to your repo's settings, then scroll down a bit until you see a checkmark for discussions.  Click it.\n",
    "\n",
    "![The checkmark](../images/discussions.png)"
   ]
  },
  {
   "cell_type": "markdown",
   "id": "78fa2703-1196-4278-9edd-b190a61db018",
   "metadata": {},
   "source": [
    "After that, it should work:\n",
    "\n",
    "![Yay.](../images/giscus-success.png)"
   ]
  },
  {
   "cell_type": "markdown",
   "id": "0d20bb19-4e1d-4bad-ba2d-7b73b17c28b3",
   "metadata": {},
   "source": [
    "Then go through the rest of the page and select the options you want.  It should auto-generate some html for you; mine looks like this:\n",
    "\n",
    "```html\n",
    "<script src=\"https://giscus.app/client.js\"\n",
    "        data-repo=\"baileyandrew/blog\"\n",
    "        data-repo-id=\"R_kgDOInJwKg\"\n",
    "        data-category=\"Announcements\"\n",
    "        data-category-id=\"DIC_kwDOInJwKs4CTGOQ\"\n",
    "        data-mapping=\"title\"\n",
    "        data-strict=\"0\"\n",
    "        data-reactions-enabled=\"1\"\n",
    "        data-emit-metadata=\"0\"\n",
    "        data-input-position=\"top\"\n",
    "        data-theme=\"dark_protanopia\"\n",
    "        data-lang=\"en\"\n",
    "        data-loading=\"lazy\"\n",
    "        crossorigin=\"anonymous\"\n",
    "        async>\n",
    "</script>\n",
    "```\n",
    "\n",
    "You can just put it in a markdown code cell in your blog at the end, and it will appear magically when pushed!"
   ]
  },
  {
   "cell_type": "markdown",
   "id": "0065d310-c7f7-4b74-8a64-eed54ccc2635",
   "metadata": {},
   "source": [
    "<script src=\"https://giscus.app/client.js\"\n",
    "        data-repo=\"baileyandrew/blog\"\n",
    "        data-repo-id=\"R_kgDOInJwKg\"\n",
    "        data-category=\"Announcements\"\n",
    "        data-category-id=\"DIC_kwDOInJwKs4CTGOQ\"\n",
    "        data-mapping=\"title\"\n",
    "        data-strict=\"0\"\n",
    "        data-reactions-enabled=\"1\"\n",
    "        data-emit-metadata=\"0\"\n",
    "        data-input-position=\"top\"\n",
    "        data-theme=\"dark_protanopia\"\n",
    "        data-lang=\"en\"\n",
    "        data-loading=\"lazy\"\n",
    "        crossorigin=\"anonymous\"\n",
    "        async>\n",
    "</script>"
   ]
  }
 ],
 "metadata": {
  "kernelspec": {
   "display_name": "Python [conda env:Blog-nbdev]",
   "language": "python",
   "name": "conda-env-Blog-nbdev-py"
  }
 },
 "nbformat": 4,
 "nbformat_minor": 5
}
