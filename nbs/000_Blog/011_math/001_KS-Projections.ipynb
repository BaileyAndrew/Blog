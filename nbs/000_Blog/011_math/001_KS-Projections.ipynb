{
 "cells": [
  {
   "cell_type": "raw",
   "id": "e4333b46-756f-4dc5-87ff-fcb1769bd255",
   "metadata": {},
   "source": [
    "---\n",
    "title: \"Kronecker Sum Projections\"\n",
    "description: \"Stride Tricks are Cool!\"\n",
    "author: \"Bailey Andrew\"\n",
    "date: \"Jan 30 2023\"\n",
    "draft: false\n",
    "categories: [Work, Useful, Vroomy Code]\n",
    "bibliography: bibliography.bib\n",
    "format:\n",
    "  html:\n",
    "    css:\n",
    "      - ../../html_scripts/collapse.css\n",
    "      - ../../html_scripts/pretty_shortcuts.css\n",
    "    include-after-body: \n",
    "      - ../../html_scripts/collapse.html\n",
    "      - ../../html_scripts/comments.html\n",
    "      - ../../html_scripts/make_header_sensible.html\n",
    "---"
   ]
  },
  {
   "cell_type": "markdown",
   "id": "afa8de1b-53a6-4060-b12f-3ff12be669e3",
   "metadata": {},
   "source": [
    "# Summary"
   ]
  },
  {
   "cell_type": "markdown",
   "id": "90ec685c-7255-4268-9c01-4879824062aa",
   "metadata": {},
   "source": [
    "In my work I have to deal with <b style=\"color:#A6A440\">Kronecker Sums</b> a lot; these are ultimately built out of <b style=\"color:#A6A440\">Kronecker Products</b>, which are represented by $\\otimes$ work like this:\n",
    "\n",
    "![Two ways of thinking about <b style=\"color:#A6A440\">Kronecker Products</b>](./images/block-and-stride.jpeg)"
   ]
  },
  {
   "cell_type": "markdown",
   "id": "873cde6d-214e-451d-a899-d92b07ab4429",
   "metadata": {},
   "source": [
    "<b style=\"color:#A6A440\">Kronecker Sums</b> are represented by $\\oplus$ and are defined as $A \\oplus B = A \\otimes I + I \\otimes B$.  They have a convenient property that allows us to factor out eigenvectors: $A \\oplus B = \\left(V_A \\otimes V_B\\right)\\left(\\Lambda_A \\oplus \\Lambda_B\\right)\\left(V_A^T \\otimes V_B^T\\right)$, which means that for most things I only need to consider the <b style=\"color:#A6A440\">Kronecker Sum</b> of diagonal matrices."
   ]
  },
  {
   "cell_type": "markdown",
   "id": "f30368fc-0928-46be-b345-d9f5d876f1c8",
   "metadata": {},
   "source": [
    "In my work I have two coding problems related to this task:\n",
    "\n",
    "1) Finding a fast algorithm for the <b style=\"color:#A6A440\">Kronecker Sum</b> of many diagonal matrices\n",
    "2) Finding a fast algorithm to <b style=\"color:#537FBF\">KS-decompose</b> a diagonal matrix\n",
    "\n",
    "By <b style=\"color:#537FBF\">KS-decompose</b>, I mean to represent a matrix as a <b style=\"color:#A6A440\">Kronecker Sum</b> of other matrices of a given size.  Most matrices are not perfectly <b style=\"color:#537FBF\">KS-decomposable</b>; specifically we want the decomposition that minimizes the <b style=\"color:#EB1960\">Frobenius Distance</b> between the original matrix and the proposed decomposition.  We won't go over the specifics of <b style=\"color:#EB1960\">Frobenius Distance</b>, but it's basically the matrix analog for the <b style=\"color:#EB1960\">Euclidean Distance</b> between vectors."
   ]
  },
  {
   "cell_type": "markdown",
   "id": "4a8e1fec-77e0-478f-88f2-a4fe3b8bf545",
   "metadata": {},
   "source": [
    "@TeraLasso have already given an analytic formula for the <b style=\"color:#537FBF\">KS-decomposition</b>, which we'll use later.  But we'll tackle the <b style=\"color:#A6A440\">Kronecker Sum</b> algorithm first."
   ]
  },
  {
   "cell_type": "markdown",
   "id": "f2c5e120-7869-4482-9d88-0b471bd5e578",
   "metadata": {},
   "source": [
    "# Fast Diagonal <b style=\"color:#A6A440\">Kronecker Sum</b>"
   ]
  },
  {
   "cell_type": "code",
   "execution_count": null,
   "id": "fda672a1-5816-4f34-a9e4-4096d8594120",
   "metadata": {},
   "outputs": [],
   "source": [
    "import numpy as np\n",
    "%load_ext line_profiler"
   ]
  },
  {
   "cell_type": "markdown",
   "id": "dac1dcc7-b24a-4647-96ab-cdbc496d9566",
   "metadata": {},
   "source": [
    "There is a function `scipy.sparse.kronsum` which may be useful, but I've had problems with the `sparse` library in the past so I'll wait until its a bit more mature before I'll consider relying on it.  Furthermore, it probably won't be very useful for diagonal <b style=\"color:#A6A440\">Kronecker Sums</b> because it will have been built for a whole <b style=\"color:#A6A440\">Kronecker Sum</b>.\n",
    "\n",
    "By the way, here's how you would do a whole <b style=\"color:#A6A440\">Kronecker Sum</b>:"
   ]
  },
  {
   "cell_type": "code",
   "execution_count": null,
   "id": "395821c6-744a-4fe6-b507-c6b5f051a535",
   "metadata": {},
   "outputs": [],
   "source": [
    "def kron_sum_base_case(\n",
    "    A: \"A 2-dimensional square numpy array of any size\",\n",
    "    B: \"A 2-dimensional square numpy array of any size\"\n",
    ") -> \"kronsum(A, B)\":\n",
    "    \"\"\"\n",
    "    Computes the kronsum of two square input matrices\n",
    "    \"\"\"\n",
    "    a, _ = A.shape\n",
    "    b, _ = B.shape\n",
    "    return np.kron(A, np.eye(b)) + np.kron(np.eye(a), B)\n",
    "\n",
    "def kron_sum(\n",
    "    *mats: \"Sequence of 2-dimensional square numpy arrays of any size\"\n",
    ") -> \"kronsum(mats[0], ..., mats[-1])\":\n",
    "    \"\"\"\n",
    "    Computes the kronsum of multiple matrices,\n",
    "    recursively by relying on `kron_sum_base_case`\n",
    "    for the 2-matrix case\n",
    "    \"\"\"\n",
    "    K = len(mats)\n",
    "    if K == 0:\n",
    "        raise Exception(\"Can't kronsum nothing!\")\n",
    "    if K == 1:\n",
    "        return mats[0]\n",
    "    if K == 2:\n",
    "        return kron_sum_base_case(mats[0], mats[1])\n",
    "    return kron_sum(\n",
    "        kron_sum_base_case(mats[0], mats[1]),\n",
    "        *mats[2:]\n",
    "    )"
   ]
  },
  {
   "cell_type": "markdown",
   "id": "d1ba3297-c251-4ce4-8c7a-57ea3aa2d742",
   "metadata": {},
   "source": [
    "Of course, for diagonal matrices we can do better by observing the pattern of repetitions of the diagonal elements.\n",
    "\n",
    "![There is a pattern: it is the sum of repetitions in blocks and repetitions in strides](./images/ks-example.jpeg)\n",
    "\n",
    "We can incorporate this into our code:"
   ]
  },
  {
   "cell_type": "code",
   "execution_count": null,
   "id": "148de210-dd81-4453-b5ea-c6a2bb1415ef",
   "metadata": {},
   "outputs": [],
   "source": [
    "def kron_sum_diag_base_case(\n",
    "    a: \"NumPy vector of shape (m,)\",\n",
    "    b: \"NumPy vector of shape (n,)\"\n",
    ") -> \"NumPy vector of shape (mn,)\":\n",
    "    \"\"\"\n",
    "    Computes the diagonal of the kronecker sum of two diagonal matrixes,\n",
    "    given as input the diagonals of the two input matrices\n",
    "    \"\"\"\n",
    "    m, = a.shape\n",
    "    n, = b.shape\n",
    "    \n",
    "    # Result is sum of [a1 ... a1 a2 ... a2 ... am ... am]\n",
    "    # and [b1 b2 ... bn b1 b2 ... bn ... b1 b2 ... bn]\n",
    "    # So we can use `repeat` and `tile` to accomplish this!\n",
    "    A = np.repeat(a, (n,))\n",
    "    B = np.tile(b, (m,))\n",
    "    return (A + B)\n",
    "\n",
    "def kron_sum_diag(\n",
    "    *vecs: \"Sequence of NumPy vectors representing array diagonals\"\n",
    ") -> \"diag(kronsum(diag(vecs[0]), ..., diag(vecs[-1])))\":\n",
    "    \"\"\"\n",
    "    Computes the kronsum of multiple vectors,\n",
    "    recursively by relying on `kron_sum_diag_base_case`\n",
    "    for the 2-vector case\n",
    "    \"\"\"\n",
    "    K = len(vecs)\n",
    "    if K == 0:\n",
    "        raise Exception(\"Can't kronsum nothing!\")\n",
    "    if K == 1:\n",
    "        return vecs[0]\n",
    "    if K == 2:\n",
    "        return kron_sum_diag_base_case(vecs[0], vecs[1])\n",
    "    return kron_sum_diag(\n",
    "        kron_sum_diag_base_case(vecs[0], vecs[1]),\n",
    "        *vecs[2:]\n",
    "    )"
   ]
  },
  {
   "cell_type": "markdown",
   "id": "93088971-9754-4219-ba7c-d3d60efd5bbf",
   "metadata": {},
   "source": [
    "Let's compare them using `line_profiler`: it only runs the code once so in theory it shouldn't be used for rigorous comparisons, but the difference should be clear between the two and the output is so much more informative:"
   ]
  },
  {
   "cell_type": "code",
   "execution_count": null,
   "id": "db563c8d-1e06-446d-99ff-8de8310a3332",
   "metadata": {},
   "outputs": [
    {
     "data": {
      "text/plain": [
       "Timer unit: 1e-06 s\n",
       "\n",
       "Total time: 0.020624 s\n",
       "File: /var/folders/k0/qy74mdx10qs493700g929k5h0000gn/T/ipykernel_36281/668194435.py\n",
       "Function: kron_sum_base_case at line 1\n",
       "\n",
       "Line #      Hits         Time  Per Hit   % Time  Line Contents\n",
       "==============================================================\n",
       "     1                                           def kron_sum_base_case(\n",
       "     2                                               A: \"A 2-dimensional square numpy array of any size\",\n",
       "     3                                               B: \"A 2-dimensional square numpy array of any size\"\n",
       "     4                                           ) -> \"kronsum(A, B)\":\n",
       "     5                                               \"\"\"\n",
       "     6                                               Computes the kronsum of two square input matrices\n",
       "     7                                               \"\"\"\n",
       "     8         2        236.0    118.0      1.1      a, _ = A.shape\n",
       "     9         2          6.0      3.0      0.0      b, _ = B.shape\n",
       "    10         2      20382.0  10191.0     98.8      return np.kron(A, np.eye(b)) + np.kron(np.eye(a), B)\n",
       "\n",
       "Total time: 0.021422 s\n",
       "File: /var/folders/k0/qy74mdx10qs493700g929k5h0000gn/T/ipykernel_36281/668194435.py\n",
       "Function: kron_sum at line 12\n",
       "\n",
       "Line #      Hits         Time  Per Hit   % Time  Line Contents\n",
       "==============================================================\n",
       "    12                                           def kron_sum(\n",
       "    13                                               *mats: \"Sequence of 2-dimensional square numpy arrays of any size\"\n",
       "    14                                           ) -> \"kronsum(mats[0], ..., mats[-1])\":\n",
       "    15                                               \"\"\"\n",
       "    16                                               Computes the kronsum of multiple matrices,\n",
       "    17                                               recursively by relying on `kron_sum_base_case`\n",
       "    18                                               for the 2-matrix case\n",
       "    19                                               \"\"\"\n",
       "    20         2        215.0    107.5      1.0      K = len(mats)\n",
       "    21         2        169.0     84.5      0.8      if K == 0:\n",
       "    22                                                   raise Exception(\"Can't kronsum nothing!\")\n",
       "    23         2          4.0      2.0      0.0      if K == 1:\n",
       "    24                                                   return mats[0]\n",
       "    25         2          3.0      1.5      0.0      if K == 2:\n",
       "    26         1      15203.0  15203.0     71.0          return kron_sum_base_case(mats[0], mats[1])\n",
       "    27         3         80.0     26.7      0.4      return kron_sum(\n",
       "    28         1       5743.0   5743.0     26.8          kron_sum_base_case(mats[0], mats[1]),\n",
       "    29         1          5.0      5.0      0.0          *mats[2:]\n",
       "    30                                               )"
      ]
     },
     "metadata": {},
     "output_type": "display_data"
    }
   ],
   "source": [
    "args = [\n",
    "    np.diag(np.arange(10)),\n",
    "    np.diag(np.arange(10)),\n",
    "    np.diag(np.arange(10))\n",
    "]\n",
    "%lprun -f kron_sum -f kron_sum_base_case kron_sum(*args)"
   ]
  },
  {
   "cell_type": "code",
   "execution_count": null,
   "id": "7a9e371d-d1ec-4202-ae11-65272ad7f4d2",
   "metadata": {},
   "outputs": [
    {
     "data": {
      "text/plain": [
       "Timer unit: 1e-06 s\n",
       "\n",
       "Total time: 0.000238 s\n",
       "File: /var/folders/k0/qy74mdx10qs493700g929k5h0000gn/T/ipykernel_36281/2323241970.py\n",
       "Function: kron_sum_diag_base_case at line 1\n",
       "\n",
       "Line #      Hits         Time  Per Hit   % Time  Line Contents\n",
       "==============================================================\n",
       "     1                                           def kron_sum_diag_base_case(\n",
       "     2                                               a: \"NumPy vector of shape (m,)\",\n",
       "     3                                               b: \"NumPy vector of shape (n,)\"\n",
       "     4                                           ) -> \"NumPy vector of shape (mn,)\":\n",
       "     5                                               \"\"\"\n",
       "     6                                               Computes the diagonal of the kronecker sum of two diagonal matrixes,\n",
       "     7                                               given as input the diagonals of the two input matrices\n",
       "     8                                               \"\"\"\n",
       "     9         2          5.0      2.5      2.1      m, = a.shape\n",
       "    10         2          2.0      1.0      0.8      n, = b.shape\n",
       "    11                                               \n",
       "    12                                               # Result is sum of [a1 ... a1 a2 ... a2 ... am ... am]\n",
       "    13                                               # and [b1 b2 ... bn b1 b2 ... bn ... b1 b2 ... bn]\n",
       "    14                                               # So we can use `repeat` and `tile` to accomplish this!\n",
       "    15         2         78.0     39.0     32.8      A = np.repeat(a, (n,))\n",
       "    16         2        116.0     58.0     48.7      B = np.tile(b, (m,))\n",
       "    17         2         37.0     18.5     15.5      return (A + B)\n",
       "\n",
       "Total time: 0.000317 s\n",
       "File: /var/folders/k0/qy74mdx10qs493700g929k5h0000gn/T/ipykernel_36281/2323241970.py\n",
       "Function: kron_sum_diag at line 19\n",
       "\n",
       "Line #      Hits         Time  Per Hit   % Time  Line Contents\n",
       "==============================================================\n",
       "    19                                           def kron_sum_diag(\n",
       "    20                                               *vecs: \"Sequence of NumPy vectors representing array diagonals\"\n",
       "    21                                           ) -> \"diag(kronsum(diag(vecs[0]), ..., diag(vecs[-1])))\":\n",
       "    22                                               \"\"\"\n",
       "    23                                               Computes the kronsum of multiple vectors,\n",
       "    24                                               recursively by relying on `kron_sum_diag_base_case`\n",
       "    25                                               for the 2-vector case\n",
       "    26                                               \"\"\"\n",
       "    27         2          9.0      4.5      2.8      K = len(vecs)\n",
       "    28         2          5.0      2.5      1.6      if K == 0:\n",
       "    29                                                   raise Exception(\"Can't kronsum nothing!\")\n",
       "    30         2          1.0      0.5      0.3      if K == 1:\n",
       "    31                                                   return vecs[0]\n",
       "    32         2          2.0      1.0      0.6      if K == 2:\n",
       "    33         1         89.0     89.0     28.1          return kron_sum_diag_base_case(vecs[0], vecs[1])\n",
       "    34         3         37.0     12.3     11.7      return kron_sum_diag(\n",
       "    35         1        171.0    171.0     53.9          kron_sum_diag_base_case(vecs[0], vecs[1]),\n",
       "    36         1          3.0      3.0      0.9          *vecs[2:]\n",
       "    37                                               )"
      ]
     },
     "metadata": {},
     "output_type": "display_data"
    }
   ],
   "source": [
    "args = [\n",
    "    np.arange(10),\n",
    "    np.arange(10),\n",
    "    np.arange(10)\n",
    "]\n",
    "%lprun -f kron_sum_diag -f kron_sum_diag_base_case kron_sum_diag(*args)"
   ]
  },
  {
   "cell_type": "markdown",
   "id": "89769869-fdce-4f8a-b13d-285ecfe3705f",
   "metadata": {},
   "source": [
    "Other than speed, a major problem with the non-diag-specific code is that you'll run out of memory for even modestly sized outputs: $\\mathrm{numrows}\\left[\\oplus_\\ell A_\\ell \\right] = \\prod_\\ell \\mathrm{numrows}\\left[A_\\ell \\right]$.  When modelling the whole matrix, you need to store $\\prod_\\ell \\mathrm{numrows}\\left[A_\\ell \\right]^2$, but by restricting ourselves to the diagonal you only need $\\prod_\\ell \\mathrm{numrows}\\left[A_\\ell \\right]$."
   ]
  },
  {
   "cell_type": "markdown",
   "id": "9b89c408-3933-4b5a-b967-e4dc34dac6d7",
   "metadata": {},
   "source": [
    "We can see from the outputs of `line_profiler` that the grand majority of the runtime is spent in `np.repeat` and `np.tile`, so we might wish to find a solution that does not require these.  Also, the recursive nature of the algorithm is a bit annoying, it'd be nice if we could compute it in a single pass!"
   ]
  },
  {
   "cell_type": "markdown",
   "id": "9848f9f4-dec2-4f0d-bee2-0f90021eda47",
   "metadata": {},
   "source": [
    "For this we'll need to understand the <b style=\"color:#EB1960\">NumPy Memory Model</b>, which consists of <b style=\"color:#A6A440\">shapes</b> and <b style=\"color:#A6A440\">strides</b>:\n",
    "\n",
    "![The <b style=\"color:#EB1960\">NumPy Memory Model</b>](./images/memory-model.png)"
   ]
  },
  {
   "cell_type": "markdown",
   "id": "fd9848a8-5898-4c81-9fdd-bd1f28b10351",
   "metadata": {},
   "source": [
    "In essence, <strong style=\"color:#C0CF96\">every array is actually linear in memory</strong>, and we describe the higher-dimensional structure with a <b style=\"color:#A6A440\">shape</b> and some <b style=\"color:#A6A440\">strides</b>.  <b style=\"color:#A6A440\">Strides</b> tell us how far our pointer must move to get to the next element along that axis.\n",
    "\n",
    "Changing the <b style=\"color:#A6A440\">shape</b> and <b style=\"color:#A6A440\">strides</b> of an array is basically free, as none of the array's memory needs to change^[Besides the memory of <b style=\"color:#A6A440\">shape</b> and <b style=\"color:#A6A440\">strides</b> themselves, but these are negligibly sized.].  `np.lib.stride_tricks.as_strided` is a function that gives us direct control over <b style=\"color:#A6A440\">shape</b> and <b style=\"color:#A6A440\">strides</b>, which we'll use to construct a faster <b style=\"color:#A6A440\">Kronecker Sum</b> algorithm."
   ]
  },
  {
   "cell_type": "markdown",
   "id": "28959a70-4aee-4709-afca-7984b7ee145a",
   "metadata": {},
   "source": [
    "The first thing we want to do is create a full-sized empty output vector with `np.zeros`.  We'll then reshape this vector in such a way so that the elements we want to affect are batched by the first two dimensions.  Why would we do this?  Because numpy's memory format doesn't directly support \"block-strides\", i.e. there's no direct way to grab:\n",
    "```\n",
    "[x x x x] x x x x [x x x x] x x x x\n",
    "```\n",
    "You can only either grab blocks:\n",
    "```\n",
    "[x x x x x x x x] x x x x x x x x\n",
    "```\n",
    "Or strides:\n",
    "```\n",
    "[x] x [x] x [x] x [x] x [x] x [x] x [x] x [x] x [x] x [x] x\n",
    "```\n",
    "\n",
    "But with stride_tricks we can massage the data into a block-stride format, at the cost of an extra dimension, via using a <b style=\"color:#A6A440\">view</b> (NOT a <b style=\"color:#A6A440\">copy</b>), making this quite an efficient operation!  Since it is a view, <strong style=\"color:#C0CF96\">we can assign to it and it will update the original array.</strong>"
   ]
  },
  {
   "cell_type": "markdown",
   "id": "0d04d726-3ef3-41b2-9882-69253399288e",
   "metadata": {},
   "source": [
    "Suppose we reshaped our output $w_\\ell$ into $(a_\\ell, b_\\ell, c_\\ell)$ where $c_\\ell$ is the size of our $\\ell$th input $v_\\ell$.  Then $w_\\ell += v_\\ell$ will use <b style=\"color:#537FBF\">broadcasting</b>^[I know, I'm really pulling out all the stops in advanced NumPy - if only there was some way to get `einsum` involved...] to add $v_\\ell$ to every slice of the matrix along the first two batch dimensions."
   ]
  },
  {
   "cell_type": "markdown",
   "id": "77d17874-32b1-4160-b31d-233e22f26084",
   "metadata": {},
   "source": [
    "Why would we do this?  Well just like we saw earlier, <b style=\"color:#A6A440\">Kronecker Sums</b> can be represented as the sum of one of the inputs repeated in blocks and the other repeated in strides, when only considering two inputs.  When considering the middle inputs, they have a particular block-strided structure; I encourage you to get out some scratch paper and work it out yourself."
   ]
  },
  {
   "cell_type": "markdown",
   "id": "b4ea224f-ec3d-4a1f-a8b8-e7d7821b2e85",
   "metadata": {},
   "source": [
    "Anyways, here's the code:"
   ]
  },
  {
   "cell_type": "code",
   "execution_count": null,
   "id": "7a773ea4-d115-4b14-9dc6-fcd8ebed9f36",
   "metadata": {},
   "outputs": [],
   "source": [
    "def kron_sum_diag_fast(\n",
    "    *lams: \"1D vectors to be kronsummed\"\n",
    "):\n",
    "    # Setup\n",
    "    ds = [len(lam) for lam in lams]\n",
    "    d_lefts = np.cumprod([1] + ds[:-1]).astype(int)\n",
    "    d_rights = np.cumprod([1] + ds[::-1])[-2::-1].astype(int)\n",
    "    total = d_rights[0] * ds[0]\n",
    "    out = np.zeros(total)\n",
    "    \n",
    "    # We're gonna be really naughty here and use stride_tricks\n",
    "    # This is going to reshape our vector in a way so that the elements\n",
    "    # we want to affect are batched by the first two dimensions\n",
    "    for i in range(len(lams)):\n",
    "        sz = lams[i].strides[0]\n",
    "        toset = np.lib.stride_tricks.as_strided(\n",
    "            out,\n",
    "            shape=(\n",
    "                d_lefts[i], # The skips\n",
    "                d_rights[i], # The blocks\n",
    "                ds[i] # What we want\n",
    "            ),\n",
    "            strides=(\n",
    "                sz * ds[i] * d_rights[i],\n",
    "                sz * 1,\n",
    "                sz * d_rights[i],\n",
    "            )\n",
    "        )\n",
    "        toset += lams[i]\n",
    "        \n",
    "    return out"
   ]
  },
  {
   "cell_type": "markdown",
   "id": "8d5d1c82-6290-4492-872b-496c7d1b9ac2",
   "metadata": {},
   "source": [
    "Let's see if it's really any faster:"
   ]
  },
  {
   "cell_type": "code",
   "execution_count": null,
   "id": "9f208d4f-e94e-4d7c-8bbf-5b319cc65697",
   "metadata": {},
   "outputs": [
    {
     "data": {
      "text/plain": [
       "Timer unit: 1e-06 s\n",
       "\n",
       "Total time: 0.027999 s\n",
       "File: /var/folders/k0/qy74mdx10qs493700g929k5h0000gn/T/ipykernel_36281/2323241970.py\n",
       "Function: kron_sum_diag_base_case at line 1\n",
       "\n",
       "Line #      Hits         Time  Per Hit   % Time  Line Contents\n",
       "==============================================================\n",
       "     1                                           def kron_sum_diag_base_case(\n",
       "     2                                               a: \"NumPy vector of shape (m,)\",\n",
       "     3                                               b: \"NumPy vector of shape (n,)\"\n",
       "     4                                           ) -> \"NumPy vector of shape (mn,)\":\n",
       "     5                                               \"\"\"\n",
       "     6                                               Computes the diagonal of the kronecker sum of two diagonal matrixes,\n",
       "     7                                               given as input the diagonals of the two input matrices\n",
       "     8                                               \"\"\"\n",
       "     9         2         13.0      6.5      0.0      m, = a.shape\n",
       "    10         2          3.0      1.5      0.0      n, = b.shape\n",
       "    11                                               \n",
       "    12                                               # Result is sum of [a1 ... a1 a2 ... a2 ... am ... am]\n",
       "    13                                               # and [b1 b2 ... bn b1 b2 ... bn ... b1 b2 ... bn]\n",
       "    14                                               # So we can use `repeat` and `tile` to accomplish this!\n",
       "    15         2      19483.0   9741.5     69.6      A = np.repeat(a, (n,))\n",
       "    16         2       1027.0    513.5      3.7      B = np.tile(b, (m,))\n",
       "    17         2       7473.0   3736.5     26.7      return (A + B)\n",
       "\n",
       "Total time: 0.028123 s\n",
       "File: /var/folders/k0/qy74mdx10qs493700g929k5h0000gn/T/ipykernel_36281/2323241970.py\n",
       "Function: kron_sum_diag at line 19\n",
       "\n",
       "Line #      Hits         Time  Per Hit   % Time  Line Contents\n",
       "==============================================================\n",
       "    19                                           def kron_sum_diag(\n",
       "    20                                               *vecs: \"Sequence of NumPy vectors representing array diagonals\"\n",
       "    21                                           ) -> \"diag(kronsum(diag(vecs[0]), ..., diag(vecs[-1])))\":\n",
       "    22                                               \"\"\"\n",
       "    23                                               Computes the kronsum of multiple vectors,\n",
       "    24                                               recursively by relying on `kron_sum_diag_base_case`\n",
       "    25                                               for the 2-vector case\n",
       "    26                                               \"\"\"\n",
       "    27         2         11.0      5.5      0.0      K = len(vecs)\n",
       "    28         2          5.0      2.5      0.0      if K == 0:\n",
       "    29                                                   raise Exception(\"Can't kronsum nothing!\")\n",
       "    30         2          2.0      1.0      0.0      if K == 1:\n",
       "    31                                                   return vecs[0]\n",
       "    32         2          2.0      1.0      0.0      if K == 2:\n",
       "    33         1      27184.0  27184.0     96.7          return kron_sum_diag_base_case(vecs[0], vecs[1])\n",
       "    34         3          8.0      2.7      0.0      return kron_sum_diag(\n",
       "    35         1        906.0    906.0      3.2          kron_sum_diag_base_case(vecs[0], vecs[1]),\n",
       "    36         1          5.0      5.0      0.0          *vecs[2:]\n",
       "    37                                               )"
      ]
     },
     "metadata": {},
     "output_type": "display_data"
    }
   ],
   "source": [
    "args = [\n",
    "    np.arange(100),\n",
    "    np.arange(100),\n",
    "    np.arange(100)\n",
    "]\n",
    "%lprun -f kron_sum_diag -f kron_sum_diag_base_case kron_sum_diag(*args)"
   ]
  },
  {
   "cell_type": "code",
   "execution_count": null,
   "id": "1461f536-5524-4a1a-8341-375780758e11",
   "metadata": {},
   "outputs": [
    {
     "data": {
      "text/plain": [
       "Timer unit: 1e-06 s\n",
       "\n",
       "Total time: 0.008428 s\n",
       "File: /var/folders/k0/qy74mdx10qs493700g929k5h0000gn/T/ipykernel_36281/219179398.py\n",
       "Function: kron_sum_diag_fast at line 1\n",
       "\n",
       "Line #      Hits         Time  Per Hit   % Time  Line Contents\n",
       "==============================================================\n",
       "     1                                           def kron_sum_diag_fast(\n",
       "     2                                               *lams: \"1D vectors to be kronsummed\"\n",
       "     3                                           ):\n",
       "     4                                               # Setup\n",
       "     5         1         19.0     19.0      0.2      ds = [len(lam) for lam in lams]\n",
       "     6         1        188.0    188.0      2.2      d_lefts = np.cumprod([1] + ds[:-1]).astype(int)\n",
       "     7         1         68.0     68.0      0.8      d_rights = np.cumprod([1] + ds[::-1])[-2::-1].astype(int)\n",
       "     8         1         16.0     16.0      0.2      total = d_rights[0] * ds[0]\n",
       "     9         1       1990.0   1990.0     23.6      out = np.zeros(total)\n",
       "    10                                               \n",
       "    11                                               # We're gonna be really naughty here and use stride_tricks\n",
       "    12                                               # This is going to reshape our vector in a way so that the elements\n",
       "    13                                               # we want to affect are batched by the first two dimensions\n",
       "    14         4         42.0     10.5      0.5      for i in range(len(lams)):\n",
       "    15         3         25.0      8.3      0.3          sz = lams[i].strides[0]\n",
       "    16         6        416.0     69.3      4.9          toset = np.lib.stride_tricks.as_strided(\n",
       "    17         3          6.0      2.0      0.1              out,\n",
       "    18         3          9.0      3.0      0.1              shape=(\n",
       "    19         3         29.0      9.7      0.3                  d_lefts[i], # The skips\n",
       "    20         3         21.0      7.0      0.2                  d_rights[i], # The blocks\n",
       "    21         3          8.0      2.7      0.1                  ds[i] # What we want\n",
       "    22                                                       ),\n",
       "    23         3          5.0      1.7      0.1              strides=(\n",
       "    24         3         22.0      7.3      0.3                  sz * ds[i] * d_rights[i],\n",
       "    25         3          6.0      2.0      0.1                  sz * 1,\n",
       "    26         3          8.0      2.7      0.1                  sz * d_rights[i],\n",
       "    27                                                       )\n",
       "    28                                                   )\n",
       "    29         3       5548.0   1849.3     65.8          toset += lams[i]\n",
       "    30                                                   \n",
       "    31         1          2.0      2.0      0.0      return out"
      ]
     },
     "metadata": {},
     "output_type": "display_data"
    }
   ],
   "source": [
    "args = [\n",
    "    np.arange(100),\n",
    "    np.arange(100),\n",
    "    np.arange(100)\n",
    "]\n",
    "%lprun -f kron_sum_diag_fast kron_sum_diag_fast(*args)"
   ]
  },
  {
   "cell_type": "markdown",
   "id": "ca8df2b5-8e34-4935-8556-7fe5f941e635",
   "metadata": {},
   "source": [
    "Honestly, it's hard to tell.  If we rerun the code a bit then the values fluctuate.  They seem to on average be more expensive for the non-fast version of the algorithm, but we should use timeit to fully compare:"
   ]
  },
  {
   "cell_type": "code",
   "execution_count": null,
   "id": "8cde2ab2-bd80-4484-9d8f-e9f0fed23919",
   "metadata": {},
   "outputs": [
    {
     "name": "stdout",
     "output_type": "stream",
     "text": [
      "4.19 ms ± 132 µs per loop (mean ± std. dev. of 7 runs, 100 loops each)\n",
      "1.31 ms ± 5.04 µs per loop (mean ± std. dev. of 7 runs, 1,000 loops each)\n"
     ]
    }
   ],
   "source": [
    "args = [\n",
    "    np.arange(100),\n",
    "    np.arange(100),\n",
    "    np.arange(100)\n",
    "]\n",
    "%timeit kron_sum_diag(*args)\n",
    "%timeit kron_sum_diag_fast(*args)"
   ]
  },
  {
   "cell_type": "markdown",
   "id": "abd3179c-78e7-438d-8e84-9aa23b76aca2",
   "metadata": {},
   "source": [
    "With how much more conceptually complicated the fast version is, it's a bit of a shame that it only really achieves a 3x speedup.  Maybe things will look better with larger inputs?  But it's hard to test large inputs without running out of memory."
   ]
  },
  {
   "cell_type": "code",
   "execution_count": null,
   "id": "6472ef73-507f-4086-aaee-4ca30cc79625",
   "metadata": {},
   "outputs": [
    {
     "name": "stdout",
     "output_type": "stream",
     "text": [
      "47.5 ms ± 3.18 ms per loop (mean ± std. dev. of 7 runs, 10 loops each)\n",
      "15.3 ms ± 321 µs per loop (mean ± std. dev. of 7 runs, 100 loops each)\n"
     ]
    }
   ],
   "source": [
    "args = [\n",
    "    np.arange(1000),\n",
    "    np.arange(100),\n",
    "    np.arange(100)\n",
    "]\n",
    "%timeit kron_sum_diag(*args)\n",
    "%timeit kron_sum_diag_fast(*args)"
   ]
  },
  {
   "cell_type": "code",
   "execution_count": null,
   "id": "75e73030-8146-45d1-84fa-2fc1c47cf183",
   "metadata": {},
   "outputs": [
    {
     "name": "stdout",
     "output_type": "stream",
     "text": [
      "1.53 s ± 47.8 ms per loop (mean ± std. dev. of 7 runs, 1 loop each)\n",
      "350 ms ± 2.08 ms per loop (mean ± std. dev. of 7 runs, 1 loop each)\n"
     ]
    }
   ],
   "source": [
    "args = [\n",
    "    np.arange(10000),\n",
    "    np.arange(10000)\n",
    "]\n",
    "%timeit kron_sum_diag(*args)\n",
    "%timeit kron_sum_diag_fast(*args)"
   ]
  },
  {
   "cell_type": "markdown",
   "id": "67696881-8a2d-4d49-80ff-53f3958f6c0e",
   "metadata": {},
   "source": [
    "`kron_sum_diag_fast` is definitely an improvement, but not quite the order-of-magnitude improvement I was hoping for!  Based on the outputs of `line_profiler`, ~90% of the runtime of `kron_sum_diag_fast` comes from the memory allocation of the output vector and the literal summing of the diagonals.  It is unlikely to be able to go much faster - in fact no matter what we do we cannot make it more than 4x faster because the memory allocation of the output takes ~25% of the runtime."
   ]
  },
  {
   "cell_type": "markdown",
   "id": "533c45ae-60c0-4871-a1e5-9ad82183e8ed",
   "metadata": {},
   "source": [
    "# <b style=\"color:#537FBF\">KS-Decompositions</b>"
   ]
  },
  {
   "cell_type": "markdown",
   "id": "4fd52b6e-3c58-4069-9485-3e4eba2c71d6",
   "metadata": {},
   "source": [
    "We now start our second task; finding the best <b style=\"color:#537FBF\">KS-decomposition</b> for a matrix."
   ]
  },
  {
   "cell_type": "markdown",
   "id": "4f4b04a7-b4fe-42ec-9915-832bd3de9291",
   "metadata": {},
   "source": [
    "The mathematical solution is due to @TeraLasso:\n",
    "\n",
    "![The solution of @TeraLasso; details on the $A(i,i|k)$ matrices available in the TeraLasso paper.](./images/TeraLasso.png)"
   ]
  },
  {
   "cell_type": "markdown",
   "id": "ddeb8579-6ff7-4e5b-a2d3-7b9a6636d547",
   "metadata": {},
   "source": [
    "We can calculate the $A_k$ as follows:"
   ]
  },
  {
   "cell_type": "code",
   "execution_count": null,
   "id": "bf5c7a23-5377-45da-b6b5-da2c5ff71747",
   "metadata": {},
   "outputs": [],
   "source": [
    "def factorwise_average(\n",
    "    mat: \"Mat to be factored\",\n",
    "    ds: \"Dimensions of factor matrices\",\n",
    "    k: \"Dimension\"\n",
    "):\n",
    "    d = ds[k]\n",
    "    d_left = np.prod(ds[:k]).astype(int)\n",
    "    d_right = np.prod(ds[k+1:]).astype(int)\n",
    "    \n",
    "    rs, cs = mat.strides\n",
    "    \n",
    "    # See code for `factorwise_matrix` for full A(i,j|k) computation\n",
    "    # (in the Playground section at the end)\n",
    "    # But here we only need the diagonals so actually we can express this\n",
    "    # by summing the strides together (so each stride goes the length of\n",
    "    # an axis plus 1 to stay along the diagonal\n",
    "    out =  np.lib.stride_tricks.as_strided(\n",
    "        mat,\n",
    "        shape=(\n",
    "            d_left,\n",
    "            d_right,\n",
    "            d,\n",
    "            d\n",
    "        ),\n",
    "        strides=(\n",
    "            rs * d_right * d + cs * d_right * d,\n",
    "            rs * 1 + cs * 1,\n",
    "            rs * d_right,\n",
    "            cs * d_right,\n",
    "        )\n",
    "    )\n",
    "\n",
    "    return out.mean(axis=(0, 1))"
   ]
  },
  {
   "cell_type": "markdown",
   "id": "56ab00cb-a2ba-4e86-8864-edbb08ecc569",
   "metadata": {},
   "source": [
    "After which it is easy to compute individual factors:"
   ]
  },
  {
   "cell_type": "code",
   "execution_count": null,
   "id": "e8633197-c18d-4375-893e-1ba93ec54e3c",
   "metadata": {},
   "outputs": [],
   "source": [
    "def kronecker_factor(\n",
    "    mat: \"Mat to be factored\",\n",
    "    ds: \"Dimensions of factor matrices\",\n",
    "    k: \"Dimension\"\n",
    "):\n",
    "    K = len(ds)\n",
    "    A = factorwise_average(mat, ds, k)\n",
    "    offset = (K-1)/K * np.trace(A) / ds[k]\n",
    "    return A - offset * np.eye(A.shape[0])"
   ]
  },
  {
   "cell_type": "markdown",
   "id": "9e9f4fc9-a5ce-4e04-911e-73dd921d92c1",
   "metadata": {},
   "source": [
    "One thing to note about their math is that they assume the factors have a trace of zero (because it is not actually possible to recover the exact diagonals in a <b style=\"color:#537FBF\">KS-decomposition</b>).  Let's test to see if it actually can recover the factors:"
   ]
  },
  {
   "cell_type": "code",
   "execution_count": null,
   "id": "1dace09d-09a5-422e-9d31-a07a2343001a",
   "metadata": {},
   "outputs": [
    {
     "name": "stdout",
     "output_type": "stream",
     "text": [
      "[[ True  True  True]\n",
      " [ True  True  True]\n",
      " [ True  True  True]]\n",
      "[[ True  True]\n",
      " [ True  True]]\n"
     ]
    }
   ],
   "source": [
    "# Subtractions are done to enforce a trace of zero\n",
    "factor_1 = np.arange(9).reshape(3, 3) - 4\n",
    "factor_2 = np.arange(4).reshape(2, 2) - 1.5\n",
    "b = kron_sum(factor_1, factor_2)\n",
    "print(factor_1 == kronecker_factor(b, [3, 2], 0))\n",
    "print(factor_2 == kronecker_factor(b, [3, 2], 1))"
   ]
  },
  {
   "cell_type": "markdown",
   "id": "be2e12ec-2df7-444c-8884-7db57cd9581f",
   "metadata": {},
   "source": [
    "Awesome!  But as mentioned before, we often only care about <b style=\"color:#537FBF\">KS-decomposing</b> diagonal matrices, so we can tune this code to address them specifically!"
   ]
  },
  {
   "cell_type": "code",
   "execution_count": null,
   "id": "851b39bf-72fa-4d7b-88a1-40d870af2350",
   "metadata": {},
   "outputs": [],
   "source": [
    "def factorwise_average_diag(\n",
    "    vec: \"Diagonal of mat to be factored\",\n",
    "    ds: \"Dimensions of factor matrices\",\n",
    "    k: \"Dimension\"\n",
    "):\n",
    "    d = ds[k]\n",
    "    d_left = np.prod(ds[:k]).astype(int)\n",
    "    d_right = np.prod(ds[k+1:]).astype(int)\n",
    "    \n",
    "    rs = vec.strides[0]\n",
    "    \n",
    "    # See code for `factorwise_matrix` for full A(i,j|k) computation\n",
    "    # (in the Playground section at the end)\n",
    "    # But here we only need the diagonals so actually we can express this\n",
    "    # by summing the strides together (so each stride goes the length of\n",
    "    # an axis plus 1 to stay along the diagonal\n",
    "    out =  np.lib.stride_tricks.as_strided(\n",
    "        vec,\n",
    "        shape=(\n",
    "            d_left,\n",
    "            d_right,\n",
    "            d,\n",
    "        ),\n",
    "        strides=(\n",
    "            rs * d_right * d,\n",
    "            rs * 1,\n",
    "            rs * d_right,\n",
    "        )\n",
    "    )\n",
    "\n",
    "    return out.mean(axis=(0, 1))"
   ]
  },
  {
   "cell_type": "code",
   "execution_count": null,
   "id": "744ce5d2-0f95-4a38-9528-b10ea673aa33",
   "metadata": {},
   "outputs": [],
   "source": [
    "def kronecker_factor_diag(\n",
    "    vec: \"Diag of mat to be factored\",\n",
    "    ds: \"Dimensions of factor matrices\",\n",
    "    k: \"Dimension\"\n",
    "):\n",
    "    K = len(ds)\n",
    "    A = factorwise_average_diag(vec, ds, k)\n",
    "    offset = (K-1)/K * A.sum() / ds[k]\n",
    "    return A - offset"
   ]
  },
  {
   "cell_type": "code",
   "execution_count": null,
   "id": "7b8a51db-9487-4e2a-a4e1-5e045f789f0f",
   "metadata": {},
   "outputs": [
    {
     "name": "stdout",
     "output_type": "stream",
     "text": [
      "True\n",
      "True\n",
      "True\n"
     ]
    }
   ],
   "source": [
    "d_1 = 50\n",
    "d_2 = 100\n",
    "d_3 = 150\n",
    "factor_1 = np.arange(d_1).astype(float)\n",
    "factor_1 -= factor_1.sum() / d_1\n",
    "factor_2 = np.arange(d_2).astype(float)\n",
    "factor_2 -= factor_2.sum() / d_2\n",
    "factor_3 = np.arange(d_3).astype(float)\n",
    "factor_3 -= factor_3.sum() / d_3\n",
    "b = kron_sum_diag_fast(factor_1, factor_2, factor_3)\n",
    "print((factor_1 == kronecker_factor_diag(b, [d_1, d_2, d_3], 0)).all())\n",
    "print((factor_2 == kronecker_factor_diag(b, [d_1, d_2, d_3], 1)).all())\n",
    "print((factor_3 == kronecker_factor_diag(b, [d_1, d_2, d_3], 2)).all())"
   ]
  },
  {
   "cell_type": "markdown",
   "id": "292295f9-d0ba-432a-9509-3e303604cb59",
   "metadata": {},
   "source": [
    "The last question we should ask is: is our code fast?"
   ]
  },
  {
   "cell_type": "code",
   "execution_count": null,
   "id": "a4737001-652f-488b-9f1f-1eb6670d88f9",
   "metadata": {},
   "outputs": [
    {
     "name": "stdout",
     "output_type": "stream",
     "text": [
      "643 µs ± 10.2 µs per loop (mean ± std. dev. of 7 runs, 1,000 loops each)\n"
     ]
    }
   ],
   "source": [
    "to_run = lambda: [\n",
    "    kronecker_factor_diag(b, [d_1, d_2, d_3], 0),\n",
    "    kronecker_factor_diag(b, [d_1, d_2, d_3], 1),\n",
    "    kronecker_factor_diag(b, [d_1, d_2, d_3], 2)\n",
    "]\n",
    "%timeit to_run()"
   ]
  },
  {
   "cell_type": "code",
   "execution_count": null,
   "id": "14589eaa-eac6-4d14-99ad-03f8ea5a2f75",
   "metadata": {},
   "outputs": [
    {
     "data": {
      "text/plain": [
       "Timer unit: 1e-06 s\n",
       "\n",
       "Total time: 0.00126 s\n",
       "File: /var/folders/k0/qy74mdx10qs493700g929k5h0000gn/T/ipykernel_36281/1788147058.py\n",
       "Function: <lambda> at line 1\n",
       "\n",
       "Line #      Hits         Time  Per Hit   % Time  Line Contents\n",
       "==============================================================\n",
       "     1         1          1.0      1.0      0.1  to_run = lambda: [\n",
       "     2         1        547.0    547.0     43.4      kronecker_factor_diag(b, [d_1, d_2, d_3], 0),\n",
       "     3         1        366.0    366.0     29.0      kronecker_factor_diag(b, [d_1, d_2, d_3], 1),\n",
       "     4         1        346.0    346.0     27.5      kronecker_factor_diag(b, [d_1, d_2, d_3], 2)\n",
       "     5                                           ]\n",
       "\n",
       "Total time: 0.001157 s\n",
       "File: /var/folders/k0/qy74mdx10qs493700g929k5h0000gn/T/ipykernel_36281/1895741134.py\n",
       "Function: factorwise_average_diag at line 1\n",
       "\n",
       "Line #      Hits         Time  Per Hit   % Time  Line Contents\n",
       "==============================================================\n",
       "     1                                           def factorwise_average_diag(\n",
       "     2                                               vec: \"Diagonal of mat to be factored\",\n",
       "     3                                               ds: \"Dimensions of factor matrices\",\n",
       "     4                                               k: \"Dimension\"\n",
       "     5                                           ):\n",
       "     6         3          3.0      1.0      0.3      d = ds[k]\n",
       "     7         3        103.0     34.3      8.9      d_left = np.prod(ds[:k]).astype(int)\n",
       "     8         3         44.0     14.7      3.8      d_right = np.prod(ds[k+1:]).astype(int)\n",
       "     9                                               \n",
       "    10         3          4.0      1.3      0.3      rs = vec.strides[0]\n",
       "    11                                               \n",
       "    12                                               # See code for `factorwise_matrix` for full A(i,j|k) computation\n",
       "    13                                               # (in the Playground section at the end)\n",
       "    14                                               # But here we only need the diagonals so actually we can express this\n",
       "    15                                               # by summing the strides together (so each stride goes the length of\n",
       "    16                                               # an axis plus 1 to stay along the diagonal\n",
       "    17         6         62.0     10.3      5.4      out =  np.lib.stride_tricks.as_strided(\n",
       "    18         3          0.0      0.0      0.0          vec,\n",
       "    19         3          2.0      0.7      0.2          shape=(\n",
       "    20         3          2.0      0.7      0.2              d_left,\n",
       "    21         3          2.0      0.7      0.2              d_right,\n",
       "    22         3          2.0      0.7      0.2              d,\n",
       "    23                                                   ),\n",
       "    24         3          3.0      1.0      0.3          strides=(\n",
       "    25         3          5.0      1.7      0.4              rs * d_right * d,\n",
       "    26         3          3.0      1.0      0.3              rs * 1,\n",
       "    27         3          3.0      1.0      0.3              rs * d_right,\n",
       "    28                                                   )\n",
       "    29                                               )\n",
       "    30                                           \n",
       "    31         3        919.0    306.3     79.4      return out.mean(axis=(0, 1))\n",
       "\n",
       "Total time: 0.001231 s\n",
       "File: /var/folders/k0/qy74mdx10qs493700g929k5h0000gn/T/ipykernel_36281/494531187.py\n",
       "Function: kronecker_factor_diag at line 1\n",
       "\n",
       "Line #      Hits         Time  Per Hit   % Time  Line Contents\n",
       "==============================================================\n",
       "     1                                           def kronecker_factor_diag(\n",
       "     2                                               vec: \"Diag of mat to be factored\",\n",
       "     3                                               ds: \"Dimensions of factor matrices\",\n",
       "     4                                               k: \"Dimension\"\n",
       "     5                                           ):\n",
       "     6         3          1.0      0.3      0.1      K = len(ds)\n",
       "     7         3       1190.0    396.7     96.7      A = factorwise_average_diag(vec, ds, k)\n",
       "     8         3         25.0      8.3      2.0      offset = (K-1)/K * A.sum() / ds[k]\n",
       "     9         3         15.0      5.0      1.2      return A - offset"
      ]
     },
     "metadata": {},
     "output_type": "display_data"
    }
   ],
   "source": [
    "%lprun -f to_run -f kronecker_factor_diag -f factorwise_average_diag to_run()"
   ]
  },
  {
   "cell_type": "markdown",
   "id": "16877ee7-ffca-4dcf-9ec3-c781f374f608",
   "metadata": {},
   "source": [
    "Well, it seems pretty fast as it's measured in microseconds.  Basically all the runtime is in taking the mean along the axes.  Since we're computing each factor separately, there may be a really smart way to compute these means jointly to save time.  However if we note that the calls to `np.prod` take up ~10% of the runtime, and realize just how cheap that option 'should' be^[To be honest I expect there are some optimizations to be made here since the input list is so small (and the fact that it's being passed as a list...  And that the computation for these could be done jointly quite easily...  etc...], we shouldn't expect to be able to get more than an order of magnitude improvement no matter what we do^[And we should expect much less since the raw amount of additions we have to do is quite large so there's no way we'd get it down to the cost of an `np.prod`!]."
   ]
  },
  {
   "cell_type": "markdown",
   "id": "bd9f812d-81f1-43da-86f4-9796ea716e04",
   "metadata": {},
   "source": [
    "The datasets I'll be using this for won't really exceed 4000 by 4000, as memory constaints prevent much more (this is part of a larger algorithm whose outputs for 4000 by 4000 inputs would be size $2 * 4000^2 = 128 \\hspace{2pt}\\mathrm{megabytes}$ assuming 32-bit floats); quite hefty!  Also the algorithm would require an eigendecomposition on two 4000 by 4000 matrices, which takes more than a minute on my computer which is more than I have the patience for 😅 ."
   ]
  },
  {
   "cell_type": "code",
   "execution_count": null,
   "id": "422940bb-5867-46a1-8609-c9b8d0ca9d4e",
   "metadata": {},
   "outputs": [
    {
     "name": "stdout",
     "output_type": "stream",
     "text": [
      "7.23 ms ± 94.3 µs per loop (mean ± std. dev. of 7 runs, 100 loops each)\n"
     ]
    }
   ],
   "source": [
    "d_1 = 4000\n",
    "d_2 = 4000\n",
    "factor_1 = np.arange(d_1).astype(float)\n",
    "factor_1 -= factor_1.sum() / d_1\n",
    "factor_2 = np.arange(d_2).astype(float)\n",
    "factor_2 -= factor_2.sum() / d_2\n",
    "c = kron_sum_diag_fast(factor_1, factor_2)\n",
    "to_run = lambda: [\n",
    "    kronecker_factor_diag(b, [d_1, d_2], 0),\n",
    "    kronecker_factor_diag(b, [d_1, d_2], 1),\n",
    "]\n",
    "%timeit to_run()"
   ]
  },
  {
   "cell_type": "markdown",
   "id": "0d3736ea-ebdd-4758-9d23-24883e976f89",
   "metadata": {},
   "source": [
    "Thus in the largest input we're considering, we can run this step 100 times a second, i.e. 6000 times before it catches up to the price of an eigendecomposition.  That's good because our algorithm is iterative so we want to ensure it can be run a large amount of times!"
   ]
  },
  {
   "cell_type": "markdown",
   "id": "3dec443b-f505-4074-af10-91c7ab274038",
   "metadata": {},
   "source": [
    "# Playground"
   ]
  },
  {
   "cell_type": "markdown",
   "id": "e7520af7-ca38-4bff-bdf1-9b85acdf2c49",
   "metadata": {},
   "source": [
    "<details>\n",
    "    <summary><b class=\"setups\">Playground</b><b style=\"color:#C0CF96\">: My experiments to get this to work</b></summary>\n",
    "    \n",
    "Warning: I've made no attempt to clean this stuff up, or explain it whatsoever."
   ]
  },
  {
   "cell_type": "code",
   "execution_count": null,
   "id": "78b590af-8c04-495b-8ec7-63df326aa17a",
   "metadata": {},
   "outputs": [],
   "source": [
    "import numpy as np"
   ]
  },
  {
   "cell_type": "markdown",
   "id": "e372a741-f40b-40ea-9658-ee44e22bbd00",
   "metadata": {},
   "source": [
    "Old code\n",
    "```\n",
    "def factorwise_matrix(\n",
    "    mat: \"Mat to be factored\",\n",
    "    ds: \"Dimensions of factor matrices\",\n",
    "    idx: \"Indices\",\n",
    "    k: \"Dimension\"\n",
    "):\n",
    "    \"\"\"\n",
    "    A(i, j | k) notation from TeraLasso\n",
    "    \"\"\"\n",
    "    \n",
    "    # Stride-blocking based off of StackOverflow answer:\n",
    "    # https://stackoverflow.com/a/8070716/10642078\n",
    "    d = ds[k]\n",
    "    d_left = np.prod(ds[:k]).astype(int)\n",
    "    d_right = np.prod(ds[k+1:]).astype(int)\n",
    "    size = d_left * d * d_right\n",
    "    \n",
    "    sz = mat.itemsize\n",
    "    shape = (d * d_right, d * d_right, d_left, d_left)\n",
    "\n",
    "    strides = sz * np.array([\n",
    "        mat.shape[0] * d_left,\n",
    "        d_left,\n",
    "        mat.shape[0],\n",
    "        1\n",
    "    ])\n",
    "    blocks = np.lib.stride_tricks.as_strided(mat, shape=shape, strides=strides)\n",
    "    \n",
    "    # Now that we've got the strides, we need to pick the right one based on the idxs\n",
    "    i, j = idx\n",
    "    \n",
    "    # Last two dimensions are the sizes of the blocks\n",
    "    specific_block =  blocks[i::d, j::d]\n",
    "    \n",
    "    # Now we need to de-stride the block\n",
    "    return np.concatenate(\n",
    "        np.concatenate(\n",
    "            specific_block,\n",
    "            axis=1\n",
    "        ),\n",
    "        axis=1\n",
    "    )\n",
    "    \n",
    "n=12\n",
    "m=12\n",
    "a = np.arange(n*m).reshape(n,m)\n",
    "print(a)\n",
    "out = factorwise_matrix(a, [3, 2, 2], (0, 0), 0)\n",
    "\n",
    "out\n",
    "```"
   ]
  },
  {
   "cell_type": "code",
   "execution_count": null,
   "id": "562e8ff5-2f8b-4cf1-b56f-7f63a8703583",
   "metadata": {},
   "outputs": [
    {
     "name": "stdout",
     "output_type": "stream",
     "text": [
      "[[  0   1   2   3   4   5   6   7   8   9  10  11]\n",
      " [ 12  13  14  15  16  17  18  19  20  21  22  23]\n",
      " [ 24  25  26  27  28  29  30  31  32  33  34  35]\n",
      " [ 36  37  38  39  40  41  42  43  44  45  46  47]\n",
      " [ 48  49  50  51  52  53  54  55  56  57  58  59]\n",
      " [ 60  61  62  63  64  65  66  67  68  69  70  71]\n",
      " [ 72  73  74  75  76  77  78  79  80  81  82  83]\n",
      " [ 84  85  86  87  88  89  90  91  92  93  94  95]\n",
      " [ 96  97  98  99 100 101 102 103 104 105 106 107]\n",
      " [108 109 110 111 112 113 114 115 116 117 118 119]\n",
      " [120 121 122 123 124 125 126 127 128 129 130 131]\n",
      " [132 133 134 135 136 137 138 139 140 141 142 143]]\n",
      "(3, 3, 2, 2, 2, 2)\n",
      "(384, 32, 96, 8, 192, 16)\n",
      "True\n"
     ]
    }
   ],
   "source": [
    "def factorwise_matrix(\n",
    "    mat: \"Mat to be factored\",\n",
    "    ds: \"Dimensions of factor matrices\",\n",
    "    idx: \"Indices\",\n",
    "    k: \"Dimension\"\n",
    "):\n",
    "    \"\"\"\n",
    "    A(i, j | k) notation from TeraLasso\n",
    "    \"\"\"\n",
    "    i, j = idx\n",
    "    d = ds[k]\n",
    "    d_left = np.prod(ds[:k]).astype(int)\n",
    "    d_right = np.prod(ds[k+1:]).astype(int)\n",
    "    \n",
    "    #return mat[i*d::d_left, j*d::d_left][:d, :d]\n",
    "    rs, cs = mat.strides\n",
    "    \n",
    "    out =  np.lib.stride_tricks.as_strided(\n",
    "        mat,\n",
    "        shape=(\n",
    "            d_left,\n",
    "            d_left,\n",
    "            d_right,\n",
    "            d_right,\n",
    "            d,\n",
    "            d\n",
    "        ),\n",
    "        strides=(\n",
    "            rs * d_right * d,\n",
    "            cs * d_right * d,\n",
    "            rs * 1,\n",
    "            cs * 1,\n",
    "            rs * d_right,\n",
    "            cs * d_right,\n",
    "        )\n",
    "    )\n",
    "    \n",
    "    return out\n",
    "    \n",
    "    \n",
    "n=12\n",
    "m=12\n",
    "a = np.arange(n*m).reshape(n,m)\n",
    "print(a)\n",
    "out = factorwise_matrix(a, [3, 2, 2], (0, 0), 1)\n",
    "\n",
    "print(out.shape)\n",
    "print(out.strides)\n",
    "print(out.sum() == a.sum())\n",
    "#out"
   ]
  },
  {
   "cell_type": "markdown",
   "id": "09cd5233-d359-4b3d-a2ea-29f5c83618a4",
   "metadata": {},
   "source": [
    "```\n",
    "def factorwise_average(\n",
    "    mat: \"Mat to be factored\",\n",
    "    ds: \"Dimensions of factor matrices\",\n",
    "    k: \"Dimension\"\n",
    "):\n",
    "    d = ds[k]\n",
    "    d_left = np.prod(ds[:k]).astype(int)\n",
    "    d_right = np.prod(ds[k+1:]).astype(int)\n",
    "    d_non = d_left * d_right\n",
    "    out = np.zeros((d, d))\n",
    "    for i in range(d_non):\n",
    "        out += factorwise_matrix(mat, ds, (i, i), k)\n",
    "    return out / d_non\n",
    "factorwise_average(a, [2, 2, 2], 1)\n",
    "```"
   ]
  },
  {
   "cell_type": "code",
   "execution_count": null,
   "id": "1ed49578-3a5b-438c-a198-8959e7ab1c2f",
   "metadata": {},
   "outputs": [
    {
     "name": "stdout",
     "output_type": "stream",
     "text": [
      "[[  0   1   2   3   4   5   6   7   8   9  10  11]\n",
      " [ 12  13  14  15  16  17  18  19  20  21  22  23]\n",
      " [ 24  25  26  27  28  29  30  31  32  33  34  35]\n",
      " [ 36  37  38  39  40  41  42  43  44  45  46  47]\n",
      " [ 48  49  50  51  52  53  54  55  56  57  58  59]\n",
      " [ 60  61  62  63  64  65  66  67  68  69  70  71]\n",
      " [ 72  73  74  75  76  77  78  79  80  81  82  83]\n",
      " [ 84  85  86  87  88  89  90  91  92  93  94  95]\n",
      " [ 96  97  98  99 100 101 102 103 104 105 106 107]\n",
      " [108 109 110 111 112 113 114 115 116 117 118 119]\n",
      " [120 121 122 123 124 125 126 127 128 129 130 131]\n",
      " [132 133 134 135 136 137 138 139 140 141 142 143]]\n"
     ]
    },
    {
     "data": {
      "text/plain": [
       "array([[58.5, 60.5],\n",
       "       [82.5, 84.5]])"
      ]
     },
     "execution_count": null,
     "metadata": {},
     "output_type": "execute_result"
    }
   ],
   "source": [
    "def factorwise_average(\n",
    "    mat: \"Mat to be factored\",\n",
    "    ds: \"Dimensions of factor matrices\",\n",
    "    k: \"Dimension\"\n",
    "):\n",
    "    d = ds[k]\n",
    "    d_left = np.prod(ds[:k]).astype(int)\n",
    "    d_right = np.prod(ds[k+1:]).astype(int)\n",
    "    \n",
    "    rs, cs = mat.strides\n",
    "    \n",
    "    # See code for `factorwise_matrix` for full A(i,j|k) computation\n",
    "    # But here we only need the diagonals so actually we can express this\n",
    "    # by summing the strides together (so each stride goes the length of\n",
    "    # an axis plus 1 to stay along the diagonal\n",
    "    out =  np.lib.stride_tricks.as_strided(\n",
    "        mat,\n",
    "        shape=(\n",
    "            d_left,\n",
    "            d_right,\n",
    "            d,\n",
    "            d\n",
    "        ),\n",
    "        strides=(\n",
    "            rs * d_right * d + cs * d_right * d,\n",
    "            rs * 1 + cs * 1,\n",
    "            rs * d_right,\n",
    "            cs * d_right,\n",
    "        )\n",
    "    )\n",
    "\n",
    "    return out.mean(axis=(0, 1))\n",
    "    \n",
    "    \n",
    "n=12\n",
    "m=12\n",
    "a = np.arange(n*m).reshape(n,m)\n",
    "print(a)\n",
    "out = factorwise_average(a, [3, 2, 2], 1)\n",
    "out"
   ]
  },
  {
   "cell_type": "code",
   "execution_count": null,
   "id": "4bffff92-cf28-471b-a5ee-b083a143d56a",
   "metadata": {},
   "outputs": [
    {
     "data": {
      "text/plain": [
       "array([[ 2.16666667, 34.5       ],\n",
       "       [56.5       , 28.16666667]])"
      ]
     },
     "execution_count": null,
     "metadata": {},
     "output_type": "execute_result"
    }
   ],
   "source": [
    "def kronecker_factor(\n",
    "    mat: \"Mat to be factored\",\n",
    "    ds: \"Dimensions of factor matrices\",\n",
    "    k: \"Dimension\"\n",
    "):\n",
    "    K = len(ds)\n",
    "    A = factorwise_average(mat, ds, k)\n",
    "    offset = (K-1)/K * np.trace(A) / ds[k]\n",
    "    return A - offset * np.eye(A.shape[0])\n",
    "\n",
    "kronecker_factor(a, [2, 2, 2], 1)"
   ]
  },
  {
   "cell_type": "code",
   "execution_count": null,
   "id": "2eb66032-351e-4501-b376-39c35bcdcd9b",
   "metadata": {},
   "outputs": [],
   "source": [
    "def kron_sum(A, B):\n",
    "    \"\"\"\n",
    "    Computes the kronecker sum of two square input matrices\n",
    "    \n",
    "    Note: `scipy.sparse.kronsum` is a thing that would\n",
    "    be useful - but it seems that `scipy.sparse` is not\n",
    "    yet a mature library to use.\n",
    "    \"\"\"\n",
    "    a, _ = A.shape\n",
    "    b, _ = B.shape\n",
    "    return np.kron(A, np.eye(b)) + np.kron(np.eye(a), B)"
   ]
  },
  {
   "cell_type": "code",
   "execution_count": null,
   "id": "09e33cd9-6731-4cb1-9341-836d05379d15",
   "metadata": {},
   "outputs": [
    {
     "name": "stdout",
     "output_type": "stream",
     "text": [
      "[[ True  True  True]\n",
      " [ True  True  True]\n",
      " [ True  True  True]]\n",
      "[[ True  True  True]\n",
      " [ True  True  True]\n",
      " [ True  True  True]]\n"
     ]
    }
   ],
   "source": [
    "factor_1 = np.arange(9).reshape(3, 3) - 4\n",
    "factor_2 = np.arange(9).reshape(3, 3) - 4\n",
    "b = kron_sum(factor_1, factor_2)\n",
    "print(factor_1 == kronecker_factor(b, [3, 3], 0))\n",
    "print(factor_2 == kronecker_factor(b, [3, 3], 1))"
   ]
  },
  {
   "cell_type": "code",
   "execution_count": null,
   "id": "4dbd4478-77bb-4246-9d1e-a9fbf55f7463",
   "metadata": {},
   "outputs": [
    {
     "name": "stdout",
     "output_type": "stream",
     "text": [
      "[[ True  True  True]\n",
      " [ True  True  True]\n",
      " [ True  True  True]]\n",
      "[[ True  True  True]\n",
      " [ True  True  True]\n",
      " [ True  True  True]]\n"
     ]
    }
   ],
   "source": [
    "factor_1 = np.arange(9).reshape(3, 3) - 4\n",
    "factor_2 = np.arange(9).reshape(3, 3)\n",
    "factor_2 = factor_2 @ factor_2 - 60\n",
    "b = kron_sum(factor_1, factor_2)\n",
    "print(factor_1 == kronecker_factor(b, [3, 3], 0))\n",
    "print(factor_2 == kronecker_factor(b, [3, 3], 1))"
   ]
  },
  {
   "cell_type": "code",
   "execution_count": null,
   "id": "6d4f27a1-a23f-4df6-a0f3-49e8d8b4881e",
   "metadata": {},
   "outputs": [
    {
     "name": "stdout",
     "output_type": "stream",
     "text": [
      "[[ True  True  True]\n",
      " [ True  True  True]\n",
      " [ True  True  True]]\n",
      "[[ True  True]\n",
      " [ True  True]]\n"
     ]
    }
   ],
   "source": [
    "factor_1 = np.arange(9).reshape(3, 3) - 4\n",
    "factor_2 = np.arange(4).reshape(2, 2) - 1.5\n",
    "b = kron_sum(factor_1, factor_2)\n",
    "print(factor_1 == kronecker_factor(b, [3, 2], 0))\n",
    "print(factor_2 == kronecker_factor(b, [3, 2], 1))"
   ]
  },
  {
   "cell_type": "markdown",
   "id": "d1dd3db0-0c9b-49a4-90ee-dd2ede14e25f",
   "metadata": {},
   "source": [
    "## Fast KS-Diag"
   ]
  },
  {
   "cell_type": "code",
   "execution_count": null,
   "id": "d098881b-9eba-4e7e-9b2c-ecf080ee7657",
   "metadata": {},
   "outputs": [
    {
     "name": "stdout",
     "output_type": "stream",
     "text": [
      "[0. 1. 2. 3. 1. 2. 3. 4. 2. 3. 4. 5. 1. 2. 3. 4. 2. 3. 4. 5. 3. 4. 5. 6.]\n"
     ]
    }
   ],
   "source": [
    "def kronsum_diag(\n",
    "    *lams: \"1D vectors to be kronsummed\"\n",
    "):\n",
    "    # Setup\n",
    "    ds = [len(lam) for lam in lams]\n",
    "    d_lefts = np.cumprod([1] + ds[:-1]).astype(int)\n",
    "    d_rights = np.cumprod([1] + ds[::-1])[-2::-1].astype(int)\n",
    "    total = d_rights[0] * ds[0]\n",
    "    out = np.zeros(total)\n",
    "    \n",
    "    # We're gonna be really naughty here and use stride_tricks\n",
    "    # This is going to reshape our vector in a way so that the elements\n",
    "    # we want to affect are batched by the first two dimensions\n",
    "    # \n",
    "    # This is because numpy's memory format doesn't directly support\n",
    "    # block-strides, i.e. there's no direct way to grab:\n",
    "    # [x x x x] x x x x [x x x x] x x x x\n",
    "    # You can only either grab blocks:\n",
    "    # [x x x x x x x x] x x x x x x x x\n",
    "    # or strides:\n",
    "    # [x] x [x] x [x] x [x] x [x] x [x] x [x] x [x] x [x] x [x] x\n",
    "    #\n",
    "    # But with stride_tricks we can massage the data\n",
    "    # into a block-stride format, at the cost of an extra dimension,\n",
    "    # via using a view (NOT a copy), making this quite\n",
    "    # an efficient operation!\n",
    "    for i in range(len(lams)):\n",
    "        sz = lams[i].strides[0]\n",
    "        toset = np.lib.stride_tricks.as_strided(\n",
    "            out,\n",
    "            shape=(\n",
    "                d_lefts[i], # The skips\n",
    "                d_rights[i], # The blocks\n",
    "                ds[i] # What we want\n",
    "            ),\n",
    "            strides=(\n",
    "                sz * ds[i] * d_rights[i],\n",
    "                sz * 1,\n",
    "                sz * d_rights[i],\n",
    "            )\n",
    "        )\n",
    "        toset += lams[i]\n",
    "        \n",
    "    return out\n",
    "    \n",
    "    \n",
    "# This is indeed correct!\n",
    "# Checked by hand\n",
    "print(kronsum_diag(\n",
    "    np.arange(2),\n",
    "    np.arange(3),\n",
    "    np.arange(4)\n",
    "))"
   ]
  },
  {
   "cell_type": "code",
   "execution_count": null,
   "id": "6545b07f-643c-4c84-80a5-5c08cfade870",
   "metadata": {},
   "outputs": [],
   "source": [
    "%load_ext line_profiler"
   ]
  },
  {
   "cell_type": "code",
   "execution_count": null,
   "id": "bb6dff6a-6054-450d-a3c8-2837d6135e9b",
   "metadata": {},
   "outputs": [
    {
     "data": {
      "text/plain": [
       "Timer unit: 1e-06 s\n",
       "\n",
       "Total time: 0.005829 s\n",
       "File: /var/folders/k0/qy74mdx10qs493700g929k5h0000gn/T/ipykernel_27579/3788467138.py\n",
       "Function: kronsum_diag at line 1\n",
       "\n",
       "Line #      Hits         Time  Per Hit   % Time  Line Contents\n",
       "==============================================================\n",
       "     1                                           def kronsum_diag(\n",
       "     2                                               *lams: \"1D vectors to be kronsummed\"\n",
       "     3                                           ):\n",
       "     4                                               # Setup\n",
       "     5         1         26.0     26.0      0.4      ds = [len(lam) for lam in lams]\n",
       "     6         1        132.0    132.0      2.3      d_lefts = np.cumprod([1] + ds[:-1]).astype(int)\n",
       "     7         1         87.0     87.0      1.5      d_rights = np.cumprod([1] + ds[::-1])[-2::-1].astype(int)\n",
       "     8         1         13.0     13.0      0.2      total = d_rights[0] * ds[0]\n",
       "     9         1       1493.0   1493.0     25.6      out = np.zeros(total)\n",
       "    10                                               \n",
       "    11                                               # We're gonna be really naughty here and use stride_tricks\n",
       "    12                                               # This is going to reshape our vector in a way so that the elements\n",
       "    13                                               # we want to affect are batched by the first two dimensions\n",
       "    14                                               # \n",
       "    15                                               # This is because numpy's memory format doesn't directly support\n",
       "    16                                               # block-strides, i.e. there's no direct way to grab:\n",
       "    17                                               # [x x x x] x x x x [x x x x] x x x x\n",
       "    18                                               # You can only either grab blocks:\n",
       "    19                                               # [x x x x x x x x] x x x x x x x x\n",
       "    20                                               # or strides:\n",
       "    21                                               # [x] x [x] x [x] x [x] x [x] x [x] x [x] x [x] x [x] x [x] x\n",
       "    22                                               #\n",
       "    23                                               # But with stride_tricks we can massage the data\n",
       "    24                                               # into a block-stride format, at the cost of an extra dimension,\n",
       "    25                                               # via using a view (NOT a copy), making this quite\n",
       "    26                                               # an efficient operation!\n",
       "    27         4         32.0      8.0      0.5      for i in range(len(lams)):\n",
       "    28         3         19.0      6.3      0.3          sz = lams[i].strides[0]\n",
       "    29         6        314.0     52.3      5.4          toset = np.lib.stride_tricks.as_strided(\n",
       "    30         3          5.0      1.7      0.1              out,\n",
       "    31         3          7.0      2.3      0.1              shape=(\n",
       "    32         3         31.0     10.3      0.5                  d_lefts[i], # The skips\n",
       "    33         3          7.0      2.3      0.1                  d_rights[i], # The blocks\n",
       "    34         3          6.0      2.0      0.1                  ds[i] # What we want\n",
       "    35                                                       ),\n",
       "    36         3          4.0      1.3      0.1              strides=(\n",
       "    37         3         20.0      6.7      0.3                  sz * ds[i] * d_rights[i],\n",
       "    38         3          5.0      1.7      0.1                  sz * 1,\n",
       "    39         3          6.0      2.0      0.1                  sz * d_rights[i],\n",
       "    40                                                       )\n",
       "    41                                                   )\n",
       "    42         3       3620.0   1206.7     62.1          toset += lams[i]\n",
       "    43                                                   \n",
       "    44         1          2.0      2.0      0.0      return out"
      ]
     },
     "metadata": {},
     "output_type": "display_data"
    }
   ],
   "source": [
    "# We can see that this operation is just about as fast as possible\n",
    "# Time is dominated by initialization and broadcasting\n",
    "# And consistently a couple percent of the time is taken by stride tricks\n",
    "# which is a basically free operation.\n",
    "# Can run 100-200 times a second on 100x100x100 data\n",
    "# And same for 1000x1000 data\n",
    "# And 500-1000 times a second on 100x100 data\n",
    "%lprun -f kronsum_diag kronsum_diag(np.arange(100)+1, np.arange(100)+1, np.arange(100)+1)"
   ]
  },
  {
   "cell_type": "markdown",
   "id": "98b6d502-956e-4892-a6f7-a78918fd9615",
   "metadata": {},
   "source": [
    "</details>"
   ]
  }
 ],
 "metadata": {
  "citation-manager": {
   "items": {}
  },
  "kernelspec": {
   "display_name": "Python [conda env:my_default_environment]",
   "language": "python",
   "name": "conda-env-my_default_environment-py"
  },
  "language_info": {
   "codemirror_mode": {
    "name": "ipython",
    "version": 3
   },
   "file_extension": ".py",
   "mimetype": "text/x-python",
   "name": "python",
   "nbconvert_exporter": "python",
   "pygments_lexer": "ipython3",
   "version": "3.9.12"
  }
 },
 "nbformat": 4,
 "nbformat_minor": 5
}
