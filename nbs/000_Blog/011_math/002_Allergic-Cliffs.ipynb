{
 "cells": [
  {
   "cell_type": "raw",
   "id": "108c00cc-dda1-4586-905b-f0f688c300b4",
   "metadata": {},
   "source": [
    "---\n",
    "title: \"Zoombinis - Allergic Cliffs\"\n",
    "description: \"Math in a child's game\"\n",
    "author: \"Bailey Andrew\"\n",
    "date: \"Mar 6 2023\"\n",
    "draft: false\n",
    "categories: [Fun, Zoombinis, Vroomy Code]\n",
    "format:\n",
    "  html:\n",
    "    css:\n",
    "      - ../../html_scripts/collapse.css\n",
    "      - ../../html_scripts/pretty_shortcuts.css\n",
    "    include-after-body: \n",
    "      - ../../html_scripts/collapse.html\n",
    "      - ../../html_scripts/comments.html\n",
    "      - ../../html_scripts/make_header_sensible.html\n",
    "---"
   ]
  },
  {
   "cell_type": "code",
   "execution_count": 184,
   "id": "bc54c4b4-109c-4cf2-88dd-6accfc75966d",
   "metadata": {},
   "outputs": [],
   "source": [
    "from dataclasses import dataclass\n",
    "from typing import Callable, Optional, Tuple\n",
    "import random"
   ]
  },
  {
   "cell_type": "markdown",
   "id": "e6452b38-e346-476a-879e-64de68b4ed00",
   "metadata": {},
   "source": [
    "Growing up, I played a lot of Zoombinis.  Zoombinis is well-known for teaching maths, but I think most people talk more about the \"high-concept\" maths that it teaches, i.e. set theory.  I haven't seen much discussion on the algorithmics that it teaches.\n",
    "\n",
    "The topic of this blog post is the first level of Zoombinis.  In it, you have a set of Zoombinis and two paths (cliffs) in front of you.  Each Zoombini can travel across exactly one path - but you don't know which one until you try it!  Which path they can traverse is based on the features of the Zoombinis - on the easiest difficulty, one of the cliffs is \"allergic\" to Zoombinis with exactly one type of trait, and the other is allergic to all other Zoombinis.\n",
    "\n",
    "![Can you work out the rule?](./Images/Allergic-Cliffs-In-Progress.jpeg)\n",
    "\n",
    "<details>\n",
    "    <summary><b style=\"color:#C0CF96\">Solution</b></summary>\n",
    "    \n",
    "The bottom cliff only wants one-eyed Zoombinis.\n",
    "    \n",
    "![The solution](./Images/Allergic-Cliffs-Completed.jpeg)\n",
    "    \n",
    "</details>"
   ]
  },
  {
   "cell_type": "markdown",
   "id": "8b495787-4399-4628-a737-a1db81dba57d",
   "metadata": {},
   "source": [
    "We can talk about how it is teaching basic set theory (complements and unions - depending on difficulty level), but that does not interest me that much.  Rather, I'm interested in how to efficiently solve the level.  There are multiple ways to define efficiency:\n",
    "\n",
    "* Runtime\n",
    "* Memory use\n",
    "* Number of attempts to cross the cliff\n",
    "  - Called \"Output Queries\"\n",
    "* Number of times we search our set of Zoombinis for a specific feature/set of features\n",
    "  - Called \"Input Queries\"\n",
    "  - For humans, this can be the part that takes the most real-life time"
   ]
  },
  {
   "cell_type": "markdown",
   "id": "1797238d-5e10-461b-adcd-dd7495479cd0",
   "metadata": {},
   "source": [
    "Since the problem size for Zoombinis is fixed (at most 16 Zoombinis per level), considering asymptotic complexity is not of much interest to me currently.  Also, I'm most interested in algorithms humans would actually implement, in which case the time sink is the number of input and output queries."
   ]
  },
  {
   "cell_type": "markdown",
   "id": "3d9602c2-dbb8-4511-a592-00b02b70f306",
   "metadata": {},
   "source": [
    "# Problem Definition"
   ]
  },
  {
   "cell_type": "markdown",
   "id": "b61d3e8f-6ad8-4f06-b2ec-6de7f1754099",
   "metadata": {},
   "source": [
    "A \"Zoombini\" can be defined as follows:"
   ]
  },
  {
   "cell_type": "code",
   "execution_count": 2,
   "id": "3dc4deb0-e13d-4424-b2c3-9d05e4551789",
   "metadata": {},
   "outputs": [],
   "source": [
    "@dataclass\n",
    "class Zoombini:\n",
    "    hair: int\n",
    "    eyes: int\n",
    "    nose: int\n",
    "    feet: int"
   ]
  },
  {
   "cell_type": "markdown",
   "id": "be7adb46-f26e-4c57-bb23-59409eae8fca",
   "metadata": {},
   "source": [
    "Where there are 5 possible values for each attribute of the Zoombini.\n",
    "\n",
    "We could, of course, generalize what it means to be a Zoombini:"
   ]
  },
  {
   "cell_type": "code",
   "execution_count": 366,
   "id": "02b69751-e104-4253-8b26-9ee10be89942",
   "metadata": {},
   "outputs": [],
   "source": [
    "# Number of values per attribute\n",
    "possible_values: dict[str, int] = {\n",
    "    \"Head\": 5,\n",
    "    \"Eyes\": 5,\n",
    "    \"Nose\": 5,\n",
    "    \"Feet\": 5\n",
    "}\n",
    "\n",
    "@dataclass\n",
    "class GeneralizedZoombini:\n",
    "    attributes: dict[str, int]\n",
    "    \n",
    "    def __hash__(self) -> int:\n",
    "        \"\"\"\n",
    "        This is necessary to allow\n",
    "        our zoombini to be in a set\n",
    "        \"\"\"\n",
    "        return hash(\n",
    "            tuple(\n",
    "                (k, self.attributes[k])\n",
    "                for k\n",
    "                in sorted(self.attributes.keys())\n",
    "            )\n",
    "        )"
   ]
  },
  {
   "cell_type": "markdown",
   "id": "8627cba1-bde4-4a49-af1d-9cf4b65050c1",
   "metadata": {},
   "source": [
    "The input then consists of a set of Zoombinis and an oracle to query:"
   ]
  },
  {
   "cell_type": "code",
   "execution_count": 31,
   "id": "0ff78300-023e-4e4a-bb21-27bc0734cf60",
   "metadata": {},
   "outputs": [],
   "source": [
    "zoombinis: set[GeneralizedZoombini]\n",
    "cliff_oracle: Callable[GeneralizedZoombini, bool]"
   ]
  },
  {
   "cell_type": "markdown",
   "id": "787ac25c-29ad-49bf-abb1-f426d2b5ba0b",
   "metadata": {},
   "source": [
    "This setup will allow us to design algorithms built around minimizing calls to `cliff_oracle` - if we wanted to measure input queries, we'd have to store the zoombinis in a more restricted data structure."
   ]
  },
  {
   "cell_type": "code",
   "execution_count": 75,
   "id": "1333c447-7797-475c-885a-6d86cafdac26",
   "metadata": {},
   "outputs": [],
   "source": [
    "# This is a decorator to measure function calls\n",
    "# If you've never used decorators before, just\n",
    "# ignore this.\n",
    "expensive_operations: dict = {}\n",
    "def expensive(name: str) -> \"Decorator\":\n",
    "    def out(function: Callable) -> Callable:\n",
    "        def func(*args, **kwargs):\n",
    "            if name in expensive_operations:\n",
    "                expensive_operations[name] += 1\n",
    "            else:\n",
    "                expensive_operations[name] = 1\n",
    "            return function(*args, **kwargs)\n",
    "        return func\n",
    "    return out"
   ]
  },
  {
   "cell_type": "code",
   "execution_count": 339,
   "id": "ed620f1d-1093-4116-b1bc-869c02eb8bd0",
   "metadata": {},
   "outputs": [],
   "source": [
    "class ZoombiniSet:\n",
    "    zoombinis: set[GeneralizedZoombini]\n",
    "    \n",
    "    def __init__(self, z: set[GeneralizedZoombini]):\n",
    "        self.zoombinis = z\n",
    "        \n",
    "    def _remove(self, zoombini: GeneralizedZoombini):\n",
    "        \"\"\"\n",
    "        Private method; you're not allowed to use this.\n",
    "        \"\"\"\n",
    "        self.zoombinis.remove(zoombini)\n",
    "        \n",
    "    def size(self):\n",
    "        return len(self.zoombinis)\n",
    "    \n",
    "    def arbitrary_zoombini(self) -> GeneralizedZoombini:\n",
    "        return random.choice(list(self.zoombinis))\n",
    "    \n",
    "    @expensive(\"Input Query\")\n",
    "    def get_zoombini_with_features(\n",
    "        self,\n",
    "        features: dict[str, int],\n",
    "    ) -> Optional[GeneralizedZoombini]:\n",
    "        for zoombini in self.zoombinis:\n",
    "            zoombini_works = True\n",
    "            for feature, value in features.items():\n",
    "                if zoombini.attributes[feature] != value:\n",
    "                    zoombini_works = False\n",
    "                    break\n",
    "            if zoombini_works:\n",
    "                return zoombini\n",
    "        return None"
   ]
  },
  {
   "cell_type": "markdown",
   "id": "12187c04-ed86-4687-9d4e-274a25053724",
   "metadata": {},
   "source": [
    "We have leeway in how we define `get_zoombini_with_features`; how complicated are we allowed to make our input query?  If we allow it to be too complicated, it would take \"too long\" for a human to go through - but in theory we should allow all valid predicate logic statements as queries, since a human _could_ do this."
   ]
  },
  {
   "cell_type": "markdown",
   "id": "522eae01-e4cc-4dff-ae90-4bd378a8687f",
   "metadata": {},
   "source": [
    "To have a viable playground to experiment with this problem, we should have a way of creating random instances of the problem.  Generating a random `ZoombiniSet` is easy:"
   ]
  },
  {
   "cell_type": "code",
   "execution_count": 134,
   "id": "f85dd143-05c8-4902-a143-77a7c4c09b52",
   "metadata": {},
   "outputs": [
    {
     "data": {
      "text/plain": [
       "{'Input Query': 52}"
      ]
     },
     "execution_count": 134,
     "metadata": {},
     "output_type": "execute_result"
    }
   ],
   "source": [
    "expensive_operations"
   ]
  },
  {
   "cell_type": "code",
   "execution_count": 132,
   "id": "593b53c6-cae2-4eed-8130-2eb17841035e",
   "metadata": {},
   "outputs": [],
   "source": [
    "def random_zoombini_set(\n",
    "    size: int,\n",
    "    possible_values: dict[str, int]\n",
    ") -> ZoombiniSet:\n",
    "    \n",
    "    return ZoombiniSet({\n",
    "        GeneralizedZoombini(\n",
    "            attributes={\n",
    "                key: random.randint(0, val)\n",
    "                for key, val\n",
    "                in possible_values.items()\n",
    "            }\n",
    "        )\n",
    "        for _ in range(size)\n",
    "    })"
   ]
  },
  {
   "cell_type": "markdown",
   "id": "587521bc-083c-4928-9151-b0ed365efdf2",
   "metadata": {},
   "source": [
    "We also want a random oracle.  For now we'll just assume that our cliffs are at difficultly level one in Zoombinis - i.e. they just care about one feature."
   ]
  },
  {
   "cell_type": "code",
   "execution_count": 335,
   "id": "2844d88e-b945-43bb-9736-4255279c4eff",
   "metadata": {},
   "outputs": [],
   "source": [
    "def random_oracle(\n",
    "    possible_values: dict[str, int]\n",
    ") -> Callable[GeneralizedZoombini, bool]:\n",
    "    # Decide whether the cliff only accepts Zoombinis\n",
    "    # with a certain trait,\n",
    "    # Or only rejects Zoombinis with a certain trait:\n",
    "    accepter = True if random.randint(0, 2) == 0 else False\n",
    "    \n",
    "    # Decide what trait to look for\n",
    "    trait_name = random.choice(list(possible_values.keys()))\n",
    "    trait_value = random.randint(0, possible_values[trait_name])\n",
    "    \n",
    "    @expensive(\"Output Query\")\n",
    "    def to_return(zoombini: GeneralizedZoombini) -> bool:\n",
    "        has_trait = zoombini.attributes[trait_name] == trait_value\n",
    "        if accepter:\n",
    "            return has_trait\n",
    "        else:\n",
    "            return not has_trait\n",
    "    return to_return"
   ]
  },
  {
   "cell_type": "code",
   "execution_count": 340,
   "id": "87ead6f8-ce33-4a4c-b7c0-b4b38ee11b88",
   "metadata": {},
   "outputs": [],
   "source": [
    "def send_zoombini_across_bridge(\n",
    "    zoombini: GeneralizedZoombini,\n",
    "    zoombinis: ZoombiniSet,\n",
    "    oracle: Callable[GeneralizedZoombini, bool],\n",
    "    pred_bridge: bool\n",
    ") -> bool:\n",
    "    \"\"\"\n",
    "    Returns whether the bridge was correct or not\n",
    "    \"\"\"\n",
    "    true_bridge = oracle(zoombini)\n",
    "    can_cross = (pred_bridge == true_bridge)\n",
    "    if can_cross:\n",
    "        zoombinis._remove(zoombini)\n",
    "    return can_cross"
   ]
  },
  {
   "cell_type": "markdown",
   "id": "ad216ad2-c128-4a7a-bbfe-da08c07009f8",
   "metadata": {},
   "source": [
    "# Solutions to Easy Difficulty"
   ]
  },
  {
   "cell_type": "markdown",
   "id": "d1eb7cca-ee88-4c5e-b756-7883431e22c7",
   "metadata": {},
   "source": [
    "Here's a naïve solution - we always send a Zoombini into the last bridge that worked."
   ]
  },
  {
   "cell_type": "code",
   "execution_count": 443,
   "id": "6fd3aff7-79d0-4d8c-9be5-45a85b464539",
   "metadata": {},
   "outputs": [],
   "source": [
    "def naive_algorithm(\n",
    "    zoombinis: ZoombiniSet,\n",
    "    possible_values: dict[str, int],\n",
    "    oracle\n",
    "):\n",
    "    pred_bridge = True\n",
    "    while zoombinis.size() > 0:\n",
    "        zoombini = zoombinis.arbitrary_zoombini()\n",
    "        if not send_zoombini_across_bridge(\n",
    "            zoombini,\n",
    "            zoombinis,\n",
    "            oracle,\n",
    "            pred_bridge\n",
    "        ):\n",
    "            pred_bridge = not pred_bridge\n",
    "            send_zoombini_across_bridge(\n",
    "                zoombini,\n",
    "                zoombinis,\n",
    "                oracle,\n",
    "                pred_bridge\n",
    "            )"
   ]
  },
  {
   "cell_type": "code",
   "execution_count": 463,
   "id": "acbfa51c-769c-4176-b975-516abffd305e",
   "metadata": {},
   "outputs": [],
   "source": [
    "possible_values: dict[str, int] = {\n",
    "    \"Head\": 5,\n",
    "    \"Eyes\": 5,\n",
    "    \"Nose\": 5,\n",
    "    \"Feet\": 5\n",
    "}\n",
    "\n",
    "def problem_loop(\n",
    "    algorithm,\n",
    "    possible_values: dict[str, int],\n",
    "    num_runs: int = 10000,\n",
    "    zoombini_count: int = 16,\n",
    "    level: str = \"Not So Easy\"\n",
    ") -> dict:\n",
    "    global expensive_operations\n",
    "    expensive_operations = {}\n",
    "\n",
    "    for i in range(0, num_runs):\n",
    "        zoombinis: ZoombiniSet = random_zoombini_set(zoombini_count, possible_values)\n",
    "        oracle = random_oracle(possible_values, level=level)\n",
    "        algorithm(zoombinis, possible_values, oracle)\n",
    "        \n",
    "    return expensive_operations"
   ]
  },
  {
   "cell_type": "code",
   "execution_count": 461,
   "id": "2e5848cf-94e0-4852-a077-70393bf94318",
   "metadata": {},
   "outputs": [
    {
     "name": "stdout",
     "output_type": "stream",
     "text": [
      "Mean Expensive Operations: \n"
     ]
    },
    {
     "data": {
      "text/plain": [
       "{'Output Query': 20.4189}"
      ]
     },
     "metadata": {},
     "output_type": "display_data"
    }
   ],
   "source": [
    "expensive_operations = problem_loop(naive_algorithm, possible_values)\n",
    "    \n",
    "print(\"Mean Expensive Operations: \")\n",
    "display(mean_eo := {\n",
    "    key: value / num_runs\n",
    "    for key, value\n",
    "    in expensive_operations.items()\n",
    "})"
   ]
  },
  {
   "cell_type": "markdown",
   "id": "0872624f-9203-433a-b3d3-eda5a6f23bbe",
   "metadata": {},
   "source": [
    "In Zoombinis, you loose if you make 6 failed attempts - i.e. 16+6=22 output queries.  Thus, the naïve solution actually works on the easy difficulty on average!"
   ]
  },
  {
   "cell_type": "markdown",
   "id": "aaf3d316-810e-4e51-b2ca-e5ed380340ae",
   "metadata": {},
   "source": [
    "We can be more advanced by keeping track of who has been accepted and always sending the Zoombini across the path that it has the most in common with the Zoombinis that already passed it."
   ]
  },
  {
   "cell_type": "code",
   "execution_count": 374,
   "id": "1f34b95f-6d2b-4756-8fbc-c15993924965",
   "metadata": {},
   "outputs": [],
   "source": [
    "def attributes_as_set(zoombini) -> set[str]:\n",
    "        \"\"\"\n",
    "        This is a helper function to allow us to\n",
    "        do set maths on Zoombinis\n",
    "        \"\"\"\n",
    "        return {\n",
    "            key + str(value)\n",
    "            for key, value\n",
    "            in zoombini.attributes.items()\n",
    "        }\n",
    "    \n",
    "def all_attributes_as_set(possible_values: dict[str, int]) -> set[str]:\n",
    "    \"\"\"\n",
    "    Get a set containing all possible zoombini attributes\n",
    "    \"\"\"\n",
    "    to_return = set({})\n",
    "    for key, value in possible_values.items():\n",
    "        to_return |= {\n",
    "            key + str(v)\n",
    "            for v in range(value)\n",
    "        }\n",
    "    return to_return"
   ]
  },
  {
   "cell_type": "code",
   "execution_count": 660,
   "id": "94d520c8-2c87-4de5-9e6b-ff69468f9ac7",
   "metadata": {},
   "outputs": [],
   "source": [
    "possible_values: dict[str, int] = {\n",
    "    \"Head\": 5,\n",
    "    \"Eyes\": 5,\n",
    "    \"Nose\": 5,\n",
    "    \"Feet\": 5\n",
    "}\n",
    "\n",
    "def similarity_algorithm(\n",
    "    zoombinis: ZoombiniSet,\n",
    "    possible_values: dict[str, int],\n",
    "    oracle\n",
    "):\n",
    "    accepted: dict[bool, set[\"Features\"]]\n",
    "    accepted = {\n",
    "        True: all_attributes_as_set(possible_values),\n",
    "        False: all_attributes_as_set(possible_values)\n",
    "    }\n",
    "    pred_bridge = True\n",
    "    while zoombinis.size() > 0:\n",
    "        zoombini = zoombinis.arbitrary_zoombini()\n",
    "        attributes = attributes_as_set(zoombini)\n",
    "        \n",
    "        # Always send across the bridge\n",
    "        # with more attributes matching\n",
    "        pred_match = len(accepted[pred_bridge] & attributes)\n",
    "        unpred_match = len(accepted[not pred_bridge] & attributes)\n",
    "        if pred_match == 0:\n",
    "            if unpred_match == 0:\n",
    "                # Both empty set, want to go\n",
    "                # to the less exclusive side\n",
    "                # For heuristic reasons, and\n",
    "                # because this is the correct\n",
    "                # choice in the limit\n",
    "                # The less exclusive side has a\n",
    "                # smaller intersection.\n",
    "                if len(accepted[not pred_bridge]) < len(accepted[pred_bridge]):\n",
    "                    pred_bridge = not pred_bridge\n",
    "        # If we've matched in one but not the other, we should\n",
    "        # go to the one we've matched with, because that's probably\n",
    "        # the exclusive side.\n",
    "        if pred_match == 0:\n",
    "            if unpred_match > 0:\n",
    "                pred_bridge = not pred_bridge\n",
    "        # If we've matched in both, go to the less exclusive side\n",
    "        if len(accepted[not pred_bridge]) < len(accepted[pred_bridge]):\n",
    "            pred_bridge = not pred_bridge\n",
    "        \n",
    "        # Try to send across the bridge\n",
    "        if not send_zoombini_across_bridge(\n",
    "            zoombini,\n",
    "            zoombinis,\n",
    "            oracle,\n",
    "            pred_bridge\n",
    "        ):\n",
    "            pred_bridge = not pred_bridge\n",
    "            send_zoombini_across_bridge(\n",
    "                zoombini,\n",
    "                zoombinis,\n",
    "                oracle,\n",
    "                pred_bridge\n",
    "            )\n",
    "            \n",
    "        # Update our list of accepted things\n",
    "        accepted[pred_bridge] &= attributes"
   ]
  },
  {
   "cell_type": "code",
   "execution_count": 668,
   "id": "a7940cbc-6d01-42a7-89a4-814d795d22d1",
   "metadata": {},
   "outputs": [
    {
     "name": "stdout",
     "output_type": "stream",
     "text": [
      "Mean Expensive Operations: \n"
     ]
    },
    {
     "data": {
      "text/plain": [
       "{'Output Query': 19.2147}"
      ]
     },
     "metadata": {},
     "output_type": "display_data"
    }
   ],
   "source": [
    "expensive_operations = problem_loop(similarity_algorithm, possible_values)\n",
    "\n",
    "print(\"Mean Expensive Operations: \")\n",
    "display(mean_eo := {\n",
    "    key: value / num_runs\n",
    "    for key, value\n",
    "    in expensive_operations.items()\n",
    "})"
   ]
  },
  {
   "cell_type": "markdown",
   "id": "32f3008a-4b33-4e9f-ae03-90af73409231",
   "metadata": {},
   "source": [
    "So it seems like being smart awards us one less guess.  If we consider the case when there are very many Zoombinis, we gain a larger speedup:"
   ]
  },
  {
   "cell_type": "code",
   "execution_count": 669,
   "id": "5dc9dc81-4706-4f7c-93cd-77da2ec14ad1",
   "metadata": {},
   "outputs": [
    {
     "name": "stdout",
     "output_type": "stream",
     "text": [
      "Mean Expensive Operations: \n"
     ]
    },
    {
     "data": {
      "text/plain": [
       "{'Output Query': 123.0532}"
      ]
     },
     "metadata": {},
     "output_type": "display_data"
    }
   ],
   "source": [
    "possible_values: dict[str, int] = {\n",
    "    \"Head\": 5,\n",
    "    \"Eyes\": 5,\n",
    "    \"Nose\": 5,\n",
    "    \"Feet\": 5\n",
    "}\n",
    "expensive_operations = problem_loop(\n",
    "    naive_algorithm,\n",
    "    possible_values,\n",
    "    zoombini_count=100\n",
    ")\n",
    "    \n",
    "print(\"Mean Expensive Operations: \")\n",
    "display(mean_eo := {\n",
    "    key: value / num_runs\n",
    "    for key, value\n",
    "    in expensive_operations.items()\n",
    "})"
   ]
  },
  {
   "cell_type": "code",
   "execution_count": 670,
   "id": "2e3d5d24-b406-436c-acb2-9c3d8871050b",
   "metadata": {},
   "outputs": [
    {
     "name": "stdout",
     "output_type": "stream",
     "text": [
      "Mean Expensive Operations: \n"
     ]
    },
    {
     "data": {
      "text/plain": [
       "{'Output Query': 114.5253}"
      ]
     },
     "metadata": {},
     "output_type": "display_data"
    }
   ],
   "source": [
    "possible_values: dict[str, int] = {\n",
    "    \"Head\": 5,\n",
    "    \"Eyes\": 5,\n",
    "    \"Nose\": 5,\n",
    "    \"Feet\": 5\n",
    "}\n",
    "expensive_operations = problem_loop(\n",
    "    similarity_algorithm,\n",
    "    possible_values,\n",
    "    zoombini_count=100\n",
    ")\n",
    "    \n",
    "print(\"Mean Expensive Operations: \")\n",
    "display(mean_eo := {\n",
    "    key: value / num_runs\n",
    "    for key, value\n",
    "    in expensive_operations.items()\n",
    "})"
   ]
  },
  {
   "cell_type": "markdown",
   "id": "503e52b7-c1fb-4d39-bdcf-13f6dabbe88a",
   "metadata": {},
   "source": [
    "So it seems that being 'smart' doesn't gain too much benefit on the easy difficulty.  This makes sense; if a cliff only accepts a single feature, most Zoombinis will be on one side.  The naïve solution does well because the chance of two Zoombinis being accepted by the same cliff is rather high, since the same cliff accepts most Zoombinis.  If we increase the difficulty to level two or higher, the Zoombinis should hopefully be a more even split, allowing the smarter algorithm to take the lead."
   ]
  },
  {
   "cell_type": "markdown",
   "id": "61054d6c-a6bb-433b-9e30-78ee0b7320b0",
   "metadata": {},
   "source": [
    "# Difficulties"
   ]
  },
  {
   "cell_type": "markdown",
   "id": "b05b4dcc-bc66-442c-9cd7-d582296b7c8b",
   "metadata": {},
   "source": [
    "Here is a brief explanation of all the difficulties."
   ]
  },
  {
   "cell_type": "markdown",
   "id": "ac0f8b83-f221-4201-928c-2bbf9ffa19ef",
   "metadata": {},
   "source": [
    "## Level 1 - Not So Easy"
   ]
  },
  {
   "cell_type": "markdown",
   "id": "1bb6a876-0e59-4e30-a924-7aa62a163eee",
   "metadata": {},
   "source": [
    "One cliff accepts all Zoombinis with a specific attribute (such as sunglasses), and the other cliff rejects them all."
   ]
  },
  {
   "cell_type": "markdown",
   "id": "3b72f14a-baea-4413-8120-297e85a7abe2",
   "metadata": {},
   "source": [
    "## Level 2 - Oh So Hard"
   ]
  },
  {
   "cell_type": "markdown",
   "id": "7c00f4a0-27dd-4d5a-b129-3b6408afbcc4",
   "metadata": {},
   "source": [
    "One cliff accepts a Zoombini if it has one of two types of the same attribute (i.e. one cliff might accept either curly hair or a hat, but you won't get a mix of accepting curly hair or sunglasses).  It rejects all others."
   ]
  },
  {
   "cell_type": "markdown",
   "id": "2f088c37-3df3-4fb5-8682-2f480413bc5c",
   "metadata": {},
   "source": [
    "## Level 3 - Very Hard"
   ]
  },
  {
   "cell_type": "markdown",
   "id": "ffd3751b-d036-48ff-aac1-260982c709e6",
   "metadata": {},
   "source": [
    "One cliff accepts a Zoombini if it has one of two features, where the features are from different attributes (i.e. curly hair or sunglasses).  It rejects all others."
   ]
  },
  {
   "cell_type": "markdown",
   "id": "6d160885-bbb7-4dc2-a3ef-3efbd3e219a8",
   "metadata": {},
   "source": [
    "## Level 4 - Very, Very Hard"
   ]
  },
  {
   "cell_type": "markdown",
   "id": "7f45fa6e-4daf-42c8-a332-a8f137a06354",
   "metadata": {},
   "source": [
    "Same as before, but with three features instead of two.  In the original game, it is apparently impossible to guarantee you will deduce the rule within the amount of guesses alloted to you - although I don't know the details of this fact."
   ]
  },
  {
   "cell_type": "markdown",
   "id": "9661dcdb-6181-4bc6-81de-7941791f40ed",
   "metadata": {},
   "source": [
    "# Higher Difficulty Comparison"
   ]
  },
  {
   "cell_type": "code",
   "execution_count": 671,
   "id": "b695d70a-b443-41bb-a41b-4b7eddf03956",
   "metadata": {},
   "outputs": [],
   "source": [
    "def random_oracle(\n",
    "    possible_values: dict[str, int],\n",
    "    level: str = \"Not So Easy\"\n",
    ") -> Callable[GeneralizedZoombini, bool]:\n",
    "    # Decide whether the cliff only accepts Zoombinis\n",
    "    # with a certain trait,\n",
    "    # Or only rejects Zoombinis with a certain trait:\n",
    "    accepter = True if random.randint(0, 2) == 0 else False\n",
    "    \n",
    "    if level == \"Not So Easy\":\n",
    "        # Decide what trait to look for\n",
    "        trait_name = random.choice(list(possible_values.keys()))\n",
    "        trait_value = random.randint(0, possible_values[trait_name])\n",
    "\n",
    "        @expensive(\"Output Query\")\n",
    "        def to_return(zoombini: GeneralizedZoombini) -> bool:\n",
    "            has_trait = zoombini.attributes[trait_name] == trait_value\n",
    "            if accepter:\n",
    "                return has_trait\n",
    "            else:\n",
    "                return not has_trait\n",
    "        return to_return\n",
    "    elif level == \"Oh So Hard\":\n",
    "        # Decide what trait to look for\n",
    "        trait_name = random.choice(list(possible_values.keys()))\n",
    "        trait_values = random.sample(\n",
    "            list(range(0, possible_values[trait_name])),\n",
    "            2\n",
    "        )\n",
    "\n",
    "        @expensive(\"Output Query\")\n",
    "        def to_return(zoombini: GeneralizedZoombini) -> bool:\n",
    "            has_trait = zoombini.attributes[trait_name] in trait_values\n",
    "            if accepter:\n",
    "                return has_trait\n",
    "            else:\n",
    "                return not has_trait\n",
    "        return to_return\n",
    "    elif level == \"Very Hard\":\n",
    "        # Decide what trait to look for\n",
    "        trait_names = random.sample(list(possible_values.keys()), 2)\n",
    "        trait_values = {\n",
    "            trait: random.randint(0, possible_values[trait])\n",
    "            for trait in trait_names\n",
    "        }\n",
    "\n",
    "        @expensive(\"Output Query\")\n",
    "        def to_return(zoombini: GeneralizedZoombini) -> bool:\n",
    "            for trait in trait_names:\n",
    "                has_trait = zoombini.attributes[trait] == trait_values[trait]\n",
    "                if accepter:\n",
    "                    return has_trait\n",
    "                else:\n",
    "                    return not has_trait\n",
    "        return to_return\n",
    "    elif level == \"Very, Very Hard\":\n",
    "        # Decide what trait to look for\n",
    "        trait_names = random.sample(list(possible_values.keys()), 3)\n",
    "        trait_values = {\n",
    "            trait: random.randint(0, possible_values[trait])\n",
    "            for trait in trait_names\n",
    "        }\n",
    "        \n",
    "        @expensive(\"Output Query\")\n",
    "        def to_return(zoombini: GeneralizedZoombini) -> bool:\n",
    "            for trait in trait_names:\n",
    "                has_trait = zoombini.attributes[trait] == trait_values[trait]\n",
    "                if accepter:\n",
    "                    return has_trait\n",
    "                else:\n",
    "                    return not has_trait\n",
    "        return to_return\n",
    "    else:\n",
    "        raise NotImplementedError(f\"No such level {level}\")"
   ]
  },
  {
   "cell_type": "code",
   "execution_count": 677,
   "id": "5f09a850-5d45-4686-9859-1a11f345f227",
   "metadata": {},
   "outputs": [
    {
     "name": "stdout",
     "output_type": "stream",
     "text": [
      "Mean Expensive Operations for Not So Easy: \n"
     ]
    },
    {
     "data": {
      "text/plain": [
       "{'Output Query': 20.3887}"
      ]
     },
     "metadata": {},
     "output_type": "display_data"
    },
    {
     "name": "stdout",
     "output_type": "stream",
     "text": [
      "Mean Expensive Operations for Oh So Hard: \n"
     ]
    },
    {
     "data": {
      "text/plain": [
       "{'Output Query': 23.0109}"
      ]
     },
     "metadata": {},
     "output_type": "display_data"
    },
    {
     "name": "stdout",
     "output_type": "stream",
     "text": [
      "Mean Expensive Operations for Very Hard: \n"
     ]
    },
    {
     "data": {
      "text/plain": [
       "{'Output Query': 20.4337}"
      ]
     },
     "metadata": {},
     "output_type": "display_data"
    },
    {
     "name": "stdout",
     "output_type": "stream",
     "text": [
      "Mean Expensive Operations for Very, Very Hard: \n"
     ]
    },
    {
     "data": {
      "text/plain": [
       "{'Output Query': 20.4269}"
      ]
     },
     "metadata": {},
     "output_type": "display_data"
    }
   ],
   "source": [
    "for level in [\"Not So Easy\", \"Oh So Hard\", \"Very Hard\", \"Very, Very Hard\"]:\n",
    "    expensive_operations = problem_loop(\n",
    "        naive_algorithm,\n",
    "        possible_values,\n",
    "        level=level,\n",
    "        zoombini_count=16\n",
    "    )\n",
    "    print(f\"Mean Expensive Operations for {level}: \")\n",
    "    display(mean_eo := {\n",
    "        key: value / num_runs\n",
    "        for key, value\n",
    "        in expensive_operations.items()\n",
    "    })"
   ]
  },
  {
   "cell_type": "code",
   "execution_count": 678,
   "id": "1e7a94d2-1f91-4b52-a010-aa81e2b8de2a",
   "metadata": {},
   "outputs": [
    {
     "name": "stdout",
     "output_type": "stream",
     "text": [
      "Mean Expensive Operations for Not So Easy: \n"
     ]
    },
    {
     "data": {
      "text/plain": [
       "{'Output Query': 19.2308}"
      ]
     },
     "metadata": {},
     "output_type": "display_data"
    },
    {
     "name": "stdout",
     "output_type": "stream",
     "text": [
      "Mean Expensive Operations for Oh So Hard: \n"
     ]
    },
    {
     "data": {
      "text/plain": [
       "{'Output Query': 22.5889}"
      ]
     },
     "metadata": {},
     "output_type": "display_data"
    },
    {
     "name": "stdout",
     "output_type": "stream",
     "text": [
      "Mean Expensive Operations for Very Hard: \n"
     ]
    },
    {
     "data": {
      "text/plain": [
       "{'Output Query': 19.1853}"
      ]
     },
     "metadata": {},
     "output_type": "display_data"
    },
    {
     "name": "stdout",
     "output_type": "stream",
     "text": [
      "Mean Expensive Operations for Very, Very Hard: \n"
     ]
    },
    {
     "data": {
      "text/plain": [
       "{'Output Query': 19.2089}"
      ]
     },
     "metadata": {},
     "output_type": "display_data"
    }
   ],
   "source": [
    "for level in [\"Not So Easy\", \"Oh So Hard\", \"Very Hard\", \"Very, Very Hard\"]:\n",
    "    expensive_operations = problem_loop(\n",
    "        similarity_algorithm,\n",
    "        possible_values,\n",
    "        level=level,\n",
    "        zoombini_count=16\n",
    "    )\n",
    "    print(f\"Mean Expensive Operations for {level}: \")\n",
    "    display(mean_eo := {\n",
    "        key: value / num_runs\n",
    "        for key, value\n",
    "        in expensive_operations.items()\n",
    "    })"
   ]
  },
  {
   "cell_type": "markdown",
   "id": "0833af4d-401e-4272-bcc9-bbe8ec216f79",
   "metadata": {},
   "source": [
    "The smarter algorithm does notably worse on the second difficulty level.  However, this should not be surprising - it was designed for the Not So Easy level, whereas for Oh So Hard we can't take a simple set intersection because the oracle involves a choice between two attributes.  Programming a solution to Oh So Hard is more difficult than the latter two, which involve different features.  For the latter two, instead of doing an intersection of all features, we just take an intersection for each feature individually.  It is surprising that the naive algorithm also does so comparatively well, which implies that the even split hypothesis was incorrect."
   ]
  },
  {
   "cell_type": "markdown",
   "id": "db0e97d6-5bf8-4dc2-8ac5-0100f4a80367",
   "metadata": {},
   "source": [
    "However, I've spent enough time in Zoombini Land, so that's all for today."
   ]
  }
 ],
 "metadata": {
  "citation-manager": {
   "items": {}
  },
  "kernelspec": {
   "display_name": "Python [conda env:Blog-nbdev]",
   "language": "python",
   "name": "conda-env-Blog-nbdev-py"
  },
  "language_info": {
   "codemirror_mode": {
    "name": "ipython",
    "version": 3
   },
   "file_extension": ".py",
   "mimetype": "text/x-python",
   "name": "python",
   "nbconvert_exporter": "python",
   "pygments_lexer": "ipython3",
   "version": "3.9.15"
  }
 },
 "nbformat": 4,
 "nbformat_minor": 5
}
