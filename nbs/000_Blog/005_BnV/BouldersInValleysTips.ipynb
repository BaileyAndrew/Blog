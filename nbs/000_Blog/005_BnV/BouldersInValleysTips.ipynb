{
 "cells": [
  {
   "cell_type": "raw",
   "id": "da0cda15-eac6-4c1d-98b6-220294afc577",
   "metadata": {},
   "source": [
    "---\n",
    "title: \"Boulders in Valleys Tips and Tricks\"\n",
    "description: \"How to get good at Boulders and Valleys\"\n",
    "author: \"Bailey Andrew\"\n",
    "date: \"Jan 7 2023\"\n",
    "draft: false\n",
    "categories: [Fun]\n",
    "---"
   ]
  },
  {
   "cell_type": "markdown",
   "id": "2047b2bb-1fc7-455e-9957-fa2198e31eed",
   "metadata": {},
   "source": [
    "# Boulders in Valleys - Tips and Tricks"
   ]
  },
  {
   "cell_type": "markdown",
   "id": "dcbab048-bcea-4ec0-bef8-f8e663a97b6a",
   "metadata": {},
   "source": [
    "[Boulders in Valleys](../../500_Puzzles/bnv.html) is a puzzle I enjoy creating.  It is also a puzzle I enjoy solving.  This post is all about solving techniques."
   ]
  },
  {
   "cell_type": "markdown",
   "id": "803ea86e-eb56-4c43-b598-c79f2feee5b7",
   "metadata": {},
   "source": [
    "## Beginner Tips"
   ]
  },
  {
   "cell_type": "markdown",
   "id": "cb8ffcf0-2774-471a-a93e-4f2193cbcb3d",
   "metadata": {},
   "source": [
    "![Simple rules to get a beginner started.](./basicbnv.png)"
   ]
  },
  {
   "cell_type": "markdown",
   "id": "7ba9d9e3-fd63-4b65-8928-591ca991880d",
   "metadata": {},
   "source": [
    "These are four basic techniques to get started.  Don't be intimidated by the variable names, if you see them in practice it'll make sense.\n",
    "\n",
    "The first pattern should be straightforward; a zero can't roll anywhere, so it has to sit perched exactly where it is.  The <strong style=\"color:#A6A440\">x</strong>s are used to support the boulder to prevent it rolling off a corner."
   ]
  },
  {
   "cell_type": "markdown",
   "id": "792126d1-ad1a-4b8d-847d-fb06f8174dbe",
   "metadata": {},
   "source": [
    "The second pattern requires a bit more thinking, but if $m\\neq n+1$ then, if it could fall straight down, it would be forced to follow the exact trajectory of $n$, just from 1 higher - i.e. its deepest depth would be $n+1$, a contradiction."
   ]
  },
  {
   "cell_type": "markdown",
   "id": "bb997817-ca0c-4b76-8ed9-c1838b7e07e7",
   "metadata": {},
   "source": [
    "For the third pattern, we know that $q$ needs to roll but it can't roll left or straight down; hence it needs to roll right.  We can mark the place it has rolled to with $r-1$, which can prove useful when the puzzle is difficult."
   ]
  },
  {
   "cell_type": "markdown",
   "id": "da269878-7e02-4f58-b6c9-ce1d81dfbb71",
   "metadata": {},
   "source": [
    "The fourth pattern is similar to the second and third in reasoning; if $n$ rolled left, it would be forced to follow $p$'s deepest trajectory.  As $p > n$, this is a contradiction."
   ]
  },
  {
   "cell_type": "markdown",
   "id": "65af267d-1186-4746-b621-0be9eed991d3",
   "metadata": {},
   "source": [
    "## Intermediate Tricks"
   ]
  },
  {
   "cell_type": "markdown",
   "id": "629502df-5fd3-4435-b631-ddfe107856d3",
   "metadata": {},
   "source": [
    "To take your solving skills to the next step, you should learn some more advanced <strong style=\"color:#A6A440\">patterns</strong>.  In this section, a thick dashed line represents that we are \"<strong style=\"color:#537FBF\">conditioning</strong>\" on an edge.  That is, we ask ourselves \"what happens if this edge is filled in, and what happens if it is crossed out?\".  The goal is to find a contradiction down one of the paths, proving that it must be one way or the other."
   ]
  },
  {
   "cell_type": "markdown",
   "id": "1a3b9b7c-7a72-4d8e-832a-4452e9dcd144",
   "metadata": {},
   "source": [
    "![The Elbow Pattern](BnV01pattern.png)"
   ]
  },
  {
   "cell_type": "markdown",
   "id": "198e166e-bd64-4ba4-ad00-07757fd4198f",
   "metadata": {},
   "source": [
    "We can see that, if there is an edge to the left of the <strong style=\"color:#537FBF\">1</strong>, the <strong style=\"color:#537FBF\">1</strong> would fall too far.  Hence we can arrive at the \"elbow\" shape shown on the right.  This is quite a nice pattern in that it immediately gives you a lot of information about the board; 5 <strong style=\"color:#A6A440\">x</strong>s and three edges is nothing to scoff at!"
   ]
  },
  {
   "cell_type": "markdown",
   "id": "6e92e7d1-7c41-4d1b-b5d4-da191c266d29",
   "metadata": {},
   "source": [
    "![Drop Pattern](bnvdroppattern.png)"
   ]
  },
  {
   "cell_type": "markdown",
   "id": "3ea17d43-5dda-44a1-a8be-38fe0c5c7866",
   "metadata": {},
   "source": [
    "If a boulder is sandwiched between two same-direction-but-deeper boulders, then we know that the boulder has to fall straight down to prevent merging its trajectory with one of the adjacent boulders."
   ]
  },
  {
   "cell_type": "markdown",
   "id": "0f49d58c-7591-4588-86b6-71aa20b82a56",
   "metadata": {},
   "source": [
    "![The Corner Pattern](BnVcornerpattern.png)"
   ]
  },
  {
   "cell_type": "markdown",
   "id": "a0300d76-e6b9-4d24-ad87-6a6f52aaac07",
   "metadata": {},
   "source": [
    "The corner pattern is harder to derive, but also very useful.  We can follow a chain of logic to show that there are only two possible local solutions to the pattern.  This gives us two <strong style=\"color:#A6A440\">x</strong>s and two edges, plus we know that the square marked by the diagonal dashed line either bends outwards or inwards.  This is also a good pattern to have in your toolkit."
   ]
  },
  {
   "cell_type": "markdown",
   "id": "d1e40a75-7b0a-4bcc-888f-5d31b375e57b",
   "metadata": {},
   "source": [
    "![Boundary Conditions](bnvboundary.png)"
   ]
  },
  {
   "cell_type": "markdown",
   "id": "521cfdfa-ac11-4bc4-931b-1dcea647c6d7",
   "metadata": {},
   "source": [
    "The next trick is not a pattern, but an observation - since the grid has to be partitioned in two, if you already touch the boundary in two places you know you cannot touch it in any other place.  This can give you quite a few <strong style=\"color:#A6A440\">x</strong>s that are useful for near-boundary logics."
   ]
  },
  {
   "cell_type": "markdown",
   "id": "c744e510-f043-4f2a-97fc-db8e521b443e",
   "metadata": {},
   "source": [
    "![Phantom Boulders](bnvphantom.png)"
   ]
  },
  {
   "cell_type": "markdown",
   "id": "afd226ce-ba97-4173-954b-cd5e6c3224fb",
   "metadata": {},
   "source": [
    "The next trick is something that was touched upon in the beginner's section; if you know a boulder has to fall one way, it can be useful to mark that cell with the new boulder's information.  The red cell is an implied boulder of depth 1, due to the fall path of the <strong style=\"color:#537FBF\">3</strong>.  As an example of how this might be useful, the grey edges show deductions that can be made using the phantom boulder and the corner pattern."
   ]
  },
  {
   "cell_type": "markdown",
   "id": "f0558308-cba0-46e6-9baf-9e9330157461",
   "metadata": {},
   "source": [
    "![The Staircase of Death](bnvstaircaseofdeath.png)"
   ]
  },
  {
   "cell_type": "markdown",
   "id": "2224c260-6d87-442d-80c3-1806ba073dfd",
   "metadata": {},
   "source": [
    "In certain situations you can create a <strong style=\"color:#A6A440\">staircase of death</strong>.  If the <strong style=\"color:#537FBF\">5↓</strong> rolls to the right, then it will trigger an cascade that can only be stopped by intersection with the grid boundary.  If it would not touch the grid boundary at the right distance, then it produces an invalid configuration and can be ruled out - this forces the <strong style=\"color:#537FBF\">5↓</strong> to roll left and the <strong style=\"color:#537FBF\">5→</strong> to fall right."
   ]
  },
  {
   "cell_type": "markdown",
   "id": "bb5d0917-edd2-4454-87b1-45d0b7be5b5b",
   "metadata": {},
   "source": [
    "## Advanced Techniques"
   ]
  },
  {
   "cell_type": "markdown",
   "id": "8cdc9236-a863-4b1f-b5cf-73a052572194",
   "metadata": {},
   "source": [
    "Advanced techniques can be very powerful, but require a deeper understanding of how <strong style=\"color:#EB1960\">Boulders in Valleys</strong> works.  I'm sure there are some other fundamental concepts that would qualify for being listed here, but that I don't currently know as I'm still learning myself."
   ]
  },
  {
   "cell_type": "markdown",
   "id": "42f97dc4-c4f2-4efe-96b3-3e3e148a25ac",
   "metadata": {},
   "source": [
    "![The No-Traversal Rule](bnvadvanced.png)"
   ]
  },
  {
   "cell_type": "markdown",
   "id": "3cb6a393-8fe5-4e55-9b3c-76daf35c1cb6",
   "metadata": {},
   "source": [
    "The \"no-traversals\" rule comes from a simple observation - no edge can cross the path of a falling boulder.  If it does, then the boulder would either stop or roll to the side, thus changing its path.  In the left image, we can see a possible path for the boulder to take.  However, that would separate the two edges.  Since the solution has to be connected, we know it cannot take this path!  Thus, we can update our possible paths for the boulder (blue background) by taking this into account."
   ]
  },
  {
   "cell_type": "markdown",
   "id": "e1ff3237-44d7-4618-98be-4266952a408d",
   "metadata": {},
   "source": [
    "![Another use of the no-traversals rule](bnvadvanced2.png)"
   ]
  },
  {
   "cell_type": "markdown",
   "id": "eb60a59f-263f-4b22-8472-52edba88f1fa",
   "metadata": {},
   "source": [
    "In this case, we can work out that the boulder falls straight down - if there were anything to its left deflecting it to the right, it would be stuck on the wrong side of the trajectory."
   ]
  },
  {
   "cell_type": "markdown",
   "id": "cbf322ea-e5b4-40e2-ad10-1ea687139f21",
   "metadata": {},
   "source": [
    "<script src=\"https://giscus.app/client.js\"\n",
    "        data-repo=\"baileyandrew/blog\"\n",
    "        data-repo-id=\"R_kgDOInJwKg\"\n",
    "        data-category=\"Announcements\"\n",
    "        data-category-id=\"DIC_kwDOInJwKs4CTGOQ\"\n",
    "        data-mapping=\"title\"\n",
    "        data-strict=\"0\"\n",
    "        data-reactions-enabled=\"1\"\n",
    "        data-emit-metadata=\"0\"\n",
    "        data-input-position=\"top\"\n",
    "        data-theme=\"dark_protanopia\"\n",
    "        data-lang=\"en\"\n",
    "        data-loading=\"lazy\"\n",
    "        crossorigin=\"anonymous\"\n",
    "        async>\n",
    "</script>"
   ]
  }
 ],
 "metadata": {
  "kernelspec": {
   "display_name": "Python [conda env:Blog-nbdev]",
   "language": "python",
   "name": "conda-env-Blog-nbdev-py"
  }
 },
 "nbformat": 4,
 "nbformat_minor": 5
}
