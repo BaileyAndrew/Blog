{
 "cells": [
  {
   "cell_type": "raw",
   "id": "44d63475-a565-4f51-b70c-079cd3ead007",
   "metadata": {},
   "source": [
    "---\n",
    "title: \"Polyglot Programming 2\"\n",
    "description: \"R and Python should coexist\"\n",
    "author: \"Bailey Andrew\"\n",
    "date: \"Feb 12 2023\"\n",
    "draft: false\n",
    "categories: [Useful, Polyglot Programming]\n",
    "format:\n",
    "  html:\n",
    "    css:\n",
    "      - ../../html_scripts/collapse.css\n",
    "      - ../../html_scripts/pretty_shortcuts.css\n",
    "    include-after-body: \n",
    "      - ../../html_scripts/collapse.html\n",
    "      - ../../html_scripts/comments.html\n",
    "      - ../../html_scripts/make_header_sensible.html\n",
    "---"
   ]
  },
  {
   "cell_type": "markdown",
   "id": "786fe058-86a9-4201-b788-c2efdcebfbc9",
   "metadata": {},
   "source": [
    "Yesterday, I tried to combine Python and R into the same notebook, with mixed results (leaning towards \"not good enough\").  However, today I realized I could use IPython magic to run R (magic shown in comment since Quarto auto-removes it for final display^[Which I like, but is annoying for this specific task.  There's probably a Quarto setting to turn it off, if I look hard enough for it.]):"
   ]
  },
  {
   "cell_type": "code",
   "execution_count": 33,
   "id": "56c3e575-4288-4104-a7bb-2974cf26ea3f",
   "metadata": {},
   "outputs": [
    {
     "data": {
      "text/plain": [
       "sys.version_info(major=3, minor=9, micro=13, releaselevel='final', serial=0)"
      ]
     },
     "execution_count": 35,
     "metadata": {},
     "output_type": "execute_result"
    }
   ],
   "source": [
    "# Proof that I'm in a python environment\n",
    "import sys\n",
    "sys.__version__"
   ]
  },
  {
   "cell_type": "code",
   "execution_count": 26,
   "id": "4b4e54c9-5431-45a3-b9e7-a7afc4cc1c9e",
   "metadata": {},
   "outputs": [
    {
     "name": "stdout",
     "output_type": "stream",
     "text": [
      "\n",
      "R version 4.2.1 (2022-06-23) -- \"Funny-Looking Kid\"\n",
      "Copyright (C) 2022 The R Foundation for Statistical Computing\n",
      "Platform: x86_64-apple-darwin13.4.0 (64-bit)\n",
      "\n",
      "R is free software and comes with ABSOLUTELY NO WARRANTY.\n",
      "You are welcome to redistribute it under certain conditions.\n",
      "Type 'license()' or 'licence()' for distribution details.\n",
      "\n",
      "  Natural language support but running in an English locale\n",
      "\n",
      "R is a collaborative project with many contributors.\n",
      "Type 'contributors()' for more information and\n",
      "'citation()' on how to cite R or R packages in publications.\n",
      "\n",
      "Type 'demo()' for some demos, 'help()' for on-line help, or\n",
      "'help.start()' for an HTML browser interface to help.\n",
      "Type 'q()' to quit R.\n",
      "\n",
      "> #%%script R --no-save\n",
      "> print(c(\"Hello\", \"World\"))\n",
      "[1] \"Hello\" \"World\"\n",
      "> \n"
     ]
    }
   ],
   "source": [
    "%%script R --no-save\n",
    "#%%script R --no-save\n",
    "print(c(\"Hello\", \"World\"))"
   ]
  },
  {
   "cell_type": "markdown",
   "id": "733a0618-887c-447b-90af-813c1e1d36a6",
   "metadata": {},
   "source": [
    "Unfortunately this comes with a lot of fluff, so I'll need to figure out how to get rid of it!  Also, it syntax highlights according to Python, although that isn't too big a deal."
   ]
  },
  {
   "cell_type": "markdown",
   "id": "1f904606-ca57-49a6-aa9f-a2cdc9fe6ace",
   "metadata": {},
   "source": [
    "I found that, with `rpy2` installed, we can get a simple `%%R` cell magic; however I have trouble installing `rpy2` because I'm on an M1 Mac so things are weird (for example, note the platform output in:\n",
    "```\n",
    "R version 4.2.1 (2022-06-23) -- \"Funny-Looking Kid\"\n",
    "Copyright (C) 2022 The R Foundation for Statistical Computing\n",
    "Platform: x86_64-apple-darwin13.4.0 (64-bit)\n",
    "```"
   ]
  },
  {
   "cell_type": "markdown",
   "id": "0c581364-f765-46a6-8268-88f870cf5c78",
   "metadata": {},
   "source": [
    "By specifying `--no-echo`, however, we get rid of most of the extra fluff!"
   ]
  },
  {
   "cell_type": "code",
   "execution_count": 27,
   "id": "7fa91df8-9ee2-4c45-bc42-01d568249336",
   "metadata": {},
   "outputs": [
    {
     "name": "stdout",
     "output_type": "stream",
     "text": [
      "[1] \"Hello\"\n",
      "[1] \"World\"\n",
      "[1] \"Nice\" \"To\"   \"Meet\" \"You\" \n"
     ]
    }
   ],
   "source": [
    "%%script R --no-save --no-echo\n",
    "#%%script R --no-save --no-echo\n",
    "print(\"Hello\")\n",
    "print(\"World\")\n",
    "print(c(\"Nice\", \"To\", \"Meet\", \"You\"))"
   ]
  },
  {
   "cell_type": "markdown",
   "id": "97e6a94f-0752-432f-8864-103d4c9146ab",
   "metadata": {},
   "source": [
    "However, with this setup variables are not saved:"
   ]
  },
  {
   "cell_type": "code",
   "execution_count": 28,
   "id": "193a6b46-c452-4d90-aebf-48ebc65cecc9",
   "metadata": {},
   "outputs": [
    {
     "name": "stdout",
     "output_type": "stream",
     "text": [
      "[1] 5\n"
     ]
    }
   ],
   "source": [
    "%%script R --no-save --no-echo\n",
    "#%%script R --no-save --no-echo\n",
    "x <- 5\n",
    "print(x)"
   ]
  },
  {
   "cell_type": "code",
   "execution_count": 29,
   "id": "6ca72e95-56fa-4f6a-923b-3a72577d0263",
   "metadata": {},
   "outputs": [
    {
     "name": "stdout",
     "output_type": "stream",
     "text": [
      "[1] \"X not found!\"\n"
     ]
    }
   ],
   "source": [
    "%%script R --no-save --no-echo\n",
    "#%%script R --no-save --no-echo\n",
    "tryCatch(x, error=function(cond){\"X not found!\"})"
   ]
  },
  {
   "cell_type": "markdown",
   "id": "cb188d1a-13d4-4c8b-bf9f-ba74b3f97783",
   "metadata": {},
   "source": [
    "This is not a problem if everything can be done in one cell before continuing with python.  I should note also that in an R notebook, we could still run Python:"
   ]
  },
  {
   "cell_type": "code",
   "execution_count": 30,
   "id": "d0a33c7a-0110-42e6-b092-4a8fb48f2b7c",
   "metadata": {},
   "outputs": [
    {
     "name": "stdout",
     "output_type": "stream",
     "text": [
      "Hello\n",
      "World\n"
     ]
    }
   ],
   "source": [
    "%%python3\n",
    "#%%python3\n",
    "print(\"Hello\")\n",
    "print(\"World\")"
   ]
  },
  {
   "cell_type": "markdown",
   "id": "35a91fc5-6746-46e1-bcaf-6409a4db3e91",
   "metadata": {},
   "source": [
    "There are 3 flaws with this approach:\n",
    "* Syntax highlighting not correct\n",
    "  - No big deal, highlighting R as if it were Pyhon should be mostly fine\n",
    "* No persistent variables\n",
    "  - This could be pretty annoying for some tasks\n",
    "* Need both R and Python in the same conda environment\n",
    "  - This is a big deal as they have mutual dependencies that they fight over, preventing `conda` installation of Bioconductor packages (as far as I can tell; my diagnosis might not be perfect)"
   ]
  },
  {
   "cell_type": "markdown",
   "id": "26cef490-311f-4132-b02e-45f20d5e99e6",
   "metadata": {},
   "source": [
    "To fix the last flaw, I could potentially write a bash script that handles environment activation and deactivation, and to fix the middle flaw I could potentially save / load `.Rdata` files in such a script as well.  However, I'd rather not have to write my own bash script - they scare me 😅."
   ]
  }
 ],
 "metadata": {
  "kernelspec": {
   "display_name": "Python [conda env:JupyterWithR]",
   "language": "python",
   "name": "conda-env-JupyterWithR-py"
  },
  "language_info": {
   "codemirror_mode": {
    "name": "ipython",
    "version": 3
   },
   "file_extension": ".py",
   "mimetype": "text/x-python",
   "name": "python",
   "nbconvert_exporter": "python",
   "pygments_lexer": "ipython3",
   "version": "3.9.13"
  }
 },
 "nbformat": 4,
 "nbformat_minor": 5
}
