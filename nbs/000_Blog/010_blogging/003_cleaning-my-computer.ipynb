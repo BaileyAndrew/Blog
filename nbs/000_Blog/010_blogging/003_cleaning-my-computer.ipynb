{
 "cells": [
  {
   "cell_type": "raw",
   "id": "3ec0fdcf-8360-4329-a640-cfe60c6b50cf",
   "metadata": {},
   "source": [
    "---\n",
    "title: \"Cleaning My Computer\"\n",
    "description: \"Was pretty scary!\"\n",
    "author: \"Bailey Andrew\"\n",
    "date: \"Feb 2 2023\"\n",
    "draft: false\n",
    "categories: [Life]\n",
    "format:\n",
    "  html:\n",
    "    css:\n",
    "      - ../../html_scripts/collapse.css\n",
    "      - ../../html_scripts/pretty_shortcuts.css\n",
    "    include-after-body: \n",
    "      - ../../html_scripts/collapse.html\n",
    "      - ../../html_scripts/comments.html\n",
    "      - ../../html_scripts/make_header_sensible.html\n",
    "---"
   ]
  },
  {
   "cell_type": "markdown",
   "id": "024278d1-0c05-4a32-a1b7-5ee675798544",
   "metadata": {},
   "source": [
    "![I recovered over 100 GB!](./images/results.png)"
   ]
  },
  {
   "cell_type": "markdown",
   "id": "e7606eeb-6e86-4c0b-90bf-fd2d1c64ae4f",
   "metadata": {},
   "source": [
    "I just spent the last hour cleaning my computer - good places to look are the downloads folder, your conda environments, and your Steam games.  The remaining files are either an assortment of accumulated documents and images over the years, and a lot of internal stuff that I'm too scared to delete."
   ]
  },
  {
   "cell_type": "markdown",
   "id": "0bd6b98e-b783-44cc-802d-68cf19f34848",
   "metadata": {},
   "source": [
    "# Mamba"
   ]
  },
  {
   "cell_type": "markdown",
   "id": "0d28717e-afe6-4b05-901f-2d68ff0145cb",
   "metadata": {},
   "source": [
    "`mamba` is basically `conda` but implemented in `C++`, so it is apparently much faster.  This is nice because I've been feeling like `conda` is pretty slow...^[And my verdict after playing around with JupyterLab Desktop down below is that it is indeed much faster.]"
   ]
  },
  {
   "cell_type": "markdown",
   "id": "926bb660-97b3-4b53-ab7d-c086cdde3b61",
   "metadata": {},
   "source": [
    "I first reset my `conda` base environment by following the steps from [here](https://stackoverflow.com/a/55136417/10642078).  This probably isn't necessary but you shouldn't be installing anything to `base` yet 12-year-old me had no idea.  My `base` environment has accumulated a lot of rubbish over the years, and it seemed to be preventing me from installing stuff!"
   ]
  },
  {
   "cell_type": "markdown",
   "id": "60da5a84-aa83-420a-9119-d87ada065226",
   "metadata": {},
   "source": [
    "<details>\n",
    "    <summary><b class=\"false-starts\">False Start</b><b style=\"color:#C0CF96\">: Installing via terminal</b></summary>\n",
    "\n",
    "I first tried installing it from the terminal\n",
    "\n",
    "```\n",
    "conda install conda-forge::mamba=1.2.0\n",
    "```\n",
    "    \n",
    "But it didn't work when I tried to use it:\n",
    "```\n",
    "Baileys-Awesome-MacBook-Pro:Blog baileyandrew$ mamba\n",
    "Traceback (most recent call last):\n",
    "  File \"/Users/baileyandrew/opt/anaconda3/condabin/mamba\", line 7, in <module>\n",
    "    from mamba.mamba import main\n",
    "  File \"/Users/baileyandrew/opt/anaconda3/lib/python3.9/site-packages/mamba/mamba.py\", line 49, in <module>\n",
    "    import libmambapy as api\n",
    "  File \"/Users/baileyandrew/opt/anaconda3/lib/python3.9/site-packages/libmambapy/__init__.py\", line 7, in <module>\n",
    "    raise e\n",
    "  File \"/Users/baileyandrew/opt/anaconda3/lib/python3.9/site-packages/libmambapy/__init__.py\", line 4, in <module>\n",
    "    from libmambapy.bindings import *  # noqa: F401,F403\n",
    "ImportError: dlopen(/Users/baileyandrew/opt/anaconda3/lib/python3.9/site-packages/libmambapy/bindings.cpython-39-darwin.so, 0x0002): Library not loaded: @rpath/libarchive.13.dylib\n",
    "  Referenced from: /Users/baileyandrew/opt/anaconda3/lib/libmamba.2.0.0.dylib\n",
    "  Reason: tried: '/Users/baileyandrew/opt/anaconda3/lib/libarchive.13.dylib' (no such file), '/Users/baileyandrew/opt/anaconda3/lib/python3.9/site-packages/libmambapy/../../../libarchive.13.dylib' (no such file), '/Users/baileyandrew/opt/anaconda3/lib/python3.9/site-packages/libmambapy/../../../libarchive.13.dylib' (no such file), '/Users/baileyandrew/opt/anaconda3/bin/../lib/libarchive.13.dylib' (no such file), '/Users/baileyandrew/opt/anaconda3/bin/../lib/libarchive.13.dylib' (no such file), '/usr/local/lib/libarchive.13.dylib' (no such file), '/usr/lib/libarchive.13.dylib' (no such file)\n",
    "```\n",
    "</details>"
   ]
  },
  {
   "cell_type": "markdown",
   "id": "6d6e2036-6049-4020-be7c-4270784736d8",
   "metadata": {},
   "source": [
    "I downloaded `mamba` from [here](https://github.com/conda-forge/miniforge#mambaforge).  After doing that, it worked!"
   ]
  },
  {
   "cell_type": "markdown",
   "id": "03e6c776-744c-4f79-b2ab-968941ff0d8d",
   "metadata": {},
   "source": [
    "Well, sort of, all my old environments lost their names:\n",
    "\n",
    "![](./images/mamba-weird.png)"
   ]
  },
  {
   "cell_type": "markdown",
   "id": "1b3bd179-0693-43e8-8347-3bca95899ea2",
   "metadata": {},
   "source": [
    "To fix this, I ran the following code to rename them:\n",
    "```\n",
    "conda rename --prefix /Users/baileyandrew/opt/anaconda3/envs/Blog-nbdev Blog-nbdev\n",
    "```\n",
    "\n",
    "So now my environments look normal:\n",
    "\n",
    "![](./images/mamba-normal.png)"
   ]
  },
  {
   "cell_type": "markdown",
   "id": "efa690ef-cbe0-4a2c-b692-f4e00e2803ff",
   "metadata": {},
   "source": [
    "# JupyterLab Desktop"
   ]
  },
  {
   "cell_type": "markdown",
   "id": "9db11aca-c12d-42a6-b130-8a5f0f83b4de",
   "metadata": {},
   "source": [
    "I wanted to untether myself from a browser, so I installed JupyterLab Desktop [by following their instructions on GitHub](https://github.com/jupyterlab/jupyterlab-desktop).\n",
    "\n",
    "When you first start it, it will ask you for a default environment for JupyterLab to reside; <strong style=\"color:#C0CF96\">use one you've already created</strong>^[The file path will be found using the same filepaths outputted by `conda env list` in the previous section; you'll then have to navigate to `/bin/python` to be able to select it as an option.].  This is because otherwise, if you're using an M1 Mac, it's gonna get confused if you try to download more packages (specifically, after downloading `nb_conda_kernels` it \"sidegraded\" my `openssl` to be for an `arm64` computer - which is correct, but JupyterLab Desktop was perfectly happy pretending my computer was something else and it got very angry at me when I tried to tell it otherwise).  This is only a problem for the auto-created environment, which is why you should just set the default environment to one you're already using.\n",
    "\n",
    "![Otherwise you'll have to deal with this nonsense.](./images/conda-kernels-break.png)"
   ]
  },
  {
   "cell_type": "markdown",
   "id": "6cb013ca-f9d8-4dc2-aa70-1fa75e9b7abc",
   "metadata": {},
   "source": [
    "## Extensions"
   ]
  },
  {
   "cell_type": "markdown",
   "id": "a2367aff-0e00-4482-8beb-f24a8cc538e4",
   "metadata": {},
   "source": [
    "I never really messed with JupyterLab extensions before, but I figured I'd give them a try.\n",
    "\n",
    "First, I had to install `nodejs`:\n",
    "\n",
    "```\n",
    "mamba install conda-forge::nodejs=18.12.1\n",
    "```\n",
    "\n",
    "I installed the following from the extensions tab (looks like a puzzle piece on left hand side of JupyterLab):\n",
    "\n",
    "* `@jupyterlab/git`\n",
    "  - Couldn't just install from extensions list, also required:\n",
    "  - `mamba install conda-forge::jupyterlab-git=0.41.0`\n",
    "* `@jupyterlab/latex`\n",
    "* `jupyterlab-system-monitor`\n",
    "  - Couldn't just install from extensions list, also required:\n",
    "  - `mamba install conda-forge::nbresuse=0.4.0`\n",
    "  - Also, even though I wasn't told to do this, it seems I needed to run the following:\n",
    "  - `mamba install conda-forge::jupyterlab-system-monitor=0.8.0`\n",
    "* `jupyterlab/fasta-extension`\n",
    "* `jupyterlab-drawio`\n",
    "  - I don't know if this `mamba` install is needed, just did it to cover my bases.\n",
    "  - `mamba install conda-forge::jupyterlab-drawio=0.9.0`\n",
    "  - Fun fact: you don't need to restart, just rebuild, for this to work!\n",
    "  \n",
    "I didn't test the `fasta-extension` or `latex` estensions and based on their track record I am inclined to assume they need external installations."
   ]
  },
  {
   "cell_type": "markdown",
   "id": "09f58c58-eae1-40a9-a2e0-a5632eb95af8",
   "metadata": {},
   "source": [
    "After install, for each one of these you'll get the following pop-up:\n",
    "\n",
    "![](./images/rebuild-jlab.png)"
   ]
  },
  {
   "cell_type": "markdown",
   "id": "2d70b9a9-ebe8-4f88-9e02-f47e6055e390",
   "metadata": {},
   "source": [
    "You can click rebuild but to be honest it didn't seem to do anything, I'd keep getting this error:\n",
    "\n",
    "![](./images/jlab-git-error.png)"
   ]
  },
  {
   "cell_type": "markdown",
   "id": "c9af05ce-7ede-4517-beeb-8c55bdc06789",
   "metadata": {},
   "source": [
    "Which was all fixed just by restarting JupyterLab Desktop, and now I have this nice convenient Git GUI!\n",
    "\n",
    "![](./images/git-gui.png)"
   ]
  },
  {
   "cell_type": "markdown",
   "id": "61e1f7df-5a1e-4ca2-ab4e-7350758ff009",
   "metadata": {},
   "source": [
    "And also I can make diagrams real quick!\n",
    "\n",
    "![](./images/test.pdf)\n",
    "\n",
    "They don't show up in the editor but do in `nbdev_preview`.  Annoyingly `drawio` only exports to `svg` (does not show up) or `pdf` if you go through the hassle of fake-printing it; and even then it doesn't look great.  So the utility of this tool is limited."
   ]
  }
 ],
 "metadata": {
  "kernelspec": {
   "display_name": "Python [conda env:Blog-nbdev]",
   "language": "python",
   "name": "conda-env-Blog-nbdev-py"
  },
  "language_info": {
   "codemirror_mode": {
    "name": "ipython",
    "version": 3
   },
   "file_extension": ".py",
   "mimetype": "text/x-python",
   "name": "python",
   "nbconvert_exporter": "python",
   "pygments_lexer": "ipython3",
   "version": "3.9.15"
  }
 },
 "nbformat": 4,
 "nbformat_minor": 5
}
