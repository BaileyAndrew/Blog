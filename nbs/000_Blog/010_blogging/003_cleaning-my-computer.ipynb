{
 "cells": [
  {
   "cell_type": "raw",
   "id": "3ec0fdcf-8360-4329-a640-cfe60c6b50cf",
   "metadata": {},
   "source": [
    "---\n",
    "title: \"Cleaning my Computer\"\n",
    "description: \"Was pretty scary!\"\n",
    "author: \"Bailey Andrew\"\n",
    "date: \"Feb 2 2023\"\n",
    "draft: false\n",
    "categories: [Work]\n",
    "format:\n",
    "  html:\n",
    "    css:\n",
    "      - ../../html_scripts/collapse.css\n",
    "      - ../../html_scripts/pretty_shortcuts.css\n",
    "    include-after-body: \n",
    "      - ../../html_scripts/collapse.html\n",
    "      - ../../html_scripts/comments.html\n",
    "      - ../../html_scripts/make_header_sensible.html\n",
    "---"
   ]
  },
  {
   "cell_type": "markdown",
   "id": "024278d1-0c05-4a32-a1b7-5ee675798544",
   "metadata": {},
   "source": [
    "![I recovered over 100 GB!](./images/results.png)"
   ]
  },
  {
   "cell_type": "markdown",
   "id": "e7606eeb-6e86-4c0b-90bf-fd2d1c64ae4f",
   "metadata": {},
   "source": [
    "I just spent the last hour cleaning my computer - good places to look are the downloads folder, your conda environments, and your Steam games.  The remaining files are either an assortment of accumulated documents and images over the years, and a lot of internal stuff that I'm too scared to delete."
   ]
  },
  {
   "cell_type": "markdown",
   "id": "0bd6b98e-b783-44cc-802d-68cf19f34848",
   "metadata": {},
   "source": [
    "# Mamba"
   ]
  },
  {
   "cell_type": "markdown",
   "id": "0d28717e-afe6-4b05-901f-2d68ff0145cb",
   "metadata": {},
   "source": [
    "`mamba` is basically `conda` but implemented in `C++`, so it is apparently much faster.  This is nice because I've been feeling like `conda` is pretty slow..."
   ]
  },
  {
   "cell_type": "markdown",
   "id": "926bb660-97b3-4b53-ab7d-c086cdde3b61",
   "metadata": {},
   "source": [
    "I first reset my `conda` base environment by following the steps from [here](https://stackoverflow.com/a/55136417/10642078).  This probably isn't necessary but you shouldn't be installing anything to `base` yet 12-year-old me had no idea.  My `base` environment has accumulated a lot of rubbish over the years, and it seemed to be preventing me from installing stuff!"
   ]
  },
  {
   "cell_type": "markdown",
   "id": "60da5a84-aa83-420a-9119-d87ada065226",
   "metadata": {},
   "source": [
    "<details>\n",
    "    <summary><b class=\"false-starts\">False Start</b><b style=\"color:#C0CF96\">: Installing via terminal</b></summary>\n",
    "\n",
    "I first tried installing it from the terminal\n",
    "\n",
    "```\n",
    "conda install conda-forge::mamba=1.2.0\n",
    "```\n",
    "    \n",
    "But it didn't work when I tried to use it:\n",
    "```\n",
    "Baileys-Awesome-MacBook-Pro:Blog baileyandrew$ mamba\n",
    "Traceback (most recent call last):\n",
    "  File \"/Users/baileyandrew/opt/anaconda3/condabin/mamba\", line 7, in <module>\n",
    "    from mamba.mamba import main\n",
    "  File \"/Users/baileyandrew/opt/anaconda3/lib/python3.9/site-packages/mamba/mamba.py\", line 49, in <module>\n",
    "    import libmambapy as api\n",
    "  File \"/Users/baileyandrew/opt/anaconda3/lib/python3.9/site-packages/libmambapy/__init__.py\", line 7, in <module>\n",
    "    raise e\n",
    "  File \"/Users/baileyandrew/opt/anaconda3/lib/python3.9/site-packages/libmambapy/__init__.py\", line 4, in <module>\n",
    "    from libmambapy.bindings import *  # noqa: F401,F403\n",
    "ImportError: dlopen(/Users/baileyandrew/opt/anaconda3/lib/python3.9/site-packages/libmambapy/bindings.cpython-39-darwin.so, 0x0002): Library not loaded: @rpath/libarchive.13.dylib\n",
    "  Referenced from: /Users/baileyandrew/opt/anaconda3/lib/libmamba.2.0.0.dylib\n",
    "  Reason: tried: '/Users/baileyandrew/opt/anaconda3/lib/libarchive.13.dylib' (no such file), '/Users/baileyandrew/opt/anaconda3/lib/python3.9/site-packages/libmambapy/../../../libarchive.13.dylib' (no such file), '/Users/baileyandrew/opt/anaconda3/lib/python3.9/site-packages/libmambapy/../../../libarchive.13.dylib' (no such file), '/Users/baileyandrew/opt/anaconda3/bin/../lib/libarchive.13.dylib' (no such file), '/Users/baileyandrew/opt/anaconda3/bin/../lib/libarchive.13.dylib' (no such file), '/usr/local/lib/libarchive.13.dylib' (no such file), '/usr/lib/libarchive.13.dylib' (no such file)\n",
    "```\n",
    "</details>"
   ]
  },
  {
   "cell_type": "markdown",
   "id": "6d6e2036-6049-4020-be7c-4270784736d8",
   "metadata": {},
   "source": [
    "I downloaded `mamba` from [here](https://github.com/conda-forge/miniforge#mambaforge).  After doing that, it worked!"
   ]
  }
 ],
 "metadata": {
  "kernelspec": {
   "display_name": "Python [conda env:Blog-nbdev]",
   "language": "python",
   "name": "conda-env-Blog-nbdev-py"
  }
 },
 "nbformat": 4,
 "nbformat_minor": 5
}
