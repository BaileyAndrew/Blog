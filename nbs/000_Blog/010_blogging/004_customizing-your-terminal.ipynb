{
 "cells": [
  {
   "cell_type": "raw",
   "id": "f812b832-02ec-4a1d-963e-d66ab00b0788",
   "metadata": {},
   "source": [
    "---\n",
    "title: \"Attempting to Customize The `ls` Command\"\n",
    "description: \"I feel like a hacker 😎\"\n",
    "author: \"Bailey Andrew\"\n",
    "date: \"Feb 3 2023\"\n",
    "draft: false\n",
    "categories: [Life]\n",
    "format:\n",
    "  html:\n",
    "    css:\n",
    "      - ../../html_scripts/collapse.css\n",
    "      - ../../html_scripts/pretty_shortcuts.css\n",
    "    include-after-body: \n",
    "      - ../../html_scripts/collapse.html\n",
    "      - ../../html_scripts/comments.html\n",
    "      - ../../html_scripts/make_header_sensible.html\n",
    "---"
   ]
  },
  {
   "cell_type": "markdown",
   "id": "7165a268-56f4-44d3-9857-ab9286721a3b",
   "metadata": {},
   "source": [
    "![Standard output of ls](./images/ls.png)"
   ]
  },
  {
   "cell_type": "markdown",
   "id": "21079e2b-1601-4dd1-803c-dc15fdf63a4c",
   "metadata": {},
   "source": [
    "For years now my Mac has been patiently pestering me to change my terminal from `bash` to `zsh`, so I bit the bullet today and did it.  This got me thinking about what a <b style=\"color:#EB1960\">shell</b> actually is, and their ability to be customized.  This quest brought to my attention that the `ls` command, which prints files in a directory, has some optional flags you can pass to it!\n",
    "\n",
    "![You can reformat the output to give more detailed information with `ls -l`.](./images/ls-l.png)\n",
    "\n",
    "![You can color directories differently with `ls -G`.](./images/ls-G.png)\n",
    "\n",
    "You can even combine the two with `ls -lG`, but I'll let you try that for yourself."
   ]
  },
  {
   "cell_type": "markdown",
   "id": "9e7a0eca-483c-48e1-a514-4b6c9c79d52a",
   "metadata": {},
   "source": [
    "I like this very much, so I thought I would try to control the colors that are outputted.  To do this, I went into my `~/.zshrc` file (presumably if I kept with `bash` it would be `~/.bashrc`) - this is the file that runs every time you create a new terminal.  The current contents of this file were:\n",
    "\n",
    "```\n",
    "# >>> conda initialize >>>\n",
    "# !! Contents within this block are managed by 'conda init' !!\n",
    "__conda_setup=\"$('/Users/baileyandrew/mambaforge/bin/conda' 'shell.zsh' 'hook' 2> /dev/null)\"\n",
    "if [ $? -eq 0 ]; then\n",
    "    eval \"$__conda_setup\"\n",
    "else\n",
    "    if [ -f \"/Users/baileyandrew/mambaforge/etc/profile.d/conda.sh\" ]; then\n",
    "        . \"/Users/baileyandrew/mambaforge/etc/profile.d/conda.sh\"\n",
    "    else\n",
    "        export PATH=\"/Users/baileyandrew/mambaforge/bin:$PATH\"\n",
    "    fi\n",
    "fi\n",
    "unset __conda_setup\n",
    "\n",
    "if [ -f \"/Users/baileyandrew/mambaforge/etc/profile.d/mamba.sh\" ]; then\n",
    "    . \"/Users/baileyandrew/mambaforge/etc/profile.d/mamba.sh\"\n",
    "fi\n",
    "# <<< conda initialize <<<\n",
    "```\n",
    "\n",
    "Which I assume was auto-created when I first installed `conda`/`mamba`."
   ]
  },
  {
   "cell_type": "markdown",
   "id": "0564780c-cd15-4d43-9a89-9fe911adf302",
   "metadata": {},
   "source": [
    "I then added the following:\n",
    "\n",
    "```\n",
    "# >>> my custom scripts >>>\n",
    "\n",
    "export CLICOLOR=1\n",
    "export LSCOLORS=\"gxfxcxdxbxegedabagacad\"\n",
    "\n",
    "# <<< my custom scripts <<<\n",
    "```\n",
    "\n",
    "![The result of `ls -lG`.](./images/ls-lG.png)"
   ]
  },
  {
   "cell_type": "markdown",
   "id": "00340151-6ca0-4d5e-a1df-0bd343b871a2",
   "metadata": {},
   "source": [
    "So its clear I can affect the colors, but they're not the colors I want.  And here's where I get sad - I wanted the to customize specific colors, but terminals are limited to only 256 (whyyyyyyy) and I don't have fine-grained control over which file type gets which color.\n",
    "\n",
    "The end."
   ]
  }
 ],
 "metadata": {
  "kernelspec": {
   "display_name": "Python [conda env:Blog-nbdev]",
   "language": "python",
   "name": "conda-env-Blog-nbdev-py"
  },
  "language_info": {
   "codemirror_mode": {
    "name": "ipython",
    "version": 3
   },
   "file_extension": ".py",
   "mimetype": "text/x-python",
   "name": "python",
   "nbconvert_exporter": "python",
   "pygments_lexer": "ipython3",
   "version": "3.9.15"
  }
 },
 "nbformat": 4,
 "nbformat_minor": 5
}
