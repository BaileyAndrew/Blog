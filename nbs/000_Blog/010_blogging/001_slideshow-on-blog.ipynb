{
 "cells": [
  {
   "cell_type": "raw",
   "id": "4c620510-edf8-49db-92bd-dfd4d06f6270",
   "metadata": {},
   "source": [
    "---\n",
    "title: \"Slideshow\"\n",
    "author: \"Bailey Andrew\"\n",
    "date: \"Jan 27 2023\"\n",
    "draft: false\n",
    "categories: [Blogging, Useful]\n",
    "image: ./images/slideshow-header-example.png\n",
    "format: \n",
    "    revealjs:\n",
    "        theme: night\n",
    "        footer: \"<a href='https://baileyandrew.github.io/Blog/blog.html'>Click here to get back to the blog</a>\"\n",
    "        logo: \"../../images/my-icon.png\"\n",
    "---"
   ]
  },
  {
   "cell_type": "markdown",
   "id": "7f967231-88d5-4bde-998d-39284c3d65a6",
   "metadata": {},
   "source": [
    "# This <em style=\"color:#C0CF96\">is</em> a slideshow!"
   ]
  },
  {
   "cell_type": "markdown",
   "id": "fa584494-1c13-4be4-9065-93892438317b",
   "metadata": {},
   "source": [
    "## Hello world!"
   ]
  },
  {
   "cell_type": "markdown",
   "id": "e8bf4ccb-cdb0-4e85-84ae-b3ffd066d890",
   "metadata": {},
   "source": [
    "::: {.nonincremental}"
   ]
  },
  {
   "cell_type": "markdown",
   "id": "a3877227-6911-45f4-bbcb-b39a4f4059be",
   "metadata": {},
   "source": [
    ":::: {.columns}\n",
    "::: {.column width=\"40%\"}\n",
    "- You can make a slideshow for your blog!\n",
    "\n",
    "- To the left is an example header\n",
    ":::\n",
    "\n",
    "::: {.column width=\"60%\"}\n",
    "```\n",
    "---\n",
    "title: \"Slideshow\"\n",
    "description: \"Aw yeah...\"\n",
    "author: \"Bailey Andrew\"\n",
    "date: \"Jan 27 2023\"\n",
    "draft: false\n",
    "categories: [Blogging, Useful]\n",
    "format: revealjs\n",
    "---\n",
    "```\n",
    ":::\n",
    "::::"
   ]
  },
  {
   "cell_type": "code",
   "execution_count": null,
   "id": "817d9315-acba-4e0f-b52f-aa23f071fd3d",
   "metadata": {},
   "outputs": [
    {
     "name": "stdout",
     "output_type": "stream",
     "text": [
      "And you can include code!\n"
     ]
    }
   ],
   "source": [
    "#| echo: true\n",
    "print(\"And you can include code!\")"
   ]
  },
  {
   "cell_type": "markdown",
   "id": "dd887ef8-4f86-4f5d-9865-e72308aa99a3",
   "metadata": {},
   "source": [
    ":::"
   ]
  },
  {
   "cell_type": "markdown",
   "id": "0be368b0-935b-48ff-8d20-1b0bad01663a",
   "metadata": {},
   "source": [
    "## But wait!"
   ]
  },
  {
   "cell_type": "markdown",
   "id": "b7dee925-62ba-4eb6-bffa-d3fbe6e86bbd",
   "metadata": {},
   "source": [
    "::: {.incremental}\n",
    "\n",
    "\n",
    "- I believe in you :)\n",
    "\n",
    "- So here are some tips:\n",
    "\n",
    "  - Start code blocks with `#| echo: true` to display them\n",
    "  \n",
    "  - Figure out how to get rid of the pesky empty second slide\n",
    "  \n",
    "    - I couldn't!\n",
    "\n",
    ":::"
   ]
  },
  {
   "cell_type": "markdown",
   "id": "f9306d18-fc3f-4a98-a300-3aef1346ceae",
   "metadata": {},
   "source": [
    "# The full header"
   ]
  },
  {
   "cell_type": "markdown",
   "id": "4410badb-09b7-4549-8d42-c3d3a2a19c6d",
   "metadata": {},
   "source": [
    "```\n",
    "---\n",
    "title: \"Slideshow\"\n",
    "author: \"Bailey Andrew\"\n",
    "date: \"Jan 27 2023\"\n",
    "draft: false\n",
    "categories: [Blogging, Useful]\n",
    "format: \n",
    "    revealjs:\n",
    "        theme: night\n",
    "        footer: \"<a href='https://baileyandrew.github.io/Blog/blog.html'>Click here to get back to the blog</a>\"\n",
    "        logo: \"../../images/my-icon.png\"\n",
    "---\n",
    "```"
   ]
  }
 ],
 "metadata": {
  "kernelspec": {
   "display_name": "Python [conda env:Blog-nbdev]",
   "language": "python",
   "name": "conda-env-Blog-nbdev-py"
  }
 },
 "nbformat": 4,
 "nbformat_minor": 5
}
