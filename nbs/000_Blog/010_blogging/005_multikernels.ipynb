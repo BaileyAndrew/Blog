{
 "cells": [
  {
   "cell_type": "raw",
   "id": "c92f3c09-c593-45a8-ab23-602d1150d912",
   "metadata": {},
   "source": [
    "---\n",
    "title: \"On the Road to Polyglot Programming with Jupyter\"\n",
    "description: \"R and Python should coexist\"\n",
    "author: \"Bailey Andrew\"\n",
    "date: \"Feb 11 2023\"\n",
    "draft: false\n",
    "categories: [Useful, Polyglot Programming]\n",
    "image: ./images/ugly-in-jlab.png\n",
    "format:\n",
    "  html:\n",
    "    css:\n",
    "      - ../../html_scripts/collapse.css\n",
    "      - ../../html_scripts/pretty_shortcuts.css\n",
    "    include-after-body: \n",
    "      - ../../html_scripts/collapse.html\n",
    "      - ../../html_scripts/comments.html\n",
    "      - ../../html_scripts/make_header_sensible.html\n",
    "---"
   ]
  },
  {
   "cell_type": "markdown",
   "id": "3c6e6bb1-54c5-478e-9d91-0fedb9aca305",
   "metadata": {},
   "source": [
    "Since I work with both R and Python a lot, it would be useful to be able to use both languages in the same notebook.  I don't really care about being able to pass data between them, just being able to display multiple languages together - I can always save and load data as a `csv` (or other format).  However, passing data between them is a bonus."
   ]
  },
  {
   "cell_type": "markdown",
   "id": "24d41079-81cd-464e-be15-2ff504aeba1c",
   "metadata": {},
   "source": [
    "I considered making a Jupyter kernel to do this myself, but it seems like I'd need a decent amount of knowledge to be able to take that step - even though all I want to do is multiplex kernels.\n",
    "\n",
    "My ideal setup is something like:\n",
    "*  Add a cell tag to specify the kernel\n",
    "*  Syntax highlighting and code running work in JupyterLab\n",
    "   -  As a bonus, both should work in JupyterLab Desktop\n",
    "*  They should be compatible with Quarto\n",
    "*  Allows side-by-side code blocks"
   ]
  },
  {
   "cell_type": "markdown",
   "id": "c5ebdecd-f644-4178-b6ec-ce0113f465d4",
   "metadata": {},
   "source": [
    "# Multikernel (Failed)"
   ]
  },
  {
   "cell_type": "markdown",
   "id": "12a4d233-94b7-47ca-9116-e38aae99645b",
   "metadata": {},
   "source": [
    "<details>\n",
    "    <summary>\n",
    "        <b class=\"false-starts\">False Start</b><b style=\"color:#C0CF96\">: Trying to install a multikernel package</b>\n",
    "    </summary>"
   ]
  },
  {
   "cell_type": "markdown",
   "id": "266f5475-fd83-4e27-98e5-12d6e5857637",
   "metadata": {},
   "source": [
    "After some searching, I've come across two solutions:\n",
    "1) JupyterLab-SOS\n",
    "   -  This is cool but is way too ambitious a project\n",
    "   -  I've used it before but the syntax highlighting often broke\n",
    "2) `allthekernels`\n",
    "   -  Just multiplexing\n",
    "   \n",
    "So I decided to try `allthekernels`."
   ]
  },
  {
   "cell_type": "markdown",
   "id": "192282ec-34c5-4f23-b157-e40f9d68c2dc",
   "metadata": {},
   "source": [
    "```\n",
    "conda create -n Multi-Kernel\n",
    "conda activate Multi-Kernel\n",
    "mamba install conda-forge::allthekernels==1.2.0\n",
    "```"
   ]
  },
  {
   "cell_type": "markdown",
   "id": "3be81f66-6504-41b7-b9ec-3bfde97e9070",
   "metadata": {},
   "source": [
    "Then, restart JupyterLab and choose to use the `All the Kernels` kernel - it should be findable as long as you start JupyterLab in an environment with `nb_conda_kernels` installed^[Alternatively, starting JupyterLab in `Multi-Kernel` should probably work, but you'd likely have to install JupyterLab there first.]."
   ]
  },
  {
   "cell_type": "markdown",
   "id": "6ec430b4-f1da-43de-9654-5dfadc034160",
   "metadata": {},
   "source": [
    "Unfortunately, it doesn't seem to have syntax highlighting or work well with Quarto:\n",
    "\n",
    "![<b style=\"color:#EB1960\">Figure 1</b>](./images/quarto-problem.png)"
   ]
  },
  {
   "cell_type": "markdown",
   "id": "715ae716-2f7e-4e2b-a889-952bf366719a",
   "metadata": {},
   "source": [
    "And I wasn't able to get it to actually multiplex either, so I decided to try JupyterLab-SOS.\n",
    "\n",
    "```\n",
    "conda create -n JSOS\n",
    "conda activate JSOS\n",
    "mamba install conda-forge::jupyterlab_sos=0.9.0\n",
    "mamba install conda-forge::sos==0.23.4\n",
    "mamba install conda-forge::sos-pbs==0.20.8\n",
    "mamba install conda-forge::sos-notebook==0.20.1\n",
    "mamba install conda-forge::sos-papermill==0.2.1\n",
    "jupyter labextension install jupyterlab-sos\n",
    "mamba install conda-forge::nb_conda_kernels==2.3.1\n",
    "```"
   ]
  },
  {
   "cell_type": "markdown",
   "id": "ce4db663-f033-41e9-b664-30790fedd9a7",
   "metadata": {},
   "source": [
    "You'll know its installed when the following or similar shows up in the output to running `jupyter kernelspec list` in your shell:\n",
    "\n",
    "```\n",
    "sos  /Users/baileyandrew/mambaforge/envs/JSOS/share/jupyter/kernels/sos\n",
    "```"
   ]
  },
  {
   "cell_type": "markdown",
   "id": "f7853348-e335-40b7-af3a-fac3ac025d31",
   "metadata": {},
   "source": [
    "I started getting this error:\n",
    "```\n",
    "ImportError: cannot import name 'Sized' from 'collections' (/Users/baileyandrew/mambaforge/envs/JSOS/lib/python3.10/collections/__init__.py)\n",
    "```\n",
    "\n",
    "So I figured it was some version incompatibility with Python 3.10 and thus downgraded to 3.9:\n",
    "\n",
    "```\n",
    "mamba install conda-forge::python==3.9\n",
    "```"
   ]
  },
  {
   "cell_type": "code",
   "execution_count": 2,
   "id": "5a930208-b25c-4181-870a-b06471f3dcbc",
   "metadata": {},
   "outputs": [
    {
     "name": "stderr",
     "output_type": "stream",
     "text": [
      "Failed to switch to subkernel SoS [conda env:JSOS] (kernel None, language None): No subkernel named SoS [conda env:JSOS] is found. Please make sure that you have the kernel installed (listed in the output of \"jupyter kernelspec list\" and usable in jupyter by itself), install appropriate language module (e.g. \"pip install sos-r\"), restart jupyter notebook and try again.\n"
     ]
    }
   ],
   "source": [
    "%use \"Python [conda env:JSOS]\"\n",
    "print(\"Hello\", \"World\")"
   ]
  },
  {
   "cell_type": "markdown",
   "id": "973ad13c-40fe-4300-bfaf-82d929bd55b6",
   "metadata": {},
   "source": [
    "However, as you can see, it didn't work at all.\n",
    "\n",
    "This is the problem with SoS Notebook; it's too brittle because it tries to do too much!"
   ]
  },
  {
   "cell_type": "markdown",
   "id": "2b76c580-d4c3-4f68-babc-f17ef6a239f3",
   "metadata": {},
   "source": [
    "</details>"
   ]
  },
  {
   "cell_type": "markdown",
   "id": "aa92d0dd-6587-4a38-9386-94f8b9b0c2d6",
   "metadata": {},
   "source": [
    "# Side-by-Side Code Cells"
   ]
  },
  {
   "cell_type": "markdown",
   "id": "3997254d-550f-4945-b6dc-c118182cba75",
   "metadata": {},
   "source": [
    "While the multikernel stuff isn't working out yet, it is possible to use Quarto to get code cells side-by-side!"
   ]
  },
  {
   "cell_type": "markdown",
   "id": "784495bd-14fe-49b1-9b05-2e7447b60f49",
   "metadata": {},
   "source": [
    "```html\n",
    "<table style=\"width:100%\"><tr><td>\n",
    "# Code Cell #\n",
    "</td><td>\n",
    "# Code Cell #\n",
    "</td></tr></table>\n",
    "```\n",
    "\n",
    "Yields the following:"
   ]
  },
  {
   "cell_type": "markdown",
   "id": "71402b96-fdf9-46fb-85a6-e71477192677",
   "metadata": {},
   "source": [
    "<table style=\"width:100%\"><tr><td>"
   ]
  },
  {
   "cell_type": "code",
   "execution_count": 1,
   "id": "c493f95f-bdf7-4805-96e9-212738b3fcbc",
   "metadata": {},
   "outputs": [
    {
     "name": "stdout",
     "output_type": "stream",
     "text": [
      "Hello\n"
     ]
    }
   ],
   "source": [
    "print(\"Hello\")"
   ]
  },
  {
   "cell_type": "markdown",
   "id": "2c285df6-5ba9-44fe-b9ab-39c3925865a0",
   "metadata": {},
   "source": [
    "</td><td>"
   ]
  },
  {
   "cell_type": "code",
   "execution_count": 1,
   "id": "f7fa1315-7202-45c0-a1f5-15b6e136c3d9",
   "metadata": {},
   "outputs": [
    {
     "name": "stdout",
     "output_type": "stream",
     "text": [
      "World\n"
     ]
    }
   ],
   "source": [
    "print(\"World\")"
   ]
  },
  {
   "cell_type": "markdown",
   "id": "ffa810c0-2955-4491-816c-472bc7818d06",
   "metadata": {},
   "source": [
    "</td></tr></table>"
   ]
  },
  {
   "cell_type": "markdown",
   "id": "7fbd6a40-094e-449c-b706-4c6194c10679",
   "metadata": {},
   "source": [
    "# The Best I Can Do For Polyglotting"
   ]
  },
  {
   "cell_type": "markdown",
   "id": "80ce98fe-528a-4f45-aa00-676a01a922a7",
   "metadata": {},
   "source": [
    "In making the side-by-side code blocks, I noticed that code-in-markdown:\n",
    "\n",
    "````\n",
    "```r\n",
    "print(c(\"Hello\", \"World\"))\n",
    "```\n",
    "````"
   ]
  },
  {
   "cell_type": "markdown",
   "id": "31988952-d5a5-4acd-97e3-5876aa42eec1",
   "metadata": {},
   "source": [
    "yields a code block in a very similar way to true code blocks, in the sense that the formatting is the same and it is copyable as well:"
   ]
  },
  {
   "cell_type": "markdown",
   "id": "3d111972-74f6-45fa-93aa-a7c151aad65d",
   "metadata": {},
   "source": [
    "```r\n",
    "print(c(\"Hello\", \"World\"))\n",
    "```"
   ]
  },
  {
   "cell_type": "markdown",
   "id": "3078d6a0-20ee-4955-905c-d4f9c88ea2ba",
   "metadata": {},
   "source": [
    "So I could do something like this:\n",
    "\n",
    "<table style=\"width:100%\">\n",
    "    <th>Python</th><th>R</th>\n",
    "    <tr><td>\n",
    "        \n",
    "```python\n",
    "print([\"Hello\", \"World\"])\n",
    "```\n",
    "</td><td>\n",
    "        \n",
    "```r\n",
    "print(c(\"Hello\", \"World\"))\n",
    "```\n",
    "</td></tr></table>"
   ]
  },
  {
   "cell_type": "markdown",
   "id": "633a2033-981c-4fc7-9cf0-66e988fd5fd9",
   "metadata": {},
   "source": [
    "The only difficulty then becomes getting this code to run when the page is rendered!"
   ]
  },
  {
   "cell_type": "markdown",
   "id": "5167bc0c-fc1f-434a-824b-00e3fc91295c",
   "metadata": {},
   "source": [
    "If I put the following in the Quarto header:\n",
    "```markdown\n",
    "execute:\n",
    "    enabled: true\n",
    "```\n",
    "\n",
    "And install these:\n",
    "```zsh\n",
    "mamba install conda-forge::nbformat=5.7.3\n",
    "mamba install conda-forge::nbclient=0.7.2\n",
    "```\n",
    "\n",
    "Then I can get the document to auto-run code cells (with a bit of fiddling - I only got it to work with my env's default kernel rather than others, although I think there's ways to fix that).  However, it won't auto-run the code-in-markdown cells.\n",
    "\n",
    "It's a bit annoying because, in theory at least (I haven't tried it), multilingual support is available if I were to write in `qmd` instead of `ipynb` - it frustrates me that this isn't a higher priority of the community :/"
   ]
  },
  {
   "cell_type": "markdown",
   "id": "0b887935-df7f-4398-9327-aab728a5d685",
   "metadata": {},
   "source": [
    "## Cheating a bit"
   ]
  },
  {
   "cell_type": "markdown",
   "id": "78675280-7dd3-4d99-9efc-6f8f8994559f",
   "metadata": {},
   "source": [
    "I can get halfway to being a polyglot as follows:"
   ]
  },
  {
   "cell_type": "markdown",
   "id": "0d0f19ea-4075-49ef-b062-60e6c06dcf96",
   "metadata": {},
   "source": [
    "<table style=\"width:100%\">\n",
    "    <th>Python</th><th>R</th>\n",
    "    <tr><td>\n",
    "        \n",
    "```python\n",
    "print([\"Hello\", \"World\"])\n",
    "```"
   ]
  },
  {
   "cell_type": "code",
   "execution_count": 14,
   "id": "e0386ed4-e052-4dfb-9ee6-6fb81554e626",
   "metadata": {},
   "outputs": [
    {
     "name": "stdout",
     "output_type": "stream",
     "text": [
      "['Hello', 'World']\n"
     ]
    }
   ],
   "source": [
    "#| echo: false\n",
    "print([\"Hello\", \"World\"])"
   ]
  },
  {
   "cell_type": "markdown",
   "id": "6dfe5c89-6d85-4c7e-9a43-139fc255ac09",
   "metadata": {},
   "source": [
    "</td><td>\n",
    "        \n",
    "```r\n",
    "print(c(\"Hello\", \"World\"))\n",
    "```"
   ]
  },
  {
   "cell_type": "code",
   "execution_count": 2,
   "id": "063f016c-af66-44f9-97c2-7cca50fb3e24",
   "metadata": {},
   "outputs": [
    {
     "name": "stdout",
     "output_type": "stream",
     "text": [
      "[1] \"Hello\" \"World\"\n"
     ]
    }
   ],
   "source": [
    "#| echo: false\n",
    "!Rscript <(echo 'print(c(\"Hello\", \"World\"))')"
   ]
  },
  {
   "cell_type": "markdown",
   "id": "306bc684-83fd-42d1-ad86-4a3f1810b4c4",
   "metadata": {},
   "source": [
    "</td></tr></table>"
   ]
  },
  {
   "cell_type": "markdown",
   "id": "98d60652-7340-4dc1-a129-543e247302ec",
   "metadata": {},
   "source": [
    "So, how did I do it?  Well, it looks a bit ulgy in JupyterLab:\n",
    "\n",
    "![<b style=\"color:#EB1960\">Figure 2</b>](./images/ugly-in-jlab.png)\n",
    "\n",
    "But it was set up as follows:\n",
    "\n",
    "````markdown\n",
    "<table style=\"width:100%\">\n",
    "    <th>Python</th><th>R</th>\n",
    "    <tr><td>\n",
    "        \n",
    "```python\n",
    "print([\"Hello\", \"World\"])\n",
    "```\n",
    "<!-- Python Code Cell Here-->\n",
    "</td><td>\n",
    "        \n",
    "```r\n",
    "print(c(\"Hello\", \"World\"))\n",
    "```\n",
    "<!-- R Code Cell Here-->\n",
    "</td></tr></table>\n",
    "````"
   ]
  },
  {
   "cell_type": "markdown",
   "id": "291fe55b-0808-4a68-aa36-936af839fa5a",
   "metadata": {},
   "source": [
    "To do this, I had to have my Python kernel be from an environment that had access to an R distribution; unfortunately that's something I want to move away from^[I want to instead have every environment be precisely one language, since I think having multiple is what is preventing me from installing `Bioconductor` packages with `conda`]."
   ]
  },
  {
   "cell_type": "markdown",
   "id": "5e6d0d7c-5039-422e-aca6-b7cd9f2014ae",
   "metadata": {},
   "source": [
    "# Concluding Remarks"
   ]
  },
  {
   "cell_type": "markdown",
   "id": "0616e247-3ad0-47f1-ad91-55bf86d0250f",
   "metadata": {},
   "source": [
    "After making this blog post, I've begun to feel that two needs aren't currently being met by Jupyter infrastructure:\n",
    "\n",
    "*  Multikernels\n",
    "*  Pretty rendering of code blocks surrounded by html\n",
    "\n",
    "The first is something I could potentially fix, by writing my own kernel.  The second could be fixed with an update to `nbformat`^[`.ipynb` file format specification] to allow for \"nested cells\", i.e. allowing for the rendering of groups of cells at once, so that we don't have to see the ugly mish-mosh of <b style=\"color:#EB1960\">Figure 2</b>.  I'd like to be able to do something about that one day."
   ]
  }
 ],
 "metadata": {
  "kernelspec": {
   "display_name": "Python [conda env:JupyterWithR]",
   "language": "python",
   "name": "conda-env-JupyterWithR-py"
  },
  "language_info": {
   "codemirror_mode": {
    "name": "ipython",
    "version": 3
   },
   "file_extension": ".py",
   "mimetype": "text/x-python",
   "name": "python",
   "nbconvert_exporter": "python",
   "pygments_lexer": "ipython3",
   "version": "3.9.13"
  }
 },
 "nbformat": 4,
 "nbformat_minor": 5
}
