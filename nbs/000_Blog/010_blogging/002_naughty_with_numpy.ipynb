{
 "cells": [
  {
   "cell_type": "raw",
   "id": "00feda4e-26c3-4c5a-bcb5-864c4476ffa2",
   "metadata": {},
   "source": [
    "---\n",
    "title: \"Being Naughty with Numpy\"\n",
    "description: \"Tee-hee\"\n",
    "author: \"Bailey Andrew\"\n",
    "date: \"Jan 29 2023\"\n",
    "draft: false\n",
    "categories: [Fun]\n",
    "format:\n",
    "  html:\n",
    "    css:\n",
    "      - ../../html_scripts/collapse.css\n",
    "      - ../../html_scripts/pretty_shortcuts.css\n",
    "    include-after-body: \n",
    "      - ../../html_scripts/collapse.html\n",
    "      - ../../html_scripts/comments.html\n",
    "      - ../../html_scripts/make_header_sensible.html\n",
    "---"
   ]
  },
  {
   "cell_type": "code",
   "execution_count": null,
   "id": "0eb7d9d4-1939-43e2-a645-68820d203a5a",
   "metadata": {},
   "outputs": [],
   "source": [
    "# Setup\n",
    "import numpy as np\n",
    "\n",
    "X = np.arange(12).reshape(3, 4)\n",
    "A = X[:2]\n",
    "B = X[2:]"
   ]
  },
  {
   "cell_type": "code",
   "execution_count": null,
   "id": "33071360-65a3-4f80-a47a-77652f5a5fc5",
   "metadata": {},
   "outputs": [
    {
     "data": {
      "text/plain": [
       "array([[0, 1, 2, 3],\n",
       "       [4, 5, 6, 7]])"
      ]
     },
     "metadata": {},
     "output_type": "display_data"
    },
    {
     "data": {
      "text/plain": [
       "array([[ 8,  9, 10, 11]])"
      ]
     },
     "metadata": {},
     "output_type": "display_data"
    }
   ],
   "source": [
    "display(A)\n",
    "display(B)"
   ]
  },
  {
   "cell_type": "code",
   "execution_count": null,
   "id": "13475508-0c13-48d3-8fb1-622133746709",
   "metadata": {},
   "outputs": [
    {
     "data": {
      "text/plain": [
       "array([[0, 1, 2, 3],\n",
       "       [4, 5, 6, 7]])"
      ]
     },
     "metadata": {},
     "output_type": "display_data"
    }
   ],
   "source": [
    "# Depends only on A\n",
    "np.lib.stride_tricks.as_strided(\n",
    "    A,\n",
    "    shape=(12,),\n",
    "    strides=(A.itemsize,)\n",
    ")[-1] = -1\n",
    "\n",
    "# A hasn't changed\n",
    "display(A)"
   ]
  },
  {
   "cell_type": "code",
   "execution_count": null,
   "id": "8e17ae3d-e548-40ff-bfe1-4305672df88a",
   "metadata": {},
   "outputs": [
    {
     "data": {
      "text/plain": [
       "array([[ 8,  9, 10, -1]])"
      ]
     },
     "metadata": {},
     "output_type": "display_data"
    }
   ],
   "source": [
    "# Spooky!\n",
    "display(B)"
   ]
  }
 ],
 "metadata": {
  "kernelspec": {
   "display_name": "Python [conda env:my_default_environment]",
   "language": "python",
   "name": "conda-env-my_default_environment-py"
  }
 },
 "nbformat": 4,
 "nbformat_minor": 5
}
