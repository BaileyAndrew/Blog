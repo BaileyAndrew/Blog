{
 "cells": [
  {
   "cell_type": "raw",
   "id": "13e18c34-f1b6-47fa-964c-e313f37d495f",
   "metadata": {},
   "source": [
    "---\n",
    "title: \"Enter the Simplex\"\n",
    "description: \"Do-do-do-do do-do-do-do\"\n",
    "author: \"Bailey Andrew\"\n",
    "date: \"Jan 12 2023\"\n",
    "draft: false\n",
    "categories: [Work, Compositional, Useful]\n",
    "bibliography: bibliography.bib\n",
    "format:\n",
    "  html:\n",
    "    css:\n",
    "      - ../../html_scripts/collapse.css\n",
    "      - ../../html_scripts/pretty_shortcuts.css\n",
    "    include-after-body: \n",
    "      - ../../html_scripts/collapse.html\n",
    "      - ../../html_scripts/comments.html\n",
    "---"
   ]
  },
  {
   "cell_type": "markdown",
   "id": "d7c77d76-8517-40c3-97d4-2fbc7b9f9d87",
   "metadata": {},
   "source": [
    "\"<b style=\"color:#A6A440\">Compositional data</b>\" is data representing the <em style=\"color:#C0CF96\">composition</em> of something - i.e. water is 66% H and 33% O (H<sub>2</sub>0) by atom count, so a glass of water could be described as the compositional vector `[2/3 1/3]` regardless of how big the glass is.  It's <b style=\"color:#A6A440\">scale-independent</b>; <b style=\"color:#C0CF96\">it should always sum to one</b>."
   ]
  },
  {
   "cell_type": "markdown",
   "id": "6df101c1-1bde-4a6e-af6c-686f4567d76d",
   "metadata": {},
   "source": [
    "The <b style=\"color:#A6A440\">space</b> that <b style=\"color:#A6A440\">compositional data</b> lives in is called <b style=\"color:#EB1960\">the Simplex</b>.  \"<b style=\"color:#EB1960\">Simplex</b>\" is a fancy name for an arbitrarily-dimensional triangle.  Just like how we can imagine the set of vectors with magnitude one as existing on a <b style=\"color:#EB1960\">hypersphere</b> (arbitrarily-dimensional sphere), the set of vectors with sum one exists on a (hyper)triangle with vertices along each of the axes - hence the name \"<b style=\"color:#EB1960\">simplex</b>\".  This is in contrast with ordinary data, which lives in <b style=\"color:#EB1960\">Euclidean space</b>."
   ]
  },
  {
   "cell_type": "markdown",
   "id": "ac40ebff-16dd-4e7b-bfcc-a1b398ee9d6f",
   "metadata": {},
   "source": [
    "<b style=\"color:#EB1960\">Euclidean space</b> is \"normal\" space; your intuitions about geometric facts are likely to be valid here.  However, <b style=\"color:#EB1960\">the Simplex</b> is a different space with different rules.  If we do not account for those rules when performing analyses, our results will be erroneous.\n",
    "\n",
    "![On the left is a straight line in <b style=\"color:#EB1960\">the Simplex</b>.  On the right is a straight line in <b style=\"color:#EB1960\">Euclidean space</b>.  Note the difference.](./simplex-lines.png)\n",
    "\n",
    "If you don't like the line on the left being \"straight\", call it a <b style=\"color:#A6A440\">geodesic</b>; it means the same thing but you probably don't have any preconceived notions as to its meaning.  Note that this is the same reason that long haul planes don't travel on \"straight\" lines on the map; the plane is travelling on a straight line (<b style=\"color:#A6A440\">geodesic</b>) in the natural geometry of the earth's surface (the <b style=\"color:#A6A440\">curvature</b>).  A <b style=\"color:#A6A440\">geodesic</b> is the shortest path^[Well, locally shortest.] between two points.  <b style=\"color:#EB1960\">The Simplex</b> is graphed as a triangle because of its, well, triangular nature - note that it actually has three axes, one for each side.  It may have three parameters, but the <b style=\"color:#A6A440\">dimensionality</b> of the data is 2.  In arbitrary dimensions, you may have $n$ numbers, but the last number can always be worked out by 1 minus the sum of the others."
   ]
  },
  {
   "cell_type": "markdown",
   "id": "5f5d9041-bc76-4bc5-a7dd-39098e302300",
   "metadata": {},
   "source": [
    "# Leaving the Simplex"
   ]
  },
  {
   "cell_type": "markdown",
   "id": "81252ebd-41c6-4c3c-868f-39b682d0489e",
   "metadata": {},
   "source": [
    "One method of dealing with <b style=\"color:#EB1960\">the Simplex</b> is to leave it, by mapping our data onto <b style=\"color:#EB1960\">Euclidean space</b>.  The most common way to do this is to use <b style=\"color:#537FBF\">log-ratio transformations</b>.  The name <b style=\"color:#EB1960\">Aitchison</b> might pop up if you do some research on this; in fact one name for the geometry of <b style=\"color:#EB1960\">the Simplex</b> is <b style=\"color:#EB1960\">Aitchison Geometry</b>."
   ]
  },
  {
   "cell_type": "markdown",
   "id": "63ff54c6-5460-4efa-b145-d18f91e3c517",
   "metadata": {},
   "source": [
    "## <b style=\"color:#537FBF\">Log-Ratio Transforms</b>"
   ]
  },
  {
   "cell_type": "markdown",
   "id": "257ad3a8-9bc6-4889-bdb3-c4696b72300f",
   "metadata": {},
   "source": [
    "Take the set of variables $\\{\\forall i : x_i\\}$ in your <b style=\"color:#A6A440\">compositional data</b>.  The set of <b style=\"color:#A6A440\">log-ratios</b> would be $\\{\\forall i, j : \\log \\frac{x_i}{x_j}\\}$.  Since <b style=\"color:#A6A440\">compositional data</b> is all about relative sizes, it does make intuitive sense why ratios would be important.  There are three major <b style=\"color:#537FBF\">log-ratio transforms</b> (<b style=\"color:#537FBF\">CLR</b>, <b style=\"color:#537FBF\">ALR</b>, <b style=\"color:#537FBF\">ILR</b>): they all depend on picking out a particularly nice, small, subset of these <b style=\"color:#A6A440\">log-ratios</b> (or <b style=\"color:#A6A440\">log-ratio</b>-ish things).  They're particularly natural when you have reason to believe your data is close to being <b style=\"color:#A6A440\">log-normally</b> distributed."
   ]
  },
  {
   "cell_type": "markdown",
   "id": "af7b5707-56bf-4168-a6da-a29c9fed91d6",
   "metadata": {},
   "source": [
    "### <b style=\"color:#537FBF\">Centered Log-Ratio (CLR)</b>"
   ]
  },
  {
   "cell_type": "markdown",
   "id": "27f19401-be21-49c6-9988-8823d96d7d5f",
   "metadata": {},
   "source": [
    "<b style=\"color:#537FBF\">CLR</b> is an <b style=\"color:#A6A440\">isometry</b> - it is a reversible mapping from <b style=\"color:#EB1960\">the Simplex</b> to <b style=\"color:#EB1960\">Euclidean space</b> which perfectly preserves the geometric structure.  In other words, it gives us a way of interpreting <b style=\"color:#EB1960\">the Simplex</b> in terms of our pre-existing <b style=\"color:#EB1960\">Euclidean</b> intuitions.  While transformations being an <b style=\"color:#A6A440\">isometry</b> does not necessarily make it the right tool for the job, the fact that this is an <b style=\"color:#A6A440\">isometry</b> points to it being a mathematically \"natural\" thing to do.  <i style=\"color:#C0CF96\">Mathematics often rewards naturality</i>."
   ]
  },
  {
   "cell_type": "markdown",
   "id": "d5036d01-3a70-4fd7-a891-8b28e1c428fd",
   "metadata": {},
   "source": [
    "<b style=\"color:#537FBF\">CLR</b> preserves the amount of parameters of the data.  The parameters preserve their meaning: the $i$th parameter pre- and post-<b style=\"color:#537FBF\">CLR</b> still represent a measure of size for the same thingamajig (somewhat like, but different to, measuring things in miles vs kilometers).\n",
    "\n",
    "Its downside is that it preserves the number of parameters.  As we saw, data in <b style=\"color:#EB1960\">the Simplex</b> requires more parameters than its <b style=\"color:#A6A440\">dimensionality</b> - this is still true in the output of <b style=\"color:#537FBF\">CLR</b> as it does not remove parameters."
   ]
  },
  {
   "cell_type": "markdown",
   "id": "19c81641-d0f7-410a-9d6e-1a9b0bd2da98",
   "metadata": {},
   "source": [
    "As an aside, the inverse function of <b style=\"color:#537FBF\">CLR</b> is <b style=\"color:#537FBF\">Softmax</b>."
   ]
  },
  {
   "cell_type": "markdown",
   "id": "ef11bc06-9988-4c73-a061-f362c2070e67",
   "metadata": {},
   "source": [
    "### <b style=\"color:#537FBF\">Additive Log-Ratio (ALR)</b>"
   ]
  },
  {
   "cell_type": "markdown",
   "id": "3ef23785-bedb-476b-be11-775fa9ab96f1",
   "metadata": {},
   "source": [
    "<b style=\"color:#537FBF\">ALR</b> is not an <b style=\"color:#A6A440\">isometry</b>, it is usually close enough to being one [@quasi-isometry] that the difference does not matter too much.  Unlike <b style=\"color:#537FBF\">CLR</b>, <b style=\"color:#537FBF\">ALR</b> reduces the amount of parameters of your data to match its <b style=\"color:#A6A440\">dimensionality</b>.  It does this by picking one of your original parameters to be the <b style=\"color:#A6A440\">reference</b>; it will be the denominator in all the <b style=\"color:#A6A440\">log-ratios</b>.  Hence the <b style=\"color:#A6A440\">log-ratio</b> associated with the <b style=\"color:#A6A440\">reference</b> will always be 0 and can be ignored.  This is, of course, a downside if all of the potential <b style=\"color:#A6A440\">references</b> are interesting in their own right, as one will have to be sacrificed."
   ]
  },
  {
   "cell_type": "markdown",
   "id": "33ab7e54-75d7-4a9f-8213-8daafc374a7f",
   "metadata": {},
   "source": [
    "This is my personal favorite of the <b style=\"color:#537FBF\">log-ratio transforms</b>; even though I am a mathematician, I think approximate equality is just as good as exact equality in the real world.  I don't need my transform to be an exact <b style=\"color:#A6A440\">isometry</b>."
   ]
  },
  {
   "cell_type": "markdown",
   "id": "7eb4c4a9-e2a6-42c9-b010-fa115de592b8",
   "metadata": {},
   "source": [
    "<details>\n",
    "    <summary><b class=\"sidequests\">Sidequest</b><b style=\"color:#C0CF96\">: How to choose a good</b> <b style=\"color:#A6A440\">reference</b> <b style=\"color:#C0CF96\">for</b> <b style=\"color:#537FBF\">ALR</b></summary>\n",
    "\n",
    "I couldn't find anything online 🤷‍♂️ I assume it's best to just pick the least interesting parameter.  For what I do, there are many uninteresting parameters so this should not be a problem.  If we chose a constant parameter $1$, then I guess this would be equivalent to just taking the log transform.\n",
    "    \n",
    "</details>"
   ]
  },
  {
   "cell_type": "markdown",
   "id": "aed94dc5-b279-42e7-a5f8-c072f8356ade",
   "metadata": {},
   "source": [
    "### <b style=\"color:#537FBF\">Isometric Log-Ratio (ILR)</b>"
   ]
  },
  {
   "cell_type": "markdown",
   "id": "d3e20cbb-d6df-4a5e-ad11-d84d818fa4c1",
   "metadata": {},
   "source": [
    "<b style=\"color:#537FBF\">ILR</b> is an <b style=\"color:#A6A440\">isometry</b>, and it also reduces the parameterspace to match the <b style=\"color:#A6A440\">dimensionality</b>.  It does this at the cost of interpretability; while there is some kind of interpretation based on the concept of \"<b style=\"color:#A6A440\">balances</b>\"^[Which I must confess I do not really understand.], the parameters post-<b style=\"color:#537FBF\">ILR</b> are not directly related to those pre-<b style=\"color:#537FBF\">ILR</b>.  This is my least favorite of the <b style=\"color:#537FBF\">log-ratio transforms</b>; it is mathematically interesting, but at least in the work that I've been doing lately I very much want the parameters pre-<b style=\"color:#537FBF\">ILR</b> and post-<b style=\"color:#537FBF\">ILR</b> to have obvious and immediate relationships."
   ]
  },
  {
   "cell_type": "markdown",
   "id": "65d4dc5b-a643-4d90-a0a4-b1e09e518209",
   "metadata": {},
   "source": [
    "## Other Transforms"
   ]
  },
  {
   "cell_type": "markdown",
   "id": "6fa16e21-7afd-4630-8a56-81de18c5982c",
   "metadata": {},
   "source": [
    "TO BE CONTINUED"
   ]
  },
  {
   "cell_type": "markdown",
   "id": "1a985494-d51c-4702-8b8d-446e20604de1",
   "metadata": {},
   "source": [
    "::: References\n",
    ":::"
   ]
  }
 ],
 "metadata": {
  "kernelspec": {
   "display_name": "Python [conda env:Blog-nbdev]",
   "language": "python",
   "name": "conda-env-Blog-nbdev-py"
  }
 },
 "nbformat": 4,
 "nbformat_minor": 5
}
