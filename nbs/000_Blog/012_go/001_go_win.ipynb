{
 "cells": [
  {
   "cell_type": "raw",
   "id": "f3307831-c5e6-42d1-bef1-818bb42d390d",
   "metadata": {},
   "source": [
    "---\n",
    "title: \"Go Victory\"\n",
    "description: \"I beat a 7k bot!\"\n",
    "author: \"Bailey Andrew\"\n",
    "date: \"Feb 10 2023\"\n",
    "draft: false\n",
    "categories: [Fun, Go]\n",
    "format:\n",
    "  html:\n",
    "    css:\n",
    "      - ../../html_scripts/collapse.css\n",
    "      - ../../html_scripts/pretty_shortcuts.css\n",
    "    include-after-body: \n",
    "      - ../../html_scripts/collapse.html\n",
    "      - ../../html_scripts/comments.html\n",
    "      - ../../html_scripts/make_header_sensible.html\n",
    "---"
   ]
  },
  {
   "cell_type": "markdown",
   "id": "3ac12001-26df-4269-9bd3-486a46e7161e",
   "metadata": {},
   "source": [
    "I beat the 7kyu bot \"Carnation\"!\n",
    "\n",
    "![](./images/7k-victory.png)"
   ]
  },
  {
   "cell_type": "markdown",
   "id": "61aa60ad-caa7-45de-bdab-e9325ff6c214",
   "metadata": {},
   "source": [
    "To be honest, I think it was a fluke - I managed to with the fight for the upper-left white group's survival, but that's because I got a bit lucky with what I had to work with.  Nevertheless, I'm proud of it.  The bot resigned.  I'll have to play against it a few more times until I can win consistently."
   ]
  },
  {
   "cell_type": "markdown",
   "id": "f5862eeb-bc25-431d-aded-c36075d3dffc",
   "metadata": {},
   "source": [
    "<iframe src=\"https://online-go.com/game/50957290/embed\" width=\"345px\" height=\"345px\" allowtransparency=\"true\" scrolling=\"no\" frameborder=\"0\"></iframe>"
   ]
  }
 ],
 "metadata": {
  "kernelspec": {
   "display_name": "Python [conda env:Blog-nbdev]",
   "language": "python",
   "name": "conda-env-Blog-nbdev-py"
  },
  "language_info": {
   "codemirror_mode": {
    "name": "ipython",
    "version": 3
   },
   "file_extension": ".py",
   "mimetype": "text/x-python",
   "name": "python",
   "nbconvert_exporter": "python",
   "pygments_lexer": "ipython3",
   "version": "3.9.15"
  }
 },
 "nbformat": 4,
 "nbformat_minor": 5
}
