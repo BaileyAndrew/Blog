{
 "cells": [
  {
   "cell_type": "raw",
   "id": "9cf1ef2f-f986-4e1b-a491-eacf3e7f7099",
   "metadata": {},
   "source": [
    "---\n",
    "title: \"Analyzing scRNA-seq Data -- Exploration\"\n",
    "description: \"A continuation of yesterday; what can we learn from the data?\"\n",
    "author: \"Bailey Andrew\"\n",
    "date: \"Jan 10 2023\"\n",
    "draft: false\n",
    "categories: [Work, Omics, Paper Replication]\n",
    "bibliography: bibliography.bib\n",
    "format:\n",
    "  html:\n",
    "    css:\n",
    "      - ../../html_scripts/collapse.css\n",
    "      - ../../html_scripts/pretty_shortcuts.css\n",
    "    include-after-body: \n",
    "      - ../../html_scripts/collapse.html\n",
    "      - ../../html_scripts/comments.html\n",
    "---"
   ]
  },
  {
   "cell_type": "code",
   "execution_count": null,
   "id": "cadd0eb7-ef9a-4c67-b32d-acf0c4991850",
   "metadata": {},
   "outputs": [],
   "source": [
    "#| echo: false\n",
    "# Run this to allow the use of R\n",
    "# Cheekily, rpy2 doesn't work with the Matrix package of R,\n",
    "# so I actually ran all the R using a document-wide R kernel,\n",
    "# this is just for syntax highlighting...\n",
    "%load_ext rpy2.ipython"
   ]
  },
  {
   "cell_type": "markdown",
   "id": "b7131127-2a2b-4a40-a372-4a2ec38ef540",
   "metadata": {},
   "source": [
    "Yesterday, we looked at a scRNA-seq dataset of <i style=\"color:#EB1960\">Danio rerio</i> cells [@zebrafish-data].  We spent a lot of time understanding how the dataset was created, and ended with a bit of a mystery: <i style=\"color:#C0CF96\">why did the cell counts not match up between our datasets?</i>  I don't have an answer to that mystery, unfortunately - but in my experience this mismatch happens in a lot of papers.  We might as well continue with the analysis, rather than getting hung up on a minor anomaly."
   ]
  },
  {
   "cell_type": "markdown",
   "id": "c27dc0b3-264b-4437-b945-63c9d4b974de",
   "metadata": {},
   "source": [
    "I realized since yesterday that there was another gene counts file, (the filtered tpms file).  I downloaded this and the \"experiment metadata\" files; I suspect these may be useful as I know that the TPM values were pre-quality-control:\n",
    "\n",
    "> For the <b style=\"color:#EB1960\">Smart-seq2 protocol</b> transcript per million (TPM) values reported by Salmon were used for the quality control (QC). Wells with fewer than 900 expressed genes (TPM > 1) or having more than either 60% of ERCC or 45% of mitochondrial content were annotated as <strong style=\"color:#C0CF96\">poor quality cells</strong>. As a result, 322 cells failed QC and 542 single cells were selected for the further study.\n",
    ">\n",
    "> -- <cite><b style=\"color:#EB1960\">Quality Control of Single-Cell Data; Materials and Methods Section;</b> @zebrafish-data </cite>"
   ]
  },
  {
   "cell_type": "markdown",
   "id": "00ed823a-3826-47fd-a11b-ffc0ee2308cb",
   "metadata": {},
   "source": [
    "<details>\n",
    "    <summary style=\"color:#C0CF96\">\n",
    "        <b>Can I mix R and Python in the same notebook?</b>\n",
    "    </summary>\n",
    "    Yes!  I sometimes use <b style=\"color:#EB1960\">SOS Kernel</b> which allows me to swap between kernels at ease.  You can change kernels (R vs Python) using <span style=\"color:#757575\">%use</span> magic commands; I've done this before but the syntax highlighting gets messed up often, so I've chosen not to. do that here.\n",
    "</details>"
   ]
  },
  {
   "cell_type": "code",
   "execution_count": null,
   "id": "54d727df-27f1-4ee2-9f82-c1d936c687ea",
   "metadata": {},
   "outputs": [
    {
     "data": {
      "text/html": [
       "<style>\n",
       ".list-inline {list-style: none; margin:0; padding: 0}\n",
       ".list-inline>li {display: inline-block}\n",
       ".list-inline>li:not(:last-child)::after {content: \"\\00b7\"; padding: 0 .5ex}\n",
       "</style>\n",
       "<ol class=list-inline><li>21797</li><li>966</li></ol>\n"
      ],
      "text/latex": [
       "\\begin{enumerate*}\n",
       "\\item 21797\n",
       "\\item 966\n",
       "\\end{enumerate*}\n"
      ],
      "text/markdown": [
       "1. 21797\n",
       "2. 966\n",
       "\n",
       "\n"
      ],
      "text/plain": [
       "[1] 21797   966"
      ]
     },
     "metadata": {},
     "output_type": "display_data"
    }
   ],
   "source": [
    "raw.counts <- Matrix::readMM('./localdata/E-MTAB-7117.expression_tpm.mtx')\n",
    "dim(raw.counts)"
   ]
  },
  {
   "cell_type": "markdown",
   "id": "0816433a-b8ab-45bc-8fea-0b0744e1e44d",
   "metadata": {},
   "source": [
    "<details>\n",
    "    <summary style=\"color:#C0CF96\"><b>Does the metadata file help us resolve the cell count mystery?</b></summary>"
   ]
  },
  {
   "cell_type": "markdown",
   "id": "2e6670ab-df43-40b9-8fc4-44448fb842a3",
   "metadata": {},
   "source": [
    "What does this extra metadata file tell us?  Let's see:"
   ]
  },
  {
   "cell_type": "code",
   "execution_count": null,
   "id": "bef04034-bd27-46f9-926b-b03d79c97a46",
   "metadata": {},
   "outputs": [
    {
     "data": {
      "text/html": [
       "<table class=\"dataframe\">\n",
       "<caption>A data.frame: 6 × 55</caption>\n",
       "<thead>\n",
       "\t<tr><th></th><th scope=col>Source.Name</th><th scope=col>Comment.ENA_SAMPLE.</th><th scope=col>Comment.BioSD_SAMPLE.</th><th scope=col>Characteristics.organism.</th><th scope=col>Characteristics.strain.</th><th scope=col>Characteristics.age.</th><th scope=col>Unit.time.unit.</th><th scope=col>Characteristics.developmental.stage.</th><th scope=col>Characteristics.sex.</th><th scope=col>Characteristics.genotype.</th><th scope=col>⋯</th><th scope=col>Comment.ENA_EXPERIMENT.</th><th scope=col>Scan.Name</th><th scope=col>Comment.SUBMITTED_FILE_NAME.</th><th scope=col>Comment.ENA_RUN.</th><th scope=col>Comment.FASTQ_URI.</th><th scope=col>Comment.SPOT_LENGTH.</th><th scope=col>Comment.READ_INDEX_1_BASE_COORD.</th><th scope=col>Factor.Value.genotype.</th><th scope=col>Factor.Value.organism.part.</th><th scope=col>Factor.Value.single.cell.identifier.</th></tr>\n",
       "\t<tr><th></th><th scope=col>&lt;chr&gt;</th><th scope=col>&lt;chr&gt;</th><th scope=col>&lt;chr&gt;</th><th scope=col>&lt;chr&gt;</th><th scope=col>&lt;chr&gt;</th><th scope=col>&lt;int&gt;</th><th scope=col>&lt;chr&gt;</th><th scope=col>&lt;chr&gt;</th><th scope=col>&lt;chr&gt;</th><th scope=col>&lt;chr&gt;</th><th scope=col>⋯</th><th scope=col>&lt;chr&gt;</th><th scope=col>&lt;chr&gt;</th><th scope=col>&lt;chr&gt;</th><th scope=col>&lt;chr&gt;</th><th scope=col>&lt;chr&gt;</th><th scope=col>&lt;int&gt;</th><th scope=col>&lt;int&gt;</th><th scope=col>&lt;chr&gt;</th><th scope=col>&lt;chr&gt;</th><th scope=col>&lt;chr&gt;</th></tr>\n",
       "</thead>\n",
       "<tbody>\n",
       "\t<tr><th scope=row>1</th><td>CD4_gill_A1 </td><td>ERS2634491</td><td>SAMEA4814592</td><td>Danio rerio</td><td>AB</td><td>6</td><td>month</td><td>adult</td><td>male</td><td>Tg(cd4-1:mCherry)</td><td>⋯</td><td>ERX2737040</td><td>SLX-10875.N701_S513.C9FTNANXX.s_5.r_1.fq.gz</td><td>SLX-10875.N701_S513.C9FTNANXX.s_5.r_1.fq.gz</td><td>ERR2723271</td><td>ftp://ftp.sra.ebi.ac.uk/vol1/fastq/ERR272/001/ERR2723271/ERR2723271_1.fastq.gz</td><td>250</td><td>126</td><td>Tg(cd4-1:mCherry)</td><td>gill</td><td>CD4_gill_A1 </td></tr>\n",
       "\t<tr><th scope=row>2</th><td>CD4_gill_A1 </td><td>ERS2634491</td><td>SAMEA4814592</td><td>Danio rerio</td><td>AB</td><td>6</td><td>month</td><td>adult</td><td>male</td><td>Tg(cd4-1:mCherry)</td><td>⋯</td><td>ERX2737040</td><td>SLX-10875.N701_S513.C9FTNANXX.s_5.r_2.fq.gz</td><td>SLX-10875.N701_S513.C9FTNANXX.s_5.r_2.fq.gz</td><td>ERR2723271</td><td>ftp://ftp.sra.ebi.ac.uk/vol1/fastq/ERR272/001/ERR2723271/ERR2723271_2.fastq.gz</td><td>250</td><td>126</td><td>Tg(cd4-1:mCherry)</td><td>gill</td><td>CD4_gill_A1 </td></tr>\n",
       "\t<tr><th scope=row>3</th><td>CD4_gill_A10</td><td>ERS2634691</td><td>SAMEA4814793</td><td>Danio rerio</td><td>AB</td><td>6</td><td>month</td><td>adult</td><td>male</td><td>Tg(cd4-1:mCherry)</td><td>⋯</td><td>ERX2737240</td><td>SLX-10875.N712_S513.C9FTNANXX.s_5.r_1.fq.gz</td><td>SLX-10875.N712_S513.C9FTNANXX.s_5.r_1.fq.gz</td><td>ERR2723471</td><td>ftp://ftp.sra.ebi.ac.uk/vol1/fastq/ERR272/001/ERR2723471/ERR2723471_1.fastq.gz</td><td>250</td><td>126</td><td>Tg(cd4-1:mCherry)</td><td>gill</td><td>CD4_gill_A10</td></tr>\n",
       "\t<tr><th scope=row>4</th><td>CD4_gill_A10</td><td>ERS2634691</td><td>SAMEA4814793</td><td>Danio rerio</td><td>AB</td><td>6</td><td>month</td><td>adult</td><td>male</td><td>Tg(cd4-1:mCherry)</td><td>⋯</td><td>ERX2737240</td><td>SLX-10875.N712_S513.C9FTNANXX.s_5.r_2.fq.gz</td><td>SLX-10875.N712_S513.C9FTNANXX.s_5.r_2.fq.gz</td><td>ERR2723471</td><td>ftp://ftp.sra.ebi.ac.uk/vol1/fastq/ERR272/001/ERR2723471/ERR2723471_2.fastq.gz</td><td>250</td><td>126</td><td>Tg(cd4-1:mCherry)</td><td>gill</td><td>CD4_gill_A10</td></tr>\n",
       "\t<tr><th scope=row>5</th><td>CD4_gill_A11</td><td>ERS2635221</td><td>SAMEA4815323</td><td>Danio rerio</td><td>AB</td><td>6</td><td>month</td><td>adult</td><td>male</td><td>Tg(cd4-1:mCherry)</td><td>⋯</td><td>ERX2737770</td><td>SLX-10875.N714_S513.C9FTNANXX.s_5.r_1.fq.gz</td><td>SLX-10875.N714_S513.C9FTNANXX.s_5.r_1.fq.gz</td><td>ERR2724001</td><td>ftp://ftp.sra.ebi.ac.uk/vol1/fastq/ERR272/001/ERR2724001/ERR2724001_1.fastq.gz</td><td>250</td><td>126</td><td>Tg(cd4-1:mCherry)</td><td>gill</td><td>CD4_gill_A11</td></tr>\n",
       "\t<tr><th scope=row>6</th><td>CD4_gill_A11</td><td>ERS2635221</td><td>SAMEA4815323</td><td>Danio rerio</td><td>AB</td><td>6</td><td>month</td><td>adult</td><td>male</td><td>Tg(cd4-1:mCherry)</td><td>⋯</td><td>ERX2737770</td><td>SLX-10875.N714_S513.C9FTNANXX.s_5.r_2.fq.gz</td><td>SLX-10875.N714_S513.C9FTNANXX.s_5.r_2.fq.gz</td><td>ERR2724001</td><td>ftp://ftp.sra.ebi.ac.uk/vol1/fastq/ERR272/001/ERR2724001/ERR2724001_2.fastq.gz</td><td>250</td><td>126</td><td>Tg(cd4-1:mCherry)</td><td>gill</td><td>CD4_gill_A11</td></tr>\n",
       "</tbody>\n",
       "</table>\n"
      ],
      "text/latex": [
       "A data.frame: 6 × 55\n",
       "\\begin{tabular}{r|lllllllllllllllllllll}\n",
       "  & Source.Name & Comment.ENA\\_SAMPLE. & Comment.BioSD\\_SAMPLE. & Characteristics.organism. & Characteristics.strain. & Characteristics.age. & Unit.time.unit. & Characteristics.developmental.stage. & Characteristics.sex. & Characteristics.genotype. & ⋯ & Comment.ENA\\_EXPERIMENT. & Scan.Name & Comment.SUBMITTED\\_FILE\\_NAME. & Comment.ENA\\_RUN. & Comment.FASTQ\\_URI. & Comment.SPOT\\_LENGTH. & Comment.READ\\_INDEX\\_1\\_BASE\\_COORD. & Factor.Value.genotype. & Factor.Value.organism.part. & Factor.Value.single.cell.identifier.\\\\\n",
       "  & <chr> & <chr> & <chr> & <chr> & <chr> & <int> & <chr> & <chr> & <chr> & <chr> & ⋯ & <chr> & <chr> & <chr> & <chr> & <chr> & <int> & <int> & <chr> & <chr> & <chr>\\\\\n",
       "\\hline\n",
       "\t1 & CD4\\_gill\\_A1  & ERS2634491 & SAMEA4814592 & Danio rerio & AB & 6 & month & adult & male & Tg(cd4-1:mCherry) & ⋯ & ERX2737040 & SLX-10875.N701\\_S513.C9FTNANXX.s\\_5.r\\_1.fq.gz & SLX-10875.N701\\_S513.C9FTNANXX.s\\_5.r\\_1.fq.gz & ERR2723271 & ftp://ftp.sra.ebi.ac.uk/vol1/fastq/ERR272/001/ERR2723271/ERR2723271\\_1.fastq.gz & 250 & 126 & Tg(cd4-1:mCherry) & gill & CD4\\_gill\\_A1 \\\\\n",
       "\t2 & CD4\\_gill\\_A1  & ERS2634491 & SAMEA4814592 & Danio rerio & AB & 6 & month & adult & male & Tg(cd4-1:mCherry) & ⋯ & ERX2737040 & SLX-10875.N701\\_S513.C9FTNANXX.s\\_5.r\\_2.fq.gz & SLX-10875.N701\\_S513.C9FTNANXX.s\\_5.r\\_2.fq.gz & ERR2723271 & ftp://ftp.sra.ebi.ac.uk/vol1/fastq/ERR272/001/ERR2723271/ERR2723271\\_2.fastq.gz & 250 & 126 & Tg(cd4-1:mCherry) & gill & CD4\\_gill\\_A1 \\\\\n",
       "\t3 & CD4\\_gill\\_A10 & ERS2634691 & SAMEA4814793 & Danio rerio & AB & 6 & month & adult & male & Tg(cd4-1:mCherry) & ⋯ & ERX2737240 & SLX-10875.N712\\_S513.C9FTNANXX.s\\_5.r\\_1.fq.gz & SLX-10875.N712\\_S513.C9FTNANXX.s\\_5.r\\_1.fq.gz & ERR2723471 & ftp://ftp.sra.ebi.ac.uk/vol1/fastq/ERR272/001/ERR2723471/ERR2723471\\_1.fastq.gz & 250 & 126 & Tg(cd4-1:mCherry) & gill & CD4\\_gill\\_A10\\\\\n",
       "\t4 & CD4\\_gill\\_A10 & ERS2634691 & SAMEA4814793 & Danio rerio & AB & 6 & month & adult & male & Tg(cd4-1:mCherry) & ⋯ & ERX2737240 & SLX-10875.N712\\_S513.C9FTNANXX.s\\_5.r\\_2.fq.gz & SLX-10875.N712\\_S513.C9FTNANXX.s\\_5.r\\_2.fq.gz & ERR2723471 & ftp://ftp.sra.ebi.ac.uk/vol1/fastq/ERR272/001/ERR2723471/ERR2723471\\_2.fastq.gz & 250 & 126 & Tg(cd4-1:mCherry) & gill & CD4\\_gill\\_A10\\\\\n",
       "\t5 & CD4\\_gill\\_A11 & ERS2635221 & SAMEA4815323 & Danio rerio & AB & 6 & month & adult & male & Tg(cd4-1:mCherry) & ⋯ & ERX2737770 & SLX-10875.N714\\_S513.C9FTNANXX.s\\_5.r\\_1.fq.gz & SLX-10875.N714\\_S513.C9FTNANXX.s\\_5.r\\_1.fq.gz & ERR2724001 & ftp://ftp.sra.ebi.ac.uk/vol1/fastq/ERR272/001/ERR2724001/ERR2724001\\_1.fastq.gz & 250 & 126 & Tg(cd4-1:mCherry) & gill & CD4\\_gill\\_A11\\\\\n",
       "\t6 & CD4\\_gill\\_A11 & ERS2635221 & SAMEA4815323 & Danio rerio & AB & 6 & month & adult & male & Tg(cd4-1:mCherry) & ⋯ & ERX2737770 & SLX-10875.N714\\_S513.C9FTNANXX.s\\_5.r\\_2.fq.gz & SLX-10875.N714\\_S513.C9FTNANXX.s\\_5.r\\_2.fq.gz & ERR2724001 & ftp://ftp.sra.ebi.ac.uk/vol1/fastq/ERR272/001/ERR2724001/ERR2724001\\_2.fastq.gz & 250 & 126 & Tg(cd4-1:mCherry) & gill & CD4\\_gill\\_A11\\\\\n",
       "\\end{tabular}\n"
      ],
      "text/markdown": [
       "\n",
       "A data.frame: 6 × 55\n",
       "\n",
       "| <!--/--> | Source.Name &lt;chr&gt; | Comment.ENA_SAMPLE. &lt;chr&gt; | Comment.BioSD_SAMPLE. &lt;chr&gt; | Characteristics.organism. &lt;chr&gt; | Characteristics.strain. &lt;chr&gt; | Characteristics.age. &lt;int&gt; | Unit.time.unit. &lt;chr&gt; | Characteristics.developmental.stage. &lt;chr&gt; | Characteristics.sex. &lt;chr&gt; | Characteristics.genotype. &lt;chr&gt; | ⋯ ⋯ | Comment.ENA_EXPERIMENT. &lt;chr&gt; | Scan.Name &lt;chr&gt; | Comment.SUBMITTED_FILE_NAME. &lt;chr&gt; | Comment.ENA_RUN. &lt;chr&gt; | Comment.FASTQ_URI. &lt;chr&gt; | Comment.SPOT_LENGTH. &lt;int&gt; | Comment.READ_INDEX_1_BASE_COORD. &lt;int&gt; | Factor.Value.genotype. &lt;chr&gt; | Factor.Value.organism.part. &lt;chr&gt; | Factor.Value.single.cell.identifier. &lt;chr&gt; |\n",
       "|---|---|---|---|---|---|---|---|---|---|---|---|---|---|---|---|---|---|---|---|---|---|\n",
       "| 1 | CD4_gill_A1  | ERS2634491 | SAMEA4814592 | Danio rerio | AB | 6 | month | adult | male | Tg(cd4-1:mCherry) | ⋯ | ERX2737040 | SLX-10875.N701_S513.C9FTNANXX.s_5.r_1.fq.gz | SLX-10875.N701_S513.C9FTNANXX.s_5.r_1.fq.gz | ERR2723271 | ftp://ftp.sra.ebi.ac.uk/vol1/fastq/ERR272/001/ERR2723271/ERR2723271_1.fastq.gz | 250 | 126 | Tg(cd4-1:mCherry) | gill | CD4_gill_A1  |\n",
       "| 2 | CD4_gill_A1  | ERS2634491 | SAMEA4814592 | Danio rerio | AB | 6 | month | adult | male | Tg(cd4-1:mCherry) | ⋯ | ERX2737040 | SLX-10875.N701_S513.C9FTNANXX.s_5.r_2.fq.gz | SLX-10875.N701_S513.C9FTNANXX.s_5.r_2.fq.gz | ERR2723271 | ftp://ftp.sra.ebi.ac.uk/vol1/fastq/ERR272/001/ERR2723271/ERR2723271_2.fastq.gz | 250 | 126 | Tg(cd4-1:mCherry) | gill | CD4_gill_A1  |\n",
       "| 3 | CD4_gill_A10 | ERS2634691 | SAMEA4814793 | Danio rerio | AB | 6 | month | adult | male | Tg(cd4-1:mCherry) | ⋯ | ERX2737240 | SLX-10875.N712_S513.C9FTNANXX.s_5.r_1.fq.gz | SLX-10875.N712_S513.C9FTNANXX.s_5.r_1.fq.gz | ERR2723471 | ftp://ftp.sra.ebi.ac.uk/vol1/fastq/ERR272/001/ERR2723471/ERR2723471_1.fastq.gz | 250 | 126 | Tg(cd4-1:mCherry) | gill | CD4_gill_A10 |\n",
       "| 4 | CD4_gill_A10 | ERS2634691 | SAMEA4814793 | Danio rerio | AB | 6 | month | adult | male | Tg(cd4-1:mCherry) | ⋯ | ERX2737240 | SLX-10875.N712_S513.C9FTNANXX.s_5.r_2.fq.gz | SLX-10875.N712_S513.C9FTNANXX.s_5.r_2.fq.gz | ERR2723471 | ftp://ftp.sra.ebi.ac.uk/vol1/fastq/ERR272/001/ERR2723471/ERR2723471_2.fastq.gz | 250 | 126 | Tg(cd4-1:mCherry) | gill | CD4_gill_A10 |\n",
       "| 5 | CD4_gill_A11 | ERS2635221 | SAMEA4815323 | Danio rerio | AB | 6 | month | adult | male | Tg(cd4-1:mCherry) | ⋯ | ERX2737770 | SLX-10875.N714_S513.C9FTNANXX.s_5.r_1.fq.gz | SLX-10875.N714_S513.C9FTNANXX.s_5.r_1.fq.gz | ERR2724001 | ftp://ftp.sra.ebi.ac.uk/vol1/fastq/ERR272/001/ERR2724001/ERR2724001_1.fastq.gz | 250 | 126 | Tg(cd4-1:mCherry) | gill | CD4_gill_A11 |\n",
       "| 6 | CD4_gill_A11 | ERS2635221 | SAMEA4815323 | Danio rerio | AB | 6 | month | adult | male | Tg(cd4-1:mCherry) | ⋯ | ERX2737770 | SLX-10875.N714_S513.C9FTNANXX.s_5.r_2.fq.gz | SLX-10875.N714_S513.C9FTNANXX.s_5.r_2.fq.gz | ERR2724001 | ftp://ftp.sra.ebi.ac.uk/vol1/fastq/ERR272/001/ERR2724001/ERR2724001_2.fastq.gz | 250 | 126 | Tg(cd4-1:mCherry) | gill | CD4_gill_A11 |\n",
       "\n"
      ],
      "text/plain": [
       "  Source.Name  Comment.ENA_SAMPLE. Comment.BioSD_SAMPLE.\n",
       "1 CD4_gill_A1  ERS2634491          SAMEA4814592         \n",
       "2 CD4_gill_A1  ERS2634491          SAMEA4814592         \n",
       "3 CD4_gill_A10 ERS2634691          SAMEA4814793         \n",
       "4 CD4_gill_A10 ERS2634691          SAMEA4814793         \n",
       "5 CD4_gill_A11 ERS2635221          SAMEA4815323         \n",
       "6 CD4_gill_A11 ERS2635221          SAMEA4815323         \n",
       "  Characteristics.organism. Characteristics.strain. Characteristics.age.\n",
       "1 Danio rerio               AB                      6                   \n",
       "2 Danio rerio               AB                      6                   \n",
       "3 Danio rerio               AB                      6                   \n",
       "4 Danio rerio               AB                      6                   \n",
       "5 Danio rerio               AB                      6                   \n",
       "6 Danio rerio               AB                      6                   \n",
       "  Unit.time.unit. Characteristics.developmental.stage. Characteristics.sex.\n",
       "1 month           adult                                male                \n",
       "2 month           adult                                male                \n",
       "3 month           adult                                male                \n",
       "4 month           adult                                male                \n",
       "5 month           adult                                male                \n",
       "6 month           adult                                male                \n",
       "  Characteristics.genotype. ⋯ Comment.ENA_EXPERIMENT.\n",
       "1 Tg(cd4-1:mCherry)         ⋯ ERX2737040             \n",
       "2 Tg(cd4-1:mCherry)         ⋯ ERX2737040             \n",
       "3 Tg(cd4-1:mCherry)         ⋯ ERX2737240             \n",
       "4 Tg(cd4-1:mCherry)         ⋯ ERX2737240             \n",
       "5 Tg(cd4-1:mCherry)         ⋯ ERX2737770             \n",
       "6 Tg(cd4-1:mCherry)         ⋯ ERX2737770             \n",
       "  Scan.Name                                  \n",
       "1 SLX-10875.N701_S513.C9FTNANXX.s_5.r_1.fq.gz\n",
       "2 SLX-10875.N701_S513.C9FTNANXX.s_5.r_2.fq.gz\n",
       "3 SLX-10875.N712_S513.C9FTNANXX.s_5.r_1.fq.gz\n",
       "4 SLX-10875.N712_S513.C9FTNANXX.s_5.r_2.fq.gz\n",
       "5 SLX-10875.N714_S513.C9FTNANXX.s_5.r_1.fq.gz\n",
       "6 SLX-10875.N714_S513.C9FTNANXX.s_5.r_2.fq.gz\n",
       "  Comment.SUBMITTED_FILE_NAME.                Comment.ENA_RUN.\n",
       "1 SLX-10875.N701_S513.C9FTNANXX.s_5.r_1.fq.gz ERR2723271      \n",
       "2 SLX-10875.N701_S513.C9FTNANXX.s_5.r_2.fq.gz ERR2723271      \n",
       "3 SLX-10875.N712_S513.C9FTNANXX.s_5.r_1.fq.gz ERR2723471      \n",
       "4 SLX-10875.N712_S513.C9FTNANXX.s_5.r_2.fq.gz ERR2723471      \n",
       "5 SLX-10875.N714_S513.C9FTNANXX.s_5.r_1.fq.gz ERR2724001      \n",
       "6 SLX-10875.N714_S513.C9FTNANXX.s_5.r_2.fq.gz ERR2724001      \n",
       "  Comment.FASTQ_URI.                                                            \n",
       "1 ftp://ftp.sra.ebi.ac.uk/vol1/fastq/ERR272/001/ERR2723271/ERR2723271_1.fastq.gz\n",
       "2 ftp://ftp.sra.ebi.ac.uk/vol1/fastq/ERR272/001/ERR2723271/ERR2723271_2.fastq.gz\n",
       "3 ftp://ftp.sra.ebi.ac.uk/vol1/fastq/ERR272/001/ERR2723471/ERR2723471_1.fastq.gz\n",
       "4 ftp://ftp.sra.ebi.ac.uk/vol1/fastq/ERR272/001/ERR2723471/ERR2723471_2.fastq.gz\n",
       "5 ftp://ftp.sra.ebi.ac.uk/vol1/fastq/ERR272/001/ERR2724001/ERR2724001_1.fastq.gz\n",
       "6 ftp://ftp.sra.ebi.ac.uk/vol1/fastq/ERR272/001/ERR2724001/ERR2724001_2.fastq.gz\n",
       "  Comment.SPOT_LENGTH. Comment.READ_INDEX_1_BASE_COORD. Factor.Value.genotype.\n",
       "1 250                  126                              Tg(cd4-1:mCherry)     \n",
       "2 250                  126                              Tg(cd4-1:mCherry)     \n",
       "3 250                  126                              Tg(cd4-1:mCherry)     \n",
       "4 250                  126                              Tg(cd4-1:mCherry)     \n",
       "5 250                  126                              Tg(cd4-1:mCherry)     \n",
       "6 250                  126                              Tg(cd4-1:mCherry)     \n",
       "  Factor.Value.organism.part. Factor.Value.single.cell.identifier.\n",
       "1 gill                        CD4_gill_A1                         \n",
       "2 gill                        CD4_gill_A1                         \n",
       "3 gill                        CD4_gill_A10                        \n",
       "4 gill                        CD4_gill_A10                        \n",
       "5 gill                        CD4_gill_A11                        \n",
       "6 gill                        CD4_gill_A11                        "
      ]
     },
     "metadata": {},
     "output_type": "display_data"
    },
    {
     "data": {
      "text/html": [
       "<style>\n",
       ".list-inline {list-style: none; margin:0; padding: 0}\n",
       ".list-inline>li {display: inline-block}\n",
       ".list-inline>li:not(:last-child)::after {content: \"\\00b7\"; padding: 0 .5ex}\n",
       "</style>\n",
       "<ol class=list-inline><li>2112</li><li>55</li></ol>\n"
      ],
      "text/latex": [
       "\\begin{enumerate*}\n",
       "\\item 2112\n",
       "\\item 55\n",
       "\\end{enumerate*}\n"
      ],
      "text/markdown": [
       "1. 2112\n",
       "2. 55\n",
       "\n",
       "\n"
      ],
      "text/plain": [
       "[1] 2112   55"
      ]
     },
     "metadata": {},
     "output_type": "display_data"
    },
    {
     "data": {
      "text/html": [
       "1952"
      ],
      "text/latex": [
       "1952"
      ],
      "text/markdown": [
       "1952"
      ],
      "text/plain": [
       "[1] 1952"
      ]
     },
     "metadata": {},
     "output_type": "display_data"
    }
   ],
   "source": [
    "meta.data <- read.table(\"./localdata/E-MTAB-7117.sdrf.txt\", sep='\\t', header = TRUE)\n",
    "head(meta.data)\n",
    "dim(meta.data)\n",
    "length(which(meta.data['Characteristics.single.cell.quality.'] != \"not OK\"))"
   ]
  },
  {
   "cell_type": "markdown",
   "id": "ae44a357-f29c-4b0b-b4d8-72a8ba97df0b",
   "metadata": {},
   "source": [
    "At first glance, <b style=\"color:#C0CF96\">no</b> - it does not.  The metadata has 2112 lines, and removing poor quality cells leaves us with 1952.\n",
    "\n",
    "But, it does seem like some cells have multiple names, so let's filter by unique values."
   ]
  },
  {
   "cell_type": "code",
   "execution_count": null,
   "id": "e1a2591f-46ee-40c8-83da-2ac5193cc9e9",
   "metadata": {},
   "outputs": [
    {
     "data": {
      "text/html": [
       "<style>\n",
       ".list-inline {list-style: none; margin:0; padding: 0}\n",
       ".list-inline>li {display: inline-block}\n",
       ".list-inline>li:not(:last-child)::after {content: \"\\00b7\"; padding: 0 .5ex}\n",
       "</style>\n",
       "<ol class=list-inline><li>1056</li><li>1</li></ol>\n"
      ],
      "text/latex": [
       "\\begin{enumerate*}\n",
       "\\item 1056\n",
       "\\item 1\n",
       "\\end{enumerate*}\n"
      ],
      "text/markdown": [
       "1. 1056\n",
       "2. 1\n",
       "\n",
       "\n"
      ],
      "text/plain": [
       "[1] 1056    1"
      ]
     },
     "metadata": {},
     "output_type": "display_data"
    },
    {
     "data": {
      "text/html": [
       "976"
      ],
      "text/latex": [
       "976"
      ],
      "text/markdown": [
       "976"
      ],
      "text/plain": [
       "[1] 976"
      ]
     },
     "metadata": {},
     "output_type": "display_data"
    }
   ],
   "source": [
    "dim(unique(meta.data['Source.Name']))\n",
    "length(\n",
    "    unique(\n",
    "        meta.data[\n",
    "            which(meta.data['Characteristics.single.cell.quality.'] != \"not OK\"),\n",
    "            \"Source.Name\"\n",
    "        ]\n",
    "    )\n",
    ")"
   ]
  },
  {
   "cell_type": "markdown",
   "id": "fba9bff1-8d07-452d-92cb-9293e9709b13",
   "metadata": {},
   "source": [
    "Gee whiz, that 976 number returns...  We can re-use the list of 10 extra cells calculated yesterday to investigate them:"
   ]
  },
  {
   "cell_type": "code",
   "execution_count": null,
   "id": "662c7081-2178-4f49-9261-b0a2f1a06718",
   "metadata": {},
   "outputs": [],
   "source": [
    "discrepancies <- c(\n",
    "    \"ERR2723217\", \"ERR2723218\", \"ERR2723236\", \"ERR2723237\", \"ERR2723551\",\n",
    "    \"ERR2723578\", \"ERR2723789\", \"ERR2723794\", \"ERR2723974\", \"ERR2723990\"\n",
    ")\n",
    "extra.cells <- meta.data[\n",
    "    which(sapply(meta.data[\"Comment.ENA_RUN.\"], `%in%`, discrepancies)),\n",
    "]"
   ]
  },
  {
   "cell_type": "code",
   "execution_count": null,
   "id": "5413cbba-1177-4863-bf1f-635f72439783",
   "metadata": {},
   "outputs": [
    {
     "data": {
      "text/html": [
       "<table class=\"dataframe\">\n",
       "<caption>A data.frame: 20 × 10</caption>\n",
       "<thead>\n",
       "\t<tr><th></th><th scope=col>Source.Name</th><th scope=col>Comment.ENA_SAMPLE.</th><th scope=col>Comment.BioSD_SAMPLE.</th><th scope=col>Characteristics.organism.</th><th scope=col>Characteristics.strain.</th><th scope=col>Characteristics.age.</th><th scope=col>Unit.time.unit.</th><th scope=col>Characteristics.developmental.stage.</th><th scope=col>Characteristics.sex.</th><th scope=col>Characteristics.genotype.</th></tr>\n",
       "\t<tr><th></th><th scope=col>&lt;chr&gt;</th><th scope=col>&lt;chr&gt;</th><th scope=col>&lt;chr&gt;</th><th scope=col>&lt;chr&gt;</th><th scope=col>&lt;chr&gt;</th><th scope=col>&lt;int&gt;</th><th scope=col>&lt;chr&gt;</th><th scope=col>&lt;chr&gt;</th><th scope=col>&lt;chr&gt;</th><th scope=col>&lt;chr&gt;</th></tr>\n",
       "</thead>\n",
       "<tbody>\n",
       "\t<tr><th scope=row>247</th><td>CD4_gut_D4           </td><td>ERS2634771</td><td>SAMEA4814873</td><td>Danio rerio</td><td>AB</td><td> 6</td><td>month</td><td>adult</td><td>male  </td><td>Tg(cd4-1:mCherry)          </td></tr>\n",
       "\t<tr><th scope=row>248</th><td>CD4_gut_D4           </td><td>ERS2634771</td><td>SAMEA4814873</td><td>Danio rerio</td><td>AB</td><td> 6</td><td>month</td><td>adult</td><td>male  </td><td>Tg(cd4-1:mCherry)          </td></tr>\n",
       "\t<tr><th scope=row>375</th><td>CD4_kidney_C5        </td><td>ERS2634798</td><td>SAMEA4814900</td><td>Danio rerio</td><td>AB</td><td> 6</td><td>month</td><td>adult</td><td>male  </td><td>Tg(cd4-1:mCherry)          </td></tr>\n",
       "\t<tr><th scope=row>376</th><td>CD4_kidney_C5        </td><td>ERS2634798</td><td>SAMEA4814900</td><td>Danio rerio</td><td>AB</td><td> 6</td><td>month</td><td>adult</td><td>male  </td><td>Tg(cd4-1:mCherry)          </td></tr>\n",
       "\t<tr><th scope=row>1053</th><td>LCK_gut_G8           </td><td>ERS2634437</td><td>SAMEA4814538</td><td>Danio rerio</td><td>AB</td><td> 6</td><td>month</td><td>adult</td><td>male  </td><td>Tg(lck:EGFP)               </td></tr>\n",
       "\t<tr><th scope=row>1054</th><td>LCK_gut_G8           </td><td>ERS2634437</td><td>SAMEA4814538</td><td>Danio rerio</td><td>AB</td><td> 6</td><td>month</td><td>adult</td><td>male  </td><td>Tg(lck:EGFP)               </td></tr>\n",
       "\t<tr><th scope=row>1055</th><td>LCK_gut_G9           </td><td>ERS2634438</td><td>SAMEA4814539</td><td>Danio rerio</td><td>AB</td><td> 6</td><td>month</td><td>adult</td><td>male  </td><td>Tg(lck:EGFP)               </td></tr>\n",
       "\t<tr><th scope=row>1056</th><td>LCK_gut_G9           </td><td>ERS2634438</td><td>SAMEA4814539</td><td>Danio rerio</td><td>AB</td><td> 6</td><td>month</td><td>adult</td><td>male  </td><td>Tg(lck:EGFP)               </td></tr>\n",
       "\t<tr><th scope=row>1305</th><td>LCK_thymus_B2        </td><td>ERS2635210</td><td>SAMEA4815312</td><td>Danio rerio</td><td>AB</td><td> 6</td><td>month</td><td>adult</td><td>male  </td><td>Tg(lck:EGFP)               </td></tr>\n",
       "\t<tr><th scope=row>1306</th><td>LCK_thymus_B2        </td><td>ERS2635210</td><td>SAMEA4815312</td><td>Danio rerio</td><td>AB</td><td> 6</td><td>month</td><td>adult</td><td>male  </td><td>Tg(lck:EGFP)               </td></tr>\n",
       "\t<tr><th scope=row>1333</th><td>LCK_thymus_C4        </td><td>ERS2634456</td><td>SAMEA4814557</td><td>Danio rerio</td><td>AB</td><td> 6</td><td>month</td><td>adult</td><td>male  </td><td>Tg(lck:EGFP)               </td></tr>\n",
       "\t<tr><th scope=row>1334</th><td>LCK_thymus_C4        </td><td>ERS2634456</td><td>SAMEA4814557</td><td>Danio rerio</td><td>AB</td><td> 6</td><td>month</td><td>adult</td><td>male  </td><td>Tg(lck:EGFP)               </td></tr>\n",
       "\t<tr><th scope=row>1335</th><td>LCK_thymus_C5        </td><td>ERS2634457</td><td>SAMEA4814558</td><td>Danio rerio</td><td>AB</td><td> 6</td><td>month</td><td>adult</td><td>male  </td><td>Tg(lck:EGFP)               </td></tr>\n",
       "\t<tr><th scope=row>1336</th><td>LCK_thymus_C5        </td><td>ERS2634457</td><td>SAMEA4814558</td><td>Danio rerio</td><td>AB</td><td> 6</td><td>month</td><td>adult</td><td>male  </td><td>Tg(lck:EGFP)               </td></tr>\n",
       "\t<tr><th scope=row>1545</th><td>mhc2dab_kidney_pl2_A2</td><td>ERS2635009</td><td>SAMEA4815111</td><td>Danio rerio</td><td>AB</td><td>10</td><td>month</td><td>adult</td><td>female</td><td>Tg(mhc2dab:GFP, cd45:dsRed)</td></tr>\n",
       "\t<tr><th scope=row>1546</th><td>mhc2dab_kidney_pl2_A2</td><td>ERS2635009</td><td>SAMEA4815111</td><td>Danio rerio</td><td>AB</td><td>10</td><td>month</td><td>adult</td><td>female</td><td>Tg(mhc2dab:GFP, cd45:dsRed)</td></tr>\n",
       "\t<tr><th scope=row>1609</th><td>mhc2dab_kidney_pl2_D1</td><td>ERS2635014</td><td>SAMEA4815116</td><td>Danio rerio</td><td>AB</td><td>10</td><td>month</td><td>adult</td><td>female</td><td>Tg(mhc2dab:GFP, cd45:dsRed)</td></tr>\n",
       "\t<tr><th scope=row>1610</th><td>mhc2dab_kidney_pl2_D1</td><td>ERS2635014</td><td>SAMEA4815116</td><td>Danio rerio</td><td>AB</td><td>10</td><td>month</td><td>adult</td><td>female</td><td>Tg(mhc2dab:GFP, cd45:dsRed)</td></tr>\n",
       "\t<tr><th scope=row>2099</th><td>Rag1_kidney_H3       </td><td>ERS2635194</td><td>SAMEA4815296</td><td>Danio rerio</td><td>AB</td><td> 4</td><td>month</td><td>adult</td><td>female</td><td>Tg(lck:EGFP); Rag1 -/-     </td></tr>\n",
       "\t<tr><th scope=row>2100</th><td>Rag1_kidney_H3       </td><td>ERS2635194</td><td>SAMEA4815296</td><td>Danio rerio</td><td>AB</td><td> 4</td><td>month</td><td>adult</td><td>female</td><td>Tg(lck:EGFP); Rag1 -/-     </td></tr>\n",
       "</tbody>\n",
       "</table>\n"
      ],
      "text/latex": [
       "A data.frame: 20 × 10\n",
       "\\begin{tabular}{r|llllllllll}\n",
       "  & Source.Name & Comment.ENA\\_SAMPLE. & Comment.BioSD\\_SAMPLE. & Characteristics.organism. & Characteristics.strain. & Characteristics.age. & Unit.time.unit. & Characteristics.developmental.stage. & Characteristics.sex. & Characteristics.genotype.\\\\\n",
       "  & <chr> & <chr> & <chr> & <chr> & <chr> & <int> & <chr> & <chr> & <chr> & <chr>\\\\\n",
       "\\hline\n",
       "\t247 & CD4\\_gut\\_D4            & ERS2634771 & SAMEA4814873 & Danio rerio & AB &  6 & month & adult & male   & Tg(cd4-1:mCherry)          \\\\\n",
       "\t248 & CD4\\_gut\\_D4            & ERS2634771 & SAMEA4814873 & Danio rerio & AB &  6 & month & adult & male   & Tg(cd4-1:mCherry)          \\\\\n",
       "\t375 & CD4\\_kidney\\_C5         & ERS2634798 & SAMEA4814900 & Danio rerio & AB &  6 & month & adult & male   & Tg(cd4-1:mCherry)          \\\\\n",
       "\t376 & CD4\\_kidney\\_C5         & ERS2634798 & SAMEA4814900 & Danio rerio & AB &  6 & month & adult & male   & Tg(cd4-1:mCherry)          \\\\\n",
       "\t1053 & LCK\\_gut\\_G8            & ERS2634437 & SAMEA4814538 & Danio rerio & AB &  6 & month & adult & male   & Tg(lck:EGFP)               \\\\\n",
       "\t1054 & LCK\\_gut\\_G8            & ERS2634437 & SAMEA4814538 & Danio rerio & AB &  6 & month & adult & male   & Tg(lck:EGFP)               \\\\\n",
       "\t1055 & LCK\\_gut\\_G9            & ERS2634438 & SAMEA4814539 & Danio rerio & AB &  6 & month & adult & male   & Tg(lck:EGFP)               \\\\\n",
       "\t1056 & LCK\\_gut\\_G9            & ERS2634438 & SAMEA4814539 & Danio rerio & AB &  6 & month & adult & male   & Tg(lck:EGFP)               \\\\\n",
       "\t1305 & LCK\\_thymus\\_B2         & ERS2635210 & SAMEA4815312 & Danio rerio & AB &  6 & month & adult & male   & Tg(lck:EGFP)               \\\\\n",
       "\t1306 & LCK\\_thymus\\_B2         & ERS2635210 & SAMEA4815312 & Danio rerio & AB &  6 & month & adult & male   & Tg(lck:EGFP)               \\\\\n",
       "\t1333 & LCK\\_thymus\\_C4         & ERS2634456 & SAMEA4814557 & Danio rerio & AB &  6 & month & adult & male   & Tg(lck:EGFP)               \\\\\n",
       "\t1334 & LCK\\_thymus\\_C4         & ERS2634456 & SAMEA4814557 & Danio rerio & AB &  6 & month & adult & male   & Tg(lck:EGFP)               \\\\\n",
       "\t1335 & LCK\\_thymus\\_C5         & ERS2634457 & SAMEA4814558 & Danio rerio & AB &  6 & month & adult & male   & Tg(lck:EGFP)               \\\\\n",
       "\t1336 & LCK\\_thymus\\_C5         & ERS2634457 & SAMEA4814558 & Danio rerio & AB &  6 & month & adult & male   & Tg(lck:EGFP)               \\\\\n",
       "\t1545 & mhc2dab\\_kidney\\_pl2\\_A2 & ERS2635009 & SAMEA4815111 & Danio rerio & AB & 10 & month & adult & female & Tg(mhc2dab:GFP, cd45:dsRed)\\\\\n",
       "\t1546 & mhc2dab\\_kidney\\_pl2\\_A2 & ERS2635009 & SAMEA4815111 & Danio rerio & AB & 10 & month & adult & female & Tg(mhc2dab:GFP, cd45:dsRed)\\\\\n",
       "\t1609 & mhc2dab\\_kidney\\_pl2\\_D1 & ERS2635014 & SAMEA4815116 & Danio rerio & AB & 10 & month & adult & female & Tg(mhc2dab:GFP, cd45:dsRed)\\\\\n",
       "\t1610 & mhc2dab\\_kidney\\_pl2\\_D1 & ERS2635014 & SAMEA4815116 & Danio rerio & AB & 10 & month & adult & female & Tg(mhc2dab:GFP, cd45:dsRed)\\\\\n",
       "\t2099 & Rag1\\_kidney\\_H3        & ERS2635194 & SAMEA4815296 & Danio rerio & AB &  4 & month & adult & female & Tg(lck:EGFP); Rag1 -/-     \\\\\n",
       "\t2100 & Rag1\\_kidney\\_H3        & ERS2635194 & SAMEA4815296 & Danio rerio & AB &  4 & month & adult & female & Tg(lck:EGFP); Rag1 -/-     \\\\\n",
       "\\end{tabular}\n"
      ],
      "text/markdown": [
       "\n",
       "A data.frame: 20 × 10\n",
       "\n",
       "| <!--/--> | Source.Name &lt;chr&gt; | Comment.ENA_SAMPLE. &lt;chr&gt; | Comment.BioSD_SAMPLE. &lt;chr&gt; | Characteristics.organism. &lt;chr&gt; | Characteristics.strain. &lt;chr&gt; | Characteristics.age. &lt;int&gt; | Unit.time.unit. &lt;chr&gt; | Characteristics.developmental.stage. &lt;chr&gt; | Characteristics.sex. &lt;chr&gt; | Characteristics.genotype. &lt;chr&gt; |\n",
       "|---|---|---|---|---|---|---|---|---|---|---|\n",
       "| 247 | CD4_gut_D4            | ERS2634771 | SAMEA4814873 | Danio rerio | AB |  6 | month | adult | male   | Tg(cd4-1:mCherry)           |\n",
       "| 248 | CD4_gut_D4            | ERS2634771 | SAMEA4814873 | Danio rerio | AB |  6 | month | adult | male   | Tg(cd4-1:mCherry)           |\n",
       "| 375 | CD4_kidney_C5         | ERS2634798 | SAMEA4814900 | Danio rerio | AB |  6 | month | adult | male   | Tg(cd4-1:mCherry)           |\n",
       "| 376 | CD4_kidney_C5         | ERS2634798 | SAMEA4814900 | Danio rerio | AB |  6 | month | adult | male   | Tg(cd4-1:mCherry)           |\n",
       "| 1053 | LCK_gut_G8            | ERS2634437 | SAMEA4814538 | Danio rerio | AB |  6 | month | adult | male   | Tg(lck:EGFP)                |\n",
       "| 1054 | LCK_gut_G8            | ERS2634437 | SAMEA4814538 | Danio rerio | AB |  6 | month | adult | male   | Tg(lck:EGFP)                |\n",
       "| 1055 | LCK_gut_G9            | ERS2634438 | SAMEA4814539 | Danio rerio | AB |  6 | month | adult | male   | Tg(lck:EGFP)                |\n",
       "| 1056 | LCK_gut_G9            | ERS2634438 | SAMEA4814539 | Danio rerio | AB |  6 | month | adult | male   | Tg(lck:EGFP)                |\n",
       "| 1305 | LCK_thymus_B2         | ERS2635210 | SAMEA4815312 | Danio rerio | AB |  6 | month | adult | male   | Tg(lck:EGFP)                |\n",
       "| 1306 | LCK_thymus_B2         | ERS2635210 | SAMEA4815312 | Danio rerio | AB |  6 | month | adult | male   | Tg(lck:EGFP)                |\n",
       "| 1333 | LCK_thymus_C4         | ERS2634456 | SAMEA4814557 | Danio rerio | AB |  6 | month | adult | male   | Tg(lck:EGFP)                |\n",
       "| 1334 | LCK_thymus_C4         | ERS2634456 | SAMEA4814557 | Danio rerio | AB |  6 | month | adult | male   | Tg(lck:EGFP)                |\n",
       "| 1335 | LCK_thymus_C5         | ERS2634457 | SAMEA4814558 | Danio rerio | AB |  6 | month | adult | male   | Tg(lck:EGFP)                |\n",
       "| 1336 | LCK_thymus_C5         | ERS2634457 | SAMEA4814558 | Danio rerio | AB |  6 | month | adult | male   | Tg(lck:EGFP)                |\n",
       "| 1545 | mhc2dab_kidney_pl2_A2 | ERS2635009 | SAMEA4815111 | Danio rerio | AB | 10 | month | adult | female | Tg(mhc2dab:GFP, cd45:dsRed) |\n",
       "| 1546 | mhc2dab_kidney_pl2_A2 | ERS2635009 | SAMEA4815111 | Danio rerio | AB | 10 | month | adult | female | Tg(mhc2dab:GFP, cd45:dsRed) |\n",
       "| 1609 | mhc2dab_kidney_pl2_D1 | ERS2635014 | SAMEA4815116 | Danio rerio | AB | 10 | month | adult | female | Tg(mhc2dab:GFP, cd45:dsRed) |\n",
       "| 1610 | mhc2dab_kidney_pl2_D1 | ERS2635014 | SAMEA4815116 | Danio rerio | AB | 10 | month | adult | female | Tg(mhc2dab:GFP, cd45:dsRed) |\n",
       "| 2099 | Rag1_kidney_H3        | ERS2635194 | SAMEA4815296 | Danio rerio | AB |  4 | month | adult | female | Tg(lck:EGFP); Rag1 -/-      |\n",
       "| 2100 | Rag1_kidney_H3        | ERS2635194 | SAMEA4815296 | Danio rerio | AB |  4 | month | adult | female | Tg(lck:EGFP); Rag1 -/-      |\n",
       "\n"
      ],
      "text/plain": [
       "     Source.Name           Comment.ENA_SAMPLE. Comment.BioSD_SAMPLE.\n",
       "247  CD4_gut_D4            ERS2634771          SAMEA4814873         \n",
       "248  CD4_gut_D4            ERS2634771          SAMEA4814873         \n",
       "375  CD4_kidney_C5         ERS2634798          SAMEA4814900         \n",
       "376  CD4_kidney_C5         ERS2634798          SAMEA4814900         \n",
       "1053 LCK_gut_G8            ERS2634437          SAMEA4814538         \n",
       "1054 LCK_gut_G8            ERS2634437          SAMEA4814538         \n",
       "1055 LCK_gut_G9            ERS2634438          SAMEA4814539         \n",
       "1056 LCK_gut_G9            ERS2634438          SAMEA4814539         \n",
       "1305 LCK_thymus_B2         ERS2635210          SAMEA4815312         \n",
       "1306 LCK_thymus_B2         ERS2635210          SAMEA4815312         \n",
       "1333 LCK_thymus_C4         ERS2634456          SAMEA4814557         \n",
       "1334 LCK_thymus_C4         ERS2634456          SAMEA4814557         \n",
       "1335 LCK_thymus_C5         ERS2634457          SAMEA4814558         \n",
       "1336 LCK_thymus_C5         ERS2634457          SAMEA4814558         \n",
       "1545 mhc2dab_kidney_pl2_A2 ERS2635009          SAMEA4815111         \n",
       "1546 mhc2dab_kidney_pl2_A2 ERS2635009          SAMEA4815111         \n",
       "1609 mhc2dab_kidney_pl2_D1 ERS2635014          SAMEA4815116         \n",
       "1610 mhc2dab_kidney_pl2_D1 ERS2635014          SAMEA4815116         \n",
       "2099 Rag1_kidney_H3        ERS2635194          SAMEA4815296         \n",
       "2100 Rag1_kidney_H3        ERS2635194          SAMEA4815296         \n",
       "     Characteristics.organism. Characteristics.strain. Characteristics.age.\n",
       "247  Danio rerio               AB                       6                  \n",
       "248  Danio rerio               AB                       6                  \n",
       "375  Danio rerio               AB                       6                  \n",
       "376  Danio rerio               AB                       6                  \n",
       "1053 Danio rerio               AB                       6                  \n",
       "1054 Danio rerio               AB                       6                  \n",
       "1055 Danio rerio               AB                       6                  \n",
       "1056 Danio rerio               AB                       6                  \n",
       "1305 Danio rerio               AB                       6                  \n",
       "1306 Danio rerio               AB                       6                  \n",
       "1333 Danio rerio               AB                       6                  \n",
       "1334 Danio rerio               AB                       6                  \n",
       "1335 Danio rerio               AB                       6                  \n",
       "1336 Danio rerio               AB                       6                  \n",
       "1545 Danio rerio               AB                      10                  \n",
       "1546 Danio rerio               AB                      10                  \n",
       "1609 Danio rerio               AB                      10                  \n",
       "1610 Danio rerio               AB                      10                  \n",
       "2099 Danio rerio               AB                       4                  \n",
       "2100 Danio rerio               AB                       4                  \n",
       "     Unit.time.unit. Characteristics.developmental.stage. Characteristics.sex.\n",
       "247  month           adult                                male                \n",
       "248  month           adult                                male                \n",
       "375  month           adult                                male                \n",
       "376  month           adult                                male                \n",
       "1053 month           adult                                male                \n",
       "1054 month           adult                                male                \n",
       "1055 month           adult                                male                \n",
       "1056 month           adult                                male                \n",
       "1305 month           adult                                male                \n",
       "1306 month           adult                                male                \n",
       "1333 month           adult                                male                \n",
       "1334 month           adult                                male                \n",
       "1335 month           adult                                male                \n",
       "1336 month           adult                                male                \n",
       "1545 month           adult                                female              \n",
       "1546 month           adult                                female              \n",
       "1609 month           adult                                female              \n",
       "1610 month           adult                                female              \n",
       "2099 month           adult                                female              \n",
       "2100 month           adult                                female              \n",
       "     Characteristics.genotype.  \n",
       "247  Tg(cd4-1:mCherry)          \n",
       "248  Tg(cd4-1:mCherry)          \n",
       "375  Tg(cd4-1:mCherry)          \n",
       "376  Tg(cd4-1:mCherry)          \n",
       "1053 Tg(lck:EGFP)               \n",
       "1054 Tg(lck:EGFP)               \n",
       "1055 Tg(lck:EGFP)               \n",
       "1056 Tg(lck:EGFP)               \n",
       "1305 Tg(lck:EGFP)               \n",
       "1306 Tg(lck:EGFP)               \n",
       "1333 Tg(lck:EGFP)               \n",
       "1334 Tg(lck:EGFP)               \n",
       "1335 Tg(lck:EGFP)               \n",
       "1336 Tg(lck:EGFP)               \n",
       "1545 Tg(mhc2dab:GFP, cd45:dsRed)\n",
       "1546 Tg(mhc2dab:GFP, cd45:dsRed)\n",
       "1609 Tg(mhc2dab:GFP, cd45:dsRed)\n",
       "1610 Tg(mhc2dab:GFP, cd45:dsRed)\n",
       "2099 Tg(lck:EGFP); Rag1 -/-     \n",
       "2100 Tg(lck:EGFP); Rag1 -/-     "
      ]
     },
     "metadata": {},
     "output_type": "display_data"
    },
    {
     "data": {
      "text/html": [
       "<table class=\"dataframe\">\n",
       "<caption>A data.frame: 20 × 10</caption>\n",
       "<thead>\n",
       "\t<tr><th></th><th scope=col>Characteristics.organism.part.</th><th scope=col>Characteristics.cell.type.</th><th scope=col>Characteristics.phenotype.</th><th scope=col>Characteristics.individual.</th><th scope=col>Characteristics.well.information.</th><th scope=col>Characteristics.single.cell.quality.</th><th scope=col>Characteristics.cluster.</th><th scope=col>Comment.spike.in.</th><th scope=col>Comment.spike.in.dilution.</th><th scope=col>Material.Type</th></tr>\n",
       "\t<tr><th></th><th scope=col>&lt;chr&gt;</th><th scope=col>&lt;chr&gt;</th><th scope=col>&lt;chr&gt;</th><th scope=col>&lt;int&gt;</th><th scope=col>&lt;chr&gt;</th><th scope=col>&lt;chr&gt;</th><th scope=col>&lt;chr&gt;</th><th scope=col>&lt;chr&gt;</th><th scope=col>&lt;chr&gt;</th><th scope=col>&lt;chr&gt;</th></tr>\n",
       "</thead>\n",
       "<tbody>\n",
       "\t<tr><th scope=row>247</th><td>gut   </td><td>blood cell</td><td>mCherry positive cell      </td><td>2</td><td>single cell</td><td>OK</td><td>unknown</td><td>ERCC</td><td>1:10</td><td>cell</td></tr>\n",
       "\t<tr><th scope=row>248</th><td>gut   </td><td>blood cell</td><td>mCherry positive cell      </td><td>2</td><td>single cell</td><td>OK</td><td>unknown</td><td>ERCC</td><td>1:10</td><td>cell</td></tr>\n",
       "\t<tr><th scope=row>375</th><td>kidney</td><td>blood cell</td><td>mCherry positive cell      </td><td>2</td><td>single cell</td><td>OK</td><td>unknown</td><td>ERCC</td><td>1:10</td><td>cell</td></tr>\n",
       "\t<tr><th scope=row>376</th><td>kidney</td><td>blood cell</td><td>mCherry positive cell      </td><td>2</td><td>single cell</td><td>OK</td><td>unknown</td><td>ERCC</td><td>1:10</td><td>cell</td></tr>\n",
       "\t<tr><th scope=row>1053</th><td>gut   </td><td>blood cell</td><td>EGFP positive cell         </td><td>1</td><td>single cell</td><td>OK</td><td>unknown</td><td>ERCC</td><td>1:10</td><td>cell</td></tr>\n",
       "\t<tr><th scope=row>1054</th><td>gut   </td><td>blood cell</td><td>EGFP positive cell         </td><td>1</td><td>single cell</td><td>OK</td><td>unknown</td><td>ERCC</td><td>1:10</td><td>cell</td></tr>\n",
       "\t<tr><th scope=row>1055</th><td>gut   </td><td>blood cell</td><td>EGFP positive cell         </td><td>1</td><td>single cell</td><td>OK</td><td>unknown</td><td>ERCC</td><td>1:10</td><td>cell</td></tr>\n",
       "\t<tr><th scope=row>1056</th><td>gut   </td><td>blood cell</td><td>EGFP positive cell         </td><td>1</td><td>single cell</td><td>OK</td><td>unknown</td><td>ERCC</td><td>1:10</td><td>cell</td></tr>\n",
       "\t<tr><th scope=row>1305</th><td>thymus</td><td>blood cell</td><td>EGFP positive cell         </td><td>1</td><td>single cell</td><td>OK</td><td>unknown</td><td>ERCC</td><td>1:10</td><td>cell</td></tr>\n",
       "\t<tr><th scope=row>1306</th><td>thymus</td><td>blood cell</td><td>EGFP positive cell         </td><td>1</td><td>single cell</td><td>OK</td><td>unknown</td><td>ERCC</td><td>1:10</td><td>cell</td></tr>\n",
       "\t<tr><th scope=row>1333</th><td>thymus</td><td>blood cell</td><td>EGFP positive cell         </td><td>1</td><td>single cell</td><td>OK</td><td>unknown</td><td>ERCC</td><td>1:10</td><td>cell</td></tr>\n",
       "\t<tr><th scope=row>1334</th><td>thymus</td><td>blood cell</td><td>EGFP positive cell         </td><td>1</td><td>single cell</td><td>OK</td><td>unknown</td><td>ERCC</td><td>1:10</td><td>cell</td></tr>\n",
       "\t<tr><th scope=row>1335</th><td>thymus</td><td>blood cell</td><td>EGFP positive cell         </td><td>1</td><td>single cell</td><td>OK</td><td>unknown</td><td>ERCC</td><td>1:10</td><td>cell</td></tr>\n",
       "\t<tr><th scope=row>1336</th><td>thymus</td><td>blood cell</td><td>EGFP positive cell         </td><td>1</td><td>single cell</td><td>OK</td><td>unknown</td><td>ERCC</td><td>1:10</td><td>cell</td></tr>\n",
       "\t<tr><th scope=row>1545</th><td>kidney</td><td>blood cell</td><td>GFP and dsRed positive cell</td><td>3</td><td>single cell</td><td>OK</td><td>unknown</td><td>ERCC</td><td>1:10</td><td>cell</td></tr>\n",
       "\t<tr><th scope=row>1546</th><td>kidney</td><td>blood cell</td><td>GFP and dsRed positive cell</td><td>3</td><td>single cell</td><td>OK</td><td>unknown</td><td>ERCC</td><td>1:10</td><td>cell</td></tr>\n",
       "\t<tr><th scope=row>1609</th><td>kidney</td><td>blood cell</td><td>GFP and dsRed positive cell</td><td>3</td><td>single cell</td><td>OK</td><td>unknown</td><td>ERCC</td><td>1:10</td><td>cell</td></tr>\n",
       "\t<tr><th scope=row>1610</th><td>kidney</td><td>blood cell</td><td>GFP and dsRed positive cell</td><td>3</td><td>single cell</td><td>OK</td><td>unknown</td><td>ERCC</td><td>1:10</td><td>cell</td></tr>\n",
       "\t<tr><th scope=row>2099</th><td>kidney</td><td>blood cell</td><td>EGFP positive cell         </td><td>4</td><td>single cell</td><td>OK</td><td>unknown</td><td>ERCC</td><td>1:10</td><td>cell</td></tr>\n",
       "\t<tr><th scope=row>2100</th><td>kidney</td><td>blood cell</td><td>EGFP positive cell         </td><td>4</td><td>single cell</td><td>OK</td><td>unknown</td><td>ERCC</td><td>1:10</td><td>cell</td></tr>\n",
       "</tbody>\n",
       "</table>\n"
      ],
      "text/latex": [
       "A data.frame: 20 × 10\n",
       "\\begin{tabular}{r|llllllllll}\n",
       "  & Characteristics.organism.part. & Characteristics.cell.type. & Characteristics.phenotype. & Characteristics.individual. & Characteristics.well.information. & Characteristics.single.cell.quality. & Characteristics.cluster. & Comment.spike.in. & Comment.spike.in.dilution. & Material.Type\\\\\n",
       "  & <chr> & <chr> & <chr> & <int> & <chr> & <chr> & <chr> & <chr> & <chr> & <chr>\\\\\n",
       "\\hline\n",
       "\t247 & gut    & blood cell & mCherry positive cell       & 2 & single cell & OK & unknown & ERCC & 1:10 & cell\\\\\n",
       "\t248 & gut    & blood cell & mCherry positive cell       & 2 & single cell & OK & unknown & ERCC & 1:10 & cell\\\\\n",
       "\t375 & kidney & blood cell & mCherry positive cell       & 2 & single cell & OK & unknown & ERCC & 1:10 & cell\\\\\n",
       "\t376 & kidney & blood cell & mCherry positive cell       & 2 & single cell & OK & unknown & ERCC & 1:10 & cell\\\\\n",
       "\t1053 & gut    & blood cell & EGFP positive cell          & 1 & single cell & OK & unknown & ERCC & 1:10 & cell\\\\\n",
       "\t1054 & gut    & blood cell & EGFP positive cell          & 1 & single cell & OK & unknown & ERCC & 1:10 & cell\\\\\n",
       "\t1055 & gut    & blood cell & EGFP positive cell          & 1 & single cell & OK & unknown & ERCC & 1:10 & cell\\\\\n",
       "\t1056 & gut    & blood cell & EGFP positive cell          & 1 & single cell & OK & unknown & ERCC & 1:10 & cell\\\\\n",
       "\t1305 & thymus & blood cell & EGFP positive cell          & 1 & single cell & OK & unknown & ERCC & 1:10 & cell\\\\\n",
       "\t1306 & thymus & blood cell & EGFP positive cell          & 1 & single cell & OK & unknown & ERCC & 1:10 & cell\\\\\n",
       "\t1333 & thymus & blood cell & EGFP positive cell          & 1 & single cell & OK & unknown & ERCC & 1:10 & cell\\\\\n",
       "\t1334 & thymus & blood cell & EGFP positive cell          & 1 & single cell & OK & unknown & ERCC & 1:10 & cell\\\\\n",
       "\t1335 & thymus & blood cell & EGFP positive cell          & 1 & single cell & OK & unknown & ERCC & 1:10 & cell\\\\\n",
       "\t1336 & thymus & blood cell & EGFP positive cell          & 1 & single cell & OK & unknown & ERCC & 1:10 & cell\\\\\n",
       "\t1545 & kidney & blood cell & GFP and dsRed positive cell & 3 & single cell & OK & unknown & ERCC & 1:10 & cell\\\\\n",
       "\t1546 & kidney & blood cell & GFP and dsRed positive cell & 3 & single cell & OK & unknown & ERCC & 1:10 & cell\\\\\n",
       "\t1609 & kidney & blood cell & GFP and dsRed positive cell & 3 & single cell & OK & unknown & ERCC & 1:10 & cell\\\\\n",
       "\t1610 & kidney & blood cell & GFP and dsRed positive cell & 3 & single cell & OK & unknown & ERCC & 1:10 & cell\\\\\n",
       "\t2099 & kidney & blood cell & EGFP positive cell          & 4 & single cell & OK & unknown & ERCC & 1:10 & cell\\\\\n",
       "\t2100 & kidney & blood cell & EGFP positive cell          & 4 & single cell & OK & unknown & ERCC & 1:10 & cell\\\\\n",
       "\\end{tabular}\n"
      ],
      "text/markdown": [
       "\n",
       "A data.frame: 20 × 10\n",
       "\n",
       "| <!--/--> | Characteristics.organism.part. &lt;chr&gt; | Characteristics.cell.type. &lt;chr&gt; | Characteristics.phenotype. &lt;chr&gt; | Characteristics.individual. &lt;int&gt; | Characteristics.well.information. &lt;chr&gt; | Characteristics.single.cell.quality. &lt;chr&gt; | Characteristics.cluster. &lt;chr&gt; | Comment.spike.in. &lt;chr&gt; | Comment.spike.in.dilution. &lt;chr&gt; | Material.Type &lt;chr&gt; |\n",
       "|---|---|---|---|---|---|---|---|---|---|---|\n",
       "| 247 | gut    | blood cell | mCherry positive cell       | 2 | single cell | OK | unknown | ERCC | 1:10 | cell |\n",
       "| 248 | gut    | blood cell | mCherry positive cell       | 2 | single cell | OK | unknown | ERCC | 1:10 | cell |\n",
       "| 375 | kidney | blood cell | mCherry positive cell       | 2 | single cell | OK | unknown | ERCC | 1:10 | cell |\n",
       "| 376 | kidney | blood cell | mCherry positive cell       | 2 | single cell | OK | unknown | ERCC | 1:10 | cell |\n",
       "| 1053 | gut    | blood cell | EGFP positive cell          | 1 | single cell | OK | unknown | ERCC | 1:10 | cell |\n",
       "| 1054 | gut    | blood cell | EGFP positive cell          | 1 | single cell | OK | unknown | ERCC | 1:10 | cell |\n",
       "| 1055 | gut    | blood cell | EGFP positive cell          | 1 | single cell | OK | unknown | ERCC | 1:10 | cell |\n",
       "| 1056 | gut    | blood cell | EGFP positive cell          | 1 | single cell | OK | unknown | ERCC | 1:10 | cell |\n",
       "| 1305 | thymus | blood cell | EGFP positive cell          | 1 | single cell | OK | unknown | ERCC | 1:10 | cell |\n",
       "| 1306 | thymus | blood cell | EGFP positive cell          | 1 | single cell | OK | unknown | ERCC | 1:10 | cell |\n",
       "| 1333 | thymus | blood cell | EGFP positive cell          | 1 | single cell | OK | unknown | ERCC | 1:10 | cell |\n",
       "| 1334 | thymus | blood cell | EGFP positive cell          | 1 | single cell | OK | unknown | ERCC | 1:10 | cell |\n",
       "| 1335 | thymus | blood cell | EGFP positive cell          | 1 | single cell | OK | unknown | ERCC | 1:10 | cell |\n",
       "| 1336 | thymus | blood cell | EGFP positive cell          | 1 | single cell | OK | unknown | ERCC | 1:10 | cell |\n",
       "| 1545 | kidney | blood cell | GFP and dsRed positive cell | 3 | single cell | OK | unknown | ERCC | 1:10 | cell |\n",
       "| 1546 | kidney | blood cell | GFP and dsRed positive cell | 3 | single cell | OK | unknown | ERCC | 1:10 | cell |\n",
       "| 1609 | kidney | blood cell | GFP and dsRed positive cell | 3 | single cell | OK | unknown | ERCC | 1:10 | cell |\n",
       "| 1610 | kidney | blood cell | GFP and dsRed positive cell | 3 | single cell | OK | unknown | ERCC | 1:10 | cell |\n",
       "| 2099 | kidney | blood cell | EGFP positive cell          | 4 | single cell | OK | unknown | ERCC | 1:10 | cell |\n",
       "| 2100 | kidney | blood cell | EGFP positive cell          | 4 | single cell | OK | unknown | ERCC | 1:10 | cell |\n",
       "\n"
      ],
      "text/plain": [
       "     Characteristics.organism.part. Characteristics.cell.type.\n",
       "247  gut                            blood cell                \n",
       "248  gut                            blood cell                \n",
       "375  kidney                         blood cell                \n",
       "376  kidney                         blood cell                \n",
       "1053 gut                            blood cell                \n",
       "1054 gut                            blood cell                \n",
       "1055 gut                            blood cell                \n",
       "1056 gut                            blood cell                \n",
       "1305 thymus                         blood cell                \n",
       "1306 thymus                         blood cell                \n",
       "1333 thymus                         blood cell                \n",
       "1334 thymus                         blood cell                \n",
       "1335 thymus                         blood cell                \n",
       "1336 thymus                         blood cell                \n",
       "1545 kidney                         blood cell                \n",
       "1546 kidney                         blood cell                \n",
       "1609 kidney                         blood cell                \n",
       "1610 kidney                         blood cell                \n",
       "2099 kidney                         blood cell                \n",
       "2100 kidney                         blood cell                \n",
       "     Characteristics.phenotype.  Characteristics.individual.\n",
       "247  mCherry positive cell       2                          \n",
       "248  mCherry positive cell       2                          \n",
       "375  mCherry positive cell       2                          \n",
       "376  mCherry positive cell       2                          \n",
       "1053 EGFP positive cell          1                          \n",
       "1054 EGFP positive cell          1                          \n",
       "1055 EGFP positive cell          1                          \n",
       "1056 EGFP positive cell          1                          \n",
       "1305 EGFP positive cell          1                          \n",
       "1306 EGFP positive cell          1                          \n",
       "1333 EGFP positive cell          1                          \n",
       "1334 EGFP positive cell          1                          \n",
       "1335 EGFP positive cell          1                          \n",
       "1336 EGFP positive cell          1                          \n",
       "1545 GFP and dsRed positive cell 3                          \n",
       "1546 GFP and dsRed positive cell 3                          \n",
       "1609 GFP and dsRed positive cell 3                          \n",
       "1610 GFP and dsRed positive cell 3                          \n",
       "2099 EGFP positive cell          4                          \n",
       "2100 EGFP positive cell          4                          \n",
       "     Characteristics.well.information. Characteristics.single.cell.quality.\n",
       "247  single cell                       OK                                  \n",
       "248  single cell                       OK                                  \n",
       "375  single cell                       OK                                  \n",
       "376  single cell                       OK                                  \n",
       "1053 single cell                       OK                                  \n",
       "1054 single cell                       OK                                  \n",
       "1055 single cell                       OK                                  \n",
       "1056 single cell                       OK                                  \n",
       "1305 single cell                       OK                                  \n",
       "1306 single cell                       OK                                  \n",
       "1333 single cell                       OK                                  \n",
       "1334 single cell                       OK                                  \n",
       "1335 single cell                       OK                                  \n",
       "1336 single cell                       OK                                  \n",
       "1545 single cell                       OK                                  \n",
       "1546 single cell                       OK                                  \n",
       "1609 single cell                       OK                                  \n",
       "1610 single cell                       OK                                  \n",
       "2099 single cell                       OK                                  \n",
       "2100 single cell                       OK                                  \n",
       "     Characteristics.cluster. Comment.spike.in. Comment.spike.in.dilution.\n",
       "247  unknown                  ERCC              1:10                      \n",
       "248  unknown                  ERCC              1:10                      \n",
       "375  unknown                  ERCC              1:10                      \n",
       "376  unknown                  ERCC              1:10                      \n",
       "1053 unknown                  ERCC              1:10                      \n",
       "1054 unknown                  ERCC              1:10                      \n",
       "1055 unknown                  ERCC              1:10                      \n",
       "1056 unknown                  ERCC              1:10                      \n",
       "1305 unknown                  ERCC              1:10                      \n",
       "1306 unknown                  ERCC              1:10                      \n",
       "1333 unknown                  ERCC              1:10                      \n",
       "1334 unknown                  ERCC              1:10                      \n",
       "1335 unknown                  ERCC              1:10                      \n",
       "1336 unknown                  ERCC              1:10                      \n",
       "1545 unknown                  ERCC              1:10                      \n",
       "1546 unknown                  ERCC              1:10                      \n",
       "1609 unknown                  ERCC              1:10                      \n",
       "1610 unknown                  ERCC              1:10                      \n",
       "2099 unknown                  ERCC              1:10                      \n",
       "2100 unknown                  ERCC              1:10                      \n",
       "     Material.Type\n",
       "247  cell         \n",
       "248  cell         \n",
       "375  cell         \n",
       "376  cell         \n",
       "1053 cell         \n",
       "1054 cell         \n",
       "1055 cell         \n",
       "1056 cell         \n",
       "1305 cell         \n",
       "1306 cell         \n",
       "1333 cell         \n",
       "1334 cell         \n",
       "1335 cell         \n",
       "1336 cell         \n",
       "1545 cell         \n",
       "1546 cell         \n",
       "1609 cell         \n",
       "1610 cell         \n",
       "2099 cell         \n",
       "2100 cell         "
      ]
     },
     "metadata": {},
     "output_type": "display_data"
    },
    {
     "data": {
      "text/html": [
       "<table class=\"dataframe\">\n",
       "<caption>A data.frame: 20 × 10</caption>\n",
       "<thead>\n",
       "\t<tr><th></th><th scope=col>Protocol.REF</th><th scope=col>Performer</th><th scope=col>Protocol.REF.1</th><th scope=col>Performer.1</th><th scope=col>Protocol.REF.2</th><th scope=col>Performer.2</th><th scope=col>Extract.Name</th><th scope=col>Material.Type.1</th><th scope=col>Comment.single.cell.isolation.</th><th scope=col>Comment.library.construction.</th></tr>\n",
       "\t<tr><th></th><th scope=col>&lt;chr&gt;</th><th scope=col>&lt;chr&gt;</th><th scope=col>&lt;chr&gt;</th><th scope=col>&lt;chr&gt;</th><th scope=col>&lt;chr&gt;</th><th scope=col>&lt;chr&gt;</th><th scope=col>&lt;chr&gt;</th><th scope=col>&lt;chr&gt;</th><th scope=col>&lt;chr&gt;</th><th scope=col>&lt;chr&gt;</th></tr>\n",
       "</thead>\n",
       "<tbody>\n",
       "\t<tr><th scope=row>247</th><td>P-MTAB-77662</td><td>Paulina Strzelecka</td><td>P-MTAB-77663</td><td>Paulina Strzelecka</td><td>P-MTAB-77664</td><td>Paulina Strzelecka</td><td>CD4_gut_D4           </td><td>RNA</td><td>FACS</td><td>smart-seq2</td></tr>\n",
       "\t<tr><th scope=row>248</th><td>P-MTAB-77662</td><td>Paulina Strzelecka</td><td>P-MTAB-77663</td><td>Paulina Strzelecka</td><td>P-MTAB-77664</td><td>Paulina Strzelecka</td><td>CD4_gut_D4           </td><td>RNA</td><td>FACS</td><td>smart-seq2</td></tr>\n",
       "\t<tr><th scope=row>375</th><td>P-MTAB-77662</td><td>Paulina Strzelecka</td><td>P-MTAB-77663</td><td>Paulina Strzelecka</td><td>P-MTAB-77664</td><td>Paulina Strzelecka</td><td>CD4_kidney_C5        </td><td>RNA</td><td>FACS</td><td>smart-seq2</td></tr>\n",
       "\t<tr><th scope=row>376</th><td>P-MTAB-77662</td><td>Paulina Strzelecka</td><td>P-MTAB-77663</td><td>Paulina Strzelecka</td><td>P-MTAB-77664</td><td>Paulina Strzelecka</td><td>CD4_kidney_C5        </td><td>RNA</td><td>FACS</td><td>smart-seq2</td></tr>\n",
       "\t<tr><th scope=row>1053</th><td>P-MTAB-77662</td><td>Paulina Strzelecka</td><td>P-MTAB-77663</td><td>Paulina Strzelecka</td><td>P-MTAB-77664</td><td>Paulina Strzelecka</td><td>LCK_gut_G8           </td><td>RNA</td><td>FACS</td><td>smart-seq2</td></tr>\n",
       "\t<tr><th scope=row>1054</th><td>P-MTAB-77662</td><td>Paulina Strzelecka</td><td>P-MTAB-77663</td><td>Paulina Strzelecka</td><td>P-MTAB-77664</td><td>Paulina Strzelecka</td><td>LCK_gut_G8           </td><td>RNA</td><td>FACS</td><td>smart-seq2</td></tr>\n",
       "\t<tr><th scope=row>1055</th><td>P-MTAB-77662</td><td>Paulina Strzelecka</td><td>P-MTAB-77663</td><td>Paulina Strzelecka</td><td>P-MTAB-77664</td><td>Paulina Strzelecka</td><td>LCK_gut_G9           </td><td>RNA</td><td>FACS</td><td>smart-seq2</td></tr>\n",
       "\t<tr><th scope=row>1056</th><td>P-MTAB-77662</td><td>Paulina Strzelecka</td><td>P-MTAB-77663</td><td>Paulina Strzelecka</td><td>P-MTAB-77664</td><td>Paulina Strzelecka</td><td>LCK_gut_G9           </td><td>RNA</td><td>FACS</td><td>smart-seq2</td></tr>\n",
       "\t<tr><th scope=row>1305</th><td>P-MTAB-77662</td><td>Paulina Strzelecka</td><td>P-MTAB-77663</td><td>Paulina Strzelecka</td><td>P-MTAB-77664</td><td>Paulina Strzelecka</td><td>LCK_thymus_B2        </td><td>RNA</td><td>FACS</td><td>smart-seq2</td></tr>\n",
       "\t<tr><th scope=row>1306</th><td>P-MTAB-77662</td><td>Paulina Strzelecka</td><td>P-MTAB-77663</td><td>Paulina Strzelecka</td><td>P-MTAB-77664</td><td>Paulina Strzelecka</td><td>LCK_thymus_B2        </td><td>RNA</td><td>FACS</td><td>smart-seq2</td></tr>\n",
       "\t<tr><th scope=row>1333</th><td>P-MTAB-77662</td><td>Paulina Strzelecka</td><td>P-MTAB-77663</td><td>Paulina Strzelecka</td><td>P-MTAB-77664</td><td>Paulina Strzelecka</td><td>LCK_thymus_C4        </td><td>RNA</td><td>FACS</td><td>smart-seq2</td></tr>\n",
       "\t<tr><th scope=row>1334</th><td>P-MTAB-77662</td><td>Paulina Strzelecka</td><td>P-MTAB-77663</td><td>Paulina Strzelecka</td><td>P-MTAB-77664</td><td>Paulina Strzelecka</td><td>LCK_thymus_C4        </td><td>RNA</td><td>FACS</td><td>smart-seq2</td></tr>\n",
       "\t<tr><th scope=row>1335</th><td>P-MTAB-77662</td><td>Paulina Strzelecka</td><td>P-MTAB-77663</td><td>Paulina Strzelecka</td><td>P-MTAB-77664</td><td>Paulina Strzelecka</td><td>LCK_thymus_C5        </td><td>RNA</td><td>FACS</td><td>smart-seq2</td></tr>\n",
       "\t<tr><th scope=row>1336</th><td>P-MTAB-77662</td><td>Paulina Strzelecka</td><td>P-MTAB-77663</td><td>Paulina Strzelecka</td><td>P-MTAB-77664</td><td>Paulina Strzelecka</td><td>LCK_thymus_C5        </td><td>RNA</td><td>FACS</td><td>smart-seq2</td></tr>\n",
       "\t<tr><th scope=row>1545</th><td>P-MTAB-77662</td><td>Paulina Strzelecka</td><td>P-MTAB-77663</td><td>Paulina Strzelecka</td><td>P-MTAB-77664</td><td>Paulina Strzelecka</td><td>mhc2dab_kidney_pl2_A2</td><td>RNA</td><td>FACS</td><td>smart-seq2</td></tr>\n",
       "\t<tr><th scope=row>1546</th><td>P-MTAB-77662</td><td>Paulina Strzelecka</td><td>P-MTAB-77663</td><td>Paulina Strzelecka</td><td>P-MTAB-77664</td><td>Paulina Strzelecka</td><td>mhc2dab_kidney_pl2_A2</td><td>RNA</td><td>FACS</td><td>smart-seq2</td></tr>\n",
       "\t<tr><th scope=row>1609</th><td>P-MTAB-77662</td><td>Paulina Strzelecka</td><td>P-MTAB-77663</td><td>Paulina Strzelecka</td><td>P-MTAB-77664</td><td>Paulina Strzelecka</td><td>mhc2dab_kidney_pl2_D1</td><td>RNA</td><td>FACS</td><td>smart-seq2</td></tr>\n",
       "\t<tr><th scope=row>1610</th><td>P-MTAB-77662</td><td>Paulina Strzelecka</td><td>P-MTAB-77663</td><td>Paulina Strzelecka</td><td>P-MTAB-77664</td><td>Paulina Strzelecka</td><td>mhc2dab_kidney_pl2_D1</td><td>RNA</td><td>FACS</td><td>smart-seq2</td></tr>\n",
       "\t<tr><th scope=row>2099</th><td>P-MTAB-77662</td><td>Paulina Strzelecka</td><td>P-MTAB-77663</td><td>Paulina Strzelecka</td><td>P-MTAB-77664</td><td>Paulina Strzelecka</td><td>Rag1_kidney_H3       </td><td>RNA</td><td>FACS</td><td>smart-seq2</td></tr>\n",
       "\t<tr><th scope=row>2100</th><td>P-MTAB-77662</td><td>Paulina Strzelecka</td><td>P-MTAB-77663</td><td>Paulina Strzelecka</td><td>P-MTAB-77664</td><td>Paulina Strzelecka</td><td>Rag1_kidney_H3       </td><td>RNA</td><td>FACS</td><td>smart-seq2</td></tr>\n",
       "</tbody>\n",
       "</table>\n"
      ],
      "text/latex": [
       "A data.frame: 20 × 10\n",
       "\\begin{tabular}{r|llllllllll}\n",
       "  & Protocol.REF & Performer & Protocol.REF.1 & Performer.1 & Protocol.REF.2 & Performer.2 & Extract.Name & Material.Type.1 & Comment.single.cell.isolation. & Comment.library.construction.\\\\\n",
       "  & <chr> & <chr> & <chr> & <chr> & <chr> & <chr> & <chr> & <chr> & <chr> & <chr>\\\\\n",
       "\\hline\n",
       "\t247 & P-MTAB-77662 & Paulina Strzelecka & P-MTAB-77663 & Paulina Strzelecka & P-MTAB-77664 & Paulina Strzelecka & CD4\\_gut\\_D4            & RNA & FACS & smart-seq2\\\\\n",
       "\t248 & P-MTAB-77662 & Paulina Strzelecka & P-MTAB-77663 & Paulina Strzelecka & P-MTAB-77664 & Paulina Strzelecka & CD4\\_gut\\_D4            & RNA & FACS & smart-seq2\\\\\n",
       "\t375 & P-MTAB-77662 & Paulina Strzelecka & P-MTAB-77663 & Paulina Strzelecka & P-MTAB-77664 & Paulina Strzelecka & CD4\\_kidney\\_C5         & RNA & FACS & smart-seq2\\\\\n",
       "\t376 & P-MTAB-77662 & Paulina Strzelecka & P-MTAB-77663 & Paulina Strzelecka & P-MTAB-77664 & Paulina Strzelecka & CD4\\_kidney\\_C5         & RNA & FACS & smart-seq2\\\\\n",
       "\t1053 & P-MTAB-77662 & Paulina Strzelecka & P-MTAB-77663 & Paulina Strzelecka & P-MTAB-77664 & Paulina Strzelecka & LCK\\_gut\\_G8            & RNA & FACS & smart-seq2\\\\\n",
       "\t1054 & P-MTAB-77662 & Paulina Strzelecka & P-MTAB-77663 & Paulina Strzelecka & P-MTAB-77664 & Paulina Strzelecka & LCK\\_gut\\_G8            & RNA & FACS & smart-seq2\\\\\n",
       "\t1055 & P-MTAB-77662 & Paulina Strzelecka & P-MTAB-77663 & Paulina Strzelecka & P-MTAB-77664 & Paulina Strzelecka & LCK\\_gut\\_G9            & RNA & FACS & smart-seq2\\\\\n",
       "\t1056 & P-MTAB-77662 & Paulina Strzelecka & P-MTAB-77663 & Paulina Strzelecka & P-MTAB-77664 & Paulina Strzelecka & LCK\\_gut\\_G9            & RNA & FACS & smart-seq2\\\\\n",
       "\t1305 & P-MTAB-77662 & Paulina Strzelecka & P-MTAB-77663 & Paulina Strzelecka & P-MTAB-77664 & Paulina Strzelecka & LCK\\_thymus\\_B2         & RNA & FACS & smart-seq2\\\\\n",
       "\t1306 & P-MTAB-77662 & Paulina Strzelecka & P-MTAB-77663 & Paulina Strzelecka & P-MTAB-77664 & Paulina Strzelecka & LCK\\_thymus\\_B2         & RNA & FACS & smart-seq2\\\\\n",
       "\t1333 & P-MTAB-77662 & Paulina Strzelecka & P-MTAB-77663 & Paulina Strzelecka & P-MTAB-77664 & Paulina Strzelecka & LCK\\_thymus\\_C4         & RNA & FACS & smart-seq2\\\\\n",
       "\t1334 & P-MTAB-77662 & Paulina Strzelecka & P-MTAB-77663 & Paulina Strzelecka & P-MTAB-77664 & Paulina Strzelecka & LCK\\_thymus\\_C4         & RNA & FACS & smart-seq2\\\\\n",
       "\t1335 & P-MTAB-77662 & Paulina Strzelecka & P-MTAB-77663 & Paulina Strzelecka & P-MTAB-77664 & Paulina Strzelecka & LCK\\_thymus\\_C5         & RNA & FACS & smart-seq2\\\\\n",
       "\t1336 & P-MTAB-77662 & Paulina Strzelecka & P-MTAB-77663 & Paulina Strzelecka & P-MTAB-77664 & Paulina Strzelecka & LCK\\_thymus\\_C5         & RNA & FACS & smart-seq2\\\\\n",
       "\t1545 & P-MTAB-77662 & Paulina Strzelecka & P-MTAB-77663 & Paulina Strzelecka & P-MTAB-77664 & Paulina Strzelecka & mhc2dab\\_kidney\\_pl2\\_A2 & RNA & FACS & smart-seq2\\\\\n",
       "\t1546 & P-MTAB-77662 & Paulina Strzelecka & P-MTAB-77663 & Paulina Strzelecka & P-MTAB-77664 & Paulina Strzelecka & mhc2dab\\_kidney\\_pl2\\_A2 & RNA & FACS & smart-seq2\\\\\n",
       "\t1609 & P-MTAB-77662 & Paulina Strzelecka & P-MTAB-77663 & Paulina Strzelecka & P-MTAB-77664 & Paulina Strzelecka & mhc2dab\\_kidney\\_pl2\\_D1 & RNA & FACS & smart-seq2\\\\\n",
       "\t1610 & P-MTAB-77662 & Paulina Strzelecka & P-MTAB-77663 & Paulina Strzelecka & P-MTAB-77664 & Paulina Strzelecka & mhc2dab\\_kidney\\_pl2\\_D1 & RNA & FACS & smart-seq2\\\\\n",
       "\t2099 & P-MTAB-77662 & Paulina Strzelecka & P-MTAB-77663 & Paulina Strzelecka & P-MTAB-77664 & Paulina Strzelecka & Rag1\\_kidney\\_H3        & RNA & FACS & smart-seq2\\\\\n",
       "\t2100 & P-MTAB-77662 & Paulina Strzelecka & P-MTAB-77663 & Paulina Strzelecka & P-MTAB-77664 & Paulina Strzelecka & Rag1\\_kidney\\_H3        & RNA & FACS & smart-seq2\\\\\n",
       "\\end{tabular}\n"
      ],
      "text/markdown": [
       "\n",
       "A data.frame: 20 × 10\n",
       "\n",
       "| <!--/--> | Protocol.REF &lt;chr&gt; | Performer &lt;chr&gt; | Protocol.REF.1 &lt;chr&gt; | Performer.1 &lt;chr&gt; | Protocol.REF.2 &lt;chr&gt; | Performer.2 &lt;chr&gt; | Extract.Name &lt;chr&gt; | Material.Type.1 &lt;chr&gt; | Comment.single.cell.isolation. &lt;chr&gt; | Comment.library.construction. &lt;chr&gt; |\n",
       "|---|---|---|---|---|---|---|---|---|---|---|\n",
       "| 247 | P-MTAB-77662 | Paulina Strzelecka | P-MTAB-77663 | Paulina Strzelecka | P-MTAB-77664 | Paulina Strzelecka | CD4_gut_D4            | RNA | FACS | smart-seq2 |\n",
       "| 248 | P-MTAB-77662 | Paulina Strzelecka | P-MTAB-77663 | Paulina Strzelecka | P-MTAB-77664 | Paulina Strzelecka | CD4_gut_D4            | RNA | FACS | smart-seq2 |\n",
       "| 375 | P-MTAB-77662 | Paulina Strzelecka | P-MTAB-77663 | Paulina Strzelecka | P-MTAB-77664 | Paulina Strzelecka | CD4_kidney_C5         | RNA | FACS | smart-seq2 |\n",
       "| 376 | P-MTAB-77662 | Paulina Strzelecka | P-MTAB-77663 | Paulina Strzelecka | P-MTAB-77664 | Paulina Strzelecka | CD4_kidney_C5         | RNA | FACS | smart-seq2 |\n",
       "| 1053 | P-MTAB-77662 | Paulina Strzelecka | P-MTAB-77663 | Paulina Strzelecka | P-MTAB-77664 | Paulina Strzelecka | LCK_gut_G8            | RNA | FACS | smart-seq2 |\n",
       "| 1054 | P-MTAB-77662 | Paulina Strzelecka | P-MTAB-77663 | Paulina Strzelecka | P-MTAB-77664 | Paulina Strzelecka | LCK_gut_G8            | RNA | FACS | smart-seq2 |\n",
       "| 1055 | P-MTAB-77662 | Paulina Strzelecka | P-MTAB-77663 | Paulina Strzelecka | P-MTAB-77664 | Paulina Strzelecka | LCK_gut_G9            | RNA | FACS | smart-seq2 |\n",
       "| 1056 | P-MTAB-77662 | Paulina Strzelecka | P-MTAB-77663 | Paulina Strzelecka | P-MTAB-77664 | Paulina Strzelecka | LCK_gut_G9            | RNA | FACS | smart-seq2 |\n",
       "| 1305 | P-MTAB-77662 | Paulina Strzelecka | P-MTAB-77663 | Paulina Strzelecka | P-MTAB-77664 | Paulina Strzelecka | LCK_thymus_B2         | RNA | FACS | smart-seq2 |\n",
       "| 1306 | P-MTAB-77662 | Paulina Strzelecka | P-MTAB-77663 | Paulina Strzelecka | P-MTAB-77664 | Paulina Strzelecka | LCK_thymus_B2         | RNA | FACS | smart-seq2 |\n",
       "| 1333 | P-MTAB-77662 | Paulina Strzelecka | P-MTAB-77663 | Paulina Strzelecka | P-MTAB-77664 | Paulina Strzelecka | LCK_thymus_C4         | RNA | FACS | smart-seq2 |\n",
       "| 1334 | P-MTAB-77662 | Paulina Strzelecka | P-MTAB-77663 | Paulina Strzelecka | P-MTAB-77664 | Paulina Strzelecka | LCK_thymus_C4         | RNA | FACS | smart-seq2 |\n",
       "| 1335 | P-MTAB-77662 | Paulina Strzelecka | P-MTAB-77663 | Paulina Strzelecka | P-MTAB-77664 | Paulina Strzelecka | LCK_thymus_C5         | RNA | FACS | smart-seq2 |\n",
       "| 1336 | P-MTAB-77662 | Paulina Strzelecka | P-MTAB-77663 | Paulina Strzelecka | P-MTAB-77664 | Paulina Strzelecka | LCK_thymus_C5         | RNA | FACS | smart-seq2 |\n",
       "| 1545 | P-MTAB-77662 | Paulina Strzelecka | P-MTAB-77663 | Paulina Strzelecka | P-MTAB-77664 | Paulina Strzelecka | mhc2dab_kidney_pl2_A2 | RNA | FACS | smart-seq2 |\n",
       "| 1546 | P-MTAB-77662 | Paulina Strzelecka | P-MTAB-77663 | Paulina Strzelecka | P-MTAB-77664 | Paulina Strzelecka | mhc2dab_kidney_pl2_A2 | RNA | FACS | smart-seq2 |\n",
       "| 1609 | P-MTAB-77662 | Paulina Strzelecka | P-MTAB-77663 | Paulina Strzelecka | P-MTAB-77664 | Paulina Strzelecka | mhc2dab_kidney_pl2_D1 | RNA | FACS | smart-seq2 |\n",
       "| 1610 | P-MTAB-77662 | Paulina Strzelecka | P-MTAB-77663 | Paulina Strzelecka | P-MTAB-77664 | Paulina Strzelecka | mhc2dab_kidney_pl2_D1 | RNA | FACS | smart-seq2 |\n",
       "| 2099 | P-MTAB-77662 | Paulina Strzelecka | P-MTAB-77663 | Paulina Strzelecka | P-MTAB-77664 | Paulina Strzelecka | Rag1_kidney_H3        | RNA | FACS | smart-seq2 |\n",
       "| 2100 | P-MTAB-77662 | Paulina Strzelecka | P-MTAB-77663 | Paulina Strzelecka | P-MTAB-77664 | Paulina Strzelecka | Rag1_kidney_H3        | RNA | FACS | smart-seq2 |\n",
       "\n"
      ],
      "text/plain": [
       "     Protocol.REF Performer          Protocol.REF.1 Performer.1       \n",
       "247  P-MTAB-77662 Paulina Strzelecka P-MTAB-77663   Paulina Strzelecka\n",
       "248  P-MTAB-77662 Paulina Strzelecka P-MTAB-77663   Paulina Strzelecka\n",
       "375  P-MTAB-77662 Paulina Strzelecka P-MTAB-77663   Paulina Strzelecka\n",
       "376  P-MTAB-77662 Paulina Strzelecka P-MTAB-77663   Paulina Strzelecka\n",
       "1053 P-MTAB-77662 Paulina Strzelecka P-MTAB-77663   Paulina Strzelecka\n",
       "1054 P-MTAB-77662 Paulina Strzelecka P-MTAB-77663   Paulina Strzelecka\n",
       "1055 P-MTAB-77662 Paulina Strzelecka P-MTAB-77663   Paulina Strzelecka\n",
       "1056 P-MTAB-77662 Paulina Strzelecka P-MTAB-77663   Paulina Strzelecka\n",
       "1305 P-MTAB-77662 Paulina Strzelecka P-MTAB-77663   Paulina Strzelecka\n",
       "1306 P-MTAB-77662 Paulina Strzelecka P-MTAB-77663   Paulina Strzelecka\n",
       "1333 P-MTAB-77662 Paulina Strzelecka P-MTAB-77663   Paulina Strzelecka\n",
       "1334 P-MTAB-77662 Paulina Strzelecka P-MTAB-77663   Paulina Strzelecka\n",
       "1335 P-MTAB-77662 Paulina Strzelecka P-MTAB-77663   Paulina Strzelecka\n",
       "1336 P-MTAB-77662 Paulina Strzelecka P-MTAB-77663   Paulina Strzelecka\n",
       "1545 P-MTAB-77662 Paulina Strzelecka P-MTAB-77663   Paulina Strzelecka\n",
       "1546 P-MTAB-77662 Paulina Strzelecka P-MTAB-77663   Paulina Strzelecka\n",
       "1609 P-MTAB-77662 Paulina Strzelecka P-MTAB-77663   Paulina Strzelecka\n",
       "1610 P-MTAB-77662 Paulina Strzelecka P-MTAB-77663   Paulina Strzelecka\n",
       "2099 P-MTAB-77662 Paulina Strzelecka P-MTAB-77663   Paulina Strzelecka\n",
       "2100 P-MTAB-77662 Paulina Strzelecka P-MTAB-77663   Paulina Strzelecka\n",
       "     Protocol.REF.2 Performer.2        Extract.Name          Material.Type.1\n",
       "247  P-MTAB-77664   Paulina Strzelecka CD4_gut_D4            RNA            \n",
       "248  P-MTAB-77664   Paulina Strzelecka CD4_gut_D4            RNA            \n",
       "375  P-MTAB-77664   Paulina Strzelecka CD4_kidney_C5         RNA            \n",
       "376  P-MTAB-77664   Paulina Strzelecka CD4_kidney_C5         RNA            \n",
       "1053 P-MTAB-77664   Paulina Strzelecka LCK_gut_G8            RNA            \n",
       "1054 P-MTAB-77664   Paulina Strzelecka LCK_gut_G8            RNA            \n",
       "1055 P-MTAB-77664   Paulina Strzelecka LCK_gut_G9            RNA            \n",
       "1056 P-MTAB-77664   Paulina Strzelecka LCK_gut_G9            RNA            \n",
       "1305 P-MTAB-77664   Paulina Strzelecka LCK_thymus_B2         RNA            \n",
       "1306 P-MTAB-77664   Paulina Strzelecka LCK_thymus_B2         RNA            \n",
       "1333 P-MTAB-77664   Paulina Strzelecka LCK_thymus_C4         RNA            \n",
       "1334 P-MTAB-77664   Paulina Strzelecka LCK_thymus_C4         RNA            \n",
       "1335 P-MTAB-77664   Paulina Strzelecka LCK_thymus_C5         RNA            \n",
       "1336 P-MTAB-77664   Paulina Strzelecka LCK_thymus_C5         RNA            \n",
       "1545 P-MTAB-77664   Paulina Strzelecka mhc2dab_kidney_pl2_A2 RNA            \n",
       "1546 P-MTAB-77664   Paulina Strzelecka mhc2dab_kidney_pl2_A2 RNA            \n",
       "1609 P-MTAB-77664   Paulina Strzelecka mhc2dab_kidney_pl2_D1 RNA            \n",
       "1610 P-MTAB-77664   Paulina Strzelecka mhc2dab_kidney_pl2_D1 RNA            \n",
       "2099 P-MTAB-77664   Paulina Strzelecka Rag1_kidney_H3        RNA            \n",
       "2100 P-MTAB-77664   Paulina Strzelecka Rag1_kidney_H3        RNA            \n",
       "     Comment.single.cell.isolation. Comment.library.construction.\n",
       "247  FACS                           smart-seq2                   \n",
       "248  FACS                           smart-seq2                   \n",
       "375  FACS                           smart-seq2                   \n",
       "376  FACS                           smart-seq2                   \n",
       "1053 FACS                           smart-seq2                   \n",
       "1054 FACS                           smart-seq2                   \n",
       "1055 FACS                           smart-seq2                   \n",
       "1056 FACS                           smart-seq2                   \n",
       "1305 FACS                           smart-seq2                   \n",
       "1306 FACS                           smart-seq2                   \n",
       "1333 FACS                           smart-seq2                   \n",
       "1334 FACS                           smart-seq2                   \n",
       "1335 FACS                           smart-seq2                   \n",
       "1336 FACS                           smart-seq2                   \n",
       "1545 FACS                           smart-seq2                   \n",
       "1546 FACS                           smart-seq2                   \n",
       "1609 FACS                           smart-seq2                   \n",
       "1610 FACS                           smart-seq2                   \n",
       "2099 FACS                           smart-seq2                   \n",
       "2100 FACS                           smart-seq2                   "
      ]
     },
     "metadata": {},
     "output_type": "display_data"
    },
    {
     "data": {
      "text/html": [
       "<table class=\"dataframe\">\n",
       "<caption>A data.frame: 20 × 10</caption>\n",
       "<thead>\n",
       "\t<tr><th></th><th scope=col>Comment.input.molecule.</th><th scope=col>Comment.primer.</th><th scope=col>Comment.end.bias.</th><th scope=col>Comment.LIBRARY_LAYOUT.</th><th scope=col>Comment.LIBRARY_SELECTION.</th><th scope=col>Comment.LIBRARY_SOURCE.</th><th scope=col>Comment.LIBRARY_STRAND.</th><th scope=col>Comment.LIBRARY_STRATEGY.</th><th scope=col>Comment.NOMINAL_LENGTH.</th><th scope=col>Comment.NOMINAL_SDEV.</th></tr>\n",
       "\t<tr><th></th><th scope=col>&lt;chr&gt;</th><th scope=col>&lt;chr&gt;</th><th scope=col>&lt;chr&gt;</th><th scope=col>&lt;chr&gt;</th><th scope=col>&lt;chr&gt;</th><th scope=col>&lt;chr&gt;</th><th scope=col>&lt;chr&gt;</th><th scope=col>&lt;chr&gt;</th><th scope=col>&lt;int&gt;</th><th scope=col>&lt;int&gt;</th></tr>\n",
       "</thead>\n",
       "<tbody>\n",
       "\t<tr><th scope=row>247</th><td>polyA RNA</td><td>oligo-dT</td><td>none</td><td>PAIRED</td><td>Oligo-dT</td><td>TRANSCRIPTOMIC SINGLE CELL</td><td>not applicable</td><td>RNA-Seq</td><td>400</td><td>20</td></tr>\n",
       "\t<tr><th scope=row>248</th><td>polyA RNA</td><td>oligo-dT</td><td>none</td><td>PAIRED</td><td>Oligo-dT</td><td>TRANSCRIPTOMIC SINGLE CELL</td><td>not applicable</td><td>RNA-Seq</td><td>400</td><td>20</td></tr>\n",
       "\t<tr><th scope=row>375</th><td>polyA RNA</td><td>oligo-dT</td><td>none</td><td>PAIRED</td><td>Oligo-dT</td><td>TRANSCRIPTOMIC SINGLE CELL</td><td>not applicable</td><td>RNA-Seq</td><td>400</td><td>20</td></tr>\n",
       "\t<tr><th scope=row>376</th><td>polyA RNA</td><td>oligo-dT</td><td>none</td><td>PAIRED</td><td>Oligo-dT</td><td>TRANSCRIPTOMIC SINGLE CELL</td><td>not applicable</td><td>RNA-Seq</td><td>400</td><td>20</td></tr>\n",
       "\t<tr><th scope=row>1053</th><td>polyA RNA</td><td>oligo-dT</td><td>none</td><td>PAIRED</td><td>Oligo-dT</td><td>TRANSCRIPTOMIC SINGLE CELL</td><td>not applicable</td><td>RNA-Seq</td><td>400</td><td>20</td></tr>\n",
       "\t<tr><th scope=row>1054</th><td>polyA RNA</td><td>oligo-dT</td><td>none</td><td>PAIRED</td><td>Oligo-dT</td><td>TRANSCRIPTOMIC SINGLE CELL</td><td>not applicable</td><td>RNA-Seq</td><td>400</td><td>20</td></tr>\n",
       "\t<tr><th scope=row>1055</th><td>polyA RNA</td><td>oligo-dT</td><td>none</td><td>PAIRED</td><td>Oligo-dT</td><td>TRANSCRIPTOMIC SINGLE CELL</td><td>not applicable</td><td>RNA-Seq</td><td>400</td><td>20</td></tr>\n",
       "\t<tr><th scope=row>1056</th><td>polyA RNA</td><td>oligo-dT</td><td>none</td><td>PAIRED</td><td>Oligo-dT</td><td>TRANSCRIPTOMIC SINGLE CELL</td><td>not applicable</td><td>RNA-Seq</td><td>400</td><td>20</td></tr>\n",
       "\t<tr><th scope=row>1305</th><td>polyA RNA</td><td>oligo-dT</td><td>none</td><td>PAIRED</td><td>Oligo-dT</td><td>TRANSCRIPTOMIC SINGLE CELL</td><td>not applicable</td><td>RNA-Seq</td><td>400</td><td>20</td></tr>\n",
       "\t<tr><th scope=row>1306</th><td>polyA RNA</td><td>oligo-dT</td><td>none</td><td>PAIRED</td><td>Oligo-dT</td><td>TRANSCRIPTOMIC SINGLE CELL</td><td>not applicable</td><td>RNA-Seq</td><td>400</td><td>20</td></tr>\n",
       "\t<tr><th scope=row>1333</th><td>polyA RNA</td><td>oligo-dT</td><td>none</td><td>PAIRED</td><td>Oligo-dT</td><td>TRANSCRIPTOMIC SINGLE CELL</td><td>not applicable</td><td>RNA-Seq</td><td>400</td><td>20</td></tr>\n",
       "\t<tr><th scope=row>1334</th><td>polyA RNA</td><td>oligo-dT</td><td>none</td><td>PAIRED</td><td>Oligo-dT</td><td>TRANSCRIPTOMIC SINGLE CELL</td><td>not applicable</td><td>RNA-Seq</td><td>400</td><td>20</td></tr>\n",
       "\t<tr><th scope=row>1335</th><td>polyA RNA</td><td>oligo-dT</td><td>none</td><td>PAIRED</td><td>Oligo-dT</td><td>TRANSCRIPTOMIC SINGLE CELL</td><td>not applicable</td><td>RNA-Seq</td><td>400</td><td>20</td></tr>\n",
       "\t<tr><th scope=row>1336</th><td>polyA RNA</td><td>oligo-dT</td><td>none</td><td>PAIRED</td><td>Oligo-dT</td><td>TRANSCRIPTOMIC SINGLE CELL</td><td>not applicable</td><td>RNA-Seq</td><td>400</td><td>20</td></tr>\n",
       "\t<tr><th scope=row>1545</th><td>polyA RNA</td><td>oligo-dT</td><td>none</td><td>PAIRED</td><td>Oligo-dT</td><td>TRANSCRIPTOMIC SINGLE CELL</td><td>not applicable</td><td>RNA-Seq</td><td>400</td><td>20</td></tr>\n",
       "\t<tr><th scope=row>1546</th><td>polyA RNA</td><td>oligo-dT</td><td>none</td><td>PAIRED</td><td>Oligo-dT</td><td>TRANSCRIPTOMIC SINGLE CELL</td><td>not applicable</td><td>RNA-Seq</td><td>400</td><td>20</td></tr>\n",
       "\t<tr><th scope=row>1609</th><td>polyA RNA</td><td>oligo-dT</td><td>none</td><td>PAIRED</td><td>Oligo-dT</td><td>TRANSCRIPTOMIC SINGLE CELL</td><td>not applicable</td><td>RNA-Seq</td><td>400</td><td>20</td></tr>\n",
       "\t<tr><th scope=row>1610</th><td>polyA RNA</td><td>oligo-dT</td><td>none</td><td>PAIRED</td><td>Oligo-dT</td><td>TRANSCRIPTOMIC SINGLE CELL</td><td>not applicable</td><td>RNA-Seq</td><td>400</td><td>20</td></tr>\n",
       "\t<tr><th scope=row>2099</th><td>polyA RNA</td><td>oligo-dT</td><td>none</td><td>PAIRED</td><td>Oligo-dT</td><td>TRANSCRIPTOMIC SINGLE CELL</td><td>not applicable</td><td>RNA-Seq</td><td>400</td><td>20</td></tr>\n",
       "\t<tr><th scope=row>2100</th><td>polyA RNA</td><td>oligo-dT</td><td>none</td><td>PAIRED</td><td>Oligo-dT</td><td>TRANSCRIPTOMIC SINGLE CELL</td><td>not applicable</td><td>RNA-Seq</td><td>400</td><td>20</td></tr>\n",
       "</tbody>\n",
       "</table>\n"
      ],
      "text/latex": [
       "A data.frame: 20 × 10\n",
       "\\begin{tabular}{r|llllllllll}\n",
       "  & Comment.input.molecule. & Comment.primer. & Comment.end.bias. & Comment.LIBRARY\\_LAYOUT. & Comment.LIBRARY\\_SELECTION. & Comment.LIBRARY\\_SOURCE. & Comment.LIBRARY\\_STRAND. & Comment.LIBRARY\\_STRATEGY. & Comment.NOMINAL\\_LENGTH. & Comment.NOMINAL\\_SDEV.\\\\\n",
       "  & <chr> & <chr> & <chr> & <chr> & <chr> & <chr> & <chr> & <chr> & <int> & <int>\\\\\n",
       "\\hline\n",
       "\t247 & polyA RNA & oligo-dT & none & PAIRED & Oligo-dT & TRANSCRIPTOMIC SINGLE CELL & not applicable & RNA-Seq & 400 & 20\\\\\n",
       "\t248 & polyA RNA & oligo-dT & none & PAIRED & Oligo-dT & TRANSCRIPTOMIC SINGLE CELL & not applicable & RNA-Seq & 400 & 20\\\\\n",
       "\t375 & polyA RNA & oligo-dT & none & PAIRED & Oligo-dT & TRANSCRIPTOMIC SINGLE CELL & not applicable & RNA-Seq & 400 & 20\\\\\n",
       "\t376 & polyA RNA & oligo-dT & none & PAIRED & Oligo-dT & TRANSCRIPTOMIC SINGLE CELL & not applicable & RNA-Seq & 400 & 20\\\\\n",
       "\t1053 & polyA RNA & oligo-dT & none & PAIRED & Oligo-dT & TRANSCRIPTOMIC SINGLE CELL & not applicable & RNA-Seq & 400 & 20\\\\\n",
       "\t1054 & polyA RNA & oligo-dT & none & PAIRED & Oligo-dT & TRANSCRIPTOMIC SINGLE CELL & not applicable & RNA-Seq & 400 & 20\\\\\n",
       "\t1055 & polyA RNA & oligo-dT & none & PAIRED & Oligo-dT & TRANSCRIPTOMIC SINGLE CELL & not applicable & RNA-Seq & 400 & 20\\\\\n",
       "\t1056 & polyA RNA & oligo-dT & none & PAIRED & Oligo-dT & TRANSCRIPTOMIC SINGLE CELL & not applicable & RNA-Seq & 400 & 20\\\\\n",
       "\t1305 & polyA RNA & oligo-dT & none & PAIRED & Oligo-dT & TRANSCRIPTOMIC SINGLE CELL & not applicable & RNA-Seq & 400 & 20\\\\\n",
       "\t1306 & polyA RNA & oligo-dT & none & PAIRED & Oligo-dT & TRANSCRIPTOMIC SINGLE CELL & not applicable & RNA-Seq & 400 & 20\\\\\n",
       "\t1333 & polyA RNA & oligo-dT & none & PAIRED & Oligo-dT & TRANSCRIPTOMIC SINGLE CELL & not applicable & RNA-Seq & 400 & 20\\\\\n",
       "\t1334 & polyA RNA & oligo-dT & none & PAIRED & Oligo-dT & TRANSCRIPTOMIC SINGLE CELL & not applicable & RNA-Seq & 400 & 20\\\\\n",
       "\t1335 & polyA RNA & oligo-dT & none & PAIRED & Oligo-dT & TRANSCRIPTOMIC SINGLE CELL & not applicable & RNA-Seq & 400 & 20\\\\\n",
       "\t1336 & polyA RNA & oligo-dT & none & PAIRED & Oligo-dT & TRANSCRIPTOMIC SINGLE CELL & not applicable & RNA-Seq & 400 & 20\\\\\n",
       "\t1545 & polyA RNA & oligo-dT & none & PAIRED & Oligo-dT & TRANSCRIPTOMIC SINGLE CELL & not applicable & RNA-Seq & 400 & 20\\\\\n",
       "\t1546 & polyA RNA & oligo-dT & none & PAIRED & Oligo-dT & TRANSCRIPTOMIC SINGLE CELL & not applicable & RNA-Seq & 400 & 20\\\\\n",
       "\t1609 & polyA RNA & oligo-dT & none & PAIRED & Oligo-dT & TRANSCRIPTOMIC SINGLE CELL & not applicable & RNA-Seq & 400 & 20\\\\\n",
       "\t1610 & polyA RNA & oligo-dT & none & PAIRED & Oligo-dT & TRANSCRIPTOMIC SINGLE CELL & not applicable & RNA-Seq & 400 & 20\\\\\n",
       "\t2099 & polyA RNA & oligo-dT & none & PAIRED & Oligo-dT & TRANSCRIPTOMIC SINGLE CELL & not applicable & RNA-Seq & 400 & 20\\\\\n",
       "\t2100 & polyA RNA & oligo-dT & none & PAIRED & Oligo-dT & TRANSCRIPTOMIC SINGLE CELL & not applicable & RNA-Seq & 400 & 20\\\\\n",
       "\\end{tabular}\n"
      ],
      "text/markdown": [
       "\n",
       "A data.frame: 20 × 10\n",
       "\n",
       "| <!--/--> | Comment.input.molecule. &lt;chr&gt; | Comment.primer. &lt;chr&gt; | Comment.end.bias. &lt;chr&gt; | Comment.LIBRARY_LAYOUT. &lt;chr&gt; | Comment.LIBRARY_SELECTION. &lt;chr&gt; | Comment.LIBRARY_SOURCE. &lt;chr&gt; | Comment.LIBRARY_STRAND. &lt;chr&gt; | Comment.LIBRARY_STRATEGY. &lt;chr&gt; | Comment.NOMINAL_LENGTH. &lt;int&gt; | Comment.NOMINAL_SDEV. &lt;int&gt; |\n",
       "|---|---|---|---|---|---|---|---|---|---|---|\n",
       "| 247 | polyA RNA | oligo-dT | none | PAIRED | Oligo-dT | TRANSCRIPTOMIC SINGLE CELL | not applicable | RNA-Seq | 400 | 20 |\n",
       "| 248 | polyA RNA | oligo-dT | none | PAIRED | Oligo-dT | TRANSCRIPTOMIC SINGLE CELL | not applicable | RNA-Seq | 400 | 20 |\n",
       "| 375 | polyA RNA | oligo-dT | none | PAIRED | Oligo-dT | TRANSCRIPTOMIC SINGLE CELL | not applicable | RNA-Seq | 400 | 20 |\n",
       "| 376 | polyA RNA | oligo-dT | none | PAIRED | Oligo-dT | TRANSCRIPTOMIC SINGLE CELL | not applicable | RNA-Seq | 400 | 20 |\n",
       "| 1053 | polyA RNA | oligo-dT | none | PAIRED | Oligo-dT | TRANSCRIPTOMIC SINGLE CELL | not applicable | RNA-Seq | 400 | 20 |\n",
       "| 1054 | polyA RNA | oligo-dT | none | PAIRED | Oligo-dT | TRANSCRIPTOMIC SINGLE CELL | not applicable | RNA-Seq | 400 | 20 |\n",
       "| 1055 | polyA RNA | oligo-dT | none | PAIRED | Oligo-dT | TRANSCRIPTOMIC SINGLE CELL | not applicable | RNA-Seq | 400 | 20 |\n",
       "| 1056 | polyA RNA | oligo-dT | none | PAIRED | Oligo-dT | TRANSCRIPTOMIC SINGLE CELL | not applicable | RNA-Seq | 400 | 20 |\n",
       "| 1305 | polyA RNA | oligo-dT | none | PAIRED | Oligo-dT | TRANSCRIPTOMIC SINGLE CELL | not applicable | RNA-Seq | 400 | 20 |\n",
       "| 1306 | polyA RNA | oligo-dT | none | PAIRED | Oligo-dT | TRANSCRIPTOMIC SINGLE CELL | not applicable | RNA-Seq | 400 | 20 |\n",
       "| 1333 | polyA RNA | oligo-dT | none | PAIRED | Oligo-dT | TRANSCRIPTOMIC SINGLE CELL | not applicable | RNA-Seq | 400 | 20 |\n",
       "| 1334 | polyA RNA | oligo-dT | none | PAIRED | Oligo-dT | TRANSCRIPTOMIC SINGLE CELL | not applicable | RNA-Seq | 400 | 20 |\n",
       "| 1335 | polyA RNA | oligo-dT | none | PAIRED | Oligo-dT | TRANSCRIPTOMIC SINGLE CELL | not applicable | RNA-Seq | 400 | 20 |\n",
       "| 1336 | polyA RNA | oligo-dT | none | PAIRED | Oligo-dT | TRANSCRIPTOMIC SINGLE CELL | not applicable | RNA-Seq | 400 | 20 |\n",
       "| 1545 | polyA RNA | oligo-dT | none | PAIRED | Oligo-dT | TRANSCRIPTOMIC SINGLE CELL | not applicable | RNA-Seq | 400 | 20 |\n",
       "| 1546 | polyA RNA | oligo-dT | none | PAIRED | Oligo-dT | TRANSCRIPTOMIC SINGLE CELL | not applicable | RNA-Seq | 400 | 20 |\n",
       "| 1609 | polyA RNA | oligo-dT | none | PAIRED | Oligo-dT | TRANSCRIPTOMIC SINGLE CELL | not applicable | RNA-Seq | 400 | 20 |\n",
       "| 1610 | polyA RNA | oligo-dT | none | PAIRED | Oligo-dT | TRANSCRIPTOMIC SINGLE CELL | not applicable | RNA-Seq | 400 | 20 |\n",
       "| 2099 | polyA RNA | oligo-dT | none | PAIRED | Oligo-dT | TRANSCRIPTOMIC SINGLE CELL | not applicable | RNA-Seq | 400 | 20 |\n",
       "| 2100 | polyA RNA | oligo-dT | none | PAIRED | Oligo-dT | TRANSCRIPTOMIC SINGLE CELL | not applicable | RNA-Seq | 400 | 20 |\n",
       "\n"
      ],
      "text/plain": [
       "     Comment.input.molecule. Comment.primer. Comment.end.bias.\n",
       "247  polyA RNA               oligo-dT        none             \n",
       "248  polyA RNA               oligo-dT        none             \n",
       "375  polyA RNA               oligo-dT        none             \n",
       "376  polyA RNA               oligo-dT        none             \n",
       "1053 polyA RNA               oligo-dT        none             \n",
       "1054 polyA RNA               oligo-dT        none             \n",
       "1055 polyA RNA               oligo-dT        none             \n",
       "1056 polyA RNA               oligo-dT        none             \n",
       "1305 polyA RNA               oligo-dT        none             \n",
       "1306 polyA RNA               oligo-dT        none             \n",
       "1333 polyA RNA               oligo-dT        none             \n",
       "1334 polyA RNA               oligo-dT        none             \n",
       "1335 polyA RNA               oligo-dT        none             \n",
       "1336 polyA RNA               oligo-dT        none             \n",
       "1545 polyA RNA               oligo-dT        none             \n",
       "1546 polyA RNA               oligo-dT        none             \n",
       "1609 polyA RNA               oligo-dT        none             \n",
       "1610 polyA RNA               oligo-dT        none             \n",
       "2099 polyA RNA               oligo-dT        none             \n",
       "2100 polyA RNA               oligo-dT        none             \n",
       "     Comment.LIBRARY_LAYOUT. Comment.LIBRARY_SELECTION.\n",
       "247  PAIRED                  Oligo-dT                  \n",
       "248  PAIRED                  Oligo-dT                  \n",
       "375  PAIRED                  Oligo-dT                  \n",
       "376  PAIRED                  Oligo-dT                  \n",
       "1053 PAIRED                  Oligo-dT                  \n",
       "1054 PAIRED                  Oligo-dT                  \n",
       "1055 PAIRED                  Oligo-dT                  \n",
       "1056 PAIRED                  Oligo-dT                  \n",
       "1305 PAIRED                  Oligo-dT                  \n",
       "1306 PAIRED                  Oligo-dT                  \n",
       "1333 PAIRED                  Oligo-dT                  \n",
       "1334 PAIRED                  Oligo-dT                  \n",
       "1335 PAIRED                  Oligo-dT                  \n",
       "1336 PAIRED                  Oligo-dT                  \n",
       "1545 PAIRED                  Oligo-dT                  \n",
       "1546 PAIRED                  Oligo-dT                  \n",
       "1609 PAIRED                  Oligo-dT                  \n",
       "1610 PAIRED                  Oligo-dT                  \n",
       "2099 PAIRED                  Oligo-dT                  \n",
       "2100 PAIRED                  Oligo-dT                  \n",
       "     Comment.LIBRARY_SOURCE.    Comment.LIBRARY_STRAND.\n",
       "247  TRANSCRIPTOMIC SINGLE CELL not applicable         \n",
       "248  TRANSCRIPTOMIC SINGLE CELL not applicable         \n",
       "375  TRANSCRIPTOMIC SINGLE CELL not applicable         \n",
       "376  TRANSCRIPTOMIC SINGLE CELL not applicable         \n",
       "1053 TRANSCRIPTOMIC SINGLE CELL not applicable         \n",
       "1054 TRANSCRIPTOMIC SINGLE CELL not applicable         \n",
       "1055 TRANSCRIPTOMIC SINGLE CELL not applicable         \n",
       "1056 TRANSCRIPTOMIC SINGLE CELL not applicable         \n",
       "1305 TRANSCRIPTOMIC SINGLE CELL not applicable         \n",
       "1306 TRANSCRIPTOMIC SINGLE CELL not applicable         \n",
       "1333 TRANSCRIPTOMIC SINGLE CELL not applicable         \n",
       "1334 TRANSCRIPTOMIC SINGLE CELL not applicable         \n",
       "1335 TRANSCRIPTOMIC SINGLE CELL not applicable         \n",
       "1336 TRANSCRIPTOMIC SINGLE CELL not applicable         \n",
       "1545 TRANSCRIPTOMIC SINGLE CELL not applicable         \n",
       "1546 TRANSCRIPTOMIC SINGLE CELL not applicable         \n",
       "1609 TRANSCRIPTOMIC SINGLE CELL not applicable         \n",
       "1610 TRANSCRIPTOMIC SINGLE CELL not applicable         \n",
       "2099 TRANSCRIPTOMIC SINGLE CELL not applicable         \n",
       "2100 TRANSCRIPTOMIC SINGLE CELL not applicable         \n",
       "     Comment.LIBRARY_STRATEGY. Comment.NOMINAL_LENGTH. Comment.NOMINAL_SDEV.\n",
       "247  RNA-Seq                   400                     20                   \n",
       "248  RNA-Seq                   400                     20                   \n",
       "375  RNA-Seq                   400                     20                   \n",
       "376  RNA-Seq                   400                     20                   \n",
       "1053 RNA-Seq                   400                     20                   \n",
       "1054 RNA-Seq                   400                     20                   \n",
       "1055 RNA-Seq                   400                     20                   \n",
       "1056 RNA-Seq                   400                     20                   \n",
       "1305 RNA-Seq                   400                     20                   \n",
       "1306 RNA-Seq                   400                     20                   \n",
       "1333 RNA-Seq                   400                     20                   \n",
       "1334 RNA-Seq                   400                     20                   \n",
       "1335 RNA-Seq                   400                     20                   \n",
       "1336 RNA-Seq                   400                     20                   \n",
       "1545 RNA-Seq                   400                     20                   \n",
       "1546 RNA-Seq                   400                     20                   \n",
       "1609 RNA-Seq                   400                     20                   \n",
       "1610 RNA-Seq                   400                     20                   \n",
       "2099 RNA-Seq                   400                     20                   \n",
       "2100 RNA-Seq                   400                     20                   "
      ]
     },
     "metadata": {},
     "output_type": "display_data"
    },
    {
     "data": {
      "text/html": [
       "<table class=\"dataframe\">\n",
       "<caption>A data.frame: 20 × 15</caption>\n",
       "<thead>\n",
       "\t<tr><th></th><th scope=col>Comment.ORIENTATION.</th><th scope=col>Protocol.REF.3</th><th scope=col>Performer.3</th><th scope=col>Assay.Name</th><th scope=col>Technology.Type</th><th scope=col>Comment.ENA_EXPERIMENT.</th><th scope=col>Scan.Name</th><th scope=col>Comment.SUBMITTED_FILE_NAME.</th><th scope=col>Comment.ENA_RUN.</th><th scope=col>Comment.FASTQ_URI.</th><th scope=col>Comment.SPOT_LENGTH.</th><th scope=col>Comment.READ_INDEX_1_BASE_COORD.</th><th scope=col>Factor.Value.genotype.</th><th scope=col>Factor.Value.organism.part.</th><th scope=col>Factor.Value.single.cell.identifier.</th></tr>\n",
       "\t<tr><th></th><th scope=col>&lt;chr&gt;</th><th scope=col>&lt;chr&gt;</th><th scope=col>&lt;chr&gt;</th><th scope=col>&lt;chr&gt;</th><th scope=col>&lt;chr&gt;</th><th scope=col>&lt;chr&gt;</th><th scope=col>&lt;chr&gt;</th><th scope=col>&lt;chr&gt;</th><th scope=col>&lt;chr&gt;</th><th scope=col>&lt;chr&gt;</th><th scope=col>&lt;int&gt;</th><th scope=col>&lt;int&gt;</th><th scope=col>&lt;chr&gt;</th><th scope=col>&lt;chr&gt;</th><th scope=col>&lt;chr&gt;</th></tr>\n",
       "</thead>\n",
       "<tbody>\n",
       "\t<tr><th scope=row>247</th><td>5-3-5-3</td><td>P-MTAB-77665</td><td>Cambridge Institute Genomics Core Facility</td><td>CD4_gut_D4           </td><td>sequencing assay</td><td>ERX2737320</td><td>SLX-12114.i720_i506.HKKG2BBXX.s_1.r_1.fq.gz</td><td>SLX-12114.i720_i506.HKKG2BBXX.s_1.r_1.fq.gz</td><td>ERR2723551</td><td>ftp://ftp.sra.ebi.ac.uk/vol1/fastq/ERR272/001/ERR2723551/ERR2723551_1.fastq.gz</td><td>300</td><td>151</td><td>Tg(cd4-1:mCherry)          </td><td>gut   </td><td>CD4_gut_D4           </td></tr>\n",
       "\t<tr><th scope=row>248</th><td>5-3-5-3</td><td>P-MTAB-77665</td><td>Cambridge Institute Genomics Core Facility</td><td>CD4_gut_D4           </td><td>sequencing assay</td><td>ERX2737320</td><td>SLX-12114.i720_i506.HKKG2BBXX.s_1.r_2.fq.gz</td><td>SLX-12114.i720_i506.HKKG2BBXX.s_1.r_2.fq.gz</td><td>ERR2723551</td><td>ftp://ftp.sra.ebi.ac.uk/vol1/fastq/ERR272/001/ERR2723551/ERR2723551_2.fastq.gz</td><td>300</td><td>151</td><td>Tg(cd4-1:mCherry)          </td><td>gut   </td><td>CD4_gut_D4           </td></tr>\n",
       "\t<tr><th scope=row>375</th><td>5-3-5-3</td><td>P-MTAB-77665</td><td>Cambridge Institute Genomics Core Facility</td><td>CD4_kidney_C5        </td><td>sequencing assay</td><td>ERX2737347</td><td>SLX-10874.N705_S505.C9FTNANXX.s_4.r_1.fq.gz</td><td>SLX-10874.N705_S505.C9FTNANXX.s_4.r_1.fq.gz</td><td>ERR2723578</td><td>ftp://ftp.sra.ebi.ac.uk/vol1/fastq/ERR272/008/ERR2723578/ERR2723578_1.fastq.gz</td><td>250</td><td>126</td><td>Tg(cd4-1:mCherry)          </td><td>kidney</td><td>CD4_kidney_C5        </td></tr>\n",
       "\t<tr><th scope=row>376</th><td>5-3-5-3</td><td>P-MTAB-77665</td><td>Cambridge Institute Genomics Core Facility</td><td>CD4_kidney_C5        </td><td>sequencing assay</td><td>ERX2737347</td><td>SLX-10874.N705_S505.C9FTNANXX.s_4.r_2.fq.gz</td><td>SLX-10874.N705_S505.C9FTNANXX.s_4.r_2.fq.gz</td><td>ERR2723578</td><td>ftp://ftp.sra.ebi.ac.uk/vol1/fastq/ERR272/008/ERR2723578/ERR2723578_2.fastq.gz</td><td>250</td><td>126</td><td>Tg(cd4-1:mCherry)          </td><td>kidney</td><td>CD4_kidney_C5        </td></tr>\n",
       "\t<tr><th scope=row>1053</th><td>5-3-5-3</td><td>P-MTAB-77665</td><td>Cambridge Institute Genomics Core Facility</td><td>LCK_gut_G8           </td><td>sequencing assay</td><td>ERX2736986</td><td>SLX-12119.i710_i521.HKCTNBBXX.s_1.r_1.fq.gz</td><td>SLX-12119.i710_i521.HKCTNBBXX.s_1.r_1.fq.gz</td><td>ERR2723217</td><td>ftp://ftp.sra.ebi.ac.uk/vol1/fastq/ERR272/007/ERR2723217/ERR2723217_1.fastq.gz</td><td>300</td><td>151</td><td>Tg(lck:EGFP)               </td><td>gut   </td><td>LCK_gut_G8           </td></tr>\n",
       "\t<tr><th scope=row>1054</th><td>5-3-5-3</td><td>P-MTAB-77665</td><td>Cambridge Institute Genomics Core Facility</td><td>LCK_gut_G8           </td><td>sequencing assay</td><td>ERX2736986</td><td>SLX-12119.i710_i521.HKCTNBBXX.s_1.r_2.fq.gz</td><td>SLX-12119.i710_i521.HKCTNBBXX.s_1.r_2.fq.gz</td><td>ERR2723217</td><td>ftp://ftp.sra.ebi.ac.uk/vol1/fastq/ERR272/007/ERR2723217/ERR2723217_2.fastq.gz</td><td>300</td><td>151</td><td>Tg(lck:EGFP)               </td><td>gut   </td><td>LCK_gut_G8           </td></tr>\n",
       "\t<tr><th scope=row>1055</th><td>5-3-5-3</td><td>P-MTAB-77665</td><td>Cambridge Institute Genomics Core Facility</td><td>LCK_gut_G9           </td><td>sequencing assay</td><td>ERX2736987</td><td>SLX-12119.i711_i521.HKCTNBBXX.s_1.r_1.fq.gz</td><td>SLX-12119.i711_i521.HKCTNBBXX.s_1.r_1.fq.gz</td><td>ERR2723218</td><td>ftp://ftp.sra.ebi.ac.uk/vol1/fastq/ERR272/008/ERR2723218/ERR2723218_1.fastq.gz</td><td>300</td><td>151</td><td>Tg(lck:EGFP)               </td><td>gut   </td><td>LCK_gut_G9           </td></tr>\n",
       "\t<tr><th scope=row>1056</th><td>5-3-5-3</td><td>P-MTAB-77665</td><td>Cambridge Institute Genomics Core Facility</td><td>LCK_gut_G9           </td><td>sequencing assay</td><td>ERX2736987</td><td>SLX-12119.i711_i521.HKCTNBBXX.s_1.r_2.fq.gz</td><td>SLX-12119.i711_i521.HKCTNBBXX.s_1.r_2.fq.gz</td><td>ERR2723218</td><td>ftp://ftp.sra.ebi.ac.uk/vol1/fastq/ERR272/008/ERR2723218/ERR2723218_2.fastq.gz</td><td>300</td><td>151</td><td>Tg(lck:EGFP)               </td><td>gut   </td><td>LCK_gut_G9           </td></tr>\n",
       "\t<tr><th scope=row>1305</th><td>5-3-5-3</td><td>P-MTAB-77665</td><td>Cambridge Institute Genomics Core Facility</td><td>LCK_thymus_B2        </td><td>sequencing assay</td><td>ERX2737759</td><td>SLX-12119.i702_i503.HKCTNBBXX.s_1.r_1.fq.gz</td><td>SLX-12119.i702_i503.HKCTNBBXX.s_1.r_1.fq.gz</td><td>ERR2723990</td><td>ftp://ftp.sra.ebi.ac.uk/vol1/fastq/ERR272/000/ERR2723990/ERR2723990_1.fastq.gz</td><td>300</td><td>151</td><td>Tg(lck:EGFP)               </td><td>thymus</td><td>LCK_thymus_B2        </td></tr>\n",
       "\t<tr><th scope=row>1306</th><td>5-3-5-3</td><td>P-MTAB-77665</td><td>Cambridge Institute Genomics Core Facility</td><td>LCK_thymus_B2        </td><td>sequencing assay</td><td>ERX2737759</td><td>SLX-12119.i702_i503.HKCTNBBXX.s_1.r_2.fq.gz</td><td>SLX-12119.i702_i503.HKCTNBBXX.s_1.r_2.fq.gz</td><td>ERR2723990</td><td>ftp://ftp.sra.ebi.ac.uk/vol1/fastq/ERR272/000/ERR2723990/ERR2723990_2.fastq.gz</td><td>300</td><td>151</td><td>Tg(lck:EGFP)               </td><td>thymus</td><td>LCK_thymus_B2        </td></tr>\n",
       "\t<tr><th scope=row>1333</th><td>5-3-5-3</td><td>P-MTAB-77665</td><td>Cambridge Institute Genomics Core Facility</td><td>LCK_thymus_C4        </td><td>sequencing assay</td><td>ERX2737005</td><td>SLX-12119.i704_i505.HKCTNBBXX.s_1.r_1.fq.gz</td><td>SLX-12119.i704_i505.HKCTNBBXX.s_1.r_1.fq.gz</td><td>ERR2723236</td><td>ftp://ftp.sra.ebi.ac.uk/vol1/fastq/ERR272/006/ERR2723236/ERR2723236_1.fastq.gz</td><td>300</td><td>151</td><td>Tg(lck:EGFP)               </td><td>thymus</td><td>LCK_thymus_C4        </td></tr>\n",
       "\t<tr><th scope=row>1334</th><td>5-3-5-3</td><td>P-MTAB-77665</td><td>Cambridge Institute Genomics Core Facility</td><td>LCK_thymus_C4        </td><td>sequencing assay</td><td>ERX2737005</td><td>SLX-12119.i704_i505.HKCTNBBXX.s_1.r_2.fq.gz</td><td>SLX-12119.i704_i505.HKCTNBBXX.s_1.r_2.fq.gz</td><td>ERR2723236</td><td>ftp://ftp.sra.ebi.ac.uk/vol1/fastq/ERR272/006/ERR2723236/ERR2723236_2.fastq.gz</td><td>300</td><td>151</td><td>Tg(lck:EGFP)               </td><td>thymus</td><td>LCK_thymus_C4        </td></tr>\n",
       "\t<tr><th scope=row>1335</th><td>5-3-5-3</td><td>P-MTAB-77665</td><td>Cambridge Institute Genomics Core Facility</td><td>LCK_thymus_C5        </td><td>sequencing assay</td><td>ERX2737006</td><td>SLX-12119.i705_i505.HKCTNBBXX.s_1.r_1.fq.gz</td><td>SLX-12119.i705_i505.HKCTNBBXX.s_1.r_1.fq.gz</td><td>ERR2723237</td><td>ftp://ftp.sra.ebi.ac.uk/vol1/fastq/ERR272/007/ERR2723237/ERR2723237_1.fastq.gz</td><td>300</td><td>151</td><td>Tg(lck:EGFP)               </td><td>thymus</td><td>LCK_thymus_C5        </td></tr>\n",
       "\t<tr><th scope=row>1336</th><td>5-3-5-3</td><td>P-MTAB-77665</td><td>Cambridge Institute Genomics Core Facility</td><td>LCK_thymus_C5        </td><td>sequencing assay</td><td>ERX2737006</td><td>SLX-12119.i705_i505.HKCTNBBXX.s_1.r_2.fq.gz</td><td>SLX-12119.i705_i505.HKCTNBBXX.s_1.r_2.fq.gz</td><td>ERR2723237</td><td>ftp://ftp.sra.ebi.ac.uk/vol1/fastq/ERR272/007/ERR2723237/ERR2723237_2.fastq.gz</td><td>300</td><td>151</td><td>Tg(lck:EGFP)               </td><td>thymus</td><td>LCK_thymus_C5        </td></tr>\n",
       "\t<tr><th scope=row>1545</th><td>5-3-5-3</td><td>P-MTAB-77665</td><td>Cambridge Institute Genomics Core Facility</td><td>mhc2dab_kidney_pl2_A2</td><td>sequencing assay</td><td>ERX2737558</td><td>SLX-12114.i702_i513.HKKG2BBXX.s_1.r_1.fq.gz</td><td>SLX-12114.i702_i513.HKKG2BBXX.s_1.r_1.fq.gz</td><td>ERR2723789</td><td>ftp://ftp.sra.ebi.ac.uk/vol1/fastq/ERR272/009/ERR2723789/ERR2723789_1.fastq.gz</td><td>300</td><td>151</td><td>Tg(mhc2dab:GFP, cd45:dsRed)</td><td>kidney</td><td>mhc2dab_kidney_pl2_A2</td></tr>\n",
       "\t<tr><th scope=row>1546</th><td>5-3-5-3</td><td>P-MTAB-77665</td><td>Cambridge Institute Genomics Core Facility</td><td>mhc2dab_kidney_pl2_A2</td><td>sequencing assay</td><td>ERX2737558</td><td>SLX-12114.i702_i513.HKKG2BBXX.s_1.r_2.fq.gz</td><td>SLX-12114.i702_i513.HKKG2BBXX.s_1.r_2.fq.gz</td><td>ERR2723789</td><td>ftp://ftp.sra.ebi.ac.uk/vol1/fastq/ERR272/009/ERR2723789/ERR2723789_2.fastq.gz</td><td>300</td><td>151</td><td>Tg(mhc2dab:GFP, cd45:dsRed)</td><td>kidney</td><td>mhc2dab_kidney_pl2_A2</td></tr>\n",
       "\t<tr><th scope=row>1609</th><td>5-3-5-3</td><td>P-MTAB-77665</td><td>Cambridge Institute Genomics Core Facility</td><td>mhc2dab_kidney_pl2_D1</td><td>sequencing assay</td><td>ERX2737563</td><td>SLX-12114.i701_i517.HKKG2BBXX.s_1.r_1.fq.gz</td><td>SLX-12114.i701_i517.HKKG2BBXX.s_1.r_1.fq.gz</td><td>ERR2723794</td><td>ftp://ftp.sra.ebi.ac.uk/vol1/fastq/ERR272/004/ERR2723794/ERR2723794_1.fastq.gz</td><td>300</td><td>151</td><td>Tg(mhc2dab:GFP, cd45:dsRed)</td><td>kidney</td><td>mhc2dab_kidney_pl2_D1</td></tr>\n",
       "\t<tr><th scope=row>1610</th><td>5-3-5-3</td><td>P-MTAB-77665</td><td>Cambridge Institute Genomics Core Facility</td><td>mhc2dab_kidney_pl2_D1</td><td>sequencing assay</td><td>ERX2737563</td><td>SLX-12114.i701_i517.HKKG2BBXX.s_1.r_2.fq.gz</td><td>SLX-12114.i701_i517.HKKG2BBXX.s_1.r_2.fq.gz</td><td>ERR2723794</td><td>ftp://ftp.sra.ebi.ac.uk/vol1/fastq/ERR272/004/ERR2723794/ERR2723794_2.fastq.gz</td><td>300</td><td>151</td><td>Tg(mhc2dab:GFP, cd45:dsRed)</td><td>kidney</td><td>mhc2dab_kidney_pl2_D1</td></tr>\n",
       "\t<tr><th scope=row>2099</th><td>5-3-5-3</td><td>P-MTAB-77665</td><td>Cambridge Institute Genomics Core Facility</td><td>Rag1_kidney_H3       </td><td>sequencing assay</td><td>ERX2737743</td><td>SLX-12114.i719_i522.HKKG2BBXX.s_1.r_1.fq.gz</td><td>SLX-12114.i719_i522.HKKG2BBXX.s_1.r_1.fq.gz</td><td>ERR2723974</td><td>ftp://ftp.sra.ebi.ac.uk/vol1/fastq/ERR272/004/ERR2723974/ERR2723974_1.fastq.gz</td><td>300</td><td>151</td><td>Tg(lck:EGFP); Rag1 -/-     </td><td>kidney</td><td>Rag1_kidney_H3       </td></tr>\n",
       "\t<tr><th scope=row>2100</th><td>5-3-5-3</td><td>P-MTAB-77665</td><td>Cambridge Institute Genomics Core Facility</td><td>Rag1_kidney_H3       </td><td>sequencing assay</td><td>ERX2737743</td><td>SLX-12114.i719_i522.HKKG2BBXX.s_1.r_2.fq.gz</td><td>SLX-12114.i719_i522.HKKG2BBXX.s_1.r_2.fq.gz</td><td>ERR2723974</td><td>ftp://ftp.sra.ebi.ac.uk/vol1/fastq/ERR272/004/ERR2723974/ERR2723974_2.fastq.gz</td><td>300</td><td>151</td><td>Tg(lck:EGFP); Rag1 -/-     </td><td>kidney</td><td>Rag1_kidney_H3       </td></tr>\n",
       "</tbody>\n",
       "</table>\n"
      ],
      "text/latex": [
       "A data.frame: 20 × 15\n",
       "\\begin{tabular}{r|lllllllllllllll}\n",
       "  & Comment.ORIENTATION. & Protocol.REF.3 & Performer.3 & Assay.Name & Technology.Type & Comment.ENA\\_EXPERIMENT. & Scan.Name & Comment.SUBMITTED\\_FILE\\_NAME. & Comment.ENA\\_RUN. & Comment.FASTQ\\_URI. & Comment.SPOT\\_LENGTH. & Comment.READ\\_INDEX\\_1\\_BASE\\_COORD. & Factor.Value.genotype. & Factor.Value.organism.part. & Factor.Value.single.cell.identifier.\\\\\n",
       "  & <chr> & <chr> & <chr> & <chr> & <chr> & <chr> & <chr> & <chr> & <chr> & <chr> & <int> & <int> & <chr> & <chr> & <chr>\\\\\n",
       "\\hline\n",
       "\t247 & 5-3-5-3 & P-MTAB-77665 & Cambridge Institute Genomics Core Facility & CD4\\_gut\\_D4            & sequencing assay & ERX2737320 & SLX-12114.i720\\_i506.HKKG2BBXX.s\\_1.r\\_1.fq.gz & SLX-12114.i720\\_i506.HKKG2BBXX.s\\_1.r\\_1.fq.gz & ERR2723551 & ftp://ftp.sra.ebi.ac.uk/vol1/fastq/ERR272/001/ERR2723551/ERR2723551\\_1.fastq.gz & 300 & 151 & Tg(cd4-1:mCherry)           & gut    & CD4\\_gut\\_D4           \\\\\n",
       "\t248 & 5-3-5-3 & P-MTAB-77665 & Cambridge Institute Genomics Core Facility & CD4\\_gut\\_D4            & sequencing assay & ERX2737320 & SLX-12114.i720\\_i506.HKKG2BBXX.s\\_1.r\\_2.fq.gz & SLX-12114.i720\\_i506.HKKG2BBXX.s\\_1.r\\_2.fq.gz & ERR2723551 & ftp://ftp.sra.ebi.ac.uk/vol1/fastq/ERR272/001/ERR2723551/ERR2723551\\_2.fastq.gz & 300 & 151 & Tg(cd4-1:mCherry)           & gut    & CD4\\_gut\\_D4           \\\\\n",
       "\t375 & 5-3-5-3 & P-MTAB-77665 & Cambridge Institute Genomics Core Facility & CD4\\_kidney\\_C5         & sequencing assay & ERX2737347 & SLX-10874.N705\\_S505.C9FTNANXX.s\\_4.r\\_1.fq.gz & SLX-10874.N705\\_S505.C9FTNANXX.s\\_4.r\\_1.fq.gz & ERR2723578 & ftp://ftp.sra.ebi.ac.uk/vol1/fastq/ERR272/008/ERR2723578/ERR2723578\\_1.fastq.gz & 250 & 126 & Tg(cd4-1:mCherry)           & kidney & CD4\\_kidney\\_C5        \\\\\n",
       "\t376 & 5-3-5-3 & P-MTAB-77665 & Cambridge Institute Genomics Core Facility & CD4\\_kidney\\_C5         & sequencing assay & ERX2737347 & SLX-10874.N705\\_S505.C9FTNANXX.s\\_4.r\\_2.fq.gz & SLX-10874.N705\\_S505.C9FTNANXX.s\\_4.r\\_2.fq.gz & ERR2723578 & ftp://ftp.sra.ebi.ac.uk/vol1/fastq/ERR272/008/ERR2723578/ERR2723578\\_2.fastq.gz & 250 & 126 & Tg(cd4-1:mCherry)           & kidney & CD4\\_kidney\\_C5        \\\\\n",
       "\t1053 & 5-3-5-3 & P-MTAB-77665 & Cambridge Institute Genomics Core Facility & LCK\\_gut\\_G8            & sequencing assay & ERX2736986 & SLX-12119.i710\\_i521.HKCTNBBXX.s\\_1.r\\_1.fq.gz & SLX-12119.i710\\_i521.HKCTNBBXX.s\\_1.r\\_1.fq.gz & ERR2723217 & ftp://ftp.sra.ebi.ac.uk/vol1/fastq/ERR272/007/ERR2723217/ERR2723217\\_1.fastq.gz & 300 & 151 & Tg(lck:EGFP)                & gut    & LCK\\_gut\\_G8           \\\\\n",
       "\t1054 & 5-3-5-3 & P-MTAB-77665 & Cambridge Institute Genomics Core Facility & LCK\\_gut\\_G8            & sequencing assay & ERX2736986 & SLX-12119.i710\\_i521.HKCTNBBXX.s\\_1.r\\_2.fq.gz & SLX-12119.i710\\_i521.HKCTNBBXX.s\\_1.r\\_2.fq.gz & ERR2723217 & ftp://ftp.sra.ebi.ac.uk/vol1/fastq/ERR272/007/ERR2723217/ERR2723217\\_2.fastq.gz & 300 & 151 & Tg(lck:EGFP)                & gut    & LCK\\_gut\\_G8           \\\\\n",
       "\t1055 & 5-3-5-3 & P-MTAB-77665 & Cambridge Institute Genomics Core Facility & LCK\\_gut\\_G9            & sequencing assay & ERX2736987 & SLX-12119.i711\\_i521.HKCTNBBXX.s\\_1.r\\_1.fq.gz & SLX-12119.i711\\_i521.HKCTNBBXX.s\\_1.r\\_1.fq.gz & ERR2723218 & ftp://ftp.sra.ebi.ac.uk/vol1/fastq/ERR272/008/ERR2723218/ERR2723218\\_1.fastq.gz & 300 & 151 & Tg(lck:EGFP)                & gut    & LCK\\_gut\\_G9           \\\\\n",
       "\t1056 & 5-3-5-3 & P-MTAB-77665 & Cambridge Institute Genomics Core Facility & LCK\\_gut\\_G9            & sequencing assay & ERX2736987 & SLX-12119.i711\\_i521.HKCTNBBXX.s\\_1.r\\_2.fq.gz & SLX-12119.i711\\_i521.HKCTNBBXX.s\\_1.r\\_2.fq.gz & ERR2723218 & ftp://ftp.sra.ebi.ac.uk/vol1/fastq/ERR272/008/ERR2723218/ERR2723218\\_2.fastq.gz & 300 & 151 & Tg(lck:EGFP)                & gut    & LCK\\_gut\\_G9           \\\\\n",
       "\t1305 & 5-3-5-3 & P-MTAB-77665 & Cambridge Institute Genomics Core Facility & LCK\\_thymus\\_B2         & sequencing assay & ERX2737759 & SLX-12119.i702\\_i503.HKCTNBBXX.s\\_1.r\\_1.fq.gz & SLX-12119.i702\\_i503.HKCTNBBXX.s\\_1.r\\_1.fq.gz & ERR2723990 & ftp://ftp.sra.ebi.ac.uk/vol1/fastq/ERR272/000/ERR2723990/ERR2723990\\_1.fastq.gz & 300 & 151 & Tg(lck:EGFP)                & thymus & LCK\\_thymus\\_B2        \\\\\n",
       "\t1306 & 5-3-5-3 & P-MTAB-77665 & Cambridge Institute Genomics Core Facility & LCK\\_thymus\\_B2         & sequencing assay & ERX2737759 & SLX-12119.i702\\_i503.HKCTNBBXX.s\\_1.r\\_2.fq.gz & SLX-12119.i702\\_i503.HKCTNBBXX.s\\_1.r\\_2.fq.gz & ERR2723990 & ftp://ftp.sra.ebi.ac.uk/vol1/fastq/ERR272/000/ERR2723990/ERR2723990\\_2.fastq.gz & 300 & 151 & Tg(lck:EGFP)                & thymus & LCK\\_thymus\\_B2        \\\\\n",
       "\t1333 & 5-3-5-3 & P-MTAB-77665 & Cambridge Institute Genomics Core Facility & LCK\\_thymus\\_C4         & sequencing assay & ERX2737005 & SLX-12119.i704\\_i505.HKCTNBBXX.s\\_1.r\\_1.fq.gz & SLX-12119.i704\\_i505.HKCTNBBXX.s\\_1.r\\_1.fq.gz & ERR2723236 & ftp://ftp.sra.ebi.ac.uk/vol1/fastq/ERR272/006/ERR2723236/ERR2723236\\_1.fastq.gz & 300 & 151 & Tg(lck:EGFP)                & thymus & LCK\\_thymus\\_C4        \\\\\n",
       "\t1334 & 5-3-5-3 & P-MTAB-77665 & Cambridge Institute Genomics Core Facility & LCK\\_thymus\\_C4         & sequencing assay & ERX2737005 & SLX-12119.i704\\_i505.HKCTNBBXX.s\\_1.r\\_2.fq.gz & SLX-12119.i704\\_i505.HKCTNBBXX.s\\_1.r\\_2.fq.gz & ERR2723236 & ftp://ftp.sra.ebi.ac.uk/vol1/fastq/ERR272/006/ERR2723236/ERR2723236\\_2.fastq.gz & 300 & 151 & Tg(lck:EGFP)                & thymus & LCK\\_thymus\\_C4        \\\\\n",
       "\t1335 & 5-3-5-3 & P-MTAB-77665 & Cambridge Institute Genomics Core Facility & LCK\\_thymus\\_C5         & sequencing assay & ERX2737006 & SLX-12119.i705\\_i505.HKCTNBBXX.s\\_1.r\\_1.fq.gz & SLX-12119.i705\\_i505.HKCTNBBXX.s\\_1.r\\_1.fq.gz & ERR2723237 & ftp://ftp.sra.ebi.ac.uk/vol1/fastq/ERR272/007/ERR2723237/ERR2723237\\_1.fastq.gz & 300 & 151 & Tg(lck:EGFP)                & thymus & LCK\\_thymus\\_C5        \\\\\n",
       "\t1336 & 5-3-5-3 & P-MTAB-77665 & Cambridge Institute Genomics Core Facility & LCK\\_thymus\\_C5         & sequencing assay & ERX2737006 & SLX-12119.i705\\_i505.HKCTNBBXX.s\\_1.r\\_2.fq.gz & SLX-12119.i705\\_i505.HKCTNBBXX.s\\_1.r\\_2.fq.gz & ERR2723237 & ftp://ftp.sra.ebi.ac.uk/vol1/fastq/ERR272/007/ERR2723237/ERR2723237\\_2.fastq.gz & 300 & 151 & Tg(lck:EGFP)                & thymus & LCK\\_thymus\\_C5        \\\\\n",
       "\t1545 & 5-3-5-3 & P-MTAB-77665 & Cambridge Institute Genomics Core Facility & mhc2dab\\_kidney\\_pl2\\_A2 & sequencing assay & ERX2737558 & SLX-12114.i702\\_i513.HKKG2BBXX.s\\_1.r\\_1.fq.gz & SLX-12114.i702\\_i513.HKKG2BBXX.s\\_1.r\\_1.fq.gz & ERR2723789 & ftp://ftp.sra.ebi.ac.uk/vol1/fastq/ERR272/009/ERR2723789/ERR2723789\\_1.fastq.gz & 300 & 151 & Tg(mhc2dab:GFP, cd45:dsRed) & kidney & mhc2dab\\_kidney\\_pl2\\_A2\\\\\n",
       "\t1546 & 5-3-5-3 & P-MTAB-77665 & Cambridge Institute Genomics Core Facility & mhc2dab\\_kidney\\_pl2\\_A2 & sequencing assay & ERX2737558 & SLX-12114.i702\\_i513.HKKG2BBXX.s\\_1.r\\_2.fq.gz & SLX-12114.i702\\_i513.HKKG2BBXX.s\\_1.r\\_2.fq.gz & ERR2723789 & ftp://ftp.sra.ebi.ac.uk/vol1/fastq/ERR272/009/ERR2723789/ERR2723789\\_2.fastq.gz & 300 & 151 & Tg(mhc2dab:GFP, cd45:dsRed) & kidney & mhc2dab\\_kidney\\_pl2\\_A2\\\\\n",
       "\t1609 & 5-3-5-3 & P-MTAB-77665 & Cambridge Institute Genomics Core Facility & mhc2dab\\_kidney\\_pl2\\_D1 & sequencing assay & ERX2737563 & SLX-12114.i701\\_i517.HKKG2BBXX.s\\_1.r\\_1.fq.gz & SLX-12114.i701\\_i517.HKKG2BBXX.s\\_1.r\\_1.fq.gz & ERR2723794 & ftp://ftp.sra.ebi.ac.uk/vol1/fastq/ERR272/004/ERR2723794/ERR2723794\\_1.fastq.gz & 300 & 151 & Tg(mhc2dab:GFP, cd45:dsRed) & kidney & mhc2dab\\_kidney\\_pl2\\_D1\\\\\n",
       "\t1610 & 5-3-5-3 & P-MTAB-77665 & Cambridge Institute Genomics Core Facility & mhc2dab\\_kidney\\_pl2\\_D1 & sequencing assay & ERX2737563 & SLX-12114.i701\\_i517.HKKG2BBXX.s\\_1.r\\_2.fq.gz & SLX-12114.i701\\_i517.HKKG2BBXX.s\\_1.r\\_2.fq.gz & ERR2723794 & ftp://ftp.sra.ebi.ac.uk/vol1/fastq/ERR272/004/ERR2723794/ERR2723794\\_2.fastq.gz & 300 & 151 & Tg(mhc2dab:GFP, cd45:dsRed) & kidney & mhc2dab\\_kidney\\_pl2\\_D1\\\\\n",
       "\t2099 & 5-3-5-3 & P-MTAB-77665 & Cambridge Institute Genomics Core Facility & Rag1\\_kidney\\_H3        & sequencing assay & ERX2737743 & SLX-12114.i719\\_i522.HKKG2BBXX.s\\_1.r\\_1.fq.gz & SLX-12114.i719\\_i522.HKKG2BBXX.s\\_1.r\\_1.fq.gz & ERR2723974 & ftp://ftp.sra.ebi.ac.uk/vol1/fastq/ERR272/004/ERR2723974/ERR2723974\\_1.fastq.gz & 300 & 151 & Tg(lck:EGFP); Rag1 -/-      & kidney & Rag1\\_kidney\\_H3       \\\\\n",
       "\t2100 & 5-3-5-3 & P-MTAB-77665 & Cambridge Institute Genomics Core Facility & Rag1\\_kidney\\_H3        & sequencing assay & ERX2737743 & SLX-12114.i719\\_i522.HKKG2BBXX.s\\_1.r\\_2.fq.gz & SLX-12114.i719\\_i522.HKKG2BBXX.s\\_1.r\\_2.fq.gz & ERR2723974 & ftp://ftp.sra.ebi.ac.uk/vol1/fastq/ERR272/004/ERR2723974/ERR2723974\\_2.fastq.gz & 300 & 151 & Tg(lck:EGFP); Rag1 -/-      & kidney & Rag1\\_kidney\\_H3       \\\\\n",
       "\\end{tabular}\n"
      ],
      "text/markdown": [
       "\n",
       "A data.frame: 20 × 15\n",
       "\n",
       "| <!--/--> | Comment.ORIENTATION. &lt;chr&gt; | Protocol.REF.3 &lt;chr&gt; | Performer.3 &lt;chr&gt; | Assay.Name &lt;chr&gt; | Technology.Type &lt;chr&gt; | Comment.ENA_EXPERIMENT. &lt;chr&gt; | Scan.Name &lt;chr&gt; | Comment.SUBMITTED_FILE_NAME. &lt;chr&gt; | Comment.ENA_RUN. &lt;chr&gt; | Comment.FASTQ_URI. &lt;chr&gt; | Comment.SPOT_LENGTH. &lt;int&gt; | Comment.READ_INDEX_1_BASE_COORD. &lt;int&gt; | Factor.Value.genotype. &lt;chr&gt; | Factor.Value.organism.part. &lt;chr&gt; | Factor.Value.single.cell.identifier. &lt;chr&gt; |\n",
       "|---|---|---|---|---|---|---|---|---|---|---|---|---|---|---|---|\n",
       "| 247 | 5-3-5-3 | P-MTAB-77665 | Cambridge Institute Genomics Core Facility | CD4_gut_D4            | sequencing assay | ERX2737320 | SLX-12114.i720_i506.HKKG2BBXX.s_1.r_1.fq.gz | SLX-12114.i720_i506.HKKG2BBXX.s_1.r_1.fq.gz | ERR2723551 | ftp://ftp.sra.ebi.ac.uk/vol1/fastq/ERR272/001/ERR2723551/ERR2723551_1.fastq.gz | 300 | 151 | Tg(cd4-1:mCherry)           | gut    | CD4_gut_D4            |\n",
       "| 248 | 5-3-5-3 | P-MTAB-77665 | Cambridge Institute Genomics Core Facility | CD4_gut_D4            | sequencing assay | ERX2737320 | SLX-12114.i720_i506.HKKG2BBXX.s_1.r_2.fq.gz | SLX-12114.i720_i506.HKKG2BBXX.s_1.r_2.fq.gz | ERR2723551 | ftp://ftp.sra.ebi.ac.uk/vol1/fastq/ERR272/001/ERR2723551/ERR2723551_2.fastq.gz | 300 | 151 | Tg(cd4-1:mCherry)           | gut    | CD4_gut_D4            |\n",
       "| 375 | 5-3-5-3 | P-MTAB-77665 | Cambridge Institute Genomics Core Facility | CD4_kidney_C5         | sequencing assay | ERX2737347 | SLX-10874.N705_S505.C9FTNANXX.s_4.r_1.fq.gz | SLX-10874.N705_S505.C9FTNANXX.s_4.r_1.fq.gz | ERR2723578 | ftp://ftp.sra.ebi.ac.uk/vol1/fastq/ERR272/008/ERR2723578/ERR2723578_1.fastq.gz | 250 | 126 | Tg(cd4-1:mCherry)           | kidney | CD4_kidney_C5         |\n",
       "| 376 | 5-3-5-3 | P-MTAB-77665 | Cambridge Institute Genomics Core Facility | CD4_kidney_C5         | sequencing assay | ERX2737347 | SLX-10874.N705_S505.C9FTNANXX.s_4.r_2.fq.gz | SLX-10874.N705_S505.C9FTNANXX.s_4.r_2.fq.gz | ERR2723578 | ftp://ftp.sra.ebi.ac.uk/vol1/fastq/ERR272/008/ERR2723578/ERR2723578_2.fastq.gz | 250 | 126 | Tg(cd4-1:mCherry)           | kidney | CD4_kidney_C5         |\n",
       "| 1053 | 5-3-5-3 | P-MTAB-77665 | Cambridge Institute Genomics Core Facility | LCK_gut_G8            | sequencing assay | ERX2736986 | SLX-12119.i710_i521.HKCTNBBXX.s_1.r_1.fq.gz | SLX-12119.i710_i521.HKCTNBBXX.s_1.r_1.fq.gz | ERR2723217 | ftp://ftp.sra.ebi.ac.uk/vol1/fastq/ERR272/007/ERR2723217/ERR2723217_1.fastq.gz | 300 | 151 | Tg(lck:EGFP)                | gut    | LCK_gut_G8            |\n",
       "| 1054 | 5-3-5-3 | P-MTAB-77665 | Cambridge Institute Genomics Core Facility | LCK_gut_G8            | sequencing assay | ERX2736986 | SLX-12119.i710_i521.HKCTNBBXX.s_1.r_2.fq.gz | SLX-12119.i710_i521.HKCTNBBXX.s_1.r_2.fq.gz | ERR2723217 | ftp://ftp.sra.ebi.ac.uk/vol1/fastq/ERR272/007/ERR2723217/ERR2723217_2.fastq.gz | 300 | 151 | Tg(lck:EGFP)                | gut    | LCK_gut_G8            |\n",
       "| 1055 | 5-3-5-3 | P-MTAB-77665 | Cambridge Institute Genomics Core Facility | LCK_gut_G9            | sequencing assay | ERX2736987 | SLX-12119.i711_i521.HKCTNBBXX.s_1.r_1.fq.gz | SLX-12119.i711_i521.HKCTNBBXX.s_1.r_1.fq.gz | ERR2723218 | ftp://ftp.sra.ebi.ac.uk/vol1/fastq/ERR272/008/ERR2723218/ERR2723218_1.fastq.gz | 300 | 151 | Tg(lck:EGFP)                | gut    | LCK_gut_G9            |\n",
       "| 1056 | 5-3-5-3 | P-MTAB-77665 | Cambridge Institute Genomics Core Facility | LCK_gut_G9            | sequencing assay | ERX2736987 | SLX-12119.i711_i521.HKCTNBBXX.s_1.r_2.fq.gz | SLX-12119.i711_i521.HKCTNBBXX.s_1.r_2.fq.gz | ERR2723218 | ftp://ftp.sra.ebi.ac.uk/vol1/fastq/ERR272/008/ERR2723218/ERR2723218_2.fastq.gz | 300 | 151 | Tg(lck:EGFP)                | gut    | LCK_gut_G9            |\n",
       "| 1305 | 5-3-5-3 | P-MTAB-77665 | Cambridge Institute Genomics Core Facility | LCK_thymus_B2         | sequencing assay | ERX2737759 | SLX-12119.i702_i503.HKCTNBBXX.s_1.r_1.fq.gz | SLX-12119.i702_i503.HKCTNBBXX.s_1.r_1.fq.gz | ERR2723990 | ftp://ftp.sra.ebi.ac.uk/vol1/fastq/ERR272/000/ERR2723990/ERR2723990_1.fastq.gz | 300 | 151 | Tg(lck:EGFP)                | thymus | LCK_thymus_B2         |\n",
       "| 1306 | 5-3-5-3 | P-MTAB-77665 | Cambridge Institute Genomics Core Facility | LCK_thymus_B2         | sequencing assay | ERX2737759 | SLX-12119.i702_i503.HKCTNBBXX.s_1.r_2.fq.gz | SLX-12119.i702_i503.HKCTNBBXX.s_1.r_2.fq.gz | ERR2723990 | ftp://ftp.sra.ebi.ac.uk/vol1/fastq/ERR272/000/ERR2723990/ERR2723990_2.fastq.gz | 300 | 151 | Tg(lck:EGFP)                | thymus | LCK_thymus_B2         |\n",
       "| 1333 | 5-3-5-3 | P-MTAB-77665 | Cambridge Institute Genomics Core Facility | LCK_thymus_C4         | sequencing assay | ERX2737005 | SLX-12119.i704_i505.HKCTNBBXX.s_1.r_1.fq.gz | SLX-12119.i704_i505.HKCTNBBXX.s_1.r_1.fq.gz | ERR2723236 | ftp://ftp.sra.ebi.ac.uk/vol1/fastq/ERR272/006/ERR2723236/ERR2723236_1.fastq.gz | 300 | 151 | Tg(lck:EGFP)                | thymus | LCK_thymus_C4         |\n",
       "| 1334 | 5-3-5-3 | P-MTAB-77665 | Cambridge Institute Genomics Core Facility | LCK_thymus_C4         | sequencing assay | ERX2737005 | SLX-12119.i704_i505.HKCTNBBXX.s_1.r_2.fq.gz | SLX-12119.i704_i505.HKCTNBBXX.s_1.r_2.fq.gz | ERR2723236 | ftp://ftp.sra.ebi.ac.uk/vol1/fastq/ERR272/006/ERR2723236/ERR2723236_2.fastq.gz | 300 | 151 | Tg(lck:EGFP)                | thymus | LCK_thymus_C4         |\n",
       "| 1335 | 5-3-5-3 | P-MTAB-77665 | Cambridge Institute Genomics Core Facility | LCK_thymus_C5         | sequencing assay | ERX2737006 | SLX-12119.i705_i505.HKCTNBBXX.s_1.r_1.fq.gz | SLX-12119.i705_i505.HKCTNBBXX.s_1.r_1.fq.gz | ERR2723237 | ftp://ftp.sra.ebi.ac.uk/vol1/fastq/ERR272/007/ERR2723237/ERR2723237_1.fastq.gz | 300 | 151 | Tg(lck:EGFP)                | thymus | LCK_thymus_C5         |\n",
       "| 1336 | 5-3-5-3 | P-MTAB-77665 | Cambridge Institute Genomics Core Facility | LCK_thymus_C5         | sequencing assay | ERX2737006 | SLX-12119.i705_i505.HKCTNBBXX.s_1.r_2.fq.gz | SLX-12119.i705_i505.HKCTNBBXX.s_1.r_2.fq.gz | ERR2723237 | ftp://ftp.sra.ebi.ac.uk/vol1/fastq/ERR272/007/ERR2723237/ERR2723237_2.fastq.gz | 300 | 151 | Tg(lck:EGFP)                | thymus | LCK_thymus_C5         |\n",
       "| 1545 | 5-3-5-3 | P-MTAB-77665 | Cambridge Institute Genomics Core Facility | mhc2dab_kidney_pl2_A2 | sequencing assay | ERX2737558 | SLX-12114.i702_i513.HKKG2BBXX.s_1.r_1.fq.gz | SLX-12114.i702_i513.HKKG2BBXX.s_1.r_1.fq.gz | ERR2723789 | ftp://ftp.sra.ebi.ac.uk/vol1/fastq/ERR272/009/ERR2723789/ERR2723789_1.fastq.gz | 300 | 151 | Tg(mhc2dab:GFP, cd45:dsRed) | kidney | mhc2dab_kidney_pl2_A2 |\n",
       "| 1546 | 5-3-5-3 | P-MTAB-77665 | Cambridge Institute Genomics Core Facility | mhc2dab_kidney_pl2_A2 | sequencing assay | ERX2737558 | SLX-12114.i702_i513.HKKG2BBXX.s_1.r_2.fq.gz | SLX-12114.i702_i513.HKKG2BBXX.s_1.r_2.fq.gz | ERR2723789 | ftp://ftp.sra.ebi.ac.uk/vol1/fastq/ERR272/009/ERR2723789/ERR2723789_2.fastq.gz | 300 | 151 | Tg(mhc2dab:GFP, cd45:dsRed) | kidney | mhc2dab_kidney_pl2_A2 |\n",
       "| 1609 | 5-3-5-3 | P-MTAB-77665 | Cambridge Institute Genomics Core Facility | mhc2dab_kidney_pl2_D1 | sequencing assay | ERX2737563 | SLX-12114.i701_i517.HKKG2BBXX.s_1.r_1.fq.gz | SLX-12114.i701_i517.HKKG2BBXX.s_1.r_1.fq.gz | ERR2723794 | ftp://ftp.sra.ebi.ac.uk/vol1/fastq/ERR272/004/ERR2723794/ERR2723794_1.fastq.gz | 300 | 151 | Tg(mhc2dab:GFP, cd45:dsRed) | kidney | mhc2dab_kidney_pl2_D1 |\n",
       "| 1610 | 5-3-5-3 | P-MTAB-77665 | Cambridge Institute Genomics Core Facility | mhc2dab_kidney_pl2_D1 | sequencing assay | ERX2737563 | SLX-12114.i701_i517.HKKG2BBXX.s_1.r_2.fq.gz | SLX-12114.i701_i517.HKKG2BBXX.s_1.r_2.fq.gz | ERR2723794 | ftp://ftp.sra.ebi.ac.uk/vol1/fastq/ERR272/004/ERR2723794/ERR2723794_2.fastq.gz | 300 | 151 | Tg(mhc2dab:GFP, cd45:dsRed) | kidney | mhc2dab_kidney_pl2_D1 |\n",
       "| 2099 | 5-3-5-3 | P-MTAB-77665 | Cambridge Institute Genomics Core Facility | Rag1_kidney_H3        | sequencing assay | ERX2737743 | SLX-12114.i719_i522.HKKG2BBXX.s_1.r_1.fq.gz | SLX-12114.i719_i522.HKKG2BBXX.s_1.r_1.fq.gz | ERR2723974 | ftp://ftp.sra.ebi.ac.uk/vol1/fastq/ERR272/004/ERR2723974/ERR2723974_1.fastq.gz | 300 | 151 | Tg(lck:EGFP); Rag1 -/-      | kidney | Rag1_kidney_H3        |\n",
       "| 2100 | 5-3-5-3 | P-MTAB-77665 | Cambridge Institute Genomics Core Facility | Rag1_kidney_H3        | sequencing assay | ERX2737743 | SLX-12114.i719_i522.HKKG2BBXX.s_1.r_2.fq.gz | SLX-12114.i719_i522.HKKG2BBXX.s_1.r_2.fq.gz | ERR2723974 | ftp://ftp.sra.ebi.ac.uk/vol1/fastq/ERR272/004/ERR2723974/ERR2723974_2.fastq.gz | 300 | 151 | Tg(lck:EGFP); Rag1 -/-      | kidney | Rag1_kidney_H3        |\n",
       "\n"
      ],
      "text/plain": [
       "     Comment.ORIENTATION. Protocol.REF.3\n",
       "247  5-3-5-3              P-MTAB-77665  \n",
       "248  5-3-5-3              P-MTAB-77665  \n",
       "375  5-3-5-3              P-MTAB-77665  \n",
       "376  5-3-5-3              P-MTAB-77665  \n",
       "1053 5-3-5-3              P-MTAB-77665  \n",
       "1054 5-3-5-3              P-MTAB-77665  \n",
       "1055 5-3-5-3              P-MTAB-77665  \n",
       "1056 5-3-5-3              P-MTAB-77665  \n",
       "1305 5-3-5-3              P-MTAB-77665  \n",
       "1306 5-3-5-3              P-MTAB-77665  \n",
       "1333 5-3-5-3              P-MTAB-77665  \n",
       "1334 5-3-5-3              P-MTAB-77665  \n",
       "1335 5-3-5-3              P-MTAB-77665  \n",
       "1336 5-3-5-3              P-MTAB-77665  \n",
       "1545 5-3-5-3              P-MTAB-77665  \n",
       "1546 5-3-5-3              P-MTAB-77665  \n",
       "1609 5-3-5-3              P-MTAB-77665  \n",
       "1610 5-3-5-3              P-MTAB-77665  \n",
       "2099 5-3-5-3              P-MTAB-77665  \n",
       "2100 5-3-5-3              P-MTAB-77665  \n",
       "     Performer.3                                Assay.Name           \n",
       "247  Cambridge Institute Genomics Core Facility CD4_gut_D4           \n",
       "248  Cambridge Institute Genomics Core Facility CD4_gut_D4           \n",
       "375  Cambridge Institute Genomics Core Facility CD4_kidney_C5        \n",
       "376  Cambridge Institute Genomics Core Facility CD4_kidney_C5        \n",
       "1053 Cambridge Institute Genomics Core Facility LCK_gut_G8           \n",
       "1054 Cambridge Institute Genomics Core Facility LCK_gut_G8           \n",
       "1055 Cambridge Institute Genomics Core Facility LCK_gut_G9           \n",
       "1056 Cambridge Institute Genomics Core Facility LCK_gut_G9           \n",
       "1305 Cambridge Institute Genomics Core Facility LCK_thymus_B2        \n",
       "1306 Cambridge Institute Genomics Core Facility LCK_thymus_B2        \n",
       "1333 Cambridge Institute Genomics Core Facility LCK_thymus_C4        \n",
       "1334 Cambridge Institute Genomics Core Facility LCK_thymus_C4        \n",
       "1335 Cambridge Institute Genomics Core Facility LCK_thymus_C5        \n",
       "1336 Cambridge Institute Genomics Core Facility LCK_thymus_C5        \n",
       "1545 Cambridge Institute Genomics Core Facility mhc2dab_kidney_pl2_A2\n",
       "1546 Cambridge Institute Genomics Core Facility mhc2dab_kidney_pl2_A2\n",
       "1609 Cambridge Institute Genomics Core Facility mhc2dab_kidney_pl2_D1\n",
       "1610 Cambridge Institute Genomics Core Facility mhc2dab_kidney_pl2_D1\n",
       "2099 Cambridge Institute Genomics Core Facility Rag1_kidney_H3       \n",
       "2100 Cambridge Institute Genomics Core Facility Rag1_kidney_H3       \n",
       "     Technology.Type  Comment.ENA_EXPERIMENT.\n",
       "247  sequencing assay ERX2737320             \n",
       "248  sequencing assay ERX2737320             \n",
       "375  sequencing assay ERX2737347             \n",
       "376  sequencing assay ERX2737347             \n",
       "1053 sequencing assay ERX2736986             \n",
       "1054 sequencing assay ERX2736986             \n",
       "1055 sequencing assay ERX2736987             \n",
       "1056 sequencing assay ERX2736987             \n",
       "1305 sequencing assay ERX2737759             \n",
       "1306 sequencing assay ERX2737759             \n",
       "1333 sequencing assay ERX2737005             \n",
       "1334 sequencing assay ERX2737005             \n",
       "1335 sequencing assay ERX2737006             \n",
       "1336 sequencing assay ERX2737006             \n",
       "1545 sequencing assay ERX2737558             \n",
       "1546 sequencing assay ERX2737558             \n",
       "1609 sequencing assay ERX2737563             \n",
       "1610 sequencing assay ERX2737563             \n",
       "2099 sequencing assay ERX2737743             \n",
       "2100 sequencing assay ERX2737743             \n",
       "     Scan.Name                                  \n",
       "247  SLX-12114.i720_i506.HKKG2BBXX.s_1.r_1.fq.gz\n",
       "248  SLX-12114.i720_i506.HKKG2BBXX.s_1.r_2.fq.gz\n",
       "375  SLX-10874.N705_S505.C9FTNANXX.s_4.r_1.fq.gz\n",
       "376  SLX-10874.N705_S505.C9FTNANXX.s_4.r_2.fq.gz\n",
       "1053 SLX-12119.i710_i521.HKCTNBBXX.s_1.r_1.fq.gz\n",
       "1054 SLX-12119.i710_i521.HKCTNBBXX.s_1.r_2.fq.gz\n",
       "1055 SLX-12119.i711_i521.HKCTNBBXX.s_1.r_1.fq.gz\n",
       "1056 SLX-12119.i711_i521.HKCTNBBXX.s_1.r_2.fq.gz\n",
       "1305 SLX-12119.i702_i503.HKCTNBBXX.s_1.r_1.fq.gz\n",
       "1306 SLX-12119.i702_i503.HKCTNBBXX.s_1.r_2.fq.gz\n",
       "1333 SLX-12119.i704_i505.HKCTNBBXX.s_1.r_1.fq.gz\n",
       "1334 SLX-12119.i704_i505.HKCTNBBXX.s_1.r_2.fq.gz\n",
       "1335 SLX-12119.i705_i505.HKCTNBBXX.s_1.r_1.fq.gz\n",
       "1336 SLX-12119.i705_i505.HKCTNBBXX.s_1.r_2.fq.gz\n",
       "1545 SLX-12114.i702_i513.HKKG2BBXX.s_1.r_1.fq.gz\n",
       "1546 SLX-12114.i702_i513.HKKG2BBXX.s_1.r_2.fq.gz\n",
       "1609 SLX-12114.i701_i517.HKKG2BBXX.s_1.r_1.fq.gz\n",
       "1610 SLX-12114.i701_i517.HKKG2BBXX.s_1.r_2.fq.gz\n",
       "2099 SLX-12114.i719_i522.HKKG2BBXX.s_1.r_1.fq.gz\n",
       "2100 SLX-12114.i719_i522.HKKG2BBXX.s_1.r_2.fq.gz\n",
       "     Comment.SUBMITTED_FILE_NAME.                Comment.ENA_RUN.\n",
       "247  SLX-12114.i720_i506.HKKG2BBXX.s_1.r_1.fq.gz ERR2723551      \n",
       "248  SLX-12114.i720_i506.HKKG2BBXX.s_1.r_2.fq.gz ERR2723551      \n",
       "375  SLX-10874.N705_S505.C9FTNANXX.s_4.r_1.fq.gz ERR2723578      \n",
       "376  SLX-10874.N705_S505.C9FTNANXX.s_4.r_2.fq.gz ERR2723578      \n",
       "1053 SLX-12119.i710_i521.HKCTNBBXX.s_1.r_1.fq.gz ERR2723217      \n",
       "1054 SLX-12119.i710_i521.HKCTNBBXX.s_1.r_2.fq.gz ERR2723217      \n",
       "1055 SLX-12119.i711_i521.HKCTNBBXX.s_1.r_1.fq.gz ERR2723218      \n",
       "1056 SLX-12119.i711_i521.HKCTNBBXX.s_1.r_2.fq.gz ERR2723218      \n",
       "1305 SLX-12119.i702_i503.HKCTNBBXX.s_1.r_1.fq.gz ERR2723990      \n",
       "1306 SLX-12119.i702_i503.HKCTNBBXX.s_1.r_2.fq.gz ERR2723990      \n",
       "1333 SLX-12119.i704_i505.HKCTNBBXX.s_1.r_1.fq.gz ERR2723236      \n",
       "1334 SLX-12119.i704_i505.HKCTNBBXX.s_1.r_2.fq.gz ERR2723236      \n",
       "1335 SLX-12119.i705_i505.HKCTNBBXX.s_1.r_1.fq.gz ERR2723237      \n",
       "1336 SLX-12119.i705_i505.HKCTNBBXX.s_1.r_2.fq.gz ERR2723237      \n",
       "1545 SLX-12114.i702_i513.HKKG2BBXX.s_1.r_1.fq.gz ERR2723789      \n",
       "1546 SLX-12114.i702_i513.HKKG2BBXX.s_1.r_2.fq.gz ERR2723789      \n",
       "1609 SLX-12114.i701_i517.HKKG2BBXX.s_1.r_1.fq.gz ERR2723794      \n",
       "1610 SLX-12114.i701_i517.HKKG2BBXX.s_1.r_2.fq.gz ERR2723794      \n",
       "2099 SLX-12114.i719_i522.HKKG2BBXX.s_1.r_1.fq.gz ERR2723974      \n",
       "2100 SLX-12114.i719_i522.HKKG2BBXX.s_1.r_2.fq.gz ERR2723974      \n",
       "     Comment.FASTQ_URI.                                                            \n",
       "247  ftp://ftp.sra.ebi.ac.uk/vol1/fastq/ERR272/001/ERR2723551/ERR2723551_1.fastq.gz\n",
       "248  ftp://ftp.sra.ebi.ac.uk/vol1/fastq/ERR272/001/ERR2723551/ERR2723551_2.fastq.gz\n",
       "375  ftp://ftp.sra.ebi.ac.uk/vol1/fastq/ERR272/008/ERR2723578/ERR2723578_1.fastq.gz\n",
       "376  ftp://ftp.sra.ebi.ac.uk/vol1/fastq/ERR272/008/ERR2723578/ERR2723578_2.fastq.gz\n",
       "1053 ftp://ftp.sra.ebi.ac.uk/vol1/fastq/ERR272/007/ERR2723217/ERR2723217_1.fastq.gz\n",
       "1054 ftp://ftp.sra.ebi.ac.uk/vol1/fastq/ERR272/007/ERR2723217/ERR2723217_2.fastq.gz\n",
       "1055 ftp://ftp.sra.ebi.ac.uk/vol1/fastq/ERR272/008/ERR2723218/ERR2723218_1.fastq.gz\n",
       "1056 ftp://ftp.sra.ebi.ac.uk/vol1/fastq/ERR272/008/ERR2723218/ERR2723218_2.fastq.gz\n",
       "1305 ftp://ftp.sra.ebi.ac.uk/vol1/fastq/ERR272/000/ERR2723990/ERR2723990_1.fastq.gz\n",
       "1306 ftp://ftp.sra.ebi.ac.uk/vol1/fastq/ERR272/000/ERR2723990/ERR2723990_2.fastq.gz\n",
       "1333 ftp://ftp.sra.ebi.ac.uk/vol1/fastq/ERR272/006/ERR2723236/ERR2723236_1.fastq.gz\n",
       "1334 ftp://ftp.sra.ebi.ac.uk/vol1/fastq/ERR272/006/ERR2723236/ERR2723236_2.fastq.gz\n",
       "1335 ftp://ftp.sra.ebi.ac.uk/vol1/fastq/ERR272/007/ERR2723237/ERR2723237_1.fastq.gz\n",
       "1336 ftp://ftp.sra.ebi.ac.uk/vol1/fastq/ERR272/007/ERR2723237/ERR2723237_2.fastq.gz\n",
       "1545 ftp://ftp.sra.ebi.ac.uk/vol1/fastq/ERR272/009/ERR2723789/ERR2723789_1.fastq.gz\n",
       "1546 ftp://ftp.sra.ebi.ac.uk/vol1/fastq/ERR272/009/ERR2723789/ERR2723789_2.fastq.gz\n",
       "1609 ftp://ftp.sra.ebi.ac.uk/vol1/fastq/ERR272/004/ERR2723794/ERR2723794_1.fastq.gz\n",
       "1610 ftp://ftp.sra.ebi.ac.uk/vol1/fastq/ERR272/004/ERR2723794/ERR2723794_2.fastq.gz\n",
       "2099 ftp://ftp.sra.ebi.ac.uk/vol1/fastq/ERR272/004/ERR2723974/ERR2723974_1.fastq.gz\n",
       "2100 ftp://ftp.sra.ebi.ac.uk/vol1/fastq/ERR272/004/ERR2723974/ERR2723974_2.fastq.gz\n",
       "     Comment.SPOT_LENGTH. Comment.READ_INDEX_1_BASE_COORD.\n",
       "247  300                  151                             \n",
       "248  300                  151                             \n",
       "375  250                  126                             \n",
       "376  250                  126                             \n",
       "1053 300                  151                             \n",
       "1054 300                  151                             \n",
       "1055 300                  151                             \n",
       "1056 300                  151                             \n",
       "1305 300                  151                             \n",
       "1306 300                  151                             \n",
       "1333 300                  151                             \n",
       "1334 300                  151                             \n",
       "1335 300                  151                             \n",
       "1336 300                  151                             \n",
       "1545 300                  151                             \n",
       "1546 300                  151                             \n",
       "1609 300                  151                             \n",
       "1610 300                  151                             \n",
       "2099 300                  151                             \n",
       "2100 300                  151                             \n",
       "     Factor.Value.genotype.      Factor.Value.organism.part.\n",
       "247  Tg(cd4-1:mCherry)           gut                        \n",
       "248  Tg(cd4-1:mCherry)           gut                        \n",
       "375  Tg(cd4-1:mCherry)           kidney                     \n",
       "376  Tg(cd4-1:mCherry)           kidney                     \n",
       "1053 Tg(lck:EGFP)                gut                        \n",
       "1054 Tg(lck:EGFP)                gut                        \n",
       "1055 Tg(lck:EGFP)                gut                        \n",
       "1056 Tg(lck:EGFP)                gut                        \n",
       "1305 Tg(lck:EGFP)                thymus                     \n",
       "1306 Tg(lck:EGFP)                thymus                     \n",
       "1333 Tg(lck:EGFP)                thymus                     \n",
       "1334 Tg(lck:EGFP)                thymus                     \n",
       "1335 Tg(lck:EGFP)                thymus                     \n",
       "1336 Tg(lck:EGFP)                thymus                     \n",
       "1545 Tg(mhc2dab:GFP, cd45:dsRed) kidney                     \n",
       "1546 Tg(mhc2dab:GFP, cd45:dsRed) kidney                     \n",
       "1609 Tg(mhc2dab:GFP, cd45:dsRed) kidney                     \n",
       "1610 Tg(mhc2dab:GFP, cd45:dsRed) kidney                     \n",
       "2099 Tg(lck:EGFP); Rag1 -/-      kidney                     \n",
       "2100 Tg(lck:EGFP); Rag1 -/-      kidney                     \n",
       "     Factor.Value.single.cell.identifier.\n",
       "247  CD4_gut_D4                          \n",
       "248  CD4_gut_D4                          \n",
       "375  CD4_kidney_C5                       \n",
       "376  CD4_kidney_C5                       \n",
       "1053 LCK_gut_G8                          \n",
       "1054 LCK_gut_G8                          \n",
       "1055 LCK_gut_G9                          \n",
       "1056 LCK_gut_G9                          \n",
       "1305 LCK_thymus_B2                       \n",
       "1306 LCK_thymus_B2                       \n",
       "1333 LCK_thymus_C4                       \n",
       "1334 LCK_thymus_C4                       \n",
       "1335 LCK_thymus_C5                       \n",
       "1336 LCK_thymus_C5                       \n",
       "1545 mhc2dab_kidney_pl2_A2               \n",
       "1546 mhc2dab_kidney_pl2_A2               \n",
       "1609 mhc2dab_kidney_pl2_D1               \n",
       "1610 mhc2dab_kidney_pl2_D1               \n",
       "2099 Rag1_kidney_H3                      \n",
       "2100 Rag1_kidney_H3                      "
      ]
     },
     "metadata": {},
     "output_type": "display_data"
    }
   ],
   "source": [
    "#| output: false\n",
    "# Output hidden to reduce spam\n",
    "extra.cells[1:10]\n",
    "extra.cells[11:20]\n",
    "extra.cells[21:30]\n",
    "extra.cells[31:40]\n",
    "extra.cells[41:55]"
   ]
  },
  {
   "cell_type": "markdown",
   "id": "46c96f0f-099e-4f5c-8533-1727f8efdb8c",
   "metadata": {},
   "source": [
    "But as before there doesn't really seem to be any outstanding features.  So the mystery continues!"
   ]
  },
  {
   "cell_type": "markdown",
   "id": "5aa5299f-6c0d-471d-aad6-1804ae7411cd",
   "metadata": {},
   "source": [
    "</details>"
   ]
  },
  {
   "cell_type": "markdown",
   "id": "96a7bc89-1e18-4445-a7c9-b88adcb4a660",
   "metadata": {},
   "source": [
    "# Quality Control"
   ]
  },
  {
   "cell_type": "markdown",
   "id": "6c5b097e-010b-40e9-ac79-e061b93536a8",
   "metadata": {},
   "source": [
    "The <b style=\"color:#757575\">raw.counts</b> matrix is a <b style=\"color:#A6A440\">Sparse Matrix</b> with 21,797 genes and 966 cells - the values are expressed in TPM.  Our goal is to filter out the low quality cells.\n",
    "\n",
    "> For the <b style=\"color:#EB1960\">Smart-seq2 protocol</b> transcript per million (TPM) values reported by Salmon were used for the quality control (QC). Wells with fewer than 900 expressed genes (TPM > 1) or having more than either 60% of ERCC or 45% of mitochondrial content were annotated as <strong style=\"color:#C0CF96\">poor quality cells</strong>. As a result, 322 cells failed QC and 542 single cells were selected for the further study.\n",
    ">\n",
    "> -- <cite><b style=\"color:#EB1960\">Quality Control of Single-Cell Data; Materials and Methods Section;</b> @zebrafish-data </cite>\n",
    "\n",
    "At the time, I didn't think we could find the mitochondrial genes with the data we had (and same with ERCC).  I've gone back and edited this though, in the dropdowns."
   ]
  },
  {
   "cell_type": "markdown",
   "id": "99891fb7-7f44-4a85-a546-51b37a9f4025",
   "metadata": {},
   "source": [
    "<details>\n",
    "    <summary style=\"color:#C0CF96\"><b>Getting mitochondrial genes</b></summary>"
   ]
  },
  {
   "cell_type": "markdown",
   "id": "cd56d760-76f3-40f1-a797-749a77885734",
   "metadata": {},
   "source": [
    "I used Python since chronologically I did this ater I gave up on R.  The work to create the `mito-genes` csv was done in the blog post [Exploring Ensembl](./004_005_ensemble.html)."
   ]
  },
  {
   "cell_type": "code",
   "execution_count": null,
   "id": "6f557414-8e8d-48f9-9619-9b50569463f4",
   "metadata": {},
   "outputs": [
    {
     "data": {
      "text/plain": [
       "0    ENSDARG00000083480\n",
       "1    ENSDARG00000082753\n",
       "2    ENSDARG00000081443\n",
       "3    ENSDARG00000080337\n",
       "4    ENSDARG00000083046\n",
       "Name: gene_id, dtype: object"
      ]
     },
     "execution_count": null,
     "metadata": {},
     "output_type": "execute_result"
    }
   ],
   "source": [
    "mito_genes = pd.read_csv(\"./localdata/mito-genes.csv\")\n",
    "mito_genes[\"gene_id\"].head()"
   ]
  },
  {
   "cell_type": "markdown",
   "id": "53ecf05c-f2f1-4eb8-8477-5b361b8bba4b",
   "metadata": {},
   "source": [
    "\n",
    "Now we want to calculate the percent of genomic material per cell that is contained in just the genes in `mito_genes`, which should not be too hard!  Left as excersize to the reader."
   ]
  },
  {
   "cell_type": "markdown",
   "id": "87d610b7-c3fe-48de-a5ab-533f7aacb1db",
   "metadata": {},
   "source": [
    "</details>"
   ]
  },
  {
   "cell_type": "markdown",
   "id": "866b0082-5b31-4b94-9ba6-c32aa0c1a831",
   "metadata": {},
   "source": [
    "<details>\n",
    "    <summary style=\"color:#C0CF96\"><b>Getting ERCC genes</b></summary>"
   ]
  },
  {
   "cell_type": "markdown",
   "id": "cd60b957-23ca-41ed-b4ef-9ca71380e801",
   "metadata": {},
   "source": [
    "I could not figure out how to do this; I think they have already been removed from the dataset that we have."
   ]
  },
  {
   "cell_type": "markdown",
   "id": "fe1c55fb-b1ea-47d0-ab91-034bf04fb442",
   "metadata": {},
   "source": [
    "</details>"
   ]
  },
  {
   "cell_type": "markdown",
   "id": "5bf31383-c91d-4844-8f43-fe9235dd1b82",
   "metadata": {},
   "source": [
    "But yesterday we noticed that we could get the 542 futher-study cells by looking at the metadata and only grabbing the cells which were eventually assigned a cluster by the researchers."
   ]
  },
  {
   "cell_type": "code",
   "execution_count": null,
   "id": "9135016b-62fa-4282-bedc-066a25ea9f47",
   "metadata": {},
   "outputs": [
    {
     "data": {
      "text/html": [
       "542"
      ],
      "text/latex": [
       "542"
      ],
      "text/markdown": [
       "542"
      ],
      "text/plain": [
       "[1] 542"
      ]
     },
     "metadata": {},
     "output_type": "display_data"
    }
   ],
   "source": [
    "# Calculate the cells we want to study\n",
    "sample.data <- read.table(\"./localdata/ExpDesign-E-MTAB-7117.tsv\", sep='\\t', header=TRUE)\n",
    "filtered <- sample.data[which(\n",
    "    sample.data['Sample.Characteristic.cluster.'] != \"unknown\"\n",
    "),]\n",
    "cells.to.study <- filtered$Assay\n",
    "length(cells.to.study)"
   ]
  },
  {
   "cell_type": "code",
   "execution_count": null,
   "id": "eeccb433-78da-43d1-9fd7-7f1633e39497",
   "metadata": {},
   "outputs": [
    {
     "data": {
      "text/html": [
       "966"
      ],
      "text/latex": [
       "966"
      ],
      "text/markdown": [
       "966"
      ],
      "text/plain": [
       "[1] 966"
      ]
     },
     "metadata": {},
     "output_type": "display_data"
    }
   ],
   "source": [
    "# Get which rows correspond to which assay (cell)\n",
    "assay.to.row.map <- read.table(\n",
    "    './localdata/E-MTAB-7117.expression_tpm.mtx_cols'\n",
    ")$V1\n",
    "length(assay.to.row.map)"
   ]
  },
  {
   "cell_type": "code",
   "execution_count": null,
   "id": "2ce0c520-f94b-4d7a-99b3-ae41811701dd",
   "metadata": {},
   "outputs": [
    {
     "data": {
      "text/html": [
       "<style>\n",
       ".list-inline {list-style: none; margin:0; padding: 0}\n",
       ".list-inline>li {display: inline-block}\n",
       ".list-inline>li:not(:last-child)::after {content: \"\\00b7\"; padding: 0 .5ex}\n",
       "</style>\n",
       "<ol class=list-inline><li>21797</li><li>542</li></ol>\n"
      ],
      "text/latex": [
       "\\begin{enumerate*}\n",
       "\\item 21797\n",
       "\\item 542\n",
       "\\end{enumerate*}\n"
      ],
      "text/markdown": [
       "1. 21797\n",
       "2. 542\n",
       "\n",
       "\n"
      ],
      "text/plain": [
       "[1] 21797   542"
      ]
     },
     "metadata": {},
     "output_type": "display_data"
    },
    {
     "data": {
      "text/plain": [
       "NULL"
      ]
     },
     "metadata": {},
     "output_type": "display_data"
    }
   ],
   "source": [
    "# Subset the raw.counts matrix\n",
    "raw.counts.filtered <- raw.counts[,\n",
    "    which(sapply(assay.to.row.map, `%in%`, cells.to.study)),\n",
    "]\n",
    "dim(raw.counts.filtered)\n",
    "# Save the matrix, for posterity\n",
    "writeMM(raw.counts.filtered, \"./localdata/542_cells_21797_genes.tpm.mtx\")"
   ]
  },
  {
   "cell_type": "markdown",
   "id": "6752d904-f856-4d28-9a8e-ded31a1ba09a",
   "metadata": {},
   "source": [
    "Now we need to perform quality control on the genes;\n",
    "\n",
    "> For each of the <strong style=\"color:#C0CF96\">542 single cells</strong>, counts reported by <b style=\"color:#EB1960\">Salmon</b> were transformed into normalised counts per million (CPM) and used for the further analysis. This was performed by <strong style=\"color:#C0CF96\">dividing the number of counts for each gene with the total number of counts for each cell and by multiplying the resulting number by a factor of 1,000,000</strong>. Genes that were expressed in less than 1% of cells (e.g. 5 single cells with CPM > 1) <strong style=\"color:#C0CF96\">were filtered out</strong>. In the final step we ended up using 16,059 genes across the 542 single cells. The <b style=\"color:#EB1960\">scran R package</b> (version 1.6.7) @scran was then used to <b style=\"color:#537FBF\">normalise</b> the data and remove differences due to the library size or capture efficiency and sequencing depth.\n",
    ">\n",
    "> -- <cite><b style=\"color:#EB1960\">Downstream Analysis of Smart-seq2 Data; Materials and Methods Section;</b> @zebrafish-data </cite>"
   ]
  },
  {
   "cell_type": "markdown",
   "id": "824230ea-0c8b-49c6-abe9-a0551f4295b1",
   "metadata": {},
   "source": [
    "It was harder than expected, as I am less-than-fluent with R and their sparse matrix operations weren't as analogous to dense matrices as I would have liked.  First let's take a look at our the sparse datatype we have.  I found the blogpost by @dgTMatrix useful, but ultimately got fed up with R and decided to transition to python."
   ]
  },
  {
   "cell_type": "markdown",
   "id": "453d8618-441a-49d1-a425-981ef2756c27",
   "metadata": {},
   "source": [
    "<details><summary><span class=\"false-starts\" style=\"font-weight:bold;\">False Start</span>: <b style=\"color:#C0CF96\">Trying to use R</b></summary>"
   ]
  },
  {
   "cell_type": "code",
   "execution_count": null,
   "id": "dfcfa50e-7847-49fb-86bf-f4bb0adeb91e",
   "metadata": {},
   "outputs": [
    {
     "name": "stdout",
     "output_type": "stream",
     "text": [
      "Formal class 'dgTMatrix' [package \"Matrix\"] with 6 slots\n",
      "  ..@ i       : int [1:1156509] 4 10 19 36 56 57 58 59 62 69 ...\n",
      "  ..@ j       : int [1:1156509] 0 0 0 0 0 0 0 0 0 0 ...\n",
      "  ..@ Dim     : int [1:2] 21797 542\n",
      "  ..@ Dimnames:List of 2\n",
      "  .. ..$ : NULL\n",
      "  .. ..$ : NULL\n",
      "  ..@ x       : num [1:1156509] 0.593 145.541 361.733 0.178 0.107 ...\n",
      "  ..@ factors : list()\n"
     ]
    }
   ],
   "source": [
    "str(raw.counts.filtered)"
   ]
  },
  {
   "cell_type": "markdown",
   "id": "91be4c22-f055-49fb-a099-ad5a29f6a2d1",
   "metadata": {},
   "source": [
    "`(i, j)` gives us the rows and columns, with the value being the corresponding entry in `x`.  The `T` in `dgTMatrix` stands for triplet, because it's essentially just a list of triplets `(i, j, x)`.  Another common format is `CsparseMatrix`, although the explanation is more complicated.  It's explained well by @dgTMatrix, I'm just in a rush to get to actual data analysis!"
   ]
  },
  {
   "cell_type": "code",
   "execution_count": null,
   "id": "63e93656-6f92-49eb-b00f-bfa4c84217aa",
   "metadata": {},
   "outputs": [
    {
     "name": "stdout",
     "output_type": "stream",
     "text": [
      "Formal class 'dgCMatrix' [package \"Matrix\"] with 6 slots\n",
      "  ..@ i       : int [1:1156509] 4 10 19 36 56 57 58 59 62 69 ...\n",
      "  ..@ p       : int [1:543] 0 1610 3532 5491 7585 9273 11182 13157 14623 15552 ...\n",
      "  ..@ Dim     : int [1:2] 21797 542\n",
      "  ..@ Dimnames:List of 2\n",
      "  .. ..$ : NULL\n",
      "  .. ..$ : NULL\n",
      "  ..@ x       : num [1:1156509] 0.593 145.541 361.733 0.178 0.107 ...\n",
      "  ..@ factors : list()\n"
     ]
    }
   ],
   "source": [
    "raw.counts.csparse <- str(as(raw.counts.filtered, \"CsparseMatrix\"))"
   ]
  },
  {
   "cell_type": "markdown",
   "id": "72164200-08e4-41ba-bf12-6d599857ec68",
   "metadata": {},
   "source": [
    "Now, we want to transform the data into <b style=\"color:#C0CF96\">normalized counts per million</b>."
   ]
  },
  {
   "cell_type": "code",
   "execution_count": null,
   "id": "7c860eb9-2a80-4a08-b9c7-3bcedd5a88c6",
   "metadata": {},
   "outputs": [
    {
     "ename": "ERROR",
     "evalue": "Error in colSums(raw.counts.csparse): 'x' must be an array of at least two dimensions\n",
     "output_type": "error",
     "traceback": [
      "Error in colSums(raw.counts.csparse): 'x' must be an array of at least two dimensions\nTraceback:\n",
      "1. colSums(raw.counts.csparse)",
      "2. stop(\"'x' must be an array of at least two dimensions\")"
     ]
    }
   ],
   "source": [
    "# This will throw an error\n",
    "colSums(raw.counts.csparse)"
   ]
  },
  {
   "cell_type": "markdown",
   "id": "aa7dfd59-b6d3-4f20-b788-cb64dd09eecb",
   "metadata": {},
   "source": [
    "<details><summary style=\"color:#C0CF96;font-weight:bold;\">But we know it should work for sparse matrixes from the docs</summary>"
   ]
  },
  {
   "cell_type": "markdown",
   "id": "17697e41-fb0e-49c1-a4e2-89f724f28849",
   "metadata": {},
   "source": [
    "![What happens when we run `?colSums` to get the docs](r-help.png)"
   ]
  },
  {
   "cell_type": "markdown",
   "id": "757d4508-6747-4f33-b919-47629054e71e",
   "metadata": {},
   "source": [
    "Fun fact: for some reason running the R help command will mess with Quarto's html, breaking your webpage!"
   ]
  },
  {
   "cell_type": "markdown",
   "id": "9c726e7f-d9af-4c32-9d07-69155fa5076f",
   "metadata": {},
   "source": [
    "</details>\n"
   ]
  },
  {
   "cell_type": "code",
   "execution_count": null,
   "id": "84f5e9a7-9e95-4bf5-b8ab-174e85402707",
   "metadata": {},
   "outputs": [
    {
     "ename": "ERROR",
     "evalue": "Error in base::rowSums(x, na.rm = na.rm, dims = dims, ...): 'x' must be an array of at least two dimensions\n",
     "output_type": "error",
     "traceback": [
      "Error in base::rowSums(x, na.rm = na.rm, dims = dims, ...): 'x' must be an array of at least two dimensions\nTraceback:\n",
      "1. Matrix::rowSums(raw.counts.csparse)",
      "2. Matrix::rowSums(raw.counts.csparse)",
      "3. base::rowSums(x, na.rm = na.rm, dims = dims, ...)",
      "4. stop(\"'x' must be an array of at least two dimensions\")"
     ]
    }
   ],
   "source": [
    "# We can try to force it to use the Matrix overload, to no avail.\n",
    "Matrix::colSums(raw.counts.csparse)"
   ]
  },
  {
   "cell_type": "markdown",
   "id": "c8772328-8943-4d63-b9c1-1fdeb244f76a",
   "metadata": {},
   "source": [
    "And it's about here that I get fed up with R."
   ]
  },
  {
   "cell_type": "markdown",
   "id": "960b73aa-88b1-4d8d-91ff-ea24711163c3",
   "metadata": {},
   "source": [
    "</details>"
   ]
  },
  {
   "cell_type": "markdown",
   "id": "99512042-a142-4dd1-a7b0-84cccbb2adf5",
   "metadata": {},
   "source": [
    "Let's load our `raw.counts.filtered` matrix in python:"
   ]
  },
  {
   "cell_type": "code",
   "execution_count": null,
   "id": "aec5df9f-515e-4f73-972c-65fbc77fa856",
   "metadata": {},
   "outputs": [],
   "source": [
    "from scipy.io import mmread\n",
    "from scipy import sparse\n",
    "import numpy as np\n",
    "import pandas as pd"
   ]
  },
  {
   "cell_type": "code",
   "execution_count": null,
   "id": "08a15cd1-dbe5-4c03-bd1c-befaf42c3901",
   "metadata": {},
   "outputs": [
    {
     "data": {
      "text/plain": [
       "<21797x542 sparse array of type '<class 'numpy.float64'>'\n",
       "\twith 1156509 stored elements in Compressed Sparse Column format>"
      ]
     },
     "execution_count": null,
     "metadata": {},
     "output_type": "execute_result"
    }
   ],
   "source": [
    "raw_counts_filtered = sparse.csc_array(mmread(\n",
    "    './localdata/542_cells_21797_genes.tpm.mtx'\n",
    "))\n",
    "raw_counts_filtered"
   ]
  },
  {
   "cell_type": "markdown",
   "id": "fd71db23-7029-4e39-aa12-4e1e4b249b86",
   "metadata": {},
   "source": [
    "And now we'll copy the process they used to rescale their data in terms of genes per cell."
   ]
  },
  {
   "cell_type": "code",
   "execution_count": null,
   "id": "2d62a52c-b81e-426a-a589-760cba9cce86",
   "metadata": {},
   "outputs": [
    {
     "data": {
      "text/plain": [
       "<21797x542 sparse array of type '<class 'numpy.float64'>'\n",
       "\twith 1156509 stored elements in Compressed Sparse Row format>"
      ]
     },
     "execution_count": null,
     "metadata": {},
     "output_type": "execute_result"
    }
   ],
   "source": [
    "genes_per_cell = raw_counts_filtered.sum(axis=0)\n",
    "raw_counts_nonzero = raw_counts_filtered[:, genes_per_cell > 0]\n",
    "genes_per_cell = genes_per_cell[genes_per_cell > 0]\n",
    "raw_counts_nonzero = raw_counts_nonzero / genes_per_cell * 1e6\n",
    "raw_counts_normed = sparse.csr_array(raw_counts_nonzero)\n",
    "raw_counts_normed"
   ]
  },
  {
   "cell_type": "markdown",
   "id": "f2c6065e-4f30-4fbe-a03d-fa2635c93880",
   "metadata": {},
   "source": [
    "Now we need to filter out genes who were expressed in less than 1% of cells.  They're a bit more strict than that - it has to have a CPM of at least 1 to count as being \"expressed\"."
   ]
  },
  {
   "cell_type": "code",
   "execution_count": null,
   "id": "408537a5-cacc-45ba-a1ba-42d61ce78768",
   "metadata": {},
   "outputs": [],
   "source": [
    "raw_counts_expressed = raw_counts_normed.copy()\n",
    "raw_counts_expressed[raw_counts_expressed <= 1] = 0\n",
    "raw_counts_expressed[raw_counts_expressed > 1] = 1\n",
    "number_of_cells_gene_appears_in = raw_counts_expressed.sum(axis=1)\n",
    "raw_counts_genes_filtered = raw_counts_normed[\n",
    "    number_of_cells_gene_appears_in > 5,\n",
    "    :\n",
    "].copy()"
   ]
  },
  {
   "cell_type": "code",
   "execution_count": null,
   "id": "a932a894-092a-401d-94f2-557adc6f4824",
   "metadata": {},
   "outputs": [
    {
     "data": {
      "text/plain": [
       "<17832x542 sparse array of type '<class 'numpy.float64'>'\n",
       "\twith 1141288 stored elements in Compressed Sparse Row format>"
      ]
     },
     "execution_count": null,
     "metadata": {},
     "output_type": "execute_result"
    }
   ],
   "source": [
    "raw_counts_genes_filtered"
   ]
  },
  {
   "cell_type": "markdown",
   "id": "cf7d3bc0-e32f-48d5-8669-a1e856ad7a27",
   "metadata": {},
   "source": [
    "We have too many genes and I'm not sure why - however, I can't find anywhere in their paper a count of the pre-filtered genes.  Just like how their dataset contains more cells than reported, it may contain more genes than reported!"
   ]
  },
  {
   "cell_type": "markdown",
   "id": "15332bc3-a0c9-49cf-8b22-6292cfb68f90",
   "metadata": {},
   "source": [
    "# Analysis"
   ]
  },
  {
   "cell_type": "markdown",
   "id": "0d9e12b8-ada7-48fb-97d8-b387e616015d",
   "metadata": {},
   "source": [
    "> In order to identify the <b style=\"color:#A6A440\">highly variable genes (HVGs)</b> we utilised the <b style=\"color:#537FBF\">Brennecke Method</b> [@brennecke]. We inferred the noise model from the <b style=\"color:#A6A440\">ERCCs</b> and <b style=\"color:#C0CF96\">selected genes that vary higher than 20% percentage of variation</b>. This was performed by using the\n",
    "“<b style=\"color:#757575\">BrenneckeGetVariableGenes</b>” command of <b style=\"color:#EB1960\">M3Drop v1.4.0 R package</b> setting fdr equal to 0.01 and minimum percentage of variance due to biological factors (minBiolDisp) equal to 0.2. <b style=\"color:#C0CF96\">In total, 3,374 were annotated as HVGs.</b>\n",
    ">\n",
    "> -- <cite><b style=\"color:#EB1960\">Downstream Analysis of Smart-seq2 Data; Materials and Methods Section;</b> @zebrafish-data </cite>"
   ]
  },
  {
   "cell_type": "markdown",
   "id": "33ffe2ae-07e1-48f2-aefd-9f60f8bd6e35",
   "metadata": {},
   "source": [
    "The `BrenneckeGetVariableGenes` method is described in the <b style=\"color:#EB1960\">M3Drop documentation</b> as follows:\n",
    "\n",
    "![`BrenneckeGetVariableGenes`](./m3drop.png)"
   ]
  },
  {
   "cell_type": "markdown",
   "id": "67cdb480-2c66-4c09-ac9b-de0ff1d6f5a7",
   "metadata": {},
   "source": [
    "Thus we can see that we need the ERCCs to deduce the HGVs.  However, I can't find any data on the ERCC spike-ins, so at this point we stop here.  Sorry to disappoint."
   ]
  },
  {
   "cell_type": "markdown",
   "id": "bf54df1d-ccac-4232-8175-fa6462679a75",
   "metadata": {},
   "source": [
    "### References\n",
    "\n",
    "::: {#refs}\n",
    ":::"
   ]
  }
 ],
 "metadata": {
  "kernelspec": {
   "display_name": "Python [conda env:Blog-nbdev]",
   "language": "python",
   "name": "conda-env-Blog-nbdev-py"
  }
 },
 "nbformat": 4,
 "nbformat_minor": 5
}
