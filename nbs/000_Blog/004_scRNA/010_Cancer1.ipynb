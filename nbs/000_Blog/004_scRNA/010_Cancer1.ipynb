{
 "cells": [
  {
   "cell_type": "raw",
   "id": "213fe688-51a2-447f-848c-7a8fef3a47f0",
   "metadata": {},
   "source": [
    "---\n",
    "title: \"A Living Biobank of Ovarian Cancer -- Data Acqusition\"\n",
    "description: \"Another scRNA paper\"\n",
    "author: \"Bailey Andrew\"\n",
    "date: \"Jan 19 2023\"\n",
    "draft: false\n",
    "categories: [Work, Omics, Useful, Paper Replication]\n",
    "bibliography: bibliography.bib\n",
    "image: ./images/10x-protocol.png\n",
    "format:\n",
    "  html:\n",
    "    css:\n",
    "      - ../../html_scripts/collapse.css\n",
    "      - ../../html_scripts/pretty_shortcuts.css\n",
    "    include-after-body: \n",
    "      - ../../html_scripts/collapse.html\n",
    "      - ../../html_scripts/comments.html\n",
    "      - ../../html_scripts/make_header_sensible.html\n",
    "---"
   ]
  },
  {
   "cell_type": "markdown",
   "id": "1adfa5f1-a941-40b7-bad8-e7b71c9cfb90",
   "metadata": {},
   "source": [
    "I was recently reading the paper \"<b style=\"color:#EB1960\">A living biobank of ovarian cancer ex vivo models reveals profound mitotic heterogeneity</b>\" [@ovarian-cancer-living-biobank], which I found when looking at [this dataset](https://www.ebi.ac.uk/gxa/sc/experiments/E-MTAB-8559/experiment-design) from the <b style=\"color:#EB1960\">Single Cell Expression Atlas</b>.  Let's talk about this dataset."
   ]
  },
  {
   "cell_type": "markdown",
   "id": "5bee5917-a86d-458e-bf57-fbcafd58a21b",
   "metadata": {},
   "source": [
    "# The Dataset"
   ]
  },
  {
   "cell_type": "markdown",
   "id": "cd953893-290c-4493-8f23-a9ac223daf6a",
   "metadata": {},
   "source": [
    "## The Original Sample"
   ]
  },
  {
   "cell_type": "markdown",
   "id": "df9745fd-c3cb-43da-b786-59533a8e0ef1",
   "metadata": {},
   "source": [
    "We've previously talked extensively about <b style=\"color:#A6A440\">protocols</b>, but it's also important to understand the original sample rather than just how it was processed!\n",
    "\n",
    "Specifically, we want to know:\n",
    "\n",
    "* <b style=\"color:#C0CF96\">Who</b> (was sampled)\n",
    "* <b style=\"color:#C0CF96\">Where</b> (were they sampled)\n",
    "* <b style=\"color:#C0CF96\">When</b> (were they sampled)\n",
    "* <b style=\"color:#C0CF96\">Why</b> (were they sampled)^[As in what were the inclusion/exclusion criteria]\n",
    "* <b style=\"color:#C0CF96\">What</b> (part of them was sampled)\n",
    "* <b style=\"color:#C0CF96\">How many</b> (were sampled)^[There's another \"<b style=\"color:#C0CF96\">How</b>\", as in \"how were they sampled?\", but that's a question for once we start looking at the <b style=\"color:#A6A440\">protocol</b>.]"
   ]
  },
  {
   "cell_type": "markdown",
   "id": "33d3edd2-d10c-4aaa-8423-07440599e9d4",
   "metadata": {},
   "source": [
    "> To build a living biobank, we established a <b style=\"color:#537FBF\">biopsy</b> pipeline, collecting samples from patients diagnosed with <b style=\"color:#A6A440\">epithelial ovarian cancer</b> treated at the <b style=\"color:#EB1960\">Christie Hospital</b>.\n",
    ">\n",
    "> -- <b style=\"color:#EB1960\">\"Establishing a living biobank of ovarian cancer ex vivo models\" subsection, Results section, [@ovarian-cancer-living-biobank]</b>\n"
   ]
  },
  {
   "cell_type": "markdown",
   "id": "0f4f24e4-1f1b-499a-ba47-a0f95dd7e2ed",
   "metadata": {},
   "source": [
    "\n",
    "This satisfies the <b style=\"color:#C0CF96\">where</b> of our original question: [Christie Hospital](https://www.christie.nhs.uk):\n",
    "\n",
    "> <b style=\"color:#EB1960\">The Christie NHS Foundation Trust</b>\n",
    ">\n",
    "> <b style=\"color:#EB1960\">Wilmslow Road</b>\n",
    ">\n",
    "> <b style=\"color:#EB1960\">Manchester</b>\n",
    ">\n",
    "> <b style=\"color:#EB1960\">M20 4BX</b>\n",
    ">\n",
    "> <b style=\"color:#EB1960\">United Kingdom</b>\n",
    "\n",
    "It seems reasonable to assume that the grand majority of patients thus reside in <b style=\"color:#EB1960\">the UK</b>, but we'll have to go on a <b class=\"sidequests\">Sidequest</b> to say much more.  A <b style=\"color:#537FBF\">biopsy</b> is when bits of you get removed to be examined clinically.\n",
    "\n",
    "<details>\n",
    "    <summary><b class=\"sidequests\">Sidequest</b><b style=\"color:#EB1960\">: The Christie NHS Foundation Trust</b></summary>\n",
    "    \n",
    "It would be nice to say that the patients reside in the <b style=\"color:#EB1960\">Manchester</b>, but this is not necessarily true.  The feeding area for the hopsital may be larger than that, and also if <b style=\"color:#A6A440\">epithelial ovarian cancer</b> is rare enough it might attract patients from further afield.  What we're interested in is <b style=\"color:#A6A440\">catchment</b>; the locations from which people come into the hospital.  Conveniently, <b style=\"color:#EB1960\">The Christie</b> has [catchment info on their website](https://www.christie.nhs.uk/patients-and-visitors/your-treatment-and-care/treatments/surgery/surgery-at-the-christie/tables-showing-surgical-procedures-and-effective-catchment-population).  It reveals that for <b style=\"color:#A6A440\">gynaecological cancers</b> such as <b style=\"color:#A6A440\">epithelial ovarian cancer</b>, 73% of the patients are from <b style=\"color:#EB1960\">Manchester</b>, and 97% are from <b style=\"color:#EB1960\">the North West</b>.\n",
    "    \n",
    "Surprisingly, <b style=\"color:#EB1960\">the North West</b> has an official definition:\n",
    "    \n",
    "> <b style=\"color:#EB1960\">North West England</b> is one of nine official regions of <b style=\"color:#EB1960\">England</b> and consists of the administrative counties of <b style=\"color:#EB1960\">Cheshire</b>, <b style=\"color:#EB1960\">Cumbria</b>, <b style=\"color:#EB1960\">Greater Manchester</b>, <b style=\"color:#EB1960\">Lancashire</b> and <b style=\"color:#EB1960\">Merseyside</b>\n",
    ">\n",
    "> -- <b style=\"color:#EB1960\">Wikipedia, the most trustworthy of sources</b>\n",
    "    \n",
    "</details>"
   ]
  },
  {
   "cell_type": "markdown",
   "id": "1cff13b1-3c17-4991-ab7f-7867e21859b0",
   "metadata": {},
   "source": [
    "It also mostly answers the <b style=\"color:#C0CF96\">who</b> question; patients with <b style=\"color:#A6A440\">epithelial ovarian cancer</b>.  In the pursuit of more details, we can refer to:\n",
    "\n",
    "> Between <b style=\"color:#EB1960\">May 2016</b> and <b style=\"color:#EB1960\">June 2019</b>, we collected <b style=\"color:#C0CF96\">312 samples</b> from patients with <b style=\"color:#A6A440\">chemo-naïve</b> and <b style=\"color:#A6A440\">relapsed disease</b>, either as <b style=\"color:#537FBF\">solid biopsies</b> or as <b style=\"color:#537FBF\">ascites</b> (<b style=\"color:#EB1960\">Fig. 1a</b>)\n",
    "\n",
    "> Ten patients had <b style=\"color:#A6A440\">HGSOC</b> while two had <b style=\"color:#A6A440\">mucinous ovarian carcinoma</b>. <b style=\"color:#537FBF\">Longitudinal biopsies</b> were collected from three patients.\n",
    "\n",
    "::: {.column-margin}\n",
    "An <b style=\"color:#537FBF\">ascites</b> is an abnormal abdominal buildup of fluid.\n",
    ":::\n",
    "\n",
    "Which conveniently answers <b style=\"color:#C0CF96\">when</b> and <b style=\"color:#C0CF96\">how many</b>.  <b style=\"color:#EB1960\">Fig 1</b> in the paper provides further specificity, revealing that there are 12 patients."
   ]
  },
  {
   "cell_type": "markdown",
   "id": "564151a1-453f-4336-9221-91317284b247",
   "metadata": {},
   "source": [
    "We should probably find out <b style=\"color:#C0CF96\">what</b> and <b style=\"color:#C0CF96\">why</b> but the <b style=\"color:#C0CF96\">what</b> is presumably just \"wherever the tumour is\" and for <b style=\"color:#C0CF96\">why</b> presumably patients were included if and only if they had <b style=\"color:#A6A440\">epithelial ovarian cancer</b> at <b style=\"color:#EB1960\">The Christie</b>."
   ]
  },
  {
   "cell_type": "markdown",
   "id": "4aac17d2-e5f4-4505-9038-50ea8f0520fa",
   "metadata": {},
   "source": [
    "## The Protocol"
   ]
  },
  {
   "cell_type": "markdown",
   "id": "7645eed7-620f-4433-9237-1ceb02f18848",
   "metadata": {},
   "source": [
    "![From @ovarian-cancer-living-biobank, not my own work.](./images/ovarian-fig-1b.png)"
   ]
  },
  {
   "cell_type": "markdown",
   "id": "a94b2f51-5a73-4bd5-91e3-b69acd256793",
   "metadata": {},
   "source": [
    "They used <b style=\"color:#EB1960\">10x Genomics Protocol <i>CG000183 Rev A</i></b> [@10x-protocol]."
   ]
  },
  {
   "cell_type": "markdown",
   "id": "820e5427-ef4d-4581-83ed-f203038f77be",
   "metadata": {},
   "source": [
    "![Overview of the protocol.  Not my own work](./images/10x-protocol.png)"
   ]
  },
  {
   "cell_type": "markdown",
   "id": "0a94cd56-66c1-4d44-9eb9-d00f9cf92ec4",
   "metadata": {},
   "source": [
    "In brief:\n",
    "\n",
    "> The primer contains:\n",
    ">\n",
    "> * an Illumina TruSeq Read 1 (read 1 sequencing primer)\n",
    ">\n",
    "> * 16 nt 10x Barcode\n",
    ">\n",
    "> * 12 nt <b style=\"color:#A6A440\">unique molecular identifier (UMI)</b>\n",
    ">\n",
    "> * 30 nt poly(dT) sequence \n",
    "\n",
    "> Barcoded, full-length <b style=\"color:#A6A440\">cDNA</b> is amplified via <b style=\"color:#537FBF\">PCR</b> to generate sufficient mass for library construction. "
   ]
  },
  {
   "cell_type": "markdown",
   "id": "1c0c9d2a-60fb-4eaf-aca5-ffde73c8fb3d",
   "metadata": {},
   "source": [
    "## Data Exploration"
   ]
  },
  {
   "cell_type": "markdown",
   "id": "3e82b571-137c-4989-8e1f-6caada8b30dc",
   "metadata": {},
   "source": [
    "Now that we've taken a peak at the data collection details, let's explore the actual data.  I've downloaded the raw counts data from then <b style=\"color:#EB1960\">Single Cell Expression Atlas</b>."
   ]
  },
  {
   "cell_type": "code",
   "execution_count": null,
   "id": "7b71d0cc-9374-465a-9bb2-7c189a47716b",
   "metadata": {},
   "outputs": [],
   "source": [
    "file.path = './localdata/E-MTAB-8559-quantification-raw-files/'"
   ]
  },
  {
   "cell_type": "code",
   "execution_count": null,
   "id": "04d75565-f091-4dcd-b2c3-0d9667d9bea5",
   "metadata": {},
   "outputs": [],
   "source": [
    "raw.counts <- Matrix::readMM(\n",
    "    paste(\n",
    "        file.path,\n",
    "        'E-MTAB-8559.aggregated_filtered_counts.mtx',\n",
    "        sep=''\n",
    "    )\n",
    ")"
   ]
  },
  {
   "cell_type": "code",
   "execution_count": null,
   "id": "bca01665-6dbf-45a6-8e66-0f2c278d6eeb",
   "metadata": {},
   "outputs": [
    {
     "data": {
      "text/html": [
       "<style>\n",
       ".list-inline {list-style: none; margin:0; padding: 0}\n",
       ".list-inline>li {display: inline-block}\n",
       ".list-inline>li:not(:last-child)::after {content: \"\\00b7\"; padding: 0 .5ex}\n",
       "</style>\n",
       "<ol class=list-inline><li>23284</li><li>19880</li></ol>\n"
      ],
      "text/latex": [
       "\\begin{enumerate*}\n",
       "\\item 23284\n",
       "\\item 19880\n",
       "\\end{enumerate*}\n"
      ],
      "text/markdown": [
       "1. 23284\n",
       "2. 19880\n",
       "\n",
       "\n"
      ],
      "text/plain": [
       "[1] 23284 19880"
      ]
     },
     "metadata": {},
     "output_type": "display_data"
    }
   ],
   "source": [
    "dim(raw.counts)"
   ]
  },
  {
   "cell_type": "code",
   "execution_count": null,
   "id": "4ceefc4a-c351-4bb3-b5ac-3a1dc5e993be",
   "metadata": {},
   "outputs": [
    {
     "name": "stdout",
     "output_type": "stream",
     "text": [
      "[1] \"Both columns are indeed the same\"\n"
     ]
    },
    {
     "data": {
      "text/html": [
       "<table class=\"dataframe\">\n",
       "<caption>A data.frame: 6 × 1</caption>\n",
       "<thead>\n",
       "\t<tr><th></th><th scope=col>Ensembl.ID</th></tr>\n",
       "\t<tr><th></th><th scope=col>&lt;chr&gt;</th></tr>\n",
       "</thead>\n",
       "<tbody>\n",
       "\t<tr><th scope=row>1</th><td>ENSG00000000003</td></tr>\n",
       "\t<tr><th scope=row>2</th><td>ENSG00000000419</td></tr>\n",
       "\t<tr><th scope=row>3</th><td>ENSG00000000457</td></tr>\n",
       "\t<tr><th scope=row>4</th><td>ENSG00000000460</td></tr>\n",
       "\t<tr><th scope=row>5</th><td>ENSG00000000938</td></tr>\n",
       "\t<tr><th scope=row>6</th><td>ENSG00000000971</td></tr>\n",
       "</tbody>\n",
       "</table>\n"
      ],
      "text/latex": [
       "A data.frame: 6 × 1\n",
       "\\begin{tabular}{r|l}\n",
       "  & Ensembl.ID\\\\\n",
       "  & <chr>\\\\\n",
       "\\hline\n",
       "\t1 & ENSG00000000003\\\\\n",
       "\t2 & ENSG00000000419\\\\\n",
       "\t3 & ENSG00000000457\\\\\n",
       "\t4 & ENSG00000000460\\\\\n",
       "\t5 & ENSG00000000938\\\\\n",
       "\t6 & ENSG00000000971\\\\\n",
       "\\end{tabular}\n"
      ],
      "text/markdown": [
       "\n",
       "A data.frame: 6 × 1\n",
       "\n",
       "| <!--/--> | Ensembl.ID &lt;chr&gt; |\n",
       "|---|---|\n",
       "| 1 | ENSG00000000003 |\n",
       "| 2 | ENSG00000000419 |\n",
       "| 3 | ENSG00000000457 |\n",
       "| 4 | ENSG00000000460 |\n",
       "| 5 | ENSG00000000938 |\n",
       "| 6 | ENSG00000000971 |\n",
       "\n"
      ],
      "text/plain": [
       "  Ensembl.ID     \n",
       "1 ENSG00000000003\n",
       "2 ENSG00000000419\n",
       "3 ENSG00000000457\n",
       "4 ENSG00000000460\n",
       "5 ENSG00000000938\n",
       "6 ENSG00000000971"
      ]
     },
     "metadata": {},
     "output_type": "display_data"
    }
   ],
   "source": [
    "row.info <- read.table(\n",
    "    paste(\n",
    "        file.path,\n",
    "        'E-MTAB-8559.aggregated_filtered_counts.mtx_rows',\n",
    "        sep=''\n",
    "    ),\n",
    "    header=FALSE,\n",
    "    col.names=c(\"Ensembl.ID\", \"Redundant\")\n",
    ")\n",
    "\n",
    "if (all(row.info['Ensembl.ID'] == row.info['Redundant'])) {\n",
    "    # I don't understand why these datasets tend to write\n",
    "    # the same name twice in each row???\n",
    "    print(\"Both columns are indeed the same\")\n",
    "}\n",
    "\n",
    "# Drop duplicate column\n",
    "row.info <- row.info['Ensembl.ID']\n",
    "\n",
    "head(row.info)"
   ]
  },
  {
   "cell_type": "code",
   "execution_count": null,
   "id": "1b4ff96e-bc0f-4d41-a4c6-c25c3abba3a7",
   "metadata": {},
   "outputs": [
    {
     "data": {
      "text/html": [
       "<table class=\"dataframe\">\n",
       "<caption>A data.frame: 6 × 3</caption>\n",
       "<thead>\n",
       "\t<tr><th></th><th scope=col>Sample.Info</th><th scope=col>Cell.Barcode</th><th scope=col>Full.ID</th></tr>\n",
       "\t<tr><th></th><th scope=col>&lt;chr&gt;</th><th scope=col>&lt;chr&gt;</th><th scope=col>&lt;chr&gt;</th></tr>\n",
       "</thead>\n",
       "<tbody>\n",
       "\t<tr><th scope=row>1</th><td>SAMEA6492740</td><td>AAACCCACAGTTAGGG</td><td>SAMEA6492740-AAACCCACAGTTAGGG</td></tr>\n",
       "\t<tr><th scope=row>2</th><td>SAMEA6492740</td><td>AAACCCACATGTGTCA</td><td>SAMEA6492740-AAACCCACATGTGTCA</td></tr>\n",
       "\t<tr><th scope=row>3</th><td>SAMEA6492740</td><td>AAACCCAGTCGCATGC</td><td>SAMEA6492740-AAACCCAGTCGCATGC</td></tr>\n",
       "\t<tr><th scope=row>4</th><td>SAMEA6492740</td><td>AAACCCAGTCTTTCAT</td><td>SAMEA6492740-AAACCCAGTCTTTCAT</td></tr>\n",
       "\t<tr><th scope=row>5</th><td>SAMEA6492740</td><td>AAACCCATCCGTGTCT</td><td>SAMEA6492740-AAACCCATCCGTGTCT</td></tr>\n",
       "\t<tr><th scope=row>6</th><td>SAMEA6492740</td><td>AAACCCATCCTCTCTT</td><td>SAMEA6492740-AAACCCATCCTCTCTT</td></tr>\n",
       "</tbody>\n",
       "</table>\n"
      ],
      "text/latex": [
       "A data.frame: 6 × 3\n",
       "\\begin{tabular}{r|lll}\n",
       "  & Sample.Info & Cell.Barcode & Full.ID\\\\\n",
       "  & <chr> & <chr> & <chr>\\\\\n",
       "\\hline\n",
       "\t1 & SAMEA6492740 & AAACCCACAGTTAGGG & SAMEA6492740-AAACCCACAGTTAGGG\\\\\n",
       "\t2 & SAMEA6492740 & AAACCCACATGTGTCA & SAMEA6492740-AAACCCACATGTGTCA\\\\\n",
       "\t3 & SAMEA6492740 & AAACCCAGTCGCATGC & SAMEA6492740-AAACCCAGTCGCATGC\\\\\n",
       "\t4 & SAMEA6492740 & AAACCCAGTCTTTCAT & SAMEA6492740-AAACCCAGTCTTTCAT\\\\\n",
       "\t5 & SAMEA6492740 & AAACCCATCCGTGTCT & SAMEA6492740-AAACCCATCCGTGTCT\\\\\n",
       "\t6 & SAMEA6492740 & AAACCCATCCTCTCTT & SAMEA6492740-AAACCCATCCTCTCTT\\\\\n",
       "\\end{tabular}\n"
      ],
      "text/markdown": [
       "\n",
       "A data.frame: 6 × 3\n",
       "\n",
       "| <!--/--> | Sample.Info &lt;chr&gt; | Cell.Barcode &lt;chr&gt; | Full.ID &lt;chr&gt; |\n",
       "|---|---|---|---|\n",
       "| 1 | SAMEA6492740 | AAACCCACAGTTAGGG | SAMEA6492740-AAACCCACAGTTAGGG |\n",
       "| 2 | SAMEA6492740 | AAACCCACATGTGTCA | SAMEA6492740-AAACCCACATGTGTCA |\n",
       "| 3 | SAMEA6492740 | AAACCCAGTCGCATGC | SAMEA6492740-AAACCCAGTCGCATGC |\n",
       "| 4 | SAMEA6492740 | AAACCCAGTCTTTCAT | SAMEA6492740-AAACCCAGTCTTTCAT |\n",
       "| 5 | SAMEA6492740 | AAACCCATCCGTGTCT | SAMEA6492740-AAACCCATCCGTGTCT |\n",
       "| 6 | SAMEA6492740 | AAACCCATCCTCTCTT | SAMEA6492740-AAACCCATCCTCTCTT |\n",
       "\n"
      ],
      "text/plain": [
       "  Sample.Info  Cell.Barcode     Full.ID                      \n",
       "1 SAMEA6492740 AAACCCACAGTTAGGG SAMEA6492740-AAACCCACAGTTAGGG\n",
       "2 SAMEA6492740 AAACCCACATGTGTCA SAMEA6492740-AAACCCACATGTGTCA\n",
       "3 SAMEA6492740 AAACCCAGTCGCATGC SAMEA6492740-AAACCCAGTCGCATGC\n",
       "4 SAMEA6492740 AAACCCAGTCTTTCAT SAMEA6492740-AAACCCAGTCTTTCAT\n",
       "5 SAMEA6492740 AAACCCATCCGTGTCT SAMEA6492740-AAACCCATCCGTGTCT\n",
       "6 SAMEA6492740 AAACCCATCCTCTCTT SAMEA6492740-AAACCCATCCTCTCTT"
      ]
     },
     "metadata": {},
     "output_type": "display_data"
    }
   ],
   "source": [
    "col.info <- read.table(\n",
    "    paste(\n",
    "        file.path,\n",
    "        'E-MTAB-8559.aggregated_filtered_counts.mtx_cols',\n",
    "        sep=''\n",
    "    ),\n",
    "    header=FALSE,\n",
    "    sep='-',\n",
    "    col.names=c('Sample.Info', 'Cell.Barcode')\n",
    ")\n",
    "col.info['Full.ID'] <- apply(\n",
    "    col.info,\n",
    "    1, # Rows\n",
    "    function(row) {\n",
    "    paste(\n",
    "        row['Sample.Info'],\n",
    "        row['Cell.Barcode'],\n",
    "        sep='-'\n",
    "    )\n",
    "})\n",
    "\n",
    "head(col.info)"
   ]
  },
  {
   "cell_type": "code",
   "execution_count": null,
   "id": "cc15444a-db69-4467-bb39-33e56e278569",
   "metadata": {},
   "outputs": [],
   "source": [
    "exp.design.table <- read.table(\n",
    "    './localdata/ExpDesign-E-MTAB-8559.tsv',\n",
    "    header=TRUE,\n",
    "    sep='\\t'\n",
    ")"
   ]
  },
  {
   "cell_type": "markdown",
   "id": "7fc17ece-1bd9-4ec0-8225-5834d2fa74b3",
   "metadata": {},
   "source": [
    "We've loaded the data now; interestingly, the data only seems to be from 4 individuals, not 12 as previously mentioned!"
   ]
  },
  {
   "cell_type": "code",
   "execution_count": null,
   "id": "510f9cbc-e717-414c-8086-e1cefd21c0e8",
   "metadata": {},
   "outputs": [
    {
     "data": {
      "text/html": [
       "<style>\n",
       ".list-inline {list-style: none; margin:0; padding: 0}\n",
       ".list-inline>li {display: inline-block}\n",
       ".list-inline>li:not(:last-child)::after {content: \"\\00b7\"; padding: 0 .5ex}\n",
       "</style>\n",
       "<ol class=list-inline><li>'SAMEA6492740'</li><li>'SAMEA6492741'</li><li>'SAMEA6492742'</li><li>'SAMEA6492743'</li></ol>\n"
      ],
      "text/latex": [
       "\\begin{enumerate*}\n",
       "\\item 'SAMEA6492740'\n",
       "\\item 'SAMEA6492741'\n",
       "\\item 'SAMEA6492742'\n",
       "\\item 'SAMEA6492743'\n",
       "\\end{enumerate*}\n"
      ],
      "text/markdown": [
       "1. 'SAMEA6492740'\n",
       "2. 'SAMEA6492741'\n",
       "3. 'SAMEA6492742'\n",
       "4. 'SAMEA6492743'\n",
       "\n",
       "\n"
      ],
      "text/plain": [
       "[1] \"SAMEA6492740\" \"SAMEA6492741\" \"SAMEA6492742\" \"SAMEA6492743\""
      ]
     },
     "metadata": {},
     "output_type": "display_data"
    },
    {
     "data": {
      "text/html": [
       "<style>\n",
       ".list-inline {list-style: none; margin:0; padding: 0}\n",
       ".list-inline>li {display: inline-block}\n",
       ".list-inline>li:not(:last-child)::after {content: \"\\00b7\"; padding: 0 .5ex}\n",
       "</style>\n",
       "<ol class=list-inline><li>'38b'</li><li>'59'</li><li>'74-1'</li><li>'79'</li></ol>\n"
      ],
      "text/latex": [
       "\\begin{enumerate*}\n",
       "\\item '38b'\n",
       "\\item '59'\n",
       "\\item '74-1'\n",
       "\\item '79'\n",
       "\\end{enumerate*}\n"
      ],
      "text/markdown": [
       "1. '38b'\n",
       "2. '59'\n",
       "3. '74-1'\n",
       "4. '79'\n",
       "\n",
       "\n"
      ],
      "text/plain": [
       "[1] \"38b\"  \"59\"   \"74-1\" \"79\"  "
      ]
     },
     "metadata": {},
     "output_type": "display_data"
    }
   ],
   "source": [
    "unique(col.info$Sample.Info)\n",
    "unique(exp.design.table$Sample.Characteristic.individual.)"
   ]
  },
  {
   "cell_type": "markdown",
   "id": "4c12f66f-6a2d-45f2-8889-cfeef609b485",
   "metadata": {},
   "source": [
    "This is because the <b style=\"color:#537FBF\">scRNA-seq</b> data is only one of may experiments they've run on their dataset:\n",
    "\n",
    "> To extend this analysis, we analysed <b style=\"color:#A6A440\">OCMs</b> <strong style=\"color:#C0CF96\">38b</strong>, <strong style=\"color:#C0CF96\">59</strong>, <strong style=\"color:#C0CF96\">74–1</strong> and <strong style=\"color:#C0CF96\">79</strong> using a <b style=\"color:#EB1960\">10x Genomics platform</b>.\n",
    ">\n",
    "> -- [@ovarian-cancer-living-biobank]\n",
    "\n",
    "::: {.column-margin}\n",
    "<b style=\"color:#A6A440\">OCM</b> stands for <b style=\"color:#A6A440\">ovarian cancer models</b>; which is the name for the cultures that we are studying.\n",
    ":::"
   ]
  },
  {
   "cell_type": "markdown",
   "id": "aab15535-8a21-4717-8275-eaa258ca7ee6",
   "metadata": {},
   "source": [
    "We can also see that the data from our counts matrix is not necessarily integer, so we need to know what the counts are actually representing."
   ]
  },
  {
   "cell_type": "code",
   "execution_count": null,
   "id": "6fff81ed-ba85-4d38-9313-93e397c2ee6f",
   "metadata": {},
   "outputs": [
    {
     "data": {
      "text/plain": [
       "10 x 10 sparse Matrix of class \"dgTMatrix\"\n",
       "                           \n",
       " [1,] . . . . 1 . . . .   .\n",
       " [2,] . 1 1 . . . . . 2.0 .\n",
       " [3,] . . . . . 1 . . .   .\n",
       " [4,] . . . . . . . . .   .\n",
       " [5,] . . . . . . . . .   .\n",
       " [6,] . . . . . . . 1 .   .\n",
       " [7,] . . . 1 . . . . .   .\n",
       " [8,] . . . . . . . . .   .\n",
       " [9,] . . . . . . . . .   .\n",
       "[10,] . 2 . . 1 . . . 0.5 ."
      ]
     },
     "metadata": {},
     "output_type": "display_data"
    }
   ],
   "source": [
    "raw.counts[1:10, 1:10]"
   ]
  },
  {
   "cell_type": "markdown",
   "id": "4c26e1e3-7aa3-443f-8725-8e4aea9d5fac",
   "metadata": {},
   "source": [
    "<details>\n",
    "    <summary><b class=\"false-starts\">False Start</b><b style=\"color:#C0CF96\">: Log Transformed?</b></summary>"
   ]
  },
  {
   "cell_type": "markdown",
   "id": "3cb3550c-7d39-433b-a162-47aa6cb6ef13",
   "metadata": {},
   "source": [
    "One possible answer is that these \"raw\" counts have been log-transformed:\n",
    "\n",
    ">  Raw counts of the remaining cells were then <b style=\"color:#537FBF\">normalised</b> using the <b style=\"color:#537FBF\">deconvolution-based method</b> and then <b style=\"color:#537FBF\">log transformed</b>.\n",
    "\n",
    "But the smallest base that would possibly be used would be 2, and there's no way $2^{2772}$ genes were observed:"
   ]
  },
  {
   "cell_type": "code",
   "execution_count": null,
   "id": "9b3224f6-9d98-4bd3-9ee4-dede8bcc7a98",
   "metadata": {},
   "outputs": [
    {
     "data": {
      "text/html": [
       "2771.9734"
      ],
      "text/latex": [
       "2771.9734"
      ],
      "text/markdown": [
       "2771.9734"
      ],
      "text/plain": [
       "[1] 2771.973"
      ]
     },
     "metadata": {},
     "output_type": "display_data"
    }
   ],
   "source": [
    "max(raw.counts)"
   ]
  },
  {
   "cell_type": "markdown",
   "id": "70e02e18-180f-4791-b73e-b72cea784bcc",
   "metadata": {},
   "source": [
    "</details>"
   ]
  },
  {
   "cell_type": "markdown",
   "id": "e6ef74bc-4141-4f4a-8bb7-2880bc7b96ee",
   "metadata": {},
   "source": [
    "According to [the internet](https://bioinformatics.stackexchange.com/questions/4993/article-geo-gives-counts-that-are-not-integers-should-umi-counts-be-integers), sometimes values are stated in terms of \"expected counts\", since there is luck in RNA sequencing as to how easy it is to paste the reads back together.  Looking into the <b style=\"color:#EB1960\">Single Cell Expression Atlas</b>'s section on Supplementary Information, @ovarian-cancer-living-biobank used <b style=\"color:#EB1960\">Alevin v1.5.1</b> [@alevin], a tool to produce <strong style=\"color:#C0CF96\">estimated</strong> counts.  Thus it seems reasonable to conclude that the counts represent estimated counts."
   ]
  },
  {
   "cell_type": "markdown",
   "id": "3487ccd5-625d-4629-9bcf-7b7ba868c585",
   "metadata": {},
   "source": [
    "That's all for now - next time, we'll try to reproduce <b style=\"color:#EB1960\">Figure 5</b> from the paper."
   ]
  }
 ],
 "metadata": {
  "kernelspec": {
   "display_name": "R [conda env:JupyterWithR]",
   "language": "R",
   "name": "conda-env-JupyterWithR-r"
  }
 },
 "nbformat": 4,
 "nbformat_minor": 5
}
