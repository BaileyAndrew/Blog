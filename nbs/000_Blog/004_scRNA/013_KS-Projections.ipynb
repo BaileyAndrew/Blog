{
 "cells": [
  {
   "cell_type": "raw",
   "id": "e4333b46-756f-4dc5-87ff-fcb1769bd255",
   "metadata": {},
   "source": [
    "---\n",
    "title: \"Kronecker Sum Projections\"\n",
    "description: \"L\"\n",
    "author: \"Bailey Andrew\"\n",
    "date: \"Jan 26 2023\"\n",
    "draft: true\n",
    "categories: [Work, Useful]\n",
    "bibliography: bibliography.bib\n",
    "format:\n",
    "  html:\n",
    "    css:\n",
    "      - ../../html_scripts/collapse.css\n",
    "      - ../../html_scripts/pretty_shortcuts.css\n",
    "    include-after-body: \n",
    "      - ../../html_scripts/collapse.html\n",
    "      - ../../html_scripts/comments.html\n",
    "      - ../../html_scripts/make_header_sensible.html\n",
    "---"
   ]
  },
  {
   "cell_type": "markdown",
   "id": "c9ca44f1-067f-4d3d-bd0a-381ddc288b78",
   "metadata": {},
   "source": [
    "# Factorwise Averages"
   ]
  },
  {
   "cell_type": "code",
   "execution_count": null,
   "id": "78b590af-8c04-495b-8ec7-63df326aa17a",
   "metadata": {},
   "outputs": [],
   "source": [
    "import numpy as np"
   ]
  },
  {
   "cell_type": "code",
   "execution_count": null,
   "id": "fe3e20b5-eff6-447f-a216-50654682ff52",
   "metadata": {},
   "outputs": [
    {
     "name": "stdout",
     "output_type": "stream",
     "text": [
      "[[ 0  1  2  3  4  5  6  7]\n",
      " [ 8  9 10 11 12 13 14 15]\n",
      " [16 17 18 19 20 21 22 23]\n",
      " [24 25 26 27 28 29 30 31]\n",
      " [32 33 34 35 36 37 38 39]\n",
      " [40 41 42 43 44 45 46 47]\n",
      " [48 49 50 51 52 53 54 55]\n",
      " [56 57 58 59 60 61 62 63]]\n"
     ]
    },
    {
     "data": {
      "text/plain": [
       "array([[ 0,  1,  4,  5],\n",
       "       [ 8,  9, 12, 13],\n",
       "       [32, 33, 36, 37],\n",
       "       [40, 41, 44, 45]])"
      ]
     },
     "execution_count": null,
     "metadata": {},
     "output_type": "execute_result"
    }
   ],
   "source": [
    "def factorwise_matrix(\n",
    "    mat: \"Mat to be factored\",\n",
    "    ds: \"Dimensions of factor matrices\",\n",
    "    idx: \"Indices\",\n",
    "    k: \"Dimension\"\n",
    "):\n",
    "    \"\"\"\n",
    "    A(i, j | k) notation from TeraLasso\n",
    "    \"\"\"\n",
    "    \n",
    "    # Stride-blocking based off of StackOverflow answer:\n",
    "    # https://stackoverflow.com/a/8070716/10642078\n",
    "    d = ds[k]\n",
    "    d_left = np.prod(ds[:k]).astype(int)\n",
    "    d_right = np.prod(ds[k+1:]).astype(int)\n",
    "    size = d_left * d * d_right\n",
    "    \n",
    "    sz = mat.itemsize\n",
    "    shape = (d * d_right, d * d_right, d_left, d_left)\n",
    "\n",
    "    strides = sz * np.array([\n",
    "        mat.shape[0] * d_left,\n",
    "        d_left,\n",
    "        mat.shape[0],\n",
    "        1\n",
    "    ])\n",
    "    blocks = np.lib.stride_tricks.as_strided(mat, shape=shape, strides=strides)\n",
    "    \n",
    "    # Now that we've got the strides, we need to pick the right one based on the idxs\n",
    "    i, j = idx\n",
    "    \n",
    "    # Last two dimensions are the sizes of the blocks\n",
    "    specific_block =  blocks[i::d, j::d]\n",
    "    \n",
    "    # Now we need to de-stride the block\n",
    "    return np.concatenate(\n",
    "        np.concatenate(\n",
    "            specific_block,\n",
    "            axis=1\n",
    "        ),\n",
    "        axis=1\n",
    "    )\n",
    "    \n",
    "n=8\n",
    "m=8\n",
    "a = np.arange(n*m).reshape(n,m)\n",
    "print(a)\n",
    "out = factorwise_matrix(a, [2, 2, 2], (0, 0), 1)\n",
    "\n",
    "out"
   ]
  },
  {
   "cell_type": "code",
   "execution_count": null,
   "id": "86c9eed1-8b2a-49c6-9a90-1e4e745c4c7b",
   "metadata": {},
   "outputs": [
    {
     "data": {
      "text/plain": [
       "array([[ 4.5,  5. ,  6.5,  7. ],\n",
       "       [ 8.5,  9. , 10.5, 11. ],\n",
       "       [20.5, 21. , 22.5, 23. ],\n",
       "       [24.5, 25. , 26.5, 27. ]])"
      ]
     },
     "execution_count": null,
     "metadata": {},
     "output_type": "execute_result"
    }
   ],
   "source": [
    "def factorwise_average(\n",
    "    mat: \"Mat to be factored\",\n",
    "    ds: \"Dimensions of factor matrices\",\n",
    "    k: \"Dimension\"\n",
    "):\n",
    "    d = ds[k]\n",
    "    d_left = np.prod(ds[:k]).astype(int)\n",
    "    d_right = np.prod(ds[k+1:]).astype(int)\n",
    "    d_non = d_left * d_right\n",
    "    out = np.zeros((d_non, d_non))\n",
    "    for i in range(d):\n",
    "        out += factorwise_matrix(mat, ds, (i, i), k)\n",
    "    return out / d_non\n",
    "factorwise_average(a, [2, 2, 2], 1)"
   ]
  },
  {
   "cell_type": "code",
   "execution_count": null,
   "id": "4bffff92-cf28-471b-a5ee-b083a143d56a",
   "metadata": {},
   "outputs": [
    {
     "data": {
      "text/plain": [
       "array([[-16.66666667,   5.5       ,   7.        ,   7.5       ],\n",
       "       [  9.        , -12.16666667,  11.        ,  11.5       ],\n",
       "       [ 21.        ,  21.5       ,   1.33333333,  23.5       ],\n",
       "       [ 25.        ,  25.5       ,  27.        ,   5.83333333]])"
      ]
     },
     "execution_count": null,
     "metadata": {},
     "output_type": "execute_result"
    }
   ],
   "source": [
    "def kronecker_factor(\n",
    "    mat: \"Mat to be factored\",\n",
    "    ds: \"Dimensions of factor matrices\",\n",
    "    k: \"Dimension\"\n",
    "):\n",
    "    K = len(ds)\n",
    "    A = factorwise_average(mat, ds, k)\n",
    "    offset = (K-1)/K * np.trace(A) / ds[k]\n",
    "    return A - offset * np.eye(A.shape[0])\n",
    "\n",
    "kronecker_factor(a, [2, 2, 2], 1)"
   ]
  },
  {
   "cell_type": "code",
   "execution_count": null,
   "id": "2eb66032-351e-4501-b376-39c35bcdcd9b",
   "metadata": {},
   "outputs": [],
   "source": [
    "def kron_sum(A, B):\n",
    "    \"\"\"\n",
    "    Computes the kronecker sum of two square input matrices\n",
    "    \n",
    "    Note: `scipy.sparse.kronsum` is a thing that would\n",
    "    be useful - but it seems that `scipy.sparse` is not\n",
    "    yet a mature library to use.\n",
    "    \"\"\"\n",
    "    a, _ = A.shape\n",
    "    b, _ = B.shape\n",
    "    return np.kron(A, np.eye(b)) + np.kron(np.eye(a), B)"
   ]
  },
  {
   "cell_type": "code",
   "execution_count": null,
   "id": "09e33cd9-6731-4cb1-9341-836d05379d15",
   "metadata": {},
   "outputs": [
    {
     "name": "stdout",
     "output_type": "stream",
     "text": [
      "[[ True  True  True]\n",
      " [ True  True  True]\n",
      " [ True  True  True]]\n",
      "[[ True  True  True]\n",
      " [ True  True  True]\n",
      " [ True  True  True]]\n"
     ]
    }
   ],
   "source": [
    "factor_1 = np.arange(9).reshape(3, 3) - 4\n",
    "factor_2 = np.arange(9).reshape(3, 3) - 4\n",
    "b = kron_sum(factor_1, factor_2)\n",
    "print(factor_1 == kronecker_factor(b, [3, 3], 0))\n",
    "print(factor_2 == kronecker_factor(b, [3, 3], 1))"
   ]
  },
  {
   "cell_type": "code",
   "execution_count": null,
   "id": "4dbd4478-77bb-4246-9d1e-a9fbf55f7463",
   "metadata": {},
   "outputs": [
    {
     "name": "stdout",
     "output_type": "stream",
     "text": [
      "[[ True  True  True]\n",
      " [ True  True  True]\n",
      " [ True  True  True]]\n",
      "[[ True  True  True]\n",
      " [ True  True  True]\n",
      " [ True  True  True]]\n"
     ]
    }
   ],
   "source": [
    "factor_1 = np.arange(9).reshape(3, 3) - 4\n",
    "factor_2 = np.arange(9).reshape(3, 3)\n",
    "factor_2 = factor_2 @ factor_2 - 60\n",
    "b = kron_sum(factor_1, factor_2)\n",
    "print(factor_1 == kronecker_factor(b, [3, 3], 0))\n",
    "print(factor_2 == kronecker_factor(b, [3, 3], 1))"
   ]
  },
  {
   "cell_type": "code",
   "execution_count": null,
   "id": "6d4f27a1-a23f-4df6-a0f3-49e8d8b4881e",
   "metadata": {},
   "outputs": [
    {
     "name": "stdout",
     "output_type": "stream",
     "text": [
      "[[-4 -3 -2]\n",
      " [-1  0  1]\n",
      " [ 2  3  4]]\n",
      "[[-4.75  0.  ]\n",
      " [ 0.    4.75]]\n",
      "[[-1.5 -0.5]\n",
      " [ 0.5  1.5]]\n",
      "[[-1.33333333 -0.16666667 -0.66666667]\n",
      " [ 0.16666667  0.         -0.16666667]\n",
      " [ 0.66666667  0.16666667  1.33333333]]\n"
     ]
    }
   ],
   "source": [
    "# TODO: Fix this\n",
    "factor_1 = np.arange(9).reshape(3, 3) - 4\n",
    "factor_2 = np.arange(4).reshape(2, 2) - 1.5\n",
    "b = kron_sum(factor_1, factor_2)\n",
    "print(factor_1)\n",
    "print(kronecker_factor(b, [3, 2], 0))\n",
    "print(factor_2)\n",
    "print(kronecker_factor(b, [3, 2], 1))"
   ]
  },
  {
   "cell_type": "markdown",
   "id": "d1dd3db0-0c9b-49a4-90ee-dd2ede14e25f",
   "metadata": {},
   "source": [
    "## Fast KS-Diag"
   ]
  },
  {
   "cell_type": "code",
   "execution_count": null,
   "id": "d098881b-9eba-4e7e-9b2c-ecf080ee7657",
   "metadata": {},
   "outputs": [
    {
     "name": "stdout",
     "output_type": "stream",
     "text": [
      "[ 0  1  2  3  4  5  6  7  8  9 10 11 12 13 14 15 16 17 18 19 20 21 22 23]\n",
      "(1, 24)\n",
      "[[0 63606911108032 63606911108224 0 0 0 0 0 0 0 0 0]\n",
      " [1 7 2043 0 0 0 0 0 0 0 0 0]]\n",
      "(2, 12)\n",
      "[[ 0 12 63606911108032  0 63606911108224  0  0  0]\n",
      " [ 2 14  4 14  4 14  0  0]\n",
      " [ 4 16 14 14 14 14  0  0]]\n",
      "(6, 4)\n",
      "[[ 0  4  8 12 16 20]\n",
      " [ 6 10 14 18 22  8]\n",
      " [12 16 20 63606911108032 16 14]\n",
      " [18 22  8  6 22 20]]\n"
     ]
    }
   ],
   "source": [
    "def kronsum_diag(\n",
    "    *lams: \"1D vectors to be kronsummed\"\n",
    "):\n",
    "    ds = [len(lam) for lam in lams]\n",
    "    skips = np.cumprod([1] + ds)\n",
    "    total = skips[-1]\n",
    "    \n",
    "    out = np.arange(total)#np.zeros(total)\n",
    "    print(out)\n",
    "    \n",
    "    for i in range(len(lams)):\n",
    "        #out[::skips[i]] += lams[i]\n",
    "        amnt = lams[i].shape[0]\n",
    "        sz = lams[i].itemsize\n",
    "        skip = skips[i]\n",
    "        toset = np.lib.stride_tricks.as_strided(\n",
    "            out,\n",
    "            shape=(amnt, total // amnt),\n",
    "            strides=(sz * skip, sz * total // skip)\n",
    "        )\n",
    "        print((skip, total // skip))\n",
    "        print(toset)\n",
    "    \n",
    "    \n",
    "kronsum_diag(\n",
    "    np.arange(2),\n",
    "    np.arange(3),\n",
    "    np.arange(4)\n",
    ")"
   ]
  }
 ],
 "metadata": {
  "kernelspec": {
   "display_name": "Python [conda env:Blog-nbdev]",
   "language": "python",
   "name": "conda-env-Blog-nbdev-py"
  }
 },
 "nbformat": 4,
 "nbformat_minor": 5
}
