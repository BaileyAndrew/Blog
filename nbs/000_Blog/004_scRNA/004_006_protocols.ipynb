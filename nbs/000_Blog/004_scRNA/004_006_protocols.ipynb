{
 "cells": [
  {
   "cell_type": "raw",
   "id": "4c637851-64d7-4569-b64a-242bd0181f6d",
   "metadata": {},
   "source": [
    "---\n",
    "title: \"Overview of scRNA-seq Data Creation -- Sequencing Protocol\"\n",
    "description: \"An overview of the different sequencing protocols in scRNA-seq.\"\n",
    "author: \"Bailey Andrew\"\n",
    "date: \"Jan 11 2023\"\n",
    "draft: false\n",
    "categories: [Work, Omics, Useful]\n",
    "bibliography: bibliography.bib\n",
    "format:\n",
    "  html:\n",
    "    css:\n",
    "      - ../../html_scripts/collapse.css\n",
    "      - ../../html_scripts/pretty_shortcuts.css\n",
    "    include-after-body: \n",
    "      - ../../html_scripts/collapse.html\n",
    "      - ../../html_scripts/comments.html\n",
    "---"
   ]
  },
  {
   "cell_type": "markdown",
   "id": "376a9911-3b4f-4758-85a2-ec4923e4c28e",
   "metadata": {},
   "source": [
    "I've seen a few \"<b style=\"color:#A6A440\">protocols</b>\" pop up, such as <b style=\"color:#A6A440\">Smart-seq2</b> and <b style=\"color:#A6A440\">10x Chromium</b>.  This blog aims to answer the following questions:\n",
    "\n",
    "*  What are protocols\n",
    "*  What affect do they have on downstream analysis\n",
    "*  Which are the common protocols\n",
    "\n",
    "I am indebted to @protocols for much of my understanding."
   ]
  },
  {
   "cell_type": "markdown",
   "id": "f8963d27-2442-469e-925f-b6ea2213c5c2",
   "metadata": {},
   "source": [
    "# What is a <b style=\"color:#A6A440\">protocol</b>?"
   ]
  },
  {
   "cell_type": "markdown",
   "id": "d114bd66-0f02-4a12-99a8-b335b1a77d27",
   "metadata": {},
   "source": [
    "An algorithm for biologicians; it's a recorded sequence of steps to follow in the lab to produce scRNA-seq data."
   ]
  },
  {
   "cell_type": "markdown",
   "id": "531d298f-9acb-4e60-8c69-ce26cdb22659",
   "metadata": {},
   "source": [
    "# Details about <b style=\"color:#A6A440\">protocols</b>"
   ]
  },
  {
   "cell_type": "markdown",
   "id": "c836cb50-e382-4c08-8092-e4610841ef4d",
   "metadata": {},
   "source": [
    "> One type of technical variable is the <b style=\"color:#A6A440\">sensitivity</b> of a scRNA-seq method (i.e., <b style=\"color:#C0CF96\">the probability to capture and convert a particular mRNA transcript present in a single cell into a cDNA molecule present in the library</b>). Another variable of interest is the <b style=\"color:#A6A440\">accuracy</b> (i.e.,  <b style=\"color:#C0CF96\">how well the read quantification corresponds to the actual concentration of mRNAs</b>), and a third type is the <b style=\"color:#A6A440\">precision with which this amplification occurs</b> (i.e., the technical variation of the quantification). The combination of <b style=\"color:#A6A440\">sensitivity</b>, <b style=\"color:#A6A440\">precision</b>, and number of cells analyzed determines the power to detect relative differences in expression levels.\n",
    ">\n",
    "> -- @protocols"
   ]
  },
  {
   "cell_type": "markdown",
   "id": "427ec8c6-4451-4f1f-8d19-ccd4ec9c48ce",
   "metadata": {},
   "source": [
    "The difference between <b style=\"color:#A6A440\">sensitivity</b> and <b style=\"color:#A6A440\">accuracy</b> is a bit confusing.  I <strong style=\"color:#757575\">think</strong> that <b style=\"color:#A6A440\">sensitivity</b> here is on a per-trascript level (how likely it is to be captured) whereas the <b style=\"color:#A6A440\">accuracy</b> is about the relative proportions of the transcripts.  If you had 5 instances of <b style=\"color:#EB1960\">mt-co1</b> and 10 instances of <b style=\"color:#EB1960\">mt-cyb</b> in your results but had 10  <b style=\"color:#EB1960\">mt-co1</b>/20 <b style=\"color:#EB1960\">mt-cyb</b> in reality, the precision would be 50% but the accuracy would be 100%.  I'm not sure what they mean by <b style=\"color:#A6A440\">precision</b>, but I feel confident in assuming it's the probability that a reported transcript was actually present in the sample."
   ]
  },
  {
   "cell_type": "markdown",
   "id": "ae2fc1a7-c40e-456c-80fa-1121410729c6",
   "metadata": {},
   "source": [
    "<details>\n",
    "    <summary><b class=\"sidequests\">Sidequest</b><b style=\"color:#C0CF96\">: What is <b style=\"color:#EB1960\">mt-co1</b>?</b></summary>\n",
    "    I've been trying to \"<b style=\"color:#C0CF96\">think more like a bioinformatician</b>\".  Now, I don't really think that bioinformatician spend much time learning about random genes, but I think the tools I have to use to learn about them will be tools that bioinformaticians use and hence learning about random genes will still be useful for me.  <b style=\"color:#EB1960\">mt-co1</b> is a random gene, which is why I picked it out here.  I specifically picked it because it's present in zebrafish (<i style=\"color:#EB1960\">Danio rerio</i>), which is what I was reading about a lot lately.  However, it is also present in humans and mice.  In fact it's probably present in a lot of places, this was just what came up on the first page of my <b style=\"color:#EB1960\">Ensembl</b> search. \n",
    "    \n",
    "*  For zebrafish, the <b style=\"color:#A6A440\">Ensembl ID</b> is <b style=\"color:#757575\">ENSDARG00000063905</b>\n",
    "*  For humans, the <b style=\"color:#A6A440\">Ensembl ID</b> is <b style=\"color:#757575\">ENSG00000198804</b>\n",
    "*  For mice, the <b style=\"color:#A6A440\">Ensembl ID</b> is <b style=\"color:#757575\">ENSMUSG00000064351</b>\n",
    "    \n",
    "In general it has quite a lot of <b style=\"color:#A6A440\">orthologs</b> (genes in similar species sharing a common ancestor).  However, there are also quite a lot of species (98) for which <b style=\"color:#EB1960\">Ensembl</b> reports no <b style=\"color:#A6A440\">orthologs</b>, such as <i style=\"color:#EB1960\">Balaenoptera musculus</i>, the blue whale.  Unfortunately, it's not clear to me whether <b style=\"color:#EB1960\">Ensembl</b> reports no orthologs because it is confident none exist, or because it does not have the data; there are 314 species in <b style=\"color:#EB1960\">Ensembl</b> as far as I can tell, 200 of which have <b style=\"color:#A6A440\">orthologs</b> and 98 of which don't.  Presumably the remaining 16 are unsure?  But it'd be weird that such a high percentage of species, spread out over many domains in the tree of life, lack a mitochondrial gene that is very widespread.  I'm not sure.\n",
    "\n",
    "![Human vs zebrafish mitochondrial dna near <b style=\"color:#EB1960\">mt-co1</b>](./human-zebra-m1-co1.png)\n",
    "\n",
    "We can see that this region seems to be <em style=\"color:#C0CF96\">highly</em> conserved between species; all the protein-coding genes are in the same order along the chromosome.  Zebrafish and humans are just about as far away as you can get among vertebrates so if it's conserved amongst them, we'd expect it to be conserved amongst much closer relatives as well.\n",
    "    \n",
    "![<b style=\"color:#EB1960\">Ensembl</b> genome for the blue whale](./whale-genome.png)\n",
    "    \n",
    "The above graphic indicates that <b style=\"color:#EB1960\">Ensembl</b> does not have the mitochondrial DNA for the blue whale (or else we'd expect an \"MT\" chromosome like in humans).  This seals the deal for me that a lack of <b style=\"color:#A6A440\">orthologs</b> in <b style=\"color:#EB1960\">Ensembl</b> does not denote confidence in a lack of <b style=\"color:#A6A440\">orthologs</b> irl, merely that no orthologs have been found.\n",
    "\n",
    "Despite my current fascination with zebrafish, I'll mostly talk about its role in humans (but again, it's probably quite similar).\n",
    "    \n",
    "To continue, <b style=\"color:#EB1960\">mt-co1</b> stands for \"mitochondrially encoded cytochrome c oxidase I\".\n",
    "    \n",
    "![Table of possible gene variants](./variants.png)\n",
    "    \n",
    "The above table is quite interesting; it's a list of known variants to the gene that have occured.  I'll go through column-by-column to explain what they are.\n",
    "    \n",
    "* <b style=\"color:#537FBF\">Variant ID</b>: The unique identifier of this gene variant.\n",
    "* <b style=\"color:#537FBF\">Chr: bp</b>: The location, in terms of base pairs, along the chromosome.\n",
    "* <b style=\"color:#537FBF\">Alleles</b>: The base pair before the slash is the default, the ones after the slash are possible mutations.\n",
    "* <b style=\"color:#537FBF\">Global MAF</b>: \"The frequency of the second most common allele in the global population, defined in human by the 1000 Genomes Project phase 3.\n",
    "* <b style=\"color:#537FBF\">Class</b>: The type of variant it is (SNP or SNV for example)\n",
    "* <b style=\"color:#537FBF\">Source</b>: The database this is from\n",
    "* <b style=\"color:#537FBF\">Evidence</b>: Evidence for the existence of this variant\n",
    "* <b style=\"color:#537FBF\">Clinical Significance</b>: Clinical significance\n",
    "* <b style=\"color:#537FBF\">Consequence Type</b>: What will happen when the cell/mitochondria try to transcribe this DNA?  How will it affect the mRNA and the protein?\n",
    "* <b style=\"color:#537FBF\">AA</b>: The resulting amino acid (before the slash is original, after is the variant - it's possible for synonymous variants to exist in which case there's no slash).\n",
    "* <b style=\"color:#537FBF\">AA coord</b>: Not sure, but I think this is its location in the chain of amino acids in the generated protein.\n",
    "* <b style=\"color:#537FBF\">SIFT</b>: Score of likelihood for whether we predict the function of the generated protein to change.\n",
    "* <b style=\"color:#537FBF\">Poly-Phen</b>: (I think \"phen\" is \"phenotype\", as in \"multiple phenotypes\").  Another score of likelihood of predicted function change, calculated by looking at different characteristics.\n",
    "* <b style=\"color:#537FBF\">CADD</b>: Scores the \"deleteriousness\" of SNPs\n",
    "* <b style=\"color:#537FBF\">REVEL</b>: Predicts \"pathogeneity\" of of SNVs\n",
    "* <b style=\"color:#537FBF\">Meta LR</b>: Same as above\n",
    "* <b style=\"color:#537FBF\">Mutation Assessor</b>: Similar to <b style=\"color:#537FBF\">SIFT</b> and <b style=\"color:#537FBF\">Poly-Phen</b>.  For SNVs.\n",
    "* <b style=\"color:#537FBF\">Transcript</b>: How the gene manifests in RNA\n",
    "    \n",
    "![We can look at more details by clicking on the variant ID!  But this is for another time.](./variant-info.png)\n",
    "    \n",
    "![And more details about the transcript!  But this is also for another time.](./transcript-info.png)\n",
    "    \n",
    "The stuff about clinical significance might be quite useful to look at for future projects.\n",
    "    \n",
    "We could look into ontology terms and pathways as well, but I've spent quite a long time on this <b class=\"sidequests\">sidequest</b>.\n",
    "    \n",
    "</details>"
   ]
  },
  {
   "cell_type": "markdown",
   "id": "01e6c69d-0db5-4c0c-9c0d-a9ce33312382",
   "metadata": {},
   "source": [
    "<details>\n",
    "    <summary><b class=\"sidequests\">Sidequest</b><b style=\"color:#C0CF96\">: What is <b style=\"color:#EB1960\">mt-cyb</b>?</b></summary>\n",
    "<b style=\"color:#EB1960\">mt-cyb</b>, or <b style=\"color:#757575\">ENSG00000198727</b>, or even \"mitochondrially encoded cytochrome b\", is another mitochondrial gene.  It is involved in \"respiratory electron transport\", metabolism, and <b style=\"color:#A6A440\">the citric acid cycle</b>, but has no more known pathways in <b style=\"color:#EB1960\">Ensembl</b>.  All of the aforementioned pathways were also shared by <b style=\"color:#EB1960\">mt-co1</b>, but <b style=\"color:#EB1960\">mt-co1</b> had much more pathways overall.\n",
    "    \n",
    "![The phenotypes page on <b style=\"color:#EB1960\">Ensembl</b>](./phenotypes.png)\n",
    "    \n",
    "We can see that variants in this gene can be related to certain diseases.  Based on the GO terms, it is an \"integral component of membrane\".  That's all for now, folks!\n",
    "</details>"
   ]
  },
  {
   "cell_type": "markdown",
   "id": "90d842a0-9930-4e4e-9c9c-74a30b9de0dc",
   "metadata": {},
   "source": [
    "![A graphical overview from @protocols.  Not my own work.](./protocol-compare.jpg)"
   ]
  },
  {
   "cell_type": "markdown",
   "id": "360dc478-98d9-4563-8fa5-a01ef5a1f454",
   "metadata": {},
   "source": [
    "There's a lot to unpack in this image.  I'll only pick out a few."
   ]
  },
  {
   "cell_type": "markdown",
   "id": "a739cd29-fbb1-40f6-b300-694f830195f9",
   "metadata": {},
   "source": [
    "## <b style=\"color:#537FBF\">Reverse Transcription</b>"
   ]
  },
  {
   "cell_type": "markdown",
   "id": "cc2c989d-68f8-4767-9e9c-e5b473954de4",
   "metadata": {},
   "source": [
    "The creation of cDNA from RNA (called so because DNA->RNA is <b style=\"color:#537FBF\">transcription</b>).  cDNA is more stable than RNA, so it's easier to work with."
   ]
  },
  {
   "cell_type": "markdown",
   "id": "1da3ff19-a4ca-49e6-97b7-4b83ef941353",
   "metadata": {},
   "source": [
    "## <b style=\"color:#537FBF\">2nd Strand Synthesis</b>"
   ]
  },
  {
   "cell_type": "markdown",
   "id": "6ccd9aff-0c54-4d0f-9650-48afdeeb79e3",
   "metadata": {},
   "source": [
    "The synthesis of the second strand of cDNA or RNA (😉).  (Since <b style=\"color:#537FBF\">reverse transcription</b> is just creating one strand of cDNA)"
   ]
  },
  {
   "cell_type": "markdown",
   "id": "ca2f4c36-92f6-4396-a1f3-c18096bd776b",
   "metadata": {},
   "source": [
    "## <b style=\"color:#537FBF\">PCR</b>"
   ]
  },
  {
   "cell_type": "markdown",
   "id": "bd59ee35-620f-4a74-8ede-46b38ed18be7",
   "metadata": {},
   "source": [
    "<b style=\"color:#537FBF\">PCR</b> stands for <b style=\"color:#537FBF\">Polymerase Chain Reaction</b>.\n",
    "\n",
    "> Sometimes called \"molecular photocopying,\" the <b style=\"color:#537FBF\">polymerase chain reaction (PCR)</b> is a fast and inexpensive technique used to \"<b style=\"color:#537FBF\">amplify</b>\" - copy - small segments of DNA.\n",
    ">\n",
    "> -- <b style=\"color:#EB1960\">@pcr</b>"
   ]
  },
  {
   "cell_type": "markdown",
   "id": "927a0e3c-8472-43d7-bad8-39d690ada277",
   "metadata": {},
   "source": [
    "## <b style=\"color:#537FBF\">IVT</b>"
   ]
  },
  {
   "cell_type": "markdown",
   "id": "b9875438-54e3-4661-8164-6b4bd9cc8f18",
   "metadata": {},
   "source": [
    "<b style=\"color:#537FBF\">IVT</b> stands for <b style=\"color:#537FBF\">In Vitro Transcription</b>, and is a method of <b style=\"color:#537FBF\">amplification</b>.\n",
    "\n",
    "> <b style=\"color:#537FBF\">In vitro transcription</b> is a simple procedure that allows for template-directed synthesis of RNA molecules of any sequence from short <b style=\"color:#A6A440\">oligonucleotides</b> to those of several kilobases in μg to mg quantities. It is based on the engineering of a template that includes a <b style=\"color:#A6A440\">bacteriophage promoter sequence</b> (e.g. from the T7 coliphage) upstream of the sequence of interest followed by transcription using the corresponding RNA polymerase.\n",
    ">\n",
    "> -- <b style=\"color:#EB1960\">@ivt</b>"
   ]
  },
  {
   "cell_type": "markdown",
   "id": "88d165c7-f999-4887-ad48-57d43224fac8",
   "metadata": {},
   "source": [
    "## <b style=\"color:#537FBF\">RNA fragmentation</b>"
   ]
  },
  {
   "cell_type": "markdown",
   "id": "5de4ddbb-abe8-4e55-81a6-99b75f5ac536",
   "metadata": {},
   "source": [
    "> After poly(A) + selection or rRNA depletion, RNA samples are typically subject to RNA fragmentation to a certain size range before RT. <strong style=\"color:#C0CF96\">This is necessary because of the size limitation of most current sequencing platforms</strong>, e.g., <600 bp on Illumina sequencers.\n",
    ">\n",
    "> -- <b style=\"color:#EB1960\"> Fragmentation Subsection; General Aspects OF RNA-Seq Section; @rna-seq-methods </b>"
   ]
  },
  {
   "cell_type": "markdown",
   "id": "8128f8df-56a1-4a50-8053-39ac77e92c32",
   "metadata": {},
   "source": [
    "Fragmentation is done when there is a limited <b style=\"color:#A6A440\">read length</b> in your <b style=\"color:#A6A440\">flow cell</b>.  If we did not fragment the RNA, then we would need large read length to read the base pairs in the middle of a long RNA strand.  <b style=\"color:#537FBF\">Fragmentation</b> is not necessary if your read length is longer than the largest RNA molecule (or unlimited).  <b style=\"color:#537FBF\">Fragmentation</b> puts extra strain on downstream analysis, because we need to reconstruct the original sequence from the fragments.  Furthermore, <b style=\"color:#537FBF\">fragmentation</b> isn't random; the techniques used to break up the RNA may preferentially cause breaks in some places compared to others.  @rna-seq-methods talk about about the biases for different <b style=\"color:#537FBF\">fragmentation</b> methods."
   ]
  },
  {
   "cell_type": "markdown",
   "id": "368febd3-82cb-4e35-a3fc-30a1b47ff416",
   "metadata": {},
   "source": [
    "<b style=\"color:#537FBF\">Fragmentation</b> can also be used on the cDNA, but it can be harder to automate.  However, <b style=\"color:#537FBF\">tagmentation</b> is done on cDNA."
   ]
  },
  {
   "cell_type": "markdown",
   "id": "bcc8b144-2fd8-4178-80b0-7b4004310c90",
   "metadata": {},
   "source": [
    "## <b style=\"color:#537FBF\">Tagmentation</b>"
   ]
  },
  {
   "cell_type": "markdown",
   "id": "727887bd-96b8-4fae-a746-9d6116215baa",
   "metadata": {},
   "source": [
    "> Recent development in using transposon-based, so-called <b style=\"color:#537FBF\">tagmentation</b> method has made it simple to <b style=\"color:#537FBF\">fragment cDNA</b> and <strong style=\"color:#537FBF\">add adapter sequences at the same time</strong>.  In this method, an active variant of the Tn5 transposase mediates the <b style=\"color:#537FBF\">fragmentation</b> of double-stranded DNA and <b style=\"color:#537FBF\">ligates</b> adapter <b style=\"color:#A6A440\">oligonucleotides</b> at both ends in a quick reaction (~5 min).  However, it is notable that Tn5 and other enzyme-based cDNA fragmentation methods require a precise enzyme:DNA ratio, <strong style=\"color:#C0CF96\">making method optimization less straightforward than RNA fragmentation</strong>. Consequently, fragmenting RNA is currently still the most frequently used approach in RNA-Seq library preparation.\n",
    ">\n",
    "> -- <b style=\"color:#EB1960\"> Fragmentation Subsection; General Aspects OF RNA-Seq Section; @rna-seq-methods </b>"
   ]
  },
  {
   "cell_type": "markdown",
   "id": "3ae76c63-37aa-4596-bef5-d70239062c81",
   "metadata": {},
   "source": [
    "<b style=\"color:#537FBF\">Ligation</b> is the joining of two nucleic acid fragments through the action of an enzyme - at least, according to Wikipedia.  It seems that this is just the combination of <b style=\"color:#537FBF\">fragmentation</b> and tagging with the adapter <b style=\"color:#A6A440\">oligonucleotides</b>.  These processes used to need to be done sequentially."
   ]
  },
  {
   "cell_type": "markdown",
   "id": "886e2d34-ce85-4823-aeef-8340b639c8a7",
   "metadata": {},
   "source": [
    "<details>\n",
    "    <summary>\n",
    "        <b style=\"color:#C0CF96\">Why do we want to tag the adapter with</b> <b style=\"color:#A6A440\">oligonucleotides</b>?\n",
    "    </summary>\n",
    "    The tags are necessary to attach <b style=\"color:#A6A440\">primers</b> to your cDNA [@tag-why].  This is described well during the following explanation of <b style=\"color:#537FBF\">Index PCR</b>:\n",
    "    \n",
    "> A single Illumina <b style=\"color:#A6A440\">flow cell</b> can sequence multiple samples as long as the expected reads will not saturate (exceed)  the capacity of the flow cell. However, since the samples are pooled and loaded as one into the flow cell, <b style=\"color:#C0CF96\">there must be a mechanism to which to distinguish sequences from one sample to another</b>. This is accomplished via a process called <b style=\"color:#537FBF\">Index PCR</b>. Here, custom <b style=\"color:#A6A440\">oligonucleotides</b> called <b style=\"color:#A6A440\">index primers</b> are used to <b style=\"color:#537FBF\">amplify</b> and ‘barcode’ the fragments. Each <b style=\"color:#A6A440\">index primer</b> contains the following:\n",
    "> * <b style=\"color:#A6A440\">Read (1 or 2) sequencing primer</b>: <b style=\"color:#C0CF96\">a segment complementary to the ‘tag’ introduced during tagmentation</b>,\n",
    "> * <b style=\"color:#A6A440\">Indexing sequence</b>: a unique DNA sequence for identification / barcoding of samples\n",
    "> * <b style=\"color:#A6A440\">Sequencing Anchor (P5/P7)</b>: sequences complementary to the oligos in the flow cell. <b style=\"color:#C0CF96\">These allow the index PCR products (libraries) to bind to the Illumina flow cell for sequencing</b>. \n",
    ">\n",
    "> <b style=\"color:#EB1960\">STEP 4: LIBRARY PREPARATION: AMPLIFICATION; @tag-why</b>\n",
    "\n",
    "For an explanation on all the details here, see the section on <b style=\"color:#537FBF\">Index PCR</b>; essentially, the tags are necessary to hook an <b style=\"color:#A6A440\">index primer</b> into your cDNA, which is then necessary to hook it up with the <b style=\"color:#A6A440\">oligos</b> in your <b style=\"color:#A6A440\">flow cell</b>.\n",
    "    \n",
    "</details>"
   ]
  },
  {
   "cell_type": "markdown",
   "id": "f2cf4945-3ff3-4f62-a1ee-491d2bf232ba",
   "metadata": {},
   "source": [
    "## <b style=\"color:#A6A440\">Primers</b>"
   ]
  },
  {
   "cell_type": "markdown",
   "id": "130d87ab-3e62-4c6c-b9cd-687ad53d4936",
   "metadata": {},
   "source": [
    "> A <b style=\"color:#A6A440\">primer</b>, as related to genomics, is a short single-stranded DNA fragment used in certain laboratory techniques, such as the <b style=\"color:#537FBF\">polymerase chain reaction (PCR)</b>. In the <b style=\"color:#537FBF\">PCR method</b>, a pair of <b style=\"color:#A6A440\">primers</b> hybridizes with the sample DNA and defines the region that will be <b style=\"color:#537FBF\">amplified</b>, resulting in millions and millions of copies in a very short timeframe. <b style=\"color:#A6A440\">Primers</b> are also used in DNA sequencing and other experimental processes.\n",
    ">\n",
    "> -- <b style=\"color:#EB1960\">@primers</b>"
   ]
  },
  {
   "cell_type": "markdown",
   "id": "7b063163-b566-4c28-bb96-08178bd25c3b",
   "metadata": {},
   "source": [
    "The above quote is, I think, sufficient.  You can see <b style=\"color:#A6A440\">primers</b> in action by reading through the section on <b style=\"color:#537FBF\">PCR</b>, for example."
   ]
  },
  {
   "cell_type": "markdown",
   "id": "d01634b6-be03-4179-8cc7-09ed0a3383c4",
   "metadata": {},
   "source": [
    "## 3' Enrichment"
   ]
  },
  {
   "cell_type": "markdown",
   "id": "ecc3d8b1-2895-4483-ab7d-9454b7ad4358",
   "metadata": {},
   "source": [
    "TODO: THIS"
   ]
  },
  {
   "cell_type": "markdown",
   "id": "83aeb67e-d683-451f-ba91-e95020f391af",
   "metadata": {},
   "source": [
    "## <b style=\"color:#537FBF\">Adapter Ligation</b>"
   ]
  },
  {
   "cell_type": "markdown",
   "id": "79947608-a0bd-4bba-9b19-f973b768a46b",
   "metadata": {},
   "source": [
    "> In a standard RNA-Seq library <b style=\"color:#A6A440\">protocol</b>, cDNAs of a desired size generated from <b style=\"color:#537FBF\">RT</b> of fragmented RNAs with random hexamer <b style=\"color:#A6A440\">primers</b> or from fragmented <b style=\"color:#A6A440\">full-length cDNAs</b> are <b style=\"color:#537FBF\">ligated</b> to DNA adapters before amplification and sequencing. While simple, <b style=\"color:#C0CF96\">this approach loses the information about which DNA strand corresponds to the sense strand of RNA</b>. Lack of strand specificity would make it difficult to identify <b style=\"color:#A6A440\">antisense</b> and novel RNA species and cause inaccurate measurement of sense RNA expression. Several methods have been developed to capture the directionality of RNA in cDNA libraries.\n",
    ">\n",
    "> -- <b style=\"color:#EB1960\"> Adapters and Directionality Subsection; General Aspects OF RNA-Seq Section; @rna-seq-methods </b>"
   ]
  },
  {
   "cell_type": "markdown",
   "id": "2f67aca1-290c-4293-a656-d03e3d3128dc",
   "metadata": {},
   "source": [
    "<b style=\"color:#537FBF\">RT</b> stands for <b style=\"color:#537FBF\">Reverse Transcription</b>, described earlier.  <b style=\"color:#A6A440\">Antisense RNA</b> is RNA that is complementary to mRNA.  <b style=\"color:#A6A440\">Adapters</b> are necessary for sequencing, but I don't know why at the moment (TODO: THIS)"
   ]
  },
  {
   "cell_type": "markdown",
   "id": "aff68fa6-e8d7-414f-aea0-8ebf1e8eba56",
   "metadata": {},
   "source": [
    "## UMI vs Full Length"
   ]
  },
  {
   "cell_type": "markdown",
   "id": "2e2d5cb3-d902-47c3-9401-d87c9a7e83f6",
   "metadata": {},
   "source": [
    "TODO: THIS"
   ]
  },
  {
   "cell_type": "markdown",
   "id": "fcf8140a-a99d-4200-b85a-d4061468c8b0",
   "metadata": {},
   "source": [
    "::: References\n",
    ":::"
   ]
  }
 ],
 "metadata": {
  "kernelspec": {
   "display_name": "Python [conda env:Blog-nbdev]",
   "language": "python",
   "name": "conda-env-Blog-nbdev-py"
  }
 },
 "nbformat": 4,
 "nbformat_minor": 5
}
