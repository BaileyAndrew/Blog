{
 "cells": [
  {
   "cell_type": "raw",
   "id": "1a55897e-b9ad-4889-81ef-85c4b4f90bce",
   "metadata": {},
   "source": [
    "---\n",
    "title: \"A tale of two chickens\"\n",
    "description: \"Life lesson: 🐔 ≠ 🐓\"\n",
    "author: \"Bailey Andrew\"\n",
    "date: \"Feb 6 2023\"\n",
    "draft: false\n",
    "categories: [Work, Omics, Useful, Paper Replication]\n",
    "bibliography: bibliography.bib\n",
    "image: ./images/a-tale-of-two-chickens.png\n",
    "format:\n",
    "  html:\n",
    "    css:\n",
    "      - ../../html_scripts/collapse.css\n",
    "      - ../../html_scripts/pretty_shortcuts.css\n",
    "    include-after-body: \n",
    "      - ../../html_scripts/collapse.html\n",
    "      - ../../html_scripts/comments.html\n",
    "      - ../../html_scripts/make_header_sensible.html\n",
    "---"
   ]
  },
  {
   "cell_type": "markdown",
   "id": "9d31dedb-3737-4140-ac74-bf385da70be6",
   "metadata": {},
   "source": [
    "Today we'll be looking at the paper \"A single-cell transcriptomic atlas of the developing chicken limb\", by @chicken-cells - specifically, we'll use [this dataset from the Single Cell Expression Atlas](https://www.ebi.ac.uk/gxa/sc/experiments/E-CURD-13/downloads).  However, we're not actually gonna read their paper, we're just gonna do random stuff!"
   ]
  },
  {
   "cell_type": "markdown",
   "id": "dbaad4e7-17ca-426f-8457-305e9008b6f7",
   "metadata": {},
   "source": [
    "<b class=\"sidequests\">Spoilers</b>: We don't get much work done, due to a mystery involving chicken breeds in Ensembl."
   ]
  },
  {
   "cell_type": "markdown",
   "id": "8b1d8591-7b9b-4f26-b8ca-f2c9a968606e",
   "metadata": {},
   "source": [
    "<details>\n",
    "    <summary style=\"color:#C0CF96\">Loading the Data</summary>"
   ]
  },
  {
   "cell_type": "code",
   "execution_count": 68,
   "id": "175d8473-f9a6-4cb2-8dd7-3b025f5a2c95",
   "metadata": {},
   "outputs": [],
   "source": [
    "set.seed(0)\n",
    "library(SingleCellExperiment)\n",
    "library(scran)\n",
    "library(scater)\n",
    "library(dplyr)\n",
    "library(biomaRt)"
   ]
  },
  {
   "cell_type": "code",
   "execution_count": 41,
   "id": "a5f7215e-18b2-461f-bfc3-519c0a97ed23",
   "metadata": {},
   "outputs": [
    {
     "data": {
      "text/html": [
       "<style>\n",
       ".list-inline {list-style: none; margin:0; padding: 0}\n",
       ".list-inline>li {display: inline-block}\n",
       ".list-inline>li:not(:last-child)::after {content: \"\\00b7\"; padding: 0 .5ex}\n",
       "</style>\n",
       "<ol class=list-inline><li>13645</li><li>7688</li></ol>\n"
      ],
      "text/latex": [
       "\\begin{enumerate*}\n",
       "\\item 13645\n",
       "\\item 7688\n",
       "\\end{enumerate*}\n"
      ],
      "text/markdown": [
       "1. 13645\n",
       "2. 7688\n",
       "\n",
       "\n"
      ],
      "text/plain": [
       "[1] 13645  7688"
      ]
     },
     "metadata": {},
     "output_type": "display_data"
    }
   ],
   "source": [
    "file.path = './localdata/Datasets/E-CURD-13/'\n",
    "\n",
    "counts.mat <- Matrix::readMM(\n",
    "    paste0(\n",
    "        file.path,\n",
    "        'E-CURD-13-quantification-raw-files/',\n",
    "        'E-CURD-13.aggregated_filtered_counts.mtx'\n",
    "    )\n",
    ")\n",
    "dim(counts.mat)"
   ]
  },
  {
   "cell_type": "code",
   "execution_count": 42,
   "id": "9bc2f6b2-5328-4d94-99df-4789cfc77169",
   "metadata": {},
   "outputs": [],
   "source": [
    "counts.rows <- read.csv(\n",
    "    paste0(\n",
    "        file.path,\n",
    "        'E-CURD-13-quantification-raw-files/',\n",
    "        'E-CURD-13.aggregated_filtered_counts.mtx_rows'\n",
    "    ),\n",
    "    sep='\\t',\n",
    "    header=FALSE\n",
    ")$V1\n",
    "\n",
    "counts.cols <- read.csv(\n",
    "    paste0(\n",
    "        file.path,\n",
    "        'E-CURD-13-quantification-raw-files/',\n",
    "        'E-CURD-13.aggregated_filtered_counts.mtx_cols'\n",
    "    ),\n",
    "    sep='\\t',\n",
    "    header=FALSE\n",
    ")$V1"
   ]
  },
  {
   "cell_type": "code",
   "execution_count": 53,
   "id": "ce5eb019-40a9-45e1-8ade-f14a16119317",
   "metadata": {},
   "outputs": [
    {
     "data": {
      "text/html": [
       "<style>\n",
       ".list-inline {list-style: none; margin:0; padding: 0}\n",
       ".list-inline>li {display: inline-block}\n",
       ".list-inline>li:not(:last-child)::after {content: \"\\00b7\"; padding: 0 .5ex}\n",
       "</style>\n",
       "<ol class=list-inline><li>'Sample.Characteristic.organism.'</li><li>'Sample.Characteristic.Ontology.Term.organism.'</li><li>'Sample.Characteristic.age.'</li><li>'Sample.Characteristic.Ontology.Term.age.'</li><li>'Sample.Characteristic.developmental.stage.'</li><li>'Sample.Characteristic.Ontology.Term.developmental.stage.'</li><li>'Sample.Characteristic.organism.part.'</li><li>'Sample.Characteristic.Ontology.Term.organism.part.'</li><li>'Sample.Characteristic.sampling.site.'</li><li>'Sample.Characteristic.Ontology.Term.sampling.site.'</li><li>'Sample.Characteristic.genotype.'</li><li>'Sample.Characteristic.Ontology.Term.genotype.'</li><li>'Sample.Characteristic.disease.'</li><li>'Sample.Characteristic.Ontology.Term.disease.'</li><li>'Factor.Value.replicate.'</li><li>'Factor.Value.Ontology.Term.replicate.'</li><li>'Factor.Value.inferred.cell.type...ontology.labels.'</li><li>'Factor.Value.Ontology.Term.inferred.cell.type...ontology.labels.'</li></ol>\n"
      ],
      "text/latex": [
       "\\begin{enumerate*}\n",
       "\\item 'Sample.Characteristic.organism.'\n",
       "\\item 'Sample.Characteristic.Ontology.Term.organism.'\n",
       "\\item 'Sample.Characteristic.age.'\n",
       "\\item 'Sample.Characteristic.Ontology.Term.age.'\n",
       "\\item 'Sample.Characteristic.developmental.stage.'\n",
       "\\item 'Sample.Characteristic.Ontology.Term.developmental.stage.'\n",
       "\\item 'Sample.Characteristic.organism.part.'\n",
       "\\item 'Sample.Characteristic.Ontology.Term.organism.part.'\n",
       "\\item 'Sample.Characteristic.sampling.site.'\n",
       "\\item 'Sample.Characteristic.Ontology.Term.sampling.site.'\n",
       "\\item 'Sample.Characteristic.genotype.'\n",
       "\\item 'Sample.Characteristic.Ontology.Term.genotype.'\n",
       "\\item 'Sample.Characteristic.disease.'\n",
       "\\item 'Sample.Characteristic.Ontology.Term.disease.'\n",
       "\\item 'Factor.Value.replicate.'\n",
       "\\item 'Factor.Value.Ontology.Term.replicate.'\n",
       "\\item 'Factor.Value.inferred.cell.type...ontology.labels.'\n",
       "\\item 'Factor.Value.Ontology.Term.inferred.cell.type...ontology.labels.'\n",
       "\\end{enumerate*}\n"
      ],
      "text/markdown": [
       "1. 'Sample.Characteristic.organism.'\n",
       "2. 'Sample.Characteristic.Ontology.Term.organism.'\n",
       "3. 'Sample.Characteristic.age.'\n",
       "4. 'Sample.Characteristic.Ontology.Term.age.'\n",
       "5. 'Sample.Characteristic.developmental.stage.'\n",
       "6. 'Sample.Characteristic.Ontology.Term.developmental.stage.'\n",
       "7. 'Sample.Characteristic.organism.part.'\n",
       "8. 'Sample.Characteristic.Ontology.Term.organism.part.'\n",
       "9. 'Sample.Characteristic.sampling.site.'\n",
       "10. 'Sample.Characteristic.Ontology.Term.sampling.site.'\n",
       "11. 'Sample.Characteristic.genotype.'\n",
       "12. 'Sample.Characteristic.Ontology.Term.genotype.'\n",
       "13. 'Sample.Characteristic.disease.'\n",
       "14. 'Sample.Characteristic.Ontology.Term.disease.'\n",
       "15. 'Factor.Value.replicate.'\n",
       "16. 'Factor.Value.Ontology.Term.replicate.'\n",
       "17. 'Factor.Value.inferred.cell.type...ontology.labels.'\n",
       "18. 'Factor.Value.Ontology.Term.inferred.cell.type...ontology.labels.'\n",
       "\n",
       "\n"
      ],
      "text/plain": [
       " [1] \"Sample.Characteristic.organism.\"                                 \n",
       " [2] \"Sample.Characteristic.Ontology.Term.organism.\"                   \n",
       " [3] \"Sample.Characteristic.age.\"                                      \n",
       " [4] \"Sample.Characteristic.Ontology.Term.age.\"                        \n",
       " [5] \"Sample.Characteristic.developmental.stage.\"                      \n",
       " [6] \"Sample.Characteristic.Ontology.Term.developmental.stage.\"        \n",
       " [7] \"Sample.Characteristic.organism.part.\"                            \n",
       " [8] \"Sample.Characteristic.Ontology.Term.organism.part.\"              \n",
       " [9] \"Sample.Characteristic.sampling.site.\"                            \n",
       "[10] \"Sample.Characteristic.Ontology.Term.sampling.site.\"              \n",
       "[11] \"Sample.Characteristic.genotype.\"                                 \n",
       "[12] \"Sample.Characteristic.Ontology.Term.genotype.\"                   \n",
       "[13] \"Sample.Characteristic.disease.\"                                  \n",
       "[14] \"Sample.Characteristic.Ontology.Term.disease.\"                    \n",
       "[15] \"Factor.Value.replicate.\"                                         \n",
       "[16] \"Factor.Value.Ontology.Term.replicate.\"                           \n",
       "[17] \"Factor.Value.inferred.cell.type...ontology.labels.\"              \n",
       "[18] \"Factor.Value.Ontology.Term.inferred.cell.type...ontology.labels.\""
      ]
     },
     "metadata": {},
     "output_type": "display_data"
    }
   ],
   "source": [
    "meta.data <- read.csv(\n",
    "    paste0(\n",
    "        file.path,\n",
    "        'ExpDesign-E-CURD-13.tsv'\n",
    "    ),\n",
    "    sep='\\t',\n",
    "    header=TRUE,\n",
    "    row.names='Assay'\n",
    ")\n",
    "colnames(meta.data)"
   ]
  },
  {
   "cell_type": "code",
   "execution_count": 44,
   "id": "09f78739-9980-4503-94a1-05f63bcd7222",
   "metadata": {},
   "outputs": [],
   "source": [
    "rownames(counts.mat) <- counts.rows\n",
    "colnames(counts.mat) <- counts.cols"
   ]
  },
  {
   "cell_type": "code",
   "execution_count": 52,
   "id": "40b43835-58af-4b19-8861-6adb1e50f455",
   "metadata": {},
   "outputs": [
    {
     "data": {
      "text/html": [
       "TRUE"
      ],
      "text/latex": [
       "TRUE"
      ],
      "text/markdown": [
       "TRUE"
      ],
      "text/plain": [
       "[1] TRUE"
      ]
     },
     "metadata": {},
     "output_type": "display_data"
    }
   ],
   "source": [
    "# Make sure the metadata is lined up with the count matrix\n",
    "identical(meta.data$Assay, colnames(counts.mat))"
   ]
  },
  {
   "cell_type": "code",
   "execution_count": 60,
   "id": "c395c6bb-50a1-4b39-810e-e125fa81d9a5",
   "metadata": {},
   "outputs": [],
   "source": [
    "sce <- SingleCellExperiment(\n",
    "    assays=list(counts=counts.mat),\n",
    "    colData=meta.data\n",
    ")"
   ]
  },
  {
   "cell_type": "code",
   "execution_count": 61,
   "id": "b3e12cbb-d1d2-4c7f-b0b7-926a38f3034b",
   "metadata": {},
   "outputs": [
    {
     "data": {
      "text/plain": [
       "class: SingleCellExperiment \n",
       "dim: 13645 7688 \n",
       "metadata(0):\n",
       "assays(1): counts\n",
       "rownames(13645): ENSGALG00000000003 ENSGALG00000000011 ...\n",
       "  ENSGALG00000055127 ENSGALG00000055132\n",
       "rowData names(0):\n",
       "colnames(7688): SAMN11526603-AAAAAAATTCAG SAMN11526603-AAAAACAAGTAG ...\n",
       "  SAMN11526603-TTTTTTTGTGAG SAMN11526603-TTTTTTTTTTTT\n",
       "colData names(18): Sample.Characteristic.organism.\n",
       "  Sample.Characteristic.Ontology.Term.organism. ...\n",
       "  Factor.Value.inferred.cell.type...ontology.labels.\n",
       "  Factor.Value.Ontology.Term.inferred.cell.type...ontology.labels.\n",
       "reducedDimNames(0):\n",
       "mainExpName: NULL\n",
       "altExpNames(0):"
      ]
     },
     "metadata": {},
     "output_type": "display_data"
    }
   ],
   "source": [
    "sce"
   ]
  },
  {
   "cell_type": "markdown",
   "id": "8ee67e9c-14ad-47de-9e21-464c9ec95846",
   "metadata": {},
   "source": [
    "</details>"
   ]
  },
  {
   "cell_type": "markdown",
   "id": "49115af5-8283-4cf8-a3a8-7d82ee8980db",
   "metadata": {},
   "source": [
    "I wanted to perform QC using mitochondrial genes.  This should have been as easy as reusing my code for humans with a few tweaks to look for chicken genes instead.  However, when I try to use `biomaRt` I get no result."
   ]
  },
  {
   "cell_type": "code",
   "execution_count": 86,
   "id": "dccc1d1d-2c94-40e9-9eaf-1c2760c95c86",
   "metadata": {
    "tags": []
   },
   "outputs": [
    {
     "data": {
      "text/html": [
       "<table class=\"dataframe\">\n",
       "<caption>A data.frame: 0 × 2</caption>\n",
       "<thead>\n",
       "\t<tr><th scope=col>ensembl_gene_id</th><th scope=col>hgnc_symbol</th></tr>\n",
       "\t<tr><th scope=col>&lt;lgl&gt;</th><th scope=col>&lt;lgl&gt;</th></tr>\n",
       "</thead>\n",
       "<tbody>\n",
       "</tbody>\n",
       "</table>\n"
      ],
      "text/latex": [
       "A data.frame: 0 × 2\n",
       "\\begin{tabular}{ll}\n",
       " ensembl\\_gene\\_id & hgnc\\_symbol\\\\\n",
       " <lgl> & <lgl>\\\\\n",
       "\\hline\n",
       "\\end{tabular}\n"
      ],
      "text/markdown": [
       "\n",
       "A data.frame: 0 × 2\n",
       "\n",
       "| ensembl_gene_id &lt;lgl&gt; | hgnc_symbol &lt;lgl&gt; |\n",
       "|---|---|\n",
       "\n"
      ],
      "text/plain": [
       "     ensembl_gene_id hgnc_symbol"
      ]
     },
     "metadata": {},
     "output_type": "display_data"
    }
   ],
   "source": [
    "mart <- useDataset(\"ggallus_gene_ensembl\", useMart(\"ensembl\"))\n",
    "\n",
    "gene.to.symbol.map <- getBM(\n",
    "    filters=\"ensembl_gene_id\",\n",
    "    attributes=c(\n",
    "        \"ensembl_gene_id\",\n",
    "        \"hgnc_symbol\"\n",
    "    ),\n",
    "    values=rownames(sce),\n",
    "    mart=mart\n",
    ")\n",
    "gene.to.symbol.map"
   ]
  },
  {
   "cell_type": "markdown",
   "id": "ecc4289b-24ed-496a-98df-d977cf2b1ab0",
   "metadata": {},
   "source": [
    "So I went directly to the `biomaRt` [web interface](https://www.ensembl.org/biomart/martview/3d63e0dabdacc8dc33bd4bba9ed2130a), and searched for a gene I knew was in the dataset: `ENSGALG00000000003`\n",
    "\n",
    "![](./images/no-003.png)\n",
    "\n",
    "However, you can see that in the top left corner it reports no results!  If you look closely, you can see that the example search is with `ENSGALG00010000002`, which does have results - and in fact adding 10,000,000 to gene numbers tends to create a valid findable gene:\n",
    "\n",
    "![](./images/yes-003.png)\n",
    "\n",
    "These genes don't seem to be related to eachother though."
   ]
  },
  {
   "cell_type": "markdown",
   "id": "b0b82acf-db4a-4f6e-8fbd-074111375856",
   "metadata": {},
   "source": [
    "If we filter for mitochondrial genes:\n",
    "\n",
    "![Like this.](./images/filters.png)\n",
    "\n",
    "Then we do get results:\n",
    "\n",
    "![](./images/found-mitos.png)\n",
    "\n",
    "Which all have ids greater than 10,000,000.  This list is not comprehensive, I can find (off biomaRt) another mitochondrial gene, whose id is less than 10,000,000:\n",
    "\n",
    "![ENSGALG00000031197](./images/a-missed-mito.png)"
   ]
  },
  {
   "cell_type": "markdown",
   "id": "2a5b7537-9799-456b-9455-9dd19a8f6168",
   "metadata": {},
   "source": [
    "> The avian genome encodes the same set of genes (13 proteins, 2 rRNAs and 22 tRNAs) as do other vertebrate mitochondrial DNAs and is organized in a very similar economical fashion.\n",
    ">\n",
    "> -- \"Sequence and gene organization of the chicken mitochondrial genome: A novel gene order in higher vertebrates\", @chicken-mitochondria\n",
    "\n",
    "From the above, we can see that there should be 24 mt-rRNA and mt-tRNA in total, which is in fact what we find with biomaRt! (The previous image only shows 10, but that's because it only shows 10 per page - the total amount found was 24)."
   ]
  },
  {
   "cell_type": "markdown",
   "id": "6066554b-67a9-460c-ba83-6a00af8fdfbc",
   "metadata": {},
   "source": [
    "![The entire mitochondrial genome when viewing it starting from a gene larger than 10,000,000.](./images/more-than-million.png)\n",
    "\n",
    "![The entire mitochondrial genome when viewing it starting from a gene less than 10,000,000.](./images/less-than-million.png)"
   ]
  },
  {
   "cell_type": "markdown",
   "id": "9cd3d7de-b134-4f53-863a-75fa5e37c9b7",
   "metadata": {},
   "source": [
    "These two images seem to conclusively show that the gene sets are different; the genes are in a similar place but have different names between the two tracks."
   ]
  },
  {
   "cell_type": "markdown",
   "id": "a9640e93-e905-4ce2-a69f-eaabd8d08f7a",
   "metadata": {},
   "source": [
    "\n",
    "From this, we can hypothesize that the ids less than 10,000,000 are out of date, presenting some frustration for using the data we have.  Can we prove it?"
   ]
  },
  {
   "cell_type": "markdown",
   "id": "a4367620-eb10-471d-8891-898d6b4a0a0b",
   "metadata": {},
   "source": [
    "![](./images/no-change.png)"
   ]
  },
  {
   "cell_type": "markdown",
   "id": "004a1ec9-5185-4877-9cbc-0508f5694b1d",
   "metadata": {},
   "source": [
    "No: the gene has never changed its ID (which is a good thing for sanity purposes but is not ideal for this specific confusion)."
   ]
  },
  {
   "cell_type": "markdown",
   "id": "119fa2c1-5c01-41ec-8123-404c26d7f0fd",
   "metadata": {},
   "source": [
    "However, it seems like there are multiple chicken genomes in Ensembl:\n",
    "\n",
    "![](./images/chickens.png)"
   ]
  },
  {
   "cell_type": "markdown",
   "id": "10cf3f27-a9d7-4c47-a933-7f2bb5057e54",
   "metadata": {},
   "source": [
    "This proves, conclusively, that there are at least two breeds of chicken.  And I was looking at the wrong one."
   ]
  },
  {
   "cell_type": "markdown",
   "id": "59d7071a-b307-4ef1-af52-33c24ee1979e",
   "metadata": {},
   "source": [
    "The question then becomes - how do we actually find the right one?  We can get a list of all the possible biomart-queryable datasets:"
   ]
  },
  {
   "cell_type": "code",
   "execution_count": 113,
   "id": "ef0501c5-7952-4e1c-bb96-87a25b4f7d12",
   "metadata": {},
   "outputs": [
    {
     "data": {
      "text/html": [
       "<table class=\"dataframe\">\n",
       "<caption>A data.frame: 11 × 3</caption>\n",
       "<thead>\n",
       "\t<tr><th></th><th scope=col>dataset</th><th scope=col>description</th><th scope=col>version</th></tr>\n",
       "\t<tr><th></th><th scope=col>&lt;I&lt;chr&gt;&gt;</th><th scope=col>&lt;I&lt;chr&gt;&gt;</th><th scope=col>&lt;I&lt;chr&gt;&gt;</th></tr>\n",
       "</thead>\n",
       "<tbody>\n",
       "\t<tr><th scope=row>70</th><td>fheteroclitus_gene_ensembl</td><td>Mummichog genes (Fundulus_heteroclitus-3.0.2)   </td><td>Fundulus_heteroclitus-3.0.2</td></tr>\n",
       "\t<tr><th scope=row>71</th><td>gaculeatus_gene_ensembl   </td><td>Stickleback genes (BROAD S1)                    </td><td>BROAD S1                   </td></tr>\n",
       "\t<tr><th scope=row>72</th><td>gevgoodei_gene_ensembl    </td><td>Goodes thornscrub tortoise genes (rGopEvg1_v1.p)</td><td>rGopEvg1_v1.p              </td></tr>\n",
       "\t<tr><th scope=row>73</th><td>gfortis_gene_ensembl      </td><td>Medium ground-finch genes (GeoFor_1.0)          </td><td>GeoFor_1.0                 </td></tr>\n",
       "\t<tr><th scope=row>74</th><td>ggallus_gene_ensembl      </td><td>Chicken genes (bGalGal1.mat.broiler.GRCg7b)     </td><td>bGalGal1.mat.broiler.GRCg7b</td></tr>\n",
       "\t<tr><th scope=row>75</th><td>ggorilla_gene_ensembl     </td><td>Gorilla genes (gorGor4)                         </td><td>gorGor4                    </td></tr>\n",
       "\t<tr><th scope=row>76</th><td>gmorhua_gene_ensembl      </td><td>Atlantic cod genes (gadMor3.0)                  </td><td>gadMor3.0                  </td></tr>\n",
       "\t<tr><th scope=row>77</th><td>hburtoni_gene_ensembl     </td><td>Burton's mouthbrooder genes (AstBur1.0)         </td><td>AstBur1.0                  </td></tr>\n",
       "\t<tr><th scope=row>78</th><td>hcomes_gene_ensembl       </td><td>Tiger tail seahorse genes (H_comes_QL1_v1)      </td><td>H_comes_QL1_v1             </td></tr>\n",
       "\t<tr><th scope=row>79</th><td>hgfemale_gene_ensembl     </td><td>Naked mole-rat female genes (HetGla_female_1.0) </td><td>HetGla_female_1.0          </td></tr>\n",
       "\t<tr><th scope=row>80</th><td>hhucho_gene_ensembl       </td><td>Huchen genes (ASM331708v1)                      </td><td>ASM331708v1                </td></tr>\n",
       "</tbody>\n",
       "</table>\n"
      ],
      "text/latex": [
       "A data.frame: 11 × 3\n",
       "\\begin{tabular}{r|lll}\n",
       "  & dataset & description & version\\\\\n",
       "  & <I<chr>> & <I<chr>> & <I<chr>>\\\\\n",
       "\\hline\n",
       "\t70 & fheteroclitus\\_gene\\_ensembl & Mummichog genes (Fundulus\\_heteroclitus-3.0.2)    & Fundulus\\_heteroclitus-3.0.2\\\\\n",
       "\t71 & gaculeatus\\_gene\\_ensembl    & Stickleback genes (BROAD S1)                     & BROAD S1                   \\\\\n",
       "\t72 & gevgoodei\\_gene\\_ensembl     & Goodes thornscrub tortoise genes (rGopEvg1\\_v1.p) & rGopEvg1\\_v1.p              \\\\\n",
       "\t73 & gfortis\\_gene\\_ensembl       & Medium ground-finch genes (GeoFor\\_1.0)           & GeoFor\\_1.0                 \\\\\n",
       "\t74 & ggallus\\_gene\\_ensembl       & Chicken genes (bGalGal1.mat.broiler.GRCg7b)      & bGalGal1.mat.broiler.GRCg7b\\\\\n",
       "\t75 & ggorilla\\_gene\\_ensembl      & Gorilla genes (gorGor4)                          & gorGor4                    \\\\\n",
       "\t76 & gmorhua\\_gene\\_ensembl       & Atlantic cod genes (gadMor3.0)                   & gadMor3.0                  \\\\\n",
       "\t77 & hburtoni\\_gene\\_ensembl      & Burton's mouthbrooder genes (AstBur1.0)          & AstBur1.0                  \\\\\n",
       "\t78 & hcomes\\_gene\\_ensembl        & Tiger tail seahorse genes (H\\_comes\\_QL1\\_v1)       & H\\_comes\\_QL1\\_v1             \\\\\n",
       "\t79 & hgfemale\\_gene\\_ensembl      & Naked mole-rat female genes (HetGla\\_female\\_1.0)  & HetGla\\_female\\_1.0          \\\\\n",
       "\t80 & hhucho\\_gene\\_ensembl        & Huchen genes (ASM331708v1)                       & ASM331708v1                \\\\\n",
       "\\end{tabular}\n"
      ],
      "text/markdown": [
       "\n",
       "A data.frame: 11 × 3\n",
       "\n",
       "| <!--/--> | dataset &lt;I&lt;chr&gt;&gt; | description &lt;I&lt;chr&gt;&gt; | version &lt;I&lt;chr&gt;&gt; |\n",
       "|---|---|---|---|\n",
       "| 70 | fheteroclitus_gene_ensembl | Mummichog genes (Fundulus_heteroclitus-3.0.2)    | Fundulus_heteroclitus-3.0.2 |\n",
       "| 71 | gaculeatus_gene_ensembl    | Stickleback genes (BROAD S1)                     | BROAD S1                    |\n",
       "| 72 | gevgoodei_gene_ensembl     | Goodes thornscrub tortoise genes (rGopEvg1_v1.p) | rGopEvg1_v1.p               |\n",
       "| 73 | gfortis_gene_ensembl       | Medium ground-finch genes (GeoFor_1.0)           | GeoFor_1.0                  |\n",
       "| 74 | ggallus_gene_ensembl       | Chicken genes (bGalGal1.mat.broiler.GRCg7b)      | bGalGal1.mat.broiler.GRCg7b |\n",
       "| 75 | ggorilla_gene_ensembl      | Gorilla genes (gorGor4)                          | gorGor4                     |\n",
       "| 76 | gmorhua_gene_ensembl       | Atlantic cod genes (gadMor3.0)                   | gadMor3.0                   |\n",
       "| 77 | hburtoni_gene_ensembl      | Burton's mouthbrooder genes (AstBur1.0)          | AstBur1.0                   |\n",
       "| 78 | hcomes_gene_ensembl        | Tiger tail seahorse genes (H_comes_QL1_v1)       | H_comes_QL1_v1              |\n",
       "| 79 | hgfemale_gene_ensembl      | Naked mole-rat female genes (HetGla_female_1.0)  | HetGla_female_1.0           |\n",
       "| 80 | hhucho_gene_ensembl        | Huchen genes (ASM331708v1)                       | ASM331708v1                 |\n",
       "\n"
      ],
      "text/plain": [
       "   dataset                    description                                     \n",
       "70 fheteroclitus_gene_ensembl Mummichog genes (Fundulus_heteroclitus-3.0.2)   \n",
       "71 gaculeatus_gene_ensembl    Stickleback genes (BROAD S1)                    \n",
       "72 gevgoodei_gene_ensembl     Goodes thornscrub tortoise genes (rGopEvg1_v1.p)\n",
       "73 gfortis_gene_ensembl       Medium ground-finch genes (GeoFor_1.0)          \n",
       "74 ggallus_gene_ensembl       Chicken genes (bGalGal1.mat.broiler.GRCg7b)     \n",
       "75 ggorilla_gene_ensembl      Gorilla genes (gorGor4)                         \n",
       "76 gmorhua_gene_ensembl       Atlantic cod genes (gadMor3.0)                  \n",
       "77 hburtoni_gene_ensembl      Burton's mouthbrooder genes (AstBur1.0)         \n",
       "78 hcomes_gene_ensembl        Tiger tail seahorse genes (H_comes_QL1_v1)      \n",
       "79 hgfemale_gene_ensembl      Naked mole-rat female genes (HetGla_female_1.0) \n",
       "80 hhucho_gene_ensembl        Huchen genes (ASM331708v1)                      \n",
       "   version                    \n",
       "70 Fundulus_heteroclitus-3.0.2\n",
       "71 BROAD S1                   \n",
       "72 rGopEvg1_v1.p              \n",
       "73 GeoFor_1.0                 \n",
       "74 bGalGal1.mat.broiler.GRCg7b\n",
       "75 gorGor4                    \n",
       "76 gadMor3.0                  \n",
       "77 AstBur1.0                  \n",
       "78 H_comes_QL1_v1             \n",
       "79 HetGla_female_1.0          \n",
       "80 ASM331708v1                "
      ]
     },
     "metadata": {},
     "output_type": "display_data"
    }
   ],
   "source": [
    "all.datasets <- listDatasets(mart = mart)\n",
    "all.datasets[70:80,]"
   ]
  },
  {
   "cell_type": "markdown",
   "id": "7be49c4e-b58e-4704-a580-5d634a12334f",
   "metadata": {},
   "source": [
    "But this does not contain the option to choose anything other than `bGalGal1.mat.broiler.GRCg7b`, the paternal White leghorn layer chicken."
   ]
  },
  {
   "cell_type": "markdown",
   "id": "b829cded-da12-4474-b3e0-2488931facde",
   "metadata": {},
   "source": [
    "Online, we can find an archived version of `biomaRt` that grants access:\n",
    "\n",
    "![](./images/archived-chicken.png)\n",
    "\n",
    "And the results line up with prior expectations."
   ]
  },
  {
   "cell_type": "markdown",
   "id": "d8bb44b8-6c14-4972-9d8f-859c350707ef",
   "metadata": {},
   "source": [
    "So if we use the `biomaRt` R interface with an archived host, maybe we can get the Red Junglefowl's genes?"
   ]
  },
  {
   "cell_type": "code",
   "execution_count": 116,
   "id": "2cf6f608-6ad0-42ad-be23-b344155beade",
   "metadata": {},
   "outputs": [],
   "source": [
    "mart.archive <- useMart(\"ensembl\", host=\"https://apr2022.archive.ensembl.org\")"
   ]
  },
  {
   "cell_type": "code",
   "execution_count": 117,
   "id": "339aa9d8-17bd-4d93-b3e4-1351057b2a15",
   "metadata": {},
   "outputs": [
    {
     "data": {
      "text/html": [
       "<table class=\"dataframe\">\n",
       "<caption>A data.frame: 11 × 3</caption>\n",
       "<thead>\n",
       "\t<tr><th></th><th scope=col>dataset</th><th scope=col>description</th><th scope=col>version</th></tr>\n",
       "\t<tr><th></th><th scope=col>&lt;I&lt;chr&gt;&gt;</th><th scope=col>&lt;I&lt;chr&gt;&gt;</th><th scope=col>&lt;I&lt;chr&gt;&gt;</th></tr>\n",
       "</thead>\n",
       "<tbody>\n",
       "\t<tr><th scope=row>70</th><td>fheteroclitus_gene_ensembl</td><td>Mummichog genes (Fundulus_heteroclitus-3.0.2)   </td><td>Fundulus_heteroclitus-3.0.2</td></tr>\n",
       "\t<tr><th scope=row>71</th><td>gaculeatus_gene_ensembl   </td><td>Stickleback genes (BROAD S1)                    </td><td>BROAD S1                   </td></tr>\n",
       "\t<tr><th scope=row>72</th><td>gevgoodei_gene_ensembl    </td><td>Goodes thornscrub tortoise genes (rGopEvg1_v1.p)</td><td>rGopEvg1_v1.p              </td></tr>\n",
       "\t<tr><th scope=row>73</th><td>gfortis_gene_ensembl      </td><td>Medium ground-finch genes (GeoFor_1.0)          </td><td>GeoFor_1.0                 </td></tr>\n",
       "\t<tr><th scope=row>74</th><td>ggallus_gene_ensembl      </td><td>Chicken genes (GRCg6a)                          </td><td>GRCg6a                     </td></tr>\n",
       "\t<tr><th scope=row>75</th><td>ggorilla_gene_ensembl     </td><td>Gorilla genes (gorGor4)                         </td><td>gorGor4                    </td></tr>\n",
       "\t<tr><th scope=row>76</th><td>gmorhua_gene_ensembl      </td><td>Atlantic cod genes (gadMor3.0)                  </td><td>gadMor3.0                  </td></tr>\n",
       "\t<tr><th scope=row>77</th><td>hburtoni_gene_ensembl     </td><td>Burton's mouthbrooder genes (AstBur1.0)         </td><td>AstBur1.0                  </td></tr>\n",
       "\t<tr><th scope=row>78</th><td>hcomes_gene_ensembl       </td><td>Tiger tail seahorse genes (H_comes_QL1_v1)      </td><td>H_comes_QL1_v1             </td></tr>\n",
       "\t<tr><th scope=row>79</th><td>hgfemale_gene_ensembl     </td><td>Naked mole-rat female genes (HetGla_female_1.0) </td><td>HetGla_female_1.0          </td></tr>\n",
       "\t<tr><th scope=row>80</th><td>hhucho_gene_ensembl       </td><td>Huchen genes (ASM331708v1)                      </td><td>ASM331708v1                </td></tr>\n",
       "</tbody>\n",
       "</table>\n"
      ],
      "text/latex": [
       "A data.frame: 11 × 3\n",
       "\\begin{tabular}{r|lll}\n",
       "  & dataset & description & version\\\\\n",
       "  & <I<chr>> & <I<chr>> & <I<chr>>\\\\\n",
       "\\hline\n",
       "\t70 & fheteroclitus\\_gene\\_ensembl & Mummichog genes (Fundulus\\_heteroclitus-3.0.2)    & Fundulus\\_heteroclitus-3.0.2\\\\\n",
       "\t71 & gaculeatus\\_gene\\_ensembl    & Stickleback genes (BROAD S1)                     & BROAD S1                   \\\\\n",
       "\t72 & gevgoodei\\_gene\\_ensembl     & Goodes thornscrub tortoise genes (rGopEvg1\\_v1.p) & rGopEvg1\\_v1.p              \\\\\n",
       "\t73 & gfortis\\_gene\\_ensembl       & Medium ground-finch genes (GeoFor\\_1.0)           & GeoFor\\_1.0                 \\\\\n",
       "\t74 & ggallus\\_gene\\_ensembl       & Chicken genes (GRCg6a)                           & GRCg6a                     \\\\\n",
       "\t75 & ggorilla\\_gene\\_ensembl      & Gorilla genes (gorGor4)                          & gorGor4                    \\\\\n",
       "\t76 & gmorhua\\_gene\\_ensembl       & Atlantic cod genes (gadMor3.0)                   & gadMor3.0                  \\\\\n",
       "\t77 & hburtoni\\_gene\\_ensembl      & Burton's mouthbrooder genes (AstBur1.0)          & AstBur1.0                  \\\\\n",
       "\t78 & hcomes\\_gene\\_ensembl        & Tiger tail seahorse genes (H\\_comes\\_QL1\\_v1)       & H\\_comes\\_QL1\\_v1             \\\\\n",
       "\t79 & hgfemale\\_gene\\_ensembl      & Naked mole-rat female genes (HetGla\\_female\\_1.0)  & HetGla\\_female\\_1.0          \\\\\n",
       "\t80 & hhucho\\_gene\\_ensembl        & Huchen genes (ASM331708v1)                       & ASM331708v1                \\\\\n",
       "\\end{tabular}\n"
      ],
      "text/markdown": [
       "\n",
       "A data.frame: 11 × 3\n",
       "\n",
       "| <!--/--> | dataset &lt;I&lt;chr&gt;&gt; | description &lt;I&lt;chr&gt;&gt; | version &lt;I&lt;chr&gt;&gt; |\n",
       "|---|---|---|---|\n",
       "| 70 | fheteroclitus_gene_ensembl | Mummichog genes (Fundulus_heteroclitus-3.0.2)    | Fundulus_heteroclitus-3.0.2 |\n",
       "| 71 | gaculeatus_gene_ensembl    | Stickleback genes (BROAD S1)                     | BROAD S1                    |\n",
       "| 72 | gevgoodei_gene_ensembl     | Goodes thornscrub tortoise genes (rGopEvg1_v1.p) | rGopEvg1_v1.p               |\n",
       "| 73 | gfortis_gene_ensembl       | Medium ground-finch genes (GeoFor_1.0)           | GeoFor_1.0                  |\n",
       "| 74 | ggallus_gene_ensembl       | Chicken genes (GRCg6a)                           | GRCg6a                      |\n",
       "| 75 | ggorilla_gene_ensembl      | Gorilla genes (gorGor4)                          | gorGor4                     |\n",
       "| 76 | gmorhua_gene_ensembl       | Atlantic cod genes (gadMor3.0)                   | gadMor3.0                   |\n",
       "| 77 | hburtoni_gene_ensembl      | Burton's mouthbrooder genes (AstBur1.0)          | AstBur1.0                   |\n",
       "| 78 | hcomes_gene_ensembl        | Tiger tail seahorse genes (H_comes_QL1_v1)       | H_comes_QL1_v1              |\n",
       "| 79 | hgfemale_gene_ensembl      | Naked mole-rat female genes (HetGla_female_1.0)  | HetGla_female_1.0           |\n",
       "| 80 | hhucho_gene_ensembl        | Huchen genes (ASM331708v1)                       | ASM331708v1                 |\n",
       "\n"
      ],
      "text/plain": [
       "   dataset                    description                                     \n",
       "70 fheteroclitus_gene_ensembl Mummichog genes (Fundulus_heteroclitus-3.0.2)   \n",
       "71 gaculeatus_gene_ensembl    Stickleback genes (BROAD S1)                    \n",
       "72 gevgoodei_gene_ensembl     Goodes thornscrub tortoise genes (rGopEvg1_v1.p)\n",
       "73 gfortis_gene_ensembl       Medium ground-finch genes (GeoFor_1.0)          \n",
       "74 ggallus_gene_ensembl       Chicken genes (GRCg6a)                          \n",
       "75 ggorilla_gene_ensembl      Gorilla genes (gorGor4)                         \n",
       "76 gmorhua_gene_ensembl       Atlantic cod genes (gadMor3.0)                  \n",
       "77 hburtoni_gene_ensembl      Burton's mouthbrooder genes (AstBur1.0)         \n",
       "78 hcomes_gene_ensembl        Tiger tail seahorse genes (H_comes_QL1_v1)      \n",
       "79 hgfemale_gene_ensembl      Naked mole-rat female genes (HetGla_female_1.0) \n",
       "80 hhucho_gene_ensembl        Huchen genes (ASM331708v1)                      \n",
       "   version                    \n",
       "70 Fundulus_heteroclitus-3.0.2\n",
       "71 BROAD S1                   \n",
       "72 rGopEvg1_v1.p              \n",
       "73 GeoFor_1.0                 \n",
       "74 GRCg6a                     \n",
       "75 gorGor4                    \n",
       "76 gadMor3.0                  \n",
       "77 AstBur1.0                  \n",
       "78 H_comes_QL1_v1             \n",
       "79 HetGla_female_1.0          \n",
       "80 ASM331708v1                "
      ]
     },
     "metadata": {},
     "output_type": "display_data"
    }
   ],
   "source": [
    "all.datasets <- listDatasets(mart = mart.archive)\n",
    "all.datasets[70:80,]"
   ]
  },
  {
   "cell_type": "markdown",
   "id": "62c46621-f424-42ac-a08d-2594bd7f482a",
   "metadata": {},
   "source": [
    "Victory! `GRCg6a` is the Red Junglefowl."
   ]
  },
  {
   "cell_type": "code",
   "execution_count": 120,
   "id": "f343a5e5-df1e-4bed-84ca-9292450b23e9",
   "metadata": {},
   "outputs": [],
   "source": [
    "mart.archive <- useDataset(\n",
    "    \"ggallus_gene_ensembl\",\n",
    "    useMart(\n",
    "        \"ensembl\",\n",
    "        host=\"https://apr2022.archive.ensembl.org\"\n",
    "    )\n",
    ")\n",
    "gene.to.symbol.map <- getBM(\n",
    "    filters=\"ensembl_gene_id\",\n",
    "    attributes=c(\n",
    "        \"ensembl_gene_id\",\n",
    "        \"hgnc_symbol\"\n",
    "    ),\n",
    "    values=rownames(sce),\n",
    "    mart=mart.archive\n",
    ")"
   ]
  },
  {
   "cell_type": "code",
   "execution_count": 121,
   "id": "84c52197-6366-4d63-8280-42b12bfeced2",
   "metadata": {},
   "outputs": [
    {
     "data": {
      "text/html": [
       "<table class=\"dataframe\">\n",
       "<caption>A data.frame: 6 × 2</caption>\n",
       "<thead>\n",
       "\t<tr><th></th><th scope=col>ensembl_gene_id</th><th scope=col>hgnc_symbol</th></tr>\n",
       "\t<tr><th></th><th scope=col>&lt;chr&gt;</th><th scope=col>&lt;chr&gt;</th></tr>\n",
       "</thead>\n",
       "<tbody>\n",
       "\t<tr><th scope=row>1</th><td>ENSGALG00000000003</td><td>PANX2   </td></tr>\n",
       "\t<tr><th scope=row>2</th><td>ENSGALG00000000011</td><td>C10orf88</td></tr>\n",
       "\t<tr><th scope=row>3</th><td>ENSGALG00000000038</td><td>        </td></tr>\n",
       "\t<tr><th scope=row>4</th><td>ENSGALG00000000044</td><td>WFIKKN1 </td></tr>\n",
       "\t<tr><th scope=row>5</th><td>ENSGALG00000000055</td><td>        </td></tr>\n",
       "\t<tr><th scope=row>6</th><td>ENSGALG00000000059</td><td>        </td></tr>\n",
       "</tbody>\n",
       "</table>\n"
      ],
      "text/latex": [
       "A data.frame: 6 × 2\n",
       "\\begin{tabular}{r|ll}\n",
       "  & ensembl\\_gene\\_id & hgnc\\_symbol\\\\\n",
       "  & <chr> & <chr>\\\\\n",
       "\\hline\n",
       "\t1 & ENSGALG00000000003 & PANX2   \\\\\n",
       "\t2 & ENSGALG00000000011 & C10orf88\\\\\n",
       "\t3 & ENSGALG00000000038 &         \\\\\n",
       "\t4 & ENSGALG00000000044 & WFIKKN1 \\\\\n",
       "\t5 & ENSGALG00000000055 &         \\\\\n",
       "\t6 & ENSGALG00000000059 &         \\\\\n",
       "\\end{tabular}\n"
      ],
      "text/markdown": [
       "\n",
       "A data.frame: 6 × 2\n",
       "\n",
       "| <!--/--> | ensembl_gene_id &lt;chr&gt; | hgnc_symbol &lt;chr&gt; |\n",
       "|---|---|---|\n",
       "| 1 | ENSGALG00000000003 | PANX2    |\n",
       "| 2 | ENSGALG00000000011 | C10orf88 |\n",
       "| 3 | ENSGALG00000000038 | <!----> |\n",
       "| 4 | ENSGALG00000000044 | WFIKKN1  |\n",
       "| 5 | ENSGALG00000000055 | <!----> |\n",
       "| 6 | ENSGALG00000000059 | <!----> |\n",
       "\n"
      ],
      "text/plain": [
       "  ensembl_gene_id    hgnc_symbol\n",
       "1 ENSGALG00000000003 PANX2      \n",
       "2 ENSGALG00000000011 C10orf88   \n",
       "3 ENSGALG00000000038            \n",
       "4 ENSGALG00000000044 WFIKKN1    \n",
       "5 ENSGALG00000000055            \n",
       "6 ENSGALG00000000059            "
      ]
     },
     "metadata": {},
     "output_type": "display_data"
    }
   ],
   "source": [
    "head(gene.to.symbol.map)"
   ]
  },
  {
   "cell_type": "markdown",
   "id": "ac54a34a-8bfb-42f0-a7b4-8a3c1d8358a8",
   "metadata": {},
   "source": [
    "Double victory!"
   ]
  },
  {
   "cell_type": "code",
   "execution_count": 133,
   "id": "dedc0bbe-a4c0-40e4-abfc-5d787561ddcb",
   "metadata": {},
   "outputs": [
    {
     "data": {
      "text/html": [
       "<table class=\"dataframe\">\n",
       "<caption>A data.frame: 2 × 2</caption>\n",
       "<thead>\n",
       "\t<tr><th></th><th scope=col>ensembl_gene_id</th><th scope=col>hgnc_symbol</th></tr>\n",
       "\t<tr><th></th><th scope=col>&lt;chr&gt;</th><th scope=col>&lt;chr&gt;</th></tr>\n",
       "</thead>\n",
       "<tbody>\n",
       "\t<tr><th scope=row>9151</th><td>ENSGALG00000032142</td><td>MT-CO1</td></tr>\n",
       "\t<tr><th scope=row>11684</th><td>ENSGALG00000043768</td><td>MT-ND2</td></tr>\n",
       "</tbody>\n",
       "</table>\n"
      ],
      "text/latex": [
       "A data.frame: 2 × 2\n",
       "\\begin{tabular}{r|ll}\n",
       "  & ensembl\\_gene\\_id & hgnc\\_symbol\\\\\n",
       "  & <chr> & <chr>\\\\\n",
       "\\hline\n",
       "\t9151 & ENSGALG00000032142 & MT-CO1\\\\\n",
       "\t11684 & ENSGALG00000043768 & MT-ND2\\\\\n",
       "\\end{tabular}\n"
      ],
      "text/markdown": [
       "\n",
       "A data.frame: 2 × 2\n",
       "\n",
       "| <!--/--> | ensembl_gene_id &lt;chr&gt; | hgnc_symbol &lt;chr&gt; |\n",
       "|---|---|---|\n",
       "| 9151 | ENSGALG00000032142 | MT-CO1 |\n",
       "| 11684 | ENSGALG00000043768 | MT-ND2 |\n",
       "\n"
      ],
      "text/plain": [
       "      ensembl_gene_id    hgnc_symbol\n",
       "9151  ENSGALG00000032142 MT-CO1     \n",
       "11684 ENSGALG00000043768 MT-ND2     "
      ]
     },
     "metadata": {},
     "output_type": "display_data"
    }
   ],
   "source": [
    "gene.to.symbol.map[\n",
    "    apply(\n",
    "        gene.to.symbol.map[\"hgnc_symbol\"],\n",
    "        1,\n",
    "        function(x) grepl(\"^MT-\", x)\n",
    "    ),\n",
    "]"
   ]
  },
  {
   "cell_type": "markdown",
   "id": "836f0989-da0c-4692-94e7-5801fb25bd57",
   "metadata": {},
   "source": [
    "All that for just two genes.  Oh well.  We'll analyze this dataset in a future blog post.\n",
    "\n",
    "<b style=\"color:#EB1960\">As a learning experience, I would recommend always specifying a specific Ensembl version when querying `biomaRt`</b>, since evidently code that used to work will break if they change the default breed.\n",
    "\n",
    "Also, it's a bit frustrating that I can't specify the breed in `biomaRt`, because Ensembl still has the data for the other breed - it's just for some reason not accessible via `biomaRt` which only presents a single breed to query."
   ]
  },
  {
   "cell_type": "markdown",
   "id": "d8007251-854c-4287-9272-6eeb119dcd79",
   "metadata": {},
   "source": [
    "## But why?"
   ]
  },
  {
   "cell_type": "markdown",
   "id": "04abc3b3-3ebd-4062-ba8f-7599c898515f",
   "metadata": {},
   "source": [
    "I'm left with one question: why are there two chickens?  Why is the junglefowl no longer on modern BioMart?  What is their relation? (Ahhhhhhhhhhhh)"
   ]
  },
  {
   "cell_type": "markdown",
   "id": "7e34d5e4-8095-462e-9d7c-c35d5009ec81",
   "metadata": {},
   "source": [
    "I did manage to find a [summary of some chicken breeds](https://www.ed.ac.uk/roslin/national-avian-research-facility/avian-resources/poultry-lines/white-leghorn), but it did not resolve my question."
   ]
  },
  {
   "cell_type": "markdown",
   "id": "dff1dbf3-0d16-4d1e-a95c-b47b075f623a",
   "metadata": {},
   "source": [
    "To investigate further, I went through the history of the Ensembl versions:\n",
    "\n",
    "* [Version 108](http://oct2022.archive.ensembl.org/Gallus_gallus/Info/Index) (current, October 2022): Default chicken is `bGalGal1.mat.broiler.GRCg7b`\n",
    "  - But when we look at the [chicken breeds page](http://oct2022.archive.ensembl.org/Gallus_gallus/Info/Breeds) they list it as `bGalGal1.pat.whiteleghornlayer.GRCg7w`\n",
    "* [Version 107](http://jul2022.archive.ensembl.org/Gallus_gallus/Info/Index) (July 2022): Default chicken is `bGalGal1.mat.broiler.GRCg7b`\n",
    "  - Although in this version they call it the \"maternal broiler\"\n",
    "  - And when we look at the [chicken breeds page](http://jul2022.archive.ensembl.org/Gallus_gallus/Info/Breeds) they list it as `bGalGal1.pat.whiteleghornlayer.GRCg7w`\n",
    "* [Version 106](http://apr2022.archive.ensembl.org/Gallus_gallus/Info/Index) (April 2022): Default chicken is `GRCg6a`\n",
    "  - And there is no chicken breeds page\n",
    "\n",
    "It seems like the chicken breeds pages don't list the default breed on it, and that all of the genes for `GRCg7w` are listed with IDs beginning with 00015 ([such as here](https://www.ensembl.org/Gallus_gallus_GCA_016700215.2/Gene/Summary?db=core;g=ENSGALG00015014615;r=1:140692888-140816960;t=ENSGALT00015035601)).  This is in contrast with the 00010 beginning for `GRCg7b` and `GRCg6a`."
   ]
  },
  {
   "cell_type": "markdown",
   "id": "75a9162b-fc94-4479-b2c9-79b11ce19426",
   "metadata": {},
   "source": [
    "<b style=\"color:#EB1960\">Thus, we can say this:</b>\n",
    "\n",
    "* There are three chickens in play^[Despite my earlier belief in this being a two-chicken conundrum!], `GRCg6a` (\"red junglefowl\"), `GRCg7w` (\"white leghorn\"), and `GRCg7b` (\"maternal broiler\").\n",
    "* `GRCg7b` (\"maternal broiler\") is the current default\n",
    "* `GRCg6a` (\"red junglefowl\") used to be the default back in version 106"
   ]
  },
  {
   "cell_type": "markdown",
   "id": "48e34716-af79-43e7-befb-7b85b28a413e",
   "metadata": {},
   "source": [
    "Looking up \"maternal broiler\", I am able to find [this page](https://www.ncbi.nlm.nih.gov/assembly/GCF_016699485.2/) talking about the `bGalGal1.mat.broiler.GRCg7b` genome.  It lists its breed as specifically being:\n",
    "\n",
    ">Breed: Cross of Broiler mother + white leghorn layer father"
   ]
  },
  {
   "cell_type": "markdown",
   "id": "2c4c5d4b-443f-4778-9d67-ae3626d9056a",
   "metadata": {},
   "source": [
    "This only deepens the mystery.  Why did we go from Red Junglefowl to Maternal Broiler?  How does the White Leghorn come into the picture, and is it related to why `GRCg7w` is a crossbreed?"
   ]
  },
  {
   "cell_type": "markdown",
   "id": "705aa65a-fc89-4cda-a82b-1923e848779d",
   "metadata": {},
   "source": [
    "> The chicken has been the most studied bird. It serves as a model organism for basic and biomedical science, and is one of the most commonly consumed food sources for humans.\n",
    ">\n",
    "> This trio of samples was collected to create a high-quality reference genome for two haplotypes.\n",
    ">\n",
    "> <b style=\"color:#537FBF\">The female offspring (`bGalGal1`) is a cross between a modern broiler breeder mother (`bGalGal2`) and white Leghorn father (`bGalGal3`).</b>\n",
    ">\n",
    "> Breeding and sample collection was conducted by Nick Anthony at the University of Arkansas, in coordination with Wesley Warren, Ron Okimoto, Hans Cheng, and Rachel Hawken.\n",
    ">\n",
    "> Blood from these samples were used to create high-quality reference genome assemblies of each haplotype, coordinated by Erich Jarvis, Wesley Warren, and Olivier Fedrigo, at the Rockefeller University Vertebrate Genome Lab, as part of the Vertebrate Genomes Project (VGP) and the Genome Reference Consortium (GRC).\n",
    ">\n",
    "> -- [Webpage](https://www.ncbi.nlm.nih.gov/data-hub/genome/GCF_016699485.2/) for `GRCg7b`\n",
    "\n",
    "The webpage identifies `GRCg7b` as coming from `bGalGal3` and `GRCg7w` as coming from `bGalGal2`."
   ]
  },
  {
   "cell_type": "markdown",
   "id": "ba0bfc99-a4cb-457e-9975-3c511ad848eb",
   "metadata": {},
   "source": [
    "It seems `bGalGal1` does not have its own assembly, as [the list of chicken assemblies](https://www.ncbi.nlm.nih.gov/data-hub/genome/?taxon=9031) does not include it.  The most information I can get as to `bGalGal1` is [on its sample page](https://www.ncbi.nlm.nih.gov/biosample/14342210), which is significantly less detailed than [its parent's](https://www.ncbi.nlm.nih.gov/biosample/SAMN15960293/).  As an aside, it seems like a lot of new chicken assemblies were made in 2022, which may be interesting for the future."
   ]
  },
  {
   "cell_type": "markdown",
   "id": "0ca277bf-ba67-492f-bcaf-32cf7c8d190d",
   "metadata": {},
   "source": [
    "According to [the page](https://www.ncbi.nlm.nih.gov/assembly/GCF_016700215.1/) for `bGalGal3`, the `GRCg7w` assembly has been updated to `GRCg7w_WZ`.  I believe this did not require getting more real-world data, but rather was a re-sequencing (re-assembling) of the collected data."
   ]
  },
  {
   "cell_type": "markdown",
   "id": "090a41aa-35b6-4ee7-9713-7a8d8ffac4d3",
   "metadata": {},
   "source": [
    "## Tracking the history of the events"
   ]
  },
  {
   "cell_type": "markdown",
   "id": "1193e952-62d8-464f-908b-d3630bb81be2",
   "metadata": {},
   "source": [
    "![This shows the history of the assembly chosen for the chicken, procured from [here](https://www.ensembl.org/info/website/archives/assembly.html)](./images/chicken-history.png)"
   ]
  },
  {
   "cell_type": "markdown",
   "id": "3b98ca77-4866-4a7d-aa9a-74822c5ee3a8",
   "metadata": {},
   "source": [
    "On the Ensembl blog, we can get a changelog of what has happened:"
   ]
  },
  {
   "cell_type": "markdown",
   "id": "babd2d14-e87e-48f4-a6e3-6de3a225ebcb",
   "metadata": {},
   "source": [
    "> <h3>New Assemblies and/or Annotation</h3>\n",
    ">\n",
    "> <h4>Vertebrates</h4>\n",
    ">\n",
    ">  * Reannotation of the reference assembly for pig (`Sscrofa11.1`)\n",
    ">  * <b style=\"color:#C0CF96\">Reannotation of chicken assembly</b> (`GRCg6a`)\n",
    ">  * <b style=\"color:#C0CF96\">Annotation of 2 new GRC chicken assemblies</b> (`GRCg7w` <b style=\"color:#C0CF96\">and</b> `GRCg7b`)\n",
    ">  * <b style=\"color:#C0CF96\">Chicken reference will be changed from</b> `GRCg6a` <b style=\"color:#C0CF96\">to</b> `GRCg7b`\n",
    ">  * Assembly and Gene set will be updated for Tropical clawed frog (Xenopus tropicalis): Xenopus tropicalis v9.1 to UCB Xtro 10.0\n",
    ">\n",
    "> -- [Release notes for Ensembl 107](https://www.ensembl.info/2022/05/31/whats-coming-in-ensembl-release-107-ensembl-genomes-54/)"
   ]
  },
  {
   "cell_type": "markdown",
   "id": "c731872e-efa9-44b3-b329-f5985c2cd68a",
   "metadata": {},
   "source": [
    "All in all, this has been a really confusing adventure, but I <em>think</em> I learned something..."
   ]
  }
 ],
 "metadata": {
  "kernelspec": {
   "display_name": "R [conda env:JupyterWithR]",
   "language": "R",
   "name": "conda-env-JupyterWithR-r"
  },
  "language_info": {
   "codemirror_mode": "r",
   "file_extension": ".r",
   "mimetype": "text/x-r-source",
   "name": "R",
   "pygments_lexer": "r",
   "version": "4.2.1"
  }
 },
 "nbformat": 4,
 "nbformat_minor": 5
}
