{
 "cells": [
  {
   "cell_type": "raw",
   "id": "da9c79e4-f2eb-4874-af64-c81d82e6f4c4",
   "metadata": {},
   "source": [
    "---\n",
    "title: \"A Living Biobank of Ovarian Cancer -- Figure 5\"\n",
    "description: \"Another scRNA paper\"\n",
    "author: \"Bailey Andrew\"\n",
    "date: \"Jan 20 2023\"\n",
    "draft: false\n",
    "categories: [Work, Omics, Useful, Paper Replication, In Progress]\n",
    "bibliography: bibliography.bib\n",
    "format:\n",
    "  html:\n",
    "    css:\n",
    "      - ../../html_scripts/collapse.css\n",
    "      - ../../html_scripts/pretty_shortcuts.css\n",
    "    include-after-body: \n",
    "      - ../../html_scripts/collapse.html\n",
    "      - ../../html_scripts/comments.html\n",
    "      - ../../html_scripts/make_header_sensible.html\n",
    "---"
   ]
  },
  {
   "cell_type": "markdown",
   "id": "c4b4ac1f-7240-45f2-8ccb-ba8a8dc49c5e",
   "metadata": {},
   "source": [
    "Last time on the blog, we were looking at the paper \"<b style=\"color:#EB1960\">A living biobank of ovarian cancer ex vivo models reveals profound mitotic heterogeneity</b>\" [@ovarian-cancer-living-biobank].  We'll pick up where we left off, this time trying to recreate <b style=\"color:#EB1960\">Figure 5</b>.\n",
    "\n",
    "![<b style=\"color:#EB1960\">Figure 5</b>.  Not my own work](./images/ovarian-fig5.png)"
   ]
  },
  {
   "cell_type": "markdown",
   "id": "630dd4a0-7071-4537-a66c-6efc077b0a93",
   "metadata": {},
   "source": [
    "<details>\n",
    "    <summary><b class=\"setups\">Recap</b><b style=\"color:#C0CF96\">: Loading the Data</b></summary>"
   ]
  },
  {
   "cell_type": "code",
   "execution_count": null,
   "id": "de5f06e8-0b9d-493e-ab38-f26a3bec1b03",
   "metadata": {},
   "outputs": [],
   "source": [
    "file.path = './localdata/E-MTAB-8559-quantification-raw-files/'"
   ]
  },
  {
   "cell_type": "code",
   "execution_count": null,
   "id": "6a2958cc-8bec-4162-9a22-5e70d6cac08e",
   "metadata": {},
   "outputs": [],
   "source": [
    "# Load in the matrix of expected raw counts\n",
    "raw.counts <- Matrix::readMM(\n",
    "    paste(\n",
    "        file.path,\n",
    "        'E-MTAB-8559.aggregated_filtered_counts.mtx',\n",
    "        sep=''\n",
    "    )\n",
    ")\n",
    "\n",
    "\n",
    "# Load in the row names (genes)\n",
    "row.info <- read.table(\n",
    "    paste(\n",
    "        file.path,\n",
    "        'E-MTAB-8559.aggregated_filtered_counts.mtx_rows',\n",
    "        sep=''\n",
    "    ),\n",
    "    header=FALSE,\n",
    "    col.names=c(\"Ensembl.ID\", \"Redundant\")\n",
    ")\n",
    "\n",
    "if (all(row.info['Ensembl.ID'] != row.info['Redundant'])) {\n",
    "    # I don't understand why these datasets tend to write\n",
    "    # the same name twice in each row???\n",
    "    print(\"Warning: second column is not actually redundant!\")\n",
    "}\n",
    "\n",
    "# Drop duplicate column from genes\n",
    "row.info <- row.info['Ensembl.ID']\n",
    "\n",
    "# Load in the column names (single cells)\n",
    "col.info <- read.table(\n",
    "    paste(\n",
    "        file.path,\n",
    "        'E-MTAB-8559.aggregated_filtered_counts.mtx_cols',\n",
    "        sep=''\n",
    "    ),\n",
    "    header=FALSE,\n",
    "    sep='-',\n",
    "    col.names=c('Sample.Info', 'Cell.Barcode')\n",
    ")\n",
    "col.info['Full.ID'] <- apply(\n",
    "    col.info,\n",
    "    1, # Rows\n",
    "    function(row) {\n",
    "    paste(\n",
    "        row['Sample.Info'],\n",
    "        row['Cell.Barcode'],\n",
    "        sep='-'\n",
    "    )\n",
    "})\n",
    "\n",
    "# Load in the experimental design matrix\n",
    "exp.design.table <- read.table(\n",
    "    './localdata/ExpDesign-E-MTAB-8559.tsv',\n",
    "    header=TRUE,\n",
    "    sep='\\t'\n",
    ")"
   ]
  },
  {
   "cell_type": "markdown",
   "id": "072e60f5-331f-44aa-9e61-63ed1e4716e3",
   "metadata": {},
   "source": [
    "</details>"
   ]
  },
  {
   "cell_type": "markdown",
   "id": "e6dd2b7a-7826-4e81-84ac-45f99a309b28",
   "metadata": {},
   "source": [
    "# <b style=\"color:#537FBF\">Filtering</b> and <b style=\"color:#537FBF\">Normalization</b>"
   ]
  },
  {
   "cell_type": "code",
   "execution_count": null,
   "id": "fccf8a9f-0871-46c3-a55e-1eee56fe3e48",
   "metadata": {},
   "outputs": [
    {
     "data": {
      "text/html": [
       "<style>\n",
       ".list-inline {list-style: none; margin:0; padding: 0}\n",
       ".list-inline>li {display: inline-block}\n",
       ".list-inline>li:not(:last-child)::after {content: \"\\00b7\"; padding: 0 .5ex}\n",
       "</style>\n",
       "<ol class=list-inline><li>23284</li><li>19880</li></ol>\n"
      ],
      "text/latex": [
       "\\begin{enumerate*}\n",
       "\\item 23284\n",
       "\\item 19880\n",
       "\\end{enumerate*}\n"
      ],
      "text/markdown": [
       "1. 23284\n",
       "2. 19880\n",
       "\n",
       "\n"
      ],
      "text/plain": [
       "[1] 23284 19880"
      ]
     },
     "metadata": {},
     "output_type": "display_data"
    }
   ],
   "source": [
    "dim(raw.counts)"
   ]
  },
  {
   "cell_type": "markdown",
   "id": "8cc47caf-034c-457f-beec-eb3eaefbb186",
   "metadata": {},
   "source": [
    "There are 23,284 genes and 19,880 cells - which is quite a lot!  So we should probably <b style=\"color:#537FBF\">filter</b> some things out."
   ]
  },
  {
   "cell_type": "markdown",
   "id": "171e853d-92d9-440e-bab8-d75acae1f2ee",
   "metadata": {},
   "source": [
    "> We used three measures to identify and remove the low-quality cells. Namely, the <strong style=\"color:#A6A440\">library size</strong>; the <strong style=\"color:#C0CF96\">number of expressed genes</strong>; and <strong style=\"color:#C0CF96\">the proportion of reads mapped to mitochondrial genes</strong> in all four samples. Cells exhibiting a library size lower than three <b style=\"color:#A6A440\">Median Absolute Deviations</b> (<b style=\"color:#A6A440\">MAD</b>) were <b style=\"color:#537FBF\">filtered</b> out. Also, cells expressing a gene count lower than three <b style=\"color:#A6A440\">MAD</b> were filtered out. For mitochondrial read proportions, we filtered out the cells that displayed a percentage of reads mapping to mitochondrial genes greater than three <b style=\"color:#A6A440\">MAD</b>."
   ]
  },
  {
   "cell_type": "markdown",
   "id": "682e3001-4048-4e77-ace3-b8502974ca37",
   "metadata": {},
   "source": [
    "<details>\n",
    "    <summary><b class=\"false-starts\">False Start</b><b style=\"color:#C0CF96\">: Filtering</b></summary>"
   ]
  },
  {
   "cell_type": "markdown",
   "id": "eeaa2ca7-d257-4162-bacd-797ff91e1365",
   "metadata": {},
   "source": [
    "## <b style=\"color:#A6A440\">Library Size</b> <b style=\"color:#537FBF\">Filtering</b>"
   ]
  },
  {
   "cell_type": "code",
   "execution_count": null,
   "id": "191bb9d0-b042-4e74-a3de-c65cf7b315e4",
   "metadata": {},
   "outputs": [],
   "source": [
    "library.sizes <- Matrix::rowSums(raw.counts > 0)"
   ]
  },
  {
   "cell_type": "code",
   "execution_count": null,
   "id": "d6353a46-bc6f-4826-8fe6-0a874f3e2c9e",
   "metadata": {},
   "outputs": [
    {
     "data": {
      "text/html": [
       "FALSE"
      ],
      "text/latex": [
       "FALSE"
      ],
      "text/markdown": [
       "FALSE"
      ],
      "text/plain": [
       "[1] FALSE"
      ]
     },
     "metadata": {},
     "output_type": "display_data"
    }
   ],
   "source": [
    "library.median.size <- median(library.sizes)\n",
    "median.absolute.deviation <- median(abs(library.sizes - library.median.size))\n",
    "library.lower.bound <- library.median.size - 3*median.absolute.deviation\n",
    "any(library.sizes < library.lower.bound)"
   ]
  },
  {
   "cell_type": "markdown",
   "id": "cfbb3ca5-1100-4ad6-b794-2f89c0577c21",
   "metadata": {},
   "source": [
    "It seems that none of the cells have a sufficiently low <b style=\"color:#A6A440\">library size</b>."
   ]
  },
  {
   "cell_type": "markdown",
   "id": "bc0780ef-1b58-4d5b-949c-2609f511cd87",
   "metadata": {},
   "source": [
    "## Gene Count <b style=\"color:#537FBF\">Filtering</b>"
   ]
  },
  {
   "cell_type": "code",
   "execution_count": null,
   "id": "9659dd0a-0e4f-47bd-aa0c-696c4805693d",
   "metadata": {},
   "outputs": [],
   "source": [
    "gene.counts <- Matrix::rowSums(raw.counts)"
   ]
  },
  {
   "cell_type": "code",
   "execution_count": null,
   "id": "2ab8eccf-b6d3-49c2-8ed6-87b08566939b",
   "metadata": {},
   "outputs": [
    {
     "data": {
      "text/html": [
       "FALSE"
      ],
      "text/latex": [
       "FALSE"
      ],
      "text/markdown": [
       "FALSE"
      ],
      "text/plain": [
       "[1] FALSE"
      ]
     },
     "metadata": {},
     "output_type": "display_data"
    }
   ],
   "source": [
    "gene.median.counts <- median(gene.counts)\n",
    "median.absolute.deviation <- median(abs(gene.counts - gene.median.counts))\n",
    "gene.lower.bound <- gene.median.counts - 3*median.absolute.deviation\n",
    "any(gene.counts < gene.lower.bound)"
   ]
  },
  {
   "cell_type": "markdown",
   "id": "4678ce57-fba6-40a1-ba8c-def3d1f7bd42",
   "metadata": {},
   "source": [
    "It also seems that none of the cells have a sufficiently low gene count."
   ]
  },
  {
   "cell_type": "markdown",
   "id": "1915a99e-6e7c-4040-8aa6-e3640d2f7081",
   "metadata": {},
   "source": [
    "## Mitochondrial <b style=\"color:#537FBF\">Filtering</b>"
   ]
  },
  {
   "cell_type": "markdown",
   "id": "908acd3f-d130-4d14-993d-e6051f98dda0",
   "metadata": {},
   "source": [
    "For this we'll use the `biomart` package.\n",
    "\n",
    "<details>\n",
    "    <summary><b class=\"setups\">Install</b><b style=\"color:#C0CF96\">: biomaRt</b></summary>\n",
    "    \n",
    "```{bash}\n",
    "conda search bioconda::r-biomart\n",
    "conda install bioconda::bioconductor-biomart=2.54.0 -y\n",
    "```\n",
    "\n",
    "This is the first time I've had to use the `bioconda` channel, but [their website](https://bioconda.github.io/#:~:text=The%20bioconda%20channel%20enables%20installation,is%20set%20to%20highest%20priority.) clearly shows they're built on top of `conda-forge` so I know I'm not going to get burned by channel conflicts as has happened before.  Unfortunately it doesn't work, all versions of `biomart` have dependency conflicts somewhere (so maybe I have been burned by channel conflicts...)\n",
    "    \n",
    "So now I will install `biocmanager` and install it the in-R way.\n",
    "    \n",
    "```{bash}\n",
    "# Bash\n",
    "conda search conda-forge::r-biocmanager\n",
    "conda install conda-forge::r-biocmanager=1.30.19 -y\n",
    "```\n",
    "    \n",
    "```{R}\n",
    "# R\n",
    "BiocManager::install(\"biomaRt\")\n",
    "```\n",
    "\n",
    "</details>"
   ]
  },
  {
   "cell_type": "code",
   "execution_count": null,
   "id": "c3d1b52d-bc4d-4995-a1d0-f272513caca3",
   "metadata": {},
   "outputs": [],
   "source": [
    "library(\"biomaRt\")"
   ]
  },
  {
   "cell_type": "code",
   "execution_count": null,
   "id": "330ca076-b415-4b7b-9b2b-6e9cf9c8f908",
   "metadata": {},
   "outputs": [],
   "source": [
    "# Configure biomart to use human info (as opposed to other species)\n",
    "mart <- useDataset(\"hsapiens_gene_ensembl\", useMart(\"ensembl\"))\n",
    "\n",
    "gene.to.symbol.map <- getBM(\n",
    "    filters=\"ensembl_gene_id\",\n",
    "    attributes=c(\n",
    "        \"ensembl_gene_id\",\n",
    "        \"hgnc_symbol\"\n",
    "    ),\n",
    "    values=row.info$Ensembl.ID,\n",
    "    mart=mart\n",
    ")"
   ]
  },
  {
   "cell_type": "markdown",
   "id": "10fa77d7-b235-4a86-aff1-a2fc433b85fb",
   "metadata": {},
   "source": [
    "Annoyingly, `getBM` silently drops IDs when it can't find a matching attribute, so we loose twenty genes:"
   ]
  },
  {
   "cell_type": "code",
   "execution_count": null,
   "id": "baa42d21-f1e6-4ce7-9d91-38d0fb92ebee",
   "metadata": {},
   "outputs": [
    {
     "data": {
      "text/html": [
       "23264"
      ],
      "text/latex": [
       "23264"
      ],
      "text/markdown": [
       "23264"
      ],
      "text/plain": [
       "[1] 23264"
      ]
     },
     "metadata": {},
     "output_type": "display_data"
    },
    {
     "data": {
      "text/html": [
       "23284"
      ],
      "text/latex": [
       "23284"
      ],
      "text/markdown": [
       "23284"
      ],
      "text/plain": [
       "[1] 23284"
      ]
     },
     "metadata": {},
     "output_type": "display_data"
    }
   ],
   "source": [
    "length(gene.to.symbol.map$ensembl_gene_id)\n",
    "length(row.info$Ensembl.ID)"
   ]
  },
  {
   "cell_type": "code",
   "execution_count": null,
   "id": "d96105fd-369f-4225-ac67-26201d1345b9",
   "metadata": {},
   "outputs": [],
   "source": [
    "the.lost.genes <- setdiff(\n",
    "    row.info$Ensembl.ID,\n",
    "    gene.to.symbol.map$ensembl_gene_id\n",
    ")"
   ]
  },
  {
   "cell_type": "markdown",
   "id": "2c4dada4-6d9e-4269-9b73-2f027c215b34",
   "metadata": {},
   "source": [
    "We'll filtered these genes out:"
   ]
  },
  {
   "cell_type": "code",
   "execution_count": null,
   "id": "91b72187-ecc0-488a-bcce-6a4c582975fe",
   "metadata": {},
   "outputs": [],
   "source": [
    "non.missing.gene.index <- !(row.info$Ensembl.ID %in% the.lost.genes)\n",
    "filtered.counts <- raw.counts[non.missing.gene.index,]\n",
    "filtered.row.info <- row.info[non.missing.gene.index,]"
   ]
  },
  {
   "cell_type": "code",
   "execution_count": null,
   "id": "a8ebc629-b740-4425-909e-9ea29ff94a20",
   "metadata": {},
   "outputs": [],
   "source": [
    "# For some reason, r is behaving really strangely with `strsplit`\n",
    "# which is why this function is so strangely complicated\n",
    "mito.genes.index <- sapply(\n",
    "    gene.to.symbol.map$hgnc_symbol,\n",
    "    function(x) {\n",
    "        if (x == \"\") {\n",
    "            return(FALSE)\n",
    "        }\n",
    "        split <- strsplit(x, '-')\n",
    "        if (length(split) >= 1) {\n",
    "            split. <- split[[1]]\n",
    "            if (length(split.) > 1) {\n",
    "                split. <- split.[[1]]\n",
    "            }\n",
    "            out <- tolower(split.) == 'mt'\n",
    "            return(out)\n",
    "        }\n",
    "        else {\n",
    "            return(FALSE)\n",
    "        }\n",
    "    }\n",
    ")"
   ]
  },
  {
   "cell_type": "code",
   "execution_count": null,
   "id": "bd94141b-7400-4d42-ad84-a1ab5954c0f4",
   "metadata": {},
   "outputs": [
    {
     "data": {
      "text/html": [
       "<table class=\"dataframe\">\n",
       "<caption>A data.frame: 13 × 2</caption>\n",
       "<thead>\n",
       "\t<tr><th></th><th scope=col>ensembl_gene_id</th><th scope=col>hgnc_symbol</th></tr>\n",
       "\t<tr><th></th><th scope=col>&lt;chr&gt;</th><th scope=col>&lt;chr&gt;</th></tr>\n",
       "</thead>\n",
       "<tbody>\n",
       "\t<tr><th scope=row>15116</th><td>ENSG00000198695</td><td>MT-ND6 </td></tr>\n",
       "\t<tr><th scope=row>15119</th><td>ENSG00000198712</td><td>MT-CO2 </td></tr>\n",
       "\t<tr><th scope=row>15127</th><td>ENSG00000198727</td><td>MT-CYB </td></tr>\n",
       "\t<tr><th scope=row>15146</th><td>ENSG00000198763</td><td>MT-ND2 </td></tr>\n",
       "\t<tr><th scope=row>15153</th><td>ENSG00000198786</td><td>MT-ND5 </td></tr>\n",
       "\t<tr><th scope=row>15162</th><td>ENSG00000198804</td><td>MT-CO1 </td></tr>\n",
       "\t<tr><th scope=row>15183</th><td>ENSG00000198840</td><td>MT-ND3 </td></tr>\n",
       "\t<tr><th scope=row>15203</th><td>ENSG00000198886</td><td>MT-ND4 </td></tr>\n",
       "\t<tr><th scope=row>15205</th><td>ENSG00000198888</td><td>MT-ND1 </td></tr>\n",
       "\t<tr><th scope=row>15211</th><td>ENSG00000198899</td><td>MT-ATP6</td></tr>\n",
       "\t<tr><th scope=row>15234</th><td>ENSG00000198938</td><td>MT-CO3 </td></tr>\n",
       "\t<tr><th scope=row>15790</th><td>ENSG00000212907</td><td>MT-ND4L</td></tr>\n",
       "\t<tr><th scope=row>17277</th><td>ENSG00000228253</td><td>MT-ATP8</td></tr>\n",
       "</tbody>\n",
       "</table>\n"
      ],
      "text/latex": [
       "A data.frame: 13 × 2\n",
       "\\begin{tabular}{r|ll}\n",
       "  & ensembl\\_gene\\_id & hgnc\\_symbol\\\\\n",
       "  & <chr> & <chr>\\\\\n",
       "\\hline\n",
       "\t15116 & ENSG00000198695 & MT-ND6 \\\\\n",
       "\t15119 & ENSG00000198712 & MT-CO2 \\\\\n",
       "\t15127 & ENSG00000198727 & MT-CYB \\\\\n",
       "\t15146 & ENSG00000198763 & MT-ND2 \\\\\n",
       "\t15153 & ENSG00000198786 & MT-ND5 \\\\\n",
       "\t15162 & ENSG00000198804 & MT-CO1 \\\\\n",
       "\t15183 & ENSG00000198840 & MT-ND3 \\\\\n",
       "\t15203 & ENSG00000198886 & MT-ND4 \\\\\n",
       "\t15205 & ENSG00000198888 & MT-ND1 \\\\\n",
       "\t15211 & ENSG00000198899 & MT-ATP6\\\\\n",
       "\t15234 & ENSG00000198938 & MT-CO3 \\\\\n",
       "\t15790 & ENSG00000212907 & MT-ND4L\\\\\n",
       "\t17277 & ENSG00000228253 & MT-ATP8\\\\\n",
       "\\end{tabular}\n"
      ],
      "text/markdown": [
       "\n",
       "A data.frame: 13 × 2\n",
       "\n",
       "| <!--/--> | ensembl_gene_id &lt;chr&gt; | hgnc_symbol &lt;chr&gt; |\n",
       "|---|---|---|\n",
       "| 15116 | ENSG00000198695 | MT-ND6  |\n",
       "| 15119 | ENSG00000198712 | MT-CO2  |\n",
       "| 15127 | ENSG00000198727 | MT-CYB  |\n",
       "| 15146 | ENSG00000198763 | MT-ND2  |\n",
       "| 15153 | ENSG00000198786 | MT-ND5  |\n",
       "| 15162 | ENSG00000198804 | MT-CO1  |\n",
       "| 15183 | ENSG00000198840 | MT-ND3  |\n",
       "| 15203 | ENSG00000198886 | MT-ND4  |\n",
       "| 15205 | ENSG00000198888 | MT-ND1  |\n",
       "| 15211 | ENSG00000198899 | MT-ATP6 |\n",
       "| 15234 | ENSG00000198938 | MT-CO3  |\n",
       "| 15790 | ENSG00000212907 | MT-ND4L |\n",
       "| 17277 | ENSG00000228253 | MT-ATP8 |\n",
       "\n"
      ],
      "text/plain": [
       "      ensembl_gene_id hgnc_symbol\n",
       "15116 ENSG00000198695 MT-ND6     \n",
       "15119 ENSG00000198712 MT-CO2     \n",
       "15127 ENSG00000198727 MT-CYB     \n",
       "15146 ENSG00000198763 MT-ND2     \n",
       "15153 ENSG00000198786 MT-ND5     \n",
       "15162 ENSG00000198804 MT-CO1     \n",
       "15183 ENSG00000198840 MT-ND3     \n",
       "15203 ENSG00000198886 MT-ND4     \n",
       "15205 ENSG00000198888 MT-ND1     \n",
       "15211 ENSG00000198899 MT-ATP6    \n",
       "15234 ENSG00000198938 MT-CO3     \n",
       "15790 ENSG00000212907 MT-ND4L    \n",
       "17277 ENSG00000228253 MT-ATP8    "
      ]
     },
     "metadata": {},
     "output_type": "display_data"
    }
   ],
   "source": [
    "gene.to.symbol.map[mito.genes.index, ]"
   ]
  },
  {
   "cell_type": "markdown",
   "id": "b044ad0f-0564-4210-8cec-c93c74364814",
   "metadata": {},
   "source": [
    "So now we have a list of all mitochondrial genes."
   ]
  },
  {
   "cell_type": "code",
   "execution_count": null,
   "id": "d627611a-0708-4818-9646-c7fe5d4f77bb",
   "metadata": {},
   "outputs": [],
   "source": [
    "mito.raw <- Matrix::rowSums(filtered.counts * mito.genes.index)\n",
    "not.mito.raw <- Matrix::rowSums(filtered.counts * !mito.genes.index)"
   ]
  },
  {
   "cell_type": "code",
   "execution_count": null,
   "id": "3189a880-3bc8-4b55-b747-901800b64aaf",
   "metadata": {},
   "outputs": [],
   "source": [
    "mito.percent <- mito.raw / not.mito.raw"
   ]
  },
  {
   "cell_type": "code",
   "execution_count": null,
   "id": "b87be4bf-98f7-4e53-9897-de4c0eed7ad7",
   "metadata": {},
   "outputs": [
    {
     "data": {
      "text/html": [
       "FALSE"
      ],
      "text/latex": [
       "FALSE"
      ],
      "text/markdown": [
       "FALSE"
      ],
      "text/plain": [
       "[1] FALSE"
      ]
     },
     "metadata": {},
     "output_type": "display_data"
    }
   ],
   "source": [
    "mito.median.percent <- median(mito.percent)\n",
    "median.absolute.deviation <- median(abs(mito.percent - mito.median.percent))\n",
    "mito.lower.bound <- mito.median.percent - 3*median.absolute.deviation\n",
    "any(mito.percent < mito.lower.bound)"
   ]
  },
  {
   "cell_type": "markdown",
   "id": "c2eb14dd-2be2-4350-9834-067fd28e9ab5",
   "metadata": {},
   "source": [
    "But it also seems to have been filtered out.  Thus all filtering was done before we got the \"raw\" counts."
   ]
  },
  {
   "cell_type": "markdown",
   "id": "8554c3cf-a89b-4f4d-8bd2-2c8323eb1e73",
   "metadata": {},
   "source": [
    "This makes sense as the quote referred to <strong style=\"color:#A6A440\">reads</strong>, not <strong style=\"A6A440\">counts</strong>, which implies this filtering was done at the level of the FASTQ files."
   ]
  },
  {
   "cell_type": "markdown",
   "id": "985cecb4-2d76-4a25-aec6-3ff2980c3229",
   "metadata": {},
   "source": [
    "## <b style=\"color:#A6A440\">Multiplets</b>"
   ]
  },
  {
   "cell_type": "markdown",
   "id": "3d8482dd-b9f1-4531-a472-52903f978d2c",
   "metadata": {},
   "source": [
    "> After this <b style=\"color:#537FBF\">filtering</b> two cells still showed an outlier distribution on the <b style=\"color:#A6A440\">library size</b>. These two \"cells\" were assumed to be <b style=\"color:#A6A440\">muliplets</b> and were excluded from further analyses."
   ]
  },
  {
   "cell_type": "markdown",
   "id": "e7a8a16c-ab12-4355-8b64-897da0269d22",
   "metadata": {},
   "source": [
    "To see the <b style=\"color:#A6A440\">multiplets</b>, we can make a <b style=\"color:#A6A440\">box and whisker plot</b>."
   ]
  },
  {
   "cell_type": "code",
   "execution_count": null,
   "id": "074504e1-d709-49a0-b54a-742ddb1417e6",
   "metadata": {},
   "outputs": [],
   "source": [
    "library(\"ggplot2\")"
   ]
  },
  {
   "cell_type": "code",
   "execution_count": null,
   "id": "42dcd43f-1021-41d5-b10f-e4fd2718c17f",
   "metadata": {},
   "outputs": [],
   "source": [
    "sizes.to.plot <- data.frame(library.sizes)"
   ]
  },
  {
   "cell_type": "code",
   "execution_count": null,
   "id": "9b5caaf3-6977-4fd1-ae6e-e750914863a2",
   "metadata": {},
   "outputs": [
    {
     "data": {
      "image/png": "[encoded data removed]",
      "text/plain": [
       "plot without title"
      ]
     },
     "metadata": {
      "image/png": {
       "height": 420,
       "width": 420
      }
     },
     "output_type": "display_data"
    }
   ],
   "source": [
    "ggplot(sizes.to.plot, aes(y=library.sizes)) +\n",
    "geom_boxplot(outlier.colour=\"black\", outlier.shape=16,\n",
    "             outlier.size=3, notch=FALSE)"
   ]
  },
  {
   "cell_type": "markdown",
   "id": "432befd5-b94e-4a8c-9fdb-0395dbd456ec",
   "metadata": {},
   "source": [
    "However this clearly shows more than two outliers!"
   ]
  },
  {
   "cell_type": "markdown",
   "id": "8103de53-0c42-43e6-84fb-d560caef3029",
   "metadata": {},
   "source": [
    "</details>\n",
    "\n",
    "::: {.column-margin}\n",
    "The dataset I had was pre-filtered.\n",
    ":::"
   ]
  },
  {
   "cell_type": "markdown",
   "id": "a240091b-5804-43cf-8ff7-2f6b5229f425",
   "metadata": {},
   "source": [
    "## <b style=\"color:#537FBF\">Normalization</b> and miscellaneous <b style=\"color:#537FBF\">filtering</b>"
   ]
  },
  {
   "cell_type": "markdown",
   "id": "78cec933-b456-46fe-afb9-b28a6892a812",
   "metadata": {},
   "source": [
    "> <b style=\"color:#C0CF96\">Raw counts</b> of the remaining cells were then <b style=\"color:#537FBF\">normalised</b> using the <b style=\"color:#537FBF\">deconvolution-based method</b> and then <b style=\"color:#537FBF\">log-transformed</b>. We also <b style=\"color:#537FBF\">filtered out</b> the genes with average counts below 0.01 assuming these low-abundance genes to be unreliable for statistical inference."
   ]
  },
  {
   "cell_type": "markdown",
   "id": "c7ca68ab-3b76-46ee-9587-8b1829e1c85a",
   "metadata": {},
   "source": [
    "The question is - what is this <b style=\"color:#537FBF\">deconvolution-based method</b>?\n",
    "\n",
    "TODO: THIS"
   ]
  },
  {
   "cell_type": "markdown",
   "id": "41d880a0-afc9-4f7a-a986-79477791d2d8",
   "metadata": {},
   "source": [
    "# <b style=\"color:#EB1960\">Figure 5a</b>"
   ]
  },
  {
   "cell_type": "markdown",
   "id": "00e6f916-0792-43e0-8a26-52420656abd1",
   "metadata": {},
   "source": [
    "> <b style=\"color:#EB1960\">5a)</b> <b style=\"color:#537FBF\">t-Stochastic neighbour embedding (t-SNE)</b> plot showing <b style=\"color:#537FBF\">clustering</b> of single cells from four <b style=\"color:#A6A440\">OCM pairs</b>, with <b style=\"color:#A6A440\">tumour</b> and <b style=\"color:#A6A440\">stromal cells</b> mixed 3:1. \n",
    ">\n",
    "> -- <b style=\"color:#C0CF96\">Caption of</b> <b style=\"color:#EB1960\">Figure 5a</b>"
   ]
  },
  {
   "cell_type": "markdown",
   "id": "9e10d4f8-3128-4a83-af85-7811a71e2ffc",
   "metadata": {},
   "source": [
    "<details>\n",
    "    <summary><b class=\"false-starts\">False Start</b><b style=\"color:#C0CF96\">: Which cells are <b style=\"color:#A6A440\">tumour</b> and which cells are <b style=\"color:#A6A440\">stromal</b>?</b></summary>"
   ]
  },
  {
   "cell_type": "markdown",
   "id": "6a3388d5-2a77-4f85-8166-207e398ca6c5",
   "metadata": {},
   "source": [
    "At first I thought it would be easy to tell which cells are which via hand-labeling, however we can see from below that there is no column that corresponds to cell type other `Sample.Characteristic.cell.type.`, and as we'll see it's not a very informative column."
   ]
  },
  {
   "cell_type": "code",
   "execution_count": null,
   "id": "1f1a6721-440f-451a-a849-cd567771b365",
   "metadata": {},
   "outputs": [
    {
     "name": "stdout",
     "output_type": "stream",
     "text": [
      "Assay\n",
      "Sample.Characteristic.organism.\n",
      "Sample.Characteristic.Ontology.Term.organism.\n",
      "Sample.Characteristic.developmental.stage.\n",
      "Sample.Characteristic.Ontology.Term.developmental.stage.\n",
      "Sample.Characteristic.age.\n",
      "Sample.Characteristic.Ontology.Term.age.\n",
      "Sample.Characteristic.sex.\n",
      "Sample.Characteristic.Ontology.Term.sex.\n",
      "Sample.Characteristic.individual.\n",
      "Sample.Characteristic.Ontology.Term.individual.\n",
      "Sample.Characteristic.disease.\n",
      "Sample.Characteristic.Ontology.Term.disease.\n",
      "Sample.Characteristic.tumor.grading.\n",
      "Sample.Characteristic.Ontology.Term.tumor.grading.\n",
      "Sample.Characteristic.metastatic.site.\n",
      "Sample.Characteristic.Ontology.Term.metastatic.site.\n",
      "Sample.Characteristic.organism.part.\n",
      "Sample.Characteristic.Ontology.Term.organism.part.\n",
      "Sample.Characteristic.cell.type.\n",
      "Sample.Characteristic.Ontology.Term.cell.type.\n",
      "Sample.Characteristic.growth.condition.\n",
      "Sample.Characteristic.Ontology.Term.growth.condition.\n",
      "Factor.Value.individual.\n",
      "Factor.Value.Ontology.Term.individual."
     ]
    }
   ],
   "source": [
    "# To pretty-print `colnames`, we pasted them together with \\n\n",
    "# Note that we need to use `collapse`, not `sep` - I'm pretty\n",
    "# sure this is because `colnames` is a vector rather than\n",
    "# multiple arguments, so we need to \"collapse\" it.\n",
    "#\n",
    "# Finally, to render the \\ns rather than printing \"\\n\", we need\n",
    "# to use `cat`.  All-in-all this was far more complicated\n",
    "# than I thought it would be to get pretty-print working.\n",
    "cat(\n",
    "    paste(\n",
    "        colnames(exp.design.table),\n",
    "        collapse='\\n'\n",
    "    )\n",
    ")"
   ]
  },
  {
   "cell_type": "code",
   "execution_count": null,
   "id": "fccfb446-90b0-4fe9-a7e0-37b87c247cbc",
   "metadata": {},
   "outputs": [
    {
     "data": {
      "text/html": [
       "'mix of stromal fibroblasts and epithelial tumour cells'"
      ],
      "text/latex": [
       "'mix of stromal fibroblasts and epithelial tumour cells'"
      ],
      "text/markdown": [
       "'mix of stromal fibroblasts and epithelial tumour cells'"
      ],
      "text/plain": [
       "[1] \"mix of stromal fibroblasts and epithelial tumour cells\""
      ]
     },
     "metadata": {},
     "output_type": "display_data"
    }
   ],
   "source": [
    "unique(exp.design.table$Sample.Characteristic.cell.type.)"
   ]
  },
  {
   "cell_type": "markdown",
   "id": "04c972fd-9671-49f5-b077-059763c4b6e8",
   "metadata": {},
   "source": [
    "Thus every cell is either a <b style=\"color:#A6A440\">stromal fibroblast</b> or an <b style=\"color:#A6A440\">epithelial tumour cell</b>, but we're not given any indication which is which."
   ]
  },
  {
   "cell_type": "markdown",
   "id": "99c8ded0-d1cc-4a64-82e9-be015734e607",
   "metadata": {},
   "source": [
    "> <b style=\"color:#A6A440\">Tumour</b> and <b style=\"color:#A6A440\">stromal</b> cells from the four pairs were mixed 3:1 and analysed in parallel. <b style=\"color:#537FBF\">tSNE plots</b> showed that the majority of cells from each sample formed distinct clusters, whereas smaller fractions formed an overlapping cluster (Fig. 5a). Based on the 3:1 mix, we reasoned that the large distinct clusters represented the <b style=\"color:#A6A440\">tumour cells</b> while the overlapping cluster corresponded to the <b style=\"color:#A6A440\">stromal cells</b>."
   ]
  },
  {
   "cell_type": "markdown",
   "id": "88ecd8c5-a836-4c14-a0d3-e71220bdd508",
   "metadata": {},
   "source": [
    "So it seems that they didn't keep track of which cells were which (which makes sense, because it'd probably be pretty hard...  Maybe they could have tagged the cells somehow, but maybe that'd be expensive or inaccurate - it's hard for me to say as I don't have the background).  Rather, they just inferred them from <b style=\"color:#537FBF\">tSNE plots</b>."
   ]
  },
  {
   "cell_type": "markdown",
   "id": "a53391ff-1af5-437d-899c-670f7a101f7e",
   "metadata": {},
   "source": [
    "</details>\n",
    "\n",
    "::: {.column-margin}\n",
    "Spoiler: We don't know which!\n",
    ":::"
   ]
  },
  {
   "cell_type": "markdown",
   "id": "f0eebe9c-0c63-4dff-afb1-9e9e1fb3c6ed",
   "metadata": {},
   "source": [
    "So we need to run <b style=\"color:#537FBF\">tSNE</b> - ideally, we'd like to use the exact same packages they used for analysis, but they used `scanpy`, a Python package, and this is an R notebook^[If only `sos-notebook` didn't ruin syntax highlighting...  This might require a <b class=\"sidequests\">Sidequest</b> sometime soon.].  So, instead, we'll use the `tsne` R package."
   ]
  },
  {
   "cell_type": "markdown",
   "id": "9c21f427-a313-4002-9ba1-034f071d0781",
   "metadata": {},
   "source": [
    "<details>\n",
    "    <summary><b class=\"setups\">Install</b><b style=\"color:#C0CF96\">: tsne</b></summary>\n",
    "    \n",
    "```{bash}\n",
    "conda search conda-forge::r-tsne\n",
    "conda install conda-forge::r-tsne=0.1_3.1 -y\n",
    "```\n",
    "\n",
    "</details>"
   ]
  },
  {
   "cell_type": "code",
   "execution_count": null,
   "id": "12a902d6-0f20-4806-9523-18137e236faf",
   "metadata": {},
   "outputs": [],
   "source": [
    "library(tsne)"
   ]
  },
  {
   "cell_type": "code",
   "execution_count": null,
   "id": "de99f320-af8c-4ca6-bf87-80f31ce0fc14",
   "metadata": {},
   "outputs": [],
   "source": [
    "# They did PCA to reduce dims before tsne, will have to do that later\n",
    "#tsne(raw.counts)"
   ]
  },
  {
   "cell_type": "markdown",
   "id": "b0cbf129-9ee7-40cb-a770-6a8337c7b228",
   "metadata": {},
   "source": [
    "TODO: THIS"
   ]
  }
 ],
 "metadata": {
  "kernelspec": {
   "display_name": "R [conda env:JupyterWithR]",
   "language": "R",
   "name": "conda-env-JupyterWithR-r"
  }
 },
 "nbformat": 4,
 "nbformat_minor": 5
}
