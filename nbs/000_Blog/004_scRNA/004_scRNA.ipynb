{
 "cells": [
  {
   "cell_type": "raw",
   "id": "85bf9b34-7fe4-47cd-a85b-9afa558c80a4",
   "metadata": {},
   "source": [
    "---\n",
    "title: \"Overview of scRNA-seq Data, Part 1\"\n",
    "description: \"A high-level overview; future posts will delve into the places where this one glazes over.\"\n",
    "author: \"Bailey Andrew\"\n",
    "date: \"Jan 5 2023\"\n",
    "draft: false\n",
    "categories: [Work, Useful]\n",
    "bibliography: bibliography.bib\n",
    "---"
   ]
  },
  {
   "cell_type": "markdown",
   "id": "bc418ce4-2a4c-4397-b325-fcb583633ad4",
   "metadata": {},
   "source": [
    "# scRNA-seq Data"
   ]
  },
  {
   "cell_type": "markdown",
   "id": "d37e4c00-f800-4e92-9afd-a8f701fe38d6",
   "metadata": {},
   "source": [
    "I work with single-cell RNA sequencing data (scRNA-seq), but I don't really understand it...  ELI5 is that scRNA-seq data is a list of cells, each of which has a list of genes in that cell.  The goal of this blog post is to arrive at an understanding of these.\n",
    "\n",
    "A useful resource is the eBook from <strong style=\"color:#EB1960\">@illumina-ebook</strong> outlining the scRNA-seq workflow.  <strong style=\"color:#EB1960\">Illumina</strong> is one of the companies that creates products that make scRNA-seq possible."
   ]
  },
  {
   "cell_type": "markdown",
   "id": "3b1e4ff0-576a-49e3-99d1-fb5ca33e8271",
   "metadata": {},
   "source": [
    "## Tissue Preparation"
   ]
  },
  {
   "cell_type": "markdown",
   "id": "0e0e0fcb-1f3c-4a95-8914-9d6d0aa849d4",
   "metadata": {},
   "source": [
    "The first step in scRNA-seq analysis is to procure the actual samples for the analysis.  It is perhaps the most important step, as the tissue preparation method can bias your results (some cells may be better suited to surviving certain preparation methods intact, for example).  It also tends to be easier to collect \"less clumpy\" cells, like blood cells.\n",
    "\n",
    "This makes intuitive sense, as we would need some way of reaching the cells inside a clump to prevent biasing our results towards cells that tend to inhabit the surface of a clump.  Reaching these cells is called <strong style=\"color:#537FBF\">dissociation</strong>.  For an example of how the dissociation protocol can effect the cells you get, see @systematic-dissociation.\n",
    "\n"
   ]
  },
  {
   "cell_type": "markdown",
   "id": "1d21a8b6-dbe2-4997-bbad-1d8e7a05a9b9",
   "metadata": {},
   "source": [
    "The goal of dissociation is to break bonds between cells (to destroy the aforementioned clumps).  These bonds can be broken mechanically or enzymatically, or through a combination of both.  Bonds can also be broken via the manipulation of temperature.  For an example of a dissociation protocol, see @dissociation-example."
   ]
  },
  {
   "cell_type": "markdown",
   "id": "368eca5d-04fc-4579-8e9a-84f8d3a5cd91",
   "metadata": {},
   "source": [
    "The next (optional) step is <strong style=\"color:#537FBF\">enrichment</strong>.  We do this to remove unwanted cells or boost the presence of wanted ones.\n",
    "\n",
    "After preparing the sample, we want to ensure the sample is high quality.  I'll summarize what <strong style=\"color:#EB1960\">@illumina-ebook</strong> has to say on the matter:\n",
    "\n",
    "*  We want to ensure that our dissociation and enrichment methods have not killed too many cells.  We can detect residue from dead cells to acquire an estimate, and it seems in practice the standard is to have >85% viable cells.\n",
    "*  If our cells got broken to pieces, or if we failed to split cells up well, we would expect this info to be observable in a cell size distribution histogram.\n",
    "*  We want our cells to be concentrated at the right amount.\n",
    "\n",
    "One method of getting these methods is <strong style=\"color:#537FBF\">flow cytometry</strong>."
   ]
  },
  {
   "cell_type": "markdown",
   "id": "f5512c99-1a72-4167-b908-c35b5bd29878",
   "metadata": {},
   "source": [
    "## Cell Isolation"
   ]
  },
  {
   "cell_type": "markdown",
   "id": "e7eaef41-bee0-481e-b6bc-a421cce381d4",
   "metadata": {},
   "source": [
    "Once we've prepared our tissue, we need to <strong style=\"color:#537FBF\">isolate</strong> the cells from eachother.  (Dissociation breaks up clumps, but that does not mean the de-clumped cells are isolated - they're still together in the same solution)."
   ]
  },
  {
   "cell_type": "markdown",
   "id": "ad5e25b7-918c-4ab3-8287-35dd818aa256",
   "metadata": {},
   "source": [
    "A key distinguisher between isolation methods is <strong style=\"color:#A6A440\">throughput</strong>.  Older (mechanical) methods have low throughput, and can only feasibly isolate cells from a sample of size up to the thousands.  More modern \"high-throughput\" methods can dramatically increase this.  The methods mentioned in <strong style=\"color:#EB1960\">@illumina-ebook</strong> are briefly listed here:\n",
    "<hr/>\n",
    "\n",
    "*  Low throughput\n",
    "   *  Serial dilution\n",
    "   *  Mouth pipetting\n",
    "   *  Robotic micromanipulation\n",
    "   *  Laser capture microdissection\n",
    "   *  FACS\n",
    "   \n",
    "*  High throughput\n",
    "   *  Microfluidics circuits\n",
    "   *  Droplet fluidics platforms\n",
    "   *  Microwells\n",
    "   *  Combinatorial indexing\n",
    "\n",
    "<hr/>\n",
    "Understanding the ins-and-outs of these methods, and the extent to which this list is exhaustive, is a story for another time."
   ]
  },
  {
   "cell_type": "markdown",
   "id": "fb424995-47fe-4842-a164-eab643f54cce",
   "metadata": {},
   "source": [
    "## Library Preparation"
   ]
  },
  {
   "cell_type": "markdown",
   "id": "29e802df-8735-45f3-96cc-aed15896a1e4",
   "metadata": {},
   "source": [
    "<strong style=\"color:#537FBF\">Library preparation</strong> is the collection of the bits of data that you're actually interested in (these bits would be your 'library').  For scRNA-seq we are interested in the <strong style=\"color:#A6A440\">transcriptome</strong> (this is the set of RNA thingamajigs in the cell).  <strong style=\"color:#EB1960\">@illumina-ebook</strong> lists a few library preparation techniques for the transcriptome:\n",
    "\n",
    "<hr/>\n",
    "\n",
    "*  Full-lenghth RNA-seq\n",
    "*  mRNA end-tag amplification\n",
    "*  Targeted panels\n",
    "   *  Used for specific pre-defined tasks\n",
    "*  IR-seq\n",
    "   *  Specifically used for B and T cells.\n",
    "\n",
    "<hr/>\n",
    "\n",
    "These are important for me to understand so I'll definitely be delving into this topic deeper in the future."
   ]
  },
  {
   "cell_type": "markdown",
   "id": "6777a93b-d6a8-4a01-886c-fafc70bb8f16",
   "metadata": {},
   "source": [
    "### References\n",
    "\n",
    "::: {#refs}\n",
    ":::"
   ]
  }
 ],
 "metadata": {
  "kernelspec": {
   "display_name": "Python [conda env:Blog-nbdev]",
   "language": "python",
   "name": "conda-env-Blog-nbdev-py"
  }
 },
 "nbformat": 4,
 "nbformat_minor": 5
}
