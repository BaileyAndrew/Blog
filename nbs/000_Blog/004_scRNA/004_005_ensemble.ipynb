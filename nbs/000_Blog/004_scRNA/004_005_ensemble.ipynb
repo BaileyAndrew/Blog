{
 "cells": [
  {
   "cell_type": "raw",
   "id": "cc14826e-966e-4f3a-9f52-72b60210502c",
   "metadata": {},
   "source": [
    "---\n",
    "title: \"Exploring Ensembl\"\n",
    "description: \"A side quest in understanding how to work with genetic data.\"\n",
    "author: \"Bailey Andrew\"\n",
    "date: \"Jan 10 2023\"\n",
    "draft: false\n",
    "categories: [Work, Useful, Omics, In Progress]\n",
    "bibliography: bibliography.bib\n",
    "format:\n",
    "  html:\n",
    "    css:\n",
    "      - ../../html_scripts/collapse.css\n",
    "      - ../../html_scripts/pretty_shortcuts.css\n",
    "    include-after-body: \n",
    "      - ../../html_scripts/collapse.html\n",
    "      - ../../html_scripts/comments.html\n",
    "---"
   ]
  },
  {
   "cell_type": "markdown",
   "id": "16c82f21-13fe-456d-9fd7-ed15c13bd577",
   "metadata": {},
   "source": [
    "So, I've been working on [blog posts](./004_004_exploration.html) that do a walkthrough on working with genetic data.  I keep running into issues and having to go on <b class=\"sidequests\">sidequests</b> (😅) but I think this one deserves its own blog post.  Shoutout to Morgan for the help."
   ]
  },
  {
   "cell_type": "markdown",
   "id": "d5f336a1-55d2-4fbb-8fab-3caa6f8078f4",
   "metadata": {},
   "source": [
    "![The <b style=\"color:#EB1960\">Ensemble</b> homepage](ensemble.png)"
   ]
  },
  {
   "cell_type": "markdown",
   "id": "30cd9bc9-1667-4ef7-9400-fae92546b4d7",
   "metadata": {},
   "source": [
    "A major resource in bioinformatics is <b style=\"color:#EB1960\">Ensembl</b>.  In this blog post, we'll spend some time exploring it, capping off with using it to accomplish the useful task of how to grab all known mitochondrial genes in Zebrafish (<i style=\"color:#EB1960\">Danio rerio</i>).\n",
    "\n",
    "Suppose in our dataset we had a gene called `ENSDARG00000000001`.  What can we actually say about it?  Well, first of all, this is an <b style=\"color:#A6A440\">Ensembl ID</b>, so it [follows the pattern](http://www.ensembl.org/info/genome/stable_ids/index.html) `ENS[species prefix][feature type prefix][a unique eleven digit number]`.  In this case, `DAR` is the species (<i style=\"color:#EB1960\"><strong>Da</strong>nio <strong>r</strong>erio</i>) and `G` indicates that it is referring to a gene.\n",
    "\n",
    "We can look this gene up on <b style=\"color:#EB1960\">Ensembl</b> to learn more about it:"
   ]
  },
  {
   "cell_type": "markdown",
   "id": "1d15f248-8d06-454f-9668-344a0c2cb2b8",
   "metadata": {},
   "source": [
    "![](ensemble-0001.png)"
   ]
  },
  {
   "cell_type": "markdown",
   "id": "ca0f4738-3613-494b-88e9-09796e9968e9",
   "metadata": {},
   "source": [
    "This gene is also known as <b style=\"color:#A6A440\">slc35a5</b>, but these names can be harder to work with as it is subject to change if our knowledge about its role in biological processes changes; the <b style=\"color:#A6A440\">Ensembl ID</b> is more permanent.  On the other hand, this name is arguably more informative, as it is an abbreviation for its role as \"solute carrier family 35 member A5\"."
   ]
  },
  {
   "cell_type": "markdown",
   "id": "9c179c2d-b853-4dd4-9e8c-02a7ac82a4a5",
   "metadata": {},
   "source": [
    "If we want to investigate this gene more, we can click on the <b style=\"color:#EB1960\">ZFIN</b> link [provided in the summary section](http://zfin.org/ZDB-GENE-030616-55#summary).\n",
    "\n",
    "![<b style=\"color:#EB1960\">ZFIN</b> page for ENSDARG00000000001](zfin.png)"
   ]
  },
  {
   "cell_type": "markdown",
   "id": "c43b9759-e088-44fa-9b3e-b471143e6a5c",
   "metadata": {},
   "source": [
    "Here we can see yet another gene ID (`ZDB-GENE-030616-55`), as well as a link to the naming history of this gene which may be fun to explore.  There are some other goodies on this page, but we'll return to <b style=\"color:#EB1960\">Enbembl</b> as that is the topic of this post."
   ]
  },
  {
   "cell_type": "markdown",
   "id": "457a468f-3da3-40cf-8e96-ef588caf0f71",
   "metadata": {},
   "source": [
    "Our goal is to get a list of all mitochondrial genes in <i style=\"color:#EB1960\">Danio rerio</i>.  `ENSDARG00000000001` is not a mitochondrial gene, because it is located on chromosome 9.  One way to find a list of mitochondrial genes is to search for genes with names beginning with `mt-`, because that is how mitochondrial genes are named.\n",
    "\n",
    "![](mt-search.png)\n",
    "\n",
    "However, this isn't convenient for manual use!"
   ]
  },
  {
   "cell_type": "markdown",
   "id": "97c8f1d4-3d2c-4952-ae0e-78870b22e6ba",
   "metadata": {},
   "source": [
    "<details>\n",
    "    <summary style=\"color:#C0CF96\"><b>Failed attempt at using `scanpy`</b></summary>"
   ]
  },
  {
   "cell_type": "markdown",
   "id": "d297bc8f-0717-476e-ab83-f82525b5a08b",
   "metadata": {},
   "source": [
    "One way to try to get this data is to use [scanpy](https://scanpy.readthedocs.io/en/stable/generated/scanpy.queries.mitochondrial_genes.html):"
   ]
  },
  {
   "cell_type": "code",
   "execution_count": null,
   "id": "4de1bfc3-9e0c-4f1b-a134-3fcc71dd523e",
   "metadata": {},
   "outputs": [],
   "source": [
    "# I had to also install pybiomart, which was only on pip\n",
    "from scanpy import queries"
   ]
  },
  {
   "cell_type": "code",
   "execution_count": null,
   "id": "ea82c0b6-7648-4fbc-bdf2-5d1605f7a08f",
   "metadata": {},
   "outputs": [
    {
     "ename": "HTTPError",
     "evalue": "500 Server Error: Internal Server Error for url: http://www.ensembl.org:80/biomart/martservice?type=registry",
     "output_type": "error",
     "traceback": [
      "\u001b[0;31m---------------------------------------------------------------------------\u001b[0m",
      "\u001b[0;31mHTTPError\u001b[0m                                 Traceback (most recent call last)",
      "Cell \u001b[0;32mIn[3], line 1\u001b[0m\n\u001b[0;32m----> 1\u001b[0m \u001b[43mqueries\u001b[49m\u001b[38;5;241;43m.\u001b[39;49m\u001b[43mmitochondrial_genes\u001b[49m\u001b[43m(\u001b[49m\n\u001b[1;32m      2\u001b[0m \u001b[43m    \u001b[49m\u001b[38;5;124;43m\"\u001b[39;49m\u001b[38;5;124;43mdrerio\u001b[39;49m\u001b[38;5;124;43m\"\u001b[39;49m\u001b[43m,\u001b[49m\n\u001b[1;32m      3\u001b[0m \u001b[43m    \u001b[49m\u001b[43mattrname\u001b[49m\u001b[43m \u001b[49m\u001b[38;5;241;43m=\u001b[39;49m\u001b[43m \u001b[49m\u001b[38;5;124;43m\"\u001b[39;49m\u001b[38;5;124;43mensembl_gene_id\u001b[39;49m\u001b[38;5;124;43m\"\u001b[39;49m\n\u001b[1;32m      4\u001b[0m \u001b[43m)\u001b[49m\n",
      "File \u001b[0;32m~/opt/anaconda3/envs/Blog-nbdev/lib/python3.9/site-packages/scanpy/queries/_queries.py:191\u001b[0m, in \u001b[0;36mmitochondrial_genes\u001b[0;34m(org, attrname, host, use_cache, chromosome)\u001b[0m\n\u001b[1;32m    156\u001b[0m \u001b[38;5;129m@_doc_params\u001b[39m(doc_org\u001b[38;5;241m=\u001b[39m_doc_org, doc_host\u001b[38;5;241m=\u001b[39m_doc_host, doc_use_cache\u001b[38;5;241m=\u001b[39m_doc_use_cache)\n\u001b[1;32m    157\u001b[0m \u001b[38;5;28;01mdef\u001b[39;00m \u001b[38;5;21mmitochondrial_genes\u001b[39m(\n\u001b[1;32m    158\u001b[0m     org: \u001b[38;5;28mstr\u001b[39m,\n\u001b[0;32m   (...)\u001b[0m\n\u001b[1;32m    163\u001b[0m     chromosome: \u001b[38;5;28mstr\u001b[39m \u001b[38;5;241m=\u001b[39m \u001b[38;5;124m\"\u001b[39m\u001b[38;5;124mMT\u001b[39m\u001b[38;5;124m\"\u001b[39m,\n\u001b[1;32m    164\u001b[0m ) \u001b[38;5;241m-\u001b[39m\u001b[38;5;241m>\u001b[39m pd\u001b[38;5;241m.\u001b[39mDataFrame:\n\u001b[1;32m    165\u001b[0m     \u001b[38;5;124;03m\"\"\"\\\u001b[39;00m\n\u001b[1;32m    166\u001b[0m \u001b[38;5;124;03m    Mitochondrial gene symbols for specific organism through BioMart.\u001b[39;00m\n\u001b[1;32m    167\u001b[0m \n\u001b[0;32m   (...)\u001b[0m\n\u001b[1;32m    189\u001b[0m \u001b[38;5;124;03m    >>> mito_gene_names_fly = sc.queries.mitochondrial_genes(\"dmelanogaster\", chromosome=\"mitochondrion_genome\")\u001b[39;00m\n\u001b[1;32m    190\u001b[0m \u001b[38;5;124;03m    \"\"\"\u001b[39;00m\n\u001b[0;32m--> 191\u001b[0m     \u001b[38;5;28;01mreturn\u001b[39;00m \u001b[43msimple_query\u001b[49m\u001b[43m(\u001b[49m\n\u001b[1;32m    192\u001b[0m \u001b[43m        \u001b[49m\u001b[43morg\u001b[49m\u001b[43m,\u001b[49m\n\u001b[1;32m    193\u001b[0m \u001b[43m        \u001b[49m\u001b[43mattrs\u001b[49m\u001b[38;5;241;43m=\u001b[39;49m\u001b[43m[\u001b[49m\u001b[43mattrname\u001b[49m\u001b[43m]\u001b[49m\u001b[43m,\u001b[49m\n\u001b[1;32m    194\u001b[0m \u001b[43m        \u001b[49m\u001b[43mfilters\u001b[49m\u001b[38;5;241;43m=\u001b[39;49m\u001b[43m{\u001b[49m\u001b[38;5;124;43m\"\u001b[39;49m\u001b[38;5;124;43mchromosome_name\u001b[39;49m\u001b[38;5;124;43m\"\u001b[39;49m\u001b[43m:\u001b[49m\u001b[43m \u001b[49m\u001b[43m[\u001b[49m\u001b[43mchromosome\u001b[49m\u001b[43m]\u001b[49m\u001b[43m}\u001b[49m\u001b[43m,\u001b[49m\n\u001b[1;32m    195\u001b[0m \u001b[43m        \u001b[49m\u001b[43mhost\u001b[49m\u001b[38;5;241;43m=\u001b[39;49m\u001b[43mhost\u001b[49m\u001b[43m,\u001b[49m\n\u001b[1;32m    196\u001b[0m \u001b[43m        \u001b[49m\u001b[43muse_cache\u001b[49m\u001b[38;5;241;43m=\u001b[39;49m\u001b[43muse_cache\u001b[49m\u001b[43m,\u001b[49m\n\u001b[1;32m    197\u001b[0m \u001b[43m    \u001b[49m\u001b[43m)\u001b[49m\n",
      "File \u001b[0;32m~/opt/anaconda3/envs/Blog-nbdev/lib/python3.9/site-packages/scanpy/queries/_queries.py:67\u001b[0m, in \u001b[0;36msimple_query\u001b[0;34m(org, attrs, filters, host, use_cache)\u001b[0m\n\u001b[1;32m     63\u001b[0m     \u001b[38;5;28;01mraise\u001b[39;00m \u001b[38;5;167;01mImportError\u001b[39;00m(\n\u001b[1;32m     64\u001b[0m         \u001b[38;5;124m\"\u001b[39m\u001b[38;5;124mThis method requires the `pybiomart` module to be installed.\u001b[39m\u001b[38;5;124m\"\u001b[39m\n\u001b[1;32m     65\u001b[0m     )\n\u001b[1;32m     66\u001b[0m server \u001b[38;5;241m=\u001b[39m Server(host, use_cache\u001b[38;5;241m=\u001b[39muse_cache)\n\u001b[0;32m---> 67\u001b[0m dataset \u001b[38;5;241m=\u001b[39m \u001b[43mserver\u001b[49m\u001b[38;5;241;43m.\u001b[39;49m\u001b[43mmarts\u001b[49m[\u001b[38;5;124m\"\u001b[39m\u001b[38;5;124mENSEMBL_MART_ENSEMBL\u001b[39m\u001b[38;5;124m\"\u001b[39m]\u001b[38;5;241m.\u001b[39mdatasets[\n\u001b[1;32m     68\u001b[0m     \u001b[38;5;124m\"\u001b[39m\u001b[38;5;132;01m{}\u001b[39;00m\u001b[38;5;124m_gene_ensembl\u001b[39m\u001b[38;5;124m\"\u001b[39m\u001b[38;5;241m.\u001b[39mformat(org)\n\u001b[1;32m     69\u001b[0m ]\n\u001b[1;32m     70\u001b[0m res \u001b[38;5;241m=\u001b[39m dataset\u001b[38;5;241m.\u001b[39mquery(attributes\u001b[38;5;241m=\u001b[39mattrs, filters\u001b[38;5;241m=\u001b[39mfilters, use_attr_names\u001b[38;5;241m=\u001b[39m\u001b[38;5;28;01mTrue\u001b[39;00m)\n\u001b[1;32m     71\u001b[0m \u001b[38;5;28;01mreturn\u001b[39;00m res\n",
      "File \u001b[0;32m~/opt/anaconda3/envs/Blog-nbdev/lib/python3.9/site-packages/pybiomart/server.py:61\u001b[0m, in \u001b[0;36mServer.marts\u001b[0;34m(self)\u001b[0m\n\u001b[1;32m     59\u001b[0m \u001b[38;5;124;03m\"\"\"List of available marts.\"\"\"\u001b[39;00m\n\u001b[1;32m     60\u001b[0m \u001b[38;5;28;01mif\u001b[39;00m \u001b[38;5;28mself\u001b[39m\u001b[38;5;241m.\u001b[39m_marts \u001b[38;5;129;01mis\u001b[39;00m \u001b[38;5;28;01mNone\u001b[39;00m:\n\u001b[0;32m---> 61\u001b[0m     \u001b[38;5;28mself\u001b[39m\u001b[38;5;241m.\u001b[39m_marts \u001b[38;5;241m=\u001b[39m \u001b[38;5;28;43mself\u001b[39;49m\u001b[38;5;241;43m.\u001b[39;49m\u001b[43m_fetch_marts\u001b[49m\u001b[43m(\u001b[49m\u001b[43m)\u001b[49m\n\u001b[1;32m     62\u001b[0m \u001b[38;5;28;01mreturn\u001b[39;00m \u001b[38;5;28mself\u001b[39m\u001b[38;5;241m.\u001b[39m_marts\n",
      "File \u001b[0;32m~/opt/anaconda3/envs/Blog-nbdev/lib/python3.9/site-packages/pybiomart/server.py:79\u001b[0m, in \u001b[0;36mServer._fetch_marts\u001b[0;34m(self)\u001b[0m\n\u001b[1;32m     78\u001b[0m \u001b[38;5;28;01mdef\u001b[39;00m \u001b[38;5;21m_fetch_marts\u001b[39m(\u001b[38;5;28mself\u001b[39m):\n\u001b[0;32m---> 79\u001b[0m     response \u001b[38;5;241m=\u001b[39m \u001b[38;5;28;43mself\u001b[39;49m\u001b[38;5;241;43m.\u001b[39;49m\u001b[43mget\u001b[49m\u001b[43m(\u001b[49m\u001b[38;5;28;43mtype\u001b[39;49m\u001b[38;5;241;43m=\u001b[39;49m\u001b[38;5;124;43m'\u001b[39;49m\u001b[38;5;124;43mregistry\u001b[39;49m\u001b[38;5;124;43m'\u001b[39;49m\u001b[43m)\u001b[49m\n\u001b[1;32m     81\u001b[0m     xml \u001b[38;5;241m=\u001b[39m xml_from_string(response\u001b[38;5;241m.\u001b[39mcontent)\n\u001b[1;32m     82\u001b[0m     marts \u001b[38;5;241m=\u001b[39m [\n\u001b[1;32m     83\u001b[0m         \u001b[38;5;28mself\u001b[39m\u001b[38;5;241m.\u001b[39m_mart_from_xml(child)\n\u001b[1;32m     84\u001b[0m         \u001b[38;5;28;01mfor\u001b[39;00m child \u001b[38;5;129;01min\u001b[39;00m xml\u001b[38;5;241m.\u001b[39mfindall(\u001b[38;5;124m'\u001b[39m\u001b[38;5;124mMartURLLocation\u001b[39m\u001b[38;5;124m'\u001b[39m)\n\u001b[1;32m     85\u001b[0m     ]\n",
      "File \u001b[0;32m~/opt/anaconda3/envs/Blog-nbdev/lib/python3.9/site-packages/pybiomart/base.py:111\u001b[0m, in \u001b[0;36mServerBase.get\u001b[0;34m(self, **params)\u001b[0m\n\u001b[1;32m    109\u001b[0m     \u001b[38;5;28;01mwith\u001b[39;00m requests_cache\u001b[38;5;241m.\u001b[39mdisabled():\n\u001b[1;32m    110\u001b[0m         r \u001b[38;5;241m=\u001b[39m requests\u001b[38;5;241m.\u001b[39mget(\u001b[38;5;28mself\u001b[39m\u001b[38;5;241m.\u001b[39murl, params\u001b[38;5;241m=\u001b[39mparams)\n\u001b[0;32m--> 111\u001b[0m \u001b[43mr\u001b[49m\u001b[38;5;241;43m.\u001b[39;49m\u001b[43mraise_for_status\u001b[49m\u001b[43m(\u001b[49m\u001b[43m)\u001b[49m\n\u001b[1;32m    112\u001b[0m \u001b[38;5;28;01mreturn\u001b[39;00m r\n",
      "File \u001b[0;32m~/opt/anaconda3/envs/Blog-nbdev/lib/python3.9/site-packages/requests/models.py:1021\u001b[0m, in \u001b[0;36mResponse.raise_for_status\u001b[0;34m(self)\u001b[0m\n\u001b[1;32m   1016\u001b[0m     http_error_msg \u001b[38;5;241m=\u001b[39m (\n\u001b[1;32m   1017\u001b[0m         \u001b[38;5;124mf\u001b[39m\u001b[38;5;124m\"\u001b[39m\u001b[38;5;132;01m{\u001b[39;00m\u001b[38;5;28mself\u001b[39m\u001b[38;5;241m.\u001b[39mstatus_code\u001b[38;5;132;01m}\u001b[39;00m\u001b[38;5;124m Server Error: \u001b[39m\u001b[38;5;132;01m{\u001b[39;00mreason\u001b[38;5;132;01m}\u001b[39;00m\u001b[38;5;124m for url: \u001b[39m\u001b[38;5;132;01m{\u001b[39;00m\u001b[38;5;28mself\u001b[39m\u001b[38;5;241m.\u001b[39murl\u001b[38;5;132;01m}\u001b[39;00m\u001b[38;5;124m\"\u001b[39m\n\u001b[1;32m   1018\u001b[0m     )\n\u001b[1;32m   1020\u001b[0m \u001b[38;5;28;01mif\u001b[39;00m http_error_msg:\n\u001b[0;32m-> 1021\u001b[0m     \u001b[38;5;28;01mraise\u001b[39;00m HTTPError(http_error_msg, response\u001b[38;5;241m=\u001b[39m\u001b[38;5;28mself\u001b[39m)\n",
      "\u001b[0;31mHTTPError\u001b[0m: 500 Server Error: Internal Server Error for url: http://www.ensembl.org:80/biomart/martservice?type=registry"
     ]
    }
   ],
   "source": [
    "queries.mitochondrial_genes(\n",
    "    \"drerio\",\n",
    "    attrname = \"ensembl_gene_id\"\n",
    ")"
   ]
  },
  {
   "cell_type": "markdown",
   "id": "6e5cd819-89a9-432e-8fb9-82e5f300e483",
   "metadata": {},
   "source": [
    "Unfortunately, <b style=\"color:#EB1960\">Biomart</b> was down at the time I tried to do this! (<b style=\"color:#EB1960\">Biomart</b> seems to be the api for this type of stuff).\n",
    "\n",
    "> \tUse this data-mining tool to export custom datasets from Ensembl.\n",
    ">\n",
    "> -- <cite>[Ensemble docs about what Biomart is](http://www.ensembl.org/info/docs/tools/index.html)</cite>"
   ]
  },
  {
   "cell_type": "markdown",
   "id": "79634ac5-ad1a-4333-baf7-e93ab28cc980",
   "metadata": {},
   "source": [
    "I found that the \"asia\" mirror of <b style=\"color:#EB1960\">Biomart</b> gives a different error:"
   ]
  },
  {
   "cell_type": "code",
   "execution_count": null,
   "id": "27165d57-7f03-46c0-bc88-a60533c73fd9",
   "metadata": {},
   "outputs": [
    {
     "ename": "HTTPError",
     "evalue": "504 Server Error: Gateway Time-out for url: http://asia.ensembl.org:80/biomart/martservice?type=registry",
     "output_type": "error",
     "traceback": [
      "\u001b[0;31m---------------------------------------------------------------------------\u001b[0m",
      "\u001b[0;31mHTTPError\u001b[0m                                 Traceback (most recent call last)",
      "Cell \u001b[0;32mIn[13], line 1\u001b[0m\n\u001b[0;32m----> 1\u001b[0m mitgenes \u001b[38;5;241m=\u001b[39m \u001b[43mqueries\u001b[49m\u001b[38;5;241;43m.\u001b[39;49m\u001b[43mmitochondrial_genes\u001b[49m\u001b[43m(\u001b[49m\n\u001b[1;32m      2\u001b[0m \u001b[43m    \u001b[49m\u001b[38;5;124;43m\"\u001b[39;49m\u001b[38;5;124;43mdrerio\u001b[39;49m\u001b[38;5;124;43m\"\u001b[39;49m\u001b[43m,\u001b[49m\n\u001b[1;32m      3\u001b[0m \u001b[43m    \u001b[49m\u001b[43mattrname\u001b[49m\u001b[43m \u001b[49m\u001b[38;5;241;43m=\u001b[39;49m\u001b[43m \u001b[49m\u001b[38;5;124;43m\"\u001b[39;49m\u001b[38;5;124;43mensembl_gene_id\u001b[39;49m\u001b[38;5;124;43m\"\u001b[39;49m\u001b[43m,\u001b[49m\n\u001b[1;32m      4\u001b[0m \u001b[43m    \u001b[49m\u001b[43mhost\u001b[49m\u001b[43m \u001b[49m\u001b[38;5;241;43m=\u001b[39;49m\u001b[43m \u001b[49m\u001b[38;5;124;43m\"\u001b[39;49m\u001b[38;5;124;43masia.ensembl.org\u001b[39;49m\u001b[38;5;124;43m\"\u001b[39;49m\n\u001b[1;32m      5\u001b[0m \u001b[43m)\u001b[49m\n\u001b[1;32m      6\u001b[0m mitgenes\n",
      "File \u001b[0;32m~/opt/anaconda3/envs/Blog-nbdev/lib/python3.9/site-packages/scanpy/queries/_queries.py:191\u001b[0m, in \u001b[0;36mmitochondrial_genes\u001b[0;34m(org, attrname, host, use_cache, chromosome)\u001b[0m\n\u001b[1;32m    156\u001b[0m \u001b[38;5;129m@_doc_params\u001b[39m(doc_org\u001b[38;5;241m=\u001b[39m_doc_org, doc_host\u001b[38;5;241m=\u001b[39m_doc_host, doc_use_cache\u001b[38;5;241m=\u001b[39m_doc_use_cache)\n\u001b[1;32m    157\u001b[0m \u001b[38;5;28;01mdef\u001b[39;00m \u001b[38;5;21mmitochondrial_genes\u001b[39m(\n\u001b[1;32m    158\u001b[0m     org: \u001b[38;5;28mstr\u001b[39m,\n\u001b[0;32m   (...)\u001b[0m\n\u001b[1;32m    163\u001b[0m     chromosome: \u001b[38;5;28mstr\u001b[39m \u001b[38;5;241m=\u001b[39m \u001b[38;5;124m\"\u001b[39m\u001b[38;5;124mMT\u001b[39m\u001b[38;5;124m\"\u001b[39m,\n\u001b[1;32m    164\u001b[0m ) \u001b[38;5;241m-\u001b[39m\u001b[38;5;241m>\u001b[39m pd\u001b[38;5;241m.\u001b[39mDataFrame:\n\u001b[1;32m    165\u001b[0m     \u001b[38;5;124;03m\"\"\"\\\u001b[39;00m\n\u001b[1;32m    166\u001b[0m \u001b[38;5;124;03m    Mitochondrial gene symbols for specific organism through BioMart.\u001b[39;00m\n\u001b[1;32m    167\u001b[0m \n\u001b[0;32m   (...)\u001b[0m\n\u001b[1;32m    189\u001b[0m \u001b[38;5;124;03m    >>> mito_gene_names_fly = sc.queries.mitochondrial_genes(\"dmelanogaster\", chromosome=\"mitochondrion_genome\")\u001b[39;00m\n\u001b[1;32m    190\u001b[0m \u001b[38;5;124;03m    \"\"\"\u001b[39;00m\n\u001b[0;32m--> 191\u001b[0m     \u001b[38;5;28;01mreturn\u001b[39;00m \u001b[43msimple_query\u001b[49m\u001b[43m(\u001b[49m\n\u001b[1;32m    192\u001b[0m \u001b[43m        \u001b[49m\u001b[43morg\u001b[49m\u001b[43m,\u001b[49m\n\u001b[1;32m    193\u001b[0m \u001b[43m        \u001b[49m\u001b[43mattrs\u001b[49m\u001b[38;5;241;43m=\u001b[39;49m\u001b[43m[\u001b[49m\u001b[43mattrname\u001b[49m\u001b[43m]\u001b[49m\u001b[43m,\u001b[49m\n\u001b[1;32m    194\u001b[0m \u001b[43m        \u001b[49m\u001b[43mfilters\u001b[49m\u001b[38;5;241;43m=\u001b[39;49m\u001b[43m{\u001b[49m\u001b[38;5;124;43m\"\u001b[39;49m\u001b[38;5;124;43mchromosome_name\u001b[39;49m\u001b[38;5;124;43m\"\u001b[39;49m\u001b[43m:\u001b[49m\u001b[43m \u001b[49m\u001b[43m[\u001b[49m\u001b[43mchromosome\u001b[49m\u001b[43m]\u001b[49m\u001b[43m}\u001b[49m\u001b[43m,\u001b[49m\n\u001b[1;32m    195\u001b[0m \u001b[43m        \u001b[49m\u001b[43mhost\u001b[49m\u001b[38;5;241;43m=\u001b[39;49m\u001b[43mhost\u001b[49m\u001b[43m,\u001b[49m\n\u001b[1;32m    196\u001b[0m \u001b[43m        \u001b[49m\u001b[43muse_cache\u001b[49m\u001b[38;5;241;43m=\u001b[39;49m\u001b[43muse_cache\u001b[49m\u001b[43m,\u001b[49m\n\u001b[1;32m    197\u001b[0m \u001b[43m    \u001b[49m\u001b[43m)\u001b[49m\n",
      "File \u001b[0;32m~/opt/anaconda3/envs/Blog-nbdev/lib/python3.9/site-packages/scanpy/queries/_queries.py:67\u001b[0m, in \u001b[0;36msimple_query\u001b[0;34m(org, attrs, filters, host, use_cache)\u001b[0m\n\u001b[1;32m     63\u001b[0m     \u001b[38;5;28;01mraise\u001b[39;00m \u001b[38;5;167;01mImportError\u001b[39;00m(\n\u001b[1;32m     64\u001b[0m         \u001b[38;5;124m\"\u001b[39m\u001b[38;5;124mThis method requires the `pybiomart` module to be installed.\u001b[39m\u001b[38;5;124m\"\u001b[39m\n\u001b[1;32m     65\u001b[0m     )\n\u001b[1;32m     66\u001b[0m server \u001b[38;5;241m=\u001b[39m Server(host, use_cache\u001b[38;5;241m=\u001b[39muse_cache)\n\u001b[0;32m---> 67\u001b[0m dataset \u001b[38;5;241m=\u001b[39m \u001b[43mserver\u001b[49m\u001b[38;5;241;43m.\u001b[39;49m\u001b[43mmarts\u001b[49m[\u001b[38;5;124m\"\u001b[39m\u001b[38;5;124mENSEMBL_MART_ENSEMBL\u001b[39m\u001b[38;5;124m\"\u001b[39m]\u001b[38;5;241m.\u001b[39mdatasets[\n\u001b[1;32m     68\u001b[0m     \u001b[38;5;124m\"\u001b[39m\u001b[38;5;132;01m{}\u001b[39;00m\u001b[38;5;124m_gene_ensembl\u001b[39m\u001b[38;5;124m\"\u001b[39m\u001b[38;5;241m.\u001b[39mformat(org)\n\u001b[1;32m     69\u001b[0m ]\n\u001b[1;32m     70\u001b[0m res \u001b[38;5;241m=\u001b[39m dataset\u001b[38;5;241m.\u001b[39mquery(attributes\u001b[38;5;241m=\u001b[39mattrs, filters\u001b[38;5;241m=\u001b[39mfilters, use_attr_names\u001b[38;5;241m=\u001b[39m\u001b[38;5;28;01mTrue\u001b[39;00m)\n\u001b[1;32m     71\u001b[0m \u001b[38;5;28;01mreturn\u001b[39;00m res\n",
      "File \u001b[0;32m~/opt/anaconda3/envs/Blog-nbdev/lib/python3.9/site-packages/pybiomart/server.py:61\u001b[0m, in \u001b[0;36mServer.marts\u001b[0;34m(self)\u001b[0m\n\u001b[1;32m     59\u001b[0m \u001b[38;5;124;03m\"\"\"List of available marts.\"\"\"\u001b[39;00m\n\u001b[1;32m     60\u001b[0m \u001b[38;5;28;01mif\u001b[39;00m \u001b[38;5;28mself\u001b[39m\u001b[38;5;241m.\u001b[39m_marts \u001b[38;5;129;01mis\u001b[39;00m \u001b[38;5;28;01mNone\u001b[39;00m:\n\u001b[0;32m---> 61\u001b[0m     \u001b[38;5;28mself\u001b[39m\u001b[38;5;241m.\u001b[39m_marts \u001b[38;5;241m=\u001b[39m \u001b[38;5;28;43mself\u001b[39;49m\u001b[38;5;241;43m.\u001b[39;49m\u001b[43m_fetch_marts\u001b[49m\u001b[43m(\u001b[49m\u001b[43m)\u001b[49m\n\u001b[1;32m     62\u001b[0m \u001b[38;5;28;01mreturn\u001b[39;00m \u001b[38;5;28mself\u001b[39m\u001b[38;5;241m.\u001b[39m_marts\n",
      "File \u001b[0;32m~/opt/anaconda3/envs/Blog-nbdev/lib/python3.9/site-packages/pybiomart/server.py:79\u001b[0m, in \u001b[0;36mServer._fetch_marts\u001b[0;34m(self)\u001b[0m\n\u001b[1;32m     78\u001b[0m \u001b[38;5;28;01mdef\u001b[39;00m \u001b[38;5;21m_fetch_marts\u001b[39m(\u001b[38;5;28mself\u001b[39m):\n\u001b[0;32m---> 79\u001b[0m     response \u001b[38;5;241m=\u001b[39m \u001b[38;5;28;43mself\u001b[39;49m\u001b[38;5;241;43m.\u001b[39;49m\u001b[43mget\u001b[49m\u001b[43m(\u001b[49m\u001b[38;5;28;43mtype\u001b[39;49m\u001b[38;5;241;43m=\u001b[39;49m\u001b[38;5;124;43m'\u001b[39;49m\u001b[38;5;124;43mregistry\u001b[39;49m\u001b[38;5;124;43m'\u001b[39;49m\u001b[43m)\u001b[49m\n\u001b[1;32m     81\u001b[0m     xml \u001b[38;5;241m=\u001b[39m xml_from_string(response\u001b[38;5;241m.\u001b[39mcontent)\n\u001b[1;32m     82\u001b[0m     marts \u001b[38;5;241m=\u001b[39m [\n\u001b[1;32m     83\u001b[0m         \u001b[38;5;28mself\u001b[39m\u001b[38;5;241m.\u001b[39m_mart_from_xml(child)\n\u001b[1;32m     84\u001b[0m         \u001b[38;5;28;01mfor\u001b[39;00m child \u001b[38;5;129;01min\u001b[39;00m xml\u001b[38;5;241m.\u001b[39mfindall(\u001b[38;5;124m'\u001b[39m\u001b[38;5;124mMartURLLocation\u001b[39m\u001b[38;5;124m'\u001b[39m)\n\u001b[1;32m     85\u001b[0m     ]\n",
      "File \u001b[0;32m~/opt/anaconda3/envs/Blog-nbdev/lib/python3.9/site-packages/pybiomart/base.py:111\u001b[0m, in \u001b[0;36mServerBase.get\u001b[0;34m(self, **params)\u001b[0m\n\u001b[1;32m    109\u001b[0m     \u001b[38;5;28;01mwith\u001b[39;00m requests_cache\u001b[38;5;241m.\u001b[39mdisabled():\n\u001b[1;32m    110\u001b[0m         r \u001b[38;5;241m=\u001b[39m requests\u001b[38;5;241m.\u001b[39mget(\u001b[38;5;28mself\u001b[39m\u001b[38;5;241m.\u001b[39murl, params\u001b[38;5;241m=\u001b[39mparams)\n\u001b[0;32m--> 111\u001b[0m \u001b[43mr\u001b[49m\u001b[38;5;241;43m.\u001b[39;49m\u001b[43mraise_for_status\u001b[49m\u001b[43m(\u001b[49m\u001b[43m)\u001b[49m\n\u001b[1;32m    112\u001b[0m \u001b[38;5;28;01mreturn\u001b[39;00m r\n",
      "File \u001b[0;32m~/opt/anaconda3/envs/Blog-nbdev/lib/python3.9/site-packages/requests/models.py:1021\u001b[0m, in \u001b[0;36mResponse.raise_for_status\u001b[0;34m(self)\u001b[0m\n\u001b[1;32m   1016\u001b[0m     http_error_msg \u001b[38;5;241m=\u001b[39m (\n\u001b[1;32m   1017\u001b[0m         \u001b[38;5;124mf\u001b[39m\u001b[38;5;124m\"\u001b[39m\u001b[38;5;132;01m{\u001b[39;00m\u001b[38;5;28mself\u001b[39m\u001b[38;5;241m.\u001b[39mstatus_code\u001b[38;5;132;01m}\u001b[39;00m\u001b[38;5;124m Server Error: \u001b[39m\u001b[38;5;132;01m{\u001b[39;00mreason\u001b[38;5;132;01m}\u001b[39;00m\u001b[38;5;124m for url: \u001b[39m\u001b[38;5;132;01m{\u001b[39;00m\u001b[38;5;28mself\u001b[39m\u001b[38;5;241m.\u001b[39murl\u001b[38;5;132;01m}\u001b[39;00m\u001b[38;5;124m\"\u001b[39m\n\u001b[1;32m   1018\u001b[0m     )\n\u001b[1;32m   1020\u001b[0m \u001b[38;5;28;01mif\u001b[39;00m http_error_msg:\n\u001b[0;32m-> 1021\u001b[0m     \u001b[38;5;28;01mraise\u001b[39;00m HTTPError(http_error_msg, response\u001b[38;5;241m=\u001b[39m\u001b[38;5;28mself\u001b[39m)\n",
      "\u001b[0;31mHTTPError\u001b[0m: 504 Server Error: Gateway Time-out for url: http://asia.ensembl.org:80/biomart/martservice?type=registry"
     ]
    }
   ],
   "source": [
    "mitgenes = queries.mitochondrial_genes(\n",
    "    \"drerio\",\n",
    "    attrname = \"ensembl_gene_id\",\n",
    "    host = \"asia.ensembl.org\"\n",
    ")\n",
    "mitgenes"
   ]
  },
  {
   "cell_type": "markdown",
   "id": "0b806fe6-8834-4089-bfd8-c83154af5eae",
   "metadata": {},
   "source": [
    "</details>"
   ]
  },
  {
   "cell_type": "markdown",
   "id": "e118d6a7-3c24-4876-a06a-c07f2bd7569e",
   "metadata": {},
   "source": [
    "\n",
    "Another way to get the data is to search by location.  We can play around with their region-searcher to see that the mitochondrial dna of a zebrafish is just over 16 kilobases long (16,596 bases to be exact).\n",
    "\n",
    "![](loc-search.png)"
   ]
  },
  {
   "cell_type": "markdown",
   "id": "81d7e716-8461-478c-8689-9179ff354cfb",
   "metadata": {},
   "source": [
    "If we do that, we can find this cute overview of the mitochondrial dna:\n",
    "\n",
    "![](mitdna.png)"
   ]
  },
  {
   "cell_type": "markdown",
   "id": "3dc033b9-4565-4fb1-b6ce-7da4d9bf38cb",
   "metadata": {},
   "source": [
    "Not relevant to us, though - we want to click on the \"export\" button, which will give us this popup:\n",
    "\n",
    "![](export.png)"
   ]
  },
  {
   "cell_type": "markdown",
   "id": "4aced033-19be-4154-a575-498ea9769d65",
   "metadata": {},
   "source": [
    "You can then download all the mitochondrial data!  It's a rather small file that looks like this:\n",
    "\n",
    "```\n",
    "seqname,source,feature,start,end,score,strand,frame,hid,hstart,hend,genscan,gene_id,transcript_id,exon_id,gene_type,variation_name,probe_name\n",
    "MT,EVA,variation,113,113,.,+,.,,,,,,,,,rs508804888,\n",
    "[...]\n",
    "MT,Ensembl,gene,951,1019,.,+,0,,,,,ENSDARG00000083480.3,ENSDART00000116162.3,ENSDARE00000880048,Mt_tRNA,,\n",
    "[...]\n",
    "```"
   ]
  },
  {
   "cell_type": "code",
   "execution_count": null,
   "id": "cb112adf-d06d-4c31-9b5c-c0a6f363df2d",
   "metadata": {},
   "outputs": [],
   "source": [
    "import pandas as pd"
   ]
  },
  {
   "cell_type": "code",
   "execution_count": null,
   "id": "9947df64-280c-4fef-ae39-8e29f35c1d57",
   "metadata": {},
   "outputs": [
    {
     "data": {
      "text/html": [
       "<div>\n",
       "<style scoped>\n",
       "    .dataframe tbody tr th:only-of-type {\n",
       "        vertical-align: middle;\n",
       "    }\n",
       "\n",
       "    .dataframe tbody tr th {\n",
       "        vertical-align: top;\n",
       "    }\n",
       "\n",
       "    .dataframe thead th {\n",
       "        text-align: right;\n",
       "    }\n",
       "</style>\n",
       "<table border=\"1\" class=\"dataframe\">\n",
       "  <thead>\n",
       "    <tr style=\"text-align: right;\">\n",
       "      <th></th>\n",
       "      <th>seqname</th>\n",
       "      <th>source</th>\n",
       "      <th>feature</th>\n",
       "      <th>start</th>\n",
       "      <th>end</th>\n",
       "      <th>score</th>\n",
       "      <th>strand</th>\n",
       "      <th>frame</th>\n",
       "      <th>hid</th>\n",
       "      <th>hstart</th>\n",
       "      <th>hend</th>\n",
       "      <th>genscan</th>\n",
       "      <th>gene_id</th>\n",
       "      <th>transcript_id</th>\n",
       "      <th>exon_id</th>\n",
       "      <th>gene_type</th>\n",
       "      <th>variation_name</th>\n",
       "      <th>probe_name</th>\n",
       "    </tr>\n",
       "  </thead>\n",
       "  <tbody>\n",
       "    <tr>\n",
       "      <th>0</th>\n",
       "      <td>MT</td>\n",
       "      <td>EVA</td>\n",
       "      <td>variation</td>\n",
       "      <td>113</td>\n",
       "      <td>113</td>\n",
       "      <td>.</td>\n",
       "      <td>+</td>\n",
       "      <td>.</td>\n",
       "      <td>NaN</td>\n",
       "      <td>NaN</td>\n",
       "      <td>NaN</td>\n",
       "      <td>NaN</td>\n",
       "      <td>NaN</td>\n",
       "      <td>NaN</td>\n",
       "      <td>NaN</td>\n",
       "      <td>NaN</td>\n",
       "      <td>rs508804888</td>\n",
       "      <td>NaN</td>\n",
       "    </tr>\n",
       "    <tr>\n",
       "      <th>1</th>\n",
       "      <td>MT</td>\n",
       "      <td>EVA</td>\n",
       "      <td>variation</td>\n",
       "      <td>239</td>\n",
       "      <td>239</td>\n",
       "      <td>.</td>\n",
       "      <td>+</td>\n",
       "      <td>.</td>\n",
       "      <td>NaN</td>\n",
       "      <td>NaN</td>\n",
       "      <td>NaN</td>\n",
       "      <td>NaN</td>\n",
       "      <td>NaN</td>\n",
       "      <td>NaN</td>\n",
       "      <td>NaN</td>\n",
       "      <td>NaN</td>\n",
       "      <td>rs513784503</td>\n",
       "      <td>NaN</td>\n",
       "    </tr>\n",
       "    <tr>\n",
       "      <th>2</th>\n",
       "      <td>MT</td>\n",
       "      <td>EVA</td>\n",
       "      <td>variation</td>\n",
       "      <td>314</td>\n",
       "      <td>314</td>\n",
       "      <td>.</td>\n",
       "      <td>+</td>\n",
       "      <td>.</td>\n",
       "      <td>NaN</td>\n",
       "      <td>NaN</td>\n",
       "      <td>NaN</td>\n",
       "      <td>NaN</td>\n",
       "      <td>NaN</td>\n",
       "      <td>NaN</td>\n",
       "      <td>NaN</td>\n",
       "      <td>NaN</td>\n",
       "      <td>rs504526537</td>\n",
       "      <td>NaN</td>\n",
       "    </tr>\n",
       "    <tr>\n",
       "      <th>3</th>\n",
       "      <td>MT</td>\n",
       "      <td>EVA</td>\n",
       "      <td>variation</td>\n",
       "      <td>339</td>\n",
       "      <td>339</td>\n",
       "      <td>.</td>\n",
       "      <td>+</td>\n",
       "      <td>.</td>\n",
       "      <td>NaN</td>\n",
       "      <td>NaN</td>\n",
       "      <td>NaN</td>\n",
       "      <td>NaN</td>\n",
       "      <td>NaN</td>\n",
       "      <td>NaN</td>\n",
       "      <td>NaN</td>\n",
       "      <td>NaN</td>\n",
       "      <td>rs511578098</td>\n",
       "      <td>NaN</td>\n",
       "    </tr>\n",
       "    <tr>\n",
       "      <th>4</th>\n",
       "      <td>MT</td>\n",
       "      <td>EVA</td>\n",
       "      <td>variation</td>\n",
       "      <td>438</td>\n",
       "      <td>438</td>\n",
       "      <td>.</td>\n",
       "      <td>+</td>\n",
       "      <td>.</td>\n",
       "      <td>NaN</td>\n",
       "      <td>NaN</td>\n",
       "      <td>NaN</td>\n",
       "      <td>NaN</td>\n",
       "      <td>NaN</td>\n",
       "      <td>NaN</td>\n",
       "      <td>NaN</td>\n",
       "      <td>NaN</td>\n",
       "      <td>rs514602887</td>\n",
       "      <td>NaN</td>\n",
       "    </tr>\n",
       "    <tr>\n",
       "      <th>...</th>\n",
       "      <td>...</td>\n",
       "      <td>...</td>\n",
       "      <td>...</td>\n",
       "      <td>...</td>\n",
       "      <td>...</td>\n",
       "      <td>...</td>\n",
       "      <td>...</td>\n",
       "      <td>...</td>\n",
       "      <td>...</td>\n",
       "      <td>...</td>\n",
       "      <td>...</td>\n",
       "      <td>...</td>\n",
       "      <td>...</td>\n",
       "      <td>...</td>\n",
       "      <td>...</td>\n",
       "      <td>...</td>\n",
       "      <td>...</td>\n",
       "      <td>...</td>\n",
       "    </tr>\n",
       "    <tr>\n",
       "      <th>174</th>\n",
       "      <td>MT</td>\n",
       "      <td>Ensembl</td>\n",
       "      <td>gene</td>\n",
       "      <td>14714</td>\n",
       "      <td>15232</td>\n",
       "      <td>.</td>\n",
       "      <td>-</td>\n",
       "      <td>0</td>\n",
       "      <td>NaN</td>\n",
       "      <td>NaN</td>\n",
       "      <td>NaN</td>\n",
       "      <td>NaN</td>\n",
       "      <td>ENSDARG00000063922.3</td>\n",
       "      <td>ENSDART00000093623.3</td>\n",
       "      <td>ENSDARE00000685766</td>\n",
       "      <td>protein_coding</td>\n",
       "      <td>NaN</td>\n",
       "      <td>NaN</td>\n",
       "    </tr>\n",
       "    <tr>\n",
       "      <th>175</th>\n",
       "      <td>MT</td>\n",
       "      <td>Ensembl</td>\n",
       "      <td>gene</td>\n",
       "      <td>15233</td>\n",
       "      <td>15301</td>\n",
       "      <td>.</td>\n",
       "      <td>-</td>\n",
       "      <td>0</td>\n",
       "      <td>NaN</td>\n",
       "      <td>NaN</td>\n",
       "      <td>NaN</td>\n",
       "      <td>NaN</td>\n",
       "      <td>ENSDARG00000083312.3</td>\n",
       "      <td>ENSDART00000116823.3</td>\n",
       "      <td>ENSDARE00000882905</td>\n",
       "      <td>Mt_tRNA</td>\n",
       "      <td>NaN</td>\n",
       "      <td>NaN</td>\n",
       "    </tr>\n",
       "    <tr>\n",
       "      <th>176</th>\n",
       "      <td>MT</td>\n",
       "      <td>Ensembl</td>\n",
       "      <td>gene</td>\n",
       "      <td>15308</td>\n",
       "      <td>16448</td>\n",
       "      <td>.</td>\n",
       "      <td>+</td>\n",
       "      <td>0</td>\n",
       "      <td>NaN</td>\n",
       "      <td>NaN</td>\n",
       "      <td>NaN</td>\n",
       "      <td>NaN</td>\n",
       "      <td>ENSDARG00000063924.3</td>\n",
       "      <td>ENSDART00000093625.3</td>\n",
       "      <td>ENSDARE00000685768</td>\n",
       "      <td>protein_coding</td>\n",
       "      <td>NaN</td>\n",
       "      <td>NaN</td>\n",
       "    </tr>\n",
       "    <tr>\n",
       "      <th>177</th>\n",
       "      <td>MT</td>\n",
       "      <td>Ensembl</td>\n",
       "      <td>gene</td>\n",
       "      <td>16449</td>\n",
       "      <td>16520</td>\n",
       "      <td>.</td>\n",
       "      <td>+</td>\n",
       "      <td>0</td>\n",
       "      <td>NaN</td>\n",
       "      <td>NaN</td>\n",
       "      <td>NaN</td>\n",
       "      <td>NaN</td>\n",
       "      <td>ENSDARG00000083462.3</td>\n",
       "      <td>ENSDART00000116552.3</td>\n",
       "      <td>ENSDARE00000881627</td>\n",
       "      <td>Mt_tRNA</td>\n",
       "      <td>NaN</td>\n",
       "      <td>NaN</td>\n",
       "    </tr>\n",
       "    <tr>\n",
       "      <th>178</th>\n",
       "      <td>MT</td>\n",
       "      <td>Ensembl</td>\n",
       "      <td>gene</td>\n",
       "      <td>16527</td>\n",
       "      <td>16596</td>\n",
       "      <td>.</td>\n",
       "      <td>-</td>\n",
       "      <td>1</td>\n",
       "      <td>NaN</td>\n",
       "      <td>NaN</td>\n",
       "      <td>NaN</td>\n",
       "      <td>NaN</td>\n",
       "      <td>ENSDARG00000081475.3</td>\n",
       "      <td>ENSDART00000115546.3</td>\n",
       "      <td>ENSDARE00000882281</td>\n",
       "      <td>Mt_tRNA</td>\n",
       "      <td>NaN</td>\n",
       "      <td>NaN</td>\n",
       "    </tr>\n",
       "  </tbody>\n",
       "</table>\n",
       "<p>179 rows × 18 columns</p>\n",
       "</div>"
      ],
      "text/plain": [
       "    seqname   source    feature  start    end score strand frame  hid  hstart  \\\n",
       "0        MT      EVA  variation    113    113     .      +     .  NaN     NaN   \n",
       "1        MT      EVA  variation    239    239     .      +     .  NaN     NaN   \n",
       "2        MT      EVA  variation    314    314     .      +     .  NaN     NaN   \n",
       "3        MT      EVA  variation    339    339     .      +     .  NaN     NaN   \n",
       "4        MT      EVA  variation    438    438     .      +     .  NaN     NaN   \n",
       "..      ...      ...        ...    ...    ...   ...    ...   ...  ...     ...   \n",
       "174      MT  Ensembl       gene  14714  15232     .      -     0  NaN     NaN   \n",
       "175      MT  Ensembl       gene  15233  15301     .      -     0  NaN     NaN   \n",
       "176      MT  Ensembl       gene  15308  16448     .      +     0  NaN     NaN   \n",
       "177      MT  Ensembl       gene  16449  16520     .      +     0  NaN     NaN   \n",
       "178      MT  Ensembl       gene  16527  16596     .      -     1  NaN     NaN   \n",
       "\n",
       "     hend  genscan               gene_id         transcript_id  \\\n",
       "0     NaN      NaN                   NaN                   NaN   \n",
       "1     NaN      NaN                   NaN                   NaN   \n",
       "2     NaN      NaN                   NaN                   NaN   \n",
       "3     NaN      NaN                   NaN                   NaN   \n",
       "4     NaN      NaN                   NaN                   NaN   \n",
       "..    ...      ...                   ...                   ...   \n",
       "174   NaN      NaN  ENSDARG00000063922.3  ENSDART00000093623.3   \n",
       "175   NaN      NaN  ENSDARG00000083312.3  ENSDART00000116823.3   \n",
       "176   NaN      NaN  ENSDARG00000063924.3  ENSDART00000093625.3   \n",
       "177   NaN      NaN  ENSDARG00000083462.3  ENSDART00000116552.3   \n",
       "178   NaN      NaN  ENSDARG00000081475.3  ENSDART00000115546.3   \n",
       "\n",
       "                exon_id       gene_type variation_name  probe_name  \n",
       "0                   NaN             NaN    rs508804888         NaN  \n",
       "1                   NaN             NaN    rs513784503         NaN  \n",
       "2                   NaN             NaN    rs504526537         NaN  \n",
       "3                   NaN             NaN    rs511578098         NaN  \n",
       "4                   NaN             NaN    rs514602887         NaN  \n",
       "..                  ...             ...            ...         ...  \n",
       "174  ENSDARE00000685766  protein_coding            NaN         NaN  \n",
       "175  ENSDARE00000882905         Mt_tRNA            NaN         NaN  \n",
       "176  ENSDARE00000685768  protein_coding            NaN         NaN  \n",
       "177  ENSDARE00000881627         Mt_tRNA            NaN         NaN  \n",
       "178  ENSDARE00000882281         Mt_tRNA            NaN         NaN  \n",
       "\n",
       "[179 rows x 18 columns]"
      ]
     },
     "execution_count": null,
     "metadata": {},
     "output_type": "execute_result"
    }
   ],
   "source": [
    "mito_data = pd.read_csv(\"./localdata/mt-danio-rerio.txt\", sep=\",\")\n",
    "mito_data"
   ]
  },
  {
   "cell_type": "code",
   "execution_count": null,
   "id": "62e34077-80f4-4971-a9f6-603af56493da",
   "metadata": {},
   "outputs": [
    {
     "data": {
      "text/plain": [
       "142    ENSDARG00000083480\n",
       "143    ENSDARG00000082753\n",
       "144    ENSDARG00000081443\n",
       "145    ENSDARG00000080337\n",
       "146    ENSDARG00000083046\n",
       "147    ENSDARG00000063895\n",
       "148    ENSDARG00000083118\n",
       "149    ENSDARG00000080630\n",
       "150    ENSDARG00000082084\n",
       "151    ENSDARG00000063899\n",
       "152    ENSDARG00000080718\n",
       "153    ENSDARG00000080401\n",
       "154    ENSDARG00000081938\n",
       "155    ENSDARG00000082789\n",
       "156    ENSDARG00000080128\n",
       "157    ENSDARG00000063905\n",
       "158    ENSDARG00000081369\n",
       "159    ENSDARG00000083519\n",
       "160    ENSDARG00000063908\n",
       "161    ENSDARG00000080151\n",
       "162    ENSDARG00000063910\n",
       "163    ENSDARG00000063911\n",
       "164    ENSDARG00000063912\n",
       "165    ENSDARG00000081758\n",
       "166    ENSDARG00000063914\n",
       "167    ENSDARG00000080329\n",
       "168    ENSDARG00000063916\n",
       "169    ENSDARG00000063917\n",
       "170    ENSDARG00000082716\n",
       "171    ENSDARG00000082123\n",
       "172    ENSDARG00000081280\n",
       "173    ENSDARG00000063921\n",
       "174    ENSDARG00000063922\n",
       "175    ENSDARG00000083312\n",
       "176    ENSDARG00000063924\n",
       "177    ENSDARG00000083462\n",
       "178    ENSDARG00000081475\n",
       "Name: gene_id, dtype: object"
      ]
     },
     "execution_count": null,
     "metadata": {},
     "output_type": "execute_result"
    }
   ],
   "source": [
    "# Grab all the genes, get their ids, and chop off the '.3' \n",
    "# ending which indicates the version\n",
    "mito_genes = mito_data[mito_data[\"feature\"] == \"gene\"][\"gene_id\"].apply(\n",
    "    lambda x: x[:-2]\n",
    ")\n",
    "mito_genes"
   ]
  },
  {
   "cell_type": "code",
   "execution_count": null,
   "id": "c44a29d9-d933-46e4-8de8-43139b7efd20",
   "metadata": {},
   "outputs": [],
   "source": [
    "mito_genes.to_csv(\"./localdata/mito-genes.csv\", index=False)"
   ]
  },
  {
   "cell_type": "markdown",
   "id": "15f1fc14-4267-4782-b010-570a57e01455",
   "metadata": {},
   "source": [
    "So, uh, yeah - success!"
   ]
  }
 ],
 "metadata": {
  "kernelspec": {
   "display_name": "Python [conda env:Blog-nbdev]",
   "language": "python",
   "name": "conda-env-Blog-nbdev-py"
  }
 },
 "nbformat": 4,
 "nbformat_minor": 5
}
