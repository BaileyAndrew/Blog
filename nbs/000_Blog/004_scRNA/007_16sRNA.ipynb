{
 "cells": [
  {
   "cell_type": "raw",
   "id": "4d02e61e-8c3a-4f62-925d-3e8c8767eece",
   "metadata": {},
   "source": [
    "---\n",
    "title: \"What is 16s rRNA?\"\n",
    "description: \"And how is it different from mRNA?\"\n",
    "author: \"Bailey Andrew\"\n",
    "date: \"Jan 14 2023\"\n",
    "draft: false\n",
    "categories: [Work, Omics, Useful]\n",
    "bibliography: bibliography.bib\n",
    "format:\n",
    "  html:\n",
    "    css:\n",
    "      - ../../html_scripts/collapse.css\n",
    "      - ../../html_scripts/pretty_shortcuts.css\n",
    "    include-after-body: \n",
    "      - ../../html_scripts/collapse.html\n",
    "      - ../../html_scripts/comments.html\n",
    "---"
   ]
  },
  {
   "cell_type": "markdown",
   "id": "d1a78c23-b245-4fc4-a27c-98c327035277",
   "metadata": {},
   "source": [
    "<b style=\"color:#537FBF\">16s rRNA sequencing</b> is a type of <b style=\"color:#537FBF\">sequencing</b> that specifically targets the <b style=\"color:#A6A440\">16s rRNA gene</b>.  It is frequently used for <b style=\"color:#A6A440\">metagenomics</b> - the <b style=\"color:#537FBF\">sequencing</b> of genetic material directly from an environment (such as sea water or the gut microbiome via stool samples) rather than the <b style=\"color:#537FBF\">sequencing</b> of genes from a specific organism."
   ]
  },
  {
   "cell_type": "markdown",
   "id": "7dc75344-93fb-4503-90c0-34769bba8a0a",
   "metadata": {},
   "source": []
  }
 ],
 "metadata": {
  "kernelspec": {
   "display_name": "Python [conda env:Blog-nbdev]",
   "language": "python",
   "name": "conda-env-Blog-nbdev-py"
  }
 },
 "nbformat": 4,
 "nbformat_minor": 5
}
