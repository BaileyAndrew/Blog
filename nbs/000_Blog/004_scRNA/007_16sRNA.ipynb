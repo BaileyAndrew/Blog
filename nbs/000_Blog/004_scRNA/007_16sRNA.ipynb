{
 "cells": [
  {
   "cell_type": "raw",
   "id": "4d02e61e-8c3a-4f62-925d-3e8c8767eece",
   "metadata": {},
   "source": [
    "---\n",
    "title: \"What is 16s rRNA?\"\n",
    "description: \"And how is it different from mRNA?\"\n",
    "author: \"Bailey Andrew\"\n",
    "date: \"Jan 13 2023\"\n",
    "draft: false\n",
    "categories: [Work, Omics, Useful]\n",
    "bibliography: bibliography.bib\n",
    "format:\n",
    "  html:\n",
    "    css:\n",
    "      - ../../html_scripts/collapse.css\n",
    "      - ../../html_scripts/pretty_shortcuts.css\n",
    "    include-after-body: \n",
    "      - ../../html_scripts/collapse.html\n",
    "      - ../../html_scripts/comments.html\n",
    "---"
   ]
  },
  {
   "cell_type": "markdown",
   "id": "d1a78c23-b245-4fc4-a27c-98c327035277",
   "metadata": {},
   "source": [
    "<b style=\"color:#537FBF\">16s rRNA sequencing</b> is a type of <b style=\"color:#537FBF\">sequencing</b> that specifically targets the <b style=\"color:#A6A440\">16s rRNA gene</b>.  It is frequently used for <b style=\"color:#A6A440\">metagenomics</b> - the <b style=\"color:#537FBF\">sequencing</b> of genetic material directly from an environment (such as sea water or the gut microbiome via stool samples) rather than the <b style=\"color:#537FBF\">sequencing</b> of genes from a specific organism.  <b style=\"color:#A6A440\">rRNA</b> stands for \"<b style=\"color:#A6A440\">ribosomal RNA</b>\"."
   ]
  },
  {
   "cell_type": "markdown",
   "id": "63e2c2c2-d7eb-4eab-a5a9-8f549a4581c0",
   "metadata": {},
   "source": [
    "<b style=\"color:#A6A440\">Ribosomes</b> are the bits inside the cell that convert <b style=\"color:#A6A440\">mRNA</b> into proteins.  It is made up of <b style=\"color:#A6A440\">rRNA</b> and (chicken-and-egg-ily) proteins.  Names have been given to the different bits of <b style=\"color:#A6A440\">rRNA</b> in a <b style=\"color:#A6440\">ribosome</b>.  <b style=\"color:#A6A440\">16s rRNA</b> is the name for one of the parts, specifically in <b style=\"color:#A6A440\">prokaryotic</b> species."
   ]
  },
  {
   "cell_type": "markdown",
   "id": "5d979ac9-ac6e-45a6-b78e-a576addaf447",
   "metadata": {},
   "source": [
    "<b style=\"color:#537FBF\">16s rRNA sequencing</b> targets the gene that codes for <b style=\"color:#A6A440\">16s rRNA</b>, because it tends to evolve slowly - thus it can act as a fingerprint for different species, allowing us to get an overview of the <b style=\"color:#A6A440\">prokaryotic</b> species in a sample."
   ]
  },
  {
   "cell_type": "markdown",
   "id": "294f493e-8013-4c40-9905-e41c096df3d3",
   "metadata": {},
   "source": [
    "# How is <b style=\"color:#537FBF\">16s rRNA sequencing</b> done?"
   ]
  },
  {
   "cell_type": "markdown",
   "id": "3d84d63a-ec90-48af-b42e-c973f662ed05",
   "metadata": {},
   "source": [
    "> We use the high-fidelity <b style=\"color:#A6A440\">Phusion polymerase</b> for <b style=\"color:#537FBF\">amplification</b> of <b style=\"color:#A6A440\">16s</b> and <b style=\"color:#A6A440\">ITS2</b> marker genes. If extractions contain some carry-over inhibition or a high concentration of DNA, typically we test 1:1 and 1:10 dilutions and run the <b style=\"color:#537FBF\">PCR</b> products on gels for verification. <b style=\"color:#537FBF\">PCR</b> is done with dual-barcoded <b style=\"color:#A6A440\">primers</b> (Kozich et al. 2014) targeting either the <b style=\"color:#A6A440\">prokaryotic</b> (<b style=\"color:#A6A440\">16S V4, V1-V3</b>) or fungal (<b style=\"color:#A6A440\">ITS2</b>) regions. Our <b style=\"color:#537FBF\">barcoding</b> strategy enables <b style=\"color:#537FBF\">multiplexing</b> up to 384 samples per run. <b style=\"color:#537FBF\">PCR</b> products are verified visually by running a representative subset of samples on a gel. Samples with failed <b style=\"color:#537FBF\">PCRs</b> (or spurious bands) are <b style=\"color:#537FBF\">re-amplified</b> by optimizing <b style=\"color:#537FBF\">PCR</b> conditions. The <b style=\"color:#537FBF\">PCR</b> reactions are cleaned up and normalized using the high-throughput SequalPrep 96-well Plate Kit. Samples are then pooled to make one library that is quantified accurately with the KAPA qPCR Library Quant kit.\n",
    ">\n",
    "> -- <b style=\"color:#EB1960\">16S rRNA Sequencing Service [page](https://microbiomeinsights.com/16s-amplicon-sequencing/); Library Preparation Section, Microbiome Insights</b>"
   ]
  },
  {
   "cell_type": "markdown",
   "id": "547912e2-fc7e-4fae-a7e6-616a35e7109b",
   "metadata": {},
   "source": [
    "A <b style=\"color:#A6A440\">polymerase</b> is a molecule that can create new strands of DNA/RNA (so its no wonder that it is used for <b style=\"color:#537FBF\">amplification</b>).  Notably, <b style=\"color:#A6A440\">polymerase</b> is the \"P\" in <b style=\"color:#537FBF\">PCR</b> (<b style=\"color:#537FBF\"><em>Polymerase</em> Chain Reaction</b>).  <b style=\"color:#A6A440\">Primers</b> are used to encourage amplification of only the <b style=\"color:#537FBF\">16s rRNA gene</b> (we can ignore the bit about the <b style=\"color:#537FBF\">ITS2 gene</b> as they are talking about fungi there)."
   ]
  },
  {
   "cell_type": "markdown",
   "id": "1e9304f2-e848-4090-9b91-de06559efcfc",
   "metadata": {},
   "source": [
    "> The <b style=\"color:#A6A440\">16S rRNA gene</b> is approximately 1600 base pairs long and includes nine <b style=\"color:#A6A440\">hypervariable regions</b> of varying conservation (<b style=\"color:#A6A440\">V1-V9</b>). More conservative regions are useful for determining the higher-ranking taxa, whereas more quickly evolving ones can help identify genus or species.\n",
    ">\n",
    "> <b style=\"color:#EB1960\">@variable-regions</b>"
   ]
  }
 ],
 "metadata": {
  "kernelspec": {
   "display_name": "Python [conda env:Blog-nbdev]",
   "language": "python",
   "name": "conda-env-Blog-nbdev-py"
  }
 },
 "nbformat": 4,
 "nbformat_minor": 5
}
