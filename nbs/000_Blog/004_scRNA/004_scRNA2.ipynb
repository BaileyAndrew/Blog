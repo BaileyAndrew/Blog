{
 "cells": [
  {
   "cell_type": "raw",
   "id": "131bb132-7845-4a10-b7ea-431dd9489f11",
   "metadata": {},
   "source": [
    "---\n",
    "title: \"Overview of scRNA-seq Data Creation -- Sequencing\"\n",
    "description: \"A high-level overview.\"\n",
    "author: \"Bailey Andrew\"\n",
    "date: \"Jan 6 2023\"\n",
    "draft: false\n",
    "categories: [Work, Useful, Omics]\n",
    "bibliography: bibliography.bib\n",
    "---"
   ]
  },
  {
   "cell_type": "markdown",
   "id": "37c565fb-9b06-4aac-9e01-84de99c746f7",
   "metadata": {},
   "source": [
    "# scRNA-seq Data"
   ]
  },
  {
   "cell_type": "markdown",
   "id": "15ad97ec-fa6c-49da-be21-d272bd560805",
   "metadata": {},
   "source": [
    "I'm heavily indebted to Morgan for help in understanding this topic.  I'm still learning about it, so don't take my word as gospel."
   ]
  },
  {
   "cell_type": "markdown",
   "id": "b78efd47-3ef2-4b28-a7aa-57df0eedd3d8",
   "metadata": {},
   "source": [
    "## Library Preparation"
   ]
  },
  {
   "cell_type": "markdown",
   "id": "6bd94cff-4a70-4a63-9fe3-d63f44bf17a7",
   "metadata": {},
   "source": [
    "<strong style=\"color:#537FBF\">Library preparation</strong> is the collection of the bits of data that you're actually interested in (these bits would be your 'library').  The methods I've seen do this by attaching something to the mRNA molecules that we can take advantage of later.  For scRNA-seq we are interested in the <strong style=\"color:#A6A440\">transcriptome</strong> (this is the set of RNA thingamajigs in the cell).  <strong style=\"color:#EB1960\">@illumina-ebook</strong> lists a few library preparation techniques for the transcriptome:\n",
    "\n",
    "<hr/>\n",
    "\n",
    "*  Full-length RNA-seq\n",
    "*  mRNA end-tag amplification\n",
    "*  Targeted panels\n",
    "   *  Targeted towards measuring specific things\n",
    "*  IR-seq\n",
    "   *  Specifically used for B and T cells.\n",
    "\n",
    "<hr/>\n",
    "\n",
    "These are important for me to understand so I'll definitely be delving into this topic deeper in the future."
   ]
  },
  {
   "cell_type": "markdown",
   "id": "ce981fd9-1f9a-448a-b8b4-69a3f79c7ae6",
   "metadata": {},
   "source": [
    "## Sequencing"
   ]
  },
  {
   "cell_type": "markdown",
   "id": "6ad2319b-3c33-4ea8-9a52-201d9323deb1",
   "metadata": {},
   "source": [
    "We've now isolated our cells and grabbed/tagged the bits that we're interested in.  Now, we want to actually be able to learn about the mRNA that we've measured.  To do this, we need to sequence it. "
   ]
  },
  {
   "cell_type": "markdown",
   "id": "2f773e30-5cb5-4b2b-9ba2-d3313b833a1b",
   "metadata": {},
   "source": [
    "### Flow Cells"
   ]
  },
  {
   "cell_type": "markdown",
   "id": "d13ed989-97bc-4750-9957-91bfa715a325",
   "metadata": {},
   "source": [
    "One important concept for sequencing is the <strong style=\"color:#A6A440\">Flow Cell</strong>.  Intuitively, the flow cell is a sticky plate that will grab the mRNA.  <strong style=\"color:#EB1960\">@illumina-ngs</strong> defines them as the following:\n",
    "\n",
    "> <strong style=\"color:#A6A440\">Flow Cell</strong>: A glass slide with one, two, or eight physically separated lanes, depending on the instrument platform. Each lane is coated with a lawn of surface bound, adapter-complimentary <strong style=\"color:#A6A440\">oligos</strong>. A single library or a pool of up to 96 <strong style=\"color:#537FBF\">multiplexed</strong> libraries\n",
    "can be run per lane, depending on application parameters.\n",
    ">\n",
    "> -- <cite><strong style=\"color:#EB1960\">Illumina handbook on next generation sequencing</strong></cite> [@illumina-ngs]\n",
    "\n"
   ]
  },
  {
   "cell_type": "markdown",
   "id": "9933cfb3-bc96-4dc3-bf7a-dbd88ba9ce29",
   "metadata": {},
   "source": [
    "An <strong style=\"color:#A6A440\">oligo</strong> is a short strand of synthetic DNA [@oligo].  These are the \"sticky bits\".  <strong style=\"color:#537FBF\">Multiplexing</strong> is the process of sequencing multiple samples at a time; this can be useful as sequencing produces a lot of data, more than may be necessary for a single project on its own [@ngs-considerations].  This can be done by attaching molecular barcodes to the prepared cDNA to indicate the original sample from which the cDNA hails."
   ]
  },
  {
   "cell_type": "markdown",
   "id": "31f913e3-6a53-49cf-a99f-4532bf3d455e",
   "metadata": {},
   "source": [
    "#### Sequencing by Synthesis"
   ]
  },
  {
   "cell_type": "markdown",
   "id": "d01e33fa-4e39-49cb-b3b8-6c2e8d6dcbab",
   "metadata": {},
   "source": [
    "The flow cell definition given by Illumina is specifically tuned to their flow cells - this may have been obvious due to the use of specific numbers like \"96\".\n",
    "\n",
    "<details>\n",
    "    <summary style=\"color:#c0cf95\"><strong>Tangential Observation</strong></summary>\n",
    "    Surprisingly, though, the competitor company <strong style=\"color:#EB1960\">Oxford Nanopore</strong> [also uses this number](https://store.nanoporetech.com/uk/rapid-barcoding-kit-1.html).  I assume this is due to some chemical feature of the bardcodes, but it probably isn't as simple as that since I know you can have more than 96 UMIs which I thought would be a similar process...\n",
    "</details>\n",
    "<br/>\n",
    "<strong style=\"color:#EB1960\">Illumina</strong> uses a <strong style=\"color:#537FBF\">Sequencing by Synthesis</strong> approach; we'll look at another approach, <strong style=\"color:#537FBF\">Nanopore Sequencing</strong>, later.  During <strong style=\"color:#EB1960\">Illumina's</strong> library preparation phase they convert the RNA to cDNA."
   ]
  },
  {
   "cell_type": "markdown",
   "id": "44fcd042-7a4d-49aa-aa88-55bef95d2b5d",
   "metadata": {},
   "source": [
    "![Example of a patterned flow cell](./images/flow_cell.jpeg)"
   ]
  },
  {
   "cell_type": "markdown",
   "id": "c6cffc3d-6386-4aca-ba99-a4f8cb6b12fa",
   "metadata": {},
   "source": [
    "The above diagram is that of a 2D slice of a <strong style=\"color:#A6A440\">Patterned Flow Cell</strong>.  These differ from <strong style=\"color:#A6A440\">Nonpatterned Flow Cells</strong> in the use of <strong style=\"color:#A6A440\">nanowells</strong> (little valleys in the cell) to ideally keep fragments of DNA from binding to nearby oligos.  Patterned flow cells are a more recent innovation, and for a brief overview of the differences you can read @patterned-vs-nonpatterned and @pvn-cons."
   ]
  },
  {
   "cell_type": "markdown",
   "id": "8eac0442-312c-4d66-abfb-28b55445f946",
   "metadata": {},
   "source": [
    "The cDNA created during library preparation is added onto the flow cell.  The strands of cDNA (<strong style=\"color:#A6A440\">reads</strong>) will bind to the oligos, and then start multiplying (<strong style=\"color:#537FBF\">\"bridge amplification\"</strong>) so that duplicates of the read will be bound to nearby oligos.  For patterned flow cells, this should mean that the nanowells are full of copies of the same read - for unpatterned flow cells the clusters are more chaotic."
   ]
  },
  {
   "cell_type": "markdown",
   "id": "2a4d58be-5fa1-465a-bc9e-90b3781e9c58",
   "metadata": {},
   "source": [
    "After you've prepared your flow cell, you'll plug it into a sequencer to read the base pairs.  These use chemical tricks to cause each base pair in a read to let out a flash of a specific color.  The sequence and color of these flashes will inform the sequencer of what the base pair sequence is.  After doing this, you'll have raw data on the contents of each read, likely in the `bcl` file format (`bcl` is the output for <strong style=\"color:#EB1960\">Illumina</strong> sequencers)."
   ]
  },
  {
   "cell_type": "markdown",
   "id": "361994f3-c8ca-4865-8b74-ff9a441d15d9",
   "metadata": {},
   "source": [
    "#### Nanopore Sequencing"
   ]
  },
  {
   "cell_type": "markdown",
   "id": "c1c96c0c-0fe0-43af-829f-eedc0e75e1c8",
   "metadata": {},
   "source": [
    "While most of this blog has focused on <strong style=\"color:#EB1960\">Illumina</strong>, <strong style=\"color:#EB1960\">Oxford Nanopore</strong> is definitely worth talking about.  They use <strong style=\"color:#537FBF\">Nanopore Sequencing</strong> instead of <strong style=\"color:#537FBF\">Sequencing by Synthesis</strong>.  A brief comparison of the two companines is given by @illumina-vs-nanopore.\n",
    "\n",
    "<details>\n",
    "    <summary style=\"color:#C0CF95\"><strong>¿cDNA?</strong></summary>\n",
    "    It is possible to directly use RNA, instead of cDNA, depending on what is done at the library preparation stage.  I'll assume we use cDNA here.  It would make an interesting blog post, I think, to delve into the intricacies as to what is going on and why we should care about cDNA vs RNA.\n",
    "</details>\n",
    "<br/>\n",
    "\n",
    "Nanopore sequencing is a newer method; instead of sticking to an oligo, the cDNA passes through a <strong style=\"color:#A6A440\">nanopore</strong>.  To do this, the cDNA has a <strong style=\"color:#A6A440\">motor protein</strong> attached to it during the library preparation stage.  The act of passing through the nanopore creates a detectable electrical signal that is dependent on the bases in the cDNA.  By measuring this signal, we can sequence the molecule."
   ]
  },
  {
   "cell_type": "markdown",
   "id": "46482ac4-05a0-47d0-a053-ea434aceccb1",
   "metadata": {},
   "source": [
    "![Nanopore sequencing.  The cDNA will pass through the nanopore as it gets sequenced.  The tether will grab on to the motor protein to accomplish this.  [@nanopore]](./images/nanopore.jpeg)"
   ]
  },
  {
   "cell_type": "markdown",
   "id": "2502b68c-3095-41ac-830b-800f97703ab3",
   "metadata": {},
   "source": [
    "One interesting advantage of nanopore sequencing is the ability to detect <strong style=\"color:#A6A440\">modified bases</strong> (which I didn't know were a thing!) [@modified-bases].  Basically, the structure that makes up your G, T, A, C, U nucleic acid bases can actually get modified in certain ways, turning them into different sub-molecules that may affect gene expression.\n",
    "\n",
    "<strong style=\"color:#EB1960\">Oxford Nanopore</strong> outputs `FAST5` files, a type of `HDF5` file.  These contain the raw electrical signals the nanopores measured.  One can then perform <strong style=\"color:#537FBF\">basecalling</strong> to determine the sequence of bases corresponding to the signals.  Due to the aforementioned detectability of modified bases, these raw electrical signals can have value rather than just looking at an end product of everything converted to G/T/A/C/U [@fast5]."
   ]
  },
  {
   "cell_type": "markdown",
   "id": "83dc65c1-ce51-4026-8079-9867909212ff",
   "metadata": {},
   "source": [
    "#### Measures and Options"
   ]
  },
  {
   "cell_type": "markdown",
   "id": "8b16dc0a-28d2-4d87-89d4-5591c3cd937e",
   "metadata": {},
   "source": [
    "Flow cells have two key measures (besides data quality); the amount of reads and the <strong style=\"color:#A6A440\">read length</strong>.  Read counts can be in the hundreds of millions.  Read lengths may be much smaller; the flow cells paired with the <strong style=\"color:#EB1960\">Illumina NextSeq 550</strong> can only have reads as long as 150 base pairs on average.  <strong style=\"color:#EB1960\">Oxford Nanopore</strong> (and in general any nanopore method) can have unbounded read lengths.  Longer reads are desirable from the perspective of reconstructing larger sequences, as it is easier to determine if two segments have a significant overlap."
   ]
  },
  {
   "cell_type": "markdown",
   "id": "20feba56-c96b-4408-be24-9dbea273f181",
   "metadata": {},
   "source": [
    "![My theory as to why it's called \"depth\"](./images/depth.jpeg)"
   ]
  },
  {
   "cell_type": "markdown",
   "id": "55e068a4-b72f-4bfd-ae40-53e22ddc151b",
   "metadata": {},
   "source": [
    "An important concept is <strong style=\"color:#A6A440\">coverage</strong>, or the amount of times a gene has a read associated with it.  Higher coverage is better as it allows us to piece together the gene more accurately and weed out incorrect bases.  This is also called <strong style=\"color:#A6A440\">sequence depth</strong>.  Deep sequencing is important for detecting rare genes.  This can be affected by the steps done during library preparation; immune cells, which undergo <strong style=\"color:#537FBF\">VDJ recombination</strong> - in short, each cell has its own unique markers that need to be accounted for [@ngs-considerations]"
   ]
  },
  {
   "cell_type": "markdown",
   "id": "681b3ee2-1c3b-4919-97f7-cd555e7b1fb9",
   "metadata": {},
   "source": [
    "For single cell applications depth refers to the amount of reads per cell instead of the reads per base pair measure used for bulk sequencing.  When cell populations are more homogenous, the depth should be larger as false overlaps will be more likely."
   ]
  },
  {
   "cell_type": "markdown",
   "id": "7bc35066-c5a3-4d59-86d6-c0abef178757",
   "metadata": {},
   "source": [
    "Finally, there's the decision of whether to use <strong style=\"color:#A6A440\">paired-end</strong> or <strong style=\"color:#A6A440\">single-end</strong> sequencing.  DNA and RNA are linear structures with two different ends - the 5' and 3' ends (\"5-prime\" and \"3-prime\").  By reading from both the ends, we can better find errors as well as increase the read length (intuitively: instead of reading n base pairs in one direction, you can read 2n total pairs with n in each direction).  These advantages decrease when you have <strong style=\"color:#A6A440\">UMIs (unique molecular identifiers)</strong> or other feature you can take advantage of (such as VDJs), but that is out of scope for this blog post.  [@ngs-considerations]  The advantages are not completely nullified, as single-end sequencing cannot detect certain types of errors (such as \"indel\" errors).  [@illumina-ebook]"
   ]
  },
  {
   "cell_type": "markdown",
   "id": "c9b0bf65-702d-4e4a-ad4d-ebc0a19271ea",
   "metadata": {},
   "source": [
    "### References\n",
    "\n",
    "::: {#refs}\n",
    ":::"
   ]
  },
  {
   "cell_type": "markdown",
   "id": "d57cd008-1f4a-4e53-8e07-cbf28e42e971",
   "metadata": {},
   "source": [
    "<script src=\"https://giscus.app/client.js\"\n",
    "        data-repo=\"baileyandrew/blog\"\n",
    "        data-repo-id=\"R_kgDOInJwKg\"\n",
    "        data-category=\"Announcements\"\n",
    "        data-category-id=\"DIC_kwDOInJwKs4CTGOQ\"\n",
    "        data-mapping=\"title\"\n",
    "        data-strict=\"0\"\n",
    "        data-reactions-enabled=\"1\"\n",
    "        data-emit-metadata=\"0\"\n",
    "        data-input-position=\"top\"\n",
    "        data-theme=\"dark_protanopia\"\n",
    "        data-lang=\"en\"\n",
    "        data-loading=\"lazy\"\n",
    "        crossorigin=\"anonymous\"\n",
    "        async>\n",
    "</script>"
   ]
  }
 ],
 "metadata": {
  "kernelspec": {
   "display_name": "Python [conda env:Blog-nbdev]",
   "language": "python",
   "name": "conda-env-Blog-nbdev-py"
  }
 },
 "nbformat": 4,
 "nbformat_minor": 5
}
