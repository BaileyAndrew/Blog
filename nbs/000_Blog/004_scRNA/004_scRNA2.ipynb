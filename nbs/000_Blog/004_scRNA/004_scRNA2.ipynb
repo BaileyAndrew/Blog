{
 "cells": [
  {
   "cell_type": "raw",
   "id": "131bb132-7845-4a10-b7ea-431dd9489f11",
   "metadata": {},
   "source": [
    "---\n",
    "title: \"Overview of scRNA-seq Data Creation -- Sequencing\"\n",
    "description: \"A high-level overview.\"\n",
    "author: \"Bailey Andrew\"\n",
    "date: \"Jan 6 2023\"\n",
    "draft: false\n",
    "categories: [Work, Useful, Omics, In Progress]\n",
    "bibliography: bibliography.bib\n",
    "---"
   ]
  },
  {
   "cell_type": "markdown",
   "id": "37c565fb-9b06-4aac-9e01-84de99c746f7",
   "metadata": {},
   "source": [
    "# scRNA-seq Data"
   ]
  },
  {
   "cell_type": "markdown",
   "id": "15ad97ec-fa6c-49da-be21-d272bd560805",
   "metadata": {},
   "source": [
    "In this blog I'll be referencing a lot of products.  I'm most familiar with <strong style=\"color:#EB1960\">Illumina</strong> but I'll try to give an overview of others too.  This will likely be biased towards <strong style=\"color:#EB1960\">Illumina</strong>.\n",
    "\n",
    "I'm heavily indebted to Morgan for help in understanding this topic."
   ]
  },
  {
   "cell_type": "markdown",
   "id": "b78efd47-3ef2-4b28-a7aa-57df0eedd3d8",
   "metadata": {},
   "source": [
    "## Library Preparation"
   ]
  },
  {
   "cell_type": "markdown",
   "id": "6bd94cff-4a70-4a63-9fe3-d63f44bf17a7",
   "metadata": {},
   "source": [
    "<strong style=\"color:#537FBF\">Library preparation</strong> is the collection of the bits of data that you're actually interested in (these bits would be your 'library').  For scRNA-seq we are interested in the <strong style=\"color:#A6A440\">transcriptome</strong> (this is the set of RNA thingamajigs in the cell).  <strong style=\"color:#EB1960\">@illumina-ebook</strong> lists a few library preparation techniques for the transcriptome:\n",
    "\n",
    "<hr/>\n",
    "\n",
    "*  Full-length RNA-seq\n",
    "*  mRNA end-tag amplification\n",
    "*  Targeted panels\n",
    "   *  Targeted towards measuring specific things\n",
    "*  IR-seq\n",
    "   *  Specifically used for B and T cells.\n",
    "\n",
    "<hr/>\n",
    "\n",
    "These are important for me to understand so I'll definitely be delving into this topic deeper in the future.  The end result should be that the mRNA has been converted into cDNA."
   ]
  },
  {
   "cell_type": "markdown",
   "id": "ce981fd9-1f9a-448a-b8b4-69a3f79c7ae6",
   "metadata": {},
   "source": [
    "## Sequencing"
   ]
  },
  {
   "cell_type": "markdown",
   "id": "6ad2319b-3c33-4ea8-9a52-201d9323deb1",
   "metadata": {},
   "source": [
    "We've now isolated our cells and grabbed the bits that we're interested in (in cDNA format).  Now, we want to actually be able to learn about the mRNA that we've grabbed.  To do this, we need to sequence it. "
   ]
  },
  {
   "cell_type": "markdown",
   "id": "2f773e30-5cb5-4b2b-9ba2-d3313b833a1b",
   "metadata": {},
   "source": [
    "### Flow Cells"
   ]
  },
  {
   "cell_type": "markdown",
   "id": "d13ed989-97bc-4750-9957-91bfa715a325",
   "metadata": {},
   "source": [
    "One important concept for sequencing is the <strong style=\"color:#A6A440\">Flow Cell</strong>.  Intuitively, the flow cell is a sticky plate that will grab the mRNA.  <strong style=\"color:#EB1960\">@illumina-ngs</strong> defines them as the following:\n",
    "\n",
    "> <strong style=\"color:#A6A440\">Flow Cell</strong>: A glass slide with one, two, or eight physically separated lanes, depending on the instrument platform. Each lane is coated with a lawn of surface bound, adapter-complimentary <strong style=\"color:#A6A440\">oligos</strong>. A single library or a pool of up to 96 <strong style=\"color:#537FBF\">multiplexed</strong> libraries\n",
    "can be run per lane, depending on application parameters.\n",
    ">\n",
    "> -- <cite><strong style=\"color:#EB1960\">Illumina handbook on next generation sequencing</strong></cite> [@illumina-ngs]\n",
    "\n"
   ]
  },
  {
   "cell_type": "markdown",
   "id": "9933cfb3-bc96-4dc3-bf7a-dbd88ba9ce29",
   "metadata": {},
   "source": [
    "An <strong style=\"color:#A6A440\">oligo</strong> is a short strand of synthetic DNA [@oligo].  These are the \"sticky bits\".  <strong style=\"color:#537FBF\">Multiplexing</strong> is the process of sequencing multiple samples at a time; this can be useful as sequencing produces a lot of data, more than may be necessary for a single project on its own [@ngs-considerations]."
   ]
  },
  {
   "cell_type": "markdown",
   "id": "44fcd042-7a4d-49aa-aa88-55bef95d2b5d",
   "metadata": {},
   "source": [
    "![Example of a patterned flow cell](flow_cell.jpeg)"
   ]
  },
  {
   "cell_type": "markdown",
   "id": "c6cffc3d-6386-4aca-ba99-a4f8cb6b12fa",
   "metadata": {},
   "source": [
    "The above diagram is that of a 2D slice of a <strong style=\"color:#A6A440\">Patterned Flow Cell</strong>.  These differ from <strong style=\"color:#A6A440\">Nonpatterned Flow Cells</strong> in the use of <strong style=\"color:#A6A440\">nanowells</strong> (little valleys in the cell) to ideally keep fragments of DNA from binding to nearby oligos.  Patterned flow cells are a more recent innovation, and for a brief overview of the differences you can read @patterned-vs-nonpatterned and @pvn-cons."
   ]
  },
  {
   "cell_type": "markdown",
   "id": "8eac0442-312c-4d66-abfb-28b55445f946",
   "metadata": {},
   "source": [
    "The cDNA created during library preparation is added onto the flow cell.  The strands of cDNA (<strong style=\"color:#A6A440\">reads</strong>) will bind to the oligos, and then start multiplyling so that duplicates of the read will be bound to nearby oligos.  For patterned flow cells, this should mean that the nanowells are full of copies of the same read - for unpatterned flow cells the clusters are more chaotic."
   ]
  },
  {
   "cell_type": "markdown",
   "id": "8b16dc0a-28d2-4d87-89d4-5591c3cd937e",
   "metadata": {},
   "source": [
    "Flow cells have two key measures (besides data quality); the amount of reads and the <strong style=\"color:#A6A440\">read length</strong>.  Read counts can be in the hundreds of millions.  Read lengths will be much smaller; the flow cells paired with the <strong style=\"color:#EB1960\">Illumina NextSeq 550</strong> can only have reads as long as 150 base pairs on average.  Longer reads are desirable from the perspective of reconstructing larger sequences, as it is easier to determine if two segments have a significant overlap."
   ]
  },
  {
   "cell_type": "markdown",
   "id": "55e068a4-b72f-4bfd-ae40-53e22ddc151b",
   "metadata": {},
   "source": [
    "An important concept is <strong style=\"color:#A6A440\">coverage</strong>, or the amount of times a gene has a read associated with it.  Higher coverage is better as it allows us to piece together the gene more accurately and weed out incorrect bases.  This is also called <strong style=\"color:#A6A440\">sequence depth</strong>.  Deep sequencing is important for detecting rare genes.  This can be affected by the steps done during library preparation; immune cells, which undergo <strong style=\"color:#537FBF\">VDJ recombination</strong> - in short, each cell has its own unique markers that need to be accounted for [@ngs-considerations]"
   ]
  },
  {
   "cell_type": "markdown",
   "id": "7bc35066-c5a3-4d59-86d6-c0abef178757",
   "metadata": {},
   "source": [
    "Finally, there's the decision of whether to use <strong style=\"color:#A6A440\">paired-end</strong> or <strong style=\"color:#A6A440\">single-end</strong> sequencing.  DNA and RNA are linear structures with two different ends - the 5' and 3' ends (\"5-prime\" and \"3-prime\").  By reading from both the ends, we can better find errors as well as increase the read length (intuitively: instead of reading n base pairs in one direction, you can read 2n total pairs with n in each direction).  These advantages decrease when you have <strong style=\"color:#A6A440\">UMIs (unique molecular identifiers)</strong> or other feature you can take advantage of (such as VDJs), but that is out of scope for this blog post.  [@ngs-considerations]"
   ]
  },
  {
   "cell_type": "markdown",
   "id": "c0618286-6092-4375-8d1e-04c8328a74eb",
   "metadata": {},
   "source": [
    "### Sequencing Devices"
   ]
  },
  {
   "cell_type": "markdown",
   "id": "0ef1f3a8-2aff-49fc-9533-ee27f9c8fdb3",
   "metadata": {},
   "source": [
    "#### Illumina NextSeq 550"
   ]
  },
  {
   "cell_type": "markdown",
   "id": "c9b0bf65-702d-4e4a-ad4d-ebc0a19271ea",
   "metadata": {},
   "source": [
    "### References\n",
    "\n",
    "::: {#refs}\n",
    ":::"
   ]
  },
  {
   "cell_type": "markdown",
   "id": "d57cd008-1f4a-4e53-8e07-cbf28e42e971",
   "metadata": {},
   "source": [
    "<script src=\"https://giscus.app/client.js\"\n",
    "        data-repo=\"baileyandrew/blog\"\n",
    "        data-repo-id=\"R_kgDOInJwKg\"\n",
    "        data-category=\"Announcements\"\n",
    "        data-category-id=\"DIC_kwDOInJwKs4CTGOQ\"\n",
    "        data-mapping=\"title\"\n",
    "        data-strict=\"0\"\n",
    "        data-reactions-enabled=\"1\"\n",
    "        data-emit-metadata=\"0\"\n",
    "        data-input-position=\"top\"\n",
    "        data-theme=\"dark_protanopia\"\n",
    "        data-lang=\"en\"\n",
    "        data-loading=\"lazy\"\n",
    "        crossorigin=\"anonymous\"\n",
    "        async>\n",
    "</script>"
   ]
  }
 ],
 "metadata": {
  "kernelspec": {
   "display_name": "Python [conda env:Blog-nbdev]",
   "language": "python",
   "name": "conda-env-Blog-nbdev-py"
  }
 },
 "nbformat": 4,
 "nbformat_minor": 5
}
