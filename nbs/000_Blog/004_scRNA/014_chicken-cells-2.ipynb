{
 "cells": [
  {
   "cell_type": "raw",
   "id": "a83d355f-1224-48d1-a3b2-7d83ed5a09f8",
   "metadata": {},
   "source": [
    "---\n",
    "title: \"Chicken 2: Cock-a-doodle-doo\"\n",
    "description: \" 🍗 \"\n",
    "author: \"Bailey Andrew\"\n",
    "date: \"Feb 7 2023\"\n",
    "draft: false\n",
    "categories: [Work, Omics, Useful, Paper Replication]\n",
    "bibliography: bibliography.bib\n",
    "format:\n",
    "  html:\n",
    "    css:\n",
    "      - ../../html_scripts/collapse.css\n",
    "      - ../../html_scripts/pretty_shortcuts.css\n",
    "    include-after-body: \n",
    "      - ../../html_scripts/collapse.html\n",
    "      - ../../html_scripts/comments.html\n",
    "      - ../../html_scripts/make_header_sensible.html\n",
    "---"
   ]
  },
  {
   "cell_type": "markdown",
   "id": "f47a1785-c40e-4b29-b9c8-2b30b94cc760",
   "metadata": {},
   "source": [
    "Today we'll continue off from last time, looking at the data from the paper @chicken-cells.  We didn't get much done yesterday because of a side-quest involving chicken breeds."
   ]
  },
  {
   "cell_type": "code",
   "execution_count": 2,
   "id": "65bdc06f-d958-46b4-9a3d-1bf6f075e162",
   "metadata": {},
   "outputs": [],
   "source": [
    "set.seed(0)\n",
    "library(SingleCellExperiment)\n",
    "library(scran)\n",
    "library(scater)\n",
    "library(dplyr)\n",
    "library(biomaRt)"
   ]
  },
  {
   "cell_type": "markdown",
   "id": "bb0aae2d-481f-4d5a-a073-0f1420d981a7",
   "metadata": {},
   "source": [
    "Since every dataset from the Single Cell Expression Atlas has the same form, I figured it might be convenient to write a function to handle it.  In the future I'll refactor this into a separate script on this blog, instead of repeating it every post."
   ]
  },
  {
   "cell_type": "code",
   "execution_count": 18,
   "id": "4cb839cc-0543-419a-95d8-41c3f9090413",
   "metadata": {},
   "outputs": [],
   "source": [
    "load.scea.data <- function(dir.path, exp.name) {\n",
    "    # Load in the matrix of counts\n",
    "    counts.mat <- Matrix::readMM(\n",
    "        paste0(\n",
    "            dir.path,\n",
    "            exp.name, '-quantification-raw-files/',\n",
    "            exp.name, '.aggregated_filtered_counts.mtx'\n",
    "        )\n",
    "    )\n",
    "    \n",
    "    # Get the gene names for the matrix\n",
    "    counts.rows <- read.csv(\n",
    "        paste0(\n",
    "            dir.path,\n",
    "            exp.name, '-quantification-raw-files/',\n",
    "            exp.name, '.aggregated_filtered_counts.mtx_rows'\n",
    "        ),\n",
    "        sep='\\t',\n",
    "        header=FALSE\n",
    "    )$V1\n",
    "\n",
    "    # Get the cell ids for the matrix\n",
    "    counts.cols <- read.csv(\n",
    "        paste0(\n",
    "            dir.path,\n",
    "            exp.name, '-quantification-raw-files/',\n",
    "            exp.name, '.aggregated_filtered_counts.mtx_cols'\n",
    "        ),\n",
    "        sep='\\t',\n",
    "        header=FALSE\n",
    "    )$V1\n",
    "    \n",
    "    # Get all cellwise metadata\n",
    "    meta.data <- read.csv(\n",
    "        paste0(\n",
    "            dir.path,\n",
    "            'ExpDesign-', exp.name, '.tsv'\n",
    "        ),\n",
    "        sep='\\t',\n",
    "        header=TRUE,\n",
    "        row.names='Assay'\n",
    "    )\n",
    "    \n",
    "    rownames(counts.mat) <- counts.rows\n",
    "    colnames(counts.mat) <- counts.cols\n",
    "    \n",
    "    # Ensure that the meta.data lines up with the cells\n",
    "    if (!identical(rownames(meta.data), colnames(counts.mat))) {\n",
    "        warning(\"The metadata does not line up with the cells\")\n",
    "    }\n",
    "    \n",
    "    return(\n",
    "        SingleCellExperiment(\n",
    "            assays=list(counts=counts.mat),\n",
    "            colData=meta.data\n",
    "        )\n",
    "    )\n",
    "}"
   ]
  },
  {
   "cell_type": "code",
   "execution_count": 17,
   "id": "86910209-f38d-494e-b74d-78e5382383b8",
   "metadata": {},
   "outputs": [
    {
     "data": {
      "text/plain": [
       "class: SingleCellExperiment \n",
       "dim: 13645 7688 \n",
       "metadata(0):\n",
       "assays(1): counts\n",
       "rownames(13645): ENSGALG00000000003 ENSGALG00000000011 ...\n",
       "  ENSGALG00000055127 ENSGALG00000055132\n",
       "rowData names(0):\n",
       "colnames(7688): SAMN11526603-AAAAAAATTCAG SAMN11526603-AAAAACAAGTAG ...\n",
       "  SAMN11526603-TTTTTTTGTGAG SAMN11526603-TTTTTTTTTTTT\n",
       "colData names(18): Sample.Characteristic.organism.\n",
       "  Sample.Characteristic.Ontology.Term.organism. ...\n",
       "  Factor.Value.inferred.cell.type...ontology.labels.\n",
       "  Factor.Value.Ontology.Term.inferred.cell.type...ontology.labels.\n",
       "reducedDimNames(0):\n",
       "mainExpName: NULL\n",
       "altExpNames(0):"
      ]
     },
     "metadata": {},
     "output_type": "display_data"
    }
   ],
   "source": [
    "sce <- load.scea.data('./localdata/Datasets/E-CURD-13/', 'E-CURD-13')\n",
    "sce"
   ]
  },
  {
   "cell_type": "markdown",
   "id": "ba87637c-2c89-4b4c-8172-4cb305b2fdf2",
   "metadata": {},
   "source": [
    "And then, for the purposes of future quality control, we pull the mitochondrial genes using the fruits of our labor from yesterday."
   ]
  },
  {
   "cell_type": "code",
   "execution_count": 19,
   "id": "7dedbb33-c1f8-4293-ad4f-74901da703d4",
   "metadata": {},
   "outputs": [],
   "source": [
    "mart.archive <- useDataset(\n",
    "    \"ggallus_gene_ensembl\",\n",
    "    useMart(\n",
    "        \"ensembl\",\n",
    "        host=\"https://apr2022.archive.ensembl.org\"\n",
    "    )\n",
    ")\n",
    "gene.to.symbol.map <- getBM(\n",
    "    filters=\"ensembl_gene_id\",\n",
    "    attributes=c(\n",
    "        \"ensembl_gene_id\",\n",
    "        \"hgnc_symbol\"\n",
    "    ),\n",
    "    values=rownames(sce),\n",
    "    mart=mart.archive\n",
    ")"
   ]
  },
  {
   "cell_type": "code",
   "execution_count": 20,
   "id": "1aaa8bf9-76a1-4016-9796-644ce26ee90d",
   "metadata": {},
   "outputs": [
    {
     "data": {
      "text/html": [
       "<style>\n",
       ".list-inline {list-style: none; margin:0; padding: 0}\n",
       ".list-inline>li {display: inline-block}\n",
       ".list-inline>li:not(:last-child)::after {content: \"\\00b7\"; padding: 0 .5ex}\n",
       "</style>\n",
       "<ol class=list-inline><li>'ENSGALG00000032142'</li><li>'ENSGALG00000043768'</li></ol>\n"
      ],
      "text/latex": [
       "\\begin{enumerate*}\n",
       "\\item 'ENSGALG00000032142'\n",
       "\\item 'ENSGALG00000043768'\n",
       "\\end{enumerate*}\n"
      ],
      "text/markdown": [
       "1. 'ENSGALG00000032142'\n",
       "2. 'ENSGALG00000043768'\n",
       "\n",
       "\n"
      ],
      "text/plain": [
       "[1] \"ENSGALG00000032142\" \"ENSGALG00000043768\""
      ]
     },
     "metadata": {},
     "output_type": "display_data"
    }
   ],
   "source": [
    "gene.to.symbol.map[\n",
    "    apply(\n",
    "        gene.to.symbol.map[\"hgnc_symbol\"],\n",
    "        1,\n",
    "        function(x) grepl(\"^MT-\", x)\n",
    "    ),\n",
    "]$ensembl_gene_id"
   ]
  },
  {
   "cell_type": "code",
   "execution_count": 30,
   "id": "7e7e9d6e-3d3a-4abd-baa2-638e026575d5",
   "metadata": {},
   "outputs": [
    {
     "data": {
      "text/plain": [
       "class: SingleCellExperiment \n",
       "dim: 13645 7688 \n",
       "metadata(0):\n",
       "assays(1): counts\n",
       "rownames(13645): ENSGALG00000000003 ENSGALG00000000011 ...\n",
       "  ENSGALG00000055127 ENSGALG00000055132\n",
       "rowData names(2): ensembl_gene_id hgnc_symbol\n",
       "colnames(7688): SAMN11526603-AAAAAAATTCAG SAMN11526603-AAAAACAAGTAG ...\n",
       "  SAMN11526603-TTTTTTTGTGAG SAMN11526603-TTTTTTTTTTTT\n",
       "colData names(18): Sample.Characteristic.organism.\n",
       "  Sample.Characteristic.Ontology.Term.organism. ...\n",
       "  Factor.Value.inferred.cell.type...ontology.labels.\n",
       "  Factor.Value.Ontology.Term.inferred.cell.type...ontology.labels.\n",
       "reducedDimNames(0):\n",
       "mainExpName: NULL\n",
       "altExpNames(0):"
      ]
     },
     "metadata": {},
     "output_type": "display_data"
    }
   ],
   "source": [
    "rowData(sce) <- gene.to.symbol.map\n",
    "is.mito <- grep(\"MT-\", rowData(sce)$hgnc_symbol)\n",
    "sce"
   ]
  },
  {
   "cell_type": "markdown",
   "id": "e8858fc1-bd45-4c0a-81a2-5de53605f10f",
   "metadata": {},
   "source": [
    "And now we can run the standard `scuttle::perCellQCMetrics` to get some basic info on the cell quality."
   ]
  },
  {
   "cell_type": "code",
   "execution_count": 32,
   "id": "9e146b44-68dc-4adf-8579-d61798789d8b",
   "metadata": {},
   "outputs": [],
   "source": [
    "per.cell.QC <- perCellQCMetrics(sce, subsets=list(Mito=is.mito))"
   ]
  },
  {
   "cell_type": "code",
   "execution_count": 34,
   "id": "12812cc7-b4a9-4f91-b343-a418f2147d9b",
   "metadata": {},
   "outputs": [
    {
     "data": {
      "text/plain": [
       "DataFrame with 7688 rows and 6 columns\n",
       "                                sum  detected subsets_Mito_sum\n",
       "                          <numeric> <numeric>        <numeric>\n",
       "SAMN11526603-AAAAAAATTCAG       972       679                8\n",
       "SAMN11526603-AAAAACAAGTAG      1706      1050                9\n",
       "SAMN11526603-AAAAACCTGCAT       764       554                4\n",
       "SAMN11526603-AAAAACTCGTAA      1102       794               15\n",
       "SAMN11526603-AAAAAGGATTCG      1393       844               11\n",
       "...                             ...       ...              ...\n",
       "SAMN11526603-TTTTTGTTCGGG      2416      1225               14\n",
       "SAMN11526603-TTTTTTAGAGGG      2510      1332               16\n",
       "SAMN11526603-TTTTTTTGCCCT      1719      1068                5\n",
       "SAMN11526603-TTTTTTTGTGAG       898       614                4\n",
       "SAMN11526603-TTTTTTTTTTTT       869       750                5\n",
       "                          subsets_Mito_detected subsets_Mito_percent     total\n",
       "                                      <numeric>            <numeric> <numeric>\n",
       "SAMN11526603-AAAAAAATTCAG                     2             0.823045       972\n",
       "SAMN11526603-AAAAACAAGTAG                     2             0.527550      1706\n",
       "SAMN11526603-AAAAACCTGCAT                     2             0.523560       764\n",
       "SAMN11526603-AAAAACTCGTAA                     2             1.361162      1102\n",
       "SAMN11526603-AAAAAGGATTCG                     2             0.789663      1393\n",
       "...                                         ...                  ...       ...\n",
       "SAMN11526603-TTTTTGTTCGGG                     2             0.579470      2416\n",
       "SAMN11526603-TTTTTTAGAGGG                     2             0.637450      2510\n",
       "SAMN11526603-TTTTTTTGCCCT                     2             0.290867      1719\n",
       "SAMN11526603-TTTTTTTGTGAG                     2             0.445434       898\n",
       "SAMN11526603-TTTTTTTTTTTT                     2             0.575374       869"
      ]
     },
     "metadata": {},
     "output_type": "display_data"
    }
   ],
   "source": [
    "per.cell.QC"
   ]
  },
  {
   "cell_type": "code",
   "execution_count": 42,
   "id": "22e71d82-af86-4167-9a1e-4914f0a9ad1f",
   "metadata": {},
   "outputs": [
    {
     "data": {
      "text/html": [
       "972.000001"
      ],
      "text/latex": [
       "972.000001"
      ],
      "text/markdown": [
       "972.000001"
      ],
      "text/plain": [
       "[1] 972"
      ]
     },
     "metadata": {},
     "output_type": "display_data"
    },
    {
     "data": {
      "text/html": [
       "679"
      ],
      "text/latex": [
       "679"
      ],
      "text/markdown": [
       "679"
      ],
      "text/plain": [
       "[1] 679"
      ]
     },
     "metadata": {},
     "output_type": "display_data"
    }
   ],
   "source": [
    "sum(counts(sce[,1]))\n",
    "sum(counts(sce[,1])>0)"
   ]
  },
  {
   "cell_type": "markdown",
   "id": "731383b0-7fcf-44ab-a45b-65106cb03c1b",
   "metadata": {},
   "source": [
    "We can see that the `sum` and `detected` are the library size and the number of unique genes.  It also gives us info on specific subsets, which is why we passed in the mitochondrial subset info."
   ]
  },
  {
   "cell_type": "code",
   "execution_count": 35,
   "id": "6295e7f2-7506-42e0-98be-c74427fc1c4c",
   "metadata": {},
   "outputs": [],
   "source": [
    "sce <- addPerCellQCMetrics(sce, subsets=list(Mito=is.mito))"
   ]
  },
  {
   "cell_type": "markdown",
   "id": "bd5c59c2-f36c-4c9e-ba2b-6993ccda3290",
   "metadata": {},
   "source": [
    "Using this, we can work out which cells to discard:"
   ]
  },
  {
   "cell_type": "code",
   "execution_count": 43,
   "id": "c6ff42db-10e8-435c-b125-2a198e7b1a67",
   "metadata": {},
   "outputs": [],
   "source": [
    "reasons <- perCellQCFilters(\n",
    "    sce, \n",
    "    sub.fields=c(\"subsets_Mito_percent\")\n",
    ")"
   ]
  },
  {
   "cell_type": "code",
   "execution_count": 44,
   "id": "470bca66-b1fd-455a-a2a1-97ce92b8b119",
   "metadata": {},
   "outputs": [
    {
     "data": {
      "text/plain": [
       "DataFrame with 7688 rows and 4 columns\n",
       "         low_lib_size   low_n_features high_subsets_Mito_percent   discard\n",
       "     <outlier.filter> <outlier.filter>          <outlier.filter> <logical>\n",
       "1               FALSE            FALSE                     FALSE     FALSE\n",
       "2               FALSE            FALSE                     FALSE     FALSE\n",
       "3               FALSE            FALSE                     FALSE     FALSE\n",
       "4               FALSE            FALSE                      TRUE      TRUE\n",
       "5               FALSE            FALSE                     FALSE     FALSE\n",
       "...               ...              ...                       ...       ...\n",
       "7684            FALSE            FALSE                     FALSE     FALSE\n",
       "7685            FALSE            FALSE                     FALSE     FALSE\n",
       "7686            FALSE            FALSE                     FALSE     FALSE\n",
       "7687            FALSE            FALSE                     FALSE     FALSE\n",
       "7688            FALSE            FALSE                     FALSE     FALSE"
      ]
     },
     "metadata": {},
     "output_type": "display_data"
    }
   ],
   "source": [
    "reasons"
   ]
  },
  {
   "cell_type": "markdown",
   "id": "abbf8e57-b9d2-4b19-9817-e7da852bebed",
   "metadata": {},
   "source": [
    "I quite like the `scuttle::perCellQCFilters` function, since it gives a list of reasons why it would discard each cell.  `low_lib_size` and `low_n_features` may for example correspond to fake cells (empty droplets with background RNA) or doublets and `high_subsets_Mito_percent` corresponds to overly mitochondrial data."
   ]
  },
  {
   "cell_type": "markdown",
   "id": "79ab2e00-871f-43bc-8480-d4c40d30f49d",
   "metadata": {},
   "source": [
    "In fact, there's even some hidden metadata attached in the form of the chosen thresholds:"
   ]
  },
  {
   "cell_type": "code",
   "execution_count": 46,
   "id": "39aeaa2b-97dd-4a98-9830-e50462712868",
   "metadata": {},
   "outputs": [
    {
     "data": {
      "text/html": [
       "<style>\n",
       ".dl-inline {width: auto; margin:0; padding: 0}\n",
       ".dl-inline>dt, .dl-inline>dd {float: none; width: auto; display: inline-block}\n",
       ".dl-inline>dt::after {content: \":\\0020\"; padding-right: .5ex}\n",
       ".dl-inline>dt:not(:first-of-type) {padding-left: .5ex}\n",
       "</style><dl class=dl-inline><dt>lower</dt><dd>406.582871569237</dd><dt>higher</dt><dd>Inf</dd></dl>\n"
      ],
      "text/latex": [
       "\\begin{description*}\n",
       "\\item[lower] 406.582871569237\n",
       "\\item[higher] Inf\n",
       "\\end{description*}\n"
      ],
      "text/markdown": [
       "lower\n",
       ":   406.582871569237higher\n",
       ":   Inf\n",
       "\n"
      ],
      "text/plain": [
       "   lower   higher \n",
       "406.5829      Inf "
      ]
     },
     "metadata": {},
     "output_type": "display_data"
    }
   ],
   "source": [
    "attr(reasons$low_lib_size, \"thresholds\")"
   ]
  },
  {
   "cell_type": "code",
   "execution_count": 50,
   "id": "d1c242e5-6ec7-433a-b2e5-b7f105ea59d3",
   "metadata": {},
   "outputs": [
    {
     "name": "stdout",
     "output_type": "stream",
     "text": [
      "[1] \"Discarding 258\"\n"
     ]
    }
   ],
   "source": [
    "print(paste0(\"Discarding \", sum(reasons$discard)))\n",
    "sce <- sce[, !reasons$discard]"
   ]
  },
  {
   "cell_type": "code",
   "execution_count": 54,
   "id": "31c777ec-1403-45f5-b55e-c67bf36e7c72",
   "metadata": {},
   "outputs": [
    {
     "data": {
      "text/plain": [
       "class: SingleCellExperiment \n",
       "dim: 13645 7430 \n",
       "metadata(0):\n",
       "assays(2): counts logcounts\n",
       "rownames(13645): ENSGALG00000000003 ENSGALG00000000011 ...\n",
       "  ENSGALG00000055127 ENSGALG00000055132\n",
       "rowData names(2): ensembl_gene_id hgnc_symbol\n",
       "colnames(7430): SAMN11526603-AAAAAAATTCAG SAMN11526603-AAAAACAAGTAG ...\n",
       "  SAMN11526603-TTTTTTTGTGAG SAMN11526603-TTTTTTTTTTTT\n",
       "colData names(25): Sample.Characteristic.organism.\n",
       "  Sample.Characteristic.Ontology.Term.organism. ... total sizeFactor\n",
       "reducedDimNames(0):\n",
       "mainExpName: NULL\n",
       "altExpNames(0):"
      ]
     },
     "metadata": {},
     "output_type": "display_data"
    }
   ],
   "source": [
    "logNormCounts(sce)"
   ]
  }
 ],
 "metadata": {
  "kernelspec": {
   "display_name": "R [conda env:JupyterWithR]",
   "language": "R",
   "name": "conda-env-JupyterWithR-r"
  },
  "language_info": {
   "codemirror_mode": "r",
   "file_extension": ".r",
   "mimetype": "text/x-r-source",
   "name": "R",
   "pygments_lexer": "r",
   "version": "4.2.1"
  }
 },
 "nbformat": 4,
 "nbformat_minor": 5
}
