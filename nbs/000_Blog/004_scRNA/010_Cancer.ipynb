{
 "cells": [
  {
   "cell_type": "raw",
   "id": "213fe688-51a2-447f-848c-7a8fef3a47f0",
   "metadata": {},
   "source": [
    "---\n",
    "title: \"A Living Biobank of Ovarian Cancer -- Data Acqusition\"\n",
    "description: \"Another scRNA paper\"\n",
    "author: \"Bailey Andrew\"\n",
    "date: \"Jan 19 2023\"\n",
    "draft: false\n",
    "categories: [Work, Omics, Useful, Paper Replication]\n",
    "bibliography: bibliography.bib\n",
    "format:\n",
    "  html:\n",
    "    css:\n",
    "      - ../../html_scripts/collapse.css\n",
    "      - ../../html_scripts/pretty_shortcuts.css\n",
    "    include-after-body: \n",
    "      - ../../html_scripts/collapse.html\n",
    "      - ../../html_scripts/comments.html\n",
    "---"
   ]
  },
  {
   "cell_type": "markdown",
   "id": "1adfa5f1-a941-40b7-bad8-e7b71c9cfb90",
   "metadata": {},
   "source": [
    "@ovarian-cancer-living-biobank"
   ]
  }
 ],
 "metadata": {
  "kernelspec": {
   "display_name": "R [conda env:JupyterWithR]",
   "language": "R",
   "name": "conda-env-JupyterWithR-r"
  }
 },
 "nbformat": 4,
 "nbformat_minor": 5
}
