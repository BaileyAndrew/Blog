{
 "cells": [
  {
   "cell_type": "raw",
   "id": "298bd5d6-2d15-4083-ac44-508ae6afa96d",
   "metadata": {},
   "source": [
    "---\n",
    "title: \"Analyzing scRNA-seq Data -- Dataset Acquisition\"\n",
    "description: \"This was originally meant to be a whole-workflow blog post, but understanding dataset procurement is hard...\"\n",
    "author: \"Bailey Andrew\"\n",
    "date: \"Jan 8 2023\"\n",
    "draft: false\n",
    "categories: [Work, Useful, Omics, Paper Replication]\n",
    "bibliography: bibliography.bib\n",
    "---"
   ]
  },
  {
   "cell_type": "markdown",
   "id": "e59addc2-d2b0-47dd-95ee-87c65bfd0705",
   "metadata": {},
   "source": [
    "In this walkthrough, we're going to start playing around with real scRNA-seq data.  I had no end goal in mind when starting this post; let's see what happens!"
   ]
  },
  {
   "cell_type": "markdown",
   "id": "1ada7bfb-c855-4396-b3ec-6775529ed6df",
   "metadata": {},
   "source": [
    "# The Dataset"
   ]
  },
  {
   "cell_type": "markdown",
   "id": "9f2bc74d-7660-4c4b-8fcc-3d9fd1dd5ec5",
   "metadata": {},
   "source": [
    "We'll use the [Single Cell Expression Atlas](https://www.ebi.ac.uk/gxa/sc/home) to find a suitable dataset to explore.  The website has a nice design, and there're a lot of species to choose from."
   ]
  },
  {
   "cell_type": "markdown",
   "id": "343d0567-c6b4-492e-8c6f-4f2886b57c9c",
   "metadata": {},
   "source": [
    "![Species Options](./images/cell-expression-atlas-species.png)"
   ]
  },
  {
   "cell_type": "markdown",
   "id": "e37ad2e9-3a32-41a8-915f-fd587f204c53",
   "metadata": {},
   "source": [
    "I chose to look at <i style=\"color:#EB1960\">Danio rerio</i> (<b style=\"color:#EB1960\">Zebrafish</b>) because it was the animal with the most experiments that I hadn't really heard about before^[Apparently it does seem to be one of the 'useful' animals in biology - you learn new things every day!  Shoutout to Sam's blog for introducing me to being able to use footnotes.].  I didn't want to look at plants/fungi/protists because they might require additional considerations I'm not aware of (especially protists).\n",
    "\n",
    "<details>\n",
    "    <summary style=\"color:#C0CF95\"><b>&lt;i&gt; vs &lt;em&gt;</b></summary>\n",
    "    <p>This is very tangential, but in trying to learn the right way to represent scientific names such as <i style=\"color:#EB1960\">Danio rerio</i> I stumbled onto a debate about <span style=\"color:#757575\">&lt;i&gt;</span> vs <span style=\"color:#757575\">&lt;em&gt;</span> (html tags to represent italics), and analogously about <span style=\"color:#757575\">&lt;b&gt;</span> vs <span style=\"color:#757575\">&lt;strong&gt;</span> (to represent bolds).  In my investigation into this debate, I've encountered that <span style=\"color:#757575\">&lt;i&gt;</span>/<span style=\"color:#757575\">&lt;b&gt;</span> are to be used when there is no semantic emphasis on the words, whereas <span style=\"color:#757575\">&lt;em&gt;</span>/<span style=\"color:#757575\">&lt;strong&gt;</span> contain semantic emphasis [@b-vs-strong].  This unfortunately means I've been using them wrong 😅 - since I've just been <span style=\"color:#757575\">&lt;strong&gt;</span>-ing all my bolds even though I basically never bold for emphasis these days.  (I'm not a very emphatic person).</p>\n",
    "</details>"
   ]
  },
  {
   "cell_type": "markdown",
   "id": "11811e02-bad7-4309-ba4f-23b31d4636ce",
   "metadata": {},
   "source": [
    "I chose the dataset from the paper \"Single-cell transcriptional analysis reveals innate lymphoid cell (ILC)-like cells in zebrafish\" [@zebrafish-data], because it was one of the most recent but also not exceedingly large (<1000 cells)."
   ]
  },
  {
   "cell_type": "markdown",
   "id": "ca2d5556-e6c6-46fb-a9d6-0c9bac10d619",
   "metadata": {},
   "source": [
    "## Experimental Design"
   ]
  },
  {
   "cell_type": "markdown",
   "id": "19d88bed-18ad-459e-acb6-5f985aedf802",
   "metadata": {},
   "source": [
    "Before downloading the data, we want to check if it's actually useful to us - is it mRNA, what type of cells are they, were specific genes targeted, etc.  Since the previous blog posts were talking about the wetlab generation of the data, let's do a deep dive into what they did.  The paper [@zebrafish-data] is freely available online, and the pertinent information will be contained in the <b style=\"color:#EB1960\">Materials and Methods</b> section.  The paper is the source of two datasets on the <b style=\"color:#EB1960\">Single Cell Expression Atlas</b> so we will have to keep that in mind when reading about the methods."
   ]
  },
  {
   "cell_type": "markdown",
   "id": "d629ae46-af71-4fd0-b273-c0f908e15ccd",
   "metadata": {},
   "source": [
    "### Sample Selection"
   ]
  },
  {
   "cell_type": "markdown",
   "id": "71aeaff6-2e31-4754-881b-4738c69d719d",
   "metadata": {},
   "source": [
    "> The aim of this study was to characterised innate and adaptive <strong style=\"color:#A6A440\">lymphocytes</strong> in zebrafish in steady state and following the immune challenge, using scRNA-seq. <strong style=\"color:#C0CF95\">Multiple zebrafish</strong>, either in <strong style=\"color:#A6A440\">steady state</strong> or <strong style=\"color:#537FBF\">exposed to immune challenge</strong>, were used to collect cells for sequencing.\n",
    ">\n",
    "> -- <cite><b style=\"color:#EB1960\">Study Design Subsection; Materials and Methods Section;</b> @zebrafish-data </cite>"
   ]
  },
  {
   "cell_type": "markdown",
   "id": "32e794e1-fc68-41f4-913e-58ac46626116",
   "metadata": {},
   "source": [
    "A <b style=\"color:#A6A440\">lymphocyte</b> is a specific type of cell that is part of your immune system; B, T, and NK cells are all <b style=\"color:#A6A440\">lymphocytes</b>.  We can also see that the experiment was done on multiple zebrafish, rather than just one - and that some were \"exposed to immune challenge\", which I assume means they were made sick to try to trigger interesting processes in their immune system."
   ]
  },
  {
   "cell_type": "markdown",
   "id": "d00b8204-a710-480c-ae31-61bc87908a23",
   "metadata": {},
   "source": [
    "The paper goes into more depth into this immune challenge (it involves <i style=\"color:#EB1960\">Vibrio anguillarum</i>, a \"fish pathogen\" [details: @vibrio-anguillarum]), however this does not seem to be relevant for our dataset.  The paper seems to refer to our dataset as the <b style=\"color:#EB1960\">Smart-seq2 experiment</b>, whereas the other dataset is the <b style=\"color:#EB1960\">10x experiment</b>.  The immune challenge was only applied to the <b style=\"color:#EB1960\">10x experiment</b>.  We can double-check this by comparing the sample characteristics of [our dataset](https://www.ebi.ac.uk/gxa/sc/experiments/E-MTAB-7117/experiment-design) and [the other dataset](https://www.ebi.ac.uk/gxa/sc/experiments/E-MTAB-7159/experiment-design) on the <b style=\"color:#EB1960\">Single Cell Expression Atlas</b>, noting that <b style=\"color:#757575\">infect</b> is not one of the experimental variables for our dataset.\n",
    "\n",
    "A triple-check, if the above was not convincing enough^[It wasn't really, at least for me - I like to be sure!], can be found when we read the whole paper:\n",
    "\n",
    "> To allow easy retrieval of sequencing data from zebrafish innate and adaptive lymphocytes we generated a cloud repository (https://www.sanger.ac.uk/science/tools/lymphocytes/ lymphocytes/) with transcriptional profiles of over 14,000 single cells collected from healthy and immune challenged zebrafish using 10x genomics and Smart-seq2 methodology <strong style=\"color:#C0CF96\">(please\n",
    "see Explanatory Note in Supplementary Material)</strong>.\n",
    ">\n",
    "> -- <cite><b style=\"color:#EB1960\">\"Single cell atlas of innate and adaptive lymphocytes in zebrafish\" section;</b> @zebrafish-data </cite>\n",
    "\n",
    "We can then track down this explanatory note^[I found it on [NIH](https://www.ncbi.nlm.nih.gov/pmc/articles/PMC6258902/); warning - you'll have to download a 16MB file to read it!] to see what it has to say;\n",
    "\n",
    "> Available datasets includes <strong style=\"color:#C0CF96\"><b style=\"color:#EB1960\">Smart-seq2 data</b> from kidney, thymus, spleen, guts and gills of healthy, unstimulated <b style=\"color:#A6A440\">wild-type</b> zebrafish</strong> as well as <strong style=\"color:#C0CF96\"><b style=\"color:#EB1960\">10x datasets</b> from gut of unstimulated zebrafish both <b style=\"color:#A6A440\">wild-type</b> and <b style=\"color:#A6A440\">rag1<sup>-/-</sup> mutant</b> and <b style=\"color:#537FBF\">immune-challenged</b> (V. anguillarum- or A. simplex-injected) <b style=\"color:#A6A440\">rag1<sup>-/-</sup> mutant</b></strong>.\n",
    ">\n",
    "> -- <cite><b style=\"color:#EB1960\">Supplementary Material; Explanatory Note</b> @zebrafish-data </cite>\n",
    "\n",
    "We know the <b style=\"color:#EB1960\">10x experiment</b> contains over 10,000 cells, and experienced <b style=\"color:#537FBF\">immune challenges</b>.  Ours doesn't.  Our dataset should be from multiple body parts (corroborated by the sample characteristics of [our dataset](https://www.ebi.ac.uk/gxa/sc/experiments/E-MTAB-7117/experiment-design)) and the <b style=\"color:#EB1960\">10x dataset</b> should only be from the gut (corroborated by the sample characteristics of [the other dataset](https://www.ebi.ac.uk/gxa/sc/experiments/E-MTAB-7159/experiment-design)).\n",
    "\n",
    "The above quote also points out that all our zebrafish were <b style=\"color:#A6A440\">wild-type</b>.  Interestingly, the sample characteristics of [our dataset](https://www.ebi.ac.uk/gxa/sc/experiments/E-MTAB-7117/experiment-design) do list multiple genotypes, including <b style=\"color:#A6A440\">rag1<sup>-/-</sup> mutants</b>.  The quote seems to imply that <b style=\"color:#A6A440\">rag1<sup>-/-</sup></b> is not \"<b style=\"color:#A6A440\">wild-type</b>\", as does the rest of the paper.  However, the rest of the paper does explicitly say that the <b style=\"color:#EB1960\">Smart-seq2 data</b> contains <b style=\"color:#A6A440\">rag1<sup>-/-</sup> mutants</b>, so I assume this was either an oversight by the authors or a minor misinterpretation on my part^[I'm leaning towards misinterpretation, as I don't see why wild populations would be incapable of having a <b style=\"color:#A6A440\">rag1<sup>-/-</sup> mutation</b> - unless maybe the <b style=\"color:#A6A440\">rag1<sup>-/-</sup> mutants</b> used in the study were specifically bred in the lab?].  Either way, I'm satisfied with this understanding; we can move on to the tissue preparation."
   ]
  },
  {
   "cell_type": "markdown",
   "id": "c6463ee6-f2de-4e47-852e-a07aea081adc",
   "metadata": {},
   "source": [
    "<details>\n",
    "    <summary style=\"color:#C0CF95\"><b>About rag1<sup>-/-</sup> mutants</b></summary>\n",
    "    <p>\n",
    "        Well, maybe not move on just yet; I'm just a bit curious as to what a <b style=\"color:#A6A440\">rag1<sup>-/-</sup> mutant</b> is!  According to @medline-rag1, it's related to <b style=\"color:#537FBF\">VDJ-recombination</b> (something that was briefly mentioned, but not expanded on, in a <a href=\"./004_scRNA2.html\">prior blogpost</a>)).  It stands for \"recombination activating gene 1\", and when it is absent it can really mess up your immune system as VDJ-recombination is essential for B and T cells to adapt to new pathogens.  For a paper specifically on this mutation's effects in zebrafish, see @rag1-zebrafish and @rag1-zebrafish-2.\n",
    "    </p>\n",
    "</details>"
   ]
  },
  {
   "cell_type": "markdown",
   "id": "c7ae1862-34e0-4ff8-ae5a-205fc955d2ac",
   "metadata": {},
   "source": [
    "### Tissue Preparation"
   ]
  },
  {
   "cell_type": "markdown",
   "id": "7bf41023-b15b-4997-8c45-4bd7769d4399",
   "metadata": {},
   "source": [
    "> Kidneys from heterozygote transgenic zebrafish either <b style=\"color:#A6A440\">wild-type</b> or <b style=\"color:#A6A440\">rag1-/- mutant</b>, were dissected and processed as previously described [@tissue-preparation].  The guts, spleens, gills and thymuses\n",
    "were dissected and placed in ice cold PBS/5% foetal bovine serum.\n",
    ">\n",
    "> -- <cite><b style=\"color:#EB1960\">FACS Sorting Subsection; Materials and Methods Section;</b> @zebrafish-data </cite>"
   ]
  },
  {
   "cell_type": "markdown",
   "id": "58bbf6a0-97be-41be-8aa2-a7c92e871f0b",
   "metadata": {},
   "source": [
    "Which gives us another paper to read!  Also, I never thought I'd read the phrase \"ice cold fetal bovine serum\"..."
   ]
  },
  {
   "cell_type": "markdown",
   "id": "32c7430e-35d7-4ae9-a895-5e0dc0f5b441",
   "metadata": {},
   "source": [
    "> A single kidney from heterozygote transgenic or wild-type fish was dissected and placed in ice cold PBS/5% foetal bovine serum.\n",
    ">\n",
    "> -- <cite><b style=\"color:#EB1960\">Single-Cell Sorting Subsection; Methods Section;</b> @tissue-preparation </cite>\n",
    "\n",
    "Despite being given another paper to read, it seems that the same dissection type was used for all organs.  That reduces the amount of work for us!"
   ]
  },
  {
   "cell_type": "markdown",
   "id": "0aa35d02-4548-4ddb-8318-726e6412fe5d",
   "metadata": {},
   "source": [
    "### Cell Isolation"
   ]
  },
  {
   "cell_type": "markdown",
   "id": "05c46af6-3b8f-4a77-ae3e-e5d9175aedb2",
   "metadata": {},
   "source": [
    "They used <b style=\"color:#537FBF\">FACS (Fluorescence-Activated Cell Sorting)</b>.  There's a brief overview of it available from @FACS.\n",
    "\n",
    "> For [the] <b style=\"color:#EB1960\">Smart-seq2 experiment</b> individual cells were index sorted into 96 well plates using a <b style=\"color:#EB1960\">BD Influx Index Sorter</b>\n",
    ">\n",
    "> -- <cite><b style=\"color:#EB1960\">FACS Sorting Subsection; Materials and Methods Section;</b> @zebrafish-data </cite>\n",
    "\n",
    "<details>\n",
    "    <summary style=\"color:#C0CF95\"><b>96</b></summary>\n",
    "    <p>\n",
    "        Why does the number 96 keep popping up???  I'll never know.\n",
    "    </p>\n",
    "</details>"
   ]
  },
  {
   "cell_type": "markdown",
   "id": "f0d00491-ebbc-478f-ba6d-9b851a0018b0",
   "metadata": {},
   "source": [
    "### Library Preparation and Sequencing"
   ]
  },
  {
   "cell_type": "markdown",
   "id": "2a695a51-47c1-406d-83dd-e8f8f2ad5972",
   "metadata": {},
   "source": [
    "> The <b style=\"color:#EB1960\">Smart-seq2 protocol</b> was used for <b style=\"color:#537FBF\">whole transcriptome amplification</b> and <b style=\"color:#537FBF\">library preparation</b> as previously described. Generated libraries were sequenced in <b style=\"color:#A6A440\">pair-end mode</b> on [a] <b style=\"color:#EB1960\">Hi-Seq4000 platform</b>.\n",
    ">\n",
    "> -- <cite><b style=\"color:#EB1960\">Plate-Based Single-Cell RNA processing Subsection; Materials and Methods Section;</b> @zebrafish-data </cite>"
   ]
  },
  {
   "cell_type": "markdown",
   "id": "cb676043-6884-4c19-b512-a1bff16a8426",
   "metadata": {},
   "source": [
    "This is short and straight to the point.  They say a bit more about sequencing later:"
   ]
  },
  {
   "cell_type": "markdown",
   "id": "20afc1bb-13ac-4cce-8729-7f540484140b",
   "metadata": {},
   "source": [
    "> For the samples that were processed using the <b style=\"color:#EB1960\">Smart-seq2 protocol</b>, the reads were aligned to the zebrafish reference genome (<b style=\"color:#EB1960\">Ensemble BioMart version 89</b>) combined with the sequences for EGFP, mCherry, mhc2dab and ERCC spike-ins. <b style=\"color:#EB1960\">Salmon v0.8.2</b> [@salmon] was used for both alignment and quantification of reads with the default paired-end parameters, while library type was set to inward (I) relative orientation (reads face each other) with unstranded (U) protocol (parameter –l IU).\n",
    ">\n",
    "> -- <cite><b style=\"color:#EB1960\">Alignment and Quantification of Single-Cell RNA-Sequencing Data; Materials and Methods Section;</b> @zebrafish-data </cite>"
   ]
  },
  {
   "cell_type": "markdown",
   "id": "e5939cba-6022-4fca-8c8d-fc17d2821dbb",
   "metadata": {},
   "source": [
    "## Acquiring and Exploring the Dataset"
   ]
  },
  {
   "cell_type": "markdown",
   "id": "a639696e-9d46-42c7-ab02-4df82e0bb106",
   "metadata": {},
   "source": [
    "The page for this dataset on the <b style=\"color:#EB1960\">Single Cell Expression Atlas</b> contains a [download tab](https://www.ebi.ac.uk/gxa/sc/experiments/E-MTAB-7117/downloads).  We want the <strong style=\"color:#C0CF96\">raw counts</strong> matrix (we don't want to use the normalized counts, since we intend to recreate their analysis and that includes normalizing the counts ourselves!)."
   ]
  },
  {
   "cell_type": "markdown",
   "id": "c456dd60-d69b-41af-9718-52b7a9109cfb",
   "metadata": {},
   "source": [
    "The file we're interested in, after downloading and unzipping, is `E-MTAB-7117.aggregated_filtered_counts.mtx`.  (The other files are important too; they're the row and column names!)  We can read the file in using <b style=\"color:#EB1960\">R</b>."
   ]
  },
  {
   "cell_type": "code",
   "execution_count": null,
   "id": "de0ea7cd-bcf0-4901-be06-7fd55009aa28",
   "metadata": {},
   "outputs": [],
   "source": [
    "raw.counts <- Matrix::readMM('./localdata/E-MTAB-7117.aggregated_filtered_counts.mtx')"
   ]
  },
  {
   "cell_type": "markdown",
   "id": "2437db23-87b2-4272-ab88-5217b0c7d9e2",
   "metadata": {},
   "source": [
    "Let's take a peak at this matrix to see what it's like."
   ]
  },
  {
   "cell_type": "code",
   "execution_count": null,
   "id": "dde71421-089d-4e2f-be46-d18adf6e5e9e",
   "metadata": {},
   "outputs": [
    {
     "name": "stdout",
     "output_type": "stream",
     "text": [
      "[1] 21797   966\n"
     ]
    },
    {
     "data": {
      "text/plain": [
       "10 x 10 sparse Matrix of class \"dgTMatrix\"\n",
       "                                          \n",
       " [1,] .   .         .      . .   . . . . .\n",
       " [2,] .   .         .      . .   . . . . .\n",
       " [3,] .   .         .      . .   . . . . .\n",
       " [4,] .   .        48.000 77 .   . . . . .\n",
       " [5,] 1 680.8777 1151.611  1 .   . . . . .\n",
       " [6,] .   .         .      . .   . . . . .\n",
       " [7,] .   .         .      . .   . . . . .\n",
       " [8,] .   .         .      . . 111 . . . .\n",
       " [9,] .   .         .      . .   . . . . .\n",
       "[10,] .   .         .      . .   . . . . ."
      ]
     },
     "metadata": {},
     "output_type": "display_data"
    },
    {
     "data": {
      "text/html": [
       "292841"
      ],
      "text/latex": [
       "292841"
      ],
      "text/markdown": [
       "292841"
      ],
      "text/plain": [
       "[1] 292841"
      ]
     },
     "metadata": {},
     "output_type": "display_data"
    }
   ],
   "source": [
    "print(dim(raw.counts))\n",
    "raw.counts[1:10, 1:10]\n",
    "max(raw.counts)"
   ]
  },
  {
   "cell_type": "markdown",
   "id": "61b8ecdc-ae90-44e8-a81a-674569430b3d",
   "metadata": {},
   "source": [
    "We can see that the matrix is 21,797 by 966 - thus, there are 21,797 genes in the dataset and each column corresponds to a specific cell."
   ]
  },
  {
   "cell_type": "markdown",
   "id": "a127c337-40ce-4ed0-b7e8-fcafbb33f42b",
   "metadata": {},
   "source": [
    "Strangely, <strong style=\"color:#C0CF96\">some values seem to be noninteger</strong>?  Let's consult the paper!\n",
    "\n",
    "> For each of the <strong style=\"color:#C0CF96\">542 single cells</strong>, counts reported by <b style=\"color:#EB1960\">Salmon</b> were transformed into normalised counts per million (CPM) and used for the further analysis. This was performed by <strong style=\"color:#C0CF96\">dividing the number of counts for each gene with the total number of counts for each cell and by multiplying the resulting number by a factor of 1,000,000</strong>. Genes that were expressed in less than 1% of cells (e.g. 5 single cells with CPM > 1) <strong style=\"color:#C0CF96\">were filtered out</strong>. In the final step we ended up using 16,059 genes across the 542 single cells. The <b style=\"color:#EB1960\">scran R package</b> (version 1.6.7) @scran was then used to <b style=\"color:#537FBF\">normalise</b> the data and remove differences due to the library size or capture efficiency and sequencing depth.\n",
    ">\n",
    "> -- <cite><b style=\"color:#EB1960\">Downstream Analysis of Smart-seq2 Data; Materials and Methods Section;</b> @zebrafish-data </cite>"
   ]
  },
  {
   "cell_type": "markdown",
   "id": "90e8db59-c45e-447d-a243-7cacd5d4556c",
   "metadata": {},
   "source": [
    "This explains the non-integer values; there's division involved in producing them."
   ]
  },
  {
   "cell_type": "markdown",
   "id": "24b1827d-9d15-4059-a97d-6fd36c8adfdb",
   "metadata": {},
   "source": [
    "However, we've found a new discrepancy!  Why are there 966 cells in the dataset, when we should only have 542?  Let's read a bit more of the paper:\n",
    "\n",
    "> For the <b style=\"color:#EB1960\">Smart-seq2 protocol</b> transcript per million (TPM) values reported by Salmon were used for the quality control (QC). Wells with fewer than 900 expressed genes (TPM > 1) or having more than either 60% of ERCC or 45% of mitochondrial content were annotated as <strong style=\"color:#C0CF96\">poor quality cells</strong>. As a result, 322 cells failed QC and 542 single cells were selected for the further study.\n",
    ">\n",
    "> -- <cite><b style=\"color:#EB1960\">Quality Control of Single-Cell Data; Materials and Methods Section;</b> @zebrafish-data </cite>"
   ]
  },
  {
   "cell_type": "markdown",
   "id": "4c42de88-787e-4f93-9138-41cc1a5db4c9",
   "metadata": {},
   "source": [
    "So 322 cells failed quality control - but that still only brings us up to 864 cells, 102 too few.  Let's download the [experiment design table](https://www.ebi.ac.uk/gxa/sc/experiments/E-MTAB-7117/experiment-design) from the <b style=\"color:#EB1960\">Single Cell Expression Atlas</b>, as we'll need it for later anyways (it contains non-gene info about the samples) and because it contains info on sample quality via the fields \"well information\" and \"single cell quality\".  The name of the file once downloaded is `ExpDesign-E-MTAB-7117.tsv`."
   ]
  },
  {
   "cell_type": "code",
   "execution_count": null,
   "id": "6c1674b0-7ced-444c-af58-ae3d7027eb5f",
   "metadata": {},
   "outputs": [
    {
     "data": {
      "text/html": [
       "<table class=\"dataframe\">\n",
       "<caption>A data.frame: 6 × 33</caption>\n",
       "<thead>\n",
       "\t<tr><th></th><th scope=col>Assay</th><th scope=col>Sample.Characteristic.organism.</th><th scope=col>Sample.Characteristic.Ontology.Term.organism.</th><th scope=col>Sample.Characteristic.strain.</th><th scope=col>Sample.Characteristic.Ontology.Term.strain.</th><th scope=col>Sample.Characteristic.age.</th><th scope=col>Sample.Characteristic.Ontology.Term.age.</th><th scope=col>Sample.Characteristic.developmental.stage.</th><th scope=col>Sample.Characteristic.Ontology.Term.developmental.stage.</th><th scope=col>Sample.Characteristic.sex.</th><th scope=col>⋯</th><th scope=col>Sample.Characteristic.single.cell.quality.</th><th scope=col>Sample.Characteristic.Ontology.Term.single.cell.quality.</th><th scope=col>Sample.Characteristic.cluster.</th><th scope=col>Sample.Characteristic.Ontology.Term.cluster.</th><th scope=col>Factor.Value.genotype.</th><th scope=col>Factor.Value.Ontology.Term.genotype.</th><th scope=col>Factor.Value.organism.part.</th><th scope=col>Factor.Value.Ontology.Term.organism.part.</th><th scope=col>Factor.Value.single.cell.identifier.</th><th scope=col>Factor.Value.Ontology.Term.single.cell.identifier.</th></tr>\n",
       "\t<tr><th></th><th scope=col>&lt;chr&gt;</th><th scope=col>&lt;chr&gt;</th><th scope=col>&lt;chr&gt;</th><th scope=col>&lt;chr&gt;</th><th scope=col>&lt;lgl&gt;</th><th scope=col>&lt;chr&gt;</th><th scope=col>&lt;lgl&gt;</th><th scope=col>&lt;chr&gt;</th><th scope=col>&lt;chr&gt;</th><th scope=col>&lt;chr&gt;</th><th scope=col>⋯</th><th scope=col>&lt;chr&gt;</th><th scope=col>&lt;lgl&gt;</th><th scope=col>&lt;chr&gt;</th><th scope=col>&lt;lgl&gt;</th><th scope=col>&lt;chr&gt;</th><th scope=col>&lt;lgl&gt;</th><th scope=col>&lt;chr&gt;</th><th scope=col>&lt;chr&gt;</th><th scope=col>&lt;chr&gt;</th><th scope=col>&lt;lgl&gt;</th></tr>\n",
       "</thead>\n",
       "<tbody>\n",
       "\t<tr><th scope=row>1</th><td>ERR2722968</td><td>Danio rerio</td><td>http://purl.obolibrary.org/obo/NCBITaxon_7955</td><td>AB</td><td>NA</td><td>6 month</td><td>NA</td><td>adult</td><td>http://www.ebi.ac.uk/efo/EFO_0001272</td><td>male</td><td>⋯</td><td>OK</td><td>NA</td><td>1</td><td>NA</td><td>Tg(lck:EGFP)</td><td>NA</td><td>kidney</td><td></td><td>LCK_kidney_A12</td><td>NA</td></tr>\n",
       "\t<tr><th scope=row>2</th><td>ERR2722969</td><td>Danio rerio</td><td>http://purl.obolibrary.org/obo/NCBITaxon_7955</td><td>AB</td><td>NA</td><td>6 month</td><td>NA</td><td>adult</td><td>http://www.ebi.ac.uk/efo/EFO_0001272</td><td>male</td><td>⋯</td><td>OK</td><td>NA</td><td>1</td><td>NA</td><td>Tg(lck:EGFP)</td><td>NA</td><td>kidney</td><td></td><td>LCK_kidney_A4 </td><td>NA</td></tr>\n",
       "\t<tr><th scope=row>3</th><td>ERR2722970</td><td>Danio rerio</td><td>http://purl.obolibrary.org/obo/NCBITaxon_7955</td><td>AB</td><td>NA</td><td>6 month</td><td>NA</td><td>adult</td><td>http://www.ebi.ac.uk/efo/EFO_0001272</td><td>male</td><td>⋯</td><td>OK</td><td>NA</td><td>1</td><td>NA</td><td>Tg(lck:EGFP)</td><td>NA</td><td>kidney</td><td></td><td>LCK_kidney_B1 </td><td>NA</td></tr>\n",
       "\t<tr><th scope=row>4</th><td>ERR2722971</td><td>Danio rerio</td><td>http://purl.obolibrary.org/obo/NCBITaxon_7955</td><td>AB</td><td>NA</td><td>6 month</td><td>NA</td><td>adult</td><td>http://www.ebi.ac.uk/efo/EFO_0001272</td><td>male</td><td>⋯</td><td>OK</td><td>NA</td><td>1</td><td>NA</td><td>Tg(lck:EGFP)</td><td>NA</td><td>kidney</td><td></td><td>LCK_kidney_B2 </td><td>NA</td></tr>\n",
       "\t<tr><th scope=row>5</th><td>ERR2722972</td><td>Danio rerio</td><td>http://purl.obolibrary.org/obo/NCBITaxon_7955</td><td>AB</td><td>NA</td><td>6 month</td><td>NA</td><td>adult</td><td>http://www.ebi.ac.uk/efo/EFO_0001272</td><td>male</td><td>⋯</td><td>OK</td><td>NA</td><td>1</td><td>NA</td><td>Tg(lck:EGFP)</td><td>NA</td><td>kidney</td><td></td><td>LCK_kidney_C10</td><td>NA</td></tr>\n",
       "\t<tr><th scope=row>6</th><td>ERR2722973</td><td>Danio rerio</td><td>http://purl.obolibrary.org/obo/NCBITaxon_7955</td><td>AB</td><td>NA</td><td>6 month</td><td>NA</td><td>adult</td><td>http://www.ebi.ac.uk/efo/EFO_0001272</td><td>male</td><td>⋯</td><td>OK</td><td>NA</td><td>1</td><td>NA</td><td>Tg(lck:EGFP)</td><td>NA</td><td>kidney</td><td></td><td>LCK_kidney_C11</td><td>NA</td></tr>\n",
       "</tbody>\n",
       "</table>\n"
      ],
      "text/latex": [
       "A data.frame: 6 × 33\n",
       "\\begin{tabular}{r|lllllllllllllllllllll}\n",
       "  & Assay & Sample.Characteristic.organism. & Sample.Characteristic.Ontology.Term.organism. & Sample.Characteristic.strain. & Sample.Characteristic.Ontology.Term.strain. & Sample.Characteristic.age. & Sample.Characteristic.Ontology.Term.age. & Sample.Characteristic.developmental.stage. & Sample.Characteristic.Ontology.Term.developmental.stage. & Sample.Characteristic.sex. & ⋯ & Sample.Characteristic.single.cell.quality. & Sample.Characteristic.Ontology.Term.single.cell.quality. & Sample.Characteristic.cluster. & Sample.Characteristic.Ontology.Term.cluster. & Factor.Value.genotype. & Factor.Value.Ontology.Term.genotype. & Factor.Value.organism.part. & Factor.Value.Ontology.Term.organism.part. & Factor.Value.single.cell.identifier. & Factor.Value.Ontology.Term.single.cell.identifier.\\\\\n",
       "  & <chr> & <chr> & <chr> & <chr> & <lgl> & <chr> & <lgl> & <chr> & <chr> & <chr> & ⋯ & <chr> & <lgl> & <chr> & <lgl> & <chr> & <lgl> & <chr> & <chr> & <chr> & <lgl>\\\\\n",
       "\\hline\n",
       "\t1 & ERR2722968 & Danio rerio & http://purl.obolibrary.org/obo/NCBITaxon\\_7955 & AB & NA & 6 month & NA & adult & http://www.ebi.ac.uk/efo/EFO\\_0001272 & male & ⋯ & OK & NA & 1 & NA & Tg(lck:EGFP) & NA & kidney &  & LCK\\_kidney\\_A12 & NA\\\\\n",
       "\t2 & ERR2722969 & Danio rerio & http://purl.obolibrary.org/obo/NCBITaxon\\_7955 & AB & NA & 6 month & NA & adult & http://www.ebi.ac.uk/efo/EFO\\_0001272 & male & ⋯ & OK & NA & 1 & NA & Tg(lck:EGFP) & NA & kidney &  & LCK\\_kidney\\_A4  & NA\\\\\n",
       "\t3 & ERR2722970 & Danio rerio & http://purl.obolibrary.org/obo/NCBITaxon\\_7955 & AB & NA & 6 month & NA & adult & http://www.ebi.ac.uk/efo/EFO\\_0001272 & male & ⋯ & OK & NA & 1 & NA & Tg(lck:EGFP) & NA & kidney &  & LCK\\_kidney\\_B1  & NA\\\\\n",
       "\t4 & ERR2722971 & Danio rerio & http://purl.obolibrary.org/obo/NCBITaxon\\_7955 & AB & NA & 6 month & NA & adult & http://www.ebi.ac.uk/efo/EFO\\_0001272 & male & ⋯ & OK & NA & 1 & NA & Tg(lck:EGFP) & NA & kidney &  & LCK\\_kidney\\_B2  & NA\\\\\n",
       "\t5 & ERR2722972 & Danio rerio & http://purl.obolibrary.org/obo/NCBITaxon\\_7955 & AB & NA & 6 month & NA & adult & http://www.ebi.ac.uk/efo/EFO\\_0001272 & male & ⋯ & OK & NA & 1 & NA & Tg(lck:EGFP) & NA & kidney &  & LCK\\_kidney\\_C10 & NA\\\\\n",
       "\t6 & ERR2722973 & Danio rerio & http://purl.obolibrary.org/obo/NCBITaxon\\_7955 & AB & NA & 6 month & NA & adult & http://www.ebi.ac.uk/efo/EFO\\_0001272 & male & ⋯ & OK & NA & 1 & NA & Tg(lck:EGFP) & NA & kidney &  & LCK\\_kidney\\_C11 & NA\\\\\n",
       "\\end{tabular}\n"
      ],
      "text/markdown": [
       "\n",
       "A data.frame: 6 × 33\n",
       "\n",
       "| <!--/--> | Assay &lt;chr&gt; | Sample.Characteristic.organism. &lt;chr&gt; | Sample.Characteristic.Ontology.Term.organism. &lt;chr&gt; | Sample.Characteristic.strain. &lt;chr&gt; | Sample.Characteristic.Ontology.Term.strain. &lt;lgl&gt; | Sample.Characteristic.age. &lt;chr&gt; | Sample.Characteristic.Ontology.Term.age. &lt;lgl&gt; | Sample.Characteristic.developmental.stage. &lt;chr&gt; | Sample.Characteristic.Ontology.Term.developmental.stage. &lt;chr&gt; | Sample.Characteristic.sex. &lt;chr&gt; | ⋯ ⋯ | Sample.Characteristic.single.cell.quality. &lt;chr&gt; | Sample.Characteristic.Ontology.Term.single.cell.quality. &lt;lgl&gt; | Sample.Characteristic.cluster. &lt;chr&gt; | Sample.Characteristic.Ontology.Term.cluster. &lt;lgl&gt; | Factor.Value.genotype. &lt;chr&gt; | Factor.Value.Ontology.Term.genotype. &lt;lgl&gt; | Factor.Value.organism.part. &lt;chr&gt; | Factor.Value.Ontology.Term.organism.part. &lt;chr&gt; | Factor.Value.single.cell.identifier. &lt;chr&gt; | Factor.Value.Ontology.Term.single.cell.identifier. &lt;lgl&gt; |\n",
       "|---|---|---|---|---|---|---|---|---|---|---|---|---|---|---|---|---|---|---|---|---|---|\n",
       "| 1 | ERR2722968 | Danio rerio | http://purl.obolibrary.org/obo/NCBITaxon_7955 | AB | NA | 6 month | NA | adult | http://www.ebi.ac.uk/efo/EFO_0001272 | male | ⋯ | OK | NA | 1 | NA | Tg(lck:EGFP) | NA | kidney | <!----> | LCK_kidney_A12 | NA |\n",
       "| 2 | ERR2722969 | Danio rerio | http://purl.obolibrary.org/obo/NCBITaxon_7955 | AB | NA | 6 month | NA | adult | http://www.ebi.ac.uk/efo/EFO_0001272 | male | ⋯ | OK | NA | 1 | NA | Tg(lck:EGFP) | NA | kidney | <!----> | LCK_kidney_A4  | NA |\n",
       "| 3 | ERR2722970 | Danio rerio | http://purl.obolibrary.org/obo/NCBITaxon_7955 | AB | NA | 6 month | NA | adult | http://www.ebi.ac.uk/efo/EFO_0001272 | male | ⋯ | OK | NA | 1 | NA | Tg(lck:EGFP) | NA | kidney | <!----> | LCK_kidney_B1  | NA |\n",
       "| 4 | ERR2722971 | Danio rerio | http://purl.obolibrary.org/obo/NCBITaxon_7955 | AB | NA | 6 month | NA | adult | http://www.ebi.ac.uk/efo/EFO_0001272 | male | ⋯ | OK | NA | 1 | NA | Tg(lck:EGFP) | NA | kidney | <!----> | LCK_kidney_B2  | NA |\n",
       "| 5 | ERR2722972 | Danio rerio | http://purl.obolibrary.org/obo/NCBITaxon_7955 | AB | NA | 6 month | NA | adult | http://www.ebi.ac.uk/efo/EFO_0001272 | male | ⋯ | OK | NA | 1 | NA | Tg(lck:EGFP) | NA | kidney | <!----> | LCK_kidney_C10 | NA |\n",
       "| 6 | ERR2722973 | Danio rerio | http://purl.obolibrary.org/obo/NCBITaxon_7955 | AB | NA | 6 month | NA | adult | http://www.ebi.ac.uk/efo/EFO_0001272 | male | ⋯ | OK | NA | 1 | NA | Tg(lck:EGFP) | NA | kidney | <!----> | LCK_kidney_C11 | NA |\n",
       "\n"
      ],
      "text/plain": [
       "  Assay      Sample.Characteristic.organism.\n",
       "1 ERR2722968 Danio rerio                    \n",
       "2 ERR2722969 Danio rerio                    \n",
       "3 ERR2722970 Danio rerio                    \n",
       "4 ERR2722971 Danio rerio                    \n",
       "5 ERR2722972 Danio rerio                    \n",
       "6 ERR2722973 Danio rerio                    \n",
       "  Sample.Characteristic.Ontology.Term.organism. Sample.Characteristic.strain.\n",
       "1 http://purl.obolibrary.org/obo/NCBITaxon_7955 AB                           \n",
       "2 http://purl.obolibrary.org/obo/NCBITaxon_7955 AB                           \n",
       "3 http://purl.obolibrary.org/obo/NCBITaxon_7955 AB                           \n",
       "4 http://purl.obolibrary.org/obo/NCBITaxon_7955 AB                           \n",
       "5 http://purl.obolibrary.org/obo/NCBITaxon_7955 AB                           \n",
       "6 http://purl.obolibrary.org/obo/NCBITaxon_7955 AB                           \n",
       "  Sample.Characteristic.Ontology.Term.strain. Sample.Characteristic.age.\n",
       "1 NA                                          6 month                   \n",
       "2 NA                                          6 month                   \n",
       "3 NA                                          6 month                   \n",
       "4 NA                                          6 month                   \n",
       "5 NA                                          6 month                   \n",
       "6 NA                                          6 month                   \n",
       "  Sample.Characteristic.Ontology.Term.age.\n",
       "1 NA                                      \n",
       "2 NA                                      \n",
       "3 NA                                      \n",
       "4 NA                                      \n",
       "5 NA                                      \n",
       "6 NA                                      \n",
       "  Sample.Characteristic.developmental.stage.\n",
       "1 adult                                     \n",
       "2 adult                                     \n",
       "3 adult                                     \n",
       "4 adult                                     \n",
       "5 adult                                     \n",
       "6 adult                                     \n",
       "  Sample.Characteristic.Ontology.Term.developmental.stage.\n",
       "1 http://www.ebi.ac.uk/efo/EFO_0001272                    \n",
       "2 http://www.ebi.ac.uk/efo/EFO_0001272                    \n",
       "3 http://www.ebi.ac.uk/efo/EFO_0001272                    \n",
       "4 http://www.ebi.ac.uk/efo/EFO_0001272                    \n",
       "5 http://www.ebi.ac.uk/efo/EFO_0001272                    \n",
       "6 http://www.ebi.ac.uk/efo/EFO_0001272                    \n",
       "  Sample.Characteristic.sex. ⋯ Sample.Characteristic.single.cell.quality.\n",
       "1 male                       ⋯ OK                                        \n",
       "2 male                       ⋯ OK                                        \n",
       "3 male                       ⋯ OK                                        \n",
       "4 male                       ⋯ OK                                        \n",
       "5 male                       ⋯ OK                                        \n",
       "6 male                       ⋯ OK                                        \n",
       "  Sample.Characteristic.Ontology.Term.single.cell.quality.\n",
       "1 NA                                                      \n",
       "2 NA                                                      \n",
       "3 NA                                                      \n",
       "4 NA                                                      \n",
       "5 NA                                                      \n",
       "6 NA                                                      \n",
       "  Sample.Characteristic.cluster. Sample.Characteristic.Ontology.Term.cluster.\n",
       "1 1                              NA                                          \n",
       "2 1                              NA                                          \n",
       "3 1                              NA                                          \n",
       "4 1                              NA                                          \n",
       "5 1                              NA                                          \n",
       "6 1                              NA                                          \n",
       "  Factor.Value.genotype. Factor.Value.Ontology.Term.genotype.\n",
       "1 Tg(lck:EGFP)           NA                                  \n",
       "2 Tg(lck:EGFP)           NA                                  \n",
       "3 Tg(lck:EGFP)           NA                                  \n",
       "4 Tg(lck:EGFP)           NA                                  \n",
       "5 Tg(lck:EGFP)           NA                                  \n",
       "6 Tg(lck:EGFP)           NA                                  \n",
       "  Factor.Value.organism.part. Factor.Value.Ontology.Term.organism.part.\n",
       "1 kidney                                                               \n",
       "2 kidney                                                               \n",
       "3 kidney                                                               \n",
       "4 kidney                                                               \n",
       "5 kidney                                                               \n",
       "6 kidney                                                               \n",
       "  Factor.Value.single.cell.identifier.\n",
       "1 LCK_kidney_A12                      \n",
       "2 LCK_kidney_A4                       \n",
       "3 LCK_kidney_B1                       \n",
       "4 LCK_kidney_B2                       \n",
       "5 LCK_kidney_C10                      \n",
       "6 LCK_kidney_C11                      \n",
       "  Factor.Value.Ontology.Term.single.cell.identifier.\n",
       "1 NA                                                \n",
       "2 NA                                                \n",
       "3 NA                                                \n",
       "4 NA                                                \n",
       "5 NA                                                \n",
       "6 NA                                                "
      ]
     },
     "metadata": {},
     "output_type": "display_data"
    }
   ],
   "source": [
    "sample.data <- read.table(\"./localdata/ExpDesign-E-MTAB-7117.tsv\", sep='\\t', header=TRUE)\n",
    "head(sample.data)"
   ]
  },
  {
   "cell_type": "code",
   "execution_count": null,
   "id": "ab9feecf-d145-44ff-b6dc-997d53ab4d3e",
   "metadata": {},
   "outputs": [
    {
     "data": {
      "text/html": [
       "<style>\n",
       ".list-inline {list-style: none; margin:0; padding: 0}\n",
       ".list-inline>li {display: inline-block}\n",
       ".list-inline>li:not(:last-child)::after {content: \"\\00b7\"; padding: 0 .5ex}\n",
       "</style>\n",
       "<ol class=list-inline><li>'Assay'</li><li>'Sample.Characteristic.organism.'</li><li>'Sample.Characteristic.Ontology.Term.organism.'</li><li>'Sample.Characteristic.strain.'</li><li>'Sample.Characteristic.Ontology.Term.strain.'</li><li>'Sample.Characteristic.age.'</li><li>'Sample.Characteristic.Ontology.Term.age.'</li><li>'Sample.Characteristic.developmental.stage.'</li><li>'Sample.Characteristic.Ontology.Term.developmental.stage.'</li><li>'Sample.Characteristic.sex.'</li><li>'Sample.Characteristic.Ontology.Term.sex.'</li><li>'Sample.Characteristic.genotype.'</li><li>'Sample.Characteristic.Ontology.Term.genotype.'</li><li>'Sample.Characteristic.organism.part.'</li><li>'Sample.Characteristic.Ontology.Term.organism.part.'</li><li>'Sample.Characteristic.cell.type.'</li><li>'Sample.Characteristic.Ontology.Term.cell.type.'</li><li>'Sample.Characteristic.phenotype.'</li><li>'Sample.Characteristic.Ontology.Term.phenotype.'</li><li>'Sample.Characteristic.individual.'</li><li>'Sample.Characteristic.Ontology.Term.individual.'</li><li>'Sample.Characteristic.well.information.'</li><li>'Sample.Characteristic.Ontology.Term.well.information.'</li><li>'Sample.Characteristic.single.cell.quality.'</li><li>'Sample.Characteristic.Ontology.Term.single.cell.quality.'</li><li>'Sample.Characteristic.cluster.'</li><li>'Sample.Characteristic.Ontology.Term.cluster.'</li><li>'Factor.Value.genotype.'</li><li>'Factor.Value.Ontology.Term.genotype.'</li><li>'Factor.Value.organism.part.'</li><li>'Factor.Value.Ontology.Term.organism.part.'</li><li>'Factor.Value.single.cell.identifier.'</li><li>'Factor.Value.Ontology.Term.single.cell.identifier.'</li></ol>\n"
      ],
      "text/latex": [
       "\\begin{enumerate*}\n",
       "\\item 'Assay'\n",
       "\\item 'Sample.Characteristic.organism.'\n",
       "\\item 'Sample.Characteristic.Ontology.Term.organism.'\n",
       "\\item 'Sample.Characteristic.strain.'\n",
       "\\item 'Sample.Characteristic.Ontology.Term.strain.'\n",
       "\\item 'Sample.Characteristic.age.'\n",
       "\\item 'Sample.Characteristic.Ontology.Term.age.'\n",
       "\\item 'Sample.Characteristic.developmental.stage.'\n",
       "\\item 'Sample.Characteristic.Ontology.Term.developmental.stage.'\n",
       "\\item 'Sample.Characteristic.sex.'\n",
       "\\item 'Sample.Characteristic.Ontology.Term.sex.'\n",
       "\\item 'Sample.Characteristic.genotype.'\n",
       "\\item 'Sample.Characteristic.Ontology.Term.genotype.'\n",
       "\\item 'Sample.Characteristic.organism.part.'\n",
       "\\item 'Sample.Characteristic.Ontology.Term.organism.part.'\n",
       "\\item 'Sample.Characteristic.cell.type.'\n",
       "\\item 'Sample.Characteristic.Ontology.Term.cell.type.'\n",
       "\\item 'Sample.Characteristic.phenotype.'\n",
       "\\item 'Sample.Characteristic.Ontology.Term.phenotype.'\n",
       "\\item 'Sample.Characteristic.individual.'\n",
       "\\item 'Sample.Characteristic.Ontology.Term.individual.'\n",
       "\\item 'Sample.Characteristic.well.information.'\n",
       "\\item 'Sample.Characteristic.Ontology.Term.well.information.'\n",
       "\\item 'Sample.Characteristic.single.cell.quality.'\n",
       "\\item 'Sample.Characteristic.Ontology.Term.single.cell.quality.'\n",
       "\\item 'Sample.Characteristic.cluster.'\n",
       "\\item 'Sample.Characteristic.Ontology.Term.cluster.'\n",
       "\\item 'Factor.Value.genotype.'\n",
       "\\item 'Factor.Value.Ontology.Term.genotype.'\n",
       "\\item 'Factor.Value.organism.part.'\n",
       "\\item 'Factor.Value.Ontology.Term.organism.part.'\n",
       "\\item 'Factor.Value.single.cell.identifier.'\n",
       "\\item 'Factor.Value.Ontology.Term.single.cell.identifier.'\n",
       "\\end{enumerate*}\n"
      ],
      "text/markdown": [
       "1. 'Assay'\n",
       "2. 'Sample.Characteristic.organism.'\n",
       "3. 'Sample.Characteristic.Ontology.Term.organism.'\n",
       "4. 'Sample.Characteristic.strain.'\n",
       "5. 'Sample.Characteristic.Ontology.Term.strain.'\n",
       "6. 'Sample.Characteristic.age.'\n",
       "7. 'Sample.Characteristic.Ontology.Term.age.'\n",
       "8. 'Sample.Characteristic.developmental.stage.'\n",
       "9. 'Sample.Characteristic.Ontology.Term.developmental.stage.'\n",
       "10. 'Sample.Characteristic.sex.'\n",
       "11. 'Sample.Characteristic.Ontology.Term.sex.'\n",
       "12. 'Sample.Characteristic.genotype.'\n",
       "13. 'Sample.Characteristic.Ontology.Term.genotype.'\n",
       "14. 'Sample.Characteristic.organism.part.'\n",
       "15. 'Sample.Characteristic.Ontology.Term.organism.part.'\n",
       "16. 'Sample.Characteristic.cell.type.'\n",
       "17. 'Sample.Characteristic.Ontology.Term.cell.type.'\n",
       "18. 'Sample.Characteristic.phenotype.'\n",
       "19. 'Sample.Characteristic.Ontology.Term.phenotype.'\n",
       "20. 'Sample.Characteristic.individual.'\n",
       "21. 'Sample.Characteristic.Ontology.Term.individual.'\n",
       "22. 'Sample.Characteristic.well.information.'\n",
       "23. 'Sample.Characteristic.Ontology.Term.well.information.'\n",
       "24. 'Sample.Characteristic.single.cell.quality.'\n",
       "25. 'Sample.Characteristic.Ontology.Term.single.cell.quality.'\n",
       "26. 'Sample.Characteristic.cluster.'\n",
       "27. 'Sample.Characteristic.Ontology.Term.cluster.'\n",
       "28. 'Factor.Value.genotype.'\n",
       "29. 'Factor.Value.Ontology.Term.genotype.'\n",
       "30. 'Factor.Value.organism.part.'\n",
       "31. 'Factor.Value.Ontology.Term.organism.part.'\n",
       "32. 'Factor.Value.single.cell.identifier.'\n",
       "33. 'Factor.Value.Ontology.Term.single.cell.identifier.'\n",
       "\n",
       "\n"
      ],
      "text/plain": [
       " [1] \"Assay\"                                                   \n",
       " [2] \"Sample.Characteristic.organism.\"                         \n",
       " [3] \"Sample.Characteristic.Ontology.Term.organism.\"           \n",
       " [4] \"Sample.Characteristic.strain.\"                           \n",
       " [5] \"Sample.Characteristic.Ontology.Term.strain.\"             \n",
       " [6] \"Sample.Characteristic.age.\"                              \n",
       " [7] \"Sample.Characteristic.Ontology.Term.age.\"                \n",
       " [8] \"Sample.Characteristic.developmental.stage.\"              \n",
       " [9] \"Sample.Characteristic.Ontology.Term.developmental.stage.\"\n",
       "[10] \"Sample.Characteristic.sex.\"                              \n",
       "[11] \"Sample.Characteristic.Ontology.Term.sex.\"                \n",
       "[12] \"Sample.Characteristic.genotype.\"                         \n",
       "[13] \"Sample.Characteristic.Ontology.Term.genotype.\"           \n",
       "[14] \"Sample.Characteristic.organism.part.\"                    \n",
       "[15] \"Sample.Characteristic.Ontology.Term.organism.part.\"      \n",
       "[16] \"Sample.Characteristic.cell.type.\"                        \n",
       "[17] \"Sample.Characteristic.Ontology.Term.cell.type.\"          \n",
       "[18] \"Sample.Characteristic.phenotype.\"                        \n",
       "[19] \"Sample.Characteristic.Ontology.Term.phenotype.\"          \n",
       "[20] \"Sample.Characteristic.individual.\"                       \n",
       "[21] \"Sample.Characteristic.Ontology.Term.individual.\"         \n",
       "[22] \"Sample.Characteristic.well.information.\"                 \n",
       "[23] \"Sample.Characteristic.Ontology.Term.well.information.\"   \n",
       "[24] \"Sample.Characteristic.single.cell.quality.\"              \n",
       "[25] \"Sample.Characteristic.Ontology.Term.single.cell.quality.\"\n",
       "[26] \"Sample.Characteristic.cluster.\"                          \n",
       "[27] \"Sample.Characteristic.Ontology.Term.cluster.\"            \n",
       "[28] \"Factor.Value.genotype.\"                                  \n",
       "[29] \"Factor.Value.Ontology.Term.genotype.\"                    \n",
       "[30] \"Factor.Value.organism.part.\"                             \n",
       "[31] \"Factor.Value.Ontology.Term.organism.part.\"               \n",
       "[32] \"Factor.Value.single.cell.identifier.\"                    \n",
       "[33] \"Factor.Value.Ontology.Term.single.cell.identifier.\"      "
      ]
     },
     "metadata": {},
     "output_type": "display_data"
    }
   ],
   "source": [
    "#| echo: false\n",
    "#| output: false\n",
    "colnames(sample.data)"
   ]
  },
  {
   "cell_type": "code",
   "execution_count": null,
   "id": "ee95aec4-08b2-4130-92cc-7f289343f34b",
   "metadata": {},
   "outputs": [
    {
     "data": {
      "text/html": [
       "<style>\n",
       ".list-inline {list-style: none; margin:0; padding: 0}\n",
       ".list-inline>li {display: inline-block}\n",
       ".list-inline>li:not(:last-child)::after {content: \"\\00b7\"; padding: 0 .5ex}\n",
       "</style>\n",
       "<ol class=list-inline><li>1056</li><li>33</li></ol>\n"
      ],
      "text/latex": [
       "\\begin{enumerate*}\n",
       "\\item 1056\n",
       "\\item 33\n",
       "\\end{enumerate*}\n"
      ],
      "text/markdown": [
       "1. 1056\n",
       "2. 33\n",
       "\n",
       "\n"
      ],
      "text/plain": [
       "[1] 1056   33"
      ]
     },
     "metadata": {},
     "output_type": "display_data"
    }
   ],
   "source": [
    "dim(sample.data)"
   ]
  },
  {
   "cell_type": "code",
   "execution_count": null,
   "id": "7b709915-ad80-4628-a739-a28c7926dd4c",
   "metadata": {},
   "outputs": [
    {
     "data": {
      "text/html": [
       "<style>\n",
       ".list-inline {list-style: none; margin:0; padding: 0}\n",
       ".list-inline>li {display: inline-block}\n",
       ".list-inline>li:not(:last-child)::after {content: \"\\00b7\"; padding: 0 .5ex}\n",
       "</style>\n",
       "<ol class=list-inline><li>976</li><li>33</li></ol>\n"
      ],
      "text/latex": [
       "\\begin{enumerate*}\n",
       "\\item 976\n",
       "\\item 33\n",
       "\\end{enumerate*}\n"
      ],
      "text/markdown": [
       "1. 976\n",
       "2. 33\n",
       "\n",
       "\n"
      ],
      "text/plain": [
       "[1] 976  33"
      ]
     },
     "metadata": {},
     "output_type": "display_data"
    }
   ],
   "source": [
    "dim(sample.data[which(\n",
    "    sample.data['Sample.Characteristic.single.cell.quality.'] == \"OK\"\n",
    "    & sample.data['Sample.Characteristic.well.information.'] == \"single cell\"\n",
    "),])"
   ]
  },
  {
   "cell_type": "code",
   "execution_count": null,
   "id": "ed8f8dae-5dcb-4f55-87c0-08887d934429",
   "metadata": {},
   "outputs": [],
   "source": [
    "filtered <- sample.data[which(\n",
    "    sample.data['Sample.Characteristic.cluster.'] != \"unknown\"\n",
    "),]"
   ]
  },
  {
   "cell_type": "code",
   "execution_count": null,
   "id": "495ef135-1b62-4b01-b5c8-49933c65d494",
   "metadata": {},
   "outputs": [
    {
     "data": {
      "text/html": [
       "<style>\n",
       ".list-inline {list-style: none; margin:0; padding: 0}\n",
       ".list-inline>li {display: inline-block}\n",
       ".list-inline>li:not(:last-child)::after {content: \"\\00b7\"; padding: 0 .5ex}\n",
       "</style>\n",
       "<ol class=list-inline><li>542</li><li>33</li></ol>\n"
      ],
      "text/latex": [
       "\\begin{enumerate*}\n",
       "\\item 542\n",
       "\\item 33\n",
       "\\end{enumerate*}\n"
      ],
      "text/markdown": [
       "1. 542\n",
       "2. 33\n",
       "\n",
       "\n"
      ],
      "text/plain": [
       "[1] 542  33"
      ]
     },
     "metadata": {},
     "output_type": "display_data"
    }
   ],
   "source": [
    "dim(filtered)"
   ]
  },
  {
   "cell_type": "markdown",
   "id": "9d4b3b29-ee2a-474c-8f8b-1e364758b4a1",
   "metadata": {},
   "source": [
    "The mystery keeps compounding!  For some reason, we start with 90 extra rows (cells) in this dataset!  We can filter out the obviously bad entries, but we still have 10 extra rows.  There's a field \"cluster\" which we can use to get the post-filtered value of 542, although I'm fairly certain that these clusters were created after the analysis rather than as part of the data creation, hence why there's only 542."
   ]
  },
  {
   "cell_type": "markdown",
   "id": "613e7ab2-f577-4e61-8f6d-c76234b7fc92",
   "metadata": {},
   "source": [
    "Since we know the names of all 'names' of all the samples in our experiment design table, we can compare this with the list of row names for our gene count matrix to hopefully shed some light on what's going wrong:"
   ]
  },
  {
   "cell_type": "code",
   "execution_count": null,
   "id": "de312cce-6718-4011-a715-a5b8d8255b5e",
   "metadata": {},
   "outputs": [],
   "source": [
    "# Grab the lists of genes in the experiment\n",
    "# and in the gene counts, for comparison\n",
    "experiment.assays <- sample.data$Assay\n",
    "gene.assays <- read.table(\n",
    "    './localdata/E-MTAB-7117.aggregated_filtered_counts.mtx_cols'\n",
    ")$V1"
   ]
  },
  {
   "cell_type": "code",
   "execution_count": null,
   "id": "3173b495-779e-4be1-ba72-1fdbe5659232",
   "metadata": {},
   "outputs": [
    {
     "data": {
      "text/html": [
       "90"
      ],
      "text/latex": [
       "90"
      ],
      "text/markdown": [
       "90"
      ],
      "text/plain": [
       "[1] 90"
      ]
     },
     "metadata": {},
     "output_type": "display_data"
    }
   ],
   "source": [
    "# Get the list of genes that appear in the experiment data\n",
    "# but not the gene counts\n",
    "discrepancies <- setdiff(experiment.assays, gene.assays)\n",
    "length(discrepancies)"
   ]
  },
  {
   "cell_type": "code",
   "execution_count": null,
   "id": "2c696da6-49bb-48ed-aa52-68072a84d67e",
   "metadata": {},
   "outputs": [],
   "source": [
    "# Now get the experiment info of the 10 of these cells that\n",
    "# aren't filtered out by our previous filtering method\n",
    "extra.cells <- sample.data[\n",
    "    which(sapply(experiment.assays, `%in%`, discrepancies)),\n",
    "]\n",
    "extra.cells <- extra.cells[\n",
    "    which(\n",
    "        extra.cells['Sample.Characteristic.single.cell.quality.'] == \"OK\"\n",
    "    ),\n",
    "]"
   ]
  },
  {
   "cell_type": "code",
   "execution_count": null,
   "id": "dd32eb26-16c8-408a-b9d9-5c87b99501ab",
   "metadata": {},
   "outputs": [
    {
     "data": {
      "text/html": [
       "<table class=\"dataframe\">\n",
       "<caption>A data.frame: 10 × 10</caption>\n",
       "<thead>\n",
       "\t<tr><th></th><th scope=col>Assay</th><th scope=col>Sample.Characteristic.organism.</th><th scope=col>Sample.Characteristic.Ontology.Term.organism.</th><th scope=col>Sample.Characteristic.strain.</th><th scope=col>Sample.Characteristic.Ontology.Term.strain.</th><th scope=col>Sample.Characteristic.age.</th><th scope=col>Sample.Characteristic.Ontology.Term.age.</th><th scope=col>Sample.Characteristic.developmental.stage.</th><th scope=col>Sample.Characteristic.Ontology.Term.developmental.stage.</th><th scope=col>Sample.Characteristic.sex.</th></tr>\n",
       "\t<tr><th></th><th scope=col>&lt;chr&gt;</th><th scope=col>&lt;chr&gt;</th><th scope=col>&lt;chr&gt;</th><th scope=col>&lt;chr&gt;</th><th scope=col>&lt;lgl&gt;</th><th scope=col>&lt;chr&gt;</th><th scope=col>&lt;lgl&gt;</th><th scope=col>&lt;chr&gt;</th><th scope=col>&lt;chr&gt;</th><th scope=col>&lt;chr&gt;</th></tr>\n",
       "</thead>\n",
       "<tbody>\n",
       "\t<tr><th scope=row>250</th><td>ERR2723217</td><td>Danio rerio</td><td>http://purl.obolibrary.org/obo/NCBITaxon_7955</td><td>AB</td><td>NA</td><td>6 month </td><td>NA</td><td>adult</td><td>http://www.ebi.ac.uk/efo/EFO_0001272</td><td>male  </td></tr>\n",
       "\t<tr><th scope=row>251</th><td>ERR2723218</td><td>Danio rerio</td><td>http://purl.obolibrary.org/obo/NCBITaxon_7955</td><td>AB</td><td>NA</td><td>6 month </td><td>NA</td><td>adult</td><td>http://www.ebi.ac.uk/efo/EFO_0001272</td><td>male  </td></tr>\n",
       "\t<tr><th scope=row>269</th><td>ERR2723236</td><td>Danio rerio</td><td>http://purl.obolibrary.org/obo/NCBITaxon_7955</td><td>AB</td><td>NA</td><td>6 month </td><td>NA</td><td>adult</td><td>http://www.ebi.ac.uk/efo/EFO_0001272</td><td>male  </td></tr>\n",
       "\t<tr><th scope=row>270</th><td>ERR2723237</td><td>Danio rerio</td><td>http://purl.obolibrary.org/obo/NCBITaxon_7955</td><td>AB</td><td>NA</td><td>6 month </td><td>NA</td><td>adult</td><td>http://www.ebi.ac.uk/efo/EFO_0001272</td><td>male  </td></tr>\n",
       "\t<tr><th scope=row>584</th><td>ERR2723551</td><td>Danio rerio</td><td>http://purl.obolibrary.org/obo/NCBITaxon_7955</td><td>AB</td><td>NA</td><td>6 month </td><td>NA</td><td>adult</td><td>http://www.ebi.ac.uk/efo/EFO_0001272</td><td>male  </td></tr>\n",
       "\t<tr><th scope=row>611</th><td>ERR2723578</td><td>Danio rerio</td><td>http://purl.obolibrary.org/obo/NCBITaxon_7955</td><td>AB</td><td>NA</td><td>6 month </td><td>NA</td><td>adult</td><td>http://www.ebi.ac.uk/efo/EFO_0001272</td><td>male  </td></tr>\n",
       "\t<tr><th scope=row>822</th><td>ERR2723789</td><td>Danio rerio</td><td>http://purl.obolibrary.org/obo/NCBITaxon_7955</td><td>AB</td><td>NA</td><td>10 month</td><td>NA</td><td>adult</td><td>http://www.ebi.ac.uk/efo/EFO_0001272</td><td>female</td></tr>\n",
       "\t<tr><th scope=row>827</th><td>ERR2723794</td><td>Danio rerio</td><td>http://purl.obolibrary.org/obo/NCBITaxon_7955</td><td>AB</td><td>NA</td><td>10 month</td><td>NA</td><td>adult</td><td>http://www.ebi.ac.uk/efo/EFO_0001272</td><td>female</td></tr>\n",
       "\t<tr><th scope=row>1007</th><td>ERR2723974</td><td>Danio rerio</td><td>http://purl.obolibrary.org/obo/NCBITaxon_7955</td><td>AB</td><td>NA</td><td>4 month </td><td>NA</td><td>adult</td><td>http://www.ebi.ac.uk/efo/EFO_0001272</td><td>female</td></tr>\n",
       "\t<tr><th scope=row>1023</th><td>ERR2723990</td><td>Danio rerio</td><td>http://purl.obolibrary.org/obo/NCBITaxon_7955</td><td>AB</td><td>NA</td><td>6 month </td><td>NA</td><td>adult</td><td>http://www.ebi.ac.uk/efo/EFO_0001272</td><td>male  </td></tr>\n",
       "</tbody>\n",
       "</table>\n"
      ],
      "text/latex": [
       "A data.frame: 10 × 10\n",
       "\\begin{tabular}{r|llllllllll}\n",
       "  & Assay & Sample.Characteristic.organism. & Sample.Characteristic.Ontology.Term.organism. & Sample.Characteristic.strain. & Sample.Characteristic.Ontology.Term.strain. & Sample.Characteristic.age. & Sample.Characteristic.Ontology.Term.age. & Sample.Characteristic.developmental.stage. & Sample.Characteristic.Ontology.Term.developmental.stage. & Sample.Characteristic.sex.\\\\\n",
       "  & <chr> & <chr> & <chr> & <chr> & <lgl> & <chr> & <lgl> & <chr> & <chr> & <chr>\\\\\n",
       "\\hline\n",
       "\t250 & ERR2723217 & Danio rerio & http://purl.obolibrary.org/obo/NCBITaxon\\_7955 & AB & NA & 6 month  & NA & adult & http://www.ebi.ac.uk/efo/EFO\\_0001272 & male  \\\\\n",
       "\t251 & ERR2723218 & Danio rerio & http://purl.obolibrary.org/obo/NCBITaxon\\_7955 & AB & NA & 6 month  & NA & adult & http://www.ebi.ac.uk/efo/EFO\\_0001272 & male  \\\\\n",
       "\t269 & ERR2723236 & Danio rerio & http://purl.obolibrary.org/obo/NCBITaxon\\_7955 & AB & NA & 6 month  & NA & adult & http://www.ebi.ac.uk/efo/EFO\\_0001272 & male  \\\\\n",
       "\t270 & ERR2723237 & Danio rerio & http://purl.obolibrary.org/obo/NCBITaxon\\_7955 & AB & NA & 6 month  & NA & adult & http://www.ebi.ac.uk/efo/EFO\\_0001272 & male  \\\\\n",
       "\t584 & ERR2723551 & Danio rerio & http://purl.obolibrary.org/obo/NCBITaxon\\_7955 & AB & NA & 6 month  & NA & adult & http://www.ebi.ac.uk/efo/EFO\\_0001272 & male  \\\\\n",
       "\t611 & ERR2723578 & Danio rerio & http://purl.obolibrary.org/obo/NCBITaxon\\_7955 & AB & NA & 6 month  & NA & adult & http://www.ebi.ac.uk/efo/EFO\\_0001272 & male  \\\\\n",
       "\t822 & ERR2723789 & Danio rerio & http://purl.obolibrary.org/obo/NCBITaxon\\_7955 & AB & NA & 10 month & NA & adult & http://www.ebi.ac.uk/efo/EFO\\_0001272 & female\\\\\n",
       "\t827 & ERR2723794 & Danio rerio & http://purl.obolibrary.org/obo/NCBITaxon\\_7955 & AB & NA & 10 month & NA & adult & http://www.ebi.ac.uk/efo/EFO\\_0001272 & female\\\\\n",
       "\t1007 & ERR2723974 & Danio rerio & http://purl.obolibrary.org/obo/NCBITaxon\\_7955 & AB & NA & 4 month  & NA & adult & http://www.ebi.ac.uk/efo/EFO\\_0001272 & female\\\\\n",
       "\t1023 & ERR2723990 & Danio rerio & http://purl.obolibrary.org/obo/NCBITaxon\\_7955 & AB & NA & 6 month  & NA & adult & http://www.ebi.ac.uk/efo/EFO\\_0001272 & male  \\\\\n",
       "\\end{tabular}\n"
      ],
      "text/markdown": [
       "\n",
       "A data.frame: 10 × 10\n",
       "\n",
       "| <!--/--> | Assay &lt;chr&gt; | Sample.Characteristic.organism. &lt;chr&gt; | Sample.Characteristic.Ontology.Term.organism. &lt;chr&gt; | Sample.Characteristic.strain. &lt;chr&gt; | Sample.Characteristic.Ontology.Term.strain. &lt;lgl&gt; | Sample.Characteristic.age. &lt;chr&gt; | Sample.Characteristic.Ontology.Term.age. &lt;lgl&gt; | Sample.Characteristic.developmental.stage. &lt;chr&gt; | Sample.Characteristic.Ontology.Term.developmental.stage. &lt;chr&gt; | Sample.Characteristic.sex. &lt;chr&gt; |\n",
       "|---|---|---|---|---|---|---|---|---|---|---|\n",
       "| 250 | ERR2723217 | Danio rerio | http://purl.obolibrary.org/obo/NCBITaxon_7955 | AB | NA | 6 month  | NA | adult | http://www.ebi.ac.uk/efo/EFO_0001272 | male   |\n",
       "| 251 | ERR2723218 | Danio rerio | http://purl.obolibrary.org/obo/NCBITaxon_7955 | AB | NA | 6 month  | NA | adult | http://www.ebi.ac.uk/efo/EFO_0001272 | male   |\n",
       "| 269 | ERR2723236 | Danio rerio | http://purl.obolibrary.org/obo/NCBITaxon_7955 | AB | NA | 6 month  | NA | adult | http://www.ebi.ac.uk/efo/EFO_0001272 | male   |\n",
       "| 270 | ERR2723237 | Danio rerio | http://purl.obolibrary.org/obo/NCBITaxon_7955 | AB | NA | 6 month  | NA | adult | http://www.ebi.ac.uk/efo/EFO_0001272 | male   |\n",
       "| 584 | ERR2723551 | Danio rerio | http://purl.obolibrary.org/obo/NCBITaxon_7955 | AB | NA | 6 month  | NA | adult | http://www.ebi.ac.uk/efo/EFO_0001272 | male   |\n",
       "| 611 | ERR2723578 | Danio rerio | http://purl.obolibrary.org/obo/NCBITaxon_7955 | AB | NA | 6 month  | NA | adult | http://www.ebi.ac.uk/efo/EFO_0001272 | male   |\n",
       "| 822 | ERR2723789 | Danio rerio | http://purl.obolibrary.org/obo/NCBITaxon_7955 | AB | NA | 10 month | NA | adult | http://www.ebi.ac.uk/efo/EFO_0001272 | female |\n",
       "| 827 | ERR2723794 | Danio rerio | http://purl.obolibrary.org/obo/NCBITaxon_7955 | AB | NA | 10 month | NA | adult | http://www.ebi.ac.uk/efo/EFO_0001272 | female |\n",
       "| 1007 | ERR2723974 | Danio rerio | http://purl.obolibrary.org/obo/NCBITaxon_7955 | AB | NA | 4 month  | NA | adult | http://www.ebi.ac.uk/efo/EFO_0001272 | female |\n",
       "| 1023 | ERR2723990 | Danio rerio | http://purl.obolibrary.org/obo/NCBITaxon_7955 | AB | NA | 6 month  | NA | adult | http://www.ebi.ac.uk/efo/EFO_0001272 | male   |\n",
       "\n"
      ],
      "text/plain": [
       "     Assay      Sample.Characteristic.organism.\n",
       "250  ERR2723217 Danio rerio                    \n",
       "251  ERR2723218 Danio rerio                    \n",
       "269  ERR2723236 Danio rerio                    \n",
       "270  ERR2723237 Danio rerio                    \n",
       "584  ERR2723551 Danio rerio                    \n",
       "611  ERR2723578 Danio rerio                    \n",
       "822  ERR2723789 Danio rerio                    \n",
       "827  ERR2723794 Danio rerio                    \n",
       "1007 ERR2723974 Danio rerio                    \n",
       "1023 ERR2723990 Danio rerio                    \n",
       "     Sample.Characteristic.Ontology.Term.organism.\n",
       "250  http://purl.obolibrary.org/obo/NCBITaxon_7955\n",
       "251  http://purl.obolibrary.org/obo/NCBITaxon_7955\n",
       "269  http://purl.obolibrary.org/obo/NCBITaxon_7955\n",
       "270  http://purl.obolibrary.org/obo/NCBITaxon_7955\n",
       "584  http://purl.obolibrary.org/obo/NCBITaxon_7955\n",
       "611  http://purl.obolibrary.org/obo/NCBITaxon_7955\n",
       "822  http://purl.obolibrary.org/obo/NCBITaxon_7955\n",
       "827  http://purl.obolibrary.org/obo/NCBITaxon_7955\n",
       "1007 http://purl.obolibrary.org/obo/NCBITaxon_7955\n",
       "1023 http://purl.obolibrary.org/obo/NCBITaxon_7955\n",
       "     Sample.Characteristic.strain. Sample.Characteristic.Ontology.Term.strain.\n",
       "250  AB                            NA                                         \n",
       "251  AB                            NA                                         \n",
       "269  AB                            NA                                         \n",
       "270  AB                            NA                                         \n",
       "584  AB                            NA                                         \n",
       "611  AB                            NA                                         \n",
       "822  AB                            NA                                         \n",
       "827  AB                            NA                                         \n",
       "1007 AB                            NA                                         \n",
       "1023 AB                            NA                                         \n",
       "     Sample.Characteristic.age. Sample.Characteristic.Ontology.Term.age.\n",
       "250  6 month                    NA                                      \n",
       "251  6 month                    NA                                      \n",
       "269  6 month                    NA                                      \n",
       "270  6 month                    NA                                      \n",
       "584  6 month                    NA                                      \n",
       "611  6 month                    NA                                      \n",
       "822  10 month                   NA                                      \n",
       "827  10 month                   NA                                      \n",
       "1007 4 month                    NA                                      \n",
       "1023 6 month                    NA                                      \n",
       "     Sample.Characteristic.developmental.stage.\n",
       "250  adult                                     \n",
       "251  adult                                     \n",
       "269  adult                                     \n",
       "270  adult                                     \n",
       "584  adult                                     \n",
       "611  adult                                     \n",
       "822  adult                                     \n",
       "827  adult                                     \n",
       "1007 adult                                     \n",
       "1023 adult                                     \n",
       "     Sample.Characteristic.Ontology.Term.developmental.stage.\n",
       "250  http://www.ebi.ac.uk/efo/EFO_0001272                    \n",
       "251  http://www.ebi.ac.uk/efo/EFO_0001272                    \n",
       "269  http://www.ebi.ac.uk/efo/EFO_0001272                    \n",
       "270  http://www.ebi.ac.uk/efo/EFO_0001272                    \n",
       "584  http://www.ebi.ac.uk/efo/EFO_0001272                    \n",
       "611  http://www.ebi.ac.uk/efo/EFO_0001272                    \n",
       "822  http://www.ebi.ac.uk/efo/EFO_0001272                    \n",
       "827  http://www.ebi.ac.uk/efo/EFO_0001272                    \n",
       "1007 http://www.ebi.ac.uk/efo/EFO_0001272                    \n",
       "1023 http://www.ebi.ac.uk/efo/EFO_0001272                    \n",
       "     Sample.Characteristic.sex.\n",
       "250  male                      \n",
       "251  male                      \n",
       "269  male                      \n",
       "270  male                      \n",
       "584  male                      \n",
       "611  male                      \n",
       "822  female                    \n",
       "827  female                    \n",
       "1007 female                    \n",
       "1023 male                      "
      ]
     },
     "metadata": {},
     "output_type": "display_data"
    },
    {
     "data": {
      "text/html": [
       "<table class=\"dataframe\">\n",
       "<caption>A data.frame: 10 × 10</caption>\n",
       "<thead>\n",
       "\t<tr><th></th><th scope=col>Sample.Characteristic.Ontology.Term.sex.</th><th scope=col>Sample.Characteristic.genotype.</th><th scope=col>Sample.Characteristic.Ontology.Term.genotype.</th><th scope=col>Sample.Characteristic.organism.part.</th><th scope=col>Sample.Characteristic.Ontology.Term.organism.part.</th><th scope=col>Sample.Characteristic.cell.type.</th><th scope=col>Sample.Characteristic.Ontology.Term.cell.type.</th><th scope=col>Sample.Characteristic.phenotype.</th><th scope=col>Sample.Characteristic.Ontology.Term.phenotype.</th><th scope=col>Sample.Characteristic.individual.</th></tr>\n",
       "\t<tr><th></th><th scope=col>&lt;chr&gt;</th><th scope=col>&lt;chr&gt;</th><th scope=col>&lt;lgl&gt;</th><th scope=col>&lt;chr&gt;</th><th scope=col>&lt;chr&gt;</th><th scope=col>&lt;chr&gt;</th><th scope=col>&lt;chr&gt;</th><th scope=col>&lt;chr&gt;</th><th scope=col>&lt;lgl&gt;</th><th scope=col>&lt;int&gt;</th></tr>\n",
       "</thead>\n",
       "<tbody>\n",
       "\t<tr><th scope=row>250</th><td>http://purl.obolibrary.org/obo/PATO_0000384</td><td>Tg(lck:EGFP)               </td><td>NA</td><td>gut   </td><td>http://purl.obolibrary.org/obo/UBERON_0001007</td><td>blood cell</td><td>http://purl.obolibrary.org/obo/CL_0000081</td><td>EGFP positive cell         </td><td>NA</td><td>1</td></tr>\n",
       "\t<tr><th scope=row>251</th><td>http://purl.obolibrary.org/obo/PATO_0000384</td><td>Tg(lck:EGFP)               </td><td>NA</td><td>gut   </td><td>http://purl.obolibrary.org/obo/UBERON_0001007</td><td>blood cell</td><td>http://purl.obolibrary.org/obo/CL_0000081</td><td>EGFP positive cell         </td><td>NA</td><td>1</td></tr>\n",
       "\t<tr><th scope=row>269</th><td>http://purl.obolibrary.org/obo/PATO_0000384</td><td>Tg(lck:EGFP)               </td><td>NA</td><td>thymus</td><td>                                             </td><td>blood cell</td><td>http://purl.obolibrary.org/obo/CL_0000081</td><td>EGFP positive cell         </td><td>NA</td><td>1</td></tr>\n",
       "\t<tr><th scope=row>270</th><td>http://purl.obolibrary.org/obo/PATO_0000384</td><td>Tg(lck:EGFP)               </td><td>NA</td><td>thymus</td><td>                                             </td><td>blood cell</td><td>http://purl.obolibrary.org/obo/CL_0000081</td><td>EGFP positive cell         </td><td>NA</td><td>1</td></tr>\n",
       "\t<tr><th scope=row>584</th><td>http://purl.obolibrary.org/obo/PATO_0000384</td><td>Tg(cd4-1:mCherry)          </td><td>NA</td><td>gut   </td><td>http://purl.obolibrary.org/obo/UBERON_0001007</td><td>blood cell</td><td>http://purl.obolibrary.org/obo/CL_0000081</td><td>mCherry positive cell      </td><td>NA</td><td>2</td></tr>\n",
       "\t<tr><th scope=row>611</th><td>http://purl.obolibrary.org/obo/PATO_0000384</td><td>Tg(cd4-1:mCherry)          </td><td>NA</td><td>kidney</td><td>                                             </td><td>blood cell</td><td>http://purl.obolibrary.org/obo/CL_0000081</td><td>mCherry positive cell      </td><td>NA</td><td>2</td></tr>\n",
       "\t<tr><th scope=row>822</th><td>http://purl.obolibrary.org/obo/PATO_0000383</td><td>Tg(mhc2dab:GFP, cd45:dsRed)</td><td>NA</td><td>kidney</td><td>                                             </td><td>blood cell</td><td>http://purl.obolibrary.org/obo/CL_0000081</td><td>GFP and dsRed positive cell</td><td>NA</td><td>3</td></tr>\n",
       "\t<tr><th scope=row>827</th><td>http://purl.obolibrary.org/obo/PATO_0000383</td><td>Tg(mhc2dab:GFP, cd45:dsRed)</td><td>NA</td><td>kidney</td><td>                                             </td><td>blood cell</td><td>http://purl.obolibrary.org/obo/CL_0000081</td><td>GFP and dsRed positive cell</td><td>NA</td><td>3</td></tr>\n",
       "\t<tr><th scope=row>1007</th><td>http://purl.obolibrary.org/obo/PATO_0000383</td><td>Tg(lck:EGFP); Rag1 -/-     </td><td>NA</td><td>kidney</td><td>                                             </td><td>blood cell</td><td>http://purl.obolibrary.org/obo/CL_0000081</td><td>EGFP positive cell         </td><td>NA</td><td>4</td></tr>\n",
       "\t<tr><th scope=row>1023</th><td>http://purl.obolibrary.org/obo/PATO_0000384</td><td>Tg(lck:EGFP)               </td><td>NA</td><td>thymus</td><td>                                             </td><td>blood cell</td><td>http://purl.obolibrary.org/obo/CL_0000081</td><td>EGFP positive cell         </td><td>NA</td><td>1</td></tr>\n",
       "</tbody>\n",
       "</table>\n"
      ],
      "text/latex": [
       "A data.frame: 10 × 10\n",
       "\\begin{tabular}{r|llllllllll}\n",
       "  & Sample.Characteristic.Ontology.Term.sex. & Sample.Characteristic.genotype. & Sample.Characteristic.Ontology.Term.genotype. & Sample.Characteristic.organism.part. & Sample.Characteristic.Ontology.Term.organism.part. & Sample.Characteristic.cell.type. & Sample.Characteristic.Ontology.Term.cell.type. & Sample.Characteristic.phenotype. & Sample.Characteristic.Ontology.Term.phenotype. & Sample.Characteristic.individual.\\\\\n",
       "  & <chr> & <chr> & <lgl> & <chr> & <chr> & <chr> & <chr> & <chr> & <lgl> & <int>\\\\\n",
       "\\hline\n",
       "\t250 & http://purl.obolibrary.org/obo/PATO\\_0000384 & Tg(lck:EGFP)                & NA & gut    & http://purl.obolibrary.org/obo/UBERON\\_0001007 & blood cell & http://purl.obolibrary.org/obo/CL\\_0000081 & EGFP positive cell          & NA & 1\\\\\n",
       "\t251 & http://purl.obolibrary.org/obo/PATO\\_0000384 & Tg(lck:EGFP)                & NA & gut    & http://purl.obolibrary.org/obo/UBERON\\_0001007 & blood cell & http://purl.obolibrary.org/obo/CL\\_0000081 & EGFP positive cell          & NA & 1\\\\\n",
       "\t269 & http://purl.obolibrary.org/obo/PATO\\_0000384 & Tg(lck:EGFP)                & NA & thymus &                                               & blood cell & http://purl.obolibrary.org/obo/CL\\_0000081 & EGFP positive cell          & NA & 1\\\\\n",
       "\t270 & http://purl.obolibrary.org/obo/PATO\\_0000384 & Tg(lck:EGFP)                & NA & thymus &                                               & blood cell & http://purl.obolibrary.org/obo/CL\\_0000081 & EGFP positive cell          & NA & 1\\\\\n",
       "\t584 & http://purl.obolibrary.org/obo/PATO\\_0000384 & Tg(cd4-1:mCherry)           & NA & gut    & http://purl.obolibrary.org/obo/UBERON\\_0001007 & blood cell & http://purl.obolibrary.org/obo/CL\\_0000081 & mCherry positive cell       & NA & 2\\\\\n",
       "\t611 & http://purl.obolibrary.org/obo/PATO\\_0000384 & Tg(cd4-1:mCherry)           & NA & kidney &                                               & blood cell & http://purl.obolibrary.org/obo/CL\\_0000081 & mCherry positive cell       & NA & 2\\\\\n",
       "\t822 & http://purl.obolibrary.org/obo/PATO\\_0000383 & Tg(mhc2dab:GFP, cd45:dsRed) & NA & kidney &                                               & blood cell & http://purl.obolibrary.org/obo/CL\\_0000081 & GFP and dsRed positive cell & NA & 3\\\\\n",
       "\t827 & http://purl.obolibrary.org/obo/PATO\\_0000383 & Tg(mhc2dab:GFP, cd45:dsRed) & NA & kidney &                                               & blood cell & http://purl.obolibrary.org/obo/CL\\_0000081 & GFP and dsRed positive cell & NA & 3\\\\\n",
       "\t1007 & http://purl.obolibrary.org/obo/PATO\\_0000383 & Tg(lck:EGFP); Rag1 -/-      & NA & kidney &                                               & blood cell & http://purl.obolibrary.org/obo/CL\\_0000081 & EGFP positive cell          & NA & 4\\\\\n",
       "\t1023 & http://purl.obolibrary.org/obo/PATO\\_0000384 & Tg(lck:EGFP)                & NA & thymus &                                               & blood cell & http://purl.obolibrary.org/obo/CL\\_0000081 & EGFP positive cell          & NA & 1\\\\\n",
       "\\end{tabular}\n"
      ],
      "text/markdown": [
       "\n",
       "A data.frame: 10 × 10\n",
       "\n",
       "| <!--/--> | Sample.Characteristic.Ontology.Term.sex. &lt;chr&gt; | Sample.Characteristic.genotype. &lt;chr&gt; | Sample.Characteristic.Ontology.Term.genotype. &lt;lgl&gt; | Sample.Characteristic.organism.part. &lt;chr&gt; | Sample.Characteristic.Ontology.Term.organism.part. &lt;chr&gt; | Sample.Characteristic.cell.type. &lt;chr&gt; | Sample.Characteristic.Ontology.Term.cell.type. &lt;chr&gt; | Sample.Characteristic.phenotype. &lt;chr&gt; | Sample.Characteristic.Ontology.Term.phenotype. &lt;lgl&gt; | Sample.Characteristic.individual. &lt;int&gt; |\n",
       "|---|---|---|---|---|---|---|---|---|---|---|\n",
       "| 250 | http://purl.obolibrary.org/obo/PATO_0000384 | Tg(lck:EGFP)                | NA | gut    | http://purl.obolibrary.org/obo/UBERON_0001007 | blood cell | http://purl.obolibrary.org/obo/CL_0000081 | EGFP positive cell          | NA | 1 |\n",
       "| 251 | http://purl.obolibrary.org/obo/PATO_0000384 | Tg(lck:EGFP)                | NA | gut    | http://purl.obolibrary.org/obo/UBERON_0001007 | blood cell | http://purl.obolibrary.org/obo/CL_0000081 | EGFP positive cell          | NA | 1 |\n",
       "| 269 | http://purl.obolibrary.org/obo/PATO_0000384 | Tg(lck:EGFP)                | NA | thymus | <!----> | blood cell | http://purl.obolibrary.org/obo/CL_0000081 | EGFP positive cell          | NA | 1 |\n",
       "| 270 | http://purl.obolibrary.org/obo/PATO_0000384 | Tg(lck:EGFP)                | NA | thymus | <!----> | blood cell | http://purl.obolibrary.org/obo/CL_0000081 | EGFP positive cell          | NA | 1 |\n",
       "| 584 | http://purl.obolibrary.org/obo/PATO_0000384 | Tg(cd4-1:mCherry)           | NA | gut    | http://purl.obolibrary.org/obo/UBERON_0001007 | blood cell | http://purl.obolibrary.org/obo/CL_0000081 | mCherry positive cell       | NA | 2 |\n",
       "| 611 | http://purl.obolibrary.org/obo/PATO_0000384 | Tg(cd4-1:mCherry)           | NA | kidney | <!----> | blood cell | http://purl.obolibrary.org/obo/CL_0000081 | mCherry positive cell       | NA | 2 |\n",
       "| 822 | http://purl.obolibrary.org/obo/PATO_0000383 | Tg(mhc2dab:GFP, cd45:dsRed) | NA | kidney | <!----> | blood cell | http://purl.obolibrary.org/obo/CL_0000081 | GFP and dsRed positive cell | NA | 3 |\n",
       "| 827 | http://purl.obolibrary.org/obo/PATO_0000383 | Tg(mhc2dab:GFP, cd45:dsRed) | NA | kidney | <!----> | blood cell | http://purl.obolibrary.org/obo/CL_0000081 | GFP and dsRed positive cell | NA | 3 |\n",
       "| 1007 | http://purl.obolibrary.org/obo/PATO_0000383 | Tg(lck:EGFP); Rag1 -/-      | NA | kidney | <!----> | blood cell | http://purl.obolibrary.org/obo/CL_0000081 | EGFP positive cell          | NA | 4 |\n",
       "| 1023 | http://purl.obolibrary.org/obo/PATO_0000384 | Tg(lck:EGFP)                | NA | thymus | <!----> | blood cell | http://purl.obolibrary.org/obo/CL_0000081 | EGFP positive cell          | NA | 1 |\n",
       "\n"
      ],
      "text/plain": [
       "     Sample.Characteristic.Ontology.Term.sex.   \n",
       "250  http://purl.obolibrary.org/obo/PATO_0000384\n",
       "251  http://purl.obolibrary.org/obo/PATO_0000384\n",
       "269  http://purl.obolibrary.org/obo/PATO_0000384\n",
       "270  http://purl.obolibrary.org/obo/PATO_0000384\n",
       "584  http://purl.obolibrary.org/obo/PATO_0000384\n",
       "611  http://purl.obolibrary.org/obo/PATO_0000384\n",
       "822  http://purl.obolibrary.org/obo/PATO_0000383\n",
       "827  http://purl.obolibrary.org/obo/PATO_0000383\n",
       "1007 http://purl.obolibrary.org/obo/PATO_0000383\n",
       "1023 http://purl.obolibrary.org/obo/PATO_0000384\n",
       "     Sample.Characteristic.genotype.\n",
       "250  Tg(lck:EGFP)                   \n",
       "251  Tg(lck:EGFP)                   \n",
       "269  Tg(lck:EGFP)                   \n",
       "270  Tg(lck:EGFP)                   \n",
       "584  Tg(cd4-1:mCherry)              \n",
       "611  Tg(cd4-1:mCherry)              \n",
       "822  Tg(mhc2dab:GFP, cd45:dsRed)    \n",
       "827  Tg(mhc2dab:GFP, cd45:dsRed)    \n",
       "1007 Tg(lck:EGFP); Rag1 -/-         \n",
       "1023 Tg(lck:EGFP)                   \n",
       "     Sample.Characteristic.Ontology.Term.genotype.\n",
       "250  NA                                           \n",
       "251  NA                                           \n",
       "269  NA                                           \n",
       "270  NA                                           \n",
       "584  NA                                           \n",
       "611  NA                                           \n",
       "822  NA                                           \n",
       "827  NA                                           \n",
       "1007 NA                                           \n",
       "1023 NA                                           \n",
       "     Sample.Characteristic.organism.part.\n",
       "250  gut                                 \n",
       "251  gut                                 \n",
       "269  thymus                              \n",
       "270  thymus                              \n",
       "584  gut                                 \n",
       "611  kidney                              \n",
       "822  kidney                              \n",
       "827  kidney                              \n",
       "1007 kidney                              \n",
       "1023 thymus                              \n",
       "     Sample.Characteristic.Ontology.Term.organism.part.\n",
       "250  http://purl.obolibrary.org/obo/UBERON_0001007     \n",
       "251  http://purl.obolibrary.org/obo/UBERON_0001007     \n",
       "269                                                    \n",
       "270                                                    \n",
       "584  http://purl.obolibrary.org/obo/UBERON_0001007     \n",
       "611                                                    \n",
       "822                                                    \n",
       "827                                                    \n",
       "1007                                                   \n",
       "1023                                                   \n",
       "     Sample.Characteristic.cell.type.\n",
       "250  blood cell                      \n",
       "251  blood cell                      \n",
       "269  blood cell                      \n",
       "270  blood cell                      \n",
       "584  blood cell                      \n",
       "611  blood cell                      \n",
       "822  blood cell                      \n",
       "827  blood cell                      \n",
       "1007 blood cell                      \n",
       "1023 blood cell                      \n",
       "     Sample.Characteristic.Ontology.Term.cell.type.\n",
       "250  http://purl.obolibrary.org/obo/CL_0000081     \n",
       "251  http://purl.obolibrary.org/obo/CL_0000081     \n",
       "269  http://purl.obolibrary.org/obo/CL_0000081     \n",
       "270  http://purl.obolibrary.org/obo/CL_0000081     \n",
       "584  http://purl.obolibrary.org/obo/CL_0000081     \n",
       "611  http://purl.obolibrary.org/obo/CL_0000081     \n",
       "822  http://purl.obolibrary.org/obo/CL_0000081     \n",
       "827  http://purl.obolibrary.org/obo/CL_0000081     \n",
       "1007 http://purl.obolibrary.org/obo/CL_0000081     \n",
       "1023 http://purl.obolibrary.org/obo/CL_0000081     \n",
       "     Sample.Characteristic.phenotype.\n",
       "250  EGFP positive cell              \n",
       "251  EGFP positive cell              \n",
       "269  EGFP positive cell              \n",
       "270  EGFP positive cell              \n",
       "584  mCherry positive cell           \n",
       "611  mCherry positive cell           \n",
       "822  GFP and dsRed positive cell     \n",
       "827  GFP and dsRed positive cell     \n",
       "1007 EGFP positive cell              \n",
       "1023 EGFP positive cell              \n",
       "     Sample.Characteristic.Ontology.Term.phenotype.\n",
       "250  NA                                            \n",
       "251  NA                                            \n",
       "269  NA                                            \n",
       "270  NA                                            \n",
       "584  NA                                            \n",
       "611  NA                                            \n",
       "822  NA                                            \n",
       "827  NA                                            \n",
       "1007 NA                                            \n",
       "1023 NA                                            \n",
       "     Sample.Characteristic.individual.\n",
       "250  1                                \n",
       "251  1                                \n",
       "269  1                                \n",
       "270  1                                \n",
       "584  2                                \n",
       "611  2                                \n",
       "822  3                                \n",
       "827  3                                \n",
       "1007 4                                \n",
       "1023 1                                "
      ]
     },
     "metadata": {},
     "output_type": "display_data"
    },
    {
     "data": {
      "text/html": [
       "<table class=\"dataframe\">\n",
       "<caption>A data.frame: 10 × 10</caption>\n",
       "<thead>\n",
       "\t<tr><th></th><th scope=col>Sample.Characteristic.Ontology.Term.individual.</th><th scope=col>Sample.Characteristic.well.information.</th><th scope=col>Sample.Characteristic.Ontology.Term.well.information.</th><th scope=col>Sample.Characteristic.single.cell.quality.</th><th scope=col>Sample.Characteristic.Ontology.Term.single.cell.quality.</th><th scope=col>Sample.Characteristic.cluster.</th><th scope=col>Sample.Characteristic.Ontology.Term.cluster.</th><th scope=col>Factor.Value.genotype.</th><th scope=col>Factor.Value.Ontology.Term.genotype.</th><th scope=col>Factor.Value.organism.part.</th></tr>\n",
       "\t<tr><th></th><th scope=col>&lt;lgl&gt;</th><th scope=col>&lt;chr&gt;</th><th scope=col>&lt;lgl&gt;</th><th scope=col>&lt;chr&gt;</th><th scope=col>&lt;lgl&gt;</th><th scope=col>&lt;chr&gt;</th><th scope=col>&lt;lgl&gt;</th><th scope=col>&lt;chr&gt;</th><th scope=col>&lt;lgl&gt;</th><th scope=col>&lt;chr&gt;</th></tr>\n",
       "</thead>\n",
       "<tbody>\n",
       "\t<tr><th scope=row>250</th><td>NA</td><td>single cell</td><td>NA</td><td>OK</td><td>NA</td><td>unknown</td><td>NA</td><td>Tg(lck:EGFP)               </td><td>NA</td><td>gut   </td></tr>\n",
       "\t<tr><th scope=row>251</th><td>NA</td><td>single cell</td><td>NA</td><td>OK</td><td>NA</td><td>unknown</td><td>NA</td><td>Tg(lck:EGFP)               </td><td>NA</td><td>gut   </td></tr>\n",
       "\t<tr><th scope=row>269</th><td>NA</td><td>single cell</td><td>NA</td><td>OK</td><td>NA</td><td>unknown</td><td>NA</td><td>Tg(lck:EGFP)               </td><td>NA</td><td>thymus</td></tr>\n",
       "\t<tr><th scope=row>270</th><td>NA</td><td>single cell</td><td>NA</td><td>OK</td><td>NA</td><td>unknown</td><td>NA</td><td>Tg(lck:EGFP)               </td><td>NA</td><td>thymus</td></tr>\n",
       "\t<tr><th scope=row>584</th><td>NA</td><td>single cell</td><td>NA</td><td>OK</td><td>NA</td><td>unknown</td><td>NA</td><td>Tg(cd4-1:mCherry)          </td><td>NA</td><td>gut   </td></tr>\n",
       "\t<tr><th scope=row>611</th><td>NA</td><td>single cell</td><td>NA</td><td>OK</td><td>NA</td><td>unknown</td><td>NA</td><td>Tg(cd4-1:mCherry)          </td><td>NA</td><td>kidney</td></tr>\n",
       "\t<tr><th scope=row>822</th><td>NA</td><td>single cell</td><td>NA</td><td>OK</td><td>NA</td><td>unknown</td><td>NA</td><td>Tg(mhc2dab:GFP, cd45:dsRed)</td><td>NA</td><td>kidney</td></tr>\n",
       "\t<tr><th scope=row>827</th><td>NA</td><td>single cell</td><td>NA</td><td>OK</td><td>NA</td><td>unknown</td><td>NA</td><td>Tg(mhc2dab:GFP, cd45:dsRed)</td><td>NA</td><td>kidney</td></tr>\n",
       "\t<tr><th scope=row>1007</th><td>NA</td><td>single cell</td><td>NA</td><td>OK</td><td>NA</td><td>unknown</td><td>NA</td><td>Tg(lck:EGFP); Rag1 -/-     </td><td>NA</td><td>kidney</td></tr>\n",
       "\t<tr><th scope=row>1023</th><td>NA</td><td>single cell</td><td>NA</td><td>OK</td><td>NA</td><td>unknown</td><td>NA</td><td>Tg(lck:EGFP)               </td><td>NA</td><td>thymus</td></tr>\n",
       "</tbody>\n",
       "</table>\n"
      ],
      "text/latex": [
       "A data.frame: 10 × 10\n",
       "\\begin{tabular}{r|llllllllll}\n",
       "  & Sample.Characteristic.Ontology.Term.individual. & Sample.Characteristic.well.information. & Sample.Characteristic.Ontology.Term.well.information. & Sample.Characteristic.single.cell.quality. & Sample.Characteristic.Ontology.Term.single.cell.quality. & Sample.Characteristic.cluster. & Sample.Characteristic.Ontology.Term.cluster. & Factor.Value.genotype. & Factor.Value.Ontology.Term.genotype. & Factor.Value.organism.part.\\\\\n",
       "  & <lgl> & <chr> & <lgl> & <chr> & <lgl> & <chr> & <lgl> & <chr> & <lgl> & <chr>\\\\\n",
       "\\hline\n",
       "\t250 & NA & single cell & NA & OK & NA & unknown & NA & Tg(lck:EGFP)                & NA & gut   \\\\\n",
       "\t251 & NA & single cell & NA & OK & NA & unknown & NA & Tg(lck:EGFP)                & NA & gut   \\\\\n",
       "\t269 & NA & single cell & NA & OK & NA & unknown & NA & Tg(lck:EGFP)                & NA & thymus\\\\\n",
       "\t270 & NA & single cell & NA & OK & NA & unknown & NA & Tg(lck:EGFP)                & NA & thymus\\\\\n",
       "\t584 & NA & single cell & NA & OK & NA & unknown & NA & Tg(cd4-1:mCherry)           & NA & gut   \\\\\n",
       "\t611 & NA & single cell & NA & OK & NA & unknown & NA & Tg(cd4-1:mCherry)           & NA & kidney\\\\\n",
       "\t822 & NA & single cell & NA & OK & NA & unknown & NA & Tg(mhc2dab:GFP, cd45:dsRed) & NA & kidney\\\\\n",
       "\t827 & NA & single cell & NA & OK & NA & unknown & NA & Tg(mhc2dab:GFP, cd45:dsRed) & NA & kidney\\\\\n",
       "\t1007 & NA & single cell & NA & OK & NA & unknown & NA & Tg(lck:EGFP); Rag1 -/-      & NA & kidney\\\\\n",
       "\t1023 & NA & single cell & NA & OK & NA & unknown & NA & Tg(lck:EGFP)                & NA & thymus\\\\\n",
       "\\end{tabular}\n"
      ],
      "text/markdown": [
       "\n",
       "A data.frame: 10 × 10\n",
       "\n",
       "| <!--/--> | Sample.Characteristic.Ontology.Term.individual. &lt;lgl&gt; | Sample.Characteristic.well.information. &lt;chr&gt; | Sample.Characteristic.Ontology.Term.well.information. &lt;lgl&gt; | Sample.Characteristic.single.cell.quality. &lt;chr&gt; | Sample.Characteristic.Ontology.Term.single.cell.quality. &lt;lgl&gt; | Sample.Characteristic.cluster. &lt;chr&gt; | Sample.Characteristic.Ontology.Term.cluster. &lt;lgl&gt; | Factor.Value.genotype. &lt;chr&gt; | Factor.Value.Ontology.Term.genotype. &lt;lgl&gt; | Factor.Value.organism.part. &lt;chr&gt; |\n",
       "|---|---|---|---|---|---|---|---|---|---|---|\n",
       "| 250 | NA | single cell | NA | OK | NA | unknown | NA | Tg(lck:EGFP)                | NA | gut    |\n",
       "| 251 | NA | single cell | NA | OK | NA | unknown | NA | Tg(lck:EGFP)                | NA | gut    |\n",
       "| 269 | NA | single cell | NA | OK | NA | unknown | NA | Tg(lck:EGFP)                | NA | thymus |\n",
       "| 270 | NA | single cell | NA | OK | NA | unknown | NA | Tg(lck:EGFP)                | NA | thymus |\n",
       "| 584 | NA | single cell | NA | OK | NA | unknown | NA | Tg(cd4-1:mCherry)           | NA | gut    |\n",
       "| 611 | NA | single cell | NA | OK | NA | unknown | NA | Tg(cd4-1:mCherry)           | NA | kidney |\n",
       "| 822 | NA | single cell | NA | OK | NA | unknown | NA | Tg(mhc2dab:GFP, cd45:dsRed) | NA | kidney |\n",
       "| 827 | NA | single cell | NA | OK | NA | unknown | NA | Tg(mhc2dab:GFP, cd45:dsRed) | NA | kidney |\n",
       "| 1007 | NA | single cell | NA | OK | NA | unknown | NA | Tg(lck:EGFP); Rag1 -/-      | NA | kidney |\n",
       "| 1023 | NA | single cell | NA | OK | NA | unknown | NA | Tg(lck:EGFP)                | NA | thymus |\n",
       "\n"
      ],
      "text/plain": [
       "     Sample.Characteristic.Ontology.Term.individual.\n",
       "250  NA                                             \n",
       "251  NA                                             \n",
       "269  NA                                             \n",
       "270  NA                                             \n",
       "584  NA                                             \n",
       "611  NA                                             \n",
       "822  NA                                             \n",
       "827  NA                                             \n",
       "1007 NA                                             \n",
       "1023 NA                                             \n",
       "     Sample.Characteristic.well.information.\n",
       "250  single cell                            \n",
       "251  single cell                            \n",
       "269  single cell                            \n",
       "270  single cell                            \n",
       "584  single cell                            \n",
       "611  single cell                            \n",
       "822  single cell                            \n",
       "827  single cell                            \n",
       "1007 single cell                            \n",
       "1023 single cell                            \n",
       "     Sample.Characteristic.Ontology.Term.well.information.\n",
       "250  NA                                                   \n",
       "251  NA                                                   \n",
       "269  NA                                                   \n",
       "270  NA                                                   \n",
       "584  NA                                                   \n",
       "611  NA                                                   \n",
       "822  NA                                                   \n",
       "827  NA                                                   \n",
       "1007 NA                                                   \n",
       "1023 NA                                                   \n",
       "     Sample.Characteristic.single.cell.quality.\n",
       "250  OK                                        \n",
       "251  OK                                        \n",
       "269  OK                                        \n",
       "270  OK                                        \n",
       "584  OK                                        \n",
       "611  OK                                        \n",
       "822  OK                                        \n",
       "827  OK                                        \n",
       "1007 OK                                        \n",
       "1023 OK                                        \n",
       "     Sample.Characteristic.Ontology.Term.single.cell.quality.\n",
       "250  NA                                                      \n",
       "251  NA                                                      \n",
       "269  NA                                                      \n",
       "270  NA                                                      \n",
       "584  NA                                                      \n",
       "611  NA                                                      \n",
       "822  NA                                                      \n",
       "827  NA                                                      \n",
       "1007 NA                                                      \n",
       "1023 NA                                                      \n",
       "     Sample.Characteristic.cluster.\n",
       "250  unknown                       \n",
       "251  unknown                       \n",
       "269  unknown                       \n",
       "270  unknown                       \n",
       "584  unknown                       \n",
       "611  unknown                       \n",
       "822  unknown                       \n",
       "827  unknown                       \n",
       "1007 unknown                       \n",
       "1023 unknown                       \n",
       "     Sample.Characteristic.Ontology.Term.cluster. Factor.Value.genotype.     \n",
       "250  NA                                           Tg(lck:EGFP)               \n",
       "251  NA                                           Tg(lck:EGFP)               \n",
       "269  NA                                           Tg(lck:EGFP)               \n",
       "270  NA                                           Tg(lck:EGFP)               \n",
       "584  NA                                           Tg(cd4-1:mCherry)          \n",
       "611  NA                                           Tg(cd4-1:mCherry)          \n",
       "822  NA                                           Tg(mhc2dab:GFP, cd45:dsRed)\n",
       "827  NA                                           Tg(mhc2dab:GFP, cd45:dsRed)\n",
       "1007 NA                                           Tg(lck:EGFP); Rag1 -/-     \n",
       "1023 NA                                           Tg(lck:EGFP)               \n",
       "     Factor.Value.Ontology.Term.genotype. Factor.Value.organism.part.\n",
       "250  NA                                   gut                        \n",
       "251  NA                                   gut                        \n",
       "269  NA                                   thymus                     \n",
       "270  NA                                   thymus                     \n",
       "584  NA                                   gut                        \n",
       "611  NA                                   kidney                     \n",
       "822  NA                                   kidney                     \n",
       "827  NA                                   kidney                     \n",
       "1007 NA                                   kidney                     \n",
       "1023 NA                                   thymus                     "
      ]
     },
     "metadata": {},
     "output_type": "display_data"
    },
    {
     "data": {
      "text/html": [
       "<table class=\"dataframe\">\n",
       "<caption>A data.frame: 10 × 3</caption>\n",
       "<thead>\n",
       "\t<tr><th></th><th scope=col>Factor.Value.Ontology.Term.organism.part.</th><th scope=col>Factor.Value.single.cell.identifier.</th><th scope=col>Factor.Value.Ontology.Term.single.cell.identifier.</th></tr>\n",
       "\t<tr><th></th><th scope=col>&lt;chr&gt;</th><th scope=col>&lt;chr&gt;</th><th scope=col>&lt;lgl&gt;</th></tr>\n",
       "</thead>\n",
       "<tbody>\n",
       "\t<tr><th scope=row>250</th><td>http://purl.obolibrary.org/obo/UBERON_0001007</td><td>LCK_gut_G8           </td><td>NA</td></tr>\n",
       "\t<tr><th scope=row>251</th><td>http://purl.obolibrary.org/obo/UBERON_0001007</td><td>LCK_gut_G9           </td><td>NA</td></tr>\n",
       "\t<tr><th scope=row>269</th><td>                                             </td><td>LCK_thymus_C4        </td><td>NA</td></tr>\n",
       "\t<tr><th scope=row>270</th><td>                                             </td><td>LCK_thymus_C5        </td><td>NA</td></tr>\n",
       "\t<tr><th scope=row>584</th><td>http://purl.obolibrary.org/obo/UBERON_0001007</td><td>CD4_gut_D4           </td><td>NA</td></tr>\n",
       "\t<tr><th scope=row>611</th><td>                                             </td><td>CD4_kidney_C5        </td><td>NA</td></tr>\n",
       "\t<tr><th scope=row>822</th><td>                                             </td><td>mhc2dab_kidney_pl2_A2</td><td>NA</td></tr>\n",
       "\t<tr><th scope=row>827</th><td>                                             </td><td>mhc2dab_kidney_pl2_D1</td><td>NA</td></tr>\n",
       "\t<tr><th scope=row>1007</th><td>                                             </td><td>Rag1_kidney_H3       </td><td>NA</td></tr>\n",
       "\t<tr><th scope=row>1023</th><td>                                             </td><td>LCK_thymus_B2        </td><td>NA</td></tr>\n",
       "</tbody>\n",
       "</table>\n"
      ],
      "text/latex": [
       "A data.frame: 10 × 3\n",
       "\\begin{tabular}{r|lll}\n",
       "  & Factor.Value.Ontology.Term.organism.part. & Factor.Value.single.cell.identifier. & Factor.Value.Ontology.Term.single.cell.identifier.\\\\\n",
       "  & <chr> & <chr> & <lgl>\\\\\n",
       "\\hline\n",
       "\t250 & http://purl.obolibrary.org/obo/UBERON\\_0001007 & LCK\\_gut\\_G8            & NA\\\\\n",
       "\t251 & http://purl.obolibrary.org/obo/UBERON\\_0001007 & LCK\\_gut\\_G9            & NA\\\\\n",
       "\t269 &                                               & LCK\\_thymus\\_C4         & NA\\\\\n",
       "\t270 &                                               & LCK\\_thymus\\_C5         & NA\\\\\n",
       "\t584 & http://purl.obolibrary.org/obo/UBERON\\_0001007 & CD4\\_gut\\_D4            & NA\\\\\n",
       "\t611 &                                               & CD4\\_kidney\\_C5         & NA\\\\\n",
       "\t822 &                                               & mhc2dab\\_kidney\\_pl2\\_A2 & NA\\\\\n",
       "\t827 &                                               & mhc2dab\\_kidney\\_pl2\\_D1 & NA\\\\\n",
       "\t1007 &                                               & Rag1\\_kidney\\_H3        & NA\\\\\n",
       "\t1023 &                                               & LCK\\_thymus\\_B2         & NA\\\\\n",
       "\\end{tabular}\n"
      ],
      "text/markdown": [
       "\n",
       "A data.frame: 10 × 3\n",
       "\n",
       "| <!--/--> | Factor.Value.Ontology.Term.organism.part. &lt;chr&gt; | Factor.Value.single.cell.identifier. &lt;chr&gt; | Factor.Value.Ontology.Term.single.cell.identifier. &lt;lgl&gt; |\n",
       "|---|---|---|---|\n",
       "| 250 | http://purl.obolibrary.org/obo/UBERON_0001007 | LCK_gut_G8            | NA |\n",
       "| 251 | http://purl.obolibrary.org/obo/UBERON_0001007 | LCK_gut_G9            | NA |\n",
       "| 269 | <!----> | LCK_thymus_C4         | NA |\n",
       "| 270 | <!----> | LCK_thymus_C5         | NA |\n",
       "| 584 | http://purl.obolibrary.org/obo/UBERON_0001007 | CD4_gut_D4            | NA |\n",
       "| 611 | <!----> | CD4_kidney_C5         | NA |\n",
       "| 822 | <!----> | mhc2dab_kidney_pl2_A2 | NA |\n",
       "| 827 | <!----> | mhc2dab_kidney_pl2_D1 | NA |\n",
       "| 1007 | <!----> | Rag1_kidney_H3        | NA |\n",
       "| 1023 | <!----> | LCK_thymus_B2         | NA |\n",
       "\n"
      ],
      "text/plain": [
       "     Factor.Value.Ontology.Term.organism.part.    \n",
       "250  http://purl.obolibrary.org/obo/UBERON_0001007\n",
       "251  http://purl.obolibrary.org/obo/UBERON_0001007\n",
       "269                                               \n",
       "270                                               \n",
       "584  http://purl.obolibrary.org/obo/UBERON_0001007\n",
       "611                                               \n",
       "822                                               \n",
       "827                                               \n",
       "1007                                              \n",
       "1023                                              \n",
       "     Factor.Value.single.cell.identifier.\n",
       "250  LCK_gut_G8                          \n",
       "251  LCK_gut_G9                          \n",
       "269  LCK_thymus_C4                       \n",
       "270  LCK_thymus_C5                       \n",
       "584  CD4_gut_D4                          \n",
       "611  CD4_kidney_C5                       \n",
       "822  mhc2dab_kidney_pl2_A2               \n",
       "827  mhc2dab_kidney_pl2_D1               \n",
       "1007 Rag1_kidney_H3                      \n",
       "1023 LCK_thymus_B2                       \n",
       "     Factor.Value.Ontology.Term.single.cell.identifier.\n",
       "250  NA                                                \n",
       "251  NA                                                \n",
       "269  NA                                                \n",
       "270  NA                                                \n",
       "584  NA                                                \n",
       "611  NA                                                \n",
       "822  NA                                                \n",
       "827  NA                                                \n",
       "1007 NA                                                \n",
       "1023 NA                                                "
      ]
     },
     "metadata": {},
     "output_type": "display_data"
    }
   ],
   "source": [
    "#| output: false\n",
    "# Show all columns.  There's probably a better way,\n",
    "# but oh well...\n",
    "# (I've hidden the outputs of this code block on the blog,\n",
    "# because it's just a bunch of ugly, unenlightening tables.)\n",
    "extra.cells[,1:10]\n",
    "extra.cells[,11:20]\n",
    "extra.cells[,21:30]\n",
    "extra.cells[,31:33]"
   ]
  },
  {
   "cell_type": "markdown",
   "id": "d4286723-81d1-4cd4-bfca-41b1262d8377",
   "metadata": {},
   "source": [
    "The above contains the 10 outstanding cells.  Frustratingly, there doesn't seem to be any reason I can find as to why these cells were excluded at this stage!\n",
    "\n",
    "<b>To summarize</b>:\n",
    "\n",
    "*  The website reports 966 cells\n",
    "*  The gene count table also reports 966 cells\n",
    "*  The experiment table reports 1056 cells\n",
    "*  Flitering the experiment table yields 976 cells\n",
    "*  The paper reports 864 cells pre-quality control"
   ]
  },
  {
   "cell_type": "markdown",
   "id": "31e7815c-6519-4a4c-8c9b-94d852d688e8",
   "metadata": {},
   "source": [
    "This isn't an uncommon occurance; in fact, every time I've read a paper like this (which, admittedly, is only 3ish times) I've been unable to get a consistent answer on how many cells were actually used!  <strong style=\"color:#C0CF96\">It's a major nuisance</strong>."
   ]
  },
  {
   "cell_type": "markdown",
   "id": "1adaccf8-a77a-4f7a-a49a-8163479896f2",
   "metadata": {},
   "source": [
    "We'll pick up where we left off in the next blog post.  While annoying, this discrepancy isn't fatal - we can perform quality control on the 976 cells we get from filtering."
   ]
  },
  {
   "cell_type": "markdown",
   "id": "9edca668-e956-4f8a-ad3c-841651403b09",
   "metadata": {},
   "source": [
    "### References\n",
    "\n",
    "::: {#refs}\n",
    ":::"
   ]
  },
  {
   "cell_type": "markdown",
   "id": "e138ca66-eb1e-4aa9-8ed7-749ed5703254",
   "metadata": {},
   "source": [
    "<script src=\"https://giscus.app/client.js\"\n",
    "        data-repo=\"baileyandrew/blog\"\n",
    "        data-repo-id=\"R_kgDOInJwKg\"\n",
    "        data-category=\"Announcements\"\n",
    "        data-category-id=\"DIC_kwDOInJwKs4CTGOQ\"\n",
    "        data-mapping=\"title\"\n",
    "        data-strict=\"0\"\n",
    "        data-reactions-enabled=\"1\"\n",
    "        data-emit-metadata=\"0\"\n",
    "        data-input-position=\"top\"\n",
    "        data-theme=\"dark_protanopia\"\n",
    "        data-lang=\"en\"\n",
    "        data-loading=\"lazy\"\n",
    "        crossorigin=\"anonymous\"\n",
    "        async>\n",
    "</script>"
   ]
  }
 ],
 "metadata": {
  "kernelspec": {
   "display_name": "R [conda env:JupyterWithR]",
   "language": "R",
   "name": "conda-env-JupyterWithR-r"
  }
 },
 "nbformat": 4,
 "nbformat_minor": 5
}
