{
 "cells": [
  {
   "cell_type": "raw",
   "id": "298bd5d6-2d15-4083-ac44-508ae6afa96d",
   "metadata": {},
   "source": [
    "---\n",
    "title: \"Analyzing scRNA-seq Data\"\n",
    "description: \"A high-level overview.\"\n",
    "author: \"Bailey Andrew\"\n",
    "date: \"Jan 8 2023\"\n",
    "draft: false\n",
    "categories: [Work, Useful, Omics, In Progress, Walkthrough]\n",
    "bibliography: bibliography.bib\n",
    "---"
   ]
  },
  {
   "cell_type": "code",
   "execution_count": null,
   "id": "d7a655d9-7610-4069-ae3a-354d8f2d57f5",
   "metadata": {},
   "outputs": [],
   "source": [
    "!wget "
   ]
  }
 ],
 "metadata": {
  "kernelspec": {
   "display_name": "Python [conda env:JupyterWithR]",
   "language": "python",
   "name": "conda-env-JupyterWithR-py"
  }
 },
 "nbformat": 4,
 "nbformat_minor": 5
}
