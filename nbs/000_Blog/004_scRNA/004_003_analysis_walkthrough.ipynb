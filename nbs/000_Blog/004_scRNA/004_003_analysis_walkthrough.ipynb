{
 "cells": [
  {
   "cell_type": "raw",
   "id": "298bd5d6-2d15-4083-ac44-508ae6afa96d",
   "metadata": {},
   "source": [
    "---\n",
    "title: \"Analyzing scRNA-seq Data\"\n",
    "description: \"A high-level overview.\"\n",
    "author: \"Bailey Andrew\"\n",
    "date: \"Jan 8 2023\"\n",
    "draft: false\n",
    "categories: [Work, Useful, Omics, In Progress, Walkthrough]\n",
    "bibliography: bibliography.bib\n",
    "---"
   ]
  }
 ],
 "metadata": {
  "kernelspec": {
   "display_name": "Python [conda env:JupyterWithR]",
   "language": "python",
   "name": "conda-env-JupyterWithR-py"
  }
 },
 "nbformat": 4,
 "nbformat_minor": 5
}
