{
 "cells": [
  {
   "cell_type": "raw",
   "id": "b01445ff-6462-45d5-bd37-b2c2dd4f6d9f",
   "metadata": {},
   "source": [
    "---\n",
    "title: \"Collapsable Multi-Cell Blocks in Quarto Output of .ipynb\"\n",
    "description: \"Surprisingly easy!\"\n",
    "author: \"Bailey Andrew\"\n",
    "date: \"Jan 9 2023\"\n",
    "draft: false\n",
    "categories: [Work, Useful]\n",
    "format:\n",
    "  html:\n",
    "    css:\n",
    "      - ../../html_scripts/collapse.css\n",
    "      - ../../html_scripts/pretty_shortcuts.css\n",
    "    include-after-body: \n",
    "      - ../../html_scripts/collapse.html\n",
    "      - ../../html_scripts/comments.html\n",
    "---"
   ]
  },
  {
   "cell_type": "markdown",
   "id": "f45c05c5-a577-46a0-99e7-1b7a900e4f54",
   "metadata": {},
   "source": [
    "In JupyterLab, we can collapse all cells underneath a header, which can be useful for hiding extraneous info.  However, when we render it in Quarto the collapsability is not preserved.  It would be nice if we could recreate this feature!\n",
    "\n",
    "Quarto does offer some methods for collapsing:"
   ]
  },
  {
   "cell_type": "markdown",
   "id": "31f07798-451b-4fa3-9a84-1c82ae118ed2",
   "metadata": {},
   "source": [
    "<details>\n",
    "    <summary style=\"color:#C0CF96\"><b>\n",
    "        The first is <span style=\"color:#757575\">&lt;details&gt;</span> html blocks.\n",
    "    </b></summary>\n",
    "    These are my preferred method because it is pure html and thus highly customizable.\n",
    "</details>"
   ]
  },
  {
   "cell_type": "markdown",
   "id": "47c30fa1-f84c-4fa6-9eae-5086ed8f4f5f",
   "metadata": {},
   "source": [
    "::: {.callout-tip collapse=\"true\"}\n",
    "## The second is a Quarto-specific collapsable callout block\n",
    "\n",
    "Which I don't use because it's not pure html, and thus doesn't render in the notebook - it only appears after rendering with Quarto.\n",
    ":::"
   ]
  },
  {
   "cell_type": "markdown",
   "id": "d208b270-4188-45cc-943f-f202cd13d91b",
   "metadata": {},
   "source": [
    "The quarto method has the benefit that it can be split over multiple cells, allowing the collapsing of code cells:"
   ]
  },
  {
   "cell_type": "markdown",
   "id": "fae5ecd1-8d97-482a-b90c-13b145f79e4c",
   "metadata": {},
   "source": [
    "::: {.callout-tip collapse=\"true\"}\n",
    "## You can see that it still works!"
   ]
  },
  {
   "cell_type": "code",
   "execution_count": null,
   "id": "71b639b1-4595-40ea-812a-9efc7757eef8",
   "metadata": {},
   "outputs": [
    {
     "name": "stdout",
     "output_type": "stream",
     "text": [
      "[1] \"It worked!\"\n"
     ]
    }
   ],
   "source": [
    "print(\"It worked!\")"
   ]
  },
  {
   "cell_type": "markdown",
   "id": "3d74d86e-66d6-4d89-a772-88a6054f8ffb",
   "metadata": {},
   "source": [
    ":::"
   ]
  },
  {
   "cell_type": "markdown",
   "id": "307b29ee-877d-46a6-bc99-ac21231ba757",
   "metadata": {},
   "source": [
    "<details><summary style=\"color:#C0CF96;font-weight:bold;\">Messing around with Quarto</summary>"
   ]
  },
  {
   "cell_type": "markdown",
   "id": "2c3eab96-de6d-485c-bd34-0a2ff5189970",
   "metadata": {},
   "source": [
    "There's a major problem, though; the Quarto method looks a little too professional...  I want the callout blocks to have the same appearance as a <span style=\"color:#757575\">&lt;details&gt;</span> tag!"
   ]
  },
  {
   "cell_type": "markdown",
   "id": "b850eef5-e67b-4a1a-87f1-fed5e850752d",
   "metadata": {},
   "source": [
    "The first step we can do is add a class to our callout block:\n",
    "\n",
    "::: {.callout-tip collapse=\"true\" #custom-callout}\n",
    "<span><h2>Test</h2></span>\n",
    "\n",
    "The markdown to generate is:\n",
    "```\n",
    "::: {.callout-tip collapse=\"true\" #custom-callout}\n",
    "  <h2>Test</h2>\n",
    "  <! -- ETC... -->\n",
    ":::\n",
    "```\n",
    ":::"
   ]
  },
  {
   "cell_type": "markdown",
   "id": "77db1f30-4465-4ebf-8853-72daa88e97dc",
   "metadata": {},
   "source": [
    "To make that work, I used a fairly advanced bit of CSS:\n",
    "\n",
    "First, create a file `blocks.css`, into which you'll put the style, and then add this to the Quarto header:\n",
    "```\n",
    "format:\n",
    "  html:\n",
    "    css: blocks.css\n",
    "```\n",
    "\n",
    "Fill the css file with the following:\n",
    "\n",
    "```\n",
    ".callout-tip #custom-callout :is(h1, h2, h3, h4, h5, h6) {\n",
    "  color:#C0CF96\n",
    "}\n",
    "```\n",
    "\n",
    "This says \"for all objects with the `callout-tip` class and the `custom-callout` id, check if any of their children are `h1` or `h2` or (...) or `h6`.  If so, give them this specific color.\""
   ]
  },
  {
   "cell_type": "markdown",
   "id": "dfc9f2f5-0e28-45dd-8821-7d08efd75c89",
   "metadata": {},
   "source": [
    "It's not perfect, though - as the header (\"Test\") no longer shows up on the title but rather only appears when you open the drop-down.\n",
    "\n",
    "::: {.callout-tip collapse=\"true\" #custom-callout2}\n",
    "## Test\n",
    "\n",
    "The markdown to generate is:\n",
    "```\n",
    "::: {.callout-tip collapse=\"true\" #custom-callout2}\n",
    "  ## Test\n",
    "  <! -- ETC... -->\n",
    ":::\n",
    "```\n",
    ":::\n",
    "\n",
    "We can start poking around with <span class=\"prop-name\">inspect element</span> to get the classes we need to mess with in the CSS:\n",
    "\n",
    "```\n",
    "#custom-callout2 div.callout-caption-container.flex-fill {\n",
    "  color:#C0CF96;\n",
    "  font-weight:bold;\n",
    "}\n",
    "#custom-callout2 div.callout-icon-container {\n",
    "  opacity:0%;\n",
    "}\n",
    "```"
   ]
  },
  {
   "cell_type": "markdown",
   "id": "9a6bf79c-9ee8-436e-9b39-a18517b56f4a",
   "metadata": {},
   "source": [
    "All that's left is to remove the pesky background:"
   ]
  },
  {
   "cell_type": "markdown",
   "id": "fd61d49e-877e-4e41-b6ea-8a77c7ae03fb",
   "metadata": {},
   "source": [
    "::: {.callout-tip collapse=\"true\" #clean-collapse}\n",
    "## Test\n",
    "\n",
    "The markdown to generate is:\n",
    "```\n",
    "::: {.callout-tip collapse=\"true\" #clean-collapse}\n",
    "  ## ▶ Test\n",
    "  <! -- ETC... -->\n",
    ":::\n",
    "```"
   ]
  },
  {
   "cell_type": "code",
   "execution_count": null,
   "id": "704413d6-03a0-4cc4-907b-efcba2d6ec38",
   "metadata": {},
   "outputs": [
    {
     "name": "stdout",
     "output_type": "stream",
     "text": [
      "[1] \"Running code just to demonstrate it still works\"\n"
     ]
    }
   ],
   "source": [
    "print(\"Running code just to demonstrate it still works\")"
   ]
  },
  {
   "cell_type": "markdown",
   "id": "fd34fd55-7312-4c80-9ea6-6f413f827c1a",
   "metadata": {},
   "source": [
    ":::\n",
    "\n",
    "I added the following CSS:\n",
    "\n",
    "```\n",
    "#clean-collapse div.callout-caption-container.flex-fill {\n",
    "  color:#C0CF96;\n",
    "  font-weight:bold;\n",
    "}\n",
    "\n",
    "#clean-collapse div.callout-icon-container {\n",
    "  opacity:0%;\n",
    "}\n",
    "```\n",
    "\n",
    "And to get rid of the background I had to remove the `callout-style-default` class using JavaScript:\n",
    "\n",
    "```\n",
    "<script>\n",
    "  element = document.getElementById(\"clean-collapse\");\n",
    "  element.classList.remove(\"callout-style-default\");\n",
    "</script>\n",
    "```\n",
    "\n",
    "Which can just be put anywhere on the page - probably it will make sense to make a `.js` file that will contain all of these scripts, such as this and the comments scripts, and paste them on each page."
   ]
  },
  {
   "cell_type": "markdown",
   "id": "bc163c46-c14e-42a6-b0f0-686a760129bf",
   "metadata": {},
   "source": [
    "However, the fatal flaw with this method - that can only ever edit one dropdown at once, and it requires you to manually add arrows.  To fix this, we can do more sophistic JavaScript:\n",
    "\n",
    "```\n",
    "<script>\n",
    "    // Remove background\n",
    "    elements = document.querySelectorAll('[id=clean-collapse]').forEach(\n",
    "        function(element) {\n",
    "            element.classList.remove(\"callout-style-default\");\n",
    "        }\n",
    "    )\n",
    "    \n",
    "    // Add arrow to front to signify dropdownyness\n",
    "    arrow = \"▶\";\n",
    "    elements = document.querySelectorAll('.callout-caption-container').forEach(\n",
    "        function(element) {\n",
    "            element.innerHTML = arrow + element.innerHTML;\n",
    "        }\n",
    "    )\n",
    "</script>\n",
    "```"
   ]
  },
  {
   "cell_type": "markdown",
   "id": "9092bf6b-cf77-4cfb-b823-613620953417",
   "metadata": {},
   "source": [
    "::: {.callout-tip collapse=\"true\" #clean-collapse}\n",
    "# Conclusion\n",
    "\n",
    "I took this opportunity to refactor the website, so that I don't need to put comments, css, and javascript at the end of every webpage, rather I can do it by including premade files, like so:\n",
    "\n",
    "```\n",
    "---\n",
    "title: \"Collapsable Multi-Cell Blocks in Quarto Output of .ipynb\"\n",
    "description: \"Surprisingly easy!\"\n",
    "author: \"Bailey Andrew\"\n",
    "date: \"Jan 9 2023\"\n",
    "draft: false\n",
    "categories: [Work, Useful]\n",
    "format:\n",
    "  html:\n",
    "    css:\n",
    "      - ../../html_scripts/collapse.css\n",
    "      - ../../html_scripts/pretty_shortcuts.css\n",
    "    include-after-body: \n",
    "      - ../../html_scripts/collapse.html\n",
    "      - ../../html_scripts/comments.html\n",
    "---\n",
    "```\n",
    "\n",
    ":::"
   ]
  },
  {
   "cell_type": "markdown",
   "id": "42c0647a-30c1-46a1-b8da-ec29944b27bf",
   "metadata": {},
   "source": [
    "</details>"
   ]
  },
  {
   "cell_type": "markdown",
   "id": "42bc9032-7882-480e-80f9-2a10b05e49c3",
   "metadata": {},
   "source": [
    "But in fact you don't need to mess around with the Quarto way, because the `<details>` tag works multi-line as well - that's how I hid all the \"playing around with quarto\" stuff."
   ]
  }
 ],
 "metadata": {
  "kernelspec": {
   "display_name": "R 4.2.1 - JupyterWithR",
   "language": "R",
   "name": "ir421"
  }
 },
 "nbformat": 4,
 "nbformat_minor": 5
}
