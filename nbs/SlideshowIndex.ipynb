{
 "cells": [
  {
   "cell_type": "raw",
   "id": "3704744f-087b-4a25-8d4f-4bf695102022",
   "metadata": {},
   "source": [
    "---\n",
    "title: \"Slideshows\"\n",
    "description: \"You can have slideshows on your blog!\"\n",
    "author: \"Bailey Andrew\"\n",
    "date: \"Jan 21 2023\"\n",
    "draft: false\n",
    "image: \"./000_Blog/010_blogging/images/slideshow-header-example.png\"\n",
    "categories: [Work, Fun]\n",
    "listing:\n",
    "  categories: true\n",
    "  contents:\n",
    "    - 900_Slideshows/*.ipynb\n",
    "    - 900_Slideshows/*/*.ipynb\n",
    "  id: slideshows\n",
    "  sort: \"date title\"\n",
    "  type: grid\n",
    "  fields: [title, author, image, date, categories]\n",
    "  image-placeholder: \"./images/CagedPigeon.jpg\"\n",
    "---"
   ]
  },
  {
   "cell_type": "markdown",
   "id": "9cc75454-7ba3-4f54-8df6-666dc871b805",
   "metadata": {},
   "source": [
    "::: {#slideshows}\n",
    ":::"
   ]
  }
 ],
 "metadata": {
  "kernelspec": {
   "display_name": "Python 3 (ipykernel)",
   "language": "python",
   "name": "python3"
  }
 },
 "nbformat": 4,
 "nbformat_minor": 5
}
