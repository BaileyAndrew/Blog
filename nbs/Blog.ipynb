{
 "cells": [
  {
   "cell_type": "raw",
   "id": "cfbcbd8a-94fb-4b34-939d-d9cd2ac1cbca",
   "metadata": {},
   "source": [
    "---\n",
    "title: \"Blog\"\n",
    "description: \"My blog posts.  Beware.\"\n",
    "author: \"Bailey Andrew\"\n",
    "date: \"Jan 5 2023\"\n",
    "draft: false\n",
    "categories: [Work, Fun]\n",
    "listing:\n",
    "  categories: true\n",
    "  contents:\n",
    "    - 000_Blog/*.ipynb\n",
    "    - 000_Blog/*/*.ipynb\n",
    "  id: blogposts\n",
    "  sort: \"date title\"\n",
    "  type: grid\n",
    "  fields: [title, author, image, date, categories]\n",
    "  image-placeholder: \"./images/CagedPigeon.jpg\"\n",
    "---"
   ]
  },
  {
   "cell_type": "markdown",
   "id": "c50fe256-35e9-48df-8886-5865a5440bf2",
   "metadata": {},
   "source": [
    "::: {#blogposts}\n",
    ":::"
   ]
  }
 ],
 "metadata": {
  "kernelspec": {
   "display_name": "Python [conda env:Blog-nbdev]",
   "language": "python",
   "name": "conda-env-Blog-nbdev-py"
  }
 },
 "nbformat": 4,
 "nbformat_minor": 5
}
