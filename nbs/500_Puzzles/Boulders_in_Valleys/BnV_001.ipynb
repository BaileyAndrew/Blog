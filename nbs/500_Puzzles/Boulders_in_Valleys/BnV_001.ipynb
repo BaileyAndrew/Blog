{
 "cells": [
  {
   "cell_type": "raw",
   "id": "72547ae5-18e0-42a8-9544-7d739aef7833",
   "metadata": {},
   "source": [
    "---\n",
    "title: \"Boulders in Valleys 001\"\n",
    "description: \"The first Boulders in Valleys puzzle, ever.\"\n",
    "author: \"Bailey Andrew\"\n",
    "date: \"Jan 1 2023\"\n",
    "draft: false\n",
    "categories: [Standard Rules]\n",
    "---"
   ]
  },
  {
   "cell_type": "markdown",
   "id": "b6522537-9c30-4989-9363-000ba6439abe",
   "metadata": {},
   "source": [
    "<span style=\"color:#EB1960\">This puzzle was originally posted to the <a href=\"https://puzzling.stackexchange.com/questions/119206/balls-on-hills-loop-deduction-puzzle\">Puzzling Stack Exchange</a> under the name \"Balls on Hills\"</span>"
   ]
  },
  {
   "cell_type": "markdown",
   "id": "b3c639b9-e55e-4b06-8fec-0afc6be50e1f",
   "metadata": {},
   "source": [
    "## Puzzle"
   ]
  },
  {
   "cell_type": "markdown",
   "id": "12b6d8d2-e83f-4da2-910b-422f3850909f",
   "metadata": {},
   "source": [
    "![The Puzzle](./images/BnV_001.png)\n",
    "\n",
    "[Play online with Penpa](https://tinyurl.com/2mk86vla)"
   ]
  },
  {
   "cell_type": "markdown",
   "id": "04789eda-7b2d-498a-8b57-17ad8716a9fe",
   "metadata": {},
   "source": [
    "## Rules:"
   ]
  },
  {
   "cell_type": "markdown",
   "id": "a5b07458-345f-4a5c-b174-05a7d3d98802",
   "metadata": {},
   "source": [
    "### Curve Rules\n",
    "1.  The solution is a single, non-self-intersecting curve that partitions the grid into two zones (whether by looping or starting and ending at the grid boundary)\n",
    "\n",
    "2.  The curve travels along grid edges (like Slitherlink) within the grid boundary\n",
    "\n",
    "3.  There is only one curve that fits the constraints\n",
    "\n",
    "### Balls on Hills Clue Rules\n",
    "1.  There is a ball at every number. The value of the number indicates the deepest depth the ball could roll down to. It must roll down to this depth along at least one path, but it does not have to roll down to this depth along every path.\n",
    "\n",
    "2.  Arrows indicate direction of gravity for the ball.\n",
    "\n",
    "3.  Grid boundary stops the ball as if it were part of the curve.\n",
    "\n",
    "### Mechanics of Rolling Balls\n",
    "1.  A ball can roll \"down\" any corner, and fall straight \"down\" if there is no edge below it (\"down\" defined with respect to gravity).\n",
    "\n",
    "2.  A ball cannot roll \"up\" (against gravity) a wall or along two \"horizontal\" (perpendicular to gravity) segments in a row (the hill would be too shallow!).\n",
    "\n",
    "3.  Balls do not interfere with each other (i.e. they can pass through each other, overlap each other, etc)"
   ]
  },
  {
   "cell_type": "markdown",
   "id": "d05dc485-fd32-4c19-b02d-15e3974ba295",
   "metadata": {},
   "source": [
    "![Examples](./images/BnV_examples.png)"
   ]
  },
  {
   "cell_type": "markdown",
   "id": "aaba9602-dbc5-4e4f-8a8c-3cfaf7992485",
   "metadata": {},
   "source": [
    "<script src=\"https://giscus.app/client.js\"\n",
    "        data-repo=\"baileyandrew/blog\"\n",
    "        data-repo-id=\"R_kgDOInJwKg\"\n",
    "        data-category=\"Announcements\"\n",
    "        data-category-id=\"DIC_kwDOInJwKs4CTGOQ\"\n",
    "        data-mapping=\"title\"\n",
    "        data-strict=\"0\"\n",
    "        data-reactions-enabled=\"1\"\n",
    "        data-emit-metadata=\"0\"\n",
    "        data-input-position=\"top\"\n",
    "        data-theme=\"dark_protanopia\"\n",
    "        data-lang=\"en\"\n",
    "        data-loading=\"lazy\"\n",
    "        crossorigin=\"anonymous\"\n",
    "        async>\n",
    "</script>"
   ]
  }
 ],
 "metadata": {
  "kernelspec": {
   "display_name": "Python [conda env:Blog-nbdev]",
   "language": "python",
   "name": "conda-env-Blog-nbdev-py"
  }
 },
 "nbformat": 4,
 "nbformat_minor": 5
}
