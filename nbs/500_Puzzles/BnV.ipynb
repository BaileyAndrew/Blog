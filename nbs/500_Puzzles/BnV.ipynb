{
 "cells": [
  {
   "cell_type": "raw",
   "id": "b666f3eb-609b-4436-a961-74e1b6e49f23",
   "metadata": {},
   "source": [
    "---\n",
    "title: \"Boulders in Valleys\"\n",
    "description: \"An original puzzle type I invented, based on boulders rolling down hills into valleys.  It's similar to Slitherlink.\"\n",
    "author: \"Bailey Andrew\"\n",
    "date: \"Jan 1 2023\"\n",
    "draft: false\n",
    "categories: [Fun]\n",
    "listing:\n",
    "  categories: true\n",
    "  contents: Boulders_in_Valleys\n",
    "  id: bnvs\n",
    "  sort: \"date desc title\"\n",
    "  type: grid\n",
    "  fields: [title, author, image, date, categories]\n",
    "---"
   ]
  },
  {
   "cell_type": "markdown",
   "id": "032a74ae-1629-46d9-9fe8-66d12b8f8b40",
   "metadata": {},
   "source": [
    "::: {#bnvs}\n",
    ":::"
   ]
  },
  {
   "cell_type": "markdown",
   "id": "010af764-6af2-497a-b77b-e11935027495",
   "metadata": {},
   "source": [
    "# Rules\n",
    "\n",
    "## Curve Rules\n",
    "1.  The solution is a single, non-self-intersecting curve that partitions the grid into two zones (whether by looping or starting and ending at the grid boundary)\n",
    "\n",
    "2.  The curve travels along grid edges (like Slitherlink) within the grid boundary\n",
    "\n",
    "3.  There is only one curve that fits the constraints\n",
    "\n",
    "## Boulders in Valleys Clue Rules\n",
    "1.  There is a ball at every number. The value of the number indicates the deepest depth the ball could roll down to. It must roll down to this depth along at least one path, but it does not have to roll down to this depth along every path.\n",
    "\n",
    "2.  Arrows indicate direction of gravity for the ball.\n",
    "\n",
    "3.  Grid boundary stops the ball as if it were part of the curve.\n",
    "\n",
    "## Mechanics of Rolling Balls\n",
    "1.  A ball can roll \"down\" any corner, and fall straight \"down\" if there is no edge below it (\"down\" defined with respect to gravity).\n",
    "\n",
    "2.  A ball cannot roll \"up\" (against gravity) a wall or along two \"horizontal\" (perpendicular to gravity) segments in a row (the hill would be too shallow!).\n",
    "\n",
    "3.  Balls do not interfere with each other (i.e. they can pass through each other, overlap each other, etc)"
   ]
  },
  {
   "cell_type": "markdown",
   "id": "e9ecb1c1-b48c-4a99-886b-f0be36c4f65a",
   "metadata": {},
   "source": [
    "![Examples](./Boulders_in_Valleys/images/BnV_examples.png)"
   ]
  }
 ],
 "metadata": {
  "kernelspec": {
   "display_name": "Python [conda env:Blog-nbdev]",
   "language": "python",
   "name": "conda-env-Blog-nbdev-py"
  }
 },
 "nbformat": 4,
 "nbformat_minor": 5
}
