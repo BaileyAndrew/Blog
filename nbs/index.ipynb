{
 "cells": [
  {
   "cell_type": "code",
   "execution_count": null,
   "metadata": {},
   "outputs": [],
   "source": [
    "#| hide\n",
    "from Blog.core import *"
   ]
  },
  {
   "cell_type": "raw",
   "metadata": {},
   "source": [
    "---\n",
    "title: \"Home\"\n",
    "description: \"A blog, primarily\"\n",
    "listing:\n",
    "  categories: true\n",
    "  contents:\n",
    "    - \"Blog.ipynb\"\n",
    "    - \"500_Puzzles/BnV.ipynb\"\n",
    "    - \"StaticPosts.ipynb\"\n",
    "    - \"SlideshowIndex.ipynb\"\n",
    "    - \"OtherBlogs.ipynb\"\n",
    "  id: mainindex\n",
    "  type: grid\n",
    "  fields: [title, author, image, date]\n",
    "  image-placeholder: \"./images/CagedPigeon.jpg\"\n",
    "---"
   ]
  },
  {
   "cell_type": "markdown",
   "metadata": {},
   "source": [
    "Hi, I'm Bailey.  This is my website.  It's not really meant to be read - the point, rather, is to have a website that could _theoretically_ be read.  This should (hopefully) guide me towards being a better communicator, and make me more motivated to communicate in general.\n",
    "\n",
    "This is especially true for the blog posts, whose quality, quite frankly, is questionable.  However there are other aspects of this site that I am proud of, such as the puzzles - give them a try!  They're handmade and should always be able to be solved logically :)"
   ]
  },
  {
   "cell_type": "markdown",
   "metadata": {},
   "source": [
    "::: {#mainindex}\n",
    ":::"
   ]
  }
 ],
 "metadata": {
  "kernelspec": {
   "display_name": "Python 3 (ipykernel)",
   "language": "python",
   "name": "python3"
  }
 },
 "nbformat": 4,
 "nbformat_minor": 4
}
