{
 "cells": [
  {
   "cell_type": "markdown",
   "id": "6fe6a488-c077-4998-a384-092a34c44f4a",
   "metadata": {},
   "source": [
    "---\n",
    "title: \"Overview of scRNA-seq Data\"\n",
    "description: \"Fastq files, sequencers, etc\"\n",
    "author: \"Bailey Andrew\"\n",
    "date: \"Jan 5 2023\"\n",
    "draft: true\n",
    "---"
   ]
  },
  {
   "cell_type": "markdown",
   "id": "bc418ce4-2a4c-4397-b325-fcb583633ad4",
   "metadata": {},
   "source": [
    "# scRNA-seq Data"
   ]
  },
  {
   "cell_type": "markdown",
   "id": "d37e4c00-f800-4e92-9afd-a8f701fe38d6",
   "metadata": {},
   "source": [
    "I work with single-cell RNA sequencing data (scRNA-seq), but I don't really understand it...  ELI5 is that scRNA-seq data is a list of cells, each of which has a list of genes in that cell.  The goal of this blog post is to arrive at an understanding of these."
   ]
  },
  {
   "cell_type": "markdown",
   "id": "3b1e4ff0-576a-49e3-99d1-fb5ca33e8271",
   "metadata": {},
   "source": [
    "## Sequencers"
   ]
  },
  {
   "cell_type": "markdown",
   "id": "0e0e0fcb-1f3c-4a95-8914-9d6d0aa849d4",
   "metadata": {},
   "source": []
  }
 ],
 "metadata": {
  "kernelspec": {
   "display_name": "Python [conda env:Blog-nbdev]",
   "language": "python",
   "name": "conda-env-Blog-nbdev-py"
  }
 },
 "nbformat": 4,
 "nbformat_minor": 5
}
