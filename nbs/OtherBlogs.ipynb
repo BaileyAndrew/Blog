{
 "cells": [
  {
   "cell_type": "raw",
   "id": "57ceb0a0-3f3b-4fa5-a6b5-f36889bc350b",
   "metadata": {},
   "source": [
    "---\n",
    "title: \"Other People's Blogs\"\n",
    "description: \"Blogs/Websites of people I work with\"\n",
    "author: \"Bailey Andrew\"\n",
    "date: \"Jan 5 2023\"\n",
    "draft: false\n",
    "categories: [Work]\n",
    "---"
   ]
  },
  {
   "cell_type": "markdown",
   "id": "5e889dc5-90a5-4dab-9550-a83058f6383f",
   "metadata": {},
   "source": [
    "1. [Sam's Blog](https://smule11.github.io/Sam-Llanwarne-Blog/)\n",
    "2. [Mary's Website](https://mary-paterson.github.io)"
   ]
  }
 ],
 "metadata": {
  "kernelspec": {
   "display_name": "Python [conda env:Blog-nbdev]",
   "language": "python",
   "name": "conda-env-Blog-nbdev-py"
  }
 },
 "nbformat": 4,
 "nbformat_minor": 5
}
