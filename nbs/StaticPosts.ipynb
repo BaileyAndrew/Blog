{
 "cells": [
  {
   "cell_type": "raw",
   "id": "9ac5fee0-4791-46f0-a4d6-5157ce207908",
   "metadata": {},
   "source": [
    "---\n",
    "title: \"Static Posts\"\n",
    "description: \"Resources I've made to stand the test of time\"\n",
    "author: \"Bailey Andrew\"\n",
    "date: \"Jan 21 2023\"\n",
    "draft: false\n",
    "categories: [Work, Fun]\n",
    "listing:\n",
    "  categories: true\n",
    "  contents:\n",
    "    - 700_Static/*.ipynb\n",
    "    - 700_Static/*/*.ipynb\n",
    "    - 000_Blog/005_BnV/BouldersInValleysTips.ipynb\n",
    "  id: staticposts\n",
    "  sort: \"date title\"\n",
    "  type: grid\n",
    "  fields: [title, author, image, date, categories]\n",
    "  image-placeholder: \"./images/CagedPigeon.jpg\"\n",
    "---"
   ]
  },
  {
   "cell_type": "markdown",
   "id": "8a292a7f-a25f-4039-83a0-a8bb918eec5b",
   "metadata": {},
   "source": [
    "::: {#staticposts}\n",
    ":::"
   ]
  }
 ],
 "metadata": {
  "kernelspec": {
   "display_name": "Python [conda env:Blog-nbdev]",
   "language": "python",
   "name": "conda-env-Blog-nbdev-py"
  }
 },
 "nbformat": 4,
 "nbformat_minor": 5
}
